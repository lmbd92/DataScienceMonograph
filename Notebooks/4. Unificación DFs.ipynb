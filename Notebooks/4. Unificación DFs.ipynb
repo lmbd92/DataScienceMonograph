{
 "cells": [
  {
   "cell_type": "code",
   "execution_count": 11,
   "id": "d8d31996",
   "metadata": {},
   "outputs": [],
   "source": [
    "import pandas as pd\n",
    "import json\n",
    "import gzip"
   ]
  },
  {
   "cell_type": "code",
   "execution_count": 2,
   "id": "26ce9752",
   "metadata": {},
   "outputs": [],
   "source": [
    "# Leer el archivo CSV\n",
    "df1 = pd.read_csv('AMAZON_FASHION.csv')"
   ]
  },
  {
   "cell_type": "code",
   "execution_count": 24,
   "id": "1010b1a5",
   "metadata": {},
   "outputs": [],
   "source": [
    "df1['category'] = 'FASHION'"
   ]
  },
  {
   "cell_type": "code",
   "execution_count": 25,
   "id": "0ac16cf9",
   "metadata": {},
   "outputs": [
    {
     "data": {
      "text/plain": [
       "(196517, 10)"
      ]
     },
     "execution_count": 25,
     "metadata": {},
     "output_type": "execute_result"
    }
   ],
   "source": [
    "df1.shape"
   ]
  },
  {
   "cell_type": "code",
   "execution_count": 5,
   "id": "9b83681d",
   "metadata": {},
   "outputs": [
    {
     "name": "stderr",
     "output_type": "stream",
     "text": [
      "C:\\Users\\Usuario\\AppData\\Local\\Temp\\ipykernel_17192\\103475992.py:2: DtypeWarning: Columns (5) have mixed types. Specify dtype option on import or set low_memory=False.\n",
      "  df2 = pd.read_csv('Luxury_Beauty.csv')\n"
     ]
    }
   ],
   "source": [
    "# Leer el archivo CSV\n",
    "df2 = pd.read_csv('Luxury_Beauty.csv')"
   ]
  },
  {
   "cell_type": "code",
   "execution_count": 26,
   "id": "2599395c",
   "metadata": {},
   "outputs": [],
   "source": [
    "df2['category'] = 'LUXURY_BEAUTY'"
   ]
  },
  {
   "cell_type": "code",
   "execution_count": 27,
   "id": "0803935a",
   "metadata": {},
   "outputs": [
    {
     "data": {
      "text/plain": [
       "(430236, 10)"
      ]
     },
     "execution_count": 27,
     "metadata": {},
     "output_type": "execute_result"
    }
   ],
   "source": [
    "df2.shape"
   ]
  },
  {
   "cell_type": "code",
   "execution_count": 34,
   "id": "0bae9aeb",
   "metadata": {},
   "outputs": [
    {
     "data": {
      "text/html": [
       "<div>\n",
       "<style scoped>\n",
       "    .dataframe tbody tr th:only-of-type {\n",
       "        vertical-align: middle;\n",
       "    }\n",
       "\n",
       "    .dataframe tbody tr th {\n",
       "        vertical-align: top;\n",
       "    }\n",
       "\n",
       "    .dataframe thead th {\n",
       "        text-align: right;\n",
       "    }\n",
       "</style>\n",
       "<table border=\"1\" class=\"dataframe\">\n",
       "  <thead>\n",
       "    <tr style=\"text-align: right;\">\n",
       "      <th></th>\n",
       "      <th>overall</th>\n",
       "      <th>reviewerID</th>\n",
       "      <th>asin</th>\n",
       "      <th>reviewText</th>\n",
       "      <th>summary</th>\n",
       "      <th>brand</th>\n",
       "      <th>price</th>\n",
       "      <th>extracted_rank</th>\n",
       "      <th>reviewDate</th>\n",
       "      <th>category</th>\n",
       "    </tr>\n",
       "  </thead>\n",
       "  <tbody>\n",
       "    <tr>\n",
       "      <th>0</th>\n",
       "      <td>2.0</td>\n",
       "      <td>A1Q6MUU0B2ZDQG</td>\n",
       "      <td>B00004U9V2</td>\n",
       "      <td>I bought two of these 8.5 fl oz hand cream, an...</td>\n",
       "      <td>dispensers don't work</td>\n",
       "      <td>NaN</td>\n",
       "      <td>30.0</td>\n",
       "      <td>4324</td>\n",
       "      <td>2010-06-15</td>\n",
       "      <td>LUXURY_BEAUTY</td>\n",
       "    </tr>\n",
       "    <tr>\n",
       "      <th>1</th>\n",
       "      <td>2.0</td>\n",
       "      <td>A1Q6MUU0B2ZDQG</td>\n",
       "      <td>B00004U9V2</td>\n",
       "      <td>I bought two of these 8.5 fl oz hand cream, an...</td>\n",
       "      <td>dispensers don't work</td>\n",
       "      <td>NaN</td>\n",
       "      <td>30.0</td>\n",
       "      <td>4324</td>\n",
       "      <td>2010-06-15</td>\n",
       "      <td>LUXURY_BEAUTY</td>\n",
       "    </tr>\n",
       "    <tr>\n",
       "      <th>2</th>\n",
       "      <td>5.0</td>\n",
       "      <td>A3HO2SQDCZIE9S</td>\n",
       "      <td>B00004U9V2</td>\n",
       "      <td>Believe me, over the years I have tried many, ...</td>\n",
       "      <td>Best hand cream ever.</td>\n",
       "      <td>NaN</td>\n",
       "      <td>30.0</td>\n",
       "      <td>4324</td>\n",
       "      <td>2010-01-07</td>\n",
       "      <td>LUXURY_BEAUTY</td>\n",
       "    </tr>\n",
       "  </tbody>\n",
       "</table>\n",
       "</div>"
      ],
      "text/plain": [
       "   overall      reviewerID        asin  \\\n",
       "0      2.0  A1Q6MUU0B2ZDQG  B00004U9V2   \n",
       "1      2.0  A1Q6MUU0B2ZDQG  B00004U9V2   \n",
       "2      5.0  A3HO2SQDCZIE9S  B00004U9V2   \n",
       "\n",
       "                                          reviewText                summary  \\\n",
       "0  I bought two of these 8.5 fl oz hand cream, an...  dispensers don't work   \n",
       "1  I bought two of these 8.5 fl oz hand cream, an...  dispensers don't work   \n",
       "2  Believe me, over the years I have tried many, ...  Best hand cream ever.   \n",
       "\n",
       "  brand  price  extracted_rank  reviewDate       category  \n",
       "0   NaN   30.0            4324  2010-06-15  LUXURY_BEAUTY  \n",
       "1   NaN   30.0            4324  2010-06-15  LUXURY_BEAUTY  \n",
       "2   NaN   30.0            4324  2010-01-07  LUXURY_BEAUTY  "
      ]
     },
     "execution_count": 34,
     "metadata": {},
     "output_type": "execute_result"
    }
   ],
   "source": [
    "df2.head(3)"
   ]
  },
  {
   "cell_type": "code",
   "execution_count": 12,
   "id": "29f9abc6",
   "metadata": {},
   "outputs": [
    {
     "name": "stderr",
     "output_type": "stream",
     "text": [
      "IOPub data rate exceeded.\n",
      "The notebook server will temporarily stop sending output\n",
      "to the client in order to avoid crashing it.\n",
      "To change this limit, set the config variable\n",
      "`--NotebookApp.iopub_data_rate_limit`.\n",
      "\n",
      "Current values:\n",
      "NotebookApp.iopub_data_rate_limit=1000000.0 (bytes/sec)\n",
      "NotebookApp.rate_limit_window=3.0 (secs)\n",
      "\n"
     ]
    }
   ],
   "source": [
    "### Carga la data de reviews\n",
    "\n",
    "data = []\n",
    "with gzip.open('Final_Clothing_Shoes_and_Jewelry.json.gz') as f:\n",
    "    for l in f:\n",
    "        data.append(json.loads(l.strip()))\n",
    "\n",
    "# Longitud total de la lista, este numero equivale al numero total de productos\n",
    "print(len(data))\n",
    "\n",
    "# Primera fila de la lista\n",
    "print(data[0])"
   ]
  },
  {
   "cell_type": "code",
   "execution_count": 15,
   "id": "4d5fdeb4",
   "metadata": {},
   "outputs": [],
   "source": [
    "# Convierte la lista en un dataframe de pandas\n",
    "\n",
    "df3 = pd.DataFrame.from_dict(data)"
   ]
  },
  {
   "cell_type": "code",
   "execution_count": 19,
   "id": "aad69019",
   "metadata": {},
   "outputs": [],
   "source": [
    "list_of_dicts = df3.iloc[0].tolist()\n",
    "\n",
    "# Convertir la lista de diccionarios en un DataFrame\n",
    "df = pd.DataFrame(list_of_dicts)"
   ]
  },
  {
   "cell_type": "code",
   "execution_count": 28,
   "id": "3d9bfd41",
   "metadata": {},
   "outputs": [],
   "source": [
    "df['category'] = 'CLOTHING_SHOES'"
   ]
  },
  {
   "cell_type": "code",
   "execution_count": 35,
   "id": "849e0e5f",
   "metadata": {},
   "outputs": [],
   "source": [
    "#Convertir el formato de la fecha\n",
    "df['reviewDate'] = pd.to_datetime(df['reviewDate'], unit='ms')\n",
    "df['reviewDate'] = df['reviewDate'].dt.strftime('%Y-%m-%d')"
   ]
  },
  {
   "cell_type": "code",
   "execution_count": 36,
   "id": "accad578",
   "metadata": {},
   "outputs": [
    {
     "data": {
      "text/html": [
       "<div>\n",
       "<style scoped>\n",
       "    .dataframe tbody tr th:only-of-type {\n",
       "        vertical-align: middle;\n",
       "    }\n",
       "\n",
       "    .dataframe tbody tr th {\n",
       "        vertical-align: top;\n",
       "    }\n",
       "\n",
       "    .dataframe thead th {\n",
       "        text-align: right;\n",
       "    }\n",
       "</style>\n",
       "<table border=\"1\" class=\"dataframe\">\n",
       "  <thead>\n",
       "    <tr style=\"text-align: right;\">\n",
       "      <th></th>\n",
       "      <th>overall</th>\n",
       "      <th>reviewerID</th>\n",
       "      <th>asin</th>\n",
       "      <th>reviewText</th>\n",
       "      <th>summary</th>\n",
       "      <th>brand</th>\n",
       "      <th>price</th>\n",
       "      <th>extracted_rank</th>\n",
       "      <th>reviewDate</th>\n",
       "      <th>category</th>\n",
       "    </tr>\n",
       "  </thead>\n",
       "  <tbody>\n",
       "    <tr>\n",
       "      <th>0</th>\n",
       "      <td>5.0</td>\n",
       "      <td>A2IC3NZN488KWK</td>\n",
       "      <td>0871167042</td>\n",
       "      <td>This book has beautiful photos, good and under...</td>\n",
       "      <td>Unique designs</td>\n",
       "      <td>Visit Amazon's Eva M. Sherman Page</td>\n",
       "      <td>17.95</td>\n",
       "      <td>449121</td>\n",
       "      <td>2014-05-04</td>\n",
       "      <td>CLOTHING_SHOES</td>\n",
       "    </tr>\n",
       "    <tr>\n",
       "      <th>1</th>\n",
       "      <td>5.0</td>\n",
       "      <td>A30FG02C424EJ5</td>\n",
       "      <td>0871167042</td>\n",
       "      <td>Loved their approach in this book and that it ...</td>\n",
       "      <td>Great Book</td>\n",
       "      <td>Visit Amazon's Eva M. Sherman Page</td>\n",
       "      <td>17.95</td>\n",
       "      <td>449121</td>\n",
       "      <td>2014-03-31</td>\n",
       "      <td>CLOTHING_SHOES</td>\n",
       "    </tr>\n",
       "    <tr>\n",
       "      <th>2</th>\n",
       "      <td>5.0</td>\n",
       "      <td>A2G9GWQEWWNQUB</td>\n",
       "      <td>0871167042</td>\n",
       "      <td>great</td>\n",
       "      <td>Five Stars</td>\n",
       "      <td>Visit Amazon's Eva M. Sherman Page</td>\n",
       "      <td>17.95</td>\n",
       "      <td>449121</td>\n",
       "      <td>2015-05-30</td>\n",
       "      <td>CLOTHING_SHOES</td>\n",
       "    </tr>\n",
       "  </tbody>\n",
       "</table>\n",
       "</div>"
      ],
      "text/plain": [
       "   overall      reviewerID        asin  \\\n",
       "0      5.0  A2IC3NZN488KWK  0871167042   \n",
       "1      5.0  A30FG02C424EJ5  0871167042   \n",
       "2      5.0  A2G9GWQEWWNQUB  0871167042   \n",
       "\n",
       "                                          reviewText         summary  \\\n",
       "0  This book has beautiful photos, good and under...  Unique designs   \n",
       "1  Loved their approach in this book and that it ...      Great Book   \n",
       "2                                              great      Five Stars   \n",
       "\n",
       "                                brand  price  extracted_rank  reviewDate  \\\n",
       "0  Visit Amazon's Eva M. Sherman Page  17.95          449121  2014-05-04   \n",
       "1  Visit Amazon's Eva M. Sherman Page  17.95          449121  2014-03-31   \n",
       "2  Visit Amazon's Eva M. Sherman Page  17.95          449121  2015-05-30   \n",
       "\n",
       "         category  \n",
       "0  CLOTHING_SHOES  \n",
       "1  CLOTHING_SHOES  \n",
       "2  CLOTHING_SHOES  "
      ]
     },
     "execution_count": 36,
     "metadata": {},
     "output_type": "execute_result"
    }
   ],
   "source": [
    "df.head(3)"
   ]
  },
  {
   "cell_type": "code",
   "execution_count": 37,
   "id": "fdd0d59b",
   "metadata": {},
   "outputs": [],
   "source": [
    "# Unir verticalmente los DataFrames\n",
    "df_unido = pd.concat([df1, df2,df], axis=0, ignore_index=True)"
   ]
  },
  {
   "cell_type": "code",
   "execution_count": 38,
   "id": "f5357f50",
   "metadata": {},
   "outputs": [
    {
     "data": {
      "text/plain": [
       "(4800571, 10)"
      ]
     },
     "execution_count": 38,
     "metadata": {},
     "output_type": "execute_result"
    }
   ],
   "source": [
    "df_unido.shape"
   ]
  },
  {
   "cell_type": "code",
   "execution_count": 39,
   "id": "99def866",
   "metadata": {},
   "outputs": [],
   "source": [
    "# Guardar el DataFrame en un archivo CSV\n",
    "df_unido.to_csv('DataFinal_Amazon.csv', index=False)  # 'index=False' para no guardar el índice del DataFrame"
   ]
  },
  {
   "cell_type": "code",
   "execution_count": 40,
   "id": "6d93df33",
   "metadata": {},
   "outputs": [],
   "source": [
    "# Convertir el DataFrame a una cadena JSON\n",
    "json_string = df_unido.to_json(orient='records')\n",
    "\n",
    "# Comprimir y guardar el JSON como .json.gz\n",
    "with gzip.open('DataFinal_Amazon.json.gz', 'wt') as f:\n",
    "    f.write(json_string)"
   ]
  }
 ],
 "metadata": {
  "kernelspec": {
   "display_name": "Python 3 (ipykernel)",
   "language": "python",
   "name": "python3"
  },
  "language_info": {
   "codemirror_mode": {
    "name": "ipython",
    "version": 3
   },
   "file_extension": ".py",
   "mimetype": "text/x-python",
   "name": "python",
   "nbconvert_exporter": "python",
   "pygments_lexer": "ipython3",
   "version": "3.10.9"
  }
 },
 "nbformat": 4,
 "nbformat_minor": 5
}
