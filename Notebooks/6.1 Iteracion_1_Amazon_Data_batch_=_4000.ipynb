{
 "cells": [
  {
   "cell_type": "markdown",
   "metadata": {
    "id": "V-SSaV-bRZZl"
   },
   "source": [
    "# Paso 1: Importar Librerías de Python\n"
   ]
  },
  {
   "cell_type": "code",
   "execution_count": null,
   "metadata": {
    "colab": {
     "base_uri": "https://localhost:8080/"
    },
    "id": "K4mFYevMKu6y",
    "outputId": "10db655a-1308-4366-e839-6d94c709937c"
   },
   "outputs": [
    {
     "name": "stdout",
     "output_type": "stream",
     "text": [
      "Collecting scikit-surprise\n",
      "  Downloading scikit-surprise-1.1.3.tar.gz (771 kB)\n",
      "\u001b[?25l     \u001b[90m━━━━━━━━━━━━━━━━━━━━━━━━━━━━━━━━━━━━━━━━\u001b[0m \u001b[32m0.0/772.0 kB\u001b[0m \u001b[31m?\u001b[0m eta \u001b[36m-:--:--\u001b[0m\r",
      "\u001b[2K     \u001b[91m━━━━━\u001b[0m\u001b[91m╸\u001b[0m\u001b[90m━━━━━━━━━━━━━━━━━━━━━━━━━━━━━━━━━━\u001b[0m \u001b[32m112.6/772.0 kB\u001b[0m \u001b[31m3.2 MB/s\u001b[0m eta \u001b[36m0:00:01\u001b[0m\r",
      "\u001b[2K     \u001b[90m━━━━━━━━━━━━━━━━━━━━━━━━━━━━━━━━━━━━━━━━\u001b[0m \u001b[32m772.0/772.0 kB\u001b[0m \u001b[31m12.6 MB/s\u001b[0m eta \u001b[36m0:00:00\u001b[0m\n",
      "\u001b[?25h  Preparing metadata (setup.py) ... \u001b[?25l\u001b[?25hdone\n",
      "Requirement already satisfied: joblib>=1.0.0 in /usr/local/lib/python3.10/dist-packages (from scikit-surprise) (1.3.2)\n",
      "Requirement already satisfied: numpy>=1.17.3 in /usr/local/lib/python3.10/dist-packages (from scikit-surprise) (1.23.5)\n",
      "Requirement already satisfied: scipy>=1.3.2 in /usr/local/lib/python3.10/dist-packages (from scikit-surprise) (1.11.3)\n",
      "Building wheels for collected packages: scikit-surprise\n",
      "  Building wheel for scikit-surprise (setup.py) ... \u001b[?25l\u001b[?25hdone\n",
      "  Created wheel for scikit-surprise: filename=scikit_surprise-1.1.3-cp310-cp310-linux_x86_64.whl size=3163342 sha256=ba3ad24f99225974c01849c0408fcca9d5e04bfc075d788b912c7abe9f16d28a\n",
      "  Stored in directory: /root/.cache/pip/wheels/a5/ca/a8/4e28def53797fdc4363ca4af740db15a9c2f1595ebc51fb445\n",
      "Successfully built scikit-surprise\n",
      "Installing collected packages: scikit-surprise\n",
      "Successfully installed scikit-surprise-1.1.3\n"
     ]
    }
   ],
   "source": [
    "#pip install scikit-surprise"
   ]
  },
  {
   "cell_type": "code",
   "execution_count": null,
   "metadata": {
    "id": "47ItRxlORZ9i"
   },
   "outputs": [],
   "source": [
    "import pandas as pd\n",
    "import numpy as np\n",
    "import matplotlib.pyplot as plt\n",
    "import seaborn as sns\n",
    "from datetime import datetime\n",
    "from google.colab import drive\n",
    "\n",
    "from sklearn.metrics.pairwise import cosine_similarity\n",
    "from surprise import SVD, Reader, Dataset, accuracy\n",
    "from surprise.model_selection import train_test_split\n",
    "from sklearn.metrics import mean_squared_error, mean_absolute_error\n",
    "from sklearn.model_selection import train_test_split\n",
    "\n",
    "from keras.models import Model\n",
    "from keras.layers import Input, Embedding, Flatten, Concatenate, Dense, Dropout, Dot\n",
    "from keras.optimizers import Adam\n",
    "from sklearn.preprocessing import LabelEncoder"
   ]
  },
  {
   "cell_type": "code",
   "execution_count": null,
   "metadata": {
    "colab": {
     "base_uri": "https://localhost:8080/"
    },
    "id": "8bHcBRlQYY4h",
    "outputId": "15d8e8ca-887a-4601-ea67-2a90cee4d69f"
   },
   "outputs": [
    {
     "name": "stdout",
     "output_type": "stream",
     "text": [
      "Mounted at /content/drive\n"
     ]
    }
   ],
   "source": [
    "drive.mount('/content/drive')"
   ]
  },
  {
   "cell_type": "markdown",
   "metadata": {
    "id": "209f_YHQRaCi"
   },
   "source": [
    "# Paso 2: Lectura del Dataset"
   ]
  },
  {
   "cell_type": "code",
   "execution_count": null,
   "metadata": {
    "colab": {
     "base_uri": "https://localhost:8080/"
    },
    "id": "9vIFqmMIRaIc",
    "outputId": "4a8865c5-c3eb-40e0-e648-ec5f2d797818"
   },
   "outputs": [
    {
     "name": "stderr",
     "output_type": "stream",
     "text": [
      "<ipython-input-4-1f8e3361d82a>:2: DtypeWarning: Columns (5) have mixed types. Specify dtype option on import or set low_memory=False.\n",
      "  df = pd.read_csv('/content/drive/MyDrive/EspecializacionA&DS/Monografia/2doSemestre/DataFinal_Amazon.csv')  # Descomenta y proporciona la ruta si estás cargando un archivo CSV\n"
     ]
    }
   ],
   "source": [
    "df = pd.read_csv('/content/drive/MyDrive/EspecializacionA&DS/Monografia/2doSemestre/DataFinal_Amazon.csv')"
   ]
  },
  {
   "cell_type": "code",
   "execution_count": null,
   "metadata": {
    "id": "Wf7UvGiWs2LI"
   },
   "outputs": [],
   "source": [
    "# Eliminemos posibles duplicados:\n",
    "df = df.drop_duplicates()"
   ]
  },
  {
   "cell_type": "code",
   "execution_count": null,
   "metadata": {
    "colab": {
     "base_uri": "https://localhost:8080/"
    },
    "id": "LwnA5HnLr8r6",
    "outputId": "699cf2af-a6cd-44ef-ec70-e05a0bb53e1e"
   },
   "outputs": [
    {
     "data": {
      "text/plain": [
       "(4641903, 10)"
      ]
     },
     "execution_count": 7,
     "metadata": {},
     "output_type": "execute_result"
    }
   ],
   "source": [
    "df.shape"
   ]
  },
  {
   "cell_type": "markdown",
   "metadata": {
    "id": "mxZN3FMBKeKK"
   },
   "source": [
    "# Modelo de Filtrado Colaborativo usando SVD\n",
    "\n",
    "Utilizaremos SVD para hacer recomendaciones basadas en interacciones pasadas.\n"
   ]
  },
  {
   "cell_type": "markdown",
   "metadata": {
    "id": "2XrvAbzJn7RK"
   },
   "source": [
    "Funcionamiento:\n",
    "\n",
    "SVD es una técnica matemática que descompone una matriz en tres matrices más pequeñas: U, Σ y V*. En el contexto de sistemas de recomendación, se usa para factorizar la matriz de usuario-ítem en componentes latentes, capturando patrones subyacentes en los datos.\n",
    "\n",
    "Ventajas:\n",
    "\n",
    "Es matemáticamente robusto y ha sido una técnica establecida durante mucho tiempo.\n",
    "\n",
    "Puede capturar relaciones no evidentes en los datos.\n",
    "\n",
    "Reducción de dimensionalidad: al capturar la esencia de los datos en factores latentes, se puede trabajar con dimensiones reducidas.\n",
    "\n",
    "Desventajas:\n",
    "\n",
    "No maneja bien datos faltantes. La matriz de usuario-ítem suele ser dispersa, y el SVD estándar no se diseñó para manejar matrices con muchos valores faltantes.\n",
    "\n",
    "Puede ser computacionalmente costoso para matrices muy grandes."
   ]
  },
  {
   "cell_type": "code",
   "execution_count": null,
   "metadata": {
    "colab": {
     "base_uri": "https://localhost:8080/"
    },
    "id": "V8EsHgJSOI-8",
    "outputId": "38e0399b-e9a6-4edb-a55f-87831f7a5190"
   },
   "outputs": [
    {
     "name": "stdout",
     "output_type": "stream",
     "text": [
      "RMSE: 1.0861\n",
      "SVD - RMSE: 1.0861342446627054, MSE: 1.1796875974290253, MAE: 0.8189192991254555, MAPE: 33.93144862604744\n"
     ]
    }
   ],
   "source": [
    "# Leer y procesar datos\n",
    "reader = Reader()\n",
    "data = Dataset.load_from_df(df[['reviewerID', 'asin', 'overall']], reader)\n",
    "\n",
    "# Dividir el dataset\n",
    "from surprise.model_selection import train_test_split\n",
    "\n",
    "trainset, testset = train_test_split(data, test_size=0.3, random_state=10)\n",
    "\n",
    "# Entrenar el modelo SVD\n",
    "svd = SVD()\n",
    "svd.fit(trainset)\n",
    "predictions_svd = svd.test(testset)\n",
    "\n",
    "# Función para calcular el Mean Absolute Percentage Error (MAPE)\n",
    "def mape(y_true, y_pred):\n",
    "    y_true, y_pred = np.array(y_true), np.array(y_pred)\n",
    "    return np.mean(np.abs((y_true - y_pred) / y_true)) * 100\n",
    "\n",
    "# Evaluar el modelo\n",
    "rmse_svd = accuracy.rmse(predictions_svd, verbose=True)\n",
    "mse_svd = mean_squared_error([pred.r_ui for pred in predictions_svd], [pred.est for pred in predictions_svd])\n",
    "mae_svd = mean_absolute_error([pred.r_ui for pred in predictions_svd], [pred.est for pred in predictions_svd])\n",
    "mape_svd = mape([pred.r_ui for pred in predictions_svd], [pred.est for pred in predictions_svd])\n",
    "\n",
    "print(f\"SVD - RMSE: {rmse_svd}, MSE: {mse_svd}, MAE: {mae_svd}, MAPE: {mape_svd}\")\n"
   ]
  },
  {
   "cell_type": "markdown",
   "metadata": {
    "id": "5lMsQcyyS2NS"
   },
   "source": [
    "# Modelo de Filtrado Colaborativo usando Embedding con Keras:"
   ]
  },
  {
   "cell_type": "markdown",
   "metadata": {
    "id": "yQ49x7CvmOfM"
   },
   "source": [
    "Funcionamiento:\n",
    "\n",
    "Los embeddings son representaciones vectoriales densas y de baja dimensión de ítems y/o usuarios. Estas representaciones capturan relaciones semánticas entre ítems o entre usuarios.\n",
    "\n",
    "Un método popular para generar embeddings es la factorización de matrices, como la descomposición en valores singulares (SVD). En el contexto de sistemas de recomendación, se busca factorizar la matriz de interacciones usuario-ítem en dos matrices más pequeñas (una para los usuarios y otra para los ítems) cuyo producto aproximado reproduce la matriz original lo mejor posible.\n",
    "\n",
    "Una vez que se han obtenido los embeddings, la predicción de una calificación o interacción entre un usuario e ítem se realiza tomando el producto escalar entre sus embeddings respectivos.\n",
    "\n",
    "Ventajas:\n",
    "\n",
    "Simplicidad y eficiencia en términos computacionales.\n",
    "\n",
    "Puede manejar grandes conjuntos de datos debido a su naturaleza de baja dimensión.\n",
    "\n",
    "Es efectivo para capturar patrones subyacentes en los datos.\n",
    "\n",
    "Desventajas:\n",
    "\n",
    "No tiene en cuenta características adicionales de usuarios o ítems.\n",
    "\n",
    "Dificultades para manejar nuevos ítems o usuarios (problema de arranque en frío)."
   ]
  },
  {
   "cell_type": "code",
   "execution_count": null,
   "metadata": {
    "id": "3oQAn6BZT8ZB"
   },
   "outputs": [],
   "source": [
    "data = df"
   ]
  },
  {
   "cell_type": "code",
   "execution_count": null,
   "metadata": {
    "id": "22AEmdhqU9vC"
   },
   "outputs": [],
   "source": [
    "# Crear un LabelEncoder para cada columna\n",
    "reviewerID_encoder = LabelEncoder()\n",
    "asin_encoder = LabelEncoder()\n",
    "\n",
    "# Ajustar y transformar las columnas\n",
    "data['reviewerID_encoded'] = reviewerID_encoder.fit_transform(data['reviewerID'])\n",
    "data['asin_encoded'] = asin_encoder.fit_transform(data['asin'])\n",
    "\n",
    "# Número de usuarios únicos y número de ítems únicos\n",
    "n_users = len(np.unique(data['reviewerID_encoded']))\n",
    "n_items = len(np.unique(data['asin_encoded']))\n",
    "\n",
    "# Dimensiones del embedding\n",
    "embedding_dim = 10\n",
    "\n",
    "# Entradas\n",
    "user_input = Input(shape=(1,))\n",
    "item_input = Input(shape=(1,))\n",
    "\n",
    "# Embeddings\n",
    "user_embedding = Embedding(n_users, embedding_dim)(user_input)\n",
    "item_embedding = Embedding(n_items, embedding_dim)(item_input)\n",
    "\n",
    "# Producto punto para predecir la valoración/rating\n",
    "merged = Dot(axes=2)([user_embedding, item_embedding])\n",
    "merged = Flatten()(merged)\n",
    "\n",
    "# Modelo\n",
    "model = Model(inputs=[user_input, item_input], outputs=merged)\n",
    "model.compile(optimizer='adam', loss='mse', metrics=['mae'])"
   ]
  },
  {
   "cell_type": "markdown",
   "metadata": {
    "id": "ZN3t1PGSYEzR"
   },
   "source": [
    "verbose=0: No muestra ninguna barra de progreso ni métricas.\n",
    "\n",
    "verbose=1: Muestra una barra de progreso y actualiza las métricas después de cada lote.\n",
    "\n",
    "verbose=2: Muestra las métricas después de cada época, pero no muestra la barra de progreso."
   ]
  },
  {
   "cell_type": "code",
   "execution_count": null,
   "metadata": {
    "id": "J3n02-vPg5wh"
   },
   "outputs": [],
   "source": [
    "from sklearn.model_selection import train_test_split\n",
    "\n",
    "# Crear los arrays con los datos\n",
    "user_ids = data['reviewerID_encoded'].values\n",
    "item_ids = data['asin_encoded'].values\n",
    "ratings = data['overall'].values\n",
    "\n",
    "# Dividir en train y test\n",
    "(user_ids_train, user_ids_test, item_ids_train, item_ids_test, ratings_train, ratings_test) = train_test_split(\n",
    "    user_ids, item_ids, ratings,test_size=0.3,random_state=42)"
   ]
  },
  {
   "cell_type": "code",
   "execution_count": null,
   "metadata": {
    "colab": {
     "base_uri": "https://localhost:8080/"
    },
    "id": "jOiSfVMfg5tw",
    "outputId": "a0592f13-1dea-4c74-9611-a43b9cc977be"
   },
   "outputs": [
    {
     "name": "stdout",
     "output_type": "stream",
     "text": [
      "Epoch 1/10\n",
      "813/813 [==============================] - 32s 33ms/step - loss: 19.4849 - mae: 4.2572\n",
      "Epoch 2/10\n",
      "813/813 [==============================] - 8s 10ms/step - loss: 19.1774 - mae: 4.2177\n",
      "Epoch 3/10\n",
      "813/813 [==============================] - 6s 8ms/step - loss: 18.2998 - mae: 4.0964\n",
      "Epoch 4/10\n",
      "813/813 [==============================] - 6s 7ms/step - loss: 16.8893 - mae: 3.8996\n",
      "Epoch 5/10\n",
      "813/813 [==============================] - 6s 7ms/step - loss: 15.1574 - mae: 3.6470\n",
      "Epoch 6/10\n",
      "813/813 [==============================] - 5s 6ms/step - loss: 13.3440 - mae: 3.3628\n",
      "Epoch 7/10\n",
      "813/813 [==============================] - 5s 6ms/step - loss: 11.5984 - mae: 3.0683\n",
      "Epoch 8/10\n",
      "813/813 [==============================] - 5s 6ms/step - loss: 9.9977 - mae: 2.7775\n",
      "Epoch 9/10\n",
      "813/813 [==============================] - 5s 6ms/step - loss: 8.5730 - mae: 2.5013\n",
      "Epoch 10/10\n",
      "813/813 [==============================] - 5s 7ms/step - loss: 7.3265 - mae: 2.2457\n"
     ]
    },
    {
     "data": {
      "text/plain": [
       "<keras.src.callbacks.History at 0x7c14d2608d60>"
      ]
     },
     "execution_count": 15,
     "metadata": {},
     "output_type": "execute_result"
    }
   ],
   "source": [
    "# Entrenar el modelo con el conjunto de entrenamiento\n",
    "model.fit([user_ids_train, item_ids_train], ratings_train, epochs=10, batch_size=4000, verbose=1)"
   ]
  },
  {
   "cell_type": "code",
   "execution_count": null,
   "metadata": {
    "colab": {
     "base_uri": "https://localhost:8080/"
    },
    "id": "SMJd_nt7g5h4",
    "outputId": "ca8b7815-58e7-43a5-fba1-c38e8a657fa1"
   },
   "outputs": [
    {
     "name": "stdout",
     "output_type": "stream",
     "text": [
      "349/349 [==============================] - 1s 2ms/step - loss: 17.2334 - mae: 3.7652\n",
      "Test Loss: 17.2334\n",
      "Test MAE: 3.7652\n"
     ]
    }
   ],
   "source": [
    "# Evaluar el modelo con el conjunto de prueba\n",
    "loss, mae = model.evaluate([user_ids_test, item_ids_test], ratings_test, batch_size=4000)\n",
    "print(f'Test Loss: {loss:.4f}')\n",
    "print(f'Test MAE: {mae:.4f}')"
   ]
  },
  {
   "cell_type": "code",
   "execution_count": null,
   "metadata": {
    "colab": {
     "base_uri": "https://localhost:8080/"
    },
    "id": "V-mutQWdqMDO",
    "outputId": "3879656c-42fb-448a-acf4-46eee3d45c5e"
   },
   "outputs": [
    {
     "name": "stdout",
     "output_type": "stream",
     "text": [
      "43518/43518 [==============================] - 51s 1ms/step\n"
     ]
    }
   ],
   "source": [
    "predictions = model.predict([user_ids_test, item_ids_test])"
   ]
  },
  {
   "cell_type": "code",
   "execution_count": null,
   "metadata": {
    "colab": {
     "base_uri": "https://localhost:8080/"
    },
    "id": "USnKRkm0KCdW",
    "outputId": "8eb14c14-e2c5-481f-dc6c-06b6e4aa354f"
   },
   "outputs": [
    {
     "name": "stdout",
     "output_type": "stream",
     "text": [
      "MSE: 17.2334\n",
      "RMSE: 4.1513\n",
      "MAE: 3.7652\n",
      "MAPE: 88.75%\n"
     ]
    }
   ],
   "source": [
    "# MSE\n",
    "mse = mean_squared_error(ratings_test, predictions)\n",
    "print(f\"MSE: {mse:.4f}\")\n",
    "\n",
    "# RMSE\n",
    "rmse = np.sqrt(mse)\n",
    "print(f\"RMSE: {rmse:.4f}\")\n",
    "\n",
    "# MAE\n",
    "mae = mean_absolute_error(ratings_test, predictions)\n",
    "print(f\"MAE: {mae:.4f}\")\n",
    "\n",
    "# MAPE (Mean Absolute Percentage Error)\n",
    "mape = np.mean(np.abs((ratings_test - predictions.flatten()) / ratings_test)) * 100\n",
    "print(f\"MAPE: {mape:.2f}%\")"
   ]
  },
  {
   "cell_type": "markdown",
   "metadata": {
    "id": "odgbIWArkJ2y"
   },
   "source": [
    "# Modelo de Filtrado Colaborativo usando Red Neuronal Multicapa con Keras:"
   ]
  },
  {
   "cell_type": "markdown",
   "metadata": {
    "id": "vBK_zPK7lvti"
   },
   "source": [
    "Funcionamiento:\n",
    "\n",
    "Estos sistemas toman características de los ítems y/o usuarios y las pasan a través de una o varias capas de neuronas para obtener una predicción.\n",
    "Las redes neuronales son capaces de capturar interacciones no lineales entre características, lo que las hace poderosas para tareas de modelado complejas.\n",
    "\n",
    "Ventajas:\n",
    "\n",
    "Capacidad de modelar relaciones no lineales.\n",
    "\n",
    "Flexibilidad para incorporar múltiples fuentes de datos o características.\n",
    "\n",
    "Puede manejar arranques en frío al incorporar características de nuevos ítems o usuarios.\n",
    "\n",
    "Desventajas:\n",
    "\n",
    "Mayor costo computacional en comparación con los sistemas basados únicamente en embeddings.\n",
    "\n",
    "Riesgo de sobreajuste si no se tiene un conjunto de datos lo suficientemente grande."
   ]
  },
  {
   "cell_type": "code",
   "execution_count": null,
   "metadata": {
    "id": "ZFgVZSeTkKGy"
   },
   "outputs": [],
   "source": [
    "# Convertir reviewerID y asin a índices numéricos secuenciales\n",
    "df['user_id'] = df['reviewerID'].astype('category').cat.codes.values\n",
    "df['item_id'] = df['asin'].astype('category').cat.codes.values\n",
    "\n",
    "# Número de usuarios e ítems\n",
    "n_users = df['user_id'].nunique()\n",
    "n_items = df['item_id'].nunique()\n",
    "\n",
    "# Hiperparámetros\n",
    "hidden_units = [128, 64, 32]  # Unidades en las capas ocultas\n",
    "dropout_rate = 0.2\n",
    "\n",
    "# Arquitectura del modelo\n",
    "user_input = Input(shape=[1], name='user_input')\n",
    "item_input = Input(shape=[1], name='item_input')\n",
    "concat = Concatenate()([user_input, item_input])\n",
    "dense = concat\n",
    "for units in hidden_units:\n",
    "    dense = Dense(units, activation='relu')(dense)\n",
    "    dense = Dropout(dropout_rate)(dense)\n",
    "output = Dense(1)(dense)\n",
    "model = Model(inputs=[user_input, item_input], outputs=output)\n",
    "model.compile(optimizer=Adam(0.001), loss='mean_squared_error')"
   ]
  },
  {
   "cell_type": "code",
   "execution_count": null,
   "metadata": {
    "colab": {
     "base_uri": "https://localhost:8080/"
    },
    "id": "blU4Q9akkVBc",
    "outputId": "fb7c08c7-8d31-4469-ed19-bd1c829f3e6f"
   },
   "outputs": [
    {
     "name": "stdout",
     "output_type": "stream",
     "text": [
      "Epoch 1/10\n",
      "813/813 [==============================] - 5s 4ms/step - loss: 302733056.0000 - val_loss: 19.2461\n",
      "Epoch 2/10\n",
      "813/813 [==============================] - 3s 4ms/step - loss: 305753.3125 - val_loss: 19.2432\n",
      "Epoch 3/10\n",
      "813/813 [==============================] - 3s 4ms/step - loss: 30209.6914 - val_loss: 19.2362\n",
      "Epoch 4/10\n",
      "813/813 [==============================] - 3s 4ms/step - loss: 17193.7656 - val_loss: 19.2246\n",
      "Epoch 5/10\n",
      "813/813 [==============================] - 3s 4ms/step - loss: 14624.3770 - val_loss: 19.2057\n",
      "Epoch 6/10\n",
      "813/813 [==============================] - 3s 4ms/step - loss: 8790.5049 - val_loss: 19.1775\n",
      "Epoch 7/10\n",
      "813/813 [==============================] - 3s 4ms/step - loss: 5222.7158 - val_loss: 19.1349\n",
      "Epoch 8/10\n",
      "813/813 [==============================] - 3s 4ms/step - loss: 3436.1807 - val_loss: 19.0714\n",
      "Epoch 9/10\n",
      "813/813 [==============================] - 3s 4ms/step - loss: 2492.4600 - val_loss: 18.9764\n",
      "Epoch 10/10\n",
      "813/813 [==============================] - 3s 4ms/step - loss: 1412.6520 - val_loss: 18.8349\n",
      "43518/43518 [==============================] - 57s 1ms/step\n"
     ]
    }
   ],
   "source": [
    "# Entrenamiento\n",
    "user_data = df['user_id'].values\n",
    "item_data = df['item_id'].values\n",
    "rating_data = df['overall'].values\n",
    "\n",
    "# Usando validation_split, divide los datos\n",
    "from sklearn.model_selection import train_test_split\n",
    "\n",
    "train_size = int(0.7 * len(user_data))\n",
    "user_data_train, user_data_val = user_data[:train_size], user_data[train_size:]\n",
    "item_data_train, item_data_val = item_data[:train_size], item_data[train_size:]\n",
    "y_true = rating_data[train_size:]\n",
    "\n",
    "history = model.fit([user_data_train, item_data_train], rating_data[:train_size],\n",
    "                    epochs=10, validation_data=([user_data_val, item_data_val], y_true),\n",
    "                    batch_size=4000, verbose=1)"
   ]
  },
  {
   "cell_type": "code",
   "execution_count": null,
   "metadata": {
    "id": "lRg_-NZEryEf"
   },
   "outputs": [],
   "source": [
    "# Predicciones\n",
    "predictions = model.predict([user_data_val, item_data_val])"
   ]
  },
  {
   "cell_type": "code",
   "execution_count": null,
   "metadata": {
    "colab": {
     "base_uri": "https://localhost:8080/"
    },
    "id": "CmYiE_PhkU66",
    "outputId": "48a3a0d9-3185-4ad6-fecd-753358addc3c"
   },
   "outputs": [
    {
     "name": "stdout",
     "output_type": "stream",
     "text": [
      "MSE: 18.834892144639838\n",
      "RMSE: 4.339918449077106\n",
      "MAE: 4.178538566833326\n",
      "MAPE: 98.40728558645797%\n"
     ]
    }
   ],
   "source": [
    "# MSE y RMSE\n",
    "mse = mean_squared_error(y_true, predictions)\n",
    "rmse = np.sqrt(mse)\n",
    "\n",
    "# MAE\n",
    "mae = mean_absolute_error(y_true, predictions)\n",
    "\n",
    "# Funciones MAPE\n",
    "def mean_absolute_percentage_error(y_true, y_pred):\n",
    "    y_true, y_pred = np.array(y_true), np.array(y_pred)\n",
    "    non_zero_idx = y_true != 0  # Para evitar divisiones por cero\n",
    "    return np.mean(np.abs((y_true[non_zero_idx] - y_pred[non_zero_idx]) / y_true[non_zero_idx])) * 100\n",
    "\n",
    "def compute_mape_by_batch(y_true, predictions, batch_size=50000):\n",
    "    mape_sum = 0\n",
    "    num_batches = int(np.ceil(len(y_true) / batch_size))\n",
    "\n",
    "    for i in range(num_batches):\n",
    "        start_idx = i * batch_size\n",
    "        end_idx = start_idx + batch_size\n",
    "\n",
    "        batch_y_true = y_true[start_idx:end_idx]\n",
    "        batch_predictions = predictions[start_idx:end_idx]\n",
    "\n",
    "        mape_sum += mean_absolute_percentage_error(batch_y_true, batch_predictions)\n",
    "\n",
    "    return mape_sum / num_batches\n",
    "\n",
    "# Luego llamas a la función\n",
    "mape = compute_mape_by_batch(y_true, predictions)\n",
    "\n",
    "print(f'MSE: {mse}')\n",
    "print(f'RMSE: {rmse}')\n",
    "print(f'MAE: {mae}')\n",
    "print(f'MAPE: {mape}%')"
   ]
  },
  {
   "cell_type": "markdown",
   "metadata": {
    "id": "WTOAZeGrujrU"
   },
   "source": [
    "# Modelo de Filtrado Colaborativo usando Red Neuronal Multicapa y Embedding con Keras:\n",
    "\n",
    "Este enfoque, que combina embeddings y redes neuronales multicapa, puede capturar interacciones más complejas y no lineales entre usuarios y artículos. Sin embargo, es crucial prestar atención al sobreajuste y asegurarse de que el modelo no esté simplemente memorizando los datos. Por lo tanto, es recomendable emplear técnicas de regularización, ajustar hiperparámetros y validar el rendimiento con un conjunto de datos de validación."
   ]
  },
  {
   "cell_type": "markdown",
   "metadata": {
    "id": "i3Rzzhtfl7nK"
   },
   "source": [
    "Funcionamiento:\n",
    "\n",
    "Combina lo mejor de ambos mundos. Primero, se utilizan embeddings para convertir ítems y usuarios en representaciones vectoriales densas. Luego, estas representaciones se pasan a través de una red neuronal para hacer la predicción.\n",
    "\n",
    "El proceso generalmente comienza con capas de embedding que convierten identificadores de usuarios e ítems en vectores. Estos vectores luego se pasan a través de capas densas para obtener la predicción final.\n",
    "\n",
    "Ventajas:\n",
    "\n",
    "Capacidad de capturar patrones subyacentes en los datos mediante embeddings y modelar interacciones no lineales mediante la red neuronal.\n",
    "\n",
    "Flexibilidad para incorporar características adicionales.\n",
    "\n",
    "Potencialmente más preciso que cualquiera de los otros dos métodos por separado.\n",
    "\n",
    "Desventajas:\n",
    "\n",
    "Mayor complejidad en el modelado y entrenamiento.\n",
    "\n",
    "Mayor costo computacional.\n",
    "\n",
    "Requiere un ajuste más cuidadoso y riesgo de sobreajuste si no se gestiona adecuadamente."
   ]
  },
  {
   "cell_type": "code",
   "execution_count": null,
   "metadata": {
    "id": "zVRB5utBuqzB"
   },
   "outputs": [],
   "source": [
    "# Convertir reviewerID y asin a índices numéricos secuenciales\n",
    "df['user_id'] = df['reviewerID'].astype('category').cat.codes.values\n",
    "df['item_id'] = df['asin'].astype('category').cat.codes.values\n",
    "\n",
    "# Número de usuarios e ítems\n",
    "n_users = df['user_id'].nunique()\n",
    "n_items = df['item_id'].nunique()\n",
    "\n",
    "# Hiperparámetros\n",
    "n_latent_factors = 50  # Número de factores latentes\n",
    "hidden_units = [128, 64]  # Unidades en las capas ocultas\n",
    "dropout_rate = 0.2\n",
    "\n",
    "# Arquitectura del modelo\n",
    "user_input = Input(shape=[1], name='user_input')\n",
    "item_input = Input(shape=[1], name='item_input')\n",
    "user_embedding = Embedding(n_users, n_latent_factors, name='user_embedding')(user_input)\n",
    "item_embedding = Embedding(n_items, n_latent_factors, name='item_embedding')(item_input)\n",
    "user_vec = Flatten(name='flatten_users')(user_embedding)\n",
    "item_vec = Flatten(name='flatten_items')(item_embedding)\n",
    "concat = Concatenate()([user_vec, item_vec])\n",
    "dense = concat\n",
    "for units in hidden_units:\n",
    "    dense = Dense(units, activation='relu')(dense)\n",
    "    dense = Dropout(dropout_rate)(dense)\n",
    "output = Dense(1)(dense)\n",
    "model = Model(inputs=[user_input, item_input], outputs=output)\n",
    "model.compile(optimizer=Adam(0.001), loss='mean_squared_error')"
   ]
  },
  {
   "cell_type": "code",
   "execution_count": null,
   "metadata": {
    "colab": {
     "base_uri": "https://localhost:8080/"
    },
    "id": "XJfWiirYxHwk",
    "outputId": "c6825e35-6b22-41f2-d0ec-2b037980a7a2"
   },
   "outputs": [
    {
     "name": "stdout",
     "output_type": "stream",
     "text": [
      "Epoch 1/10\n",
      "813/813 [==============================] - 41s 48ms/step - loss: 2.3008 - val_loss: 1.3991\n",
      "Epoch 2/10\n",
      "813/813 [==============================] - 19s 23ms/step - loss: 1.1492 - val_loss: 1.4417\n",
      "Epoch 3/10\n",
      "813/813 [==============================] - 18s 22ms/step - loss: 0.9029 - val_loss: 1.5166\n",
      "Epoch 4/10\n",
      "813/813 [==============================] - 18s 22ms/step - loss: 0.7663 - val_loss: 1.5610\n",
      "Epoch 5/10\n",
      "813/813 [==============================] - 17s 21ms/step - loss: 0.6567 - val_loss: 1.6563\n",
      "Epoch 6/10\n",
      "813/813 [==============================] - 17s 21ms/step - loss: 0.5380 - val_loss: 1.8310\n",
      "Epoch 7/10\n",
      "813/813 [==============================] - 17s 21ms/step - loss: 0.4183 - val_loss: 1.9500\n",
      "Epoch 8/10\n",
      "813/813 [==============================] - 17s 21ms/step - loss: 0.3214 - val_loss: 2.0794\n",
      "Epoch 9/10\n",
      "813/813 [==============================] - 17s 21ms/step - loss: 0.2483 - val_loss: 2.1527\n",
      "Epoch 10/10\n",
      "813/813 [==============================] - 17s 21ms/step - loss: 0.1935 - val_loss: 2.2137\n",
      "43518/43518 [==============================] - 59s 1ms/step\n"
     ]
    }
   ],
   "source": [
    "# Entrenamiento\n",
    "user_data = df['user_id'].values\n",
    "item_data = df['item_id'].values\n",
    "rating_data = df['overall'].values\n",
    "\n",
    "# Usando validation_split, divide los datos\n",
    "train_size = int(0.7 * len(user_data))\n",
    "user_data_train, user_data_val = user_data[:train_size], user_data[train_size:]\n",
    "item_data_train, item_data_val = item_data[:train_size], item_data[train_size:]\n",
    "y_true = rating_data[train_size:]\n",
    "\n",
    "history = model.fit([user_data_train, item_data_train], rating_data[:train_size],\n",
    "                    epochs=10, validation_data=([user_data_val, item_data_val], y_true),\n",
    "                    batch_size=4000, verbose=1)\n",
    "\n",
    "# Predicciones\n",
    "predictions = model.predict([user_data_val, item_data_val])"
   ]
  },
  {
   "cell_type": "code",
   "execution_count": null,
   "metadata": {
    "colab": {
     "base_uri": "https://localhost:8080/"
    },
    "id": "w1BY-Sd0xJtc",
    "outputId": "f167d166-f146-4bf7-aef9-b8514d4af0f6"
   },
   "outputs": [
    {
     "name": "stdout",
     "output_type": "stream",
     "text": [
      "MSE: 2.213747401951546\n",
      "RMSE: 1.487866728558558\n",
      "MAE: 1.1523773977841831\n",
      "MAPE: 43.173882469067166%\n"
     ]
    }
   ],
   "source": [
    "# MSE y RMSE\n",
    "mse = mean_squared_error(y_true, predictions)\n",
    "rmse = np.sqrt(mse)\n",
    "\n",
    "# MAE\n",
    "mae = mean_absolute_error(y_true, predictions)\n",
    "\n",
    "# MAPE\n",
    "def mean_absolute_percentage_error(y_true, y_pred):\n",
    "    y_true, y_pred = np.array(y_true), np.array(y_pred)\n",
    "    non_zero_idx = y_true != 0  # Para evitar divisiones por cero\n",
    "    return np.mean(np.abs((y_true[non_zero_idx] - y_pred[non_zero_idx]) / y_true[non_zero_idx])) * 100\n",
    "\n",
    "def compute_mape_by_batch(y_true, predictions, batch_size=50000):\n",
    "    mape_sum = 0\n",
    "    num_batches = int(np.ceil(len(y_true) / batch_size))\n",
    "\n",
    "    for i in range(num_batches):\n",
    "        start_idx = i * batch_size\n",
    "        end_idx = start_idx + batch_size\n",
    "\n",
    "        batch_y_true = y_true[start_idx:end_idx]\n",
    "        batch_predictions = predictions[start_idx:end_idx]\n",
    "\n",
    "        mape_sum += mean_absolute_percentage_error(batch_y_true, batch_predictions)\n",
    "\n",
    "    return mape_sum / num_batches\n",
    "\n",
    "# Luego llamas a la función\n",
    "mape = compute_mape_by_batch(y_true, predictions)\n",
    "\n",
    "print(f'MSE: {mse}')\n",
    "print(f'RMSE: {rmse}')\n",
    "print(f'MAE: {mae}')\n",
    "print(f'MAPE: {mape}%')"
   ]
  },
  {
   "cell_type": "markdown",
   "metadata": {
    "id": "YopA3D2Sw8AO"
   },
   "source": [
    "Estas métricas te ayudarán a tener una mejor idea del desempeño de tu modelo. Por ejemplo:\n",
    "\n",
    "MSE y RMSE son útiles cuando quieres penalizar grandes errores.\n",
    "\n",
    "MAE te da una idea del error medio sin considerar la dirección del error.\n",
    "\n",
    "MAPE es útil cuando quieres representar el error en términos porcentuales.\n",
    "\n",
    "Para una evaluación completa, es recomendable utilizar un conjunto de validación aparte (es decir, no solo depender del validation_split). Esto asegura que estás evaluando el desempeño en datos que el modelo nunca ha visto durante el entrenamiento."
   ]
  }
 ],
 "metadata": {
  "accelerator": "GPU",
  "colab": {
   "gpuType": "T4",
   "machine_shape": "hm",
   "provenance": []
  },
  "kernelspec": {
   "display_name": "Python 3 (ipykernel)",
   "language": "python",
   "name": "python3"
  },
  "language_info": {
   "codemirror_mode": {
    "name": "ipython",
    "version": 3
   },
   "file_extension": ".py",
   "mimetype": "text/x-python",
   "name": "python",
   "nbconvert_exporter": "python",
   "pygments_lexer": "ipython3",
   "version": "3.10.9"
  }
 },
 "nbformat": 4,
 "nbformat_minor": 1
}
