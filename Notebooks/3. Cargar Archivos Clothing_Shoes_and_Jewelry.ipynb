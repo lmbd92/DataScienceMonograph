{
 "cells": [
  {
   "cell_type": "markdown",
   "metadata": {
    "id": "Fgpm6z5oMB0_"
   },
   "source": [
    "reviewerID - ID of the reviewer, e.g. A2SUAM1J3GNN3B\n",
    "\n",
    "asin - ID of the product, e.g. 0000013714\n",
    "\n",
    "reviewerName - name of the reviewer\n",
    "\n",
    "vote - helpful votes of the review\n",
    "\n",
    "style - a disctionary of the product metadata, e.g., \"Format\" is \"Hardcover\"\n",
    "\n",
    "reviewText - text of the review\n",
    "\n",
    "overall - rating of the product\n",
    "\n",
    "summary - summary of the review\n",
    "\n",
    "unixReviewTime - time of the review (unix time)\n",
    "\n",
    "reviewTime - time of the review (raw)\n",
    "\n",
    "image - images that users post after they have received the product"
   ]
  },
  {
   "cell_type": "code",
   "execution_count": null,
   "metadata": {
    "id": "ZGwBeCRHBGW0"
   },
   "outputs": [],
   "source": [
    "import pandas as pd\n",
    "import io\n",
    "import json\n",
    "import gzip\n",
    "import numpy as np\n",
    "import matplotlib.pyplot as plt\n",
    "import seaborn as sns\n",
    "# Configurar pandas para mostrar todas las columnas\n",
    "pd.set_option('display.max_columns', None)\n"
   ]
  },
  {
   "cell_type": "code",
   "execution_count": null,
   "metadata": {
    "colab": {
     "base_uri": "https://localhost:8080/"
    },
    "id": "WDwAdn2OQkBl",
    "outputId": "896fe33e-4a03-4f9d-b14f-89e8e8a2dda7"
   },
   "outputs": [],
   "source": [
    "pip install pandas openpyxl"
   ]
  },
  {
   "cell_type": "code",
   "execution_count": null,
   "metadata": {
    "colab": {
     "base_uri": "https://localhost:8080/"
    },
    "id": "MmIo3t7kEq7e",
    "outputId": "94c7fce6-550c-4df9-bd6b-27b40c80dc44"
   },
   "outputs": [],
   "source": [
    "### Carga la data de reviews\n",
    "\n",
    "data = []\n",
    "with gzip.open('Clothing_Shoes_and_Jewelry_5.json.gz') as f:\n",
    "    for l in f:\n",
    "        data.append(json.loads(l.strip()))\n",
    "\n",
    "# Longitud total de la lista, este numero equivale al numero total de productos\n",
    "print(len(data))\n",
    "\n",
    "# Primera fila de la lista\n",
    "print(data[0])"
   ]
  },
  {
   "cell_type": "code",
   "execution_count": null,
   "metadata": {
    "colab": {
     "base_uri": "https://localhost:8080/"
    },
    "id": "PJ57-DzrEFJW",
    "outputId": "7a4d3be4-2a10-449c-e218-559701f5f990"
   },
   "outputs": [],
   "source": [
    "# Convierte la lista en un dataframe de pandas\n",
    "\n",
    "df1 = pd.DataFrame.from_dict(data)\n",
    "\n",
    "print(len(df1))"
   ]
  },
  {
   "cell_type": "code",
   "execution_count": null,
   "metadata": {
    "colab": {
     "base_uri": "https://localhost:8080/",
     "height": 241
    },
    "id": "BCA_wKkVBQSd",
    "outputId": "c07d31d7-805d-4ff0-bd52-a7550282dd11"
   },
   "outputs": [],
   "source": [
    "df1.head(5)"
   ]
  },
  {
   "cell_type": "code",
   "execution_count": null,
   "metadata": {
    "colab": {
     "base_uri": "https://localhost:8080/"
    },
    "id": "iCUg32wVBQVX",
    "outputId": "06bca6f8-8d87-4df9-c078-50d361f744de"
   },
   "outputs": [],
   "source": [
    "### Carga la meta data de reviews\n",
    "\n",
    "data = []\n",
    "with gzip.open('meta_Clothing_Shoes_and_Jewelry.json.gz') as f:\n",
    "    for l in f:\n",
    "        data.append(json.loads(l.strip()))\n",
    "\n",
    "# Longitud total de la lista, este numero equivale al numero total de productos\n",
    "print(len(data))\n",
    "\n",
    "# Primera fila de la lista\n",
    "print(data[0])"
   ]
  },
  {
   "cell_type": "code",
   "execution_count": null,
   "metadata": {
    "colab": {
     "base_uri": "https://localhost:8080/"
    },
    "id": "g6xwtrXjBQXt",
    "outputId": "146b5d30-bf5d-45b9-ea6b-730046e19f1f"
   },
   "outputs": [],
   "source": [
    "# Convierte la lista en un dataframe de pandas\n",
    "\n",
    "df2 = pd.DataFrame.from_dict(data)\n",
    "\n",
    "print(len(df2))"
   ]
  },
  {
   "cell_type": "code",
   "execution_count": null,
   "metadata": {
    "colab": {
     "base_uri": "https://localhost:8080/"
    },
    "id": "3fQqKpL4Qws9",
    "outputId": "b7b62f49-3100-484b-ebc8-5e85a3de1aa7"
   },
   "outputs": [],
   "source": [
    "# Guardar el DataFrame en formato Excel\n",
    "#df2.to_excel('nombre_del_archivo_salida.xlsx', index=False, engine='openpyxl')\n",
    "\n",
    "print(\"Archivo convertido y guardado con éxito.\")"
   ]
  },
  {
   "cell_type": "code",
   "execution_count": null,
   "metadata": {
    "id": "APy258qhFdVw"
   },
   "outputs": [],
   "source": [
    "result = pd.merge(df1,df2, on = \"asin\")"
   ]
  },
  {
   "cell_type": "code",
   "execution_count": null,
   "metadata": {
    "colab": {
     "base_uri": "https://localhost:8080/",
     "height": 236
    },
    "id": "bXQS4mFsIINP",
    "outputId": "b674853a-0140-4ce0-a32d-9d90457f9995"
   },
   "outputs": [],
   "source": [
    "result.head(2)"
   ]
  },
  {
   "cell_type": "code",
   "execution_count": null,
   "metadata": {
    "colab": {
     "base_uri": "https://localhost:8080/"
    },
    "id": "3mu_pitKFdYv",
    "outputId": "5a5faa77-93c3-48ff-e9c7-916e13dec495"
   },
   "outputs": [],
   "source": [
    "result.info()"
   ]
  },
  {
   "cell_type": "code",
   "execution_count": null,
   "metadata": {
    "id": "gWjGlj8gKb9g"
   },
   "outputs": [],
   "source": [
    "data = result"
   ]
  },
  {
   "cell_type": "code",
   "execution_count": null,
   "metadata": {
    "id": "ZITNajaeNA7x"
   },
   "outputs": [],
   "source": [
    "# Lista de columnas a eliminar\n",
    "columns_to_drop = ['feature','vote','style', 'reviewerName', 'image','title','date','imageURL','imageURLHighRes','also_view','also_buy','fit','details','similar_item','tech1','description']\n",
    "\n",
    "# Eliminar columnas\n",
    "data = data.drop(columns=columns_to_drop, errors='ignore')"
   ]
  },
  {
   "cell_type": "code",
   "execution_count": null,
   "metadata": {
    "id": "43qXPpwqVnxs"
   },
   "outputs": [],
   "source": [
    "# Suponiendo que df es tu DataFrame\n",
    "data.dropna(inplace=True)"
   ]
  },
  {
   "cell_type": "code",
   "execution_count": null,
   "metadata": {
    "id": "IUWpdCaVXUuc"
   },
   "outputs": [],
   "source": [
    "# Extraer todos los números y comas del principio de la cadena\n",
    "extracted_series = data['rank'].str.extract(r'([\\d,]+)')[0]\n",
    "\n",
    "# Convertir \"nan\" (cadena) a np.nan\n",
    "extracted_series.replace(\"nan\", np.nan, inplace=True)\n",
    "\n",
    "\n",
    "# Eliminar comas y convertir a int\n",
    "data['extracted_rank'] = extracted_series.str.replace(',', '').fillna('0').astype(int)\n",
    "\n",
    "\n",
    "# Rellenar valores NaN con 0, eliminar comas y convertir a entero\n",
    "data['extracted_rank'] = extracted_series.fillna(0).astype(str).str.replace(',', '').astype(int)"
   ]
  },
  {
   "cell_type": "code",
   "execution_count": null,
   "metadata": {
    "id": "wcmV245GXlRa"
   },
   "outputs": [],
   "source": [
    "# Extraer el primer valor cuando hay un rango de precios\n",
    "data['price'] = data['price'].str.extract(r'(\\d+.\\d+)')[0]\n",
    "\n",
    "# Eliminar el símbolo $ y las comas, luego convertir a float\n",
    "data['price'] = data['price'].str.replace('$', '', regex=True).str.replace(',', '').astype(float)"
   ]
  },
  {
   "cell_type": "code",
   "execution_count": null,
   "metadata": {
    "id": "c3Aah6TOYVEi"
   },
   "outputs": [],
   "source": [
    "# Convertir la columna unixReviewTime a un formato de fecha\n",
    "data['reviewDate'] = pd.to_datetime(data['unixReviewTime'], unit='s').dt.date"
   ]
  },
  {
   "cell_type": "code",
   "execution_count": null,
   "metadata": {
    "id": "ZzkqIgyZj4or"
   },
   "outputs": [],
   "source": [
    "data = data[data['verified'] == True]"
   ]
  },
  {
   "cell_type": "code",
   "execution_count": null,
   "metadata": {
    "colab": {
     "base_uri": "https://localhost:8080/"
    },
    "id": "R8hjLathVqGr",
    "outputId": "deea2ef6-337f-47c5-8087-e34563df27ab"
   },
   "outputs": [],
   "source": [
    "data.info()"
   ]
  },
  {
   "cell_type": "code",
   "execution_count": null,
   "metadata": {
    "colab": {
     "base_uri": "https://localhost:8080/",
     "height": 112
    },
    "id": "pRQaXclfVDkv",
    "outputId": "5c38ea94-cc8d-416c-9c98-7d6b16464801"
   },
   "outputs": [],
   "source": [
    "data.head(2)"
   ]
  },
  {
   "cell_type": "code",
   "execution_count": null,
   "metadata": {
    "id": "uJyAKOILYeCx"
   },
   "outputs": [],
   "source": [
    "# Lista de columnas a eliminar\n",
    "columns_to_drop = ['reviewTime','unixReviewTime','rank','verified']\n",
    "\n",
    "# Eliminar columnas\n",
    "data = data.drop(columns=columns_to_drop, errors='ignore')"
   ]
  },
  {
   "cell_type": "code",
   "execution_count": null,
   "metadata": {
    "id": "lbMvyOeinCMI"
   },
   "outputs": [],
   "source": [
    "# Convertir reviewDate a tipo de dato datetime (si aún no lo has hecho)\n",
    "data['reviewDate'] = pd.to_datetime(data['reviewDate'])"
   ]
  },
  {
   "cell_type": "code",
   "execution_count": null,
   "metadata": {
    "colab": {
     "base_uri": "https://localhost:8080/",
     "height": 112
    },
    "id": "CefArerEYkof",
    "outputId": "dbe8a94c-1408-4c00-d19e-22220c23f187"
   },
   "outputs": [],
   "source": [
    "data.head(2)"
   ]
  },
  {
   "cell_type": "code",
   "execution_count": null,
   "metadata": {
    "colab": {
     "base_uri": "https://localhost:8080/"
    },
    "id": "J3XBlRlhkbQt",
    "outputId": "caf5fccf-fe88-4beb-eef4-dc7b7d446dbf"
   },
   "outputs": [],
   "source": [
    "data.info()"
   ]
  },
  {
   "cell_type": "code",
   "execution_count": null,
   "metadata": {
    "colab": {
     "base_uri": "https://localhost:8080/"
    },
    "id": "AU0ZKLT_KWuz",
    "outputId": "93b6607f-a49c-49d1-999c-128b757e46bf"
   },
   "outputs": [],
   "source": [
    "# 1. Entendimiento Básico\n",
    "print(data.shape)\n",
    "#print(data.info())\n",
    "#print(data.head())\n",
    "#print(data.tail())"
   ]
  },
  {
   "cell_type": "code",
   "execution_count": null,
   "metadata": {
    "id": "PXtqY115gxB8"
   },
   "outputs": [],
   "source": [
    "#unique_values_freq = data['verified'].value_counts()\n",
    "#print(unique_values_freq)"
   ]
  },
  {
   "cell_type": "code",
   "execution_count": null,
   "metadata": {
    "colab": {
     "base_uri": "https://localhost:8080/"
    },
    "id": "SBBqKGS-KW45",
    "outputId": "4d0a9b4a-6fab-40c6-e7fe-274a148458ec"
   },
   "outputs": [],
   "source": [
    "# 2. Estadísticas Descriptivas\n",
    "print(data.describe())\n",
    "print(data.describe(include=[np.object]))"
   ]
  },
  {
   "cell_type": "code",
   "execution_count": null,
   "metadata": {
    "colab": {
     "base_uri": "https://localhost:8080/"
    },
    "id": "el-gc40KKW75",
    "outputId": "b8e4c6c9-d88a-4a50-8639-47c25fc5742d"
   },
   "outputs": [],
   "source": [
    "# 3. Manejo de Valores Faltantes\n",
    "missing_values = data.isnull().sum()\n",
    "print(missing_values)\n",
    "# Puedes decidir cómo manejar estos valores más adelante."
   ]
  },
  {
   "cell_type": "code",
   "execution_count": null,
   "metadata": {},
   "outputs": [],
   "source": [
    "# Guardar el DataFrame en un archivo CSV\n",
    "#data.to_csv('Clothing_Shoes_and_Jewelry.csv', index=False)  # 'index=False' para no guardar el índice del DataFrame"
   ]
  },
  {
   "cell_type": "code",
   "execution_count": null,
   "metadata": {},
   "outputs": [],
   "source": [
    "# Guardar el DataFrame en un archivo Excel\n",
    "#data.to_excel('Clothing_Shoes_and_Jewelry.xlsx', index=False, engine='openpyxl')"
   ]
  }
 ],
 "metadata": {
  "colab": {
   "provenance": []
  },
  "kernelspec": {
   "display_name": "Python 3 (ipykernel)",
   "language": "python",
   "name": "python3"
  },
  "language_info": {
   "codemirror_mode": {
    "name": "ipython",
    "version": 3
   },
   "file_extension": ".py",
   "mimetype": "text/x-python",
   "name": "python",
   "nbconvert_exporter": "python",
   "pygments_lexer": "ipython3",
   "version": "3.10.9"
  }
 },
 "nbformat": 4,
 "nbformat_minor": 1
}
