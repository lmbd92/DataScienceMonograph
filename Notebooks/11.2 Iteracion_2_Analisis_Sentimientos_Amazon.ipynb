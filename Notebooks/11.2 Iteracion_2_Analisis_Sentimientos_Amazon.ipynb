{
  "nbformat": 4,
  "nbformat_minor": 0,
  "metadata": {
    "colab": {
      "provenance": [],
      "machine_shape": "hm"
    },
    "kernelspec": {
      "name": "python3",
      "display_name": "Python 3"
    },
    "language_info": {
      "name": "python"
    }
  },
  "cells": [
    {
      "cell_type": "markdown",
      "source": [
        "# Paso 1: Importar Librerías de Python\n"
      ],
      "metadata": {
        "id": "V-SSaV-bRZZl"
      }
    },
    {
      "cell_type": "code",
      "source": [
        "pip install scikit-surprise"
      ],
      "metadata": {
        "id": "K4mFYevMKu6y",
        "colab": {
          "base_uri": "https://localhost:8080/"
        },
        "outputId": "91416020-ce86-429b-f9f8-a977e85f9240"
      },
      "execution_count": null,
      "outputs": [
        {
          "output_type": "stream",
          "name": "stdout",
          "text": [
            "Requirement already satisfied: scikit-surprise in /usr/local/lib/python3.10/dist-packages (1.1.3)\n",
            "Requirement already satisfied: joblib>=1.0.0 in /usr/local/lib/python3.10/dist-packages (from scikit-surprise) (1.3.2)\n",
            "Requirement already satisfied: numpy>=1.17.3 in /usr/local/lib/python3.10/dist-packages (from scikit-surprise) (1.23.5)\n",
            "Requirement already satisfied: scipy>=1.3.2 in /usr/local/lib/python3.10/dist-packages (from scikit-surprise) (1.11.3)\n"
          ]
        }
      ]
    },
    {
      "cell_type": "code",
      "source": [
        "pip install --user nltk"
      ],
      "metadata": {
        "colab": {
          "base_uri": "https://localhost:8080/"
        },
        "id": "Rk_i50MYHStE",
        "outputId": "426d2b37-5944-41fc-c667-bcb1166a1ba5"
      },
      "execution_count": null,
      "outputs": [
        {
          "output_type": "stream",
          "name": "stdout",
          "text": [
            "Requirement already satisfied: nltk in /usr/local/lib/python3.10/dist-packages (3.8.1)\n",
            "Requirement already satisfied: click in /usr/local/lib/python3.10/dist-packages (from nltk) (8.1.7)\n",
            "Requirement already satisfied: joblib in /usr/local/lib/python3.10/dist-packages (from nltk) (1.3.2)\n",
            "Requirement already satisfied: regex>=2021.8.3 in /usr/local/lib/python3.10/dist-packages (from nltk) (2023.6.3)\n",
            "Requirement already satisfied: tqdm in /usr/local/lib/python3.10/dist-packages (from nltk) (4.66.1)\n"
          ]
        }
      ]
    },
    {
      "cell_type": "code",
      "source": [
        "!pip install vaderSentiment"
      ],
      "metadata": {
        "colab": {
          "base_uri": "https://localhost:8080/"
        },
        "id": "Lww8DyzvJjl7",
        "outputId": "4b769f73-2f50-4e42-c45f-22b34d1cf7e3"
      },
      "execution_count": null,
      "outputs": [
        {
          "output_type": "stream",
          "name": "stdout",
          "text": [
            "Requirement already satisfied: vaderSentiment in /usr/local/lib/python3.10/dist-packages (3.3.2)\n",
            "Requirement already satisfied: requests in /usr/local/lib/python3.10/dist-packages (from vaderSentiment) (2.31.0)\n",
            "Requirement already satisfied: charset-normalizer<4,>=2 in /usr/local/lib/python3.10/dist-packages (from requests->vaderSentiment) (3.3.2)\n",
            "Requirement already satisfied: idna<4,>=2.5 in /usr/local/lib/python3.10/dist-packages (from requests->vaderSentiment) (3.4)\n",
            "Requirement already satisfied: urllib3<3,>=1.21.1 in /usr/local/lib/python3.10/dist-packages (from requests->vaderSentiment) (2.0.7)\n",
            "Requirement already satisfied: certifi>=2017.4.17 in /usr/local/lib/python3.10/dist-packages (from requests->vaderSentiment) (2023.7.22)\n"
          ]
        }
      ]
    },
    {
      "cell_type": "code",
      "source": [
        "!pip install joblib"
      ],
      "metadata": {
        "colab": {
          "base_uri": "https://localhost:8080/"
        },
        "id": "Tof-Cjj8LA-u",
        "outputId": "be0e6fe3-2feb-49cf-f929-72a7e90a6518"
      },
      "execution_count": null,
      "outputs": [
        {
          "output_type": "stream",
          "name": "stdout",
          "text": [
            "Requirement already satisfied: joblib in /usr/local/lib/python3.10/dist-packages (1.3.2)\n"
          ]
        }
      ]
    },
    {
      "cell_type": "code",
      "source": [
        "import pandas as pd\n",
        "import numpy as np\n",
        "import matplotlib.pyplot as plt\n",
        "import seaborn as sns\n",
        "from datetime import datetime\n",
        "from google.colab import drive\n",
        "\n",
        "from sklearn.metrics.pairwise import cosine_similarity\n",
        "from surprise import SVD, Reader, Dataset, accuracy\n",
        "from surprise.model_selection import train_test_split\n",
        "from sklearn.metrics import mean_squared_error, mean_absolute_error\n",
        "from sklearn.model_selection import train_test_split\n",
        "\n",
        "\n",
        "from keras.models import Model\n",
        "from keras.layers import Input, Embedding, Flatten, Concatenate, Dense, Dropout, Dot\n",
        "from keras.optimizers import Adam\n",
        "\n",
        "from sklearn.preprocessing import LabelEncoder\n",
        "import nltk\n",
        "#from nltk.sentiment.vader import SentimentIntensityAnalyzer\n",
        "from nltk import sentiment\n",
        "from nltk import word_tokenize\n",
        "from vaderSentiment.vaderSentiment import SentimentIntensityAnalyzer\n",
        "\n",
        "from joblib import Parallel, delayed\n",
        "\n",
        "from sklearn.preprocessing import StandardScaler\n",
        "from sklearn.cluster import KMeans\n",
        "from sklearn.metrics import silhouette_score\n",
        "from sklearn.cluster import MiniBatchKMeans\n",
        "\n",
        "import warnings\n",
        "warnings.filterwarnings(\"ignore\")\n"
      ],
      "metadata": {
        "id": "47ItRxlORZ9i"
      },
      "execution_count": null,
      "outputs": []
    },
    {
      "cell_type": "code",
      "source": [
        "drive.mount('/content/drive')"
      ],
      "metadata": {
        "id": "8bHcBRlQYY4h",
        "colab": {
          "base_uri": "https://localhost:8080/"
        },
        "outputId": "45bb9240-50fa-4121-c931-a7f67d1ab600"
      },
      "execution_count": null,
      "outputs": [
        {
          "output_type": "stream",
          "name": "stdout",
          "text": [
            "Drive already mounted at /content/drive; to attempt to forcibly remount, call drive.mount(\"/content/drive\", force_remount=True).\n"
          ]
        }
      ]
    },
    {
      "cell_type": "markdown",
      "source": [
        "# Paso 2: Lectura del Dataset"
      ],
      "metadata": {
        "id": "209f_YHQRaCi"
      }
    },
    {
      "cell_type": "code",
      "source": [
        "# Suponiendo que tu DataFrame se llama df\n",
        "df = pd.read_csv('/content/drive/MyDrive/EspecializacionA&DS/Monografia/2doSemestre/DataFinal_Amazon.csv')  # Descomenta y proporciona la ruta si estás cargando un archivo CSV"
      ],
      "metadata": {
        "id": "9vIFqmMIRaIc"
      },
      "execution_count": null,
      "outputs": []
    },
    {
      "cell_type": "code",
      "source": [
        "df.shape"
      ],
      "metadata": {
        "colab": {
          "base_uri": "https://localhost:8080/"
        },
        "id": "xl_ZcPORH3fb",
        "outputId": "01d7ebe4-ecff-4396-9c31-b8ba4e97125a"
      },
      "execution_count": null,
      "outputs": [
        {
          "output_type": "execute_result",
          "data": {
            "text/plain": [
              "(4800571, 10)"
            ]
          },
          "metadata": {},
          "execution_count": 9
        }
      ]
    },
    {
      "cell_type": "markdown",
      "source": [
        "# Paso 3: Reducción de Datos\n"
      ],
      "metadata": {
        "id": "bIdqast7RaNy"
      }
    },
    {
      "cell_type": "code",
      "source": [
        "# Tomar una muestra del 10% del dataset, si es necesario\n",
        "#df = df.sample(frac=0.1, random_state=42)"
      ],
      "metadata": {
        "id": "tOpHk3bJRaTB"
      },
      "execution_count": null,
      "outputs": []
    },
    {
      "cell_type": "code",
      "source": [
        "df.shape"
      ],
      "metadata": {
        "colab": {
          "base_uri": "https://localhost:8080/"
        },
        "id": "LwnA5HnLr8r6",
        "outputId": "8c094948-a088-4fe6-d9ac-ecbf025f739f"
      },
      "execution_count": null,
      "outputs": [
        {
          "output_type": "execute_result",
          "data": {
            "text/plain": [
              "(4800571, 10)"
            ]
          },
          "metadata": {},
          "execution_count": 11
        }
      ]
    },
    {
      "cell_type": "code",
      "source": [
        "df[\"reviewText\"].fillna(\"\", inplace=True)\n",
        "df[\"summary\"].fillna(\"\", inplace=True)"
      ],
      "metadata": {
        "id": "Wd8lhR1WKsU3"
      },
      "execution_count": null,
      "outputs": []
    },
    {
      "cell_type": "code",
      "source": [
        "df[\"reviewText\"] = df[\"reviewText\"].astype(str)\n",
        "df[\"summary\"] = df[\"summary\"].astype(str)"
      ],
      "metadata": {
        "id": "KGNgVbImKu3W"
      },
      "execution_count": null,
      "outputs": []
    },
    {
      "cell_type": "markdown",
      "source": [
        "# Analisis de Sentimientos"
      ],
      "metadata": {
        "id": "mxZN3FMBKeKK"
      }
    },
    {
      "cell_type": "code",
      "source": [
        "df.head(5)"
      ],
      "metadata": {
        "colab": {
          "base_uri": "https://localhost:8080/",
          "height": 293
        },
        "id": "-8dMKrwIH_Qz",
        "outputId": "4a4d93ca-3356-45eb-819f-beae979ad73f"
      },
      "execution_count": null,
      "outputs": [
        {
          "output_type": "execute_result",
          "data": {
            "text/plain": [
              "   overall      reviewerID        asin  \\\n",
              "0      3.0  A1BB77SEBQT8VX  B00007GDFV   \n",
              "1      3.0  A1BB77SEBQT8VX  B00007GDFV   \n",
              "2      3.0   AHWOW7D1ABO9C  B00007GDFV   \n",
              "3      3.0   AHWOW7D1ABO9C  B00007GDFV   \n",
              "4      3.0   AKS3GULZE0HFC  B00007GDFV   \n",
              "\n",
              "                                          reviewText  \\\n",
              "0  mother - in - law wanted it as a present for h...   \n",
              "1  mother - in - law wanted it as a present for h...   \n",
              "2  Item is of good quality. Looks great, too. But...   \n",
              "3  Item is of good quality. Looks great, too. But...   \n",
              "4  I had used my last el-cheapo fake leather ciga...   \n",
              "\n",
              "                          summary   brand  price  extracted_rank  reviewDate  \\\n",
              "0             bought as a present  Buxton  16.95           43930  2013-09-22   \n",
              "1             bought as a present  Buxton  16.95           43930  2013-09-22   \n",
              "2       Buxton heiress collection  Buxton  16.95           43930  2013-07-17   \n",
              "3       Buxton heiress collection  Buxton  16.95           43930  2013-07-17   \n",
              "4  Top Clasp Broke Within 3 days!  Buxton  16.95           43930  2013-04-13   \n",
              "\n",
              "  category  \n",
              "0  FASHION  \n",
              "1  FASHION  \n",
              "2  FASHION  \n",
              "3  FASHION  \n",
              "4  FASHION  "
            ],
            "text/html": [
              "\n",
              "  <div id=\"df-7011612f-6fba-4b24-88ae-c3199b5c93f1\" class=\"colab-df-container\">\n",
              "    <div>\n",
              "<style scoped>\n",
              "    .dataframe tbody tr th:only-of-type {\n",
              "        vertical-align: middle;\n",
              "    }\n",
              "\n",
              "    .dataframe tbody tr th {\n",
              "        vertical-align: top;\n",
              "    }\n",
              "\n",
              "    .dataframe thead th {\n",
              "        text-align: right;\n",
              "    }\n",
              "</style>\n",
              "<table border=\"1\" class=\"dataframe\">\n",
              "  <thead>\n",
              "    <tr style=\"text-align: right;\">\n",
              "      <th></th>\n",
              "      <th>overall</th>\n",
              "      <th>reviewerID</th>\n",
              "      <th>asin</th>\n",
              "      <th>reviewText</th>\n",
              "      <th>summary</th>\n",
              "      <th>brand</th>\n",
              "      <th>price</th>\n",
              "      <th>extracted_rank</th>\n",
              "      <th>reviewDate</th>\n",
              "      <th>category</th>\n",
              "    </tr>\n",
              "  </thead>\n",
              "  <tbody>\n",
              "    <tr>\n",
              "      <th>0</th>\n",
              "      <td>3.0</td>\n",
              "      <td>A1BB77SEBQT8VX</td>\n",
              "      <td>B00007GDFV</td>\n",
              "      <td>mother - in - law wanted it as a present for h...</td>\n",
              "      <td>bought as a present</td>\n",
              "      <td>Buxton</td>\n",
              "      <td>16.95</td>\n",
              "      <td>43930</td>\n",
              "      <td>2013-09-22</td>\n",
              "      <td>FASHION</td>\n",
              "    </tr>\n",
              "    <tr>\n",
              "      <th>1</th>\n",
              "      <td>3.0</td>\n",
              "      <td>A1BB77SEBQT8VX</td>\n",
              "      <td>B00007GDFV</td>\n",
              "      <td>mother - in - law wanted it as a present for h...</td>\n",
              "      <td>bought as a present</td>\n",
              "      <td>Buxton</td>\n",
              "      <td>16.95</td>\n",
              "      <td>43930</td>\n",
              "      <td>2013-09-22</td>\n",
              "      <td>FASHION</td>\n",
              "    </tr>\n",
              "    <tr>\n",
              "      <th>2</th>\n",
              "      <td>3.0</td>\n",
              "      <td>AHWOW7D1ABO9C</td>\n",
              "      <td>B00007GDFV</td>\n",
              "      <td>Item is of good quality. Looks great, too. But...</td>\n",
              "      <td>Buxton heiress collection</td>\n",
              "      <td>Buxton</td>\n",
              "      <td>16.95</td>\n",
              "      <td>43930</td>\n",
              "      <td>2013-07-17</td>\n",
              "      <td>FASHION</td>\n",
              "    </tr>\n",
              "    <tr>\n",
              "      <th>3</th>\n",
              "      <td>3.0</td>\n",
              "      <td>AHWOW7D1ABO9C</td>\n",
              "      <td>B00007GDFV</td>\n",
              "      <td>Item is of good quality. Looks great, too. But...</td>\n",
              "      <td>Buxton heiress collection</td>\n",
              "      <td>Buxton</td>\n",
              "      <td>16.95</td>\n",
              "      <td>43930</td>\n",
              "      <td>2013-07-17</td>\n",
              "      <td>FASHION</td>\n",
              "    </tr>\n",
              "    <tr>\n",
              "      <th>4</th>\n",
              "      <td>3.0</td>\n",
              "      <td>AKS3GULZE0HFC</td>\n",
              "      <td>B00007GDFV</td>\n",
              "      <td>I had used my last el-cheapo fake leather ciga...</td>\n",
              "      <td>Top Clasp Broke Within 3 days!</td>\n",
              "      <td>Buxton</td>\n",
              "      <td>16.95</td>\n",
              "      <td>43930</td>\n",
              "      <td>2013-04-13</td>\n",
              "      <td>FASHION</td>\n",
              "    </tr>\n",
              "  </tbody>\n",
              "</table>\n",
              "</div>\n",
              "    <div class=\"colab-df-buttons\">\n",
              "\n",
              "  <div class=\"colab-df-container\">\n",
              "    <button class=\"colab-df-convert\" onclick=\"convertToInteractive('df-7011612f-6fba-4b24-88ae-c3199b5c93f1')\"\n",
              "            title=\"Convert this dataframe to an interactive table.\"\n",
              "            style=\"display:none;\">\n",
              "\n",
              "  <svg xmlns=\"http://www.w3.org/2000/svg\" height=\"24px\" viewBox=\"0 -960 960 960\">\n",
              "    <path d=\"M120-120v-720h720v720H120Zm60-500h600v-160H180v160Zm220 220h160v-160H400v160Zm0 220h160v-160H400v160ZM180-400h160v-160H180v160Zm440 0h160v-160H620v160ZM180-180h160v-160H180v160Zm440 0h160v-160H620v160Z\"/>\n",
              "  </svg>\n",
              "    </button>\n",
              "\n",
              "  <style>\n",
              "    .colab-df-container {\n",
              "      display:flex;\n",
              "      gap: 12px;\n",
              "    }\n",
              "\n",
              "    .colab-df-convert {\n",
              "      background-color: #E8F0FE;\n",
              "      border: none;\n",
              "      border-radius: 50%;\n",
              "      cursor: pointer;\n",
              "      display: none;\n",
              "      fill: #1967D2;\n",
              "      height: 32px;\n",
              "      padding: 0 0 0 0;\n",
              "      width: 32px;\n",
              "    }\n",
              "\n",
              "    .colab-df-convert:hover {\n",
              "      background-color: #E2EBFA;\n",
              "      box-shadow: 0px 1px 2px rgba(60, 64, 67, 0.3), 0px 1px 3px 1px rgba(60, 64, 67, 0.15);\n",
              "      fill: #174EA6;\n",
              "    }\n",
              "\n",
              "    .colab-df-buttons div {\n",
              "      margin-bottom: 4px;\n",
              "    }\n",
              "\n",
              "    [theme=dark] .colab-df-convert {\n",
              "      background-color: #3B4455;\n",
              "      fill: #D2E3FC;\n",
              "    }\n",
              "\n",
              "    [theme=dark] .colab-df-convert:hover {\n",
              "      background-color: #434B5C;\n",
              "      box-shadow: 0px 1px 3px 1px rgba(0, 0, 0, 0.15);\n",
              "      filter: drop-shadow(0px 1px 2px rgba(0, 0, 0, 0.3));\n",
              "      fill: #FFFFFF;\n",
              "    }\n",
              "  </style>\n",
              "\n",
              "    <script>\n",
              "      const buttonEl =\n",
              "        document.querySelector('#df-7011612f-6fba-4b24-88ae-c3199b5c93f1 button.colab-df-convert');\n",
              "      buttonEl.style.display =\n",
              "        google.colab.kernel.accessAllowed ? 'block' : 'none';\n",
              "\n",
              "      async function convertToInteractive(key) {\n",
              "        const element = document.querySelector('#df-7011612f-6fba-4b24-88ae-c3199b5c93f1');\n",
              "        const dataTable =\n",
              "          await google.colab.kernel.invokeFunction('convertToInteractive',\n",
              "                                                    [key], {});\n",
              "        if (!dataTable) return;\n",
              "\n",
              "        const docLinkHtml = 'Like what you see? Visit the ' +\n",
              "          '<a target=\"_blank\" href=https://colab.research.google.com/notebooks/data_table.ipynb>data table notebook</a>'\n",
              "          + ' to learn more about interactive tables.';\n",
              "        element.innerHTML = '';\n",
              "        dataTable['output_type'] = 'display_data';\n",
              "        await google.colab.output.renderOutput(dataTable, element);\n",
              "        const docLink = document.createElement('div');\n",
              "        docLink.innerHTML = docLinkHtml;\n",
              "        element.appendChild(docLink);\n",
              "      }\n",
              "    </script>\n",
              "  </div>\n",
              "\n",
              "\n",
              "<div id=\"df-7b946dd7-1dfa-47d1-8590-de3094c0a38d\">\n",
              "  <button class=\"colab-df-quickchart\" onclick=\"quickchart('df-7b946dd7-1dfa-47d1-8590-de3094c0a38d')\"\n",
              "            title=\"Suggest charts\"\n",
              "            style=\"display:none;\">\n",
              "\n",
              "<svg xmlns=\"http://www.w3.org/2000/svg\" height=\"24px\"viewBox=\"0 0 24 24\"\n",
              "     width=\"24px\">\n",
              "    <g>\n",
              "        <path d=\"M19 3H5c-1.1 0-2 .9-2 2v14c0 1.1.9 2 2 2h14c1.1 0 2-.9 2-2V5c0-1.1-.9-2-2-2zM9 17H7v-7h2v7zm4 0h-2V7h2v10zm4 0h-2v-4h2v4z\"/>\n",
              "    </g>\n",
              "</svg>\n",
              "  </button>\n",
              "\n",
              "<style>\n",
              "  .colab-df-quickchart {\n",
              "      --bg-color: #E8F0FE;\n",
              "      --fill-color: #1967D2;\n",
              "      --hover-bg-color: #E2EBFA;\n",
              "      --hover-fill-color: #174EA6;\n",
              "      --disabled-fill-color: #AAA;\n",
              "      --disabled-bg-color: #DDD;\n",
              "  }\n",
              "\n",
              "  [theme=dark] .colab-df-quickchart {\n",
              "      --bg-color: #3B4455;\n",
              "      --fill-color: #D2E3FC;\n",
              "      --hover-bg-color: #434B5C;\n",
              "      --hover-fill-color: #FFFFFF;\n",
              "      --disabled-bg-color: #3B4455;\n",
              "      --disabled-fill-color: #666;\n",
              "  }\n",
              "\n",
              "  .colab-df-quickchart {\n",
              "    background-color: var(--bg-color);\n",
              "    border: none;\n",
              "    border-radius: 50%;\n",
              "    cursor: pointer;\n",
              "    display: none;\n",
              "    fill: var(--fill-color);\n",
              "    height: 32px;\n",
              "    padding: 0;\n",
              "    width: 32px;\n",
              "  }\n",
              "\n",
              "  .colab-df-quickchart:hover {\n",
              "    background-color: var(--hover-bg-color);\n",
              "    box-shadow: 0 1px 2px rgba(60, 64, 67, 0.3), 0 1px 3px 1px rgba(60, 64, 67, 0.15);\n",
              "    fill: var(--button-hover-fill-color);\n",
              "  }\n",
              "\n",
              "  .colab-df-quickchart-complete:disabled,\n",
              "  .colab-df-quickchart-complete:disabled:hover {\n",
              "    background-color: var(--disabled-bg-color);\n",
              "    fill: var(--disabled-fill-color);\n",
              "    box-shadow: none;\n",
              "  }\n",
              "\n",
              "  .colab-df-spinner {\n",
              "    border: 2px solid var(--fill-color);\n",
              "    border-color: transparent;\n",
              "    border-bottom-color: var(--fill-color);\n",
              "    animation:\n",
              "      spin 1s steps(1) infinite;\n",
              "  }\n",
              "\n",
              "  @keyframes spin {\n",
              "    0% {\n",
              "      border-color: transparent;\n",
              "      border-bottom-color: var(--fill-color);\n",
              "      border-left-color: var(--fill-color);\n",
              "    }\n",
              "    20% {\n",
              "      border-color: transparent;\n",
              "      border-left-color: var(--fill-color);\n",
              "      border-top-color: var(--fill-color);\n",
              "    }\n",
              "    30% {\n",
              "      border-color: transparent;\n",
              "      border-left-color: var(--fill-color);\n",
              "      border-top-color: var(--fill-color);\n",
              "      border-right-color: var(--fill-color);\n",
              "    }\n",
              "    40% {\n",
              "      border-color: transparent;\n",
              "      border-right-color: var(--fill-color);\n",
              "      border-top-color: var(--fill-color);\n",
              "    }\n",
              "    60% {\n",
              "      border-color: transparent;\n",
              "      border-right-color: var(--fill-color);\n",
              "    }\n",
              "    80% {\n",
              "      border-color: transparent;\n",
              "      border-right-color: var(--fill-color);\n",
              "      border-bottom-color: var(--fill-color);\n",
              "    }\n",
              "    90% {\n",
              "      border-color: transparent;\n",
              "      border-bottom-color: var(--fill-color);\n",
              "    }\n",
              "  }\n",
              "</style>\n",
              "\n",
              "  <script>\n",
              "    async function quickchart(key) {\n",
              "      const quickchartButtonEl =\n",
              "        document.querySelector('#' + key + ' button');\n",
              "      quickchartButtonEl.disabled = true;  // To prevent multiple clicks.\n",
              "      quickchartButtonEl.classList.add('colab-df-spinner');\n",
              "      try {\n",
              "        const charts = await google.colab.kernel.invokeFunction(\n",
              "            'suggestCharts', [key], {});\n",
              "      } catch (error) {\n",
              "        console.error('Error during call to suggestCharts:', error);\n",
              "      }\n",
              "      quickchartButtonEl.classList.remove('colab-df-spinner');\n",
              "      quickchartButtonEl.classList.add('colab-df-quickchart-complete');\n",
              "    }\n",
              "    (() => {\n",
              "      let quickchartButtonEl =\n",
              "        document.querySelector('#df-7b946dd7-1dfa-47d1-8590-de3094c0a38d button');\n",
              "      quickchartButtonEl.style.display =\n",
              "        google.colab.kernel.accessAllowed ? 'block' : 'none';\n",
              "    })();\n",
              "  </script>\n",
              "</div>\n",
              "    </div>\n",
              "  </div>\n"
            ]
          },
          "metadata": {},
          "execution_count": 14
        }
      ]
    },
    {
      "cell_type": "code",
      "source": [
        "analizador = SentimentIntensityAnalyzer()"
      ],
      "metadata": {
        "id": "nsKN-IBaHgI7"
      },
      "execution_count": null,
      "outputs": []
    },
    {
      "cell_type": "code",
      "source": [
        "# Función para calcular el puntaje de sentimiento de un texto\n",
        "def get_sentiment_score(text):\n",
        "    return analizador.polarity_scores(text)[\"compound\"]"
      ],
      "metadata": {
        "id": "XRTSlZe_Ho1T"
      },
      "execution_count": null,
      "outputs": []
    },
    {
      "cell_type": "code",
      "source": [
        "# Función para paralelizar la tarea\n",
        "def parallel_sentiment(data, func, n_jobs=-1):\n",
        "    return Parallel(n_jobs=n_jobs)(delayed(func)(text) for text in data)"
      ],
      "metadata": {
        "id": "3g8o4nkSK7XG"
      },
      "execution_count": null,
      "outputs": []
    },
    {
      "cell_type": "code",
      "source": [
        "# Aplicar la función de análisis de sentimientos en paralelo\n",
        "df[\"reviewText_sentiment\"] = parallel_sentiment(df[\"reviewText\"], get_sentiment_score)"
      ],
      "metadata": {
        "id": "6vNBqyDlKHzF"
      },
      "execution_count": null,
      "outputs": []
    },
    {
      "cell_type": "code",
      "source": [
        "# Ver el DataFrame con las nuevas columnas\n",
        "print(df[[\"asin\", \"reviewText_sentiment\"]])"
      ],
      "metadata": {
        "colab": {
          "base_uri": "https://localhost:8080/"
        },
        "id": "2PPbkEKRJVHD",
        "outputId": "82971c30-5854-4807-9677-83a2793225a3"
      },
      "execution_count": null,
      "outputs": [
        {
          "output_type": "stream",
          "name": "stdout",
          "text": [
            "               asin  reviewText_sentiment\n",
            "0        B00007GDFV                0.4215\n",
            "1        B00007GDFV                0.4215\n",
            "2        B00007GDFV                0.8823\n",
            "3        B00007GDFV                0.8823\n",
            "4        B00007GDFV                0.9822\n",
            "...             ...                   ...\n",
            "4800566  B01HJ7J4PI                0.8176\n",
            "4800567  B01HJ7J4PI                0.9358\n",
            "4800568  B01HJ7J4PI                0.4754\n",
            "4800569  B01HJ7J4PI                0.8519\n",
            "4800570  B01HJ7J4PI                0.0000\n",
            "\n",
            "[4800571 rows x 2 columns]\n"
          ]
        }
      ]
    },
    {
      "cell_type": "code",
      "source": [
        "# Ajusta el agrupamiento por 'asin' para calcular los promedios de las tres columnas\n",
        "grouped = df.groupby(\"asin\").agg({\n",
        "    \"reviewText_sentiment\": \"mean\"}).reset_index()\n",
        "\n",
        "print(grouped)"
      ],
      "metadata": {
        "colab": {
          "base_uri": "https://localhost:8080/"
        },
        "id": "pTXrseqkJXfL",
        "outputId": "393f0139-256e-4dc4-d245-6b6624726cf3"
      },
      "execution_count": null,
      "outputs": [
        {
          "output_type": "stream",
          "name": "stdout",
          "text": [
            "              asin  reviewText_sentiment\n",
            "0       0871167042              0.632713\n",
            "1       1519588135              0.568186\n",
            "2       1579652956              0.713937\n",
            "3       1936023857              0.765550\n",
            "4       5120053017              0.485311\n",
            "...            ...                   ...\n",
            "154021  B01HJCSCLK              0.653483\n",
            "154022  B01HJD4BBE              0.582478\n",
            "154023  B01HJDZM30              0.668714\n",
            "154024  B01HJGJ9LS              0.455767\n",
            "154025  B01HJHR8A6              0.575500\n",
            "\n",
            "[154026 rows x 2 columns]\n"
          ]
        }
      ]
    },
    {
      "cell_type": "markdown",
      "source": [
        "Está basado en el puntaje compound del VADER, que varía entre -1 y 1, donde -1 indica un sentimiento muy negativo, 1 un sentimiento muy positivo, y cerca de 0 neutral."
      ],
      "metadata": {
        "id": "ZYOSnpdWLxLk"
      }
    },
    {
      "cell_type": "markdown",
      "source": [
        "Interpretación:\n",
        "Productos con puntajes altos en reviewText_sentiment generalmente tienen reseñas positivas. Los clientes tienden a hablar bien de ellos tanto en el cuerpo completo de la reseña como en el resumen.\n",
        "\n",
        "Productos con puntajes bajos o negativos en las columnas de sentimiento probablemente tienen reseñas negativas o mixtas. Un puntaje negativo significa que hay más comentarios negativos que positivos.\n"
      ],
      "metadata": {
        "id": "JFh8Dlw5MP7U"
      }
    },
    {
      "cell_type": "markdown",
      "source": [
        "#Clusterización basado en el analisis de sentimientos"
      ],
      "metadata": {
        "id": "KpI5ukldM-K8"
      }
    },
    {
      "cell_type": "code",
      "source": [
        "# 2. Normalización de los datos\n",
        "scaler = StandardScaler()\n",
        "scaled_features = scaler.fit_transform(grouped[['reviewText_sentiment']])"
      ],
      "metadata": {
        "id": "vrdEgCGKM9UT"
      },
      "execution_count": null,
      "outputs": []
    },
    {
      "cell_type": "code",
      "source": [
        "# 3. Determinar el número óptimo de clusters usando el método del codo y la métrica de silueta\n",
        "\n",
        "# Método del codo\n",
        "inertia = []\n",
        "for k in range(1, 11):\n",
        "    kmeans = KMeans(n_clusters=k, random_state=42)\n",
        "    kmeans.fit(scaled_features)\n",
        "    inertia.append(kmeans.inertia_)\n",
        "\n",
        "plt.figure(figsize=(10,6))\n",
        "plt.plot(range(1, 11), inertia, marker='o', linestyle='--')\n",
        "plt.title('Método del Codo')\n",
        "plt.xlabel('Número de clusters')\n",
        "plt.ylabel('Inertia')\n",
        "plt.show()"
      ],
      "metadata": {
        "colab": {
          "base_uri": "https://localhost:8080/",
          "height": 564
        },
        "id": "zTKgr4_3NISs",
        "outputId": "3e526183-81b3-4d34-d5ee-4c5c4b2b5899"
      },
      "execution_count": null,
      "outputs": [
        {
          "output_type": "display_data",
          "data": {
            "text/plain": [
              "<Figure size 1000x600 with 1 Axes>"
            ],
            "image/png": "[encoded data removed]"
          },
          "metadata": {}
        }
      ]
    },
    {
      "cell_type": "code",
      "source": [
        "# Una vez determinado el número óptimo de clusters, realiza la clusterización final\n",
        "optimal_clusters = 3\n",
        "kmeans = KMeans(n_clusters=optimal_clusters, random_state=42)\n",
        "grouped['cluster'] = kmeans.fit_predict(scaled_features)"
      ],
      "metadata": {
        "id": "iRKTgC6bNIBm"
      },
      "execution_count": null,
      "outputs": []
    },
    {
      "cell_type": "code",
      "source": [
        "import matplotlib.pyplot as plt\n",
        "import numpy as np\n",
        "\n",
        "# Crear un valor de 'y' arbitrario o una secuencia de valores para la visualización\n",
        "y_values = np.zeros(len(grouped))\n",
        "\n",
        "plt.figure(figsize=(10, 6))\n",
        "scatter = plt.scatter(grouped['reviewText_sentiment'], y_values, c=grouped['cluster'], cmap='rainbow')\n",
        "plt.title('Clusterización de Productos basados en Sentimientos')\n",
        "plt.xlabel('Sentimiento del Texto de Revisión')\n",
        "plt.colorbar(scatter, label='Cluster')\n",
        "plt.yticks([])  # Ocultar los ticks del eje y, ya que no representan datos significativos en este caso\n",
        "plt.show()\n"
      ],
      "metadata": {
        "colab": {
          "base_uri": "https://localhost:8080/",
          "height": 564
        },
        "id": "Dtg-wuuTNH_H",
        "outputId": "ec5d8bae-16e8-4c7e-cc10-8072f84455e8"
      },
      "execution_count": null,
      "outputs": [
        {
          "output_type": "display_data",
          "data": {
            "text/plain": [
              "<Figure size 1000x600 with 2 Axes>"
            ],
            "image/png": "[encoded data removed]"
          },
          "metadata": {}
        }
      ]
    },
    {
      "cell_type": "markdown",
      "source": [
        "Ejes:\n",
        "Eje X - Sentimiento Promedio: Este eje representa el sentimiento promedio de las revisiones para un producto. Los valores van desde -1 a 1, donde:\n",
        "\n",
        "-1 indica un sentimiento extremadamente negativo.\n",
        "0 indica neutralidad en el sentimiento.\n",
        "1 indica un sentimiento extremadamente positivo.\n",
        "Eje Y - Sentimiento del Texto de Revisión: Este eje representa el sentimiento del texto completo de la revisión. Al igual que el eje X, los valores varían de -1 a 1, representando sentimientos desde extremadamente negativos hasta extremadamente positivos.\n",
        "\n",
        "Interpretación:\n",
        "Cluster Rojo: Los productos en este grupo tienden a tener revisiones que varían desde neutral hasta muy negativas en términos de sentimiento. En su mayoría, estos productos tienen una baja calificación de sentimiento promedio y un bajo sentimiento en el texto de la revisión.\n",
        "\n",
        "Cluster Verde: Los productos en este cluster tienen revisiones con un sentimiento que varía desde neutral hasta positivo. Están en la parte media en términos de sentimiento promedio y sentimiento del texto de revisión.\n",
        "\n",
        "Cluster Púrpura: Estos productos tienen revisiones con sentimientos predominantemente positivos. Tienen altos valores tanto para el sentimiento promedio como para el sentimiento del texto de la revisión.\n",
        "\n",
        "Conclusiones:\n",
        "Segmentación de Productos: Con esta clusterización, puedes segmentar tu conjunto de productos en aquellos que generalmente reciben críticas positivas, neutrales o negativas.\n",
        "\n",
        "Toma de Decisiones: Si estás en una posición de tomar decisiones relacionadas con los productos, podrías considerar revisar más a fondo los productos en el cluster rojo para identificar problemas y áreas de mejora.\n",
        "\n",
        "Estrategias de Marketing y Venta: Los productos en el cluster púrpura, que tienen críticas predominantemente positivas, podrían ser promocionados más intensamente, ya que es probable que sean bien recibidos por nuevos clientes.\n",
        "\n",
        "Finalmente, es esencial considerar el contexto del negocio y el producto al interpretar estos resultados. Si bien la clusterización proporciona una visión general basada en sentimientos, siempre es útil combinar estos hallazgos con otras métricas y análisis cualitativos para obtener una comprensión completa."
      ],
      "metadata": {
        "id": "tCIM3cVBRQOL"
      }
    },
    {
      "cell_type": "code",
      "source": [
        "grouped.head(5)"
      ],
      "metadata": {
        "colab": {
          "base_uri": "https://localhost:8080/",
          "height": 206
        },
        "id": "OIvgSlHsR2E0",
        "outputId": "3a5a238a-3cfd-451e-8eb6-188df655b623"
      },
      "execution_count": null,
      "outputs": [
        {
          "output_type": "execute_result",
          "data": {
            "text/plain": [
              "         asin  reviewText_sentiment  cluster\n",
              "0  0871167042              0.632713        2\n",
              "1  1519588135              0.568186        0\n",
              "2  1579652956              0.713937        2\n",
              "3  1936023857              0.765550        2\n",
              "4  5120053017              0.485311        0"
            ],
            "text/html": [
              "\n",
              "  <div id=\"df-13b2950f-6801-4910-bd39-7b2351aaa471\" class=\"colab-df-container\">\n",
              "    <div>\n",
              "<style scoped>\n",
              "    .dataframe tbody tr th:only-of-type {\n",
              "        vertical-align: middle;\n",
              "    }\n",
              "\n",
              "    .dataframe tbody tr th {\n",
              "        vertical-align: top;\n",
              "    }\n",
              "\n",
              "    .dataframe thead th {\n",
              "        text-align: right;\n",
              "    }\n",
              "</style>\n",
              "<table border=\"1\" class=\"dataframe\">\n",
              "  <thead>\n",
              "    <tr style=\"text-align: right;\">\n",
              "      <th></th>\n",
              "      <th>asin</th>\n",
              "      <th>reviewText_sentiment</th>\n",
              "      <th>cluster</th>\n",
              "    </tr>\n",
              "  </thead>\n",
              "  <tbody>\n",
              "    <tr>\n",
              "      <th>0</th>\n",
              "      <td>0871167042</td>\n",
              "      <td>0.632713</td>\n",
              "      <td>2</td>\n",
              "    </tr>\n",
              "    <tr>\n",
              "      <th>1</th>\n",
              "      <td>1519588135</td>\n",
              "      <td>0.568186</td>\n",
              "      <td>0</td>\n",
              "    </tr>\n",
              "    <tr>\n",
              "      <th>2</th>\n",
              "      <td>1579652956</td>\n",
              "      <td>0.713937</td>\n",
              "      <td>2</td>\n",
              "    </tr>\n",
              "    <tr>\n",
              "      <th>3</th>\n",
              "      <td>1936023857</td>\n",
              "      <td>0.765550</td>\n",
              "      <td>2</td>\n",
              "    </tr>\n",
              "    <tr>\n",
              "      <th>4</th>\n",
              "      <td>5120053017</td>\n",
              "      <td>0.485311</td>\n",
              "      <td>0</td>\n",
              "    </tr>\n",
              "  </tbody>\n",
              "</table>\n",
              "</div>\n",
              "    <div class=\"colab-df-buttons\">\n",
              "\n",
              "  <div class=\"colab-df-container\">\n",
              "    <button class=\"colab-df-convert\" onclick=\"convertToInteractive('df-13b2950f-6801-4910-bd39-7b2351aaa471')\"\n",
              "            title=\"Convert this dataframe to an interactive table.\"\n",
              "            style=\"display:none;\">\n",
              "\n",
              "  <svg xmlns=\"http://www.w3.org/2000/svg\" height=\"24px\" viewBox=\"0 -960 960 960\">\n",
              "    <path d=\"M120-120v-720h720v720H120Zm60-500h600v-160H180v160Zm220 220h160v-160H400v160Zm0 220h160v-160H400v160ZM180-400h160v-160H180v160Zm440 0h160v-160H620v160ZM180-180h160v-160H180v160Zm440 0h160v-160H620v160Z\"/>\n",
              "  </svg>\n",
              "    </button>\n",
              "\n",
              "  <style>\n",
              "    .colab-df-container {\n",
              "      display:flex;\n",
              "      gap: 12px;\n",
              "    }\n",
              "\n",
              "    .colab-df-convert {\n",
              "      background-color: #E8F0FE;\n",
              "      border: none;\n",
              "      border-radius: 50%;\n",
              "      cursor: pointer;\n",
              "      display: none;\n",
              "      fill: #1967D2;\n",
              "      height: 32px;\n",
              "      padding: 0 0 0 0;\n",
              "      width: 32px;\n",
              "    }\n",
              "\n",
              "    .colab-df-convert:hover {\n",
              "      background-color: #E2EBFA;\n",
              "      box-shadow: 0px 1px 2px rgba(60, 64, 67, 0.3), 0px 1px 3px 1px rgba(60, 64, 67, 0.15);\n",
              "      fill: #174EA6;\n",
              "    }\n",
              "\n",
              "    .colab-df-buttons div {\n",
              "      margin-bottom: 4px;\n",
              "    }\n",
              "\n",
              "    [theme=dark] .colab-df-convert {\n",
              "      background-color: #3B4455;\n",
              "      fill: #D2E3FC;\n",
              "    }\n",
              "\n",
              "    [theme=dark] .colab-df-convert:hover {\n",
              "      background-color: #434B5C;\n",
              "      box-shadow: 0px 1px 3px 1px rgba(0, 0, 0, 0.15);\n",
              "      filter: drop-shadow(0px 1px 2px rgba(0, 0, 0, 0.3));\n",
              "      fill: #FFFFFF;\n",
              "    }\n",
              "  </style>\n",
              "\n",
              "    <script>\n",
              "      const buttonEl =\n",
              "        document.querySelector('#df-13b2950f-6801-4910-bd39-7b2351aaa471 button.colab-df-convert');\n",
              "      buttonEl.style.display =\n",
              "        google.colab.kernel.accessAllowed ? 'block' : 'none';\n",
              "\n",
              "      async function convertToInteractive(key) {\n",
              "        const element = document.querySelector('#df-13b2950f-6801-4910-bd39-7b2351aaa471');\n",
              "        const dataTable =\n",
              "          await google.colab.kernel.invokeFunction('convertToInteractive',\n",
              "                                                    [key], {});\n",
              "        if (!dataTable) return;\n",
              "\n",
              "        const docLinkHtml = 'Like what you see? Visit the ' +\n",
              "          '<a target=\"_blank\" href=https://colab.research.google.com/notebooks/data_table.ipynb>data table notebook</a>'\n",
              "          + ' to learn more about interactive tables.';\n",
              "        element.innerHTML = '';\n",
              "        dataTable['output_type'] = 'display_data';\n",
              "        await google.colab.output.renderOutput(dataTable, element);\n",
              "        const docLink = document.createElement('div');\n",
              "        docLink.innerHTML = docLinkHtml;\n",
              "        element.appendChild(docLink);\n",
              "      }\n",
              "    </script>\n",
              "  </div>\n",
              "\n",
              "\n",
              "<div id=\"df-a3bd8c14-1745-44f0-97e7-8ade86f59c2d\">\n",
              "  <button class=\"colab-df-quickchart\" onclick=\"quickchart('df-a3bd8c14-1745-44f0-97e7-8ade86f59c2d')\"\n",
              "            title=\"Suggest charts\"\n",
              "            style=\"display:none;\">\n",
              "\n",
              "<svg xmlns=\"http://www.w3.org/2000/svg\" height=\"24px\"viewBox=\"0 0 24 24\"\n",
              "     width=\"24px\">\n",
              "    <g>\n",
              "        <path d=\"M19 3H5c-1.1 0-2 .9-2 2v14c0 1.1.9 2 2 2h14c1.1 0 2-.9 2-2V5c0-1.1-.9-2-2-2zM9 17H7v-7h2v7zm4 0h-2V7h2v10zm4 0h-2v-4h2v4z\"/>\n",
              "    </g>\n",
              "</svg>\n",
              "  </button>\n",
              "\n",
              "<style>\n",
              "  .colab-df-quickchart {\n",
              "      --bg-color: #E8F0FE;\n",
              "      --fill-color: #1967D2;\n",
              "      --hover-bg-color: #E2EBFA;\n",
              "      --hover-fill-color: #174EA6;\n",
              "      --disabled-fill-color: #AAA;\n",
              "      --disabled-bg-color: #DDD;\n",
              "  }\n",
              "\n",
              "  [theme=dark] .colab-df-quickchart {\n",
              "      --bg-color: #3B4455;\n",
              "      --fill-color: #D2E3FC;\n",
              "      --hover-bg-color: #434B5C;\n",
              "      --hover-fill-color: #FFFFFF;\n",
              "      --disabled-bg-color: #3B4455;\n",
              "      --disabled-fill-color: #666;\n",
              "  }\n",
              "\n",
              "  .colab-df-quickchart {\n",
              "    background-color: var(--bg-color);\n",
              "    border: none;\n",
              "    border-radius: 50%;\n",
              "    cursor: pointer;\n",
              "    display: none;\n",
              "    fill: var(--fill-color);\n",
              "    height: 32px;\n",
              "    padding: 0;\n",
              "    width: 32px;\n",
              "  }\n",
              "\n",
              "  .colab-df-quickchart:hover {\n",
              "    background-color: var(--hover-bg-color);\n",
              "    box-shadow: 0 1px 2px rgba(60, 64, 67, 0.3), 0 1px 3px 1px rgba(60, 64, 67, 0.15);\n",
              "    fill: var(--button-hover-fill-color);\n",
              "  }\n",
              "\n",
              "  .colab-df-quickchart-complete:disabled,\n",
              "  .colab-df-quickchart-complete:disabled:hover {\n",
              "    background-color: var(--disabled-bg-color);\n",
              "    fill: var(--disabled-fill-color);\n",
              "    box-shadow: none;\n",
              "  }\n",
              "\n",
              "  .colab-df-spinner {\n",
              "    border: 2px solid var(--fill-color);\n",
              "    border-color: transparent;\n",
              "    border-bottom-color: var(--fill-color);\n",
              "    animation:\n",
              "      spin 1s steps(1) infinite;\n",
              "  }\n",
              "\n",
              "  @keyframes spin {\n",
              "    0% {\n",
              "      border-color: transparent;\n",
              "      border-bottom-color: var(--fill-color);\n",
              "      border-left-color: var(--fill-color);\n",
              "    }\n",
              "    20% {\n",
              "      border-color: transparent;\n",
              "      border-left-color: var(--fill-color);\n",
              "      border-top-color: var(--fill-color);\n",
              "    }\n",
              "    30% {\n",
              "      border-color: transparent;\n",
              "      border-left-color: var(--fill-color);\n",
              "      border-top-color: var(--fill-color);\n",
              "      border-right-color: var(--fill-color);\n",
              "    }\n",
              "    40% {\n",
              "      border-color: transparent;\n",
              "      border-right-color: var(--fill-color);\n",
              "      border-top-color: var(--fill-color);\n",
              "    }\n",
              "    60% {\n",
              "      border-color: transparent;\n",
              "      border-right-color: var(--fill-color);\n",
              "    }\n",
              "    80% {\n",
              "      border-color: transparent;\n",
              "      border-right-color: var(--fill-color);\n",
              "      border-bottom-color: var(--fill-color);\n",
              "    }\n",
              "    90% {\n",
              "      border-color: transparent;\n",
              "      border-bottom-color: var(--fill-color);\n",
              "    }\n",
              "  }\n",
              "</style>\n",
              "\n",
              "  <script>\n",
              "    async function quickchart(key) {\n",
              "      const quickchartButtonEl =\n",
              "        document.querySelector('#' + key + ' button');\n",
              "      quickchartButtonEl.disabled = true;  // To prevent multiple clicks.\n",
              "      quickchartButtonEl.classList.add('colab-df-spinner');\n",
              "      try {\n",
              "        const charts = await google.colab.kernel.invokeFunction(\n",
              "            'suggestCharts', [key], {});\n",
              "      } catch (error) {\n",
              "        console.error('Error during call to suggestCharts:', error);\n",
              "      }\n",
              "      quickchartButtonEl.classList.remove('colab-df-spinner');\n",
              "      quickchartButtonEl.classList.add('colab-df-quickchart-complete');\n",
              "    }\n",
              "    (() => {\n",
              "      let quickchartButtonEl =\n",
              "        document.querySelector('#df-a3bd8c14-1745-44f0-97e7-8ade86f59c2d button');\n",
              "      quickchartButtonEl.style.display =\n",
              "        google.colab.kernel.accessAllowed ? 'block' : 'none';\n",
              "    })();\n",
              "  </script>\n",
              "</div>\n",
              "    </div>\n",
              "  </div>\n"
            ]
          },
          "metadata": {},
          "execution_count": 25
        }
      ]
    },
    {
      "cell_type": "code",
      "source": [
        "# Cambiar los nombres de los clusters\n",
        "cluster_names = {1: 'Negativo', 0: 'Neutro', 2: 'Positivo'}\n",
        "grouped['cluster'] = grouped['cluster'].replace(cluster_names)\n",
        "\n",
        "# Mostrar los primeros registros del DataFrame modificado\n",
        "print(grouped.head())\n"
      ],
      "metadata": {
        "colab": {
          "base_uri": "https://localhost:8080/"
        },
        "id": "SoBtsfOjyw1e",
        "outputId": "8cdcb5ba-cd4a-4170-a91b-43527908ec80"
      },
      "execution_count": null,
      "outputs": [
        {
          "output_type": "stream",
          "name": "stdout",
          "text": [
            "         asin  reviewText_sentiment   cluster  cluster_hdbscan\n",
            "0  0871167042              0.632713  Positivo                0\n",
            "1  1519588135              0.568186    Neutro                2\n",
            "2  1579652956              0.713937  Positivo                0\n",
            "3  1936023857              0.765550  Positivo               -1\n",
            "4  5120053017              0.485311    Neutro               -1\n"
          ]
        }
      ]
    },
    {
      "cell_type": "code",
      "source": [
        "pip install hdbscan"
      ],
      "metadata": {
        "colab": {
          "base_uri": "https://localhost:8080/"
        },
        "id": "N501harewZEA",
        "outputId": "8f037014-eb67-4ab7-d8e6-aae8bab4ed9c"
      },
      "execution_count": null,
      "outputs": [
        {
          "output_type": "stream",
          "name": "stdout",
          "text": [
            "Collecting hdbscan\n",
            "  Downloading hdbscan-0.8.33.tar.gz (5.2 MB)\n",
            "\u001b[2K     \u001b[90m━━━━━━━━━━━━━━━━━━━━━━━━━━━━━━━━━━━━━━━━\u001b[0m \u001b[32m5.2/5.2 MB\u001b[0m \u001b[31m29.9 MB/s\u001b[0m eta \u001b[36m0:00:00\u001b[0m\n",
            "\u001b[?25h  Installing build dependencies ... \u001b[?25l\u001b[?25hdone\n",
            "  Getting requirements to build wheel ... \u001b[?25l\u001b[?25hdone\n",
            "  Preparing metadata (pyproject.toml) ... \u001b[?25l\u001b[?25hdone\n",
            "Collecting cython<3,>=0.27 (from hdbscan)\n",
            "  Using cached Cython-0.29.36-cp310-cp310-manylinux_2_17_x86_64.manylinux2014_x86_64.manylinux_2_24_x86_64.whl (1.9 MB)\n",
            "Requirement already satisfied: numpy>=1.20 in /usr/local/lib/python3.10/dist-packages (from hdbscan) (1.23.5)\n",
            "Requirement already satisfied: scipy>=1.0 in /usr/local/lib/python3.10/dist-packages (from hdbscan) (1.11.3)\n",
            "Requirement already satisfied: scikit-learn>=0.20 in /usr/local/lib/python3.10/dist-packages (from hdbscan) (1.2.2)\n",
            "Requirement already satisfied: joblib>=1.0 in /usr/local/lib/python3.10/dist-packages (from hdbscan) (1.3.2)\n",
            "Requirement already satisfied: threadpoolctl>=2.0.0 in /usr/local/lib/python3.10/dist-packages (from scikit-learn>=0.20->hdbscan) (3.2.0)\n",
            "Building wheels for collected packages: hdbscan\n",
            "  Building wheel for hdbscan (pyproject.toml) ... \u001b[?25l\u001b[?25hdone\n",
            "  Created wheel for hdbscan: filename=hdbscan-0.8.33-cp310-cp310-linux_x86_64.whl size=3039156 sha256=40be10ff74b2832b7c10ba0c1966df8b8fc76582108432f79848484a4f5a3d29\n",
            "  Stored in directory: /root/.cache/pip/wheels/75/0b/3b/dc4f60b7cc455efaefb62883a7483e76f09d06ca81cf87d610\n",
            "Successfully built hdbscan\n",
            "Installing collected packages: cython, hdbscan\n",
            "  Attempting uninstall: cython\n",
            "    Found existing installation: Cython 3.0.5\n",
            "    Uninstalling Cython-3.0.5:\n",
            "      Successfully uninstalled Cython-3.0.5\n",
            "Successfully installed cython-0.29.36 hdbscan-0.8.33\n"
          ]
        }
      ]
    },
    {
      "cell_type": "code",
      "source": [
        "import hdbscan\n",
        "from sklearn.preprocessing import StandardScaler\n",
        "import pandas as pd\n",
        "import matplotlib.pyplot as plt\n",
        "import numpy as np\n",
        "\n",
        "# Aplicar HDBSCAN\n",
        "hdbscan_cluster = hdbscan.HDBSCAN(min_samples=20, min_cluster_size=15000)\n",
        "grouped['cluster_hdbscan'] = hdbscan_cluster.fit_predict(scaled_features)\n",
        "\n",
        "# Visualizar los resultados\n",
        "plt.figure(figsize=(10, 6))\n",
        "scatter = plt.scatter(grouped['reviewText_sentiment'], np.zeros(len(grouped)), c=grouped['cluster_hdbscan'], cmap='rainbow')\n",
        "plt.title('Clusterización de Productos basados en Sentimientos con HDBSCAN')\n",
        "plt.xlabel('Sentimiento del Texto de Revisión')\n",
        "plt.colorbar(scatter, label='Cluster')\n",
        "plt.yticks([])  # Ocultar los ticks del eje y\n",
        "plt.show()\n"
      ],
      "metadata": {
        "id": "dyEQQtj9R1zc",
        "colab": {
          "base_uri": "https://localhost:8080/",
          "height": 564
        },
        "outputId": "776a57d3-1b74-4351-ebc6-0b81707b4dad"
      },
      "execution_count": null,
      "outputs": [
        {
          "output_type": "display_data",
          "data": {
            "text/plain": [
              "<Figure size 1000x600 with 2 Axes>"
            ],
            "image/png": "[encoded data removed]"
          },
          "metadata": {}
        }
      ]
    },
    {
      "cell_type": "code",
      "source": [
        "# Guardar el DataFrame modificado como un archivo CSV\n",
        "grouped.to_csv('sentimientos_productos.csv', index=False)"
      ],
      "metadata": {
        "id": "RRlNKL-EzjVW"
      },
      "execution_count": null,
      "outputs": []
    }
  ]
}