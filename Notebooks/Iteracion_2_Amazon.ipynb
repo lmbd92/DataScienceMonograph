{
  "nbformat": 4,
  "nbformat_minor": 0,
  "metadata": {
    "colab": {
      "provenance": [],
      "machine_shape": "hm",
      "gpuType": "T4"
    },
    "kernelspec": {
      "name": "python3",
      "display_name": "Python 3"
    },
    "language_info": {
      "name": "python"
    },
    "accelerator": "GPU"
  },
  "cells": [
    {
      "cell_type": "markdown",
      "source": [
        "# Paso 1: Importar Librerías de Python\n"
      ],
      "metadata": {
        "id": "V-SSaV-bRZZl"
      }
    },
    {
      "cell_type": "code",
      "source": [
        "#pip install scikit-surprise"
      ],
      "metadata": {
        "id": "K4mFYevMKu6y",
        "colab": {
          "base_uri": "https://localhost:8080/"
        },
        "outputId": "12b88d03-8742-4cbd-8cb1-e134e56fc6ef"
      },
      "execution_count": 1,
      "outputs": [
        {
          "output_type": "stream",
          "name": "stdout",
          "text": [
            "Collecting scikit-surprise\n",
            "  Downloading scikit-surprise-1.1.3.tar.gz (771 kB)\n",
            "\u001b[?25l     \u001b[90m━━━━━━━━━━━━━━━━━━━━━━━━━━━━━━━━━━━━━━━━\u001b[0m \u001b[32m0.0/772.0 kB\u001b[0m \u001b[31m?\u001b[0m eta \u001b[36m-:--:--\u001b[0m\r\u001b[2K     \u001b[91m━━━━━━━━━━━\u001b[0m\u001b[91m╸\u001b[0m\u001b[90m━━━━━━━━━━━━━━━━━━━━━━━━━━━━\u001b[0m \u001b[32m225.3/772.0 kB\u001b[0m \u001b[31m6.5 MB/s\u001b[0m eta \u001b[36m0:00:01\u001b[0m\r\u001b[2K     \u001b[90m━━━━━━━━━━━━━━━━━━━━━━━━━━━━━━━━━━━━━━━━\u001b[0m \u001b[32m772.0/772.0 kB\u001b[0m \u001b[31m14.7 MB/s\u001b[0m eta \u001b[36m0:00:00\u001b[0m\n",
            "\u001b[?25h  Preparing metadata (setup.py) ... \u001b[?25l\u001b[?25hdone\n",
            "Requirement already satisfied: joblib>=1.0.0 in /usr/local/lib/python3.10/dist-packages (from scikit-surprise) (1.3.2)\n",
            "Requirement already satisfied: numpy>=1.17.3 in /usr/local/lib/python3.10/dist-packages (from scikit-surprise) (1.23.5)\n",
            "Requirement already satisfied: scipy>=1.3.2 in /usr/local/lib/python3.10/dist-packages (from scikit-surprise) (1.11.3)\n",
            "Building wheels for collected packages: scikit-surprise\n",
            "  Building wheel for scikit-surprise (setup.py) ... \u001b[?25l\u001b[?25hdone\n",
            "  Created wheel for scikit-surprise: filename=scikit_surprise-1.1.3-cp310-cp310-linux_x86_64.whl size=3163357 sha256=7fecbdb47ba2db8c34f0124d040cfd5c6ef12d393563b5a854b6a59274421c2a\n",
            "  Stored in directory: /root/.cache/pip/wheels/a5/ca/a8/4e28def53797fdc4363ca4af740db15a9c2f1595ebc51fb445\n",
            "Successfully built scikit-surprise\n",
            "Installing collected packages: scikit-surprise\n",
            "Successfully installed scikit-surprise-1.1.3\n"
          ]
        }
      ]
    },
    {
      "cell_type": "code",
      "source": [
        "import pandas as pd\n",
        "import numpy as np\n",
        "import matplotlib.pyplot as plt\n",
        "import seaborn as sns\n",
        "from datetime import datetime\n",
        "from google.colab import drive\n",
        "\n",
        "from sklearn.metrics.pairwise import cosine_similarity\n",
        "from surprise import SVD, Reader, Dataset, accuracy\n",
        "from surprise.model_selection import train_test_split\n",
        "from sklearn.metrics import mean_squared_error, mean_absolute_error\n",
        "from sklearn.model_selection import train_test_split\n",
        "\n",
        "\n",
        "from keras.models import Model\n",
        "from keras.layers import Input, Embedding, Flatten, Concatenate, Dense, Dropout, Dot\n",
        "from keras.optimizers import Adam\n",
        "\n",
        "from sklearn.preprocessing import LabelEncoder\n",
        "from surprise import Dataset, Reader, SVD, accuracy\n",
        "from surprise.model_selection import train_test_split, GridSearchCV\n",
        "import numpy as np\n",
        "from sklearn.metrics import mean_squared_error, mean_absolute_error\n",
        "\n",
        "\n",
        "from sklearn.preprocessing import LabelEncoder\n",
        "from sklearn.model_selection import train_test_split\n",
        "from sklearn.metrics import mean_squared_error, mean_absolute_error\n",
        "from keras.models import Model\n",
        "from keras.layers import Input, Embedding, Dot, Flatten, Dense, Dropout\n",
        "from keras.regularizers import l2\n",
        "from keras.callbacks import EarlyStopping, ReduceLROnPlateau\n",
        "import numpy as np\n",
        "\n",
        "from keras.layers import Embedding, Concatenate, Dropout, Dense, Flatten\n",
        "from keras.models import Model\n",
        "from keras.optimizers import Adam\n",
        "from keras.regularizers import l2\n",
        "from keras.callbacks import EarlyStopping, ReduceLROnPlateau\n",
        "from sklearn.model_selection import train_test_split\n",
        "from sklearn.metrics import mean_squared_error, mean_absolute_error\n",
        "import numpy as np\n",
        "\n",
        "from keras.regularizers import l2\n",
        "from keras.callbacks import EarlyStopping, ReduceLROnPlateau"
      ],
      "metadata": {
        "id": "47ItRxlORZ9i"
      },
      "execution_count": 2,
      "outputs": []
    },
    {
      "cell_type": "code",
      "source": [
        "drive.mount('/content/drive')"
      ],
      "metadata": {
        "id": "8bHcBRlQYY4h",
        "colab": {
          "base_uri": "https://localhost:8080/"
        },
        "outputId": "2d219507-277f-4ee8-d76f-e7dc9ab659f6"
      },
      "execution_count": 3,
      "outputs": [
        {
          "output_type": "stream",
          "name": "stdout",
          "text": [
            "Mounted at /content/drive\n"
          ]
        }
      ]
    },
    {
      "cell_type": "markdown",
      "source": [
        "# Paso 2: Lectura del Dataset"
      ],
      "metadata": {
        "id": "209f_YHQRaCi"
      }
    },
    {
      "cell_type": "code",
      "source": [
        "# Suponiendo que tu DataFrame se llama df\n",
        "df = pd.read_csv('/content/drive/MyDrive/EspecializacionA&DS/Monografia/2doSemestre/DataFinal_Amazon.csv')  # Descomenta y proporciona la ruta si estás cargando un archivo CSV"
      ],
      "metadata": {
        "id": "9vIFqmMIRaIc",
        "colab": {
          "base_uri": "https://localhost:8080/"
        },
        "outputId": "708fa578-1c92-4b9a-e73c-4ea91fc69442"
      },
      "execution_count": 4,
      "outputs": [
        {
          "output_type": "stream",
          "name": "stderr",
          "text": [
            "<ipython-input-4-1f8e3361d82a>:2: DtypeWarning: Columns (5) have mixed types. Specify dtype option on import or set low_memory=False.\n",
            "  df = pd.read_csv('/content/drive/MyDrive/EspecializacionA&DS/Monografia/2doSemestre/DataFinal_Amazon.csv')  # Descomenta y proporciona la ruta si estás cargando un archivo CSV\n"
          ]
        }
      ]
    },
    {
      "cell_type": "markdown",
      "source": [
        "# Paso 3: Reducción de Datos\n"
      ],
      "metadata": {
        "id": "bIdqast7RaNy"
      }
    },
    {
      "cell_type": "code",
      "source": [
        "# Tomar una muestra del 10% del dataset, si es necesario\n",
        "#df = df.sample(frac=0.3, random_state=42)"
      ],
      "metadata": {
        "id": "tOpHk3bJRaTB"
      },
      "execution_count": 5,
      "outputs": []
    },
    {
      "cell_type": "markdown",
      "source": [
        "# Paso 6: Limpieza/Transformación de Datos\n"
      ],
      "metadata": {
        "id": "3QtILgaERaty"
      }
    },
    {
      "cell_type": "code",
      "source": [
        "# Eliminemos posibles duplicados:\n",
        "df = df.drop_duplicates()"
      ],
      "metadata": {
        "id": "yBhdLFP8Raza"
      },
      "execution_count": 6,
      "outputs": []
    },
    {
      "cell_type": "code",
      "source": [
        "df.shape"
      ],
      "metadata": {
        "colab": {
          "base_uri": "https://localhost:8080/"
        },
        "id": "LwnA5HnLr8r6",
        "outputId": "ecd6bab6-b3a5-4f2b-9cdd-179e860e6189"
      },
      "execution_count": 12,
      "outputs": [
        {
          "output_type": "stream",
          "name": "stdout",
          "text": [
            "CPU times: user 25 µs, sys: 4 µs, total: 29 µs\n",
            "Wall time: 31.2 µs\n"
          ]
        },
        {
          "output_type": "execute_result",
          "data": {
            "text/plain": [
              "(4641903, 10)"
            ]
          },
          "metadata": {},
          "execution_count": 12
        }
      ]
    },
    {
      "cell_type": "markdown",
      "source": [
        "# Sistema de recomendación basado en filtrado colaborativo:\n",
        "\n",
        "Utilizaremos SVD para hacer recomendaciones basadas en interacciones pasadas.\n"
      ],
      "metadata": {
        "id": "mxZN3FMBKeKK"
      }
    },
    {
      "cell_type": "markdown",
      "source": [
        "Funcionamiento:\n",
        "\n",
        "SVD es una técnica matemática que descompone una matriz en tres matrices más pequeñas: U, Σ y V*. En el contexto de sistemas de recomendación, se usa para factorizar la matriz de usuario-ítem en componentes latentes, capturando patrones subyacentes en los datos.\n",
        "\n",
        "Ventajas:\n",
        "\n",
        "Es matemáticamente robusto y ha sido una técnica establecida durante mucho tiempo.\n",
        "\n",
        "Puede capturar relaciones no evidentes en los datos.\n",
        "\n",
        "Reducción de dimensionalidad: al capturar la esencia de los datos en factores latentes, se puede trabajar con dimensiones reducidas.\n",
        "\n",
        "Desventajas:\n",
        "\n",
        "No maneja bien datos faltantes. La matriz de usuario-ítem suele ser dispersa, y el SVD estándar no se diseñó para manejar matrices con muchos valores faltantes.\n",
        "\n",
        "Puede ser computacionalmente costoso para matrices muy grandes."
      ],
      "metadata": {
        "id": "2XrvAbzJn7RK"
      }
    },
    {
      "cell_type": "markdown",
      "source": [
        "Con esta modificación, primero se realiza una búsqueda de los mejores hiperparámetros para el algoritmo SVD utilizando GridSearchCV. Una vez encontrados los mejores hiperparámetros, el modelo se entrena y evalúa con estos."
      ],
      "metadata": {
        "id": "DDK7GPegeprk"
      }
    },
    {
      "cell_type": "code",
      "source": [
        "%%time\n",
        "from surprise.model_selection import train_test_split\n",
        "\n",
        "# Leer y procesar datos\n",
        "reader = Reader()\n",
        "data = Dataset.load_from_df(df[['reviewerID', 'asin', 'overall']], reader)\n",
        "\n",
        "# Dividir el dataset\n",
        "trainset, testset = train_test_split(data, test_size=0.3, random_state=10)\n",
        "\n",
        "# Optimización de hiperparámetros usando GridSearchCV\n",
        "param_grid = {\n",
        "    'n_epochs': [5, 10, 20],\n",
        "    'lr_all': [0.002, 0.005, 0.01],\n",
        "    'reg_all': [0.02, 0.1, 0.5]\n",
        "}\n",
        "gs = GridSearchCV(SVD, param_grid, measures=['rmse', 'mae'], cv=3)\n",
        "gs.fit(data)\n",
        "\n",
        "# Mejores hiperparámetros y sus correspondientes RMSE y MAE\n",
        "print(gs.best_params['rmse'])\n",
        "print(gs.best_score['rmse'])\n",
        "\n",
        "# Entrenar el modelo SVD con los mejores hiperparámetros\n",
        "svd = gs.best_estimator['rmse']\n",
        "svd.fit(trainset)\n",
        "predictions_svd = svd.test(testset)\n",
        "\n",
        "# Función para calcular el Mean Absolute Percentage Error (MAPE)\n",
        "def mape(y_true, y_pred):\n",
        "    y_true, y_pred = np.array(y_true), np.array(y_pred)\n",
        "    return np.mean(np.abs((y_true - y_pred) / y_true)) * 100\n",
        "\n",
        "# Evaluar el modelo\n",
        "rmse_svd = accuracy.rmse(predictions_svd, verbose=True)\n",
        "mse_svd = mean_squared_error([pred.r_ui for pred in predictions_svd], [pred.est for pred in predictions_svd])\n",
        "mae_svd = mean_absolute_error([pred.r_ui for pred in predictions_svd], [pred.est for pred in predictions_svd])\n",
        "mape_svd = mape([pred.r_ui for pred in predictions_svd], [pred.est for pred in predictions_svd])\n",
        "\n",
        "print(f\"SVD - RMSE: {rmse_svd}, MSE: {mse_svd}, MAE: {mae_svd}, MAPE: {mape_svd}\")\n"
      ],
      "metadata": {
        "colab": {
          "base_uri": "https://localhost:8080/"
        },
        "id": "V8EsHgJSOI-8",
        "outputId": "cc969aa6-eaf0-4c20-ea84-b956ffc1e075"
      },
      "execution_count": 13,
      "outputs": [
        {
          "output_type": "stream",
          "name": "stdout",
          "text": [
            "{'n_epochs': 20, 'lr_all': 0.01, 'reg_all': 0.1}\n",
            "1.080936999471357\n",
            "RMSE: 1.0786\n",
            "SVD - RMSE: 1.0785839307372322, MSE: 1.1633432956445788, MAE: 0.8076657455037248, MAPE: 33.50687027698853\n",
            "CPU times: user 1h 21min 28s, sys: 1min 41s, total: 1h 23min 9s\n",
            "Wall time: 1h 22min 16s\n"
          ]
        }
      ]
    },
    {
      "cell_type": "markdown",
      "source": [
        "# Modelo de Filtrado Colaborativo usando Embedding con Keras:"
      ],
      "metadata": {
        "id": "5lMsQcyyS2NS"
      }
    },
    {
      "cell_type": "markdown",
      "source": [
        "Funcionamiento:\n",
        "\n",
        "Los embeddings son representaciones vectoriales densas y de baja dimensión de ítems y/o usuarios. Estas representaciones capturan relaciones semánticas entre ítems o entre usuarios.\n",
        "\n",
        "Un método popular para generar embeddings es la factorización de matrices, como la descomposición en valores singulares (SVD). En el contexto de sistemas de recomendación, se busca factorizar la matriz de interacciones usuario-ítem en dos matrices más pequeñas (una para los usuarios y otra para los ítems) cuyo producto aproximado reproduce la matriz original lo mejor posible.\n",
        "\n",
        "Una vez que se han obtenido los embeddings, la predicción de una calificación o interacción entre un usuario e ítem se realiza tomando el producto escalar entre sus embeddings respectivos.\n",
        "\n",
        "Ventajas:\n",
        "\n",
        "Simplicidad y eficiencia en términos computacionales.\n",
        "\n",
        "Puede manejar grandes conjuntos de datos debido a su naturaleza de baja dimensión.\n",
        "\n",
        "Es efectivo para capturar patrones subyacentes en los datos.\n",
        "\n",
        "Desventajas:\n",
        "\n",
        "No tiene en cuenta características adicionales de usuarios o ítems.\n",
        "\n",
        "Dificultades para manejar nuevos ítems o usuarios (problema de arranque en frío)."
      ],
      "metadata": {
        "id": "yQ49x7CvmOfM"
      }
    },
    {
      "cell_type": "markdown",
      "source": [
        "El código ahora incluye regularización en los embeddings, un callback para detener el entrenamiento si no hay mejoras (early stopping) y otro para reducir la tasa de aprendizaje si el error de validación no mejora (reduce learning rate on plateau)."
      ],
      "metadata": {
        "id": "sJ482XODiA8T"
      }
    },
    {
      "cell_type": "code",
      "source": [
        "#df.head(3)"
      ],
      "metadata": {
        "id": "XXM_JoQfJrAb"
      },
      "execution_count": null,
      "outputs": []
    },
    {
      "cell_type": "code",
      "source": [
        "data = df"
      ],
      "metadata": {
        "id": "3oQAn6BZT8ZB"
      },
      "execution_count": 14,
      "outputs": []
    },
    {
      "cell_type": "code",
      "source": [
        "# Crear un LabelEncoder para cada columna\n",
        "reviewerID_encoder = LabelEncoder()\n",
        "asin_encoder = LabelEncoder()\n",
        "\n",
        "# Ajustar y transformar las columnas\n",
        "data['reviewerID_encoded'] = reviewerID_encoder.fit_transform(data['reviewerID'])\n",
        "data['asin_encoded'] = asin_encoder.fit_transform(data['asin'])\n",
        "\n",
        "# Número de usuarios únicos y número de ítems únicos\n",
        "n_users = len(np.unique(data['reviewerID_encoded']))\n",
        "n_items = len(np.unique(data['asin_encoded']))\n",
        "\n",
        "# Dimensiones del embedding\n",
        "embedding_dim = 10\n",
        "\n",
        "# Entradas\n",
        "user_input = Input(shape=(1,))\n",
        "item_input = Input(shape=(1,))\n",
        "\n",
        "# Embeddings con regularización\n",
        "user_embedding = Embedding(n_users, embedding_dim, embeddings_regularizer=l2(1e-6))(user_input)\n",
        "item_embedding = Embedding(n_items, embedding_dim, embeddings_regularizer=l2(1e-6))(item_input)\n",
        "\n",
        "# Producto punto para predecir la valoración/rating\n",
        "merged = Dot(axes=2)([user_embedding, item_embedding])\n",
        "merged = Flatten()(merged)\n",
        "\n",
        "# Modelo\n",
        "model = Model(inputs=[user_input, item_input], outputs=merged)\n",
        "model.compile(optimizer='adam', loss='mse', metrics=['mae'])"
      ],
      "metadata": {
        "id": "22AEmdhqU9vC"
      },
      "execution_count": 15,
      "outputs": []
    },
    {
      "cell_type": "markdown",
      "source": [
        "verbose=0: No muestra ninguna barra de progreso ni métricas.\n",
        "\n",
        "verbose=1: Muestra una barra de progreso y actualiza las métricas después de cada lote.\n",
        "\n",
        "verbose=2: Muestra las métricas después de cada época, pero no muestra la barra de progreso."
      ],
      "metadata": {
        "id": "ZN3t1PGSYEzR"
      }
    },
    {
      "cell_type": "code",
      "source": [
        "# https://www.aprendemachinelearning.com/sistemas-de-recomendacion/"
      ],
      "metadata": {
        "id": "U72CIb2yKCTW"
      },
      "execution_count": null,
      "outputs": []
    },
    {
      "cell_type": "code",
      "source": [
        "from sklearn.model_selection import train_test_split\n",
        "\n",
        "# Crear los arrays con los datos\n",
        "user_ids = data['reviewerID_encoded'].values\n",
        "item_ids = data['asin_encoded'].values\n",
        "ratings = data['overall'].values\n",
        "\n",
        "# Dividir en train y test\n",
        "(user_ids_train, user_ids_test, item_ids_train, item_ids_test, ratings_train, ratings_test) = train_test_split(\n",
        "    user_ids, item_ids, ratings,\n",
        "    test_size=0.3,\n",
        "    random_state=42\n",
        ")"
      ],
      "metadata": {
        "id": "J3n02-vPg5wh"
      },
      "execution_count": 18,
      "outputs": []
    },
    {
      "cell_type": "code",
      "source": [
        "# Callbacks\n",
        "early_stop = EarlyStopping(monitor='val_loss', patience=10)\n",
        "reduce_lr = ReduceLROnPlateau(monitor='val_loss', factor=0.2, patience=5, min_lr=1e-5)"
      ],
      "metadata": {
        "id": "NYbYJfevgXpj"
      },
      "execution_count": 19,
      "outputs": []
    },
    {
      "cell_type": "code",
      "source": [
        "# Entrenar el modelo con el conjunto de entrenamiento\n",
        "model.fit([user_ids_train, item_ids_train], ratings_train, validation_data=([user_ids_test, item_ids_test], ratings_test), epochs=50, batch_size=80000, verbose=1, callbacks=[early_stop, reduce_lr])\n",
        "\n",
        "predictions = model.predict([user_ids_test, item_ids_test])"
      ],
      "metadata": {
        "colab": {
          "base_uri": "https://localhost:8080/"
        },
        "id": "jOiSfVMfg5tw",
        "outputId": "85a02049-f6cc-4500-fd83-8968a0e3fadc"
      },
      "execution_count": 20,
      "outputs": [
        {
          "output_type": "stream",
          "name": "stdout",
          "text": [
            "Epoch 1/50\n",
            "41/41 [==============================] - 6s 16ms/step - loss: 19.5103 - mae: 4.2587 - val_loss: 19.5136 - val_mae: 4.2593 - lr: 0.0010\n",
            "Epoch 2/50\n",
            "41/41 [==============================] - 0s 11ms/step - loss: 19.5014 - mae: 4.2579 - val_loss: 19.5112 - val_mae: 4.2591 - lr: 0.0010\n",
            "Epoch 3/50\n",
            "41/41 [==============================] - 0s 11ms/step - loss: 19.4887 - mae: 4.2566 - val_loss: 19.5063 - val_mae: 4.2586 - lr: 0.0010\n",
            "Epoch 4/50\n",
            "41/41 [==============================] - 0s 11ms/step - loss: 19.4651 - mae: 4.2539 - val_loss: 19.4960 - val_mae: 4.2573 - lr: 0.0010\n",
            "Epoch 5/50\n",
            "41/41 [==============================] - 0s 11ms/step - loss: 19.4216 - mae: 4.2487 - val_loss: 19.4781 - val_mae: 4.2548 - lr: 0.0010\n",
            "Epoch 6/50\n",
            "41/41 [==============================] - 0s 11ms/step - loss: 19.3498 - mae: 4.2401 - val_loss: 19.4518 - val_mae: 4.2511 - lr: 0.0010\n",
            "Epoch 7/50\n",
            "41/41 [==============================] - 0s 11ms/step - loss: 19.2433 - mae: 4.2270 - val_loss: 19.4177 - val_mae: 4.2460 - lr: 0.0010\n",
            "Epoch 8/50\n",
            "41/41 [==============================] - 0s 11ms/step - loss: 19.0983 - mae: 4.2091 - val_loss: 19.3771 - val_mae: 4.2396 - lr: 0.0010\n",
            "Epoch 9/50\n",
            "41/41 [==============================] - 0s 11ms/step - loss: 18.9137 - mae: 4.1858 - val_loss: 19.3314 - val_mae: 4.2319 - lr: 0.0010\n",
            "Epoch 10/50\n",
            "41/41 [==============================] - 0s 11ms/step - loss: 18.6905 - mae: 4.1572 - val_loss: 19.2821 - val_mae: 4.2231 - lr: 0.0010\n",
            "Epoch 11/50\n",
            "41/41 [==============================] - 0s 11ms/step - loss: 18.4316 - mae: 4.1233 - val_loss: 19.2311 - val_mae: 4.2133 - lr: 0.0010\n",
            "Epoch 12/50\n",
            "41/41 [==============================] - 0s 11ms/step - loss: 18.1404 - mae: 4.0845 - val_loss: 19.1795 - val_mae: 4.2026 - lr: 0.0010\n",
            "Epoch 13/50\n",
            "41/41 [==============================] - 0s 11ms/step - loss: 17.8213 - mae: 4.0411 - val_loss: 19.1291 - val_mae: 4.1911 - lr: 0.0010\n",
            "Epoch 14/50\n",
            "41/41 [==============================] - 0s 11ms/step - loss: 17.4787 - mae: 3.9934 - val_loss: 19.0809 - val_mae: 4.1791 - lr: 0.0010\n",
            "Epoch 15/50\n",
            "41/41 [==============================] - 0s 11ms/step - loss: 17.1167 - mae: 3.9417 - val_loss: 19.0359 - val_mae: 4.1666 - lr: 0.0010\n",
            "Epoch 16/50\n",
            "41/41 [==============================] - 0s 11ms/step - loss: 16.7399 - mae: 3.8866 - val_loss: 18.9950 - val_mae: 4.1537 - lr: 0.0010\n",
            "Epoch 17/50\n",
            "41/41 [==============================] - 0s 11ms/step - loss: 16.3518 - mae: 3.8284 - val_loss: 18.9586 - val_mae: 4.1406 - lr: 0.0010\n",
            "Epoch 18/50\n",
            "41/41 [==============================] - 0s 12ms/step - loss: 15.9563 - mae: 3.7676 - val_loss: 18.9275 - val_mae: 4.1274 - lr: 0.0010\n",
            "Epoch 19/50\n",
            "41/41 [==============================] - 0s 11ms/step - loss: 15.5566 - mae: 3.7044 - val_loss: 18.9017 - val_mae: 4.1142 - lr: 0.0010\n",
            "Epoch 20/50\n",
            "41/41 [==============================] - 0s 11ms/step - loss: 15.1556 - mae: 3.6394 - val_loss: 18.8811 - val_mae: 4.1011 - lr: 0.0010\n",
            "Epoch 21/50\n",
            "41/41 [==============================] - 0s 11ms/step - loss: 14.7556 - mae: 3.5728 - val_loss: 18.8659 - val_mae: 4.0881 - lr: 0.0010\n",
            "Epoch 22/50\n",
            "41/41 [==============================] - 0s 11ms/step - loss: 14.3591 - mae: 3.5051 - val_loss: 18.8560 - val_mae: 4.0753 - lr: 0.0010\n",
            "Epoch 23/50\n",
            "41/41 [==============================] - 0s 11ms/step - loss: 13.9679 - mae: 3.4364 - val_loss: 18.8510 - val_mae: 4.0628 - lr: 0.0010\n",
            "Epoch 24/50\n",
            "41/41 [==============================] - 0s 11ms/step - loss: 13.5837 - mae: 3.3672 - val_loss: 18.8508 - val_mae: 4.0506 - lr: 0.0010\n",
            "Epoch 25/50\n",
            "41/41 [==============================] - 0s 11ms/step - loss: 13.2079 - mae: 3.2976 - val_loss: 18.8549 - val_mae: 4.0386 - lr: 0.0010\n",
            "Epoch 26/50\n",
            "41/41 [==============================] - 0s 11ms/step - loss: 12.8417 - mae: 3.2280 - val_loss: 18.8633 - val_mae: 4.0270 - lr: 0.0010\n",
            "Epoch 27/50\n",
            "41/41 [==============================] - 0s 11ms/step - loss: 12.4858 - mae: 3.1586 - val_loss: 18.8756 - val_mae: 4.0157 - lr: 0.0010\n",
            "Epoch 28/50\n",
            "41/41 [==============================] - 0s 11ms/step - loss: 12.1411 - mae: 3.0895 - val_loss: 18.8912 - val_mae: 4.0047 - lr: 0.0010\n",
            "Epoch 29/50\n",
            "41/41 [==============================] - 0s 11ms/step - loss: 11.8082 - mae: 3.0210 - val_loss: 18.9101 - val_mae: 3.9941 - lr: 0.0010\n",
            "Epoch 30/50\n",
            "41/41 [==============================] - 0s 11ms/step - loss: 11.5545 - mae: 2.9697 - val_loss: 18.9141 - val_mae: 3.9920 - lr: 2.0000e-04\n",
            "Epoch 31/50\n",
            "41/41 [==============================] - 0s 11ms/step - loss: 11.4918 - mae: 2.9564 - val_loss: 18.9182 - val_mae: 3.9900 - lr: 2.0000e-04\n",
            "Epoch 32/50\n",
            "41/41 [==============================] - 0s 11ms/step - loss: 11.4304 - mae: 2.9433 - val_loss: 18.9224 - val_mae: 3.9879 - lr: 2.0000e-04\n",
            "Epoch 33/50\n",
            "41/41 [==============================] - 0s 11ms/step - loss: 11.3702 - mae: 2.9303 - val_loss: 18.9265 - val_mae: 3.9859 - lr: 2.0000e-04\n",
            "Epoch 34/50\n",
            "41/41 [==============================] - 0s 11ms/step - loss: 11.3111 - mae: 2.9174 - val_loss: 18.9307 - val_mae: 3.9840 - lr: 2.0000e-04\n",
            "43518/43518 [==============================] - 55s 1ms/step\n"
          ]
        }
      ]
    },
    {
      "cell_type": "code",
      "source": [
        "# Evaluar el modelo con el conjunto de prueba\n",
        "loss, mae = model.evaluate([user_ids_test, item_ids_test], ratings_test, batch_size=80000)\n",
        "print(f'Test Loss: {loss:.4f}')\n",
        "print(f'Test MAE: {mae:.4f}')"
      ],
      "metadata": {
        "colab": {
          "base_uri": "https://localhost:8080/"
        },
        "id": "SMJd_nt7g5h4",
        "outputId": "e610403f-ea86-4400-e63f-31375b139e3f"
      },
      "execution_count": 21,
      "outputs": [
        {
          "output_type": "stream",
          "name": "stdout",
          "text": [
            "18/18 [==============================] - 0s 3ms/step - loss: 18.9307 - mae: 3.9840\n",
            "Test Loss: 18.9307\n",
            "Test MAE: 3.9840\n"
          ]
        }
      ]
    },
    {
      "cell_type": "code",
      "source": [
        "# MSE\n",
        "mse = mean_squared_error(ratings_test, predictions)\n",
        "print(f\"MSE: {mse:.4f}\")\n",
        "\n",
        "# RMSE\n",
        "rmse = np.sqrt(mse)\n",
        "print(f\"RMSE: {rmse:.4f}\")\n",
        "\n",
        "# MAE\n",
        "mae = mean_absolute_error(ratings_test, predictions)\n",
        "print(f\"MAE: {mae:.4f}\")\n",
        "\n",
        "# MAPE (Mean Absolute Percentage Error)\n",
        "mape = np.mean(np.abs((ratings_test - predictions.flatten()) / ratings_test)) * 100\n",
        "print(f\"MAPE: {mape:.2f}%\")"
      ],
      "metadata": {
        "id": "USnKRkm0KCdW",
        "colab": {
          "base_uri": "https://localhost:8080/"
        },
        "outputId": "0c0e5fd4-38ae-4748-9036-65056f106f40"
      },
      "execution_count": 22,
      "outputs": [
        {
          "output_type": "stream",
          "name": "stdout",
          "text": [
            "MSE: 18.0454\n",
            "RMSE: 4.2480\n",
            "MAE: 3.9840\n",
            "MAPE: 93.47%\n"
          ]
        }
      ]
    },
    {
      "cell_type": "markdown",
      "source": [
        "# Modelo de Filtrado Colaborativo usando Red Neuronal Multicapa con Keras:"
      ],
      "metadata": {
        "id": "odgbIWArkJ2y"
      }
    },
    {
      "cell_type": "markdown",
      "source": [
        "Funcionamiento:\n",
        "\n",
        "Estos sistemas toman características de los ítems y/o usuarios y las pasan a través de una o varias capas de neuronas para obtener una predicción.\n",
        "Las redes neuronales son capaces de capturar interacciones no lineales entre características, lo que las hace poderosas para tareas de modelado complejas.\n",
        "\n",
        "Ventajas:\n",
        "\n",
        "Capacidad de modelar relaciones no lineales.\n",
        "\n",
        "Flexibilidad para incorporar múltiples fuentes de datos o características.\n",
        "\n",
        "Puede manejar arranques en frío al incorporar características de nuevos ítems o usuarios.\n",
        "\n",
        "Desventajas:\n",
        "\n",
        "Mayor costo computacional en comparación con los sistemas basados únicamente en embeddings.\n",
        "\n",
        "Riesgo de sobreajuste si no se tiene un conjunto de datos lo suficientemente grande."
      ],
      "metadata": {
        "id": "vBK_zPK7lvti"
      }
    },
    {
      "cell_type": "markdown",
      "source": [
        "Ahora el código incluye regularización en los embeddings, early stopping para detener el entrenamiento si el modelo deja de mejorar en el conjunto de validación, y reducción de la tasa de aprendizaje si el error en el conjunto de validación no mejora después de algunas épocas. Estas adiciones deberían ayudar a mejorar la capacidad de generalización del modelo."
      ],
      "metadata": {
        "id": "YMnns-ENh_KJ"
      }
    },
    {
      "cell_type": "code",
      "source": [
        "# Suponiendo que el DataFrame se llama df\n",
        "df['user_id'] = df['reviewerID'].astype('category').cat.codes.values\n",
        "df['item_id'] = df['asin'].astype('category').cat.codes.values\n",
        "\n",
        "# Número de usuarios e ítems\n",
        "n_users = df['user_id'].nunique()\n",
        "n_items = df['item_id'].nunique()\n",
        "\n",
        "# Hiperparámetros\n",
        "embedding_dim = 50\n",
        "hidden_units = [128, 64, 32]\n",
        "dropout_rate = 0.2\n",
        "l2_reg = 1e-6\n",
        "\n",
        "# Entradas y embeddings\n",
        "user_input = Input(shape=[1], name='user_input')\n",
        "item_input = Input(shape=[1], name='item_input')\n",
        "user_embedding = Embedding(n_users, embedding_dim, embeddings_regularizer=l2(l2_reg))(user_input)\n",
        "item_embedding = Embedding(n_items, embedding_dim, embeddings_regularizer=l2(l2_reg))(item_input)\n",
        "user_vec = Flatten()(user_embedding)\n",
        "item_vec = Flatten()(item_embedding)\n",
        "\n",
        "# Concatenar y pasar por capas ocultas\n",
        "concat = Concatenate()([user_vec, item_vec])\n",
        "dense = concat\n",
        "for units in hidden_units:\n",
        "    dense = Dense(units, activation='relu')(dense)\n",
        "    dense = Dropout(dropout_rate)(dense)\n",
        "output = Dense(1)(dense)\n",
        "\n",
        "# Compilar modelo\n",
        "model = Model(inputs=[user_input, item_input], outputs=output)\n",
        "model.compile(optimizer=Adam(0.001), loss='mean_squared_error')"
      ],
      "metadata": {
        "id": "ZFgVZSeTkKGy"
      },
      "execution_count": 23,
      "outputs": []
    },
    {
      "cell_type": "code",
      "source": [
        "# Callbacks\n",
        "early_stop = EarlyStopping(monitor='val_loss', patience=5)\n",
        "reduce_lr = ReduceLROnPlateau(monitor='val_loss', factor=0.2, patience=3, min_lr=1e-5)\n"
      ],
      "metadata": {
        "id": "N7uvl8VEhqdD"
      },
      "execution_count": 24,
      "outputs": []
    },
    {
      "cell_type": "code",
      "source": [
        "# Datos para entrenamiento\n",
        "user_data = df['user_id'].values\n",
        "item_data = df['item_id'].values\n",
        "rating_data = df['overall'].values\n",
        "\n",
        "# Dividir los datos\n",
        "user_data_train, user_data_val, item_data_train, item_data_val, ratings_train, ratings_val = train_test_split(\n",
        "    user_data, item_data, rating_data, test_size=0.3, random_state=42\n",
        ")\n",
        "\n",
        "# Entrenamiento del modelo\n",
        "history = model.fit(\n",
        "    [user_data_train, item_data_train], ratings_train,\n",
        "    epochs=10,\n",
        "    validation_data=([user_data_val, item_data_val], ratings_val),\n",
        "    batch_size=80000,\n",
        "    verbose=1,\n",
        "    callbacks=[early_stop, reduce_lr]\n",
        ")\n",
        "\n",
        "# Evaluar el modelo\n",
        "y_true = ratings_val\n",
        "predictions = model.predict([user_data_val, item_data_val])"
      ],
      "metadata": {
        "colab": {
          "base_uri": "https://localhost:8080/"
        },
        "id": "blU4Q9akkVBc",
        "outputId": "e6b8c214-16d6-4cde-9f38-d9ff54a45849"
      },
      "execution_count": 25,
      "outputs": [
        {
          "output_type": "stream",
          "name": "stdout",
          "text": [
            "Epoch 1/10\n",
            "41/41 [==============================] - 5s 49ms/step - loss: 12.5411 - val_loss: 2.4544 - lr: 0.0010\n",
            "Epoch 2/10\n",
            "41/41 [==============================] - 2s 45ms/step - loss: 2.2121 - val_loss: 1.3911 - lr: 0.0010\n",
            "Epoch 3/10\n",
            "41/41 [==============================] - 2s 45ms/step - loss: 1.6014 - val_loss: 1.4035 - lr: 0.0010\n",
            "Epoch 4/10\n",
            "41/41 [==============================] - 2s 46ms/step - loss: 1.4044 - val_loss: 1.4284 - lr: 0.0010\n",
            "Epoch 5/10\n",
            "41/41 [==============================] - 2s 46ms/step - loss: 1.2980 - val_loss: 1.4393 - lr: 0.0010\n",
            "Epoch 6/10\n",
            "41/41 [==============================] - 2s 46ms/step - loss: 1.1978 - val_loss: 1.4558 - lr: 2.0000e-04\n",
            "Epoch 7/10\n",
            "41/41 [==============================] - 2s 45ms/step - loss: 1.1711 - val_loss: 1.4643 - lr: 2.0000e-04\n",
            "43518/43518 [==============================] - 65s 2ms/step\n"
          ]
        }
      ]
    },
    {
      "cell_type": "code",
      "source": [
        "# MSE y RMSE\n",
        "mse = mean_squared_error(y_true, predictions)\n",
        "rmse = np.sqrt(mse)\n",
        "\n",
        "# MAE\n",
        "mae = mean_absolute_error(y_true, predictions)\n",
        "\n",
        "# Funciones MAPE\n",
        "def mean_absolute_percentage_error(y_true, y_pred):\n",
        "    y_true, y_pred = np.array(y_true), np.array(y_pred)\n",
        "    non_zero_idx = y_true != 0  # Para evitar divisiones por cero\n",
        "    return np.mean(np.abs((y_true[non_zero_idx] - y_pred[non_zero_idx]) / y_true[non_zero_idx])) * 100\n",
        "\n",
        "def compute_mape_by_batch(y_true, predictions, batch_size=50000):\n",
        "    mape_sum = 0\n",
        "    num_batches = int(np.ceil(len(y_true) / batch_size))\n",
        "\n",
        "    for i in range(num_batches):\n",
        "        start_idx = i * batch_size\n",
        "        end_idx = start_idx + batch_size\n",
        "\n",
        "        batch_y_true = y_true[start_idx:end_idx]\n",
        "        batch_predictions = predictions[start_idx:end_idx]\n",
        "\n",
        "        mape_sum += mean_absolute_percentage_error(batch_y_true, batch_predictions)\n",
        "\n",
        "    return mape_sum / num_batches\n",
        "\n",
        "# Luego llamas a la función\n",
        "mape = compute_mape_by_batch(y_true, predictions)\n",
        "\n",
        "print(f'MSE: {mse}')\n",
        "print(f'RMSE: {rmse}')\n",
        "print(f'MAE: {mae}')\n",
        "print(f'MAPE: {mape}%')"
      ],
      "metadata": {
        "colab": {
          "base_uri": "https://localhost:8080/"
        },
        "id": "CmYiE_PhkU66",
        "outputId": "10c3a6c7-002c-40c9-9381-d82b8ccb6e83"
      },
      "execution_count": 26,
      "outputs": [
        {
          "output_type": "stream",
          "name": "stdout",
          "text": [
            "MSE: 1.398927181896168\n",
            "RMSE: 1.1827625213440642\n",
            "MAE: 0.9061803599856681\n",
            "MAPE: 41.10793201243475%\n"
          ]
        }
      ]
    },
    {
      "cell_type": "markdown",
      "source": [
        "# Modelo de Filtrado Colaborativo usando Red Neuronal Multicapa y Embedding con Keras:\n",
        "\n",
        "Otra enfoque popular para filtrado colaborativo es utilizar redes neuronales multicapa, que esencialmente aprenden características no lineales de los datos. Vamos a construir un modelo que fusiona los embeddings de usuarios y artículos (por ejemplo, películas) en una red neuronal densa.\n",
        "\n",
        "Este enfoque, que combina embeddings y redes neuronales multicapa, puede capturar interacciones más complejas y no lineales entre usuarios y artículos. Sin embargo, es crucial prestar atención al sobreajuste y asegurarse de que el modelo no esté simplemente memorizando los datos. Por lo tanto, es recomendable emplear técnicas de regularización, ajustar hiperparámetros y validar el rendimiento con un conjunto de datos de validación."
      ],
      "metadata": {
        "id": "WTOAZeGrujrU"
      }
    },
    {
      "cell_type": "markdown",
      "source": [
        "Funcionamiento:\n",
        "\n",
        "Combina lo mejor de ambos mundos. Primero, se utilizan embeddings para convertir ítems y usuarios en representaciones vectoriales densas. Luego, estas representaciones se pasan a través de una red neuronal para hacer la predicción.\n",
        "\n",
        "El proceso generalmente comienza con capas de embedding que convierten identificadores de usuarios e ítems en vectores. Estos vectores luego se pasan a través de capas densas para obtener la predicción final.\n",
        "\n",
        "Ventajas:\n",
        "\n",
        "Capacidad de capturar patrones subyacentes en los datos mediante embeddings y modelar interacciones no lineales mediante la red neuronal.\n",
        "\n",
        "Flexibilidad para incorporar características adicionales.\n",
        "\n",
        "Potencialmente más preciso que cualquiera de los otros dos métodos por separado.\n",
        "\n",
        "Desventajas:\n",
        "\n",
        "Mayor complejidad en el modelado y entrenamiento.\n",
        "\n",
        "Mayor costo computacional.\n",
        "\n",
        "Requiere un ajuste más cuidadoso y riesgo de sobreajuste si no se gestiona adecuadamente."
      ],
      "metadata": {
        "id": "i3Rzzhtfl7nK"
      }
    },
    {
      "cell_type": "markdown",
      "source": [
        "Regularización L2: Agregar una regularización L2 a las capas de embedding y densas para prevenir el sobreajuste.\n",
        "\n",
        "Early Stopping: Añadir una callback de early stopping para detener el entrenamiento cuando no haya mejora en el conjunto de validación durante un cierto número de épocas.\n",
        "\n",
        "Ajuste de la tasa de aprendizaje: Utilizar la callback ReduceLROnPlateau para reducir la tasa de aprendizaje cuando no haya mejora en el conjunto de validación.\n",
        "\n",
        "Métricas adicionales: Puedes monitorizar otras métricas como el error absoluto medio (MAE) durante el entrenamiento."
      ],
      "metadata": {
        "id": "uY_n_5u4ymE8"
      }
    },
    {
      "cell_type": "code",
      "source": [
        "# Suponiendo que el DataFrame se llama df\n",
        "df = df\n",
        "\n",
        "# Convertir reviewerID y asin a índices numéricos secuenciales\n",
        "df['user_id'] = df['reviewerID'].astype('category').cat.codes.values\n",
        "df['item_id'] = df['asin'].astype('category').cat.codes.values\n",
        "\n",
        "# Número de usuarios e ítems\n",
        "n_users = df['user_id'].nunique()\n",
        "n_items = df['item_id'].nunique()\n",
        "\n",
        "# Hiperparámetros\n",
        "n_latent_factors = 50\n",
        "hidden_units = [128, 64]\n",
        "dropout_rate = 0.2\n",
        "l2_reg = 1e-4\n",
        "\n",
        "# Arquitectura del modelo con regularización L2\n",
        "user_embedding = Embedding(n_users, n_latent_factors, embeddings_regularizer=l2(l2_reg), name='user_embedding')(user_input)\n",
        "item_embedding = Embedding(n_items, n_latent_factors, embeddings_regularizer=l2(l2_reg), name='item_embedding')(item_input)\n",
        "\n",
        "user_vec = Flatten(name='flatten_users')(user_embedding)\n",
        "item_vec = Flatten(name='flatten_items')(item_embedding)\n",
        "concat = Concatenate()([user_vec, item_vec])\n",
        "dense = concat\n",
        "for units in hidden_units:\n",
        "    dense = Dense(units, activation='relu', kernel_regularizer=l2(l2_reg))(dense)\n",
        "    dense = Dropout(dropout_rate)(dense)\n",
        "output = Dense(1, kernel_regularizer=l2(l2_reg))(dense)\n",
        "model = Model(inputs=[user_input, item_input], outputs=output)\n",
        "\n",
        "model.compile(optimizer=Adam(0.001), loss='mean_squared_error', metrics=['mae'])\n"
      ],
      "metadata": {
        "id": "zVRB5utBuqzB"
      },
      "execution_count": 27,
      "outputs": []
    },
    {
      "cell_type": "code",
      "source": [
        "# Callbacks\n",
        "early_stop = EarlyStopping(monitor='val_loss', patience=5, restore_best_weights=True)\n",
        "reduce_lr = ReduceLROnPlateau(monitor='val_loss', factor=0.2, patience=2, min_lr=1e-5)"
      ],
      "metadata": {
        "id": "3I7zFMJBjTZ7"
      },
      "execution_count": 28,
      "outputs": []
    },
    {
      "cell_type": "code",
      "source": [
        "# Entrenamiento\n",
        "user_data = df['user_id'].values\n",
        "item_data = df['item_id'].values\n",
        "rating_data = df['overall'].values\n",
        "\n",
        "# Usando validation_split, divide los datos\n",
        "train_size = int(0.7 * len(user_data))\n",
        "user_data_train, user_data_val = user_data[:train_size], user_data[train_size:]\n",
        "item_data_train, item_data_val = item_data[:train_size], item_data[train_size:]\n",
        "y_true = rating_data[train_size:]\n",
        "\n",
        "\n",
        "history = model.fit([user_data_train, item_data_train], rating_data[:train_size],\n",
        "                    epochs=100,\n",
        "                    validation_data=([user_data_val, item_data_val], y_true),\n",
        "                    batch_size=80000,\n",
        "                    verbose=1,\n",
        "                    callbacks=[early_stop, reduce_lr])\n",
        "\n",
        "# Predicciones\n",
        "predictions = model.predict([user_data_val, item_data_val])"
      ],
      "metadata": {
        "colab": {
          "base_uri": "https://localhost:8080/"
        },
        "id": "XJfWiirYxHwk",
        "outputId": "6c8d0394-4037-456a-885d-8995f6bac1b5"
      },
      "execution_count": 29,
      "outputs": [
        {
          "output_type": "stream",
          "name": "stdout",
          "text": [
            "Epoch 1/100\n",
            "41/41 [==============================] - 4s 65ms/step - loss: 18.5350 - mae: 3.7582 - val_loss: 12.4364 - val_mae: 3.2180 - lr: 0.0010\n",
            "Epoch 2/100\n",
            "41/41 [==============================] - 2s 52ms/step - loss: 3.0851 - mae: 1.2628 - val_loss: 7.4850 - val_mae: 2.4481 - lr: 0.0010\n",
            "Epoch 3/100\n",
            "41/41 [==============================] - 2s 52ms/step - loss: 1.9246 - mae: 0.9140 - val_loss: 6.3493 - val_mae: 2.2357 - lr: 0.0010\n",
            "Epoch 4/100\n",
            "41/41 [==============================] - 2s 52ms/step - loss: 1.7287 - mae: 0.8695 - val_loss: 5.6185 - val_mae: 2.0887 - lr: 0.0010\n",
            "Epoch 5/100\n",
            "41/41 [==============================] - 2s 52ms/step - loss: 1.6179 - mae: 0.8524 - val_loss: 4.9274 - val_mae: 1.9456 - lr: 0.0010\n",
            "Epoch 6/100\n",
            "41/41 [==============================] - 2s 52ms/step - loss: 1.5349 - mae: 0.8405 - val_loss: 4.2850 - val_mae: 1.8033 - lr: 0.0010\n",
            "Epoch 7/100\n",
            "41/41 [==============================] - 2s 52ms/step - loss: 1.4737 - mae: 0.8322 - val_loss: 3.7054 - val_mae: 1.6632 - lr: 0.0010\n",
            "Epoch 8/100\n",
            "41/41 [==============================] - 2s 52ms/step - loss: 1.4202 - mae: 0.8233 - val_loss: 3.2258 - val_mae: 1.5356 - lr: 0.0010\n",
            "Epoch 9/100\n",
            "41/41 [==============================] - 2s 52ms/step - loss: 1.3760 - mae: 0.8159 - val_loss: 2.8227 - val_mae: 1.4200 - lr: 0.0010\n",
            "Epoch 10/100\n",
            "41/41 [==============================] - 2s 52ms/step - loss: 1.3385 - mae: 0.8089 - val_loss: 2.5009 - val_mae: 1.3190 - lr: 0.0010\n",
            "Epoch 11/100\n",
            "41/41 [==============================] - 2s 52ms/step - loss: 1.3071 - mae: 0.8027 - val_loss: 2.2685 - val_mae: 1.2377 - lr: 0.0010\n",
            "Epoch 12/100\n",
            "41/41 [==============================] - 2s 52ms/step - loss: 1.2796 - mae: 0.7963 - val_loss: 2.0818 - val_mae: 1.1662 - lr: 0.0010\n",
            "Epoch 13/100\n",
            "41/41 [==============================] - 2s 52ms/step - loss: 1.2628 - mae: 0.7923 - val_loss: 1.9468 - val_mae: 1.1072 - lr: 0.0010\n",
            "Epoch 14/100\n",
            "41/41 [==============================] - 2s 52ms/step - loss: 1.2407 - mae: 0.7867 - val_loss: 1.8634 - val_mae: 1.0629 - lr: 0.0010\n",
            "Epoch 15/100\n",
            "41/41 [==============================] - 2s 52ms/step - loss: 1.2178 - mae: 0.7806 - val_loss: 1.7979 - val_mae: 1.0278 - lr: 0.0010\n",
            "Epoch 16/100\n",
            "41/41 [==============================] - 2s 52ms/step - loss: 1.1969 - mae: 0.7752 - val_loss: 1.7539 - val_mae: 1.0005 - lr: 0.0010\n",
            "Epoch 17/100\n",
            "41/41 [==============================] - 2s 52ms/step - loss: 1.1806 - mae: 0.7704 - val_loss: 1.7170 - val_mae: 0.9770 - lr: 0.0010\n",
            "Epoch 18/100\n",
            "41/41 [==============================] - 2s 52ms/step - loss: 1.1659 - mae: 0.7667 - val_loss: 1.6998 - val_mae: 0.9618 - lr: 0.0010\n",
            "Epoch 19/100\n",
            "41/41 [==============================] - 2s 52ms/step - loss: 1.1393 - mae: 0.7597 - val_loss: 1.6824 - val_mae: 0.9475 - lr: 0.0010\n",
            "Epoch 20/100\n",
            "41/41 [==============================] - 2s 52ms/step - loss: 1.1183 - mae: 0.7543 - val_loss: 1.6594 - val_mae: 0.9359 - lr: 0.0010\n",
            "Epoch 21/100\n",
            "41/41 [==============================] - 2s 52ms/step - loss: 1.1014 - mae: 0.7493 - val_loss: 1.6489 - val_mae: 0.9278 - lr: 0.0010\n",
            "Epoch 22/100\n",
            "41/41 [==============================] - 2s 52ms/step - loss: 1.0854 - mae: 0.7448 - val_loss: 1.6447 - val_mae: 0.9221 - lr: 0.0010\n",
            "Epoch 23/100\n",
            "41/41 [==============================] - 2s 52ms/step - loss: 1.0693 - mae: 0.7395 - val_loss: 1.6401 - val_mae: 0.9189 - lr: 0.0010\n",
            "Epoch 24/100\n",
            "41/41 [==============================] - 2s 52ms/step - loss: 1.0551 - mae: 0.7345 - val_loss: 1.6335 - val_mae: 0.9135 - lr: 0.0010\n",
            "Epoch 25/100\n",
            "41/41 [==============================] - 2s 52ms/step - loss: 1.0455 - mae: 0.7307 - val_loss: 1.6317 - val_mae: 0.9084 - lr: 0.0010\n",
            "Epoch 26/100\n",
            "41/41 [==============================] - 2s 44ms/step - loss: 1.0369 - mae: 0.7266 - val_loss: 1.6324 - val_mae: 0.9042 - lr: 0.0010\n",
            "Epoch 27/100\n",
            "41/41 [==============================] - 2s 52ms/step - loss: 1.0304 - mae: 0.7228 - val_loss: 1.6291 - val_mae: 0.9018 - lr: 0.0010\n",
            "Epoch 28/100\n",
            "41/41 [==============================] - 2s 52ms/step - loss: 1.0203 - mae: 0.7183 - val_loss: 1.6280 - val_mae: 0.8966 - lr: 0.0010\n",
            "Epoch 29/100\n",
            "41/41 [==============================] - 2s 52ms/step - loss: 1.0175 - mae: 0.7163 - val_loss: 1.6265 - val_mae: 0.8951 - lr: 0.0010\n",
            "Epoch 30/100\n",
            "41/41 [==============================] - 2s 44ms/step - loss: 1.0024 - mae: 0.7109 - val_loss: 1.6282 - val_mae: 0.8944 - lr: 0.0010\n",
            "Epoch 31/100\n",
            "41/41 [==============================] - 2s 53ms/step - loss: 0.9886 - mae: 0.7061 - val_loss: 1.6250 - val_mae: 0.8903 - lr: 0.0010\n",
            "Epoch 32/100\n",
            "41/41 [==============================] - 2s 53ms/step - loss: 0.9827 - mae: 0.7038 - val_loss: 1.6224 - val_mae: 0.8888 - lr: 0.0010\n",
            "Epoch 33/100\n",
            "41/41 [==============================] - 2s 52ms/step - loss: 0.9721 - mae: 0.7004 - val_loss: 1.6202 - val_mae: 0.8863 - lr: 0.0010\n",
            "Epoch 34/100\n",
            "41/41 [==============================] - 2s 52ms/step - loss: 0.9594 - mae: 0.6964 - val_loss: 1.6182 - val_mae: 0.8865 - lr: 0.0010\n",
            "Epoch 35/100\n",
            "41/41 [==============================] - 2s 52ms/step - loss: 0.9522 - mae: 0.6943 - val_loss: 1.6175 - val_mae: 0.8843 - lr: 0.0010\n",
            "Epoch 36/100\n",
            "41/41 [==============================] - 2s 52ms/step - loss: 0.9479 - mae: 0.6924 - val_loss: 1.6141 - val_mae: 0.8830 - lr: 0.0010\n",
            "Epoch 37/100\n",
            "41/41 [==============================] - 2s 44ms/step - loss: 0.9425 - mae: 0.6898 - val_loss: 1.6184 - val_mae: 0.8829 - lr: 0.0010\n",
            "Epoch 38/100\n",
            "41/41 [==============================] - 2s 44ms/step - loss: 0.9397 - mae: 0.6884 - val_loss: 1.6178 - val_mae: 0.8813 - lr: 0.0010\n",
            "Epoch 39/100\n",
            "41/41 [==============================] - 2s 44ms/step - loss: 0.8746 - mae: 0.6622 - val_loss: 1.6205 - val_mae: 0.8799 - lr: 2.0000e-04\n",
            "Epoch 40/100\n",
            "41/41 [==============================] - 2s 44ms/step - loss: 0.8593 - mae: 0.6557 - val_loss: 1.6197 - val_mae: 0.8782 - lr: 2.0000e-04\n",
            "Epoch 41/100\n",
            "41/41 [==============================] - 2s 54ms/step - loss: 0.8403 - mae: 0.6472 - val_loss: 1.6215 - val_mae: 0.8782 - lr: 4.0000e-05\n",
            "43518/43518 [==============================] - 65s 1ms/step\n"
          ]
        }
      ]
    },
    {
      "cell_type": "code",
      "source": [
        "# MSE y RMSE\n",
        "mse = mean_squared_error(y_true, predictions)\n",
        "rmse = np.sqrt(mse)\n",
        "\n",
        "# MAE\n",
        "mae = mean_absolute_error(y_true, predictions)\n",
        "\n",
        "# MAPE\n",
        "def mean_absolute_percentage_error(y_true, y_pred):\n",
        "    y_true, y_pred = np.array(y_true), np.array(y_pred)\n",
        "    non_zero_idx = y_true != 0  # Para evitar divisiones por cero\n",
        "    return np.mean(np.abs((y_true[non_zero_idx] - y_pred[non_zero_idx]) / y_true[non_zero_idx])) * 100\n",
        "\n",
        "def compute_mape_by_batch(y_true, predictions, batch_size=50000):\n",
        "    mape_sum = 0\n",
        "    num_batches = int(np.ceil(len(y_true) / batch_size))\n",
        "\n",
        "    for i in range(num_batches):\n",
        "        start_idx = i * batch_size\n",
        "        end_idx = start_idx + batch_size\n",
        "\n",
        "        batch_y_true = y_true[start_idx:end_idx]\n",
        "        batch_predictions = predictions[start_idx:end_idx]\n",
        "\n",
        "        mape_sum += mean_absolute_percentage_error(batch_y_true, batch_predictions)\n",
        "\n",
        "    return mape_sum / num_batches\n",
        "\n",
        "# Luego llamas a la función\n",
        "mape = compute_mape_by_batch(y_true, predictions)\n",
        "\n",
        "print(f'MSE: {mse}')\n",
        "print(f'RMSE: {rmse}')\n",
        "print(f'MAE: {mae}')\n",
        "print(f'MAPE: {mape}%')"
      ],
      "metadata": {
        "colab": {
          "base_uri": "https://localhost:8080/"
        },
        "id": "w1BY-Sd0xJtc",
        "outputId": "2c422011-5bb3-4c02-c625-4a3319b57953"
      },
      "execution_count": 30,
      "outputs": [
        {
          "output_type": "stream",
          "name": "stdout",
          "text": [
            "MSE: 1.4934905900589737\n",
            "RMSE: 1.2220845265606524\n",
            "MAE: 0.8829961181265376\n",
            "MAPE: 40.800252737692475%\n"
          ]
        }
      ]
    },
    {
      "cell_type": "markdown",
      "source": [
        "Estas métricas te ayudarán a tener una mejor idea del desempeño de tu modelo. Por ejemplo:\n",
        "\n",
        "MSE y RMSE son útiles cuando quieres penalizar grandes errores.\n",
        "\n",
        "MAE te da una idea del error medio sin considerar la dirección del error.\n",
        "\n",
        "MAPE es útil cuando quieres representar el error en términos porcentuales.\n",
        "\n",
        "Para una evaluación completa, es recomendable utilizar un conjunto de validación aparte (es decir, no solo depender del validation_split). Esto asegura que estás evaluando el desempeño en datos que el modelo nunca ha visto durante el entrenamiento."
      ],
      "metadata": {
        "id": "YopA3D2Sw8AO"
      }
    },
    {
      "cell_type": "markdown",
      "source": [
        "En resumen, la elección del tipo de sistema de recomendación dependerá de la naturaleza del conjunto de datos, las características disponibles, las capacidades computacionales y el tipo de relaciones o interacciones que se desean capturar. A menudo, un enfoque híbrido (como el sistema que combina embeddings y redes neuronales) ofrece un buen equilibrio entre precisión y eficiencia."
      ],
      "metadata": {
        "id": "_dgWsjHFlB67"
      }
    }
  ]
}