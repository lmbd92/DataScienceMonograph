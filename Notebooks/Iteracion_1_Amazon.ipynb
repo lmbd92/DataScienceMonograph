{
  "nbformat": 4,
  "nbformat_minor": 0,
  "metadata": {
    "colab": {
      "provenance": [],
      "machine_shape": "hm"
    },
    "kernelspec": {
      "name": "python3",
      "display_name": "Python 3"
    },
    "language_info": {
      "name": "python"
    }
  },
  "cells": [
    {
      "cell_type": "markdown",
      "source": [
        "# Paso 1: Importar Librerías de Python\n"
      ],
      "metadata": {
        "id": "V-SSaV-bRZZl"
      }
    },
    {
      "cell_type": "code",
      "source": [
        "import pandas as pd\n",
        "import numpy as np\n",
        "import matplotlib.pyplot as plt\n",
        "import seaborn as sns\n",
        "from datetime import datetime\n"
      ],
      "metadata": {
        "id": "47ItRxlORZ9i"
      },
      "execution_count": null,
      "outputs": []
    },
    {
      "cell_type": "code",
      "source": [
        "drive.mount('/content/drive')"
      ],
      "metadata": {
        "id": "8bHcBRlQYY4h"
      },
      "execution_count": null,
      "outputs": []
    },
    {
      "cell_type": "markdown",
      "source": [
        "# Paso 2: Lectura del Dataset"
      ],
      "metadata": {
        "id": "209f_YHQRaCi"
      }
    },
    {
      "cell_type": "code",
      "source": [
        "# Suponiendo que tu DataFrame se llama df\n",
        "df = pd.read_csv('/content/drive/MyDrive/EspecializacionA&DS/Monografia/2doSemestre/DataFinal_Amazon.csv')  # Descomenta y proporciona la ruta si estás cargando un archivo CSV"
      ],
      "metadata": {
        "id": "9vIFqmMIRaIc"
      },
      "execution_count": null,
      "outputs": []
    },
    {
      "cell_type": "markdown",
      "source": [
        "# Paso 3: Reducción de Datos\n"
      ],
      "metadata": {
        "id": "bIdqast7RaNy"
      }
    },
    {
      "cell_type": "code",
      "source": [
        "# Tomar una muestra del 10% del dataset, si es necesario\n",
        "#df_sample = df.sample(frac=0.1, random_state=42)"
      ],
      "metadata": {
        "id": "tOpHk3bJRaTB"
      },
      "execution_count": null,
      "outputs": []
    },
    {
      "cell_type": "markdown",
      "source": [
        "# Paso 4: Ingeniería de Características (Feature Engineering)"
      ],
      "metadata": {
        "id": "dFO-xgOlRaYS"
      }
    },
    {
      "cell_type": "code",
      "source": [
        "# Convert 'reviewDate' to datetime format\n",
        "df['reviewDate'] = pd.to_datetime(df['reviewDate'])\n",
        "\n",
        "# Create new temporal columns\n",
        "df['year'] = df['reviewDate'].dt.year\n",
        "df['month'] = df['reviewDate'].dt.month\n",
        "df['day'] = df['reviewDate'].dt.day\n",
        "df['weekday'] = df['reviewDate'].dt.weekday\n",
        "\n",
        "print(df[['reviewDate', 'year', 'month', 'day', 'weekday']].head())"
      ],
      "metadata": {
        "id": "pqazuy7eRada"
      },
      "execution_count": null,
      "outputs": []
    },
    {
      "cell_type": "markdown",
      "source": [
        "# Paso 5: Creación de Características\n"
      ],
      "metadata": {
        "id": "XOaaFbPYRaiy"
      }
    },
    {
      "cell_type": "code",
      "source": [
        "#A modo de ejemplo, supongamos que deseamos conocer la longitud del texto de revisión:\n",
        "df['reviewText_length'] = df['reviewText'].apply(lambda x: len(str(x)))"
      ],
      "metadata": {
        "id": "oeSU0QXlRaob"
      },
      "execution_count": null,
      "outputs": []
    },
    {
      "cell_type": "markdown",
      "source": [
        "# Paso 6: Limpieza/Transformación de Datos\n"
      ],
      "metadata": {
        "id": "3QtILgaERaty"
      }
    },
    {
      "cell_type": "code",
      "source": [
        "# Eliminemos posibles duplicados:\n",
        "df = df.drop_duplicates()"
      ],
      "metadata": {
        "id": "yBhdLFP8Raza"
      },
      "execution_count": null,
      "outputs": []
    },
    {
      "cell_type": "markdown",
      "source": [
        "# Paso 7: Análisis Exploratorio de Datos (EDA)"
      ],
      "metadata": {
        "id": "83ZC0czmRa6B"
      }
    },
    {
      "cell_type": "code",
      "source": [
        "#Visualicemos la distribución de las calificaciones (overall):\n",
        "#sns.countplot(data=df, x='overall')\n",
        "#plt.title('Distribution of Overall Ratings')\n",
        "#plt.show()\n"
      ],
      "metadata": {
        "id": "PIlORlnsRa_y"
      },
      "execution_count": null,
      "outputs": []
    },
    {
      "cell_type": "markdown",
      "source": [
        "# Paso 8: Resumen Estadístico\n"
      ],
      "metadata": {
        "id": "2aF-VoD9SEZC"
      }
    },
    {
      "cell_type": "code",
      "source": [
        "#print(df.describe())"
      ],
      "metadata": {
        "id": "qN85mUkaSEf7"
      },
      "execution_count": null,
      "outputs": []
    },
    {
      "cell_type": "markdown",
      "source": [
        "# Paso 9: Análisis Univariado\n"
      ],
      "metadata": {
        "id": "20mSqKykSElK"
      }
    },
    {
      "cell_type": "code",
      "source": [
        "#Histograma de precios:\n",
        "#sns.histplot(df['price'])\n",
        "#plt.title('Price Distribution')\n",
        "#plt.show()\n"
      ],
      "metadata": {
        "id": "-n5RQeTxSEqV"
      },
      "execution_count": null,
      "outputs": []
    },
    {
      "cell_type": "markdown",
      "source": [
        "# Paso 10: Transformación de Datos"
      ],
      "metadata": {
        "id": "u3SQdThwSEvz"
      }
    },
    {
      "cell_type": "code",
      "source": [
        "# Normalizar la columna de precios si es necesario:\n",
        "df['price_normalized'] = (df['price'] - df['price'].mean()) / df['price'].std()"
      ],
      "metadata": {
        "id": "znsoZS7uSE0r"
      },
      "execution_count": null,
      "outputs": []
    },
    {
      "cell_type": "markdown",
      "source": [
        "# Paso 11: Análisis Bivariado\n"
      ],
      "metadata": {
        "id": "ZtzJJCcNSE_i"
      }
    },
    {
      "cell_type": "code",
      "source": [
        "#Relación entre overall y price:\n",
        "#sns.scatterplot(data=df, x='price', y='overall')\n",
        "#plt.title('Price vs Overall Rating')\n",
        "#plt.show()\n"
      ],
      "metadata": {
        "id": "9DNVBUjkSFEj"
      },
      "execution_count": null,
      "outputs": []
    },
    {
      "cell_type": "markdown",
      "source": [
        "# Paso 12: Análisis Multivariado\n"
      ],
      "metadata": {
        "id": "qHEvVB9dSfgS"
      }
    },
    {
      "cell_type": "code",
      "source": [
        "#Relación entre overall, price y reviewText_length:\n",
        "#sns.pairplot(df[['overall', 'price', 'reviewText_length']])\n",
        "#plt.show()\n"
      ],
      "metadata": {
        "id": "14auPrOdSflq"
      },
      "execution_count": null,
      "outputs": []
    },
    {
      "cell_type": "markdown",
      "source": [
        "# Paso 13: Imputar Valores Faltantes"
      ],
      "metadata": {
        "id": "Y21mRRv5Sfsl"
      }
    },
    {
      "cell_type": "code",
      "source": [
        "# Reemplazando valores faltantes en 'price' con la mediana\n",
        "#df['price'].fillna(df['price'].median(), inplace=True)\n",
        "\n",
        "# Si hay valores de texto faltantes, los reemplazamos con una cadena vacía\n",
        "#df['reviewText'].fillna('', inplace=True)\n",
        "#df['summary'].fillna('', inplace=True)\n"
      ],
      "metadata": {
        "id": "h3CE7HuaSfyK"
      },
      "execution_count": null,
      "outputs": []
    },
    {
      "cell_type": "markdown",
      "source": [
        "# Modelo 1 de Prueba\n",
        "\n",
        "Modelo de filtrado colaborativo utilizando Keras:"
      ],
      "metadata": {
        "id": "5lMsQcyyS2NS"
      }
    },
    {
      "cell_type": "code",
      "source": [
        "data = df"
      ],
      "metadata": {
        "id": "3oQAn6BZT8ZB"
      },
      "execution_count": null,
      "outputs": []
    },
    {
      "cell_type": "code",
      "source": [
        "from sklearn.preprocessing import LabelEncoder\n",
        "\n",
        "# Crear un LabelEncoder para cada columna\n",
        "reviewerID_encoder = LabelEncoder()\n",
        "asin_encoder = LabelEncoder()\n",
        "\n",
        "# Ajustar y transformar las columnas\n",
        "data['reviewerID_encoded'] = reviewerID_encoder.fit_transform(data['reviewerID'])\n",
        "data['asin_encoded'] = asin_encoder.fit_transform(data['asin'])\n",
        "\n",
        "# Mostrar las primeras filas del DataFrame para verificar\n",
        "print(data[['reviewerID', 'reviewerID_encoded', 'asin', 'asin_encoded']].head())\n"
      ],
      "metadata": {
        "colab": {
          "base_uri": "https://localhost:8080/"
        },
        "id": "22AEmdhqU9vC",
        "outputId": "6e48ec98-36e5-4ba3-ca5d-264e72eff682"
      },
      "execution_count": null,
      "outputs": [
        {
          "output_type": "stream",
          "name": "stdout",
          "text": [
            "       reviewerID  reviewerID_encoded        asin  asin_encoded\n",
            "0  A1BB77SEBQT8VX              121313  B00007GDFV            39\n",
            "1  A1BB77SEBQT8VX              121313  B00007GDFV            39\n",
            "2   AHWOW7D1ABO9C             1265535  B00007GDFV            39\n",
            "3   AHWOW7D1ABO9C             1265535  B00007GDFV            39\n",
            "4   AKS3GULZE0HFC             1296109  B00007GDFV            39\n"
          ]
        }
      ]
    },
    {
      "cell_type": "code",
      "source": [
        "import numpy as np\n",
        "from keras.models import Model\n",
        "from keras.layers import Embedding, Input, Dot, Flatten, Dense\n",
        "\n",
        "# Número de usuarios únicos y número de ítems únicos\n",
        "n_users = len(np.unique(data['reviewerID_encoded']))\n",
        "n_items = len(np.unique(data['asin_encoded']))\n",
        "\n",
        "# Dimensiones del embedding\n",
        "embedding_dim = 10\n",
        "\n",
        "# Entradas\n",
        "user_input = Input(shape=(1,))\n",
        "item_input = Input(shape=(1,))\n",
        "\n",
        "# Embeddings\n",
        "user_embedding = Embedding(n_users, embedding_dim)(user_input)\n",
        "item_embedding = Embedding(n_items, embedding_dim)(item_input)\n",
        "\n",
        "# Producto punto para predecir la valoración/rating\n",
        "merged = Dot(axes=2)([user_embedding, item_embedding])\n",
        "merged = Flatten()(merged)\n",
        "\n",
        "# Modelo\n",
        "model = Model(inputs=[user_input, item_input], outputs=merged)\n",
        "model.compile(optimizer='adam', loss='mse', metrics=['mae'])\n",
        "\n",
        "\n"
      ],
      "metadata": {
        "id": "fYTPsSlgKCQm"
      },
      "execution_count": null,
      "outputs": []
    },
    {
      "cell_type": "markdown",
      "source": [
        "verbose=0: No muestra ninguna barra de progreso ni métricas.\n",
        "\n",
        "verbose=1: Muestra una barra de progreso y actualiza las métricas después de cada lote.\n",
        "\n",
        "verbose=2: Muestra las métricas después de cada época, pero no muestra la barra de progreso."
      ],
      "metadata": {
        "id": "ZN3t1PGSYEzR"
      }
    },
    {
      "cell_type": "code",
      "source": [
        "# Entrenamiento\n",
        "user_ids = data['reviewerID_encoded'].values\n",
        "item_ids = data['asin_encoded'].values\n",
        "ratings = data['overall'].values\n",
        "model.fit([user_ids, item_ids], ratings, epochs=3, batch_size=4096, verbose=1)"
      ],
      "metadata": {
        "colab": {
          "base_uri": "https://localhost:8080/"
        },
        "id": "C_jc_YdXVohh",
        "outputId": "41dc9a86-6a4a-47b3-c9e6-1217f2ad2ebf"
      },
      "execution_count": null,
      "outputs": [
        {
          "output_type": "stream",
          "name": "stdout",
          "text": [
            "Epoch 1/3\n",
            "1173/1173 [==============================] - 199s 169ms/step - loss: 19.4372 - mae: 4.2510\n",
            "Epoch 2/3\n",
            "1173/1173 [==============================] - 198s 169ms/step - loss: 18.6747 - mae: 4.1410\n",
            "Epoch 3/3\n",
            "1173/1173 [==============================] - 200s 171ms/step - loss: 17.1693 - mae: 3.9141\n"
          ]
        },
        {
          "output_type": "execute_result",
          "data": {
            "text/plain": [
              "<keras.src.callbacks.History at 0x7f805d9a1a50>"
            ]
          },
          "metadata": {},
          "execution_count": 9
        }
      ]
    },
    {
      "cell_type": "code",
      "source": [
        "from sklearn.metrics import mean_squared_error, mean_absolute_error\n",
        "\n",
        "predictions = model.predict([user_ids, item_ids])\n"
      ],
      "metadata": {
        "colab": {
          "base_uri": "https://localhost:8080/"
        },
        "id": "Xk4lwi1iTp_6",
        "outputId": "17210bc8-5430-4950-86c9-5512ea62acbe"
      },
      "execution_count": null,
      "outputs": [
        {
          "output_type": "stream",
          "name": "stdout",
          "text": [
            "150018/150018 [==============================] - 154s 1ms/step\n"
          ]
        }
      ]
    },
    {
      "cell_type": "code",
      "source": [
        "# MSE\n",
        "mse = mean_squared_error(ratings, predictions)\n",
        "print(f\"MSE: {mse:.4f}\")\n",
        "\n",
        "# RMSE\n",
        "rmse = np.sqrt(mse)\n",
        "print(f\"RMSE: {rmse:.4f}\")\n",
        "\n",
        "# MAE\n",
        "mae = mean_absolute_error(ratings, predictions)\n",
        "print(f\"MAE: {mae:.4f}\")\n",
        "\n",
        "# MAPE (Mean Absolute Percentage Error)\n",
        "mape = np.mean(np.abs((ratings - predictions.flatten()) / ratings)) * 100\n",
        "print(f\"MAPE: {mape:.2f}%\")\n"
      ],
      "metadata": {
        "colab": {
          "base_uri": "https://localhost:8080/"
        },
        "id": "sq3us00TTwSi",
        "outputId": "ce28c09f-92a6-478d-e402-3e0f7a1d47cf"
      },
      "execution_count": null,
      "outputs": [
        {
          "output_type": "stream",
          "name": "stdout",
          "text": [
            "MSE: 15.9169\n",
            "RMSE: 3.9896\n",
            "MAE: 3.7271\n",
            "MAPE: 86.76%\n"
          ]
        }
      ]
    },
    {
      "cell_type": "code",
      "source": [
        "# https://www.aprendemachinelearning.com/sistemas-de-recomendacion/"
      ],
      "metadata": {
        "id": "U72CIb2yKCTW"
      },
      "execution_count": null,
      "outputs": []
    },
    {
      "cell_type": "code",
      "source": [
        "# Entrenamiento\n",
        "user_ids = data['reviewerID_encoded'].values\n",
        "item_ids = data['asin_encoded'].values\n",
        "ratings = data['overall'].values\n",
        "model.fit([user_ids, item_ids], ratings, epochs=1, batch_size=2048, verbose=1)"
      ],
      "metadata": {
        "id": "JejE6biMKCWG",
        "colab": {
          "base_uri": "https://localhost:8080/"
        },
        "outputId": "24104b4a-08c0-4b16-abd3-0abad52cc2e7"
      },
      "execution_count": null,
      "outputs": [
        {
          "output_type": "stream",
          "name": "stdout",
          "text": [
            "2345/2345 [==============================] - 391s 166ms/step - loss: 14.1258 - mae: 3.4392\n"
          ]
        },
        {
          "output_type": "execute_result",
          "data": {
            "text/plain": [
              "<keras.src.callbacks.History at 0x7f805ef5c1f0>"
            ]
          },
          "metadata": {},
          "execution_count": 15
        }
      ]
    },
    {
      "cell_type": "code",
      "source": [
        "from sklearn.metrics import mean_squared_error, mean_absolute_error\n",
        "\n",
        "predictions = model.predict([user_ids, item_ids])\n"
      ],
      "metadata": {
        "id": "d40FhQmtKCYn",
        "colab": {
          "base_uri": "https://localhost:8080/"
        },
        "outputId": "7070cdbf-1796-4417-961c-37b1b04941ff"
      },
      "execution_count": null,
      "outputs": [
        {
          "output_type": "stream",
          "name": "stdout",
          "text": [
            "150018/150018 [==============================] - 154s 1ms/step\n"
          ]
        }
      ]
    },
    {
      "cell_type": "code",
      "source": [
        "# MSE\n",
        "mse = mean_squared_error(ratings, predictions)\n",
        "print(f\"MSE: {mse:.4f}\")\n",
        "\n",
        "# RMSE\n",
        "rmse = np.sqrt(mse)\n",
        "print(f\"RMSE: {rmse:.4f}\")\n",
        "\n",
        "# MAE\n",
        "mae = mean_absolute_error(ratings, predictions)\n",
        "print(f\"MAE: {mae:.4f}\")\n",
        "\n",
        "# MAPE (Mean Absolute Percentage Error)\n",
        "mape = np.mean(np.abs((ratings - predictions.flatten()) / ratings)) * 100\n",
        "print(f\"MAPE: {mape:.2f}%\")\n"
      ],
      "metadata": {
        "id": "zBLU7SD_KCa-",
        "colab": {
          "base_uri": "https://localhost:8080/"
        },
        "outputId": "a4159c55-04c8-4572-a09d-12b3e372a038"
      },
      "execution_count": null,
      "outputs": [
        {
          "output_type": "stream",
          "name": "stdout",
          "text": [
            "MSE: 12.6531\n",
            "RMSE: 3.5571\n",
            "MAE: 3.1998\n",
            "MAPE: 73.87%\n"
          ]
        }
      ]
    },
    {
      "cell_type": "code",
      "source": [
        "from sklearn.model_selection import train_test_split\n",
        "\n",
        "# Crear los arrays con los datos\n",
        "user_ids = data['reviewerID_encoded'].values\n",
        "item_ids = data['asin_encoded'].values\n",
        "ratings = data['overall'].values\n",
        "\n",
        "# Dividir en train y test\n",
        "(user_ids_train, user_ids_test,\n",
        " item_ids_train, item_ids_test,\n",
        " ratings_train, ratings_test) = train_test_split(user_ids, item_ids, ratings, test_size=0.3, random_state=42)\n",
        "\n",
        "\n"
      ],
      "metadata": {
        "id": "J3n02-vPg5wh"
      },
      "execution_count": null,
      "outputs": []
    },
    {
      "cell_type": "code",
      "source": [
        "# Entrenar el modelo con el conjunto de entrenamiento\n",
        "model.fit([user_ids_train, item_ids_train], ratings_train, epochs=5, batch_size=2048, verbose=1)"
      ],
      "metadata": {
        "colab": {
          "base_uri": "https://localhost:8080/"
        },
        "id": "jOiSfVMfg5tw",
        "outputId": "8ed08667-3b3d-44fe-de5b-d3e1b632fb71"
      },
      "execution_count": null,
      "outputs": [
        {
          "output_type": "stream",
          "name": "stdout",
          "text": [
            "Epoch 1/5\n",
            "1641/1641 [==============================] - 285s 174ms/step - loss: 11.1945 - mae: 2.9552\n",
            "Epoch 2/5\n",
            "1641/1641 [==============================] - 282s 172ms/step - loss: 9.0798 - mae: 2.5762\n",
            "Epoch 3/5\n",
            "1641/1641 [==============================] - 280s 171ms/step - loss: 7.1838 - mae: 2.2069\n",
            "Epoch 4/5\n",
            "1641/1641 [==============================] - 279s 170ms/step - loss: 5.6018 - mae: 1.8735\n",
            "Epoch 5/5\n",
            "1641/1641 [==============================] - 280s 171ms/step - loss: 4.3327 - mae: 1.5843\n"
          ]
        },
        {
          "output_type": "execute_result",
          "data": {
            "text/plain": [
              "<keras.src.callbacks.History at 0x7f805ef320b0>"
            ]
          },
          "metadata": {},
          "execution_count": 25
        }
      ]
    },
    {
      "cell_type": "code",
      "source": [
        "# Evaluar el modelo con el conjunto de prueba (opcional)\n",
        "loss, mae = model.evaluate([user_ids_test, item_ids_test], ratings_test, batch_size=2048)\n",
        "print(f'Test Loss: {loss:.4f}')\n",
        "print(f'Test MAE: {mae:.4f}')"
      ],
      "metadata": {
        "colab": {
          "base_uri": "https://localhost:8080/"
        },
        "id": "SMJd_nt7g5h4",
        "outputId": "38b9edc9-d428-4719-d8f6-7da1f6d94ee1"
      },
      "execution_count": null,
      "outputs": [
        {
          "output_type": "stream",
          "name": "stdout",
          "text": [
            "704/704 [==============================] - 1s 2ms/step - loss: 7.0447 - mae: 2.1847\n",
            "Test Loss: 7.0447\n",
            "Test MAE: 2.1847\n"
          ]
        }
      ]
    },
    {
      "cell_type": "code",
      "source": [
        "predictions = model.predict([user_ids_test, item_ids_test])"
      ],
      "metadata": {
        "colab": {
          "base_uri": "https://localhost:8080/"
        },
        "id": "V-mutQWdqMDO",
        "outputId": "81092e4e-3c9e-4df3-a907-c3aa305b6f65"
      },
      "execution_count": null,
      "outputs": [
        {
          "output_type": "stream",
          "name": "stdout",
          "text": [
            "45006/45006 [==============================] - 48s 1ms/step\n"
          ]
        }
      ]
    },
    {
      "cell_type": "code",
      "source": [
        "# MSE\n",
        "mse = mean_squared_error(ratings_test, predictions)\n",
        "print(f\"MSE: {mse:.4f}\")\n",
        "\n",
        "# RMSE\n",
        "rmse = np.sqrt(mse)\n",
        "print(f\"RMSE: {rmse:.4f}\")\n",
        "\n",
        "# MAE\n",
        "mae = mean_absolute_error(ratings_test, predictions)\n",
        "print(f\"MAE: {mae:.4f}\")\n",
        "\n",
        "# MAPE (Mean Absolute Percentage Error)\n",
        "mape = np.mean(np.abs((ratings_test - predictions.flatten()) / ratings_test)) * 100\n",
        "print(f\"MAPE: {mape:.2f}%\")\n"
      ],
      "metadata": {
        "id": "USnKRkm0KCdW",
        "colab": {
          "base_uri": "https://localhost:8080/"
        },
        "outputId": "297fe6a6-b0fc-4bff-993f-05cdb0afd8ca"
      },
      "execution_count": null,
      "outputs": [
        {
          "output_type": "stream",
          "name": "stdout",
          "text": [
            "MSE: 7.0447\n",
            "RMSE: 2.6542\n",
            "MAE: 2.1847\n",
            "MAPE: 52.60%\n"
          ]
        }
      ]
    }
  ]
}