{
  "cells": [
    {
      "cell_type": "markdown",
      "metadata": {
        "id": "V-SSaV-bRZZl"
      },
      "source": [
        "# Paso 1: Importar Librerías de Python\n"
      ]
    },
    {
      "cell_type": "code",
      "execution_count": 1,
      "metadata": {
        "colab": {
          "base_uri": "https://localhost:8080/"
        },
        "id": "K4mFYevMKu6y",
        "outputId": "5e48a218-7249-4496-9f70-339ded954ebf"
      },
      "outputs": [
        {
          "output_type": "stream",
          "name": "stdout",
          "text": [
            "Collecting scikit-surprise\n",
            "  Downloading scikit-surprise-1.1.3.tar.gz (771 kB)\n",
            "\u001b[2K     \u001b[90m━━━━━━━━━━━━━━━━━━━━━━━━━━━━━━━━━━━━━━━━\u001b[0m \u001b[32m772.0/772.0 kB\u001b[0m \u001b[31m10.0 MB/s\u001b[0m eta \u001b[36m0:00:00\u001b[0m\n",
            "\u001b[?25h  Preparing metadata (setup.py) ... \u001b[?25l\u001b[?25hdone\n",
            "Requirement already satisfied: joblib>=1.0.0 in /usr/local/lib/python3.10/dist-packages (from scikit-surprise) (1.3.2)\n",
            "Requirement already satisfied: numpy>=1.17.3 in /usr/local/lib/python3.10/dist-packages (from scikit-surprise) (1.23.5)\n",
            "Requirement already satisfied: scipy>=1.3.2 in /usr/local/lib/python3.10/dist-packages (from scikit-surprise) (1.11.3)\n",
            "Building wheels for collected packages: scikit-surprise\n",
            "  Building wheel for scikit-surprise (setup.py) ... \u001b[?25l\u001b[?25hdone\n",
            "  Created wheel for scikit-surprise: filename=scikit_surprise-1.1.3-cp310-cp310-linux_x86_64.whl size=3163500 sha256=552e669352b2880e4238b330f300bcff6d25ce6337db292151728657a59db6a5\n",
            "  Stored in directory: /root/.cache/pip/wheels/a5/ca/a8/4e28def53797fdc4363ca4af740db15a9c2f1595ebc51fb445\n",
            "Successfully built scikit-surprise\n",
            "Installing collected packages: scikit-surprise\n",
            "Successfully installed scikit-surprise-1.1.3\n"
          ]
        }
      ],
      "source": [
        "#pip install scikit-surprise"
      ]
    },
    {
      "cell_type": "code",
      "execution_count": 2,
      "metadata": {
        "id": "47ItRxlORZ9i"
      },
      "outputs": [],
      "source": [
        "# Análisis de datos y manipulación\n",
        "import pandas as pd\n",
        "import numpy as np\n",
        "\n",
        "# Visualización de datos\n",
        "import matplotlib.pyplot as plt\n",
        "import seaborn as sns\n",
        "\n",
        "# Utilidades de fechas\n",
        "from datetime import datetime\n",
        "\n",
        "# Integración con Google Colab\n",
        "from google.colab import drive\n",
        "\n",
        "# Machine Learning: Preprocesamiento y división de datos\n",
        "from sklearn.model_selection import train_test_split\n",
        "from sklearn.preprocessing import LabelEncoder\n",
        "\n",
        "# Machine Learning: Métricas\n",
        "from sklearn.metrics import mean_squared_error, mean_absolute_error\n",
        "from sklearn.metrics.pairwise import cosine_similarity\n",
        "\n",
        "# Machine Learning: Modelado y validación\n",
        "from surprise import SVD, Reader, Dataset, accuracy\n",
        "from surprise.model_selection import train_test_split, GridSearchCV\n",
        "\n",
        "# Deep Learning: Construcción de modelos y capas\n",
        "from keras.models import Model\n",
        "from keras.layers import Input, Embedding, Flatten, Concatenate, Dense, Dropout, Dot\n",
        "\n",
        "# Deep Learning: Optimización y regularización\n",
        "from keras.optimizers import Adam\n",
        "from keras.regularizers import l2\n",
        "\n",
        "# Deep Learning: Callbacks\n",
        "from keras.callbacks import EarlyStopping, ReduceLROnPlateau"
      ]
    },
    {
      "cell_type": "code",
      "execution_count": 3,
      "metadata": {
        "colab": {
          "base_uri": "https://localhost:8080/"
        },
        "id": "8bHcBRlQYY4h",
        "outputId": "521f500b-470c-4785-eef5-3caba77a6a0f"
      },
      "outputs": [
        {
          "output_type": "stream",
          "name": "stdout",
          "text": [
            "Mounted at /content/drive\n"
          ]
        }
      ],
      "source": [
        "drive.mount('/content/drive')"
      ]
    },
    {
      "cell_type": "markdown",
      "metadata": {
        "id": "209f_YHQRaCi"
      },
      "source": [
        "# Paso 2: Lectura del Dataset"
      ]
    },
    {
      "cell_type": "code",
      "execution_count": 4,
      "metadata": {
        "colab": {
          "base_uri": "https://localhost:8080/"
        },
        "id": "9vIFqmMIRaIc",
        "outputId": "0b8dbbad-ef81-47e0-e9e4-10b0df68fc88"
      },
      "outputs": [
        {
          "output_type": "stream",
          "name": "stderr",
          "text": [
            "<ipython-input-4-1f8e3361d82a>:2: DtypeWarning: Columns (5) have mixed types. Specify dtype option on import or set low_memory=False.\n",
            "  df = pd.read_csv('/content/drive/MyDrive/EspecializacionA&DS/Monografia/2doSemestre/DataFinal_Amazon.csv')  # Descomenta y proporciona la ruta si estás cargando un archivo CSV\n"
          ]
        }
      ],
      "source": [
        "# Suponiendo que tu DataFrame se llama df\n",
        "df = pd.read_csv('/content/drive/MyDrive/EspecializacionA&DS/Monografia/2doSemestre/DataFinal_Amazon.csv')  # Descomenta y proporciona la ruta si estás cargando un archivo CSV"
      ]
    },
    {
      "cell_type": "code",
      "execution_count": 5,
      "metadata": {
        "id": "yBhdLFP8Raza"
      },
      "outputs": [],
      "source": [
        "# Eliminemos posibles duplicados:\n",
        "df = df.drop_duplicates()"
      ]
    },
    {
      "cell_type": "code",
      "execution_count": 6,
      "metadata": {
        "colab": {
          "base_uri": "https://localhost:8080/"
        },
        "id": "LwnA5HnLr8r6",
        "outputId": "78881b31-2ffa-46e9-9f04-0a34823ece14"
      },
      "outputs": [
        {
          "output_type": "execute_result",
          "data": {
            "text/plain": [
              "(4641903, 10)"
            ]
          },
          "metadata": {},
          "execution_count": 6
        }
      ],
      "source": [
        "df.shape"
      ]
    },
    {
      "cell_type": "markdown",
      "metadata": {
        "id": "5lMsQcyyS2NS"
      },
      "source": [
        "# Modelo de Filtrado Colaborativo usando Embedding con Keras:"
      ]
    },
    {
      "cell_type": "markdown",
      "metadata": {
        "id": "yQ49x7CvmOfM"
      },
      "source": [
        "Funcionamiento:\n",
        "\n",
        "Los embeddings son representaciones vectoriales densas y de baja dimensión de ítems y/o usuarios. Estas representaciones capturan relaciones semánticas entre ítems o entre usuarios.\n",
        "\n",
        "Un método popular para generar embeddings es la factorización de matrices, como la descomposición en valores singulares (SVD). En el contexto de sistemas de recomendación, se busca factorizar la matriz de interacciones usuario-ítem en dos matrices más pequeñas (una para los usuarios y otra para los ítems) cuyo producto aproximado reproduce la matriz original lo mejor posible.\n",
        "\n",
        "Una vez que se han obtenido los embeddings, la predicción de una calificación o interacción entre un usuario e ítem se realiza tomando el producto escalar entre sus embeddings respectivos.\n",
        "\n",
        "Ventajas:\n",
        "\n",
        "Simplicidad y eficiencia en términos computacionales.\n",
        "\n",
        "Puede manejar grandes conjuntos de datos debido a su naturaleza de baja dimensión.\n",
        "\n",
        "Es efectivo para capturar patrones subyacentes en los datos.\n",
        "\n",
        "Desventajas:\n",
        "\n",
        "No tiene en cuenta características adicionales de usuarios o ítems.\n",
        "\n",
        "Dificultades para manejar nuevos ítems o usuarios (problema de arranque en frío)."
      ]
    },
    {
      "cell_type": "markdown",
      "metadata": {
        "id": "sJ482XODiA8T"
      },
      "source": [
        "El código ahora incluye regularización en los embeddings, un callback para detener el entrenamiento si no hay mejoras (early stopping) y otro para reducir la tasa de aprendizaje si el error de validación no mejora (reduce learning rate on plateau)."
      ]
    },
    {
      "cell_type": "code",
      "execution_count": 7,
      "metadata": {
        "id": "3oQAn6BZT8ZB"
      },
      "outputs": [],
      "source": [
        "data = df"
      ]
    },
    {
      "cell_type": "code",
      "execution_count": 8,
      "metadata": {
        "id": "22AEmdhqU9vC"
      },
      "outputs": [],
      "source": [
        "# Crear un LabelEncoder para cada columna\n",
        "reviewerID_encoder = LabelEncoder()\n",
        "asin_encoder = LabelEncoder()\n",
        "\n",
        "# Ajustar y transformar las columnas\n",
        "data['reviewerID_encoded'] = reviewerID_encoder.fit_transform(data['reviewerID'])\n",
        "data['asin_encoded'] = asin_encoder.fit_transform(data['asin'])\n",
        "\n",
        "# Número de usuarios únicos y número de ítems únicos\n",
        "n_users = len(np.unique(data['reviewerID_encoded']))\n",
        "n_items = len(np.unique(data['asin_encoded']))\n",
        "\n",
        "# Dimensiones del embedding\n",
        "embedding_dim = 10\n",
        "\n",
        "# Entradas\n",
        "user_input = Input(shape=(1,))\n",
        "item_input = Input(shape=(1,))\n",
        "\n",
        "# Embeddings con regularización\n",
        "user_embedding = Embedding(n_users, embedding_dim, embeddings_regularizer=l2(1e-6))(user_input)\n",
        "item_embedding = Embedding(n_items, embedding_dim, embeddings_regularizer=l2(1e-6))(item_input)\n",
        "\n",
        "# Producto punto para predecir la valoración/rating\n",
        "merged = Dot(axes=2)([user_embedding, item_embedding])\n",
        "merged = Flatten()(merged)\n",
        "\n",
        "# Modelo\n",
        "model = Model(inputs=[user_input, item_input], outputs=merged)\n",
        "model.compile(optimizer='adam', loss='mse', metrics=['mae'])"
      ]
    },
    {
      "cell_type": "markdown",
      "metadata": {
        "id": "ZN3t1PGSYEzR"
      },
      "source": [
        "verbose=0: No muestra ninguna barra de progreso ni métricas.\n",
        "\n",
        "verbose=1: Muestra una barra de progreso y actualiza las métricas después de cada lote.\n",
        "\n",
        "verbose=2: Muestra las métricas después de cada época, pero no muestra la barra de progreso."
      ]
    },
    {
      "cell_type": "code",
      "execution_count": 9,
      "metadata": {
        "id": "J3n02-vPg5wh"
      },
      "outputs": [],
      "source": [
        "from sklearn.model_selection import train_test_split\n",
        "\n",
        "# Crear los arrays con los datos\n",
        "user_ids = data['reviewerID_encoded'].values\n",
        "item_ids = data['asin_encoded'].values\n",
        "ratings = data['overall'].values\n",
        "\n",
        "# Dividir en train y test\n",
        "(user_ids_train, user_ids_test, item_ids_train, item_ids_test, ratings_train, ratings_test) = train_test_split(\n",
        "    user_ids, item_ids, ratings,test_size=0.3,random_state=42)"
      ]
    },
    {
      "cell_type": "code",
      "execution_count": 10,
      "metadata": {
        "id": "NYbYJfevgXpj"
      },
      "outputs": [],
      "source": [
        "# Callbacks\n",
        "early_stop = EarlyStopping(monitor='val_loss', patience=50)\n",
        "reduce_lr = ReduceLROnPlateau(monitor='val_loss', factor=0.2, patience=50, min_lr=1e-5)"
      ]
    },
    {
      "cell_type": "code",
      "execution_count": 11,
      "metadata": {
        "colab": {
          "base_uri": "https://localhost:8080/"
        },
        "id": "jOiSfVMfg5tw",
        "outputId": "88b70cc3-1afd-4fbb-b93f-891edf4cfdc0"
      },
      "outputs": [
        {
          "output_type": "stream",
          "name": "stdout",
          "text": [
            "Epoch 1/500\n",
            "9/9 [==============================] - 6s 53ms/step - loss: 19.5109 - mae: 4.2587 - val_loss: 19.5151 - val_mae: 4.2593 - lr: 0.0010\n",
            "Epoch 2/500\n",
            "9/9 [==============================] - 0s 28ms/step - loss: 19.5088 - mae: 4.2585 - val_loss: 19.5147 - val_mae: 4.2593 - lr: 0.0010\n",
            "Epoch 3/500\n",
            "9/9 [==============================] - 0s 25ms/step - loss: 19.5065 - mae: 4.2583 - val_loss: 19.5143 - val_mae: 4.2593 - lr: 0.0010\n",
            "Epoch 4/500\n",
            "9/9 [==============================] - 0s 23ms/step - loss: 19.5039 - mae: 4.2580 - val_loss: 19.5138 - val_mae: 4.2592 - lr: 0.0010\n",
            "Epoch 5/500\n",
            "9/9 [==============================] - 0s 23ms/step - loss: 19.5010 - mae: 4.2577 - val_loss: 19.5132 - val_mae: 4.2592 - lr: 0.0010\n",
            "Epoch 6/500\n",
            "9/9 [==============================] - 0s 23ms/step - loss: 19.4977 - mae: 4.2574 - val_loss: 19.5126 - val_mae: 4.2592 - lr: 0.0010\n",
            "Epoch 7/500\n",
            "9/9 [==============================] - 0s 23ms/step - loss: 19.4938 - mae: 4.2570 - val_loss: 19.5118 - val_mae: 4.2591 - lr: 0.0010\n",
            "Epoch 8/500\n",
            "9/9 [==============================] - 0s 23ms/step - loss: 19.4891 - mae: 4.2565 - val_loss: 19.5108 - val_mae: 4.2590 - lr: 0.0010\n",
            "Epoch 9/500\n",
            "9/9 [==============================] - 0s 22ms/step - loss: 19.4834 - mae: 4.2559 - val_loss: 19.5095 - val_mae: 4.2589 - lr: 0.0010\n",
            "Epoch 10/500\n",
            "9/9 [==============================] - 0s 22ms/step - loss: 19.4764 - mae: 4.2551 - val_loss: 19.5078 - val_mae: 4.2587 - lr: 0.0010\n",
            "Epoch 11/500\n",
            "9/9 [==============================] - 0s 22ms/step - loss: 19.4678 - mae: 4.2541 - val_loss: 19.5057 - val_mae: 4.2584 - lr: 0.0010\n",
            "Epoch 12/500\n",
            "9/9 [==============================] - 0s 22ms/step - loss: 19.4574 - mae: 4.2529 - val_loss: 19.5030 - val_mae: 4.2580 - lr: 0.0010\n",
            "Epoch 13/500\n",
            "9/9 [==============================] - 0s 23ms/step - loss: 19.4449 - mae: 4.2515 - val_loss: 19.4999 - val_mae: 4.2576 - lr: 0.0010\n",
            "Epoch 14/500\n",
            "9/9 [==============================] - 0s 24ms/step - loss: 19.4300 - mae: 4.2497 - val_loss: 19.4962 - val_mae: 4.2570 - lr: 0.0010\n",
            "Epoch 15/500\n",
            "9/9 [==============================] - 0s 24ms/step - loss: 19.4124 - mae: 4.2476 - val_loss: 19.4919 - val_mae: 4.2564 - lr: 0.0010\n",
            "Epoch 16/500\n",
            "9/9 [==============================] - 0s 25ms/step - loss: 19.3920 - mae: 4.2452 - val_loss: 19.4870 - val_mae: 4.2557 - lr: 0.0010\n",
            "Epoch 17/500\n",
            "9/9 [==============================] - 0s 23ms/step - loss: 19.3685 - mae: 4.2424 - val_loss: 19.4815 - val_mae: 4.2549 - lr: 0.0010\n",
            "Epoch 18/500\n",
            "9/9 [==============================] - 0s 24ms/step - loss: 19.3417 - mae: 4.2391 - val_loss: 19.4754 - val_mae: 4.2539 - lr: 0.0010\n",
            "Epoch 19/500\n",
            "9/9 [==============================] - 0s 23ms/step - loss: 19.3113 - mae: 4.2355 - val_loss: 19.4688 - val_mae: 4.2529 - lr: 0.0010\n",
            "Epoch 20/500\n",
            "9/9 [==============================] - 0s 25ms/step - loss: 19.2773 - mae: 4.2313 - val_loss: 19.4615 - val_mae: 4.2517 - lr: 0.0010\n",
            "Epoch 21/500\n",
            "9/9 [==============================] - 0s 23ms/step - loss: 19.2395 - mae: 4.2267 - val_loss: 19.4538 - val_mae: 4.2504 - lr: 0.0010\n",
            "Epoch 22/500\n",
            "9/9 [==============================] - 0s 24ms/step - loss: 19.1978 - mae: 4.2216 - val_loss: 19.4455 - val_mae: 4.2490 - lr: 0.0010\n",
            "Epoch 23/500\n",
            "9/9 [==============================] - 0s 23ms/step - loss: 19.1521 - mae: 4.2159 - val_loss: 19.4367 - val_mae: 4.2475 - lr: 0.0010\n",
            "Epoch 24/500\n",
            "9/9 [==============================] - 0s 23ms/step - loss: 19.1023 - mae: 4.2098 - val_loss: 19.4275 - val_mae: 4.2459 - lr: 0.0010\n",
            "Epoch 25/500\n",
            "9/9 [==============================] - 0s 23ms/step - loss: 19.0485 - mae: 4.2031 - val_loss: 19.4178 - val_mae: 4.2441 - lr: 0.0010\n",
            "Epoch 26/500\n",
            "9/9 [==============================] - 0s 24ms/step - loss: 18.9905 - mae: 4.1958 - val_loss: 19.4077 - val_mae: 4.2423 - lr: 0.0010\n",
            "Epoch 27/500\n",
            "9/9 [==============================] - 0s 24ms/step - loss: 18.9285 - mae: 4.1880 - val_loss: 19.3973 - val_mae: 4.2403 - lr: 0.0010\n",
            "Epoch 28/500\n",
            "9/9 [==============================] - 0s 24ms/step - loss: 18.8624 - mae: 4.1797 - val_loss: 19.3865 - val_mae: 4.2383 - lr: 0.0010\n",
            "Epoch 29/500\n",
            "9/9 [==============================] - 0s 23ms/step - loss: 18.7924 - mae: 4.1708 - val_loss: 19.3755 - val_mae: 4.2361 - lr: 0.0010\n",
            "Epoch 30/500\n",
            "9/9 [==============================] - 0s 23ms/step - loss: 18.7184 - mae: 4.1613 - val_loss: 19.3641 - val_mae: 4.2338 - lr: 0.0010\n",
            "Epoch 31/500\n",
            "9/9 [==============================] - 0s 22ms/step - loss: 18.6404 - mae: 4.1513 - val_loss: 19.3526 - val_mae: 4.2314 - lr: 0.0010\n",
            "Epoch 32/500\n",
            "9/9 [==============================] - 0s 23ms/step - loss: 18.5586 - mae: 4.1407 - val_loss: 19.3408 - val_mae: 4.2289 - lr: 0.0010\n",
            "Epoch 33/500\n",
            "9/9 [==============================] - 0s 23ms/step - loss: 18.4731 - mae: 4.1296 - val_loss: 19.3290 - val_mae: 4.2263 - lr: 0.0010\n",
            "Epoch 34/500\n",
            "9/9 [==============================] - 0s 24ms/step - loss: 18.3841 - mae: 4.1180 - val_loss: 19.3170 - val_mae: 4.2236 - lr: 0.0010\n",
            "Epoch 35/500\n",
            "9/9 [==============================] - 0s 23ms/step - loss: 18.2915 - mae: 4.1058 - val_loss: 19.3049 - val_mae: 4.2208 - lr: 0.0010\n",
            "Epoch 36/500\n",
            "9/9 [==============================] - 0s 24ms/step - loss: 18.1956 - mae: 4.0931 - val_loss: 19.2929 - val_mae: 4.2179 - lr: 0.0010\n",
            "Epoch 37/500\n",
            "9/9 [==============================] - 0s 22ms/step - loss: 18.0964 - mae: 4.0799 - val_loss: 19.2808 - val_mae: 4.2150 - lr: 0.0010\n",
            "Epoch 38/500\n",
            "9/9 [==============================] - 0s 22ms/step - loss: 17.9940 - mae: 4.0662 - val_loss: 19.2687 - val_mae: 4.2119 - lr: 0.0010\n",
            "Epoch 39/500\n",
            "9/9 [==============================] - 0s 23ms/step - loss: 17.8887 - mae: 4.0520 - val_loss: 19.2568 - val_mae: 4.2088 - lr: 0.0010\n",
            "Epoch 40/500\n",
            "9/9 [==============================] - 0s 23ms/step - loss: 17.7806 - mae: 4.0373 - val_loss: 19.2450 - val_mae: 4.2056 - lr: 0.0010\n",
            "Epoch 41/500\n",
            "9/9 [==============================] - 0s 23ms/step - loss: 17.6697 - mae: 4.0221 - val_loss: 19.2333 - val_mae: 4.2023 - lr: 0.0010\n",
            "Epoch 42/500\n",
            "9/9 [==============================] - 0s 23ms/step - loss: 17.5562 - mae: 4.0065 - val_loss: 19.2218 - val_mae: 4.1989 - lr: 0.0010\n",
            "Epoch 43/500\n",
            "9/9 [==============================] - 0s 22ms/step - loss: 17.4403 - mae: 3.9904 - val_loss: 19.2104 - val_mae: 4.1955 - lr: 0.0010\n",
            "Epoch 44/500\n",
            "9/9 [==============================] - 0s 22ms/step - loss: 17.3222 - mae: 3.9739 - val_loss: 19.1994 - val_mae: 4.1920 - lr: 0.0010\n",
            "Epoch 45/500\n",
            "9/9 [==============================] - 0s 23ms/step - loss: 17.2019 - mae: 3.9569 - val_loss: 19.1885 - val_mae: 4.1884 - lr: 0.0010\n",
            "Epoch 46/500\n",
            "9/9 [==============================] - 0s 22ms/step - loss: 17.0795 - mae: 3.9395 - val_loss: 19.1780 - val_mae: 4.1848 - lr: 0.0010\n",
            "Epoch 47/500\n",
            "9/9 [==============================] - 0s 23ms/step - loss: 16.9554 - mae: 3.9218 - val_loss: 19.1678 - val_mae: 4.1811 - lr: 0.0010\n",
            "Epoch 48/500\n",
            "9/9 [==============================] - 0s 22ms/step - loss: 16.8294 - mae: 3.9036 - val_loss: 19.1579 - val_mae: 4.1774 - lr: 0.0010\n",
            "Epoch 49/500\n",
            "9/9 [==============================] - 0s 22ms/step - loss: 16.7018 - mae: 3.8851 - val_loss: 19.1484 - val_mae: 4.1736 - lr: 0.0010\n",
            "Epoch 50/500\n",
            "9/9 [==============================] - 0s 22ms/step - loss: 16.5728 - mae: 3.8662 - val_loss: 19.1392 - val_mae: 4.1698 - lr: 0.0010\n",
            "Epoch 51/500\n",
            "9/9 [==============================] - 0s 22ms/step - loss: 16.4424 - mae: 3.8469 - val_loss: 19.1304 - val_mae: 4.1659 - lr: 0.0010\n",
            "Epoch 52/500\n",
            "9/9 [==============================] - 0s 23ms/step - loss: 16.3108 - mae: 3.8273 - val_loss: 19.1221 - val_mae: 4.1620 - lr: 0.0010\n",
            "Epoch 53/500\n",
            "9/9 [==============================] - 0s 22ms/step - loss: 16.1782 - mae: 3.8074 - val_loss: 19.1142 - val_mae: 4.1580 - lr: 0.0010\n",
            "Epoch 54/500\n",
            "9/9 [==============================] - 0s 22ms/step - loss: 16.0445 - mae: 3.7872 - val_loss: 19.1067 - val_mae: 4.1540 - lr: 0.0010\n",
            "Epoch 55/500\n",
            "9/9 [==============================] - 0s 23ms/step - loss: 15.9101 - mae: 3.7666 - val_loss: 19.0997 - val_mae: 4.1500 - lr: 0.0010\n",
            "Epoch 56/500\n",
            "9/9 [==============================] - 0s 22ms/step - loss: 15.7749 - mae: 3.7458 - val_loss: 19.0931 - val_mae: 4.1460 - lr: 0.0010\n",
            "Epoch 57/500\n",
            "9/9 [==============================] - 0s 23ms/step - loss: 15.6391 - mae: 3.7247 - val_loss: 19.0871 - val_mae: 4.1419 - lr: 0.0010\n",
            "Epoch 58/500\n",
            "9/9 [==============================] - 0s 22ms/step - loss: 15.5028 - mae: 3.7033 - val_loss: 19.0816 - val_mae: 4.1378 - lr: 0.0010\n",
            "Epoch 59/500\n",
            "9/9 [==============================] - 0s 22ms/step - loss: 15.3661 - mae: 3.6817 - val_loss: 19.0765 - val_mae: 4.1337 - lr: 0.0010\n",
            "Epoch 60/500\n",
            "9/9 [==============================] - 0s 22ms/step - loss: 15.2292 - mae: 3.6598 - val_loss: 19.0720 - val_mae: 4.1295 - lr: 0.0010\n",
            "Epoch 61/500\n",
            "9/9 [==============================] - 0s 22ms/step - loss: 15.0920 - mae: 3.6377 - val_loss: 19.0680 - val_mae: 4.1254 - lr: 0.0010\n",
            "Epoch 62/500\n",
            "9/9 [==============================] - 0s 23ms/step - loss: 14.9548 - mae: 3.6154 - val_loss: 19.0646 - val_mae: 4.1212 - lr: 0.0010\n",
            "Epoch 63/500\n",
            "9/9 [==============================] - 0s 23ms/step - loss: 14.8175 - mae: 3.5929 - val_loss: 19.0616 - val_mae: 4.1170 - lr: 0.0010\n",
            "Epoch 64/500\n",
            "9/9 [==============================] - 0s 22ms/step - loss: 14.6804 - mae: 3.5702 - val_loss: 19.0592 - val_mae: 4.1129 - lr: 0.0010\n",
            "Epoch 65/500\n",
            "9/9 [==============================] - 0s 22ms/step - loss: 14.5434 - mae: 3.5474 - val_loss: 19.0573 - val_mae: 4.1087 - lr: 0.0010\n",
            "Epoch 66/500\n",
            "9/9 [==============================] - 0s 22ms/step - loss: 14.4067 - mae: 3.5243 - val_loss: 19.0558 - val_mae: 4.1045 - lr: 0.0010\n",
            "Epoch 67/500\n",
            "9/9 [==============================] - 0s 22ms/step - loss: 14.2703 - mae: 3.5011 - val_loss: 19.0550 - val_mae: 4.1003 - lr: 0.0010\n",
            "Epoch 68/500\n",
            "9/9 [==============================] - 0s 22ms/step - loss: 14.1344 - mae: 3.4778 - val_loss: 19.0546 - val_mae: 4.0961 - lr: 0.0010\n",
            "Epoch 69/500\n",
            "9/9 [==============================] - 0s 23ms/step - loss: 13.9990 - mae: 3.4543 - val_loss: 19.0548 - val_mae: 4.0919 - lr: 0.0010\n",
            "Epoch 70/500\n",
            "9/9 [==============================] - 0s 22ms/step - loss: 13.8642 - mae: 3.4308 - val_loss: 19.0555 - val_mae: 4.0878 - lr: 0.0010\n",
            "Epoch 71/500\n",
            "9/9 [==============================] - 0s 22ms/step - loss: 13.7300 - mae: 3.4071 - val_loss: 19.0566 - val_mae: 4.0836 - lr: 0.0010\n",
            "Epoch 72/500\n",
            "9/9 [==============================] - 0s 22ms/step - loss: 13.5966 - mae: 3.3833 - val_loss: 19.0583 - val_mae: 4.0795 - lr: 0.0010\n",
            "Epoch 73/500\n",
            "9/9 [==============================] - 0s 22ms/step - loss: 13.4639 - mae: 3.3594 - val_loss: 19.0605 - val_mae: 4.0753 - lr: 0.0010\n",
            "Epoch 74/500\n",
            "9/9 [==============================] - 0s 22ms/step - loss: 13.3319 - mae: 3.3355 - val_loss: 19.0632 - val_mae: 4.0712 - lr: 0.0010\n",
            "Epoch 75/500\n",
            "9/9 [==============================] - 0s 22ms/step - loss: 13.2009 - mae: 3.3114 - val_loss: 19.0663 - val_mae: 4.0671 - lr: 0.0010\n",
            "Epoch 76/500\n",
            "9/9 [==============================] - 0s 22ms/step - loss: 13.0708 - mae: 3.2874 - val_loss: 19.0699 - val_mae: 4.0630 - lr: 0.0010\n",
            "Epoch 77/500\n",
            "9/9 [==============================] - 0s 22ms/step - loss: 12.9417 - mae: 3.2633 - val_loss: 19.0740 - val_mae: 4.0589 - lr: 0.0010\n",
            "Epoch 78/500\n",
            "9/9 [==============================] - 0s 22ms/step - loss: 12.8136 - mae: 3.2391 - val_loss: 19.0785 - val_mae: 4.0549 - lr: 0.0010\n",
            "Epoch 79/500\n",
            "9/9 [==============================] - 0s 22ms/step - loss: 12.6866 - mae: 3.2150 - val_loss: 19.0835 - val_mae: 4.0509 - lr: 0.0010\n",
            "Epoch 80/500\n",
            "9/9 [==============================] - 0s 23ms/step - loss: 12.5607 - mae: 3.1908 - val_loss: 19.0889 - val_mae: 4.0469 - lr: 0.0010\n",
            "Epoch 81/500\n",
            "9/9 [==============================] - 0s 22ms/step - loss: 12.4359 - mae: 3.1666 - val_loss: 19.0947 - val_mae: 4.0429 - lr: 0.0010\n",
            "Epoch 82/500\n",
            "9/9 [==============================] - 0s 22ms/step - loss: 12.3122 - mae: 3.1424 - val_loss: 19.1009 - val_mae: 4.0389 - lr: 0.0010\n",
            "Epoch 83/500\n",
            "9/9 [==============================] - 0s 23ms/step - loss: 12.1898 - mae: 3.1182 - val_loss: 19.1074 - val_mae: 4.0350 - lr: 0.0010\n",
            "Epoch 84/500\n",
            "9/9 [==============================] - 0s 22ms/step - loss: 12.0686 - mae: 3.0940 - val_loss: 19.1144 - val_mae: 4.0311 - lr: 0.0010\n",
            "Epoch 85/500\n",
            "9/9 [==============================] - 0s 22ms/step - loss: 11.9486 - mae: 3.0699 - val_loss: 19.1217 - val_mae: 4.0272 - lr: 0.0010\n",
            "Epoch 86/500\n",
            "9/9 [==============================] - 0s 22ms/step - loss: 11.8300 - mae: 3.0458 - val_loss: 19.1295 - val_mae: 4.0234 - lr: 0.0010\n",
            "Epoch 87/500\n",
            "9/9 [==============================] - 0s 24ms/step - loss: 11.7126 - mae: 3.0217 - val_loss: 19.1376 - val_mae: 4.0195 - lr: 0.0010\n",
            "Epoch 88/500\n",
            "9/9 [==============================] - 0s 22ms/step - loss: 11.5966 - mae: 2.9977 - val_loss: 19.1460 - val_mae: 4.0157 - lr: 0.0010\n",
            "Epoch 89/500\n",
            "9/9 [==============================] - 0s 23ms/step - loss: 11.4820 - mae: 2.9737 - val_loss: 19.1547 - val_mae: 4.0120 - lr: 0.0010\n",
            "Epoch 90/500\n",
            "9/9 [==============================] - 0s 24ms/step - loss: 11.3687 - mae: 2.9498 - val_loss: 19.1638 - val_mae: 4.0082 - lr: 0.0010\n",
            "Epoch 91/500\n",
            "9/9 [==============================] - 0s 23ms/step - loss: 11.2569 - mae: 2.9260 - val_loss: 19.1731 - val_mae: 4.0045 - lr: 0.0010\n",
            "Epoch 92/500\n",
            "9/9 [==============================] - 0s 22ms/step - loss: 11.1464 - mae: 2.9022 - val_loss: 19.1827 - val_mae: 4.0008 - lr: 0.0010\n",
            "Epoch 93/500\n",
            "9/9 [==============================] - 0s 23ms/step - loss: 11.0373 - mae: 2.8786 - val_loss: 19.1925 - val_mae: 3.9972 - lr: 0.0010\n",
            "Epoch 94/500\n",
            "9/9 [==============================] - 0s 23ms/step - loss: 10.9296 - mae: 2.8550 - val_loss: 19.2025 - val_mae: 3.9935 - lr: 0.0010\n",
            "Epoch 95/500\n",
            "9/9 [==============================] - 0s 23ms/step - loss: 10.8234 - mae: 2.8315 - val_loss: 19.2128 - val_mae: 3.9899 - lr: 0.0010\n",
            "Epoch 96/500\n",
            "9/9 [==============================] - 0s 24ms/step - loss: 10.7186 - mae: 2.8081 - val_loss: 19.2234 - val_mae: 3.9863 - lr: 0.0010\n",
            "Epoch 97/500\n",
            "9/9 [==============================] - 0s 25ms/step - loss: 10.6151 - mae: 2.7848 - val_loss: 19.2343 - val_mae: 3.9828 - lr: 0.0010\n",
            "Epoch 98/500\n",
            "9/9 [==============================] - 0s 22ms/step - loss: 10.5132 - mae: 2.7617 - val_loss: 19.2453 - val_mae: 3.9793 - lr: 0.0010\n",
            "Epoch 99/500\n",
            "9/9 [==============================] - 0s 24ms/step - loss: 10.4126 - mae: 2.7386 - val_loss: 19.2566 - val_mae: 3.9758 - lr: 0.0010\n",
            "Epoch 100/500\n",
            "9/9 [==============================] - 0s 22ms/step - loss: 10.3135 - mae: 2.7157 - val_loss: 19.2680 - val_mae: 3.9723 - lr: 0.0010\n",
            "Epoch 101/500\n",
            "9/9 [==============================] - 0s 23ms/step - loss: 10.2158 - mae: 2.6929 - val_loss: 19.2795 - val_mae: 3.9689 - lr: 0.0010\n",
            "Epoch 102/500\n",
            "9/9 [==============================] - 0s 22ms/step - loss: 10.1196 - mae: 2.6702 - val_loss: 19.2913 - val_mae: 3.9655 - lr: 0.0010\n",
            "Epoch 103/500\n",
            "9/9 [==============================] - 0s 23ms/step - loss: 10.0248 - mae: 2.6477 - val_loss: 19.3032 - val_mae: 3.9621 - lr: 0.0010\n",
            "Epoch 104/500\n",
            "9/9 [==============================] - 0s 22ms/step - loss: 9.9314 - mae: 2.6254 - val_loss: 19.3152 - val_mae: 3.9587 - lr: 0.0010\n",
            "Epoch 105/500\n",
            "9/9 [==============================] - 0s 23ms/step - loss: 9.8395 - mae: 2.6032 - val_loss: 19.3273 - val_mae: 3.9554 - lr: 0.0010\n",
            "Epoch 106/500\n",
            "9/9 [==============================] - 0s 23ms/step - loss: 9.7489 - mae: 2.5811 - val_loss: 19.3396 - val_mae: 3.9521 - lr: 0.0010\n",
            "Epoch 107/500\n",
            "9/9 [==============================] - 0s 24ms/step - loss: 9.6598 - mae: 2.5592 - val_loss: 19.3519 - val_mae: 3.9488 - lr: 0.0010\n",
            "Epoch 108/500\n",
            "9/9 [==============================] - 0s 24ms/step - loss: 9.5720 - mae: 2.5374 - val_loss: 19.3644 - val_mae: 3.9456 - lr: 0.0010\n",
            "Epoch 109/500\n",
            "9/9 [==============================] - 0s 23ms/step - loss: 9.4856 - mae: 2.5159 - val_loss: 19.3769 - val_mae: 3.9424 - lr: 0.0010\n",
            "Epoch 110/500\n",
            "9/9 [==============================] - 0s 22ms/step - loss: 9.4005 - mae: 2.4944 - val_loss: 19.3895 - val_mae: 3.9392 - lr: 0.0010\n",
            "Epoch 111/500\n",
            "9/9 [==============================] - 0s 23ms/step - loss: 9.3168 - mae: 2.4732 - val_loss: 19.4022 - val_mae: 3.9360 - lr: 0.0010\n",
            "Epoch 112/500\n",
            "9/9 [==============================] - 0s 23ms/step - loss: 9.2345 - mae: 2.4521 - val_loss: 19.4150 - val_mae: 3.9328 - lr: 0.0010\n",
            "Epoch 113/500\n",
            "9/9 [==============================] - 0s 23ms/step - loss: 9.1536 - mae: 2.4312 - val_loss: 19.4277 - val_mae: 3.9297 - lr: 0.0010\n",
            "Epoch 114/500\n",
            "9/9 [==============================] - 0s 23ms/step - loss: 9.0739 - mae: 2.4105 - val_loss: 19.4405 - val_mae: 3.9266 - lr: 0.0010\n",
            "Epoch 115/500\n",
            "9/9 [==============================] - 0s 22ms/step - loss: 8.9956 - mae: 2.3900 - val_loss: 19.4534 - val_mae: 3.9236 - lr: 0.0010\n",
            "Epoch 116/500\n",
            "9/9 [==============================] - 0s 22ms/step - loss: 8.9185 - mae: 2.3697 - val_loss: 19.4662 - val_mae: 3.9205 - lr: 0.0010\n",
            "Epoch 117/500\n",
            "9/9 [==============================] - 0s 22ms/step - loss: 8.8427 - mae: 2.3495 - val_loss: 19.4791 - val_mae: 3.9175 - lr: 0.0010\n",
            "Epoch 118/500\n",
            "9/9 [==============================] - 0s 23ms/step - loss: 8.7681 - mae: 2.3295 - val_loss: 19.4920 - val_mae: 3.9145 - lr: 0.0010\n",
            "43518/43518 [==============================] - 59s 1ms/step\n",
            "CPU times: user 3min 15s, sys: 13.2 s, total: 3min 28s\n",
            "Wall time: 1min 55s\n"
          ]
        }
      ],
      "source": [
        "%%time\n",
        "# Entrenar el modelo con el conjunto de entrenamiento\n",
        "model.fit([user_ids_train, item_ids_train], ratings_train, validation_data=([user_ids_test, item_ids_test], ratings_test), epochs=500, batch_size=400000, verbose=1, callbacks=[early_stop, reduce_lr])\n",
        "\n",
        "predictions = model.predict([user_ids_test, item_ids_test])"
      ]
    },
    {
      "cell_type": "code",
      "execution_count": 12,
      "metadata": {
        "colab": {
          "base_uri": "https://localhost:8080/"
        },
        "id": "SMJd_nt7g5h4",
        "outputId": "2758295d-0362-4c2a-f117-2810ca0d2ec3"
      },
      "outputs": [
        {
          "output_type": "stream",
          "name": "stdout",
          "text": [
            "35/35 [==============================] - 0s 3ms/step - loss: 19.4920 - mae: 3.9145\n",
            "Test Loss: 19.4920\n",
            "Test MAE: 3.9145\n"
          ]
        }
      ],
      "source": [
        "# Evaluar el modelo con el conjunto de prueba\n",
        "loss, mae = model.evaluate([user_ids_test, item_ids_test], ratings_test, batch_size=40000)\n",
        "print(f'Test Loss: {loss:.4f}')\n",
        "print(f'Test MAE: {mae:.4f}')"
      ]
    },
    {
      "cell_type": "code",
      "execution_count": 13,
      "metadata": {
        "colab": {
          "base_uri": "https://localhost:8080/"
        },
        "id": "USnKRkm0KCdW",
        "outputId": "dc67344b-f8aa-42fd-84c3-7b21e7ab4c24"
      },
      "outputs": [
        {
          "output_type": "stream",
          "name": "stdout",
          "text": [
            "MSE: 17.9076\n",
            "RMSE: 4.2317\n",
            "MAE: 3.9145\n",
            "MAPE: 92.04%\n"
          ]
        }
      ],
      "source": [
        "# MSE\n",
        "mse = mean_squared_error(ratings_test, predictions)\n",
        "print(f\"MSE: {mse:.4f}\")\n",
        "\n",
        "# RMSE\n",
        "rmse = np.sqrt(mse)\n",
        "print(f\"RMSE: {rmse:.4f}\")\n",
        "\n",
        "# MAE\n",
        "mae = mean_absolute_error(ratings_test, predictions)\n",
        "print(f\"MAE: {mae:.4f}\")\n",
        "\n",
        "# MAPE (Mean Absolute Percentage Error)\n",
        "mape = np.mean(np.abs((ratings_test - predictions.flatten()) / ratings_test)) * 100\n",
        "print(f\"MAPE: {mape:.2f}%\")"
      ]
    },
    {
      "cell_type": "markdown",
      "metadata": {
        "id": "odgbIWArkJ2y"
      },
      "source": [
        "# Modelo de Filtrado Colaborativo usando Red Neuronal Multicapa con Keras:"
      ]
    },
    {
      "cell_type": "markdown",
      "metadata": {
        "id": "vBK_zPK7lvti"
      },
      "source": [
        "Funcionamiento:\n",
        "\n",
        "Estos sistemas toman características de los ítems y/o usuarios y las pasan a través de una o varias capas de neuronas para obtener una predicción.\n",
        "Las redes neuronales son capaces de capturar interacciones no lineales entre características, lo que las hace poderosas para tareas de modelado complejas.\n",
        "\n",
        "Ventajas:\n",
        "\n",
        "Capacidad de modelar relaciones no lineales.\n",
        "\n",
        "Flexibilidad para incorporar múltiples fuentes de datos o características.\n",
        "\n",
        "Puede manejar arranques en frío al incorporar características de nuevos ítems o usuarios.\n",
        "\n",
        "Desventajas:\n",
        "\n",
        "Mayor costo computacional en comparación con los sistemas basados únicamente en embeddings.\n",
        "\n",
        "Riesgo de sobreajuste si no se tiene un conjunto de datos lo suficientemente grande."
      ]
    },
    {
      "cell_type": "markdown",
      "metadata": {
        "id": "YMnns-ENh_KJ"
      },
      "source": [
        "Ahora el código incluye regularización en los embeddings, early stopping para detener el entrenamiento si el modelo deja de mejorar en el conjunto de validación, y reducción de la tasa de aprendizaje si el error en el conjunto de validación no mejora después de algunas épocas. Estas adiciones deberían ayudar a mejorar la capacidad de generalización del modelo."
      ]
    },
    {
      "cell_type": "code",
      "execution_count": 14,
      "metadata": {
        "id": "ZFgVZSeTkKGy"
      },
      "outputs": [],
      "source": [
        "# Suponiendo que el DataFrame se llama df\n",
        "df['user_id'] = df['reviewerID'].astype('category').cat.codes.values\n",
        "df['item_id'] = df['asin'].astype('category').cat.codes.values\n",
        "\n",
        "# Número de usuarios e ítems\n",
        "n_users = df['user_id'].nunique()\n",
        "n_items = df['item_id'].nunique()\n",
        "\n",
        "# Hiperparámetros\n",
        "hidden_units = [128, 64, 32]\n",
        "dropout_rate = 0.2\n",
        "l2_reg = 1e-6\n",
        "\n",
        "# Arquitectura del modelo\n",
        "user_input = Input(shape=[1], name='user_input')\n",
        "item_input = Input(shape=[1], name='item_input')\n",
        "concat = Concatenate()([user_input, item_input])\n",
        "dense = concat\n",
        "for units in hidden_units:\n",
        "    dense = Dense(units, activation='relu', kernel_regularizer=l2(l2_reg))(dense)\n",
        "    dense = Dropout(dropout_rate)(dense)\n",
        "output = Dense(1, kernel_regularizer=l2(l2_reg))(dense)  # También puedes aplicar regularización L2 aquí\n",
        "model = Model(inputs=[user_input, item_input], outputs=output)\n",
        "model.compile(optimizer=Adam(0.001), loss='mean_squared_error')"
      ]
    },
    {
      "cell_type": "code",
      "execution_count": 15,
      "metadata": {
        "id": "N7uvl8VEhqdD"
      },
      "outputs": [],
      "source": [
        "# Callbacks\n",
        "early_stop = EarlyStopping(monitor='val_loss', patience=50)\n",
        "reduce_lr = ReduceLROnPlateau(monitor='val_loss', factor=0.2, patience=50, min_lr=1e-5)"
      ]
    },
    {
      "cell_type": "code",
      "execution_count": 16,
      "metadata": {
        "id": "blU4Q9akkVBc"
      },
      "outputs": [],
      "source": [
        "# Datos para entrenamiento\n",
        "user_data = df['user_id'].values\n",
        "item_data = df['item_id'].values\n",
        "rating_data = df['overall'].values\n",
        "\n",
        "# Dividir los datos\n",
        "user_data_train, user_data_val, item_data_train, item_data_val, ratings_train, ratings_val = train_test_split(\n",
        "    user_data, item_data, rating_data, test_size=0.3, random_state=42)"
      ]
    },
    {
      "cell_type": "code",
      "source": [
        "%%time\n",
        "# Entrenamiento del modelo\n",
        "history = model.fit([user_data_train, item_data_train], ratings_train,\n",
        "    epochs=500,validation_data=([user_data_val, item_data_val], ratings_val),\n",
        "    batch_size=400000,verbose=1,callbacks=[early_stop, reduce_lr])"
      ],
      "metadata": {
        "colab": {
          "base_uri": "https://localhost:8080/"
        },
        "id": "kGxLwUhzf32z",
        "outputId": "e599f4ca-0067-4177-d626-8baf866725f4"
      },
      "execution_count": 17,
      "outputs": [
        {
          "output_type": "stream",
          "name": "stdout",
          "text": [
            "Epoch 1/500\n",
            "9/9 [==============================] - 3s 77ms/step - loss: 1144496256.0000 - val_loss: 50229320.0000 - lr: 0.0010\n",
            "Epoch 2/500\n",
            "9/9 [==============================] - 0s 51ms/step - loss: 276269696.0000 - val_loss: 12932741.0000 - lr: 0.0010\n",
            "Epoch 3/500\n",
            "9/9 [==============================] - 0s 51ms/step - loss: 121008136.0000 - val_loss: 7724947.0000 - lr: 0.0010\n",
            "Epoch 4/500\n",
            "9/9 [==============================] - 0s 51ms/step - loss: 71205512.0000 - val_loss: 3866249.0000 - lr: 0.0010\n",
            "Epoch 5/500\n",
            "9/9 [==============================] - 0s 51ms/step - loss: 43643648.0000 - val_loss: 550446.4375 - lr: 0.0010\n",
            "Epoch 6/500\n",
            "9/9 [==============================] - 0s 50ms/step - loss: 26728408.0000 - val_loss: 39481.9883 - lr: 0.0010\n",
            "Epoch 7/500\n",
            "9/9 [==============================] - 0s 51ms/step - loss: 16555747.0000 - val_loss: 35723.5273 - lr: 0.0010\n",
            "Epoch 8/500\n",
            "9/9 [==============================] - 0s 51ms/step - loss: 10555589.0000 - val_loss: 75931.6094 - lr: 0.0010\n",
            "Epoch 9/500\n",
            "9/9 [==============================] - 0s 51ms/step - loss: 6791714.0000 - val_loss: 16290.8047 - lr: 0.0010\n",
            "Epoch 10/500\n",
            "9/9 [==============================] - 0s 51ms/step - loss: 4315625.5000 - val_loss: 1924.4318 - lr: 0.0010\n",
            "Epoch 11/500\n",
            "9/9 [==============================] - 0s 51ms/step - loss: 2842891.5000 - val_loss: 2103.6011 - lr: 0.0010\n",
            "Epoch 12/500\n",
            "9/9 [==============================] - 0s 50ms/step - loss: 1995206.1250 - val_loss: 84.9166 - lr: 0.0010\n",
            "Epoch 13/500\n",
            "9/9 [==============================] - 0s 51ms/step - loss: 1502211.1250 - val_loss: 62.1167 - lr: 0.0010\n",
            "Epoch 14/500\n",
            "9/9 [==============================] - 0s 51ms/step - loss: 1194030.6250 - val_loss: 13.9580 - lr: 0.0010\n",
            "Epoch 15/500\n",
            "9/9 [==============================] - 0s 51ms/step - loss: 983049.0625 - val_loss: 21.5552 - lr: 0.0010\n",
            "Epoch 16/500\n",
            "9/9 [==============================] - 0s 50ms/step - loss: 837248.9375 - val_loss: 9.1520 - lr: 0.0010\n",
            "Epoch 17/500\n",
            "9/9 [==============================] - 0s 51ms/step - loss: 722737.4375 - val_loss: 5.7919 - lr: 0.0010\n",
            "Epoch 18/500\n",
            "9/9 [==============================] - 0s 50ms/step - loss: 634309.6875 - val_loss: 5.3332 - lr: 0.0010\n",
            "Epoch 19/500\n",
            "9/9 [==============================] - 0s 50ms/step - loss: 578450.8125 - val_loss: 5.7556 - lr: 0.0010\n",
            "Epoch 20/500\n",
            "9/9 [==============================] - 0s 50ms/step - loss: 510240.1562 - val_loss: 5.1692 - lr: 0.0010\n",
            "Epoch 21/500\n",
            "9/9 [==============================] - 0s 51ms/step - loss: 472878.8125 - val_loss: 5.1358 - lr: 0.0010\n",
            "Epoch 22/500\n",
            "9/9 [==============================] - 0s 51ms/step - loss: 421949.9375 - val_loss: 7.0304 - lr: 0.0010\n",
            "Epoch 23/500\n",
            "9/9 [==============================] - 0s 51ms/step - loss: 391734.0312 - val_loss: 5.1034 - lr: 0.0010\n",
            "Epoch 24/500\n",
            "9/9 [==============================] - 0s 50ms/step - loss: 352995.1250 - val_loss: 5.7613 - lr: 0.0010\n",
            "Epoch 25/500\n",
            "9/9 [==============================] - 0s 51ms/step - loss: 330914.6250 - val_loss: 7.4937 - lr: 0.0010\n",
            "Epoch 26/500\n",
            "9/9 [==============================] - 0s 51ms/step - loss: 311690.7812 - val_loss: 5.5648 - lr: 0.0010\n",
            "Epoch 27/500\n",
            "9/9 [==============================] - 0s 51ms/step - loss: 283855.6250 - val_loss: 6.2589 - lr: 0.0010\n",
            "Epoch 28/500\n",
            "9/9 [==============================] - 0s 51ms/step - loss: 270578.1250 - val_loss: 7.4510 - lr: 0.0010\n",
            "Epoch 29/500\n",
            "9/9 [==============================] - 0s 51ms/step - loss: 260019.0312 - val_loss: 4.9706 - lr: 0.0010\n",
            "Epoch 30/500\n",
            "9/9 [==============================] - 0s 50ms/step - loss: 231408.3594 - val_loss: 7.2262 - lr: 0.0010\n",
            "Epoch 31/500\n",
            "9/9 [==============================] - 0s 50ms/step - loss: 226252.5938 - val_loss: 5.4801 - lr: 0.0010\n",
            "Epoch 32/500\n",
            "9/9 [==============================] - 0s 50ms/step - loss: 214538.3438 - val_loss: 15.0722 - lr: 0.0010\n",
            "Epoch 33/500\n",
            "9/9 [==============================] - 0s 50ms/step - loss: 202286.9375 - val_loss: 5.4887 - lr: 0.0010\n",
            "Epoch 34/500\n",
            "9/9 [==============================] - 0s 50ms/step - loss: 191427.6719 - val_loss: 6.8792 - lr: 0.0010\n",
            "Epoch 35/500\n",
            "9/9 [==============================] - 0s 50ms/step - loss: 184802.2188 - val_loss: 5.5107 - lr: 0.0010\n",
            "Epoch 36/500\n",
            "9/9 [==============================] - 0s 50ms/step - loss: 175188.3438 - val_loss: 13.2676 - lr: 0.0010\n",
            "Epoch 37/500\n",
            "9/9 [==============================] - 0s 50ms/step - loss: 168578.9531 - val_loss: 5.8754 - lr: 0.0010\n",
            "Epoch 38/500\n",
            "9/9 [==============================] - 0s 50ms/step - loss: 161076.0938 - val_loss: 6.4861 - lr: 0.0010\n",
            "Epoch 39/500\n",
            "9/9 [==============================] - 0s 50ms/step - loss: 154012.8438 - val_loss: 5.7317 - lr: 0.0010\n",
            "Epoch 40/500\n",
            "9/9 [==============================] - 0s 50ms/step - loss: 145580.8750 - val_loss: 4.8011 - lr: 0.0010\n",
            "Epoch 41/500\n",
            "9/9 [==============================] - 0s 50ms/step - loss: 144387.2031 - val_loss: 5.0559 - lr: 0.0010\n",
            "Epoch 42/500\n",
            "9/9 [==============================] - 0s 51ms/step - loss: 131671.6406 - val_loss: 5.4178 - lr: 0.0010\n",
            "Epoch 43/500\n",
            "9/9 [==============================] - 0s 51ms/step - loss: 131719.9062 - val_loss: 7.1070 - lr: 0.0010\n",
            "Epoch 44/500\n",
            "9/9 [==============================] - 0s 51ms/step - loss: 125293.1016 - val_loss: 7.0658 - lr: 0.0010\n",
            "Epoch 45/500\n",
            "9/9 [==============================] - 0s 50ms/step - loss: 115302.3672 - val_loss: 5.6760 - lr: 0.0010\n",
            "Epoch 46/500\n",
            "9/9 [==============================] - 0s 51ms/step - loss: 119670.1719 - val_loss: 5.7451 - lr: 0.0010\n",
            "Epoch 47/500\n",
            "9/9 [==============================] - 0s 50ms/step - loss: 111323.6797 - val_loss: 6.6508 - lr: 0.0010\n",
            "Epoch 48/500\n",
            "9/9 [==============================] - 0s 51ms/step - loss: 105997.0234 - val_loss: 7.2520 - lr: 0.0010\n",
            "Epoch 49/500\n",
            "9/9 [==============================] - 0s 50ms/step - loss: 105985.0547 - val_loss: 5.1111 - lr: 0.0010\n",
            "Epoch 50/500\n",
            "9/9 [==============================] - 0s 50ms/step - loss: 102301.1094 - val_loss: 5.3303 - lr: 0.0010\n",
            "Epoch 51/500\n",
            "9/9 [==============================] - 0s 50ms/step - loss: 101033.9219 - val_loss: 5.7661 - lr: 0.0010\n",
            "Epoch 52/500\n",
            "9/9 [==============================] - 0s 50ms/step - loss: 96045.6797 - val_loss: 7.0881 - lr: 0.0010\n",
            "Epoch 53/500\n",
            "9/9 [==============================] - 0s 50ms/step - loss: 91583.4141 - val_loss: 5.1712 - lr: 0.0010\n",
            "Epoch 54/500\n",
            "9/9 [==============================] - 0s 50ms/step - loss: 89548.6406 - val_loss: 10.6867 - lr: 0.0010\n",
            "Epoch 55/500\n",
            "9/9 [==============================] - 0s 50ms/step - loss: 87109.0391 - val_loss: 5.6020 - lr: 0.0010\n",
            "Epoch 56/500\n",
            "9/9 [==============================] - 0s 51ms/step - loss: 86717.2812 - val_loss: 5.2410 - lr: 0.0010\n",
            "Epoch 57/500\n",
            "9/9 [==============================] - 0s 51ms/step - loss: 81360.3906 - val_loss: 7.9857 - lr: 0.0010\n",
            "Epoch 58/500\n",
            "9/9 [==============================] - 0s 52ms/step - loss: 80074.3359 - val_loss: 5.8399 - lr: 0.0010\n",
            "Epoch 59/500\n",
            "9/9 [==============================] - 0s 51ms/step - loss: 73861.8594 - val_loss: 7.0759 - lr: 0.0010\n",
            "Epoch 60/500\n",
            "9/9 [==============================] - 0s 51ms/step - loss: 75410.1953 - val_loss: 5.5085 - lr: 0.0010\n",
            "Epoch 61/500\n",
            "9/9 [==============================] - 0s 51ms/step - loss: 73870.7422 - val_loss: 5.5182 - lr: 0.0010\n",
            "Epoch 62/500\n",
            "9/9 [==============================] - 0s 51ms/step - loss: 71580.1484 - val_loss: 6.4302 - lr: 0.0010\n",
            "Epoch 63/500\n",
            "9/9 [==============================] - 0s 51ms/step - loss: 73710.3281 - val_loss: 7.5266 - lr: 0.0010\n",
            "Epoch 64/500\n",
            "9/9 [==============================] - 0s 50ms/step - loss: 66808.0312 - val_loss: 10.3809 - lr: 0.0010\n",
            "Epoch 65/500\n",
            "9/9 [==============================] - 0s 51ms/step - loss: 65485.1328 - val_loss: 7.9094 - lr: 0.0010\n",
            "Epoch 66/500\n",
            "9/9 [==============================] - 0s 51ms/step - loss: 65207.4766 - val_loss: 5.6895 - lr: 0.0010\n",
            "Epoch 67/500\n",
            "9/9 [==============================] - 0s 50ms/step - loss: 64314.2344 - val_loss: 5.2351 - lr: 0.0010\n",
            "Epoch 68/500\n",
            "9/9 [==============================] - 0s 50ms/step - loss: 63061.5625 - val_loss: 5.5171 - lr: 0.0010\n",
            "Epoch 69/500\n",
            "9/9 [==============================] - 0s 51ms/step - loss: 60846.1250 - val_loss: 6.0331 - lr: 0.0010\n",
            "Epoch 70/500\n",
            "9/9 [==============================] - 0s 51ms/step - loss: 58754.6094 - val_loss: 5.4088 - lr: 0.0010\n",
            "Epoch 71/500\n",
            "9/9 [==============================] - 0s 51ms/step - loss: 57342.3477 - val_loss: 5.7934 - lr: 0.0010\n",
            "Epoch 72/500\n",
            "9/9 [==============================] - 0s 50ms/step - loss: 58525.5273 - val_loss: 5.2909 - lr: 0.0010\n",
            "Epoch 73/500\n",
            "9/9 [==============================] - 0s 51ms/step - loss: 57487.4609 - val_loss: 5.5329 - lr: 0.0010\n",
            "Epoch 74/500\n",
            "9/9 [==============================] - 0s 51ms/step - loss: 55015.5703 - val_loss: 10.3829 - lr: 0.0010\n",
            "Epoch 75/500\n",
            "9/9 [==============================] - 0s 51ms/step - loss: 54552.8672 - val_loss: 5.5767 - lr: 0.0010\n",
            "Epoch 76/500\n",
            "9/9 [==============================] - 0s 50ms/step - loss: 54783.3945 - val_loss: 9.2765 - lr: 0.0010\n",
            "Epoch 77/500\n",
            "9/9 [==============================] - 0s 50ms/step - loss: 48389.9531 - val_loss: 6.6226 - lr: 0.0010\n",
            "Epoch 78/500\n",
            "9/9 [==============================] - 0s 50ms/step - loss: 52359.1641 - val_loss: 6.3780 - lr: 0.0010\n",
            "Epoch 79/500\n",
            "9/9 [==============================] - 0s 51ms/step - loss: 50128.2500 - val_loss: 5.7083 - lr: 0.0010\n",
            "Epoch 80/500\n",
            "9/9 [==============================] - 0s 50ms/step - loss: 48932.2461 - val_loss: 6.2050 - lr: 0.0010\n",
            "Epoch 81/500\n",
            "9/9 [==============================] - 0s 50ms/step - loss: 49184.6367 - val_loss: 5.5492 - lr: 0.0010\n",
            "Epoch 82/500\n",
            "9/9 [==============================] - 0s 50ms/step - loss: 49806.3711 - val_loss: 8.7224 - lr: 0.0010\n",
            "Epoch 83/500\n",
            "9/9 [==============================] - 0s 50ms/step - loss: 48005.8164 - val_loss: 5.4524 - lr: 0.0010\n",
            "Epoch 84/500\n",
            "9/9 [==============================] - 0s 52ms/step - loss: 45920.9062 - val_loss: 6.2861 - lr: 0.0010\n",
            "Epoch 85/500\n",
            "9/9 [==============================] - 0s 51ms/step - loss: 44653.1797 - val_loss: 7.0105 - lr: 0.0010\n",
            "Epoch 86/500\n",
            "9/9 [==============================] - 0s 51ms/step - loss: 45083.7422 - val_loss: 5.5527 - lr: 0.0010\n",
            "Epoch 87/500\n",
            "9/9 [==============================] - 0s 51ms/step - loss: 41415.6797 - val_loss: 5.5517 - lr: 0.0010\n",
            "Epoch 88/500\n",
            "9/9 [==============================] - 0s 54ms/step - loss: 45262.2344 - val_loss: 5.9085 - lr: 0.0010\n",
            "Epoch 89/500\n",
            "9/9 [==============================] - 0s 52ms/step - loss: 40188.2617 - val_loss: 5.6659 - lr: 0.0010\n",
            "Epoch 90/500\n",
            "9/9 [==============================] - 0s 51ms/step - loss: 40475.1992 - val_loss: 6.5222 - lr: 0.0010\n",
            "CPU times: user 1min 13s, sys: 2.65 s, total: 1min 16s\n",
            "Wall time: 43.9 s\n"
          ]
        }
      ]
    },
    {
      "cell_type": "code",
      "source": [
        "# Evaluar el modelo\n",
        "y_true = ratings_val\n",
        "predictions = model.predict([user_data_val, item_data_val])"
      ],
      "metadata": {
        "colab": {
          "base_uri": "https://localhost:8080/"
        },
        "id": "Rhuwylfbf26k",
        "outputId": "dbbb3ba0-36fa-4ac1-b440-4e23ab8ff39a"
      },
      "execution_count": 18,
      "outputs": [
        {
          "output_type": "stream",
          "name": "stdout",
          "text": [
            "43518/43518 [==============================] - 66s 2ms/step\n"
          ]
        }
      ]
    },
    {
      "cell_type": "code",
      "execution_count": 19,
      "metadata": {
        "id": "CmYiE_PhkU66",
        "colab": {
          "base_uri": "https://localhost:8080/"
        },
        "outputId": "3d06ebee-e890-4f82-cb45-2ebfdf91efae"
      },
      "outputs": [
        {
          "output_type": "stream",
          "name": "stdout",
          "text": [
            "MSE: 6.52209367369245\n",
            "RMSE: 2.553839007003466\n",
            "MAE: 2.1910356203950307\n",
            "MAPE: 55.3369889029887%\n"
          ]
        }
      ],
      "source": [
        "# MSE y RMSE\n",
        "mse = mean_squared_error(y_true, predictions)\n",
        "rmse = np.sqrt(mse)\n",
        "\n",
        "# MAE\n",
        "mae = mean_absolute_error(y_true, predictions)\n",
        "\n",
        "# Funciones MAPE\n",
        "def mean_absolute_percentage_error(y_true, y_pred):\n",
        "    y_true, y_pred = np.array(y_true), np.array(y_pred)\n",
        "    non_zero_idx = y_true != 0  # Para evitar divisiones por cero\n",
        "    return np.mean(np.abs((y_true[non_zero_idx] - y_pred[non_zero_idx]) / y_true[non_zero_idx])) * 100\n",
        "\n",
        "def compute_mape_by_batch(y_true, predictions, batch_size=50000):\n",
        "    mape_sum = 0\n",
        "    num_batches = int(np.ceil(len(y_true) / batch_size))\n",
        "\n",
        "    for i in range(num_batches):\n",
        "        start_idx = i * batch_size\n",
        "        end_idx = start_idx + batch_size\n",
        "\n",
        "        batch_y_true = y_true[start_idx:end_idx]\n",
        "        batch_predictions = predictions[start_idx:end_idx]\n",
        "\n",
        "        mape_sum += mean_absolute_percentage_error(batch_y_true, batch_predictions)\n",
        "\n",
        "    return mape_sum / num_batches\n",
        "\n",
        "# Luego llamas a la función\n",
        "mape = compute_mape_by_batch(y_true, predictions)\n",
        "\n",
        "print(f'MSE: {mse}')\n",
        "print(f'RMSE: {rmse}')\n",
        "print(f'MAE: {mae}')\n",
        "print(f'MAPE: {mape}%')"
      ]
    },
    {
      "cell_type": "markdown",
      "metadata": {
        "id": "WTOAZeGrujrU"
      },
      "source": [
        "# Modelo de Filtrado Colaborativo usando Red Neuronal Multicapa y Embedding con Keras:\n",
        "\n",
        "Otra enfoque popular para filtrado colaborativo es utilizar redes neuronales multicapa, que esencialmente aprenden características no lineales de los datos. Vamos a construir un modelo que fusiona los embeddings de usuarios y artículos (por ejemplo, películas) en una red neuronal densa.\n",
        "\n",
        "Este enfoque, que combina embeddings y redes neuronales multicapa, puede capturar interacciones más complejas y no lineales entre usuarios y artículos. Sin embargo, es crucial prestar atención al sobreajuste y asegurarse de que el modelo no esté simplemente memorizando los datos. Por lo tanto, es recomendable emplear técnicas de regularización, ajustar hiperparámetros y validar el rendimiento con un conjunto de datos de validación."
      ]
    },
    {
      "cell_type": "markdown",
      "metadata": {
        "id": "i3Rzzhtfl7nK"
      },
      "source": [
        "Funcionamiento:\n",
        "\n",
        "Combina lo mejor de ambos mundos. Primero, se utilizan embeddings para convertir ítems y usuarios en representaciones vectoriales densas. Luego, estas representaciones se pasan a través de una red neuronal para hacer la predicción.\n",
        "\n",
        "El proceso generalmente comienza con capas de embedding que convierten identificadores de usuarios e ítems en vectores. Estos vectores luego se pasan a través de capas densas para obtener la predicción final.\n",
        "\n",
        "Ventajas:\n",
        "\n",
        "Capacidad de capturar patrones subyacentes en los datos mediante embeddings y modelar interacciones no lineales mediante la red neuronal.\n",
        "\n",
        "Flexibilidad para incorporar características adicionales.\n",
        "\n",
        "Potencialmente más preciso que cualquiera de los otros dos métodos por separado.\n",
        "\n",
        "Desventajas:\n",
        "\n",
        "Mayor complejidad en el modelado y entrenamiento.\n",
        "\n",
        "Mayor costo computacional.\n",
        "\n",
        "Requiere un ajuste más cuidadoso y riesgo de sobreajuste si no se gestiona adecuadamente."
      ]
    },
    {
      "cell_type": "markdown",
      "metadata": {
        "id": "uY_n_5u4ymE8"
      },
      "source": [
        "Regularización L2: Agregar una regularización L2 a las capas de embedding y densas para prevenir el sobreajuste.\n",
        "\n",
        "Early Stopping: Añadir una callback de early stopping para detener el entrenamiento cuando no haya mejora en el conjunto de validación durante un cierto número de épocas.\n",
        "\n",
        "Ajuste de la tasa de aprendizaje: Utilizar la callback ReduceLROnPlateau para reducir la tasa de aprendizaje cuando no haya mejora en el conjunto de validación.\n",
        "\n",
        "Métricas adicionales: Puedes monitorizar otras métricas como el error absoluto medio (MAE) durante el entrenamiento."
      ]
    },
    {
      "cell_type": "code",
      "execution_count": 20,
      "metadata": {
        "id": "zVRB5utBuqzB"
      },
      "outputs": [],
      "source": [
        "# Suponiendo que el DataFrame se llama df\n",
        "df = df\n",
        "\n",
        "# Convertir reviewerID y asin a índices numéricos secuenciales\n",
        "df['user_id'] = df['reviewerID'].astype('category').cat.codes.values\n",
        "df['item_id'] = df['asin'].astype('category').cat.codes.values\n",
        "\n",
        "# Número de usuarios e ítems\n",
        "n_users = df['user_id'].nunique()\n",
        "n_items = df['item_id'].nunique()\n",
        "\n",
        "# Hiperparámetros\n",
        "n_latent_factors = 50\n",
        "hidden_units = [128, 64]\n",
        "dropout_rate = 0.2\n",
        "l2_reg = 1e-4\n",
        "\n",
        "# Arquitectura del modelo con regularización L2\n",
        "user_embedding = Embedding(n_users, n_latent_factors, embeddings_regularizer=l2(l2_reg), name='user_embedding')(user_input)\n",
        "item_embedding = Embedding(n_items, n_latent_factors, embeddings_regularizer=l2(l2_reg), name='item_embedding')(item_input)\n",
        "\n",
        "user_vec = Flatten(name='flatten_users')(user_embedding)\n",
        "item_vec = Flatten(name='flatten_items')(item_embedding)\n",
        "concat = Concatenate()([user_vec, item_vec])\n",
        "dense = concat\n",
        "for units in hidden_units:\n",
        "    dense = Dense(units, activation='relu', kernel_regularizer=l2(l2_reg))(dense)\n",
        "    dense = Dropout(dropout_rate)(dense)\n",
        "output = Dense(1, kernel_regularizer=l2(l2_reg))(dense)\n",
        "model = Model(inputs=[user_input, item_input], outputs=output)\n",
        "\n",
        "model.compile(optimizer=Adam(0.001), loss='mean_squared_error', metrics=['mae'])"
      ]
    },
    {
      "cell_type": "code",
      "execution_count": 21,
      "metadata": {
        "id": "3I7zFMJBjTZ7"
      },
      "outputs": [],
      "source": [
        "# Callbacks\n",
        "early_stop = EarlyStopping(monitor='val_loss', patience=50, restore_best_weights=True)\n",
        "reduce_lr = ReduceLROnPlateau(monitor='val_loss', factor=0.2, patience=50, min_lr=1e-5)"
      ]
    },
    {
      "cell_type": "code",
      "execution_count": 22,
      "metadata": {
        "id": "XJfWiirYxHwk"
      },
      "outputs": [],
      "source": [
        "# Entrenamiento\n",
        "user_data = df['user_id'].values\n",
        "item_data = df['item_id'].values\n",
        "rating_data = df['overall'].values\n",
        "\n",
        "# Usando validation_split, divide los datos\n",
        "train_size = int(0.7 * len(user_data))\n",
        "user_data_train, user_data_val = user_data[:train_size], user_data[train_size:]\n",
        "item_data_train, item_data_val = item_data[:train_size], item_data[train_size:]\n",
        "y_true = rating_data[train_size:]"
      ]
    },
    {
      "cell_type": "code",
      "source": [
        "%%time\n",
        "history = model.fit([user_data_train, item_data_train], rating_data[:train_size],\n",
        "                    epochs=500,validation_data=([user_data_val, item_data_val], y_true),\n",
        "                    batch_size=400000,verbose=1,callbacks=[early_stop, reduce_lr])"
      ],
      "metadata": {
        "id": "oXQNam6Bf-dT",
        "colab": {
          "base_uri": "https://localhost:8080/"
        },
        "outputId": "1414e8ca-a471-431b-bce7-b69e708023d1"
      },
      "execution_count": 23,
      "outputs": [
        {
          "output_type": "stream",
          "name": "stdout",
          "text": [
            "Epoch 1/500\n",
            "9/9 [==============================] - 3s 197ms/step - loss: 24.9541 - mae: 4.2223 - val_loss: 22.5687 - val_mae: 4.1067 - lr: 0.0010\n",
            "Epoch 2/500\n",
            "9/9 [==============================] - 1s 130ms/step - loss: 21.2217 - mae: 4.0396 - val_loss: 19.4152 - val_mae: 3.9399 - lr: 0.0010\n",
            "Epoch 3/500\n",
            "9/9 [==============================] - 1s 130ms/step - loss: 17.0564 - mae: 3.6941 - val_loss: 16.1388 - val_mae: 3.6507 - lr: 0.0010\n",
            "Epoch 4/500\n",
            "9/9 [==============================] - 1s 131ms/step - loss: 11.1348 - mae: 2.9473 - val_loss: 12.1621 - val_mae: 3.1483 - lr: 0.0010\n",
            "Epoch 5/500\n",
            "9/9 [==============================] - 1s 128ms/step - loss: 4.4625 - mae: 1.6637 - val_loss: 8.0304 - val_mae: 2.5017 - lr: 0.0010\n",
            "Epoch 6/500\n",
            "9/9 [==============================] - 1s 128ms/step - loss: 3.0439 - mae: 1.1375 - val_loss: 7.0211 - val_mae: 2.3354 - lr: 0.0010\n",
            "Epoch 7/500\n",
            "9/9 [==============================] - 1s 89ms/step - loss: 2.2093 - mae: 0.9545 - val_loss: 7.9077 - val_mae: 2.5237 - lr: 0.0010\n",
            "Epoch 8/500\n",
            "9/9 [==============================] - 1s 88ms/step - loss: 2.0200 - mae: 0.9966 - val_loss: 7.6228 - val_mae: 2.4744 - lr: 0.0010\n",
            "Epoch 9/500\n",
            "9/9 [==============================] - 1s 128ms/step - loss: 1.8012 - mae: 0.8770 - val_loss: 6.8223 - val_mae: 2.3210 - lr: 0.0010\n",
            "Epoch 10/500\n",
            "9/9 [==============================] - 1s 129ms/step - loss: 1.6982 - mae: 0.8160 - val_loss: 6.6943 - val_mae: 2.3007 - lr: 0.0010\n",
            "Epoch 11/500\n",
            "9/9 [==============================] - 1s 128ms/step - loss: 1.6002 - mae: 0.8100 - val_loss: 6.6926 - val_mae: 2.3049 - lr: 0.0010\n",
            "Epoch 12/500\n",
            "9/9 [==============================] - 1s 129ms/step - loss: 1.5369 - mae: 0.8007 - val_loss: 6.3352 - val_mae: 2.2340 - lr: 0.0010\n",
            "Epoch 13/500\n",
            "9/9 [==============================] - 1s 128ms/step - loss: 1.4796 - mae: 0.7788 - val_loss: 6.0931 - val_mae: 2.1866 - lr: 0.0010\n",
            "Epoch 14/500\n",
            "9/9 [==============================] - 1s 129ms/step - loss: 1.4357 - mae: 0.7738 - val_loss: 5.9536 - val_mae: 2.1610 - lr: 0.0010\n",
            "Epoch 15/500\n",
            "9/9 [==============================] - 1s 128ms/step - loss: 1.4013 - mae: 0.7708 - val_loss: 5.7040 - val_mae: 2.1108 - lr: 0.0010\n",
            "Epoch 16/500\n",
            "9/9 [==============================] - 1s 129ms/step - loss: 1.3696 - mae: 0.7654 - val_loss: 5.4897 - val_mae: 2.0680 - lr: 0.0010\n",
            "Epoch 17/500\n",
            "9/9 [==============================] - 1s 130ms/step - loss: 1.3439 - mae: 0.7645 - val_loss: 5.3038 - val_mae: 2.0310 - lr: 0.0010\n",
            "Epoch 18/500\n",
            "9/9 [==============================] - 1s 127ms/step - loss: 1.3215 - mae: 0.7634 - val_loss: 5.0947 - val_mae: 1.9874 - lr: 0.0010\n",
            "Epoch 19/500\n",
            "9/9 [==============================] - 1s 128ms/step - loss: 1.3007 - mae: 0.7618 - val_loss: 4.9071 - val_mae: 1.9477 - lr: 0.0010\n",
            "Epoch 20/500\n",
            "9/9 [==============================] - 1s 128ms/step - loss: 1.2830 - mae: 0.7608 - val_loss: 4.7277 - val_mae: 1.9092 - lr: 0.0010\n",
            "Epoch 21/500\n",
            "9/9 [==============================] - 1s 127ms/step - loss: 1.2658 - mae: 0.7596 - val_loss: 4.5473 - val_mae: 1.8692 - lr: 0.0010\n",
            "Epoch 22/500\n",
            "9/9 [==============================] - 1s 127ms/step - loss: 1.2510 - mae: 0.7584 - val_loss: 4.3844 - val_mae: 1.8326 - lr: 0.0010\n",
            "Epoch 23/500\n",
            "9/9 [==============================] - 1s 127ms/step - loss: 1.2359 - mae: 0.7570 - val_loss: 4.2253 - val_mae: 1.7959 - lr: 0.0010\n",
            "Epoch 24/500\n",
            "9/9 [==============================] - 1s 128ms/step - loss: 1.2219 - mae: 0.7553 - val_loss: 4.0710 - val_mae: 1.7595 - lr: 0.0010\n",
            "Epoch 25/500\n",
            "9/9 [==============================] - 1s 126ms/step - loss: 1.2112 - mae: 0.7547 - val_loss: 3.9245 - val_mae: 1.7239 - lr: 0.0010\n",
            "Epoch 26/500\n",
            "9/9 [==============================] - 1s 127ms/step - loss: 1.1996 - mae: 0.7531 - val_loss: 3.7875 - val_mae: 1.6900 - lr: 0.0010\n",
            "Epoch 27/500\n",
            "9/9 [==============================] - 1s 129ms/step - loss: 1.1891 - mae: 0.7519 - val_loss: 3.6581 - val_mae: 1.6576 - lr: 0.0010\n",
            "Epoch 28/500\n",
            "9/9 [==============================] - 1s 128ms/step - loss: 1.1803 - mae: 0.7513 - val_loss: 3.5312 - val_mae: 1.6250 - lr: 0.0010\n",
            "Epoch 29/500\n",
            "9/9 [==============================] - 1s 129ms/step - loss: 1.1701 - mae: 0.7497 - val_loss: 3.4115 - val_mae: 1.5934 - lr: 0.0010\n",
            "Epoch 30/500\n",
            "9/9 [==============================] - 1s 130ms/step - loss: 1.1619 - mae: 0.7485 - val_loss: 3.2961 - val_mae: 1.5621 - lr: 0.0010\n",
            "Epoch 31/500\n",
            "9/9 [==============================] - 1s 128ms/step - loss: 1.1539 - mae: 0.7474 - val_loss: 3.1889 - val_mae: 1.5320 - lr: 0.0010\n",
            "Epoch 32/500\n",
            "9/9 [==============================] - 1s 129ms/step - loss: 1.1466 - mae: 0.7464 - val_loss: 3.0850 - val_mae: 1.5023 - lr: 0.0010\n",
            "Epoch 33/500\n",
            "9/9 [==============================] - 1s 128ms/step - loss: 1.1395 - mae: 0.7452 - val_loss: 2.9886 - val_mae: 1.4746 - lr: 0.0010\n",
            "Epoch 34/500\n",
            "9/9 [==============================] - 1s 128ms/step - loss: 1.1324 - mae: 0.7440 - val_loss: 2.8945 - val_mae: 1.4473 - lr: 0.0010\n",
            "Epoch 35/500\n",
            "9/9 [==============================] - 1s 130ms/step - loss: 1.1258 - mae: 0.7425 - val_loss: 2.8071 - val_mae: 1.4214 - lr: 0.0010\n",
            "Epoch 36/500\n",
            "9/9 [==============================] - 1s 127ms/step - loss: 1.1200 - mae: 0.7415 - val_loss: 2.7267 - val_mae: 1.3972 - lr: 0.0010\n",
            "Epoch 37/500\n",
            "9/9 [==============================] - 1s 128ms/step - loss: 1.1146 - mae: 0.7405 - val_loss: 2.6495 - val_mae: 1.3732 - lr: 0.0010\n",
            "Epoch 38/500\n",
            "9/9 [==============================] - 1s 128ms/step - loss: 1.1089 - mae: 0.7397 - val_loss: 2.5784 - val_mae: 1.3504 - lr: 0.0010\n",
            "Epoch 39/500\n",
            "9/9 [==============================] - 1s 128ms/step - loss: 1.1053 - mae: 0.7393 - val_loss: 2.5068 - val_mae: 1.3270 - lr: 0.0010\n",
            "Epoch 40/500\n",
            "9/9 [==============================] - 1s 129ms/step - loss: 1.0997 - mae: 0.7378 - val_loss: 2.4462 - val_mae: 1.3072 - lr: 0.0010\n",
            "Epoch 41/500\n",
            "9/9 [==============================] - 1s 128ms/step - loss: 1.0952 - mae: 0.7370 - val_loss: 2.3833 - val_mae: 1.2856 - lr: 0.0010\n",
            "Epoch 42/500\n",
            "9/9 [==============================] - 1s 128ms/step - loss: 1.0901 - mae: 0.7356 - val_loss: 2.3303 - val_mae: 1.2668 - lr: 0.0010\n",
            "Epoch 43/500\n",
            "9/9 [==============================] - 1s 127ms/step - loss: 1.0862 - mae: 0.7352 - val_loss: 2.2776 - val_mae: 1.2477 - lr: 0.0010\n",
            "Epoch 44/500\n",
            "9/9 [==============================] - 1s 127ms/step - loss: 1.0829 - mae: 0.7344 - val_loss: 2.2279 - val_mae: 1.2291 - lr: 0.0010\n",
            "Epoch 45/500\n",
            "9/9 [==============================] - 1s 127ms/step - loss: 1.0802 - mae: 0.7340 - val_loss: 2.1832 - val_mae: 1.2120 - lr: 0.0010\n",
            "Epoch 46/500\n",
            "9/9 [==============================] - 1s 128ms/step - loss: 1.0761 - mae: 0.7329 - val_loss: 2.1402 - val_mae: 1.1953 - lr: 0.0010\n",
            "Epoch 47/500\n",
            "9/9 [==============================] - 1s 128ms/step - loss: 1.0725 - mae: 0.7320 - val_loss: 2.0986 - val_mae: 1.1789 - lr: 0.0010\n",
            "Epoch 48/500\n",
            "9/9 [==============================] - 1s 127ms/step - loss: 1.0683 - mae: 0.7312 - val_loss: 2.0631 - val_mae: 1.1642 - lr: 0.0010\n",
            "Epoch 49/500\n",
            "9/9 [==============================] - 1s 127ms/step - loss: 1.0654 - mae: 0.7305 - val_loss: 2.0329 - val_mae: 1.1510 - lr: 0.0010\n",
            "Epoch 50/500\n",
            "9/9 [==============================] - 1s 128ms/step - loss: 1.0624 - mae: 0.7300 - val_loss: 2.0009 - val_mae: 1.1365 - lr: 0.0010\n",
            "Epoch 51/500\n",
            "9/9 [==============================] - 1s 128ms/step - loss: 1.0590 - mae: 0.7289 - val_loss: 1.9714 - val_mae: 1.1234 - lr: 0.0010\n",
            "Epoch 52/500\n",
            "9/9 [==============================] - 1s 130ms/step - loss: 1.0565 - mae: 0.7284 - val_loss: 1.9452 - val_mae: 1.1112 - lr: 0.0010\n",
            "Epoch 53/500\n",
            "9/9 [==============================] - 1s 130ms/step - loss: 1.0536 - mae: 0.7276 - val_loss: 1.9226 - val_mae: 1.1003 - lr: 0.0010\n",
            "Epoch 54/500\n",
            "9/9 [==============================] - 1s 131ms/step - loss: 1.0511 - mae: 0.7271 - val_loss: 1.9018 - val_mae: 1.0902 - lr: 0.0010\n",
            "Epoch 55/500\n",
            "9/9 [==============================] - 1s 129ms/step - loss: 1.0466 - mae: 0.7257 - val_loss: 1.8782 - val_mae: 1.0787 - lr: 0.0010\n",
            "Epoch 56/500\n",
            "9/9 [==============================] - 1s 128ms/step - loss: 1.0434 - mae: 0.7248 - val_loss: 1.8587 - val_mae: 1.0689 - lr: 0.0010\n",
            "Epoch 57/500\n",
            "9/9 [==============================] - 1s 131ms/step - loss: 1.0396 - mae: 0.7237 - val_loss: 1.8409 - val_mae: 1.0590 - lr: 0.0010\n",
            "Epoch 58/500\n",
            "9/9 [==============================] - 1s 128ms/step - loss: 1.0377 - mae: 0.7234 - val_loss: 1.8260 - val_mae: 1.0506 - lr: 0.0010\n",
            "Epoch 59/500\n",
            "9/9 [==============================] - 1s 129ms/step - loss: 1.0348 - mae: 0.7226 - val_loss: 1.8094 - val_mae: 1.0408 - lr: 0.0010\n",
            "Epoch 60/500\n",
            "9/9 [==============================] - 1s 128ms/step - loss: 1.0315 - mae: 0.7213 - val_loss: 1.7972 - val_mae: 1.0344 - lr: 0.0010\n",
            "Epoch 61/500\n",
            "9/9 [==============================] - 1s 128ms/step - loss: 1.0289 - mae: 0.7212 - val_loss: 1.7821 - val_mae: 1.0250 - lr: 0.0010\n",
            "Epoch 62/500\n",
            "9/9 [==============================] - 1s 128ms/step - loss: 1.0248 - mae: 0.7197 - val_loss: 1.7706 - val_mae: 1.0183 - lr: 0.0010\n",
            "Epoch 63/500\n",
            "9/9 [==============================] - 1s 129ms/step - loss: 1.0198 - mae: 0.7181 - val_loss: 1.7591 - val_mae: 1.0107 - lr: 0.0010\n",
            "Epoch 64/500\n",
            "9/9 [==============================] - 1s 130ms/step - loss: 1.0160 - mae: 0.7166 - val_loss: 1.7491 - val_mae: 1.0041 - lr: 0.0010\n",
            "Epoch 65/500\n",
            "9/9 [==============================] - 1s 130ms/step - loss: 1.0116 - mae: 0.7152 - val_loss: 1.7380 - val_mae: 0.9968 - lr: 0.0010\n",
            "Epoch 66/500\n",
            "9/9 [==============================] - 1s 129ms/step - loss: 1.0072 - mae: 0.7136 - val_loss: 1.7268 - val_mae: 0.9892 - lr: 0.0010\n",
            "Epoch 67/500\n",
            "9/9 [==============================] - 1s 129ms/step - loss: 1.0015 - mae: 0.7118 - val_loss: 1.7162 - val_mae: 0.9819 - lr: 0.0010\n",
            "Epoch 68/500\n",
            "9/9 [==============================] - 1s 128ms/step - loss: 0.9967 - mae: 0.7101 - val_loss: 1.7077 - val_mae: 0.9754 - lr: 0.0010\n",
            "Epoch 69/500\n",
            "9/9 [==============================] - 1s 128ms/step - loss: 0.9908 - mae: 0.7085 - val_loss: 1.6999 - val_mae: 0.9689 - lr: 0.0010\n",
            "Epoch 70/500\n",
            "9/9 [==============================] - 1s 128ms/step - loss: 0.9865 - mae: 0.7072 - val_loss: 1.6955 - val_mae: 0.9643 - lr: 0.0010\n",
            "Epoch 71/500\n",
            "9/9 [==============================] - 1s 128ms/step - loss: 0.9820 - mae: 0.7056 - val_loss: 1.6892 - val_mae: 0.9581 - lr: 0.0010\n",
            "Epoch 72/500\n",
            "9/9 [==============================] - 1s 128ms/step - loss: 0.9771 - mae: 0.7037 - val_loss: 1.6806 - val_mae: 0.9529 - lr: 0.0010\n",
            "Epoch 73/500\n",
            "9/9 [==============================] - 1s 128ms/step - loss: 0.9707 - mae: 0.7018 - val_loss: 1.6726 - val_mae: 0.9472 - lr: 0.0010\n",
            "Epoch 74/500\n",
            "9/9 [==============================] - 1s 127ms/step - loss: 0.9634 - mae: 0.6990 - val_loss: 1.6674 - val_mae: 0.9426 - lr: 0.0010\n",
            "Epoch 75/500\n",
            "9/9 [==============================] - 1s 128ms/step - loss: 0.9564 - mae: 0.6964 - val_loss: 1.6635 - val_mae: 0.9395 - lr: 0.0010\n",
            "Epoch 76/500\n",
            "9/9 [==============================] - 1s 127ms/step - loss: 0.9519 - mae: 0.6951 - val_loss: 1.6587 - val_mae: 0.9351 - lr: 0.0010\n",
            "Epoch 77/500\n",
            "9/9 [==============================] - 1s 128ms/step - loss: 0.9482 - mae: 0.6940 - val_loss: 1.6534 - val_mae: 0.9331 - lr: 0.0010\n",
            "Epoch 78/500\n",
            "9/9 [==============================] - 1s 129ms/step - loss: 0.9426 - mae: 0.6923 - val_loss: 1.6486 - val_mae: 0.9309 - lr: 0.0010\n",
            "Epoch 79/500\n",
            "9/9 [==============================] - 1s 129ms/step - loss: 0.9376 - mae: 0.6907 - val_loss: 1.6465 - val_mae: 0.9285 - lr: 0.0010\n",
            "Epoch 80/500\n",
            "9/9 [==============================] - 1s 129ms/step - loss: 0.9322 - mae: 0.6886 - val_loss: 1.6452 - val_mae: 0.9271 - lr: 0.0010\n",
            "Epoch 81/500\n",
            "9/9 [==============================] - 1s 127ms/step - loss: 0.9279 - mae: 0.6872 - val_loss: 1.6441 - val_mae: 0.9244 - lr: 0.0010\n",
            "Epoch 82/500\n",
            "9/9 [==============================] - 1s 128ms/step - loss: 0.9236 - mae: 0.6856 - val_loss: 1.6423 - val_mae: 0.9232 - lr: 0.0010\n",
            "Epoch 83/500\n",
            "9/9 [==============================] - 1s 128ms/step - loss: 0.9187 - mae: 0.6837 - val_loss: 1.6394 - val_mae: 0.9226 - lr: 0.0010\n",
            "Epoch 84/500\n",
            "9/9 [==============================] - 1s 128ms/step - loss: 0.9149 - mae: 0.6829 - val_loss: 1.6358 - val_mae: 0.9194 - lr: 0.0010\n",
            "Epoch 85/500\n",
            "9/9 [==============================] - 1s 128ms/step - loss: 0.9095 - mae: 0.6810 - val_loss: 1.6351 - val_mae: 0.9182 - lr: 0.0010\n",
            "Epoch 86/500\n",
            "9/9 [==============================] - 1s 128ms/step - loss: 0.9058 - mae: 0.6796 - val_loss: 1.6350 - val_mae: 0.9185 - lr: 0.0010\n",
            "Epoch 87/500\n",
            "9/9 [==============================] - 1s 129ms/step - loss: 0.9022 - mae: 0.6784 - val_loss: 1.6339 - val_mae: 0.9156 - lr: 0.0010\n",
            "Epoch 88/500\n",
            "9/9 [==============================] - 1s 129ms/step - loss: 0.8995 - mae: 0.6774 - val_loss: 1.6332 - val_mae: 0.9158 - lr: 0.0010\n",
            "Epoch 89/500\n",
            "9/9 [==============================] - 1s 129ms/step - loss: 0.8957 - mae: 0.6763 - val_loss: 1.6311 - val_mae: 0.9143 - lr: 0.0010\n",
            "Epoch 90/500\n",
            "9/9 [==============================] - 1s 130ms/step - loss: 0.8912 - mae: 0.6747 - val_loss: 1.6288 - val_mae: 0.9122 - lr: 0.0010\n",
            "Epoch 91/500\n",
            "9/9 [==============================] - 1s 129ms/step - loss: 0.8871 - mae: 0.6733 - val_loss: 1.6278 - val_mae: 0.9112 - lr: 0.0010\n",
            "Epoch 92/500\n",
            "9/9 [==============================] - 1s 129ms/step - loss: 0.8839 - mae: 0.6721 - val_loss: 1.6268 - val_mae: 0.9106 - lr: 0.0010\n",
            "Epoch 93/500\n",
            "9/9 [==============================] - 1s 128ms/step - loss: 0.8812 - mae: 0.6709 - val_loss: 1.6259 - val_mae: 0.9094 - lr: 0.0010\n",
            "Epoch 94/500\n",
            "9/9 [==============================] - 1s 128ms/step - loss: 0.8778 - mae: 0.6698 - val_loss: 1.6249 - val_mae: 0.9083 - lr: 0.0010\n",
            "Epoch 95/500\n",
            "9/9 [==============================] - 1s 128ms/step - loss: 0.8753 - mae: 0.6689 - val_loss: 1.6234 - val_mae: 0.9066 - lr: 0.0010\n",
            "Epoch 96/500\n",
            "9/9 [==============================] - 1s 128ms/step - loss: 0.8736 - mae: 0.6684 - val_loss: 1.6227 - val_mae: 0.9059 - lr: 0.0010\n",
            "Epoch 97/500\n",
            "9/9 [==============================] - 1s 128ms/step - loss: 0.8696 - mae: 0.6668 - val_loss: 1.6220 - val_mae: 0.9060 - lr: 0.0010\n",
            "Epoch 98/500\n",
            "9/9 [==============================] - 1s 128ms/step - loss: 0.8674 - mae: 0.6658 - val_loss: 1.6209 - val_mae: 0.9053 - lr: 0.0010\n",
            "Epoch 99/500\n",
            "9/9 [==============================] - 1s 88ms/step - loss: 0.8651 - mae: 0.6654 - val_loss: 1.6218 - val_mae: 0.9049 - lr: 0.0010\n",
            "Epoch 100/500\n",
            "9/9 [==============================] - 1s 88ms/step - loss: 0.8627 - mae: 0.6642 - val_loss: 1.6219 - val_mae: 0.9043 - lr: 0.0010\n",
            "Epoch 101/500\n",
            "9/9 [==============================] - 1s 89ms/step - loss: 0.8605 - mae: 0.6633 - val_loss: 1.6215 - val_mae: 0.9040 - lr: 0.0010\n",
            "Epoch 102/500\n",
            "9/9 [==============================] - 1s 127ms/step - loss: 0.8574 - mae: 0.6621 - val_loss: 1.6208 - val_mae: 0.9037 - lr: 0.0010\n",
            "Epoch 103/500\n",
            "9/9 [==============================] - 1s 129ms/step - loss: 0.8557 - mae: 0.6615 - val_loss: 1.6201 - val_mae: 0.9024 - lr: 0.0010\n",
            "Epoch 104/500\n",
            "9/9 [==============================] - 1s 129ms/step - loss: 0.8540 - mae: 0.6609 - val_loss: 1.6195 - val_mae: 0.9020 - lr: 0.0010\n",
            "Epoch 105/500\n",
            "9/9 [==============================] - 1s 128ms/step - loss: 0.8525 - mae: 0.6603 - val_loss: 1.6195 - val_mae: 0.9006 - lr: 0.0010\n",
            "Epoch 106/500\n",
            "9/9 [==============================] - 1s 130ms/step - loss: 0.8504 - mae: 0.6593 - val_loss: 1.6192 - val_mae: 0.9008 - lr: 0.0010\n",
            "Epoch 107/500\n",
            "9/9 [==============================] - 1s 129ms/step - loss: 0.8493 - mae: 0.6589 - val_loss: 1.6173 - val_mae: 0.8996 - lr: 0.0010\n",
            "Epoch 108/500\n",
            "9/9 [==============================] - 1s 89ms/step - loss: 0.8471 - mae: 0.6580 - val_loss: 1.6178 - val_mae: 0.8995 - lr: 0.0010\n",
            "Epoch 109/500\n",
            "9/9 [==============================] - 1s 89ms/step - loss: 0.8451 - mae: 0.6573 - val_loss: 1.6176 - val_mae: 0.8981 - lr: 0.0010\n",
            "Epoch 110/500\n",
            "9/9 [==============================] - 1s 89ms/step - loss: 0.8427 - mae: 0.6560 - val_loss: 1.6177 - val_mae: 0.8978 - lr: 0.0010\n",
            "Epoch 111/500\n",
            "9/9 [==============================] - 1s 129ms/step - loss: 0.8406 - mae: 0.6550 - val_loss: 1.6165 - val_mae: 0.8974 - lr: 0.0010\n",
            "Epoch 112/500\n",
            "9/9 [==============================] - 1s 128ms/step - loss: 0.8384 - mae: 0.6539 - val_loss: 1.6155 - val_mae: 0.8964 - lr: 0.0010\n",
            "Epoch 113/500\n",
            "9/9 [==============================] - 1s 129ms/step - loss: 0.8361 - mae: 0.6528 - val_loss: 1.6146 - val_mae: 0.8953 - lr: 0.0010\n",
            "Epoch 114/500\n",
            "9/9 [==============================] - 1s 127ms/step - loss: 0.8326 - mae: 0.6510 - val_loss: 1.6139 - val_mae: 0.8940 - lr: 0.0010\n",
            "Epoch 115/500\n",
            "9/9 [==============================] - 1s 128ms/step - loss: 0.8300 - mae: 0.6497 - val_loss: 1.6132 - val_mae: 0.8932 - lr: 0.0010\n",
            "Epoch 116/500\n",
            "9/9 [==============================] - 1s 130ms/step - loss: 0.8269 - mae: 0.6483 - val_loss: 1.6129 - val_mae: 0.8927 - lr: 0.0010\n",
            "Epoch 117/500\n",
            "9/9 [==============================] - 1s 89ms/step - loss: 0.8257 - mae: 0.6479 - val_loss: 1.6139 - val_mae: 0.8916 - lr: 0.0010\n",
            "Epoch 118/500\n",
            "9/9 [==============================] - 1s 89ms/step - loss: 0.8241 - mae: 0.6472 - val_loss: 1.6137 - val_mae: 0.8905 - lr: 0.0010\n",
            "Epoch 119/500\n",
            "9/9 [==============================] - 1s 129ms/step - loss: 0.8227 - mae: 0.6465 - val_loss: 1.6126 - val_mae: 0.8904 - lr: 0.0010\n",
            "Epoch 120/500\n",
            "9/9 [==============================] - 1s 128ms/step - loss: 0.8209 - mae: 0.6460 - val_loss: 1.6115 - val_mae: 0.8894 - lr: 0.0010\n",
            "Epoch 121/500\n",
            "9/9 [==============================] - 1s 129ms/step - loss: 0.8197 - mae: 0.6453 - val_loss: 1.6108 - val_mae: 0.8891 - lr: 0.0010\n",
            "Epoch 122/500\n",
            "9/9 [==============================] - 1s 88ms/step - loss: 0.8181 - mae: 0.6447 - val_loss: 1.6108 - val_mae: 0.8887 - lr: 0.0010\n",
            "Epoch 123/500\n",
            "9/9 [==============================] - 1s 89ms/step - loss: 0.8175 - mae: 0.6442 - val_loss: 1.6109 - val_mae: 0.8883 - lr: 0.0010\n",
            "Epoch 124/500\n",
            "9/9 [==============================] - 1s 128ms/step - loss: 0.8152 - mae: 0.6431 - val_loss: 1.6101 - val_mae: 0.8883 - lr: 0.0010\n",
            "Epoch 125/500\n",
            "9/9 [==============================] - 1s 129ms/step - loss: 0.8140 - mae: 0.6424 - val_loss: 1.6098 - val_mae: 0.8879 - lr: 0.0010\n",
            "Epoch 126/500\n",
            "9/9 [==============================] - 1s 89ms/step - loss: 0.8132 - mae: 0.6421 - val_loss: 1.6101 - val_mae: 0.8877 - lr: 0.0010\n",
            "Epoch 127/500\n",
            "9/9 [==============================] - 1s 88ms/step - loss: 0.8116 - mae: 0.6413 - val_loss: 1.6103 - val_mae: 0.8871 - lr: 0.0010\n",
            "Epoch 128/500\n",
            "9/9 [==============================] - 1s 89ms/step - loss: 0.8103 - mae: 0.6406 - val_loss: 1.6102 - val_mae: 0.8868 - lr: 0.0010\n",
            "Epoch 129/500\n",
            "9/9 [==============================] - 1s 89ms/step - loss: 0.8096 - mae: 0.6403 - val_loss: 1.6108 - val_mae: 0.8869 - lr: 0.0010\n",
            "Epoch 130/500\n",
            "9/9 [==============================] - 1s 88ms/step - loss: 0.8081 - mae: 0.6396 - val_loss: 1.6101 - val_mae: 0.8862 - lr: 0.0010\n",
            "Epoch 131/500\n",
            "9/9 [==============================] - 1s 130ms/step - loss: 0.8068 - mae: 0.6388 - val_loss: 1.6094 - val_mae: 0.8864 - lr: 0.0010\n",
            "Epoch 132/500\n",
            "9/9 [==============================] - 1s 129ms/step - loss: 0.8062 - mae: 0.6384 - val_loss: 1.6088 - val_mae: 0.8856 - lr: 0.0010\n",
            "Epoch 133/500\n",
            "9/9 [==============================] - 1s 89ms/step - loss: 0.8046 - mae: 0.6375 - val_loss: 1.6091 - val_mae: 0.8857 - lr: 0.0010\n",
            "Epoch 134/500\n",
            "9/9 [==============================] - 1s 129ms/step - loss: 0.8036 - mae: 0.6371 - val_loss: 1.6085 - val_mae: 0.8855 - lr: 0.0010\n",
            "Epoch 135/500\n",
            "9/9 [==============================] - 1s 88ms/step - loss: 0.8018 - mae: 0.6363 - val_loss: 1.6093 - val_mae: 0.8848 - lr: 0.0010\n",
            "Epoch 136/500\n",
            "9/9 [==============================] - 1s 89ms/step - loss: 0.8015 - mae: 0.6360 - val_loss: 1.6089 - val_mae: 0.8843 - lr: 0.0010\n",
            "Epoch 137/500\n",
            "9/9 [==============================] - 1s 128ms/step - loss: 0.8000 - mae: 0.6353 - val_loss: 1.6084 - val_mae: 0.8837 - lr: 0.0010\n",
            "Epoch 138/500\n",
            "9/9 [==============================] - 1s 129ms/step - loss: 0.7984 - mae: 0.6345 - val_loss: 1.6084 - val_mae: 0.8830 - lr: 0.0010\n",
            "Epoch 139/500\n",
            "9/9 [==============================] - 1s 129ms/step - loss: 0.7981 - mae: 0.6344 - val_loss: 1.6082 - val_mae: 0.8829 - lr: 0.0010\n",
            "Epoch 140/500\n",
            "9/9 [==============================] - 1s 89ms/step - loss: 0.7972 - mae: 0.6336 - val_loss: 1.6086 - val_mae: 0.8823 - lr: 0.0010\n",
            "Epoch 141/500\n",
            "9/9 [==============================] - 1s 128ms/step - loss: 0.7959 - mae: 0.6330 - val_loss: 1.6078 - val_mae: 0.8823 - lr: 0.0010\n",
            "Epoch 142/500\n",
            "9/9 [==============================] - 1s 129ms/step - loss: 0.7949 - mae: 0.6327 - val_loss: 1.6074 - val_mae: 0.8824 - lr: 0.0010\n",
            "Epoch 143/500\n",
            "9/9 [==============================] - 1s 129ms/step - loss: 0.7933 - mae: 0.6317 - val_loss: 1.6072 - val_mae: 0.8824 - lr: 0.0010\n",
            "Epoch 144/500\n",
            "9/9 [==============================] - 1s 89ms/step - loss: 0.7934 - mae: 0.6316 - val_loss: 1.6080 - val_mae: 0.8824 - lr: 0.0010\n",
            "Epoch 145/500\n",
            "9/9 [==============================] - 1s 90ms/step - loss: 0.7926 - mae: 0.6311 - val_loss: 1.6085 - val_mae: 0.8818 - lr: 0.0010\n",
            "Epoch 146/500\n",
            "9/9 [==============================] - 1s 89ms/step - loss: 0.7912 - mae: 0.6303 - val_loss: 1.6078 - val_mae: 0.8822 - lr: 0.0010\n",
            "Epoch 147/500\n",
            "9/9 [==============================] - 1s 88ms/step - loss: 0.7903 - mae: 0.6298 - val_loss: 1.6088 - val_mae: 0.8813 - lr: 0.0010\n",
            "Epoch 148/500\n",
            "9/9 [==============================] - 1s 89ms/step - loss: 0.7895 - mae: 0.6292 - val_loss: 1.6085 - val_mae: 0.8813 - lr: 0.0010\n",
            "Epoch 149/500\n",
            "9/9 [==============================] - 1s 89ms/step - loss: 0.7893 - mae: 0.6290 - val_loss: 1.6084 - val_mae: 0.8810 - lr: 0.0010\n",
            "Epoch 150/500\n",
            "9/9 [==============================] - 1s 89ms/step - loss: 0.7880 - mae: 0.6282 - val_loss: 1.6087 - val_mae: 0.8811 - lr: 0.0010\n",
            "Epoch 151/500\n",
            "9/9 [==============================] - 1s 89ms/step - loss: 0.7873 - mae: 0.6277 - val_loss: 1.6081 - val_mae: 0.8811 - lr: 0.0010\n",
            "Epoch 152/500\n",
            "9/9 [==============================] - 1s 130ms/step - loss: 0.7854 - mae: 0.6267 - val_loss: 1.6072 - val_mae: 0.8818 - lr: 0.0010\n",
            "Epoch 153/500\n",
            "9/9 [==============================] - 1s 89ms/step - loss: 0.7849 - mae: 0.6264 - val_loss: 1.6075 - val_mae: 0.8818 - lr: 0.0010\n",
            "Epoch 154/500\n",
            "9/9 [==============================] - 1s 89ms/step - loss: 0.7848 - mae: 0.6260 - val_loss: 1.6075 - val_mae: 0.8823 - lr: 0.0010\n",
            "Epoch 155/500\n",
            "9/9 [==============================] - 1s 89ms/step - loss: 0.7846 - mae: 0.6255 - val_loss: 1.6075 - val_mae: 0.8821 - lr: 0.0010\n",
            "Epoch 156/500\n",
            "9/9 [==============================] - 1s 89ms/step - loss: 0.7830 - mae: 0.6245 - val_loss: 1.6080 - val_mae: 0.8830 - lr: 0.0010\n",
            "Epoch 157/500\n",
            "9/9 [==============================] - 1s 129ms/step - loss: 0.7809 - mae: 0.6233 - val_loss: 1.6057 - val_mae: 0.8835 - lr: 0.0010\n",
            "Epoch 158/500\n",
            "9/9 [==============================] - 1s 89ms/step - loss: 0.7797 - mae: 0.6225 - val_loss: 1.6072 - val_mae: 0.8841 - lr: 0.0010\n",
            "Epoch 159/500\n",
            "9/9 [==============================] - 1s 88ms/step - loss: 0.7794 - mae: 0.6219 - val_loss: 1.6073 - val_mae: 0.8849 - lr: 0.0010\n",
            "Epoch 160/500\n",
            "9/9 [==============================] - 1s 88ms/step - loss: 0.7789 - mae: 0.6211 - val_loss: 1.6085 - val_mae: 0.8856 - lr: 0.0010\n",
            "Epoch 161/500\n",
            "9/9 [==============================] - 1s 88ms/step - loss: 0.7771 - mae: 0.6196 - val_loss: 1.6075 - val_mae: 0.8865 - lr: 0.0010\n",
            "Epoch 162/500\n",
            "9/9 [==============================] - 1s 88ms/step - loss: 0.7754 - mae: 0.6184 - val_loss: 1.6072 - val_mae: 0.8879 - lr: 0.0010\n",
            "Epoch 163/500\n",
            "9/9 [==============================] - 1s 89ms/step - loss: 0.7752 - mae: 0.6180 - val_loss: 1.6080 - val_mae: 0.8876 - lr: 0.0010\n",
            "Epoch 164/500\n",
            "9/9 [==============================] - 1s 88ms/step - loss: 0.7744 - mae: 0.6170 - val_loss: 1.6097 - val_mae: 0.8890 - lr: 0.0010\n",
            "Epoch 165/500\n",
            "9/9 [==============================] - 1s 89ms/step - loss: 0.7738 - mae: 0.6160 - val_loss: 1.6110 - val_mae: 0.8899 - lr: 0.0010\n",
            "Epoch 166/500\n",
            "9/9 [==============================] - 1s 88ms/step - loss: 0.7729 - mae: 0.6147 - val_loss: 1.6117 - val_mae: 0.8906 - lr: 0.0010\n",
            "Epoch 167/500\n",
            "9/9 [==============================] - 1s 89ms/step - loss: 0.7719 - mae: 0.6135 - val_loss: 1.6136 - val_mae: 0.8898 - lr: 0.0010\n",
            "Epoch 168/500\n",
            "9/9 [==============================] - 1s 89ms/step - loss: 0.7703 - mae: 0.6121 - val_loss: 1.6165 - val_mae: 0.8906 - lr: 0.0010\n",
            "Epoch 169/500\n",
            "9/9 [==============================] - 1s 88ms/step - loss: 0.7695 - mae: 0.6111 - val_loss: 1.6180 - val_mae: 0.8915 - lr: 0.0010\n",
            "Epoch 170/500\n",
            "9/9 [==============================] - 1s 89ms/step - loss: 0.7698 - mae: 0.6103 - val_loss: 1.6217 - val_mae: 0.8923 - lr: 0.0010\n",
            "Epoch 171/500\n",
            "9/9 [==============================] - 1s 88ms/step - loss: 0.7689 - mae: 0.6093 - val_loss: 1.6251 - val_mae: 0.8926 - lr: 0.0010\n",
            "Epoch 172/500\n",
            "9/9 [==============================] - 1s 88ms/step - loss: 0.7683 - mae: 0.6083 - val_loss: 1.6270 - val_mae: 0.8927 - lr: 0.0010\n",
            "Epoch 173/500\n",
            "9/9 [==============================] - 1s 89ms/step - loss: 0.7667 - mae: 0.6069 - val_loss: 1.6290 - val_mae: 0.8926 - lr: 0.0010\n",
            "Epoch 174/500\n",
            "9/9 [==============================] - 1s 89ms/step - loss: 0.7664 - mae: 0.6067 - val_loss: 1.6315 - val_mae: 0.8916 - lr: 0.0010\n",
            "Epoch 175/500\n",
            "9/9 [==============================] - 1s 89ms/step - loss: 0.7658 - mae: 0.6057 - val_loss: 1.6350 - val_mae: 0.8928 - lr: 0.0010\n",
            "Epoch 176/500\n",
            "9/9 [==============================] - 1s 89ms/step - loss: 0.7644 - mae: 0.6047 - val_loss: 1.6360 - val_mae: 0.8933 - lr: 0.0010\n",
            "Epoch 177/500\n",
            "9/9 [==============================] - 1s 89ms/step - loss: 0.7639 - mae: 0.6042 - val_loss: 1.6377 - val_mae: 0.8938 - lr: 0.0010\n",
            "Epoch 178/500\n",
            "9/9 [==============================] - 1s 89ms/step - loss: 0.7625 - mae: 0.6033 - val_loss: 1.6384 - val_mae: 0.8933 - lr: 0.0010\n",
            "Epoch 179/500\n",
            "9/9 [==============================] - 1s 89ms/step - loss: 0.7613 - mae: 0.6025 - val_loss: 1.6414 - val_mae: 0.8930 - lr: 0.0010\n",
            "Epoch 180/500\n",
            "9/9 [==============================] - 1s 89ms/step - loss: 0.7601 - mae: 0.6018 - val_loss: 1.6418 - val_mae: 0.8924 - lr: 0.0010\n",
            "Epoch 181/500\n",
            "9/9 [==============================] - 1s 90ms/step - loss: 0.7596 - mae: 0.6014 - val_loss: 1.6444 - val_mae: 0.8926 - lr: 0.0010\n",
            "Epoch 182/500\n",
            "9/9 [==============================] - 1s 90ms/step - loss: 0.7588 - mae: 0.6005 - val_loss: 1.6463 - val_mae: 0.8925 - lr: 0.0010\n",
            "Epoch 183/500\n",
            "9/9 [==============================] - 1s 90ms/step - loss: 0.7576 - mae: 0.5998 - val_loss: 1.6471 - val_mae: 0.8919 - lr: 0.0010\n",
            "Epoch 184/500\n",
            "9/9 [==============================] - 1s 90ms/step - loss: 0.7569 - mae: 0.5992 - val_loss: 1.6472 - val_mae: 0.8922 - lr: 0.0010\n",
            "Epoch 185/500\n",
            "9/9 [==============================] - 1s 89ms/step - loss: 0.7546 - mae: 0.5982 - val_loss: 1.6486 - val_mae: 0.8918 - lr: 0.0010\n",
            "Epoch 186/500\n",
            "9/9 [==============================] - 1s 89ms/step - loss: 0.7539 - mae: 0.5976 - val_loss: 1.6492 - val_mae: 0.8912 - lr: 0.0010\n",
            "Epoch 187/500\n",
            "9/9 [==============================] - 1s 89ms/step - loss: 0.7528 - mae: 0.5969 - val_loss: 1.6516 - val_mae: 0.8919 - lr: 0.0010\n",
            "Epoch 188/500\n",
            "9/9 [==============================] - 1s 89ms/step - loss: 0.7527 - mae: 0.5968 - val_loss: 1.6513 - val_mae: 0.8916 - lr: 0.0010\n",
            "Epoch 189/500\n",
            "9/9 [==============================] - 1s 90ms/step - loss: 0.7511 - mae: 0.5957 - val_loss: 1.6528 - val_mae: 0.8921 - lr: 0.0010\n",
            "Epoch 190/500\n",
            "9/9 [==============================] - 1s 89ms/step - loss: 0.7498 - mae: 0.5951 - val_loss: 1.6539 - val_mae: 0.8927 - lr: 0.0010\n",
            "Epoch 191/500\n",
            "9/9 [==============================] - 1s 89ms/step - loss: 0.7492 - mae: 0.5947 - val_loss: 1.6555 - val_mae: 0.8922 - lr: 0.0010\n",
            "Epoch 192/500\n",
            "9/9 [==============================] - 1s 90ms/step - loss: 0.7479 - mae: 0.5939 - val_loss: 1.6570 - val_mae: 0.8921 - lr: 0.0010\n",
            "Epoch 193/500\n",
            "9/9 [==============================] - 1s 89ms/step - loss: 0.7476 - mae: 0.5938 - val_loss: 1.6578 - val_mae: 0.8913 - lr: 0.0010\n",
            "Epoch 194/500\n",
            "9/9 [==============================] - 1s 89ms/step - loss: 0.7467 - mae: 0.5931 - val_loss: 1.6586 - val_mae: 0.8911 - lr: 0.0010\n",
            "Epoch 195/500\n",
            "9/9 [==============================] - 1s 89ms/step - loss: 0.7456 - mae: 0.5925 - val_loss: 1.6600 - val_mae: 0.8907 - lr: 0.0010\n",
            "Epoch 196/500\n",
            "9/9 [==============================] - 1s 89ms/step - loss: 0.7447 - mae: 0.5920 - val_loss: 1.6610 - val_mae: 0.8903 - lr: 0.0010\n",
            "Epoch 197/500\n",
            "9/9 [==============================] - 1s 89ms/step - loss: 0.7434 - mae: 0.5915 - val_loss: 1.6611 - val_mae: 0.8901 - lr: 0.0010\n",
            "Epoch 198/500\n",
            "9/9 [==============================] - 1s 90ms/step - loss: 0.7424 - mae: 0.5908 - val_loss: 1.6631 - val_mae: 0.8895 - lr: 0.0010\n",
            "Epoch 199/500\n",
            "9/9 [==============================] - 1s 89ms/step - loss: 0.7428 - mae: 0.5908 - val_loss: 1.6638 - val_mae: 0.8901 - lr: 0.0010\n",
            "Epoch 200/500\n",
            "9/9 [==============================] - 1s 90ms/step - loss: 0.7419 - mae: 0.5904 - val_loss: 1.6647 - val_mae: 0.8905 - lr: 0.0010\n",
            "Epoch 201/500\n",
            "9/9 [==============================] - 1s 89ms/step - loss: 0.7411 - mae: 0.5901 - val_loss: 1.6648 - val_mae: 0.8904 - lr: 0.0010\n",
            "Epoch 202/500\n",
            "9/9 [==============================] - 1s 89ms/step - loss: 0.7396 - mae: 0.5894 - val_loss: 1.6673 - val_mae: 0.8893 - lr: 0.0010\n",
            "Epoch 203/500\n",
            "9/9 [==============================] - 1s 89ms/step - loss: 0.7389 - mae: 0.5888 - val_loss: 1.6692 - val_mae: 0.8897 - lr: 0.0010\n",
            "Epoch 204/500\n",
            "9/9 [==============================] - 1s 89ms/step - loss: 0.7399 - mae: 0.5893 - val_loss: 1.6687 - val_mae: 0.8882 - lr: 0.0010\n",
            "Epoch 205/500\n",
            "9/9 [==============================] - 1s 89ms/step - loss: 0.7390 - mae: 0.5887 - val_loss: 1.6703 - val_mae: 0.8899 - lr: 0.0010\n",
            "Epoch 206/500\n",
            "9/9 [==============================] - 1s 89ms/step - loss: 0.7379 - mae: 0.5883 - val_loss: 1.6707 - val_mae: 0.8886 - lr: 0.0010\n",
            "Epoch 207/500\n",
            "9/9 [==============================] - 1s 135ms/step - loss: 0.7366 - mae: 0.5877 - val_loss: 1.6712 - val_mae: 0.8880 - lr: 0.0010\n",
            "CPU times: user 3min 52s, sys: 30.7 s, total: 4min 22s\n",
            "Wall time: 3min 26s\n"
          ]
        }
      ]
    },
    {
      "cell_type": "code",
      "source": [
        "# Predicciones\n",
        "predictions = model.predict([user_data_val, item_data_val])"
      ],
      "metadata": {
        "id": "2Off5YI9f-_T",
        "colab": {
          "base_uri": "https://localhost:8080/"
        },
        "outputId": "b87ff819-51c7-47ba-ea96-cd5333328059"
      },
      "execution_count": 24,
      "outputs": [
        {
          "output_type": "stream",
          "name": "stdout",
          "text": [
            "43518/43518 [==============================] - 67s 2ms/step\n"
          ]
        }
      ]
    },
    {
      "cell_type": "code",
      "execution_count": 25,
      "metadata": {
        "id": "w1BY-Sd0xJtc",
        "colab": {
          "base_uri": "https://localhost:8080/"
        },
        "outputId": "4d0fd766-fabb-4ae1-c192-972e17fafd54"
      },
      "outputs": [
        {
          "output_type": "stream",
          "name": "stdout",
          "text": [
            "MSE: 1.5163124865421147\n",
            "RMSE: 1.2313864082984327\n",
            "MAE: 0.8834838626685497\n",
            "MAPE: 40.96157995616362%\n"
          ]
        }
      ],
      "source": [
        "# MSE y RMSE\n",
        "mse = mean_squared_error(y_true, predictions)\n",
        "rmse = np.sqrt(mse)\n",
        "\n",
        "# MAE\n",
        "mae = mean_absolute_error(y_true, predictions)\n",
        "\n",
        "# MAPE\n",
        "def mean_absolute_percentage_error(y_true, y_pred):\n",
        "    y_true, y_pred = np.array(y_true), np.array(y_pred)\n",
        "    non_zero_idx = y_true != 0  # Para evitar divisiones por cero\n",
        "    return np.mean(np.abs((y_true[non_zero_idx] - y_pred[non_zero_idx]) / y_true[non_zero_idx])) * 100\n",
        "\n",
        "def compute_mape_by_batch(y_true, predictions, batch_size=50000):\n",
        "    mape_sum = 0\n",
        "    num_batches = int(np.ceil(len(y_true) / batch_size))\n",
        "\n",
        "    for i in range(num_batches):\n",
        "        start_idx = i * batch_size\n",
        "        end_idx = start_idx + batch_size\n",
        "\n",
        "        batch_y_true = y_true[start_idx:end_idx]\n",
        "        batch_predictions = predictions[start_idx:end_idx]\n",
        "\n",
        "        mape_sum += mean_absolute_percentage_error(batch_y_true, batch_predictions)\n",
        "\n",
        "    return mape_sum / num_batches\n",
        "\n",
        "# Luego llamas a la función\n",
        "mape = compute_mape_by_batch(y_true, predictions)\n",
        "\n",
        "print(f'MSE: {mse}')\n",
        "print(f'RMSE: {rmse}')\n",
        "print(f'MAE: {mae}')\n",
        "print(f'MAPE: {mape}%')"
      ]
    },
    {
      "cell_type": "markdown",
      "metadata": {
        "id": "YopA3D2Sw8AO"
      },
      "source": [
        "Estas métricas te ayudarán a tener una mejor idea del desempeño de tu modelo. Por ejemplo:\n",
        "\n",
        "MSE y RMSE son útiles cuando quieres penalizar grandes errores.\n",
        "\n",
        "MAE te da una idea del error medio sin considerar la dirección del error.\n",
        "\n",
        "MAPE es útil cuando quieres representar el error en términos porcentuales.\n",
        "\n",
        "Para una evaluación completa, es recomendable utilizar un conjunto de validación aparte (es decir, no solo depender del validation_split). Esto asegura que estás evaluando el desempeño en datos que el modelo nunca ha visto durante el entrenamiento."
      ]
    },
    {
      "cell_type": "markdown",
      "metadata": {
        "id": "_dgWsjHFlB67"
      },
      "source": [
        "En resumen, la elección del tipo de sistema de recomendación dependerá de la naturaleza del conjunto de datos, las características disponibles, las capacidades computacionales y el tipo de relaciones o interacciones que se desean capturar. A menudo, un enfoque híbrido (como el sistema que combina embeddings y redes neuronales) ofrece un buen equilibrio entre precisión y eficiencia."
      ]
    }
  ],
  "metadata": {
    "accelerator": "GPU",
    "colab": {
      "machine_shape": "hm",
      "provenance": []
    },
    "kernelspec": {
      "display_name": "Python 3",
      "name": "python3"
    },
    "language_info": {
      "name": "python"
    }
  },
  "nbformat": 4,
  "nbformat_minor": 0
}