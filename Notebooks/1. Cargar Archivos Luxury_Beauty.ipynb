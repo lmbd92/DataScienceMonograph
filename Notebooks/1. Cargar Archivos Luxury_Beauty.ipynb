{
 "cells": [
  {
   "cell_type": "markdown",
   "metadata": {
    "id": "Fgpm6z5oMB0_"
   },
   "source": [
    "reviewerID - ID of the reviewer, e.g. A2SUAM1J3GNN3B\n",
    "\n",
    "asin - ID of the product, e.g. 0000013714\n",
    "\n",
    "reviewerName - name of the reviewer\n",
    "\n",
    "vote - helpful votes of the review\n",
    "\n",
    "style - a disctionary of the product metadata, e.g., \"Format\" is \"Hardcover\"\n",
    "\n",
    "reviewText - text of the review\n",
    "\n",
    "overall - rating of the product\n",
    "\n",
    "summary - summary of the review\n",
    "\n",
    "unixReviewTime - time of the review (unix time)\n",
    "\n",
    "reviewTime - time of the review (raw)\n",
    "\n",
    "image - images that users post after they have received the product"
   ]
  },
  {
   "cell_type": "code",
   "execution_count": 1,
   "metadata": {
    "id": "ZGwBeCRHBGW0"
   },
   "outputs": [],
   "source": [
    "import pandas as pd\n",
    "import io\n",
    "import json\n",
    "import gzip\n",
    "import numpy as np\n",
    "import matplotlib.pyplot as plt\n",
    "import seaborn as sns\n",
    "# Configurar pandas para mostrar todas las columnas\n",
    "pd.set_option('display.max_columns', None)\n"
   ]
  },
  {
   "cell_type": "code",
   "execution_count": 2,
   "metadata": {
    "colab": {
     "base_uri": "https://localhost:8080/"
    },
    "id": "WDwAdn2OQkBl",
    "outputId": "896fe33e-4a03-4f9d-b14f-89e8e8a2dda7"
   },
   "outputs": [
    {
     "name": "stdout",
     "output_type": "stream",
     "text": [
      "Requirement already satisfied: pandas in c:\\users\\usuario\\anaconda3\\lib\\site-packages (1.5.3)\n",
      "Requirement already satisfied: openpyxl in c:\\users\\usuario\\anaconda3\\lib\\site-packages (3.0.10)\n",
      "Requirement already satisfied: pytz>=2020.1 in c:\\users\\usuario\\anaconda3\\lib\\site-packages (from pandas) (2022.7)\n",
      "Requirement already satisfied: python-dateutil>=2.8.1 in c:\\users\\usuario\\anaconda3\\lib\\site-packages (from pandas) (2.8.2)\n",
      "Requirement already satisfied: numpy>=1.21.0 in c:\\users\\usuario\\anaconda3\\lib\\site-packages (from pandas) (1.23.5)\n",
      "Requirement already satisfied: et_xmlfile in c:\\users\\usuario\\anaconda3\\lib\\site-packages (from openpyxl) (1.1.0)\n",
      "Requirement already satisfied: six>=1.5 in c:\\users\\usuario\\anaconda3\\lib\\site-packages (from python-dateutil>=2.8.1->pandas) (1.16.0)\n",
      "Note: you may need to restart the kernel to use updated packages.\n"
     ]
    }
   ],
   "source": [
    "pip install pandas openpyxl"
   ]
  },
  {
   "cell_type": "code",
   "execution_count": 3,
   "metadata": {
    "colab": {
     "base_uri": "https://localhost:8080/"
    },
    "id": "MmIo3t7kEq7e",
    "outputId": "94c7fce6-550c-4df9-bd6b-27b40c80dc44"
   },
   "outputs": [
    {
     "name": "stdout",
     "output_type": "stream",
     "text": [
      "574628\n",
      "{'overall': 2.0, 'vote': '3', 'verified': True, 'reviewTime': '06 15, 2010', 'reviewerID': 'A1Q6MUU0B2ZDQG', 'asin': 'B00004U9V2', 'reviewerName': 'D. Poston', 'reviewText': \"I bought two of these 8.5 fl oz hand cream, and neither of the dispensers work.  The hand cream is wonderful, but very thick, so I don't see I can get much out by shaking it out, since the dispensers seem to be non-operable.\", 'summary': \"dispensers don't work\", 'unixReviewTime': 1276560000}\n"
     ]
    }
   ],
   "source": [
    "### load the meta data\n",
    "\n",
    "data = []\n",
    "with gzip.open('Luxury_Beauty.json.gz') as f:\n",
    "    for l in f:\n",
    "        data.append(json.loads(l.strip()))\n",
    "\n",
    "# total length of list, this number equals total number of products\n",
    "print(len(data))\n",
    "\n",
    "# first row of the list\n",
    "print(data[0])"
   ]
  },
  {
   "cell_type": "code",
   "execution_count": 4,
   "metadata": {
    "colab": {
     "base_uri": "https://localhost:8080/"
    },
    "id": "PJ57-DzrEFJW",
    "outputId": "7a4d3be4-2a10-449c-e218-559701f5f990"
   },
   "outputs": [
    {
     "name": "stdout",
     "output_type": "stream",
     "text": [
      "574628\n"
     ]
    }
   ],
   "source": [
    "# convert list into pandas dataframe\n",
    "\n",
    "df1 = pd.DataFrame.from_dict(data)\n",
    "\n",
    "print(len(df1))"
   ]
  },
  {
   "cell_type": "code",
   "execution_count": 5,
   "metadata": {
    "colab": {
     "base_uri": "https://localhost:8080/",
     "height": 241
    },
    "id": "BCA_wKkVBQSd",
    "outputId": "c07d31d7-805d-4ff0-bd52-a7550282dd11"
   },
   "outputs": [
    {
     "data": {
      "text/html": [
       "<div>\n",
       "<style scoped>\n",
       "    .dataframe tbody tr th:only-of-type {\n",
       "        vertical-align: middle;\n",
       "    }\n",
       "\n",
       "    .dataframe tbody tr th {\n",
       "        vertical-align: top;\n",
       "    }\n",
       "\n",
       "    .dataframe thead th {\n",
       "        text-align: right;\n",
       "    }\n",
       "</style>\n",
       "<table border=\"1\" class=\"dataframe\">\n",
       "  <thead>\n",
       "    <tr style=\"text-align: right;\">\n",
       "      <th></th>\n",
       "      <th>overall</th>\n",
       "      <th>vote</th>\n",
       "      <th>verified</th>\n",
       "      <th>reviewTime</th>\n",
       "      <th>reviewerID</th>\n",
       "      <th>asin</th>\n",
       "      <th>reviewerName</th>\n",
       "      <th>reviewText</th>\n",
       "      <th>summary</th>\n",
       "      <th>unixReviewTime</th>\n",
       "      <th>style</th>\n",
       "      <th>image</th>\n",
       "    </tr>\n",
       "  </thead>\n",
       "  <tbody>\n",
       "    <tr>\n",
       "      <th>0</th>\n",
       "      <td>2.0</td>\n",
       "      <td>3</td>\n",
       "      <td>True</td>\n",
       "      <td>06 15, 2010</td>\n",
       "      <td>A1Q6MUU0B2ZDQG</td>\n",
       "      <td>B00004U9V2</td>\n",
       "      <td>D. Poston</td>\n",
       "      <td>I bought two of these 8.5 fl oz hand cream, an...</td>\n",
       "      <td>dispensers don't work</td>\n",
       "      <td>1276560000</td>\n",
       "      <td>NaN</td>\n",
       "      <td>NaN</td>\n",
       "    </tr>\n",
       "    <tr>\n",
       "      <th>1</th>\n",
       "      <td>5.0</td>\n",
       "      <td>14</td>\n",
       "      <td>True</td>\n",
       "      <td>01 7, 2010</td>\n",
       "      <td>A3HO2SQDCZIE9S</td>\n",
       "      <td>B00004U9V2</td>\n",
       "      <td>chandra</td>\n",
       "      <td>Believe me, over the years I have tried many, ...</td>\n",
       "      <td>Best hand cream ever.</td>\n",
       "      <td>1262822400</td>\n",
       "      <td>NaN</td>\n",
       "      <td>NaN</td>\n",
       "    </tr>\n",
       "    <tr>\n",
       "      <th>2</th>\n",
       "      <td>5.0</td>\n",
       "      <td>NaN</td>\n",
       "      <td>True</td>\n",
       "      <td>04 18, 2018</td>\n",
       "      <td>A2EM03F99X3RJZ</td>\n",
       "      <td>B00004U9V2</td>\n",
       "      <td>Maureen G</td>\n",
       "      <td>Great hand lotion</td>\n",
       "      <td>Five Stars</td>\n",
       "      <td>1524009600</td>\n",
       "      <td>{'Size:': ' 3.5 oz.'}</td>\n",
       "      <td>NaN</td>\n",
       "    </tr>\n",
       "    <tr>\n",
       "      <th>3</th>\n",
       "      <td>5.0</td>\n",
       "      <td>NaN</td>\n",
       "      <td>True</td>\n",
       "      <td>04 18, 2018</td>\n",
       "      <td>A3Z74TDRGD0HU</td>\n",
       "      <td>B00004U9V2</td>\n",
       "      <td>Terry K</td>\n",
       "      <td>This is the best for the severely dry skin on ...</td>\n",
       "      <td>Five Stars</td>\n",
       "      <td>1524009600</td>\n",
       "      <td>{'Size:': ' 3.5 oz.'}</td>\n",
       "      <td>NaN</td>\n",
       "    </tr>\n",
       "    <tr>\n",
       "      <th>4</th>\n",
       "      <td>5.0</td>\n",
       "      <td>NaN</td>\n",
       "      <td>True</td>\n",
       "      <td>04 17, 2018</td>\n",
       "      <td>A2UXFNW9RTL4VM</td>\n",
       "      <td>B00004U9V2</td>\n",
       "      <td>Patricia Wood</td>\n",
       "      <td>The best non- oily hand cream ever. It heals o...</td>\n",
       "      <td>I always have a backup ready.</td>\n",
       "      <td>1523923200</td>\n",
       "      <td>{'Size:': ' 3.5 oz.'}</td>\n",
       "      <td>NaN</td>\n",
       "    </tr>\n",
       "  </tbody>\n",
       "</table>\n",
       "</div>"
      ],
      "text/plain": [
       "   overall vote  verified   reviewTime      reviewerID        asin  \\\n",
       "0      2.0    3      True  06 15, 2010  A1Q6MUU0B2ZDQG  B00004U9V2   \n",
       "1      5.0   14      True   01 7, 2010  A3HO2SQDCZIE9S  B00004U9V2   \n",
       "2      5.0  NaN      True  04 18, 2018  A2EM03F99X3RJZ  B00004U9V2   \n",
       "3      5.0  NaN      True  04 18, 2018   A3Z74TDRGD0HU  B00004U9V2   \n",
       "4      5.0  NaN      True  04 17, 2018  A2UXFNW9RTL4VM  B00004U9V2   \n",
       "\n",
       "    reviewerName                                         reviewText  \\\n",
       "0      D. Poston  I bought two of these 8.5 fl oz hand cream, an...   \n",
       "1        chandra  Believe me, over the years I have tried many, ...   \n",
       "2      Maureen G                                  Great hand lotion   \n",
       "3        Terry K  This is the best for the severely dry skin on ...   \n",
       "4  Patricia Wood  The best non- oily hand cream ever. It heals o...   \n",
       "\n",
       "                         summary  unixReviewTime                  style image  \n",
       "0          dispensers don't work      1276560000                    NaN   NaN  \n",
       "1          Best hand cream ever.      1262822400                    NaN   NaN  \n",
       "2                     Five Stars      1524009600  {'Size:': ' 3.5 oz.'}   NaN  \n",
       "3                     Five Stars      1524009600  {'Size:': ' 3.5 oz.'}   NaN  \n",
       "4  I always have a backup ready.      1523923200  {'Size:': ' 3.5 oz.'}   NaN  "
      ]
     },
     "execution_count": 5,
     "metadata": {},
     "output_type": "execute_result"
    }
   ],
   "source": [
    "df1.head(5)"
   ]
  },
  {
   "cell_type": "code",
   "execution_count": 6,
   "metadata": {
    "colab": {
     "base_uri": "https://localhost:8080/"
    },
    "id": "iCUg32wVBQVX",
    "outputId": "06bca6f8-8d87-4df9-c078-50d361f744de"
   },
   "outputs": [
    {
     "name": "stdout",
     "output_type": "stream",
     "text": [
      "12299\n",
      "{'category': [], 'tech1': '', 'description': ['After a long day of handling thorny situations, our new hand therapy pump is just the help you need. It contains shea butter as well as extracts of yarrow, clover and calendula to help soothe and condition work-roughened hands.', 'By Crabtree & Evelyn', 'The aromatic benefits of herbs are varied and far-reaching, so we combined a whole bunch of them into one restoratively fragrant line-up straight from the garden.', 'We&#039;ve formulated our Gardeners Hand Therapy with Myrrh Extract to help condition nails and cuticles as well as skin super hydrators macadamia seed oil and shea butter to help replenish lost moisture. Rich in herbal extracts like cooling cucumber and rosemary leaf  a favourite for antioxidants  to help protect hands against daily urban and environmental stresses while the hydrating power of Vitamin E, Hyaluronic Acid and Ceramides contribute to improve the skins natural moisture barrier with this garden-inspired treatment. Skin is left silky-soft and delicately scented.', 'How to use:', 'Dab a pea-sized amount to palms and work over skin and nails. Combine with Gardeners Hand Wash and Hand Scrub to get silky skin in three herb-infused steps.', 'Originally created to appeal to a horticulturists wealth of knowledge about the healing power of herbs, this botanical range is formulated with cleansing cucumber extract, purifying rosemary extract, oak moss and refreshing sage extract.', 'We search the world for natural ingredients and fragrance journeys that enable our customers to live a life cultivated. Inspired by the Crabapple Tree, the original species from which all cultivated apple trees have derived, and John Evelyn, the 17th century renaissance Englishman whose motto Explore Everything. Keep The Best has provided inspiration from our founding to this day.'], 'fit': '', 'title': \"Crabtree &amp; Evelyn - Gardener's Ultra-Moisturising Hand Therapy Pump - 250g/8.8 OZ\", 'also_buy': ['B00GHX7H0A', 'B00FRERO7G', 'B00R68QXCS', 'B000Z65AZE', 'B07GFHJRMX', 'B074KGBGL7', 'B00R68QXJG', 'B00025WYZC', 'B07H3W9BM5', 'B00KOBT82G', 'B072N2M1P6', 'B071G8FG2N', 'B00FASVFI8', 'B00GHXE4N8', 'B00EPG2QJI', 'B01MQ4MEFE', 'B01M8ML0SY', 'B074KHCPLH', 'B004XQWY4W', 'B00FASV6UU', 'B01M31HJBJ', 'B00KC8TU7O', 'B00B9TU5T2', 'B00K75EZ04', 'B000Q2Y0FI', 'B00FEGOCCM', 'B00EPFXFBW', 'B00H6SQY3Q', 'B00HZAOWUC', 'B07GFJF1DN', 'B001WBS68E', 'B074KJZCPH'], 'tech2': '', 'brand': '', 'feature': [], 'rank': '4,324 in Beauty & Personal Care (', 'also_view': ['B00FRERO7G', 'B00GHX7H0A', 'B07GFHJRMX', 'B00TJ3NBN2', 'B00KOBT82G', 'B00R68QXCS', 'B074KGBGL7', 'B075MH4Q9L', 'B07H3W9BM5', 'B07GFJF1DN', 'B00KC8TPVA', 'B07DB7KXFV', 'B07DCCRGZT', 'B00GHX58LK', 'B077GXQ2TH', 'B00GHX52MK', 'B01MQ4MEFE', 'B00GHXE4N8', 'B07FYFXBK8', 'B00FEGOCCM', 'B00FASVFI8', 'B074KFH9JN', 'B071G8FG2N', 'B074KGN1BT', 'B00GHX5HZC', 'B00B9TU5T2', 'B074KM26WX', 'B074KGQ65V', 'B01M8ML0SY', 'B076YKGPY5', 'B00EPG2QJI', 'B074KHCPLH', 'B075YMZVGF', 'B00K1C8V1W', 'B074KDPT26', 'B07CCNVW87', 'B074KGQ5LF', 'B00GHX8I6M', 'B07JMLGRKY', 'B07C92VLKM', 'B00KC8TU7O', 'B00025WYZC', 'B074KJZCPH', 'B074KHCPMV', 'B00GHXHPEI', 'B07K2WRDBS', 'B00FASV6UU', 'B001WBS68E', 'B074KMD9QM', 'B076YN8DDY', 'B074KHDYRX', 'B00GHXIBGE'], 'details': {'\\n    Product Dimensions: \\n    ': '2.2 x 2.2 x 7 inches ; 8.8 ounces', 'Shipping Weight:': '14.4 ounces (', 'Domestic Shipping: ': 'Item can be shipped within U.S.', 'International Shipping: ': 'This item can be shipped to select countries outside of the U.S.', 'ASIN:': 'B00004U9V2', 'Item model number:': '4113'}, 'main_cat': 'Luxury Beauty', 'similar_item': '', 'date': '', 'price': '$30.00', 'asin': 'B00004U9V2', 'imageURL': ['https://images-na.ssl-images-amazon.com/images/I/41ClX6BRvZL._SX50_SY65_CR,0,0,50,65_.jpg', 'https://images-na.ssl-images-amazon.com/images/I/510giIO5cFL._SX50_SY65_CR,0,0,50,65_.jpg', 'https://images-na.ssl-images-amazon.com/images/I/414gBlQ6F9L._SX50_SY65_CR,0,0,50,65_.jpg', 'https://images-na.ssl-images-amazon.com/images/I/51jNGOh1f9L._SX50_SY65_CR,0,0,50,65_.jpg', 'https://images-na.ssl-images-amazon.com/images/I/31f8YZgUBhL._SX50_SY65_CR,0,0,50,65_.jpg'], 'imageURLHighRes': ['https://images-na.ssl-images-amazon.com/images/I/41ClX6BRvZL.jpg', 'https://images-na.ssl-images-amazon.com/images/I/510giIO5cFL.jpg', 'https://images-na.ssl-images-amazon.com/images/I/414gBlQ6F9L.jpg', 'https://images-na.ssl-images-amazon.com/images/I/51jNGOh1f9L.jpg', 'https://images-na.ssl-images-amazon.com/images/I/31f8YZgUBhL.jpg']}\n"
     ]
    }
   ],
   "source": [
    "### load the meta data\n",
    "\n",
    "data = []\n",
    "with gzip.open('meta_Luxury_Beauty.json.gz') as f:\n",
    "    for l in f:\n",
    "        data.append(json.loads(l.strip()))\n",
    "\n",
    "# total length of list, this number equals total number of products\n",
    "print(len(data))\n",
    "\n",
    "# first row of the list\n",
    "print(data[0])"
   ]
  },
  {
   "cell_type": "code",
   "execution_count": 7,
   "metadata": {
    "colab": {
     "base_uri": "https://localhost:8080/"
    },
    "id": "g6xwtrXjBQXt",
    "outputId": "146b5d30-bf5d-45b9-ea6b-730046e19f1f"
   },
   "outputs": [
    {
     "name": "stdout",
     "output_type": "stream",
     "text": [
      "12299\n"
     ]
    }
   ],
   "source": [
    "# convert list into pandas dataframe\n",
    "\n",
    "df2 = pd.DataFrame.from_dict(data)\n",
    "\n",
    "print(len(df2))"
   ]
  },
  {
   "cell_type": "code",
   "execution_count": 8,
   "metadata": {
    "colab": {
     "base_uri": "https://localhost:8080/"
    },
    "id": "3fQqKpL4Qws9",
    "outputId": "b7b62f49-3100-484b-ebc8-5e85a3de1aa7"
   },
   "outputs": [
    {
     "name": "stdout",
     "output_type": "stream",
     "text": [
      "Archivo convertido y guardado con éxito.\n"
     ]
    }
   ],
   "source": [
    "\n",
    "# Guardar el DataFrame en formato Excel\n",
    "#df2.to_excel('nombre_del_archivo_salida.xlsx', index=False, engine='openpyxl')\n",
    "\n",
    "print(\"Archivo convertido y guardado con éxito.\")"
   ]
  },
  {
   "cell_type": "code",
   "execution_count": 9,
   "metadata": {
    "id": "APy258qhFdVw"
   },
   "outputs": [],
   "source": [
    "result = pd.merge(df1,df2, on = \"asin\")"
   ]
  },
  {
   "cell_type": "code",
   "execution_count": 10,
   "metadata": {
    "colab": {
     "base_uri": "https://localhost:8080/",
     "height": 236
    },
    "id": "bXQS4mFsIINP",
    "outputId": "b674853a-0140-4ce0-a32d-9d90457f9995"
   },
   "outputs": [
    {
     "data": {
      "text/html": [
       "<div>\n",
       "<style scoped>\n",
       "    .dataframe tbody tr th:only-of-type {\n",
       "        vertical-align: middle;\n",
       "    }\n",
       "\n",
       "    .dataframe tbody tr th {\n",
       "        vertical-align: top;\n",
       "    }\n",
       "\n",
       "    .dataframe thead th {\n",
       "        text-align: right;\n",
       "    }\n",
       "</style>\n",
       "<table border=\"1\" class=\"dataframe\">\n",
       "  <thead>\n",
       "    <tr style=\"text-align: right;\">\n",
       "      <th></th>\n",
       "      <th>overall</th>\n",
       "      <th>vote</th>\n",
       "      <th>verified</th>\n",
       "      <th>reviewTime</th>\n",
       "      <th>reviewerID</th>\n",
       "      <th>asin</th>\n",
       "      <th>reviewerName</th>\n",
       "      <th>reviewText</th>\n",
       "      <th>summary</th>\n",
       "      <th>unixReviewTime</th>\n",
       "      <th>style</th>\n",
       "      <th>image</th>\n",
       "      <th>category</th>\n",
       "      <th>tech1</th>\n",
       "      <th>description</th>\n",
       "      <th>fit</th>\n",
       "      <th>title</th>\n",
       "      <th>also_buy</th>\n",
       "      <th>tech2</th>\n",
       "      <th>brand</th>\n",
       "      <th>feature</th>\n",
       "      <th>rank</th>\n",
       "      <th>also_view</th>\n",
       "      <th>details</th>\n",
       "      <th>main_cat</th>\n",
       "      <th>similar_item</th>\n",
       "      <th>date</th>\n",
       "      <th>price</th>\n",
       "      <th>imageURL</th>\n",
       "      <th>imageURLHighRes</th>\n",
       "    </tr>\n",
       "  </thead>\n",
       "  <tbody>\n",
       "    <tr>\n",
       "      <th>0</th>\n",
       "      <td>2.0</td>\n",
       "      <td>3</td>\n",
       "      <td>True</td>\n",
       "      <td>06 15, 2010</td>\n",
       "      <td>A1Q6MUU0B2ZDQG</td>\n",
       "      <td>B00004U9V2</td>\n",
       "      <td>D. Poston</td>\n",
       "      <td>I bought two of these 8.5 fl oz hand cream, an...</td>\n",
       "      <td>dispensers don't work</td>\n",
       "      <td>1276560000</td>\n",
       "      <td>NaN</td>\n",
       "      <td>NaN</td>\n",
       "      <td>[]</td>\n",
       "      <td></td>\n",
       "      <td>[After a long day of handling thorny situation...</td>\n",
       "      <td></td>\n",
       "      <td>Crabtree &amp;amp; Evelyn - Gardener's Ultra-Moist...</td>\n",
       "      <td>[B00GHX7H0A, B00FRERO7G, B00R68QXCS, B000Z65AZ...</td>\n",
       "      <td></td>\n",
       "      <td></td>\n",
       "      <td>[]</td>\n",
       "      <td>4,324 in Beauty &amp; Personal Care (</td>\n",
       "      <td>[B00FRERO7G, B00GHX7H0A, B07GFHJRMX, B00TJ3NBN...</td>\n",
       "      <td>{'\n",
       "    Product Dimensions: \n",
       "    ': '2.2 x 2.2 ...</td>\n",
       "      <td>Luxury Beauty</td>\n",
       "      <td></td>\n",
       "      <td></td>\n",
       "      <td>$30.00</td>\n",
       "      <td>[https://images-na.ssl-images-amazon.com/image...</td>\n",
       "      <td>[https://images-na.ssl-images-amazon.com/image...</td>\n",
       "    </tr>\n",
       "    <tr>\n",
       "      <th>1</th>\n",
       "      <td>2.0</td>\n",
       "      <td>3</td>\n",
       "      <td>True</td>\n",
       "      <td>06 15, 2010</td>\n",
       "      <td>A1Q6MUU0B2ZDQG</td>\n",
       "      <td>B00004U9V2</td>\n",
       "      <td>D. Poston</td>\n",
       "      <td>I bought two of these 8.5 fl oz hand cream, an...</td>\n",
       "      <td>dispensers don't work</td>\n",
       "      <td>1276560000</td>\n",
       "      <td>NaN</td>\n",
       "      <td>NaN</td>\n",
       "      <td>[]</td>\n",
       "      <td></td>\n",
       "      <td>[After a long day of handling thorny situation...</td>\n",
       "      <td></td>\n",
       "      <td>Crabtree &amp;amp; Evelyn - Gardener's Ultra-Moist...</td>\n",
       "      <td>[B00GHX7H0A, B00FRERO7G, B00R68QXCS, B000Z65AZ...</td>\n",
       "      <td></td>\n",
       "      <td></td>\n",
       "      <td>[]</td>\n",
       "      <td>4,324 in Beauty &amp; Personal Care (</td>\n",
       "      <td>[B00FRERO7G, B00GHX7H0A, B07GFHJRMX, B00TJ3NBN...</td>\n",
       "      <td>{'\n",
       "    Product Dimensions: \n",
       "    ': '2.2 x 2.2 ...</td>\n",
       "      <td>Luxury Beauty</td>\n",
       "      <td></td>\n",
       "      <td></td>\n",
       "      <td>$30.00</td>\n",
       "      <td>[https://images-na.ssl-images-amazon.com/image...</td>\n",
       "      <td>[https://images-na.ssl-images-amazon.com/image...</td>\n",
       "    </tr>\n",
       "  </tbody>\n",
       "</table>\n",
       "</div>"
      ],
      "text/plain": [
       "   overall vote  verified   reviewTime      reviewerID        asin  \\\n",
       "0      2.0    3      True  06 15, 2010  A1Q6MUU0B2ZDQG  B00004U9V2   \n",
       "1      2.0    3      True  06 15, 2010  A1Q6MUU0B2ZDQG  B00004U9V2   \n",
       "\n",
       "  reviewerName                                         reviewText  \\\n",
       "0    D. Poston  I bought two of these 8.5 fl oz hand cream, an...   \n",
       "1    D. Poston  I bought two of these 8.5 fl oz hand cream, an...   \n",
       "\n",
       "                 summary  unixReviewTime style image category tech1  \\\n",
       "0  dispensers don't work      1276560000   NaN   NaN       []         \n",
       "1  dispensers don't work      1276560000   NaN   NaN       []         \n",
       "\n",
       "                                         description fit  \\\n",
       "0  [After a long day of handling thorny situation...       \n",
       "1  [After a long day of handling thorny situation...       \n",
       "\n",
       "                                               title  \\\n",
       "0  Crabtree &amp; Evelyn - Gardener's Ultra-Moist...   \n",
       "1  Crabtree &amp; Evelyn - Gardener's Ultra-Moist...   \n",
       "\n",
       "                                            also_buy tech2 brand feature  \\\n",
       "0  [B00GHX7H0A, B00FRERO7G, B00R68QXCS, B000Z65AZ...                  []   \n",
       "1  [B00GHX7H0A, B00FRERO7G, B00R68QXCS, B000Z65AZ...                  []   \n",
       "\n",
       "                                rank  \\\n",
       "0  4,324 in Beauty & Personal Care (   \n",
       "1  4,324 in Beauty & Personal Care (   \n",
       "\n",
       "                                           also_view  \\\n",
       "0  [B00FRERO7G, B00GHX7H0A, B07GFHJRMX, B00TJ3NBN...   \n",
       "1  [B00FRERO7G, B00GHX7H0A, B07GFHJRMX, B00TJ3NBN...   \n",
       "\n",
       "                                             details       main_cat  \\\n",
       "0  {'\n",
       "    Product Dimensions: \n",
       "    ': '2.2 x 2.2 ...  Luxury Beauty   \n",
       "1  {'\n",
       "    Product Dimensions: \n",
       "    ': '2.2 x 2.2 ...  Luxury Beauty   \n",
       "\n",
       "  similar_item date   price  \\\n",
       "0                    $30.00   \n",
       "1                    $30.00   \n",
       "\n",
       "                                            imageURL  \\\n",
       "0  [https://images-na.ssl-images-amazon.com/image...   \n",
       "1  [https://images-na.ssl-images-amazon.com/image...   \n",
       "\n",
       "                                     imageURLHighRes  \n",
       "0  [https://images-na.ssl-images-amazon.com/image...  \n",
       "1  [https://images-na.ssl-images-amazon.com/image...  "
      ]
     },
     "execution_count": 10,
     "metadata": {},
     "output_type": "execute_result"
    }
   ],
   "source": [
    "result.head(2)"
   ]
  },
  {
   "cell_type": "code",
   "execution_count": 11,
   "metadata": {
    "colab": {
     "base_uri": "https://localhost:8080/"
    },
    "id": "3mu_pitKFdYv",
    "outputId": "5a5faa77-93c3-48ff-e9c7-916e13dec495"
   },
   "outputs": [
    {
     "name": "stdout",
     "output_type": "stream",
     "text": [
      "<class 'pandas.core.frame.DataFrame'>\n",
      "Int64Index: 600230 entries, 0 to 600229\n",
      "Data columns (total 30 columns):\n",
      " #   Column           Non-Null Count   Dtype  \n",
      "---  ------           --------------   -----  \n",
      " 0   overall          600230 non-null  float64\n",
      " 1   vote             107111 non-null  object \n",
      " 2   verified         600230 non-null  bool   \n",
      " 3   reviewTime       600230 non-null  object \n",
      " 4   reviewerID       600230 non-null  object \n",
      " 5   asin             600230 non-null  object \n",
      " 6   reviewerName     600199 non-null  object \n",
      " 7   reviewText       599810 non-null  object \n",
      " 8   summary          600041 non-null  object \n",
      " 9   unixReviewTime   600230 non-null  int64  \n",
      " 10  style            270311 non-null  object \n",
      " 11  image            7838 non-null    object \n",
      " 12  category         600230 non-null  object \n",
      " 13  tech1            600230 non-null  object \n",
      " 14  description      600230 non-null  object \n",
      " 15  fit              600230 non-null  object \n",
      " 16  title            600230 non-null  object \n",
      " 17  also_buy         600230 non-null  object \n",
      " 18  tech2            600230 non-null  object \n",
      " 19  brand            600230 non-null  object \n",
      " 20  feature          600230 non-null  object \n",
      " 21  rank             600230 non-null  object \n",
      " 22  also_view        600230 non-null  object \n",
      " 23  details          600230 non-null  object \n",
      " 24  main_cat         600230 non-null  object \n",
      " 25  similar_item     600230 non-null  object \n",
      " 26  date             600230 non-null  object \n",
      " 27  price            600230 non-null  object \n",
      " 28  imageURL         600230 non-null  object \n",
      " 29  imageURLHighRes  600230 non-null  object \n",
      "dtypes: bool(1), float64(1), int64(1), object(27)\n",
      "memory usage: 138.0+ MB\n"
     ]
    }
   ],
   "source": [
    "result.info()"
   ]
  },
  {
   "cell_type": "code",
   "execution_count": 12,
   "metadata": {
    "id": "gWjGlj8gKb9g"
   },
   "outputs": [],
   "source": [
    "data = result"
   ]
  },
  {
   "cell_type": "code",
   "execution_count": 13,
   "metadata": {
    "id": "ZITNajaeNA7x"
   },
   "outputs": [],
   "source": [
    "# Lista de columnas a eliminar\n",
    "columns_to_drop = ['category','main_cat','feature','vote','style', 'reviewerName', 'image','title','date','imageURL','imageURLHighRes','also_view','also_buy','fit','details','similar_item','tech1','tech2','description']\n",
    "\n",
    "# Eliminar columnas\n",
    "data = data.drop(columns=columns_to_drop, errors='ignore')"
   ]
  },
  {
   "cell_type": "code",
   "execution_count": 14,
   "metadata": {
    "id": "43qXPpwqVnxs"
   },
   "outputs": [],
   "source": [
    "data.dropna(inplace=True)"
   ]
  },
  {
   "cell_type": "code",
   "execution_count": 15,
   "metadata": {
    "id": "IUWpdCaVXUuc"
   },
   "outputs": [],
   "source": [
    "# Extraer todos los números y comas del principio de la cadena\n",
    "extracted_series = data['rank'].str.extract(r'([\\d,]+)')[0]\n",
    "\n",
    "# Convertir \"nan\" (cadena) a np.nan\n",
    "extracted_series.replace(\"nan\", np.nan, inplace=True)\n",
    "\n",
    "\n",
    "# Eliminar comas y convertir a int\n",
    "data['extracted_rank'] = extracted_series.str.replace(',', '').fillna('0').astype(int)\n",
    "\n",
    "\n",
    "# Rellenar valores NaN con 0, eliminar comas y convertir a entero\n",
    "data['extracted_rank'] = extracted_series.fillna(0).astype(str).str.replace(',', '').astype(int)"
   ]
  },
  {
   "cell_type": "code",
   "execution_count": 16,
   "metadata": {
    "id": "wcmV245GXlRa"
   },
   "outputs": [],
   "source": [
    "# Extraer el primer valor cuando hay un rango de precios\n",
    "data['price'] = data['price'].str.extract(r'(\\d+.\\d+)')[0]\n",
    "\n",
    "# Eliminar el símbolo $ y las comas, luego convertir a float\n",
    "data['price'] = data['price'].str.replace('$', '', regex=True).str.replace(',', '').astype(float)"
   ]
  },
  {
   "cell_type": "code",
   "execution_count": 17,
   "metadata": {
    "id": "c3Aah6TOYVEi"
   },
   "outputs": [],
   "source": [
    "# Convertir la columna unixReviewTime a un formato de fecha\n",
    "data['reviewDate'] = pd.to_datetime(data['unixReviewTime'], unit='s').dt.date"
   ]
  },
  {
   "cell_type": "code",
   "execution_count": 18,
   "metadata": {
    "id": "ZzkqIgyZj4or"
   },
   "outputs": [],
   "source": [
    "data = data[data['verified'] == True]"
   ]
  },
  {
   "cell_type": "code",
   "execution_count": 19,
   "metadata": {
    "colab": {
     "base_uri": "https://localhost:8080/"
    },
    "id": "R8hjLathVqGr",
    "outputId": "deea2ef6-337f-47c5-8087-e34563df27ab"
   },
   "outputs": [
    {
     "name": "stdout",
     "output_type": "stream",
     "text": [
      "<class 'pandas.core.frame.DataFrame'>\n",
      "Int64Index: 526671 entries, 0 to 600229\n",
      "Data columns (total 13 columns):\n",
      " #   Column          Non-Null Count   Dtype  \n",
      "---  ------          --------------   -----  \n",
      " 0   overall         526671 non-null  float64\n",
      " 1   verified        526671 non-null  bool   \n",
      " 2   reviewTime      526671 non-null  object \n",
      " 3   reviewerID      526671 non-null  object \n",
      " 4   asin            526671 non-null  object \n",
      " 5   reviewText      526671 non-null  object \n",
      " 6   summary         526671 non-null  object \n",
      " 7   unixReviewTime  526671 non-null  int64  \n",
      " 8   brand           526671 non-null  object \n",
      " 9   rank            526671 non-null  object \n",
      " 10  price           430236 non-null  float64\n",
      " 11  extracted_rank  526671 non-null  int32  \n",
      " 12  reviewDate      526671 non-null  object \n",
      "dtypes: bool(1), float64(2), int32(1), int64(1), object(8)\n",
      "memory usage: 50.7+ MB\n"
     ]
    }
   ],
   "source": [
    "data.info()"
   ]
  },
  {
   "cell_type": "code",
   "execution_count": 20,
   "metadata": {
    "colab": {
     "base_uri": "https://localhost:8080/",
     "height": 112
    },
    "id": "pRQaXclfVDkv",
    "outputId": "5c38ea94-cc8d-416c-9c98-7d6b16464801"
   },
   "outputs": [
    {
     "data": {
      "text/html": [
       "<div>\n",
       "<style scoped>\n",
       "    .dataframe tbody tr th:only-of-type {\n",
       "        vertical-align: middle;\n",
       "    }\n",
       "\n",
       "    .dataframe tbody tr th {\n",
       "        vertical-align: top;\n",
       "    }\n",
       "\n",
       "    .dataframe thead th {\n",
       "        text-align: right;\n",
       "    }\n",
       "</style>\n",
       "<table border=\"1\" class=\"dataframe\">\n",
       "  <thead>\n",
       "    <tr style=\"text-align: right;\">\n",
       "      <th></th>\n",
       "      <th>overall</th>\n",
       "      <th>verified</th>\n",
       "      <th>reviewTime</th>\n",
       "      <th>reviewerID</th>\n",
       "      <th>asin</th>\n",
       "      <th>reviewText</th>\n",
       "      <th>summary</th>\n",
       "      <th>unixReviewTime</th>\n",
       "      <th>brand</th>\n",
       "      <th>rank</th>\n",
       "      <th>price</th>\n",
       "      <th>extracted_rank</th>\n",
       "      <th>reviewDate</th>\n",
       "    </tr>\n",
       "  </thead>\n",
       "  <tbody>\n",
       "    <tr>\n",
       "      <th>0</th>\n",
       "      <td>2.0</td>\n",
       "      <td>True</td>\n",
       "      <td>06 15, 2010</td>\n",
       "      <td>A1Q6MUU0B2ZDQG</td>\n",
       "      <td>B00004U9V2</td>\n",
       "      <td>I bought two of these 8.5 fl oz hand cream, an...</td>\n",
       "      <td>dispensers don't work</td>\n",
       "      <td>1276560000</td>\n",
       "      <td></td>\n",
       "      <td>4,324 in Beauty &amp; Personal Care (</td>\n",
       "      <td>30.0</td>\n",
       "      <td>4324</td>\n",
       "      <td>2010-06-15</td>\n",
       "    </tr>\n",
       "    <tr>\n",
       "      <th>1</th>\n",
       "      <td>2.0</td>\n",
       "      <td>True</td>\n",
       "      <td>06 15, 2010</td>\n",
       "      <td>A1Q6MUU0B2ZDQG</td>\n",
       "      <td>B00004U9V2</td>\n",
       "      <td>I bought two of these 8.5 fl oz hand cream, an...</td>\n",
       "      <td>dispensers don't work</td>\n",
       "      <td>1276560000</td>\n",
       "      <td></td>\n",
       "      <td>4,324 in Beauty &amp; Personal Care (</td>\n",
       "      <td>30.0</td>\n",
       "      <td>4324</td>\n",
       "      <td>2010-06-15</td>\n",
       "    </tr>\n",
       "  </tbody>\n",
       "</table>\n",
       "</div>"
      ],
      "text/plain": [
       "   overall  verified   reviewTime      reviewerID        asin  \\\n",
       "0      2.0      True  06 15, 2010  A1Q6MUU0B2ZDQG  B00004U9V2   \n",
       "1      2.0      True  06 15, 2010  A1Q6MUU0B2ZDQG  B00004U9V2   \n",
       "\n",
       "                                          reviewText                summary  \\\n",
       "0  I bought two of these 8.5 fl oz hand cream, an...  dispensers don't work   \n",
       "1  I bought two of these 8.5 fl oz hand cream, an...  dispensers don't work   \n",
       "\n",
       "   unixReviewTime brand                               rank  price  \\\n",
       "0      1276560000        4,324 in Beauty & Personal Care (   30.0   \n",
       "1      1276560000        4,324 in Beauty & Personal Care (   30.0   \n",
       "\n",
       "   extracted_rank  reviewDate  \n",
       "0            4324  2010-06-15  \n",
       "1            4324  2010-06-15  "
      ]
     },
     "execution_count": 20,
     "metadata": {},
     "output_type": "execute_result"
    }
   ],
   "source": [
    "data.head(2)"
   ]
  },
  {
   "cell_type": "code",
   "execution_count": 21,
   "metadata": {
    "id": "uJyAKOILYeCx"
   },
   "outputs": [],
   "source": [
    "# Lista de columnas a eliminar\n",
    "columns_to_drop = ['reviewTime','unixReviewTime','rank','verified']\n",
    "\n",
    "# Eliminar columnas\n",
    "data = data.drop(columns=columns_to_drop, errors='ignore')"
   ]
  },
  {
   "cell_type": "code",
   "execution_count": 22,
   "metadata": {
    "id": "lbMvyOeinCMI"
   },
   "outputs": [],
   "source": [
    "# Convertir reviewDate a tipo de dato datetime (si aún no lo has hecho)\n",
    "data['reviewDate'] = pd.to_datetime(data['reviewDate'])"
   ]
  },
  {
   "cell_type": "code",
   "execution_count": 23,
   "metadata": {
    "colab": {
     "base_uri": "https://localhost:8080/",
     "height": 112
    },
    "id": "CefArerEYkof",
    "outputId": "dbe8a94c-1408-4c00-d19e-22220c23f187"
   },
   "outputs": [
    {
     "data": {
      "text/html": [
       "<div>\n",
       "<style scoped>\n",
       "    .dataframe tbody tr th:only-of-type {\n",
       "        vertical-align: middle;\n",
       "    }\n",
       "\n",
       "    .dataframe tbody tr th {\n",
       "        vertical-align: top;\n",
       "    }\n",
       "\n",
       "    .dataframe thead th {\n",
       "        text-align: right;\n",
       "    }\n",
       "</style>\n",
       "<table border=\"1\" class=\"dataframe\">\n",
       "  <thead>\n",
       "    <tr style=\"text-align: right;\">\n",
       "      <th></th>\n",
       "      <th>overall</th>\n",
       "      <th>reviewerID</th>\n",
       "      <th>asin</th>\n",
       "      <th>reviewText</th>\n",
       "      <th>summary</th>\n",
       "      <th>brand</th>\n",
       "      <th>price</th>\n",
       "      <th>extracted_rank</th>\n",
       "      <th>reviewDate</th>\n",
       "    </tr>\n",
       "  </thead>\n",
       "  <tbody>\n",
       "    <tr>\n",
       "      <th>0</th>\n",
       "      <td>2.0</td>\n",
       "      <td>A1Q6MUU0B2ZDQG</td>\n",
       "      <td>B00004U9V2</td>\n",
       "      <td>I bought two of these 8.5 fl oz hand cream, an...</td>\n",
       "      <td>dispensers don't work</td>\n",
       "      <td></td>\n",
       "      <td>30.0</td>\n",
       "      <td>4324</td>\n",
       "      <td>2010-06-15</td>\n",
       "    </tr>\n",
       "    <tr>\n",
       "      <th>1</th>\n",
       "      <td>2.0</td>\n",
       "      <td>A1Q6MUU0B2ZDQG</td>\n",
       "      <td>B00004U9V2</td>\n",
       "      <td>I bought two of these 8.5 fl oz hand cream, an...</td>\n",
       "      <td>dispensers don't work</td>\n",
       "      <td></td>\n",
       "      <td>30.0</td>\n",
       "      <td>4324</td>\n",
       "      <td>2010-06-15</td>\n",
       "    </tr>\n",
       "  </tbody>\n",
       "</table>\n",
       "</div>"
      ],
      "text/plain": [
       "   overall      reviewerID        asin  \\\n",
       "0      2.0  A1Q6MUU0B2ZDQG  B00004U9V2   \n",
       "1      2.0  A1Q6MUU0B2ZDQG  B00004U9V2   \n",
       "\n",
       "                                          reviewText                summary  \\\n",
       "0  I bought two of these 8.5 fl oz hand cream, an...  dispensers don't work   \n",
       "1  I bought two of these 8.5 fl oz hand cream, an...  dispensers don't work   \n",
       "\n",
       "  brand  price  extracted_rank reviewDate  \n",
       "0         30.0            4324 2010-06-15  \n",
       "1         30.0            4324 2010-06-15  "
      ]
     },
     "execution_count": 23,
     "metadata": {},
     "output_type": "execute_result"
    }
   ],
   "source": [
    "data.head(2)"
   ]
  },
  {
   "cell_type": "code",
   "execution_count": 24,
   "metadata": {
    "colab": {
     "base_uri": "https://localhost:8080/"
    },
    "id": "J3XBlRlhkbQt",
    "outputId": "caf5fccf-fe88-4beb-eef4-dc7b7d446dbf"
   },
   "outputs": [
    {
     "name": "stdout",
     "output_type": "stream",
     "text": [
      "<class 'pandas.core.frame.DataFrame'>\n",
      "Int64Index: 526671 entries, 0 to 600229\n",
      "Data columns (total 9 columns):\n",
      " #   Column          Non-Null Count   Dtype         \n",
      "---  ------          --------------   -----         \n",
      " 0   overall         526671 non-null  float64       \n",
      " 1   reviewerID      526671 non-null  object        \n",
      " 2   asin            526671 non-null  object        \n",
      " 3   reviewText      526671 non-null  object        \n",
      " 4   summary         526671 non-null  object        \n",
      " 5   brand           526671 non-null  object        \n",
      " 6   price           430236 non-null  float64       \n",
      " 7   extracted_rank  526671 non-null  int32         \n",
      " 8   reviewDate      526671 non-null  datetime64[ns]\n",
      "dtypes: datetime64[ns](1), float64(2), int32(1), object(5)\n",
      "memory usage: 38.2+ MB\n"
     ]
    }
   ],
   "source": [
    "data.info()"
   ]
  },
  {
   "cell_type": "code",
   "execution_count": 25,
   "metadata": {
    "colab": {
     "base_uri": "https://localhost:8080/"
    },
    "id": "AU0ZKLT_KWuz",
    "outputId": "93b6607f-a49c-49d1-999c-128b757e46bf"
   },
   "outputs": [
    {
     "name": "stdout",
     "output_type": "stream",
     "text": [
      "(526671, 9)\n"
     ]
    }
   ],
   "source": [
    "# 1. Entendimiento Básico\n",
    "print(data.shape)\n",
    "#print(data.info())\n",
    "#print(data.head())\n",
    "#print(data.tail())"
   ]
  },
  {
   "cell_type": "code",
   "execution_count": 33,
   "metadata": {
    "id": "PXtqY115gxB8"
   },
   "outputs": [
    {
     "name": "stdout",
     "output_type": "stream",
     "text": [
      "                          526359\n",
      "UNITE Hair                   252\n",
      "PHYTO                         19\n",
      "bliss                         17\n",
      "PUR                            9\n",
      "H2O+ Beauty                    7\n",
      "Kneipp                         7\n",
      "ZWILLING J.A. Henckels         1\n",
      "Name: brand, dtype: int64\n"
     ]
    }
   ],
   "source": [
    "unique_values_freq = data['brand'].value_counts()\n",
    "print(unique_values_freq)"
   ]
  },
  {
   "cell_type": "code",
   "execution_count": 27,
   "metadata": {
    "colab": {
     "base_uri": "https://localhost:8080/"
    },
    "id": "SBBqKGS-KW45",
    "outputId": "4d0a9b4a-6fab-40c6-e7fe-274a148458ec"
   },
   "outputs": [
    {
     "name": "stdout",
     "output_type": "stream",
     "text": [
      "             overall          price  extracted_rank\n",
      "count  526671.000000  430236.000000    5.266710e+05\n",
      "mean        4.251725     794.403387    1.255637e+05\n",
      "std         1.286694    7614.131700    2.257361e+05\n",
      "min         1.000000       1.000000    0.000000e+00\n",
      "25%         4.000000      17.310000    6.793000e+03\n",
      "50%         5.000000      28.000000    2.832300e+04\n",
      "75%         5.000000      46.950000    1.362260e+05\n",
      "max         5.000000   77600.000000    3.301085e+06\n"
     ]
    },
    {
     "name": "stderr",
     "output_type": "stream",
     "text": [
      "C:\\Users\\Usuario\\AppData\\Local\\Temp\\ipykernel_3468\\1164496408.py:3: DeprecationWarning: `np.object` is a deprecated alias for the builtin `object`. To silence this warning, use `object` by itself. Doing this will not modify any behavior and is safe. \n",
      "Deprecated in NumPy 1.20; for more details and guidance: https://numpy.org/devdocs/release/1.20.0-notes.html#deprecations\n",
      "  print(data.describe(include=[np.object]))\n"
     ]
    },
    {
     "name": "stdout",
     "output_type": "stream",
     "text": [
      "           reviewerID        asin reviewText     summary   brand\n",
      "count          526671      526671     526671      526671  526671\n",
      "unique         377825       11903     411698      222355       8\n",
      "top     AJL6HX8O2QLVO  B0013U0EYI    Love it  Five Stars        \n",
      "freq              128        6468       1422      118284  526359\n"
     ]
    }
   ],
   "source": [
    "# 2. Estadísticas Descriptivas\n",
    "print(data.describe())\n",
    "print(data.describe(include=[np.object]))"
   ]
  },
  {
   "cell_type": "code",
   "execution_count": 28,
   "metadata": {
    "colab": {
     "base_uri": "https://localhost:8080/"
    },
    "id": "el-gc40KKW75",
    "outputId": "b8e4c6c9-d88a-4a50-8639-47c25fc5742d"
   },
   "outputs": [
    {
     "name": "stdout",
     "output_type": "stream",
     "text": [
      "overall               0\n",
      "reviewerID            0\n",
      "asin                  0\n",
      "reviewText            0\n",
      "summary               0\n",
      "brand                 0\n",
      "price             96435\n",
      "extracted_rank        0\n",
      "reviewDate            0\n",
      "dtype: int64\n"
     ]
    }
   ],
   "source": [
    "# 3. Manejo de Valores Faltantes\n",
    "missing_values = data.isnull().sum()\n",
    "print(missing_values)\n",
    "# Puedes decidir cómo manejar estos valores más adelante."
   ]
  },
  {
   "cell_type": "code",
   "execution_count": 34,
   "metadata": {},
   "outputs": [],
   "source": [
    "data.dropna(inplace=True)\n"
   ]
  },
  {
   "cell_type": "code",
   "execution_count": 35,
   "metadata": {},
   "outputs": [
    {
     "name": "stdout",
     "output_type": "stream",
     "text": [
      "overall           0\n",
      "reviewerID        0\n",
      "asin              0\n",
      "reviewText        0\n",
      "summary           0\n",
      "brand             0\n",
      "price             0\n",
      "extracted_rank    0\n",
      "reviewDate        0\n",
      "dtype: int64\n"
     ]
    }
   ],
   "source": [
    "# 3. Manejo de Valores Faltantes\n",
    "missing_values = data.isnull().sum()\n",
    "print(missing_values)\n",
    "# Puedes decidir cómo manejar estos valores más adelante."
   ]
  },
  {
   "cell_type": "code",
   "execution_count": 36,
   "metadata": {},
   "outputs": [
    {
     "name": "stdout",
     "output_type": "stream",
     "text": [
      "(430236, 9)\n"
     ]
    }
   ],
   "source": [
    "print(data.shape)"
   ]
  },
  {
   "cell_type": "code",
   "execution_count": 37,
   "metadata": {},
   "outputs": [],
   "source": [
    "# Guardar el DataFrame en un archivo CSV\n",
    "data.to_csv('Luxury_Beauty.csv', index=False)  # 'index=False' para no guardar el índice del DataFrame"
   ]
  },
  {
   "cell_type": "code",
   "execution_count": 39,
   "metadata": {},
   "outputs": [],
   "source": [
    "import re\n",
    "\n",
    "# Función para eliminar/reemplazar caracteres no permitidos\n",
    "def clean_illegal_chars(val):\n",
    "    if isinstance(val, str):  # Solo procesar cadenas\n",
    "        # Eliminar caracteres no permitidos\n",
    "        # (puedes ajustar el reemplazo como prefieras, aquí los eliminamos)\n",
    "        val = re.sub(r'[^\\x09\\x0A\\x0D\\x20-\\uD7FF\\uE000-\\uFFFD\\u10000-\\u10FFFF]', '', val)\n",
    "    return val\n",
    "\n",
    "# Aplicar la función a todo el DataFrame\n",
    "df_cleaned = data.applymap(clean_illegal_chars)"
   ]
  },
  {
   "cell_type": "code",
   "execution_count": 40,
   "metadata": {},
   "outputs": [],
   "source": [
    "# Guardar el DataFrame en un archivo Excel\n",
    "df_cleaned.to_excel('Luxury_Beauty.xlsx', index=False, engine='openpyxl')"
   ]
  }
 ],
 "metadata": {
  "colab": {
   "provenance": []
  },
  "kernelspec": {
   "display_name": "Python 3 (ipykernel)",
   "language": "python",
   "name": "python3"
  },
  "language_info": {
   "codemirror_mode": {
    "name": "ipython",
    "version": 3
   },
   "file_extension": ".py",
   "mimetype": "text/x-python",
   "name": "python",
   "nbconvert_exporter": "python",
   "pygments_lexer": "ipython3",
   "version": "3.10.9"
  }
 },
 "nbformat": 4,
 "nbformat_minor": 1
}
