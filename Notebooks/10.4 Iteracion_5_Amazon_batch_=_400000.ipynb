{
  "cells": [
    {
      "cell_type": "markdown",
      "metadata": {
        "id": "V-SSaV-bRZZl"
      },
      "source": [
        "# Paso 1: Importar Librerías de Python\n"
      ]
    },
    {
      "cell_type": "code",
      "execution_count": 1,
      "metadata": {
        "colab": {
          "base_uri": "https://localhost:8080/"
        },
        "id": "K4mFYevMKu6y",
        "outputId": "033ad16f-b27b-4806-b6d8-3e0dbfae32cf"
      },
      "outputs": [
        {
          "output_type": "stream",
          "name": "stdout",
          "text": [
            "Collecting scikit-surprise\n",
            "  Downloading scikit-surprise-1.1.3.tar.gz (771 kB)\n",
            "\u001b[?25l     \u001b[90m━━━━━━━━━━━━━━━━━━━━━━━━━━━━━━━━━━━━━━━━\u001b[0m \u001b[32m0.0/772.0 kB\u001b[0m \u001b[31m?\u001b[0m eta \u001b[36m-:--:--\u001b[0m\r\u001b[2K     \u001b[91m━━━━━\u001b[0m\u001b[91m╸\u001b[0m\u001b[90m━━━━━━━━━━━━━━━━━━━━━━━━━━━━━━━━━━\u001b[0m \u001b[32m112.6/772.0 kB\u001b[0m \u001b[31m3.1 MB/s\u001b[0m eta \u001b[36m0:00:01\u001b[0m\r\u001b[2K     \u001b[91m━━━━━━━━━━━━━━━━━━━━━━━━━━━━━━━━━━━━━━━\u001b[0m\u001b[91m╸\u001b[0m \u001b[32m768.0/772.0 kB\u001b[0m \u001b[31m11.3 MB/s\u001b[0m eta \u001b[36m0:00:01\u001b[0m\r\u001b[2K     \u001b[90m━━━━━━━━━━━━━━━━━━━━━━━━━━━━━━━━━━━━━━━━\u001b[0m \u001b[32m772.0/772.0 kB\u001b[0m \u001b[31m9.9 MB/s\u001b[0m eta \u001b[36m0:00:00\u001b[0m\n",
            "\u001b[?25h  Preparing metadata (setup.py) ... \u001b[?25l\u001b[?25hdone\n",
            "Requirement already satisfied: joblib>=1.0.0 in /usr/local/lib/python3.10/dist-packages (from scikit-surprise) (1.3.2)\n",
            "Requirement already satisfied: numpy>=1.17.3 in /usr/local/lib/python3.10/dist-packages (from scikit-surprise) (1.23.5)\n",
            "Requirement already satisfied: scipy>=1.3.2 in /usr/local/lib/python3.10/dist-packages (from scikit-surprise) (1.11.3)\n",
            "Building wheels for collected packages: scikit-surprise\n",
            "  Building wheel for scikit-surprise (setup.py) ... \u001b[?25l\u001b[?25hdone\n",
            "  Created wheel for scikit-surprise: filename=scikit_surprise-1.1.3-cp310-cp310-linux_x86_64.whl size=3163495 sha256=a6c067617de37d8722f8b0c3ebd3a1210c4340f9f6755944ea496b8f78fde116\n",
            "  Stored in directory: /root/.cache/pip/wheels/a5/ca/a8/4e28def53797fdc4363ca4af740db15a9c2f1595ebc51fb445\n",
            "Successfully built scikit-surprise\n",
            "Installing collected packages: scikit-surprise\n",
            "Successfully installed scikit-surprise-1.1.3\n"
          ]
        }
      ],
      "source": [
        "#pip install scikit-surprise"
      ]
    },
    {
      "cell_type": "code",
      "execution_count": 2,
      "metadata": {
        "id": "47ItRxlORZ9i"
      },
      "outputs": [],
      "source": [
        "# Análisis de datos y manipulación\n",
        "import pandas as pd\n",
        "import numpy as np\n",
        "import random\n",
        "\n",
        "\n",
        "# Visualización de datos\n",
        "import matplotlib.pyplot as plt\n",
        "import seaborn as sns\n",
        "\n",
        "# Utilidades de fechas\n",
        "from datetime import datetime\n",
        "\n",
        "# Integración con Google Colab\n",
        "from google.colab import drive\n",
        "\n",
        "# Machine Learning: Preprocesamiento y división de datos\n",
        "from sklearn.model_selection import train_test_split\n",
        "from sklearn.preprocessing import LabelEncoder\n",
        "\n",
        "# Machine Learning: Métricas\n",
        "from sklearn.metrics import mean_squared_error, mean_absolute_error\n",
        "from sklearn.metrics.pairwise import cosine_similarity\n",
        "\n",
        "# Machine Learning: Modelado y validación\n",
        "from surprise import SVD, Reader, Dataset, accuracy\n",
        "from surprise.model_selection import train_test_split, GridSearchCV\n",
        "\n",
        "# Deep Learning: Construcción de modelos y capas\n",
        "from keras.models import Model\n",
        "from keras.layers import Input, Embedding, Flatten, Concatenate, Dense, Dropout, Dot,Lambda\n",
        "\n",
        "# Deep Learning: Optimización y regularización\n",
        "from keras.optimizers import Adam\n",
        "from keras.regularizers import l2\n",
        "\n",
        "# Deep Learning: Callbacks\n",
        "from keras.callbacks import EarlyStopping, ReduceLROnPlateau"
      ]
    },
    {
      "cell_type": "code",
      "execution_count": 3,
      "metadata": {
        "colab": {
          "base_uri": "https://localhost:8080/"
        },
        "id": "8bHcBRlQYY4h",
        "outputId": "aefeab7b-a635-4f8e-b8d5-d54d97e2e8f6"
      },
      "outputs": [
        {
          "output_type": "stream",
          "name": "stdout",
          "text": [
            "Mounted at /content/drive\n"
          ]
        }
      ],
      "source": [
        "drive.mount('/content/drive')"
      ]
    },
    {
      "cell_type": "markdown",
      "metadata": {
        "id": "209f_YHQRaCi"
      },
      "source": [
        "# Paso 2: Lectura del Dataset"
      ]
    },
    {
      "cell_type": "code",
      "execution_count": 4,
      "metadata": {
        "colab": {
          "base_uri": "https://localhost:8080/"
        },
        "id": "9vIFqmMIRaIc",
        "outputId": "35f7ad91-c6ec-42ba-f959-f15ac20b6ff0"
      },
      "outputs": [
        {
          "output_type": "stream",
          "name": "stderr",
          "text": [
            "<ipython-input-4-1f8e3361d82a>:2: DtypeWarning: Columns (5) have mixed types. Specify dtype option on import or set low_memory=False.\n",
            "  df = pd.read_csv('/content/drive/MyDrive/EspecializacionA&DS/Monografia/2doSemestre/DataFinal_Amazon.csv')  # Descomenta y proporciona la ruta si estás cargando un archivo CSV\n"
          ]
        }
      ],
      "source": [
        "df = pd.read_csv('/content/drive/MyDrive/EspecializacionA&DS/Monografia/2doSemestre/DataFinal_Amazon.csv')  # Descomenta y proporciona la ruta si estás cargando un archivo CSV"
      ]
    },
    {
      "cell_type": "code",
      "execution_count": 5,
      "metadata": {
        "colab": {
          "base_uri": "https://localhost:8080/"
        },
        "id": "LwnA5HnLr8r6",
        "outputId": "2b6aa3d2-f9fc-474f-b72b-9dc465e8bbd1"
      },
      "outputs": [
        {
          "output_type": "execute_result",
          "data": {
            "text/plain": [
              "(4800571, 10)"
            ]
          },
          "metadata": {},
          "execution_count": 5
        }
      ],
      "source": [
        "df.shape"
      ]
    },
    {
      "cell_type": "code",
      "source": [
        "sentimiento = pd.read_csv('/content/drive/MyDrive/EspecializacionA&DS/Monografia/2doSemestre/sentimientos_productos.csv')"
      ],
      "metadata": {
        "id": "_AAGFh-LHx1T"
      },
      "execution_count": 15,
      "outputs": []
    },
    {
      "cell_type": "code",
      "source": [
        "sentimiento.shape"
      ],
      "metadata": {
        "colab": {
          "base_uri": "https://localhost:8080/"
        },
        "id": "YeQmWHI7HzMA",
        "outputId": "a58920ff-452c-4f7c-d17a-347922a4e27f"
      },
      "execution_count": 16,
      "outputs": [
        {
          "output_type": "execute_result",
          "data": {
            "text/plain": [
              "(154026, 4)"
            ]
          },
          "metadata": {},
          "execution_count": 16
        }
      ]
    },
    {
      "cell_type": "markdown",
      "metadata": {
        "id": "5lMsQcyyS2NS"
      },
      "source": [
        "# Modelo de Filtrado Colaborativo usando Embedding con Keras:"
      ]
    },
    {
      "cell_type": "markdown",
      "metadata": {
        "id": "yQ49x7CvmOfM"
      },
      "source": [
        "Funcionamiento:\n",
        "\n",
        "Los embeddings son representaciones vectoriales densas y de baja dimensión de ítems y/o usuarios. Estas representaciones capturan relaciones semánticas entre ítems o entre usuarios.\n",
        "\n",
        "Un método popular para generar embeddings es la factorización de matrices, como la descomposición en valores singulares (SVD). En el contexto de sistemas de recomendación, se busca factorizar la matriz de interacciones usuario-ítem en dos matrices más pequeñas (una para los usuarios y otra para los ítems) cuyo producto aproximado reproduce la matriz original lo mejor posible.\n",
        "\n",
        "Una vez que se han obtenido los embeddings, la predicción de una calificación o interacción entre un usuario e ítem se realiza tomando el producto escalar entre sus embeddings respectivos.\n",
        "\n",
        "Ventajas:\n",
        "\n",
        "Simplicidad y eficiencia en términos computacionales.\n",
        "\n",
        "Puede manejar grandes conjuntos de datos debido a su naturaleza de baja dimensión.\n",
        "\n",
        "Es efectivo para capturar patrones subyacentes en los datos.\n",
        "\n",
        "Desventajas:\n",
        "\n",
        "No tiene en cuenta características adicionales de usuarios o ítems.\n",
        "\n",
        "Dificultades para manejar nuevos ítems o usuarios (problema de arranque en frío)."
      ]
    },
    {
      "cell_type": "markdown",
      "metadata": {
        "id": "sJ482XODiA8T"
      },
      "source": [
        "El código ahora incluye regularización en los embeddings, un callback para detener el entrenamiento si no hay mejoras (early stopping) y otro para reducir la tasa de aprendizaje si el error de validación no mejora (reduce learning rate on plateau)."
      ]
    },
    {
      "cell_type": "code",
      "execution_count": 6,
      "metadata": {
        "id": "3oQAn6BZT8ZB"
      },
      "outputs": [],
      "source": [
        "data = df"
      ]
    },
    {
      "cell_type": "code",
      "execution_count": 7,
      "metadata": {
        "id": "22AEmdhqU9vC"
      },
      "outputs": [],
      "source": [
        "# Crear un LabelEncoder para cada columna\n",
        "reviewerID_encoder = LabelEncoder()\n",
        "asin_encoder = LabelEncoder()\n",
        "\n",
        "# Ajustar y transformar las columnas\n",
        "data['reviewerID_encoded'] = reviewerID_encoder.fit_transform(data['reviewerID'])\n",
        "data['asin_encoded'] = asin_encoder.fit_transform(data['asin'])\n",
        "\n",
        "# Número de usuarios únicos y número de ítems únicos\n",
        "n_users = len(np.unique(data['reviewerID_encoded']))\n",
        "n_items = len(np.unique(data['asin_encoded']))\n",
        "\n",
        "# Dimensiones del embedding\n",
        "embedding_dim = 10\n",
        "\n",
        "# Entradas\n",
        "user_input = Input(shape=(1,))\n",
        "item_input = Input(shape=(1,))\n",
        "\n",
        "# Embeddings con regularización\n",
        "user_embedding = Embedding(n_users, embedding_dim, embeddings_regularizer=l2(1e-6))(user_input)\n",
        "item_embedding = Embedding(n_items, embedding_dim, embeddings_regularizer=l2(1e-6))(item_input)\n",
        "\n",
        "# Producto punto para predecir la valoración/rating\n",
        "merged = Dot(axes=2)([user_embedding, item_embedding])\n",
        "merged = Flatten()(merged)\n",
        "\n",
        "# Agregar una capa de activación sigmoid y escalar a [0, 5]\n",
        "output = Dense(1, activation='sigmoid')(merged)  # Función de activación sigmoid\n",
        "output = Lambda(lambda x: x * 5)(output)  # Escalar las predicciones al rango [0, 5]\n",
        "\n",
        "# Modelo\n",
        "model = Model(inputs=[user_input, item_input], outputs=output)\n",
        "model.compile(optimizer='adam', loss='mse', metrics=['mae'])"
      ]
    },
    {
      "cell_type": "markdown",
      "metadata": {
        "id": "ZN3t1PGSYEzR"
      },
      "source": [
        "verbose=0: No muestra ninguna barra de progreso ni métricas.\n",
        "\n",
        "verbose=1: Muestra una barra de progreso y actualiza las métricas después de cada lote.\n",
        "\n",
        "verbose=2: Muestra las métricas después de cada época, pero no muestra la barra de progreso."
      ]
    },
    {
      "cell_type": "code",
      "execution_count": 8,
      "metadata": {
        "id": "J3n02-vPg5wh"
      },
      "outputs": [],
      "source": [
        "from sklearn.model_selection import train_test_split\n",
        "\n",
        "# Crear los arrays con los datos\n",
        "user_ids = data['reviewerID_encoded'].values\n",
        "item_ids = data['asin_encoded'].values\n",
        "ratings = data['overall'].values\n",
        "\n",
        "# División en entrenamiento y prueba\n",
        "(user_ids_temp, user_ids_test, item_ids_temp, item_ids_test, ratings_temp, ratings_test) = train_test_split(\n",
        "    user_ids, item_ids, ratings, test_size=0.2, random_state=42)\n",
        "\n",
        "# División del conjunto de entrenamiento en entrenamiento y validación\n",
        "(user_ids_train, user_ids_val, item_ids_train, item_ids_val, ratings_train, ratings_val) = train_test_split(\n",
        "    user_ids_temp, item_ids_temp, ratings_temp, test_size=0.25, random_state=42)  # 0.25 x 0.8 = 0.2"
      ]
    },
    {
      "cell_type": "code",
      "execution_count": 9,
      "metadata": {
        "id": "NYbYJfevgXpj"
      },
      "outputs": [],
      "source": [
        "# Callbacks\n",
        "early_stop = EarlyStopping(monitor='val_loss', patience=50)\n",
        "reduce_lr = ReduceLROnPlateau(monitor='val_loss', factor=0.2, patience=50, min_lr=1e-5)"
      ]
    },
    {
      "cell_type": "code",
      "execution_count": 10,
      "metadata": {
        "colab": {
          "base_uri": "https://localhost:8080/"
        },
        "id": "jOiSfVMfg5tw",
        "outputId": "6a4e4985-7179-4f99-cd6f-bf8dfe56eb34"
      },
      "outputs": [
        {
          "output_type": "stream",
          "name": "stdout",
          "text": [
            "Epoch 1/500\n",
            "8/8 [==============================] - 6s 59ms/step - loss: 4.4576 - mae: 1.9761 - val_loss: 4.4429 - val_mae: 1.9734 - lr: 0.0010\n",
            "Epoch 2/500\n",
            "8/8 [==============================] - 0s 31ms/step - loss: 4.4213 - mae: 1.9680 - val_loss: 4.4075 - val_mae: 1.9655 - lr: 0.0010\n",
            "Epoch 3/500\n",
            "8/8 [==============================] - 0s 28ms/step - loss: 4.3849 - mae: 1.9599 - val_loss: 4.3724 - val_mae: 1.9577 - lr: 0.0010\n",
            "Epoch 4/500\n",
            "8/8 [==============================] - 0s 26ms/step - loss: 4.3487 - mae: 1.9518 - val_loss: 4.3375 - val_mae: 1.9498 - lr: 0.0010\n",
            "Epoch 5/500\n",
            "8/8 [==============================] - 0s 25ms/step - loss: 4.3125 - mae: 1.9436 - val_loss: 4.3028 - val_mae: 1.9420 - lr: 0.0010\n",
            "Epoch 6/500\n",
            "8/8 [==============================] - 0s 25ms/step - loss: 4.2763 - mae: 1.9354 - val_loss: 4.2683 - val_mae: 1.9341 - lr: 0.0010\n",
            "Epoch 7/500\n",
            "8/8 [==============================] - 0s 24ms/step - loss: 4.2402 - mae: 1.9271 - val_loss: 4.2340 - val_mae: 1.9263 - lr: 0.0010\n",
            "Epoch 8/500\n",
            "8/8 [==============================] - 0s 28ms/step - loss: 4.2039 - mae: 1.9188 - val_loss: 4.1999 - val_mae: 1.9184 - lr: 0.0010\n",
            "Epoch 9/500\n",
            "8/8 [==============================] - 0s 25ms/step - loss: 4.1673 - mae: 1.9103 - val_loss: 4.1659 - val_mae: 1.9105 - lr: 0.0010\n",
            "Epoch 10/500\n",
            "8/8 [==============================] - 0s 25ms/step - loss: 4.1304 - mae: 1.9016 - val_loss: 4.1320 - val_mae: 1.9025 - lr: 0.0010\n",
            "Epoch 11/500\n",
            "8/8 [==============================] - 0s 24ms/step - loss: 4.0928 - mae: 1.8927 - val_loss: 4.0981 - val_mae: 1.8944 - lr: 0.0010\n",
            "Epoch 12/500\n",
            "8/8 [==============================] - 0s 26ms/step - loss: 4.0545 - mae: 1.8836 - val_loss: 4.0641 - val_mae: 1.8863 - lr: 0.0010\n",
            "Epoch 13/500\n",
            "8/8 [==============================] - 0s 26ms/step - loss: 4.0153 - mae: 1.8741 - val_loss: 4.0301 - val_mae: 1.8780 - lr: 0.0010\n",
            "Epoch 14/500\n",
            "8/8 [==============================] - 0s 25ms/step - loss: 3.9749 - mae: 1.8642 - val_loss: 3.9960 - val_mae: 1.8697 - lr: 0.0010\n",
            "Epoch 15/500\n",
            "8/8 [==============================] - 0s 25ms/step - loss: 3.9332 - mae: 1.8540 - val_loss: 3.9618 - val_mae: 1.8612 - lr: 0.0010\n",
            "Epoch 16/500\n",
            "8/8 [==============================] - 0s 26ms/step - loss: 3.8901 - mae: 1.8432 - val_loss: 3.9274 - val_mae: 1.8525 - lr: 0.0010\n",
            "Epoch 17/500\n",
            "8/8 [==============================] - 0s 26ms/step - loss: 3.8452 - mae: 1.8318 - val_loss: 3.8929 - val_mae: 1.8437 - lr: 0.0010\n",
            "Epoch 18/500\n",
            "8/8 [==============================] - 0s 25ms/step - loss: 3.7986 - mae: 1.8199 - val_loss: 3.8584 - val_mae: 1.8347 - lr: 0.0010\n",
            "Epoch 19/500\n",
            "8/8 [==============================] - 0s 24ms/step - loss: 3.7501 - mae: 1.8073 - val_loss: 3.8237 - val_mae: 1.8256 - lr: 0.0010\n",
            "Epoch 20/500\n",
            "8/8 [==============================] - 0s 25ms/step - loss: 3.6995 - mae: 1.7939 - val_loss: 3.7891 - val_mae: 1.8163 - lr: 0.0010\n",
            "Epoch 21/500\n",
            "8/8 [==============================] - 0s 25ms/step - loss: 3.6469 - mae: 1.7798 - val_loss: 3.7545 - val_mae: 1.8068 - lr: 0.0010\n",
            "Epoch 22/500\n",
            "8/8 [==============================] - 0s 25ms/step - loss: 3.5922 - mae: 1.7650 - val_loss: 3.7201 - val_mae: 1.7972 - lr: 0.0010\n",
            "Epoch 23/500\n",
            "8/8 [==============================] - 0s 24ms/step - loss: 3.5354 - mae: 1.7493 - val_loss: 3.6858 - val_mae: 1.7874 - lr: 0.0010\n",
            "Epoch 24/500\n",
            "8/8 [==============================] - 0s 24ms/step - loss: 3.4766 - mae: 1.7327 - val_loss: 3.6519 - val_mae: 1.7775 - lr: 0.0010\n",
            "Epoch 25/500\n",
            "8/8 [==============================] - 0s 25ms/step - loss: 3.4158 - mae: 1.7154 - val_loss: 3.6185 - val_mae: 1.7675 - lr: 0.0010\n",
            "Epoch 26/500\n",
            "8/8 [==============================] - 0s 24ms/step - loss: 3.3531 - mae: 1.6972 - val_loss: 3.5856 - val_mae: 1.7574 - lr: 0.0010\n",
            "Epoch 27/500\n",
            "8/8 [==============================] - 0s 24ms/step - loss: 3.2888 - mae: 1.6781 - val_loss: 3.5533 - val_mae: 1.7473 - lr: 0.0010\n",
            "Epoch 28/500\n",
            "8/8 [==============================] - 0s 24ms/step - loss: 3.2229 - mae: 1.6583 - val_loss: 3.5218 - val_mae: 1.7371 - lr: 0.0010\n",
            "Epoch 29/500\n",
            "8/8 [==============================] - 0s 24ms/step - loss: 3.1556 - mae: 1.6376 - val_loss: 3.4912 - val_mae: 1.7270 - lr: 0.0010\n",
            "Epoch 30/500\n",
            "8/8 [==============================] - 0s 24ms/step - loss: 3.0872 - mae: 1.6162 - val_loss: 3.4614 - val_mae: 1.7168 - lr: 0.0010\n",
            "Epoch 31/500\n",
            "8/8 [==============================] - 0s 25ms/step - loss: 3.0179 - mae: 1.5942 - val_loss: 3.4328 - val_mae: 1.7068 - lr: 0.0010\n",
            "Epoch 32/500\n",
            "8/8 [==============================] - 0s 24ms/step - loss: 2.9479 - mae: 1.5715 - val_loss: 3.4052 - val_mae: 1.6968 - lr: 0.0010\n",
            "Epoch 33/500\n",
            "8/8 [==============================] - 0s 25ms/step - loss: 2.8775 - mae: 1.5482 - val_loss: 3.3788 - val_mae: 1.6870 - lr: 0.0010\n",
            "Epoch 34/500\n",
            "8/8 [==============================] - 0s 24ms/step - loss: 2.8069 - mae: 1.5245 - val_loss: 3.3535 - val_mae: 1.6773 - lr: 0.0010\n",
            "Epoch 35/500\n",
            "8/8 [==============================] - 0s 24ms/step - loss: 2.7364 - mae: 1.5003 - val_loss: 3.3295 - val_mae: 1.6677 - lr: 0.0010\n",
            "Epoch 36/500\n",
            "8/8 [==============================] - 0s 25ms/step - loss: 2.6661 - mae: 1.4757 - val_loss: 3.3068 - val_mae: 1.6584 - lr: 0.0010\n",
            "Epoch 37/500\n",
            "8/8 [==============================] - 0s 26ms/step - loss: 2.5964 - mae: 1.4509 - val_loss: 3.2853 - val_mae: 1.6493 - lr: 0.0010\n",
            "Epoch 38/500\n",
            "8/8 [==============================] - 0s 26ms/step - loss: 2.5274 - mae: 1.4259 - val_loss: 3.2652 - val_mae: 1.6405 - lr: 0.0010\n",
            "Epoch 39/500\n",
            "8/8 [==============================] - 0s 24ms/step - loss: 2.4594 - mae: 1.4007 - val_loss: 3.2464 - val_mae: 1.6319 - lr: 0.0010\n",
            "Epoch 40/500\n",
            "8/8 [==============================] - 0s 24ms/step - loss: 2.3925 - mae: 1.3755 - val_loss: 3.2288 - val_mae: 1.6236 - lr: 0.0010\n",
            "Epoch 41/500\n",
            "8/8 [==============================] - 0s 25ms/step - loss: 2.3269 - mae: 1.3503 - val_loss: 3.2125 - val_mae: 1.6155 - lr: 0.0010\n",
            "Epoch 42/500\n",
            "8/8 [==============================] - 0s 25ms/step - loss: 2.2627 - mae: 1.3251 - val_loss: 3.1975 - val_mae: 1.6077 - lr: 0.0010\n",
            "Epoch 43/500\n",
            "8/8 [==============================] - 0s 24ms/step - loss: 2.2001 - mae: 1.3001 - val_loss: 3.1837 - val_mae: 1.6003 - lr: 0.0010\n",
            "Epoch 44/500\n",
            "8/8 [==============================] - 0s 25ms/step - loss: 2.1391 - mae: 1.2752 - val_loss: 3.1710 - val_mae: 1.5930 - lr: 0.0010\n",
            "Epoch 45/500\n",
            "8/8 [==============================] - 0s 24ms/step - loss: 2.0799 - mae: 1.2506 - val_loss: 3.1595 - val_mae: 1.5861 - lr: 0.0010\n",
            "Epoch 46/500\n",
            "8/8 [==============================] - 0s 24ms/step - loss: 2.0226 - mae: 1.2262 - val_loss: 3.1491 - val_mae: 1.5794 - lr: 0.0010\n",
            "Epoch 47/500\n",
            "8/8 [==============================] - 0s 24ms/step - loss: 1.9671 - mae: 1.2021 - val_loss: 3.1398 - val_mae: 1.5730 - lr: 0.0010\n",
            "Epoch 48/500\n",
            "8/8 [==============================] - 0s 25ms/step - loss: 1.9135 - mae: 1.1784 - val_loss: 3.1315 - val_mae: 1.5668 - lr: 0.0010\n",
            "Epoch 49/500\n",
            "8/8 [==============================] - 0s 24ms/step - loss: 1.8618 - mae: 1.1550 - val_loss: 3.1241 - val_mae: 1.5609 - lr: 0.0010\n",
            "Epoch 50/500\n",
            "8/8 [==============================] - 0s 25ms/step - loss: 1.8120 - mae: 1.1321 - val_loss: 3.1176 - val_mae: 1.5553 - lr: 0.0010\n",
            "Epoch 51/500\n",
            "8/8 [==============================] - 0s 24ms/step - loss: 1.7642 - mae: 1.1096 - val_loss: 3.1120 - val_mae: 1.5498 - lr: 0.0010\n",
            "Epoch 52/500\n",
            "8/8 [==============================] - 0s 25ms/step - loss: 1.7182 - mae: 1.0875 - val_loss: 3.1071 - val_mae: 1.5446 - lr: 0.0010\n",
            "Epoch 53/500\n",
            "8/8 [==============================] - 0s 24ms/step - loss: 1.6740 - mae: 1.0659 - val_loss: 3.1030 - val_mae: 1.5396 - lr: 0.0010\n",
            "Epoch 54/500\n",
            "8/8 [==============================] - 0s 25ms/step - loss: 1.6317 - mae: 1.0449 - val_loss: 3.0996 - val_mae: 1.5348 - lr: 0.0010\n",
            "Epoch 55/500\n",
            "8/8 [==============================] - 0s 25ms/step - loss: 1.5911 - mae: 1.0242 - val_loss: 3.0969 - val_mae: 1.5302 - lr: 0.0010\n",
            "Epoch 56/500\n",
            "8/8 [==============================] - 0s 24ms/step - loss: 1.5522 - mae: 1.0042 - val_loss: 3.0948 - val_mae: 1.5258 - lr: 0.0010\n",
            "Epoch 57/500\n",
            "8/8 [==============================] - 0s 25ms/step - loss: 1.5150 - mae: 0.9846 - val_loss: 3.0932 - val_mae: 1.5216 - lr: 0.0010\n",
            "Epoch 58/500\n",
            "8/8 [==============================] - 0s 26ms/step - loss: 1.4794 - mae: 0.9655 - val_loss: 3.0921 - val_mae: 1.5176 - lr: 0.0010\n",
            "Epoch 59/500\n",
            "8/8 [==============================] - 0s 24ms/step - loss: 1.4453 - mae: 0.9469 - val_loss: 3.0915 - val_mae: 1.5137 - lr: 0.0010\n",
            "Epoch 60/500\n",
            "8/8 [==============================] - 0s 24ms/step - loss: 1.4127 - mae: 0.9289 - val_loss: 3.0913 - val_mae: 1.5100 - lr: 0.0010\n",
            "Epoch 61/500\n",
            "8/8 [==============================] - 0s 24ms/step - loss: 1.3816 - mae: 0.9113 - val_loss: 3.0915 - val_mae: 1.5065 - lr: 0.0010\n",
            "Epoch 62/500\n",
            "8/8 [==============================] - 0s 24ms/step - loss: 1.3518 - mae: 0.8943 - val_loss: 3.0921 - val_mae: 1.5031 - lr: 0.0010\n",
            "Epoch 63/500\n",
            "8/8 [==============================] - 0s 24ms/step - loss: 1.3233 - mae: 0.8777 - val_loss: 3.0930 - val_mae: 1.4998 - lr: 0.0010\n",
            "Epoch 64/500\n",
            "8/8 [==============================] - 0s 24ms/step - loss: 1.2961 - mae: 0.8617 - val_loss: 3.0942 - val_mae: 1.4966 - lr: 0.0010\n",
            "Epoch 65/500\n",
            "8/8 [==============================] - 0s 25ms/step - loss: 1.2700 - mae: 0.8461 - val_loss: 3.0957 - val_mae: 1.4936 - lr: 0.0010\n",
            "Epoch 66/500\n",
            "8/8 [==============================] - 0s 25ms/step - loss: 1.2451 - mae: 0.8309 - val_loss: 3.0974 - val_mae: 1.4908 - lr: 0.0010\n",
            "Epoch 67/500\n",
            "8/8 [==============================] - 0s 25ms/step - loss: 1.2214 - mae: 0.8162 - val_loss: 3.0993 - val_mae: 1.4880 - lr: 0.0010\n",
            "Epoch 68/500\n",
            "8/8 [==============================] - 0s 24ms/step - loss: 1.1986 - mae: 0.8020 - val_loss: 3.1014 - val_mae: 1.4855 - lr: 0.0010\n",
            "Epoch 69/500\n",
            "8/8 [==============================] - 0s 24ms/step - loss: 1.1769 - mae: 0.7882 - val_loss: 3.1036 - val_mae: 1.4831 - lr: 0.0010\n",
            "Epoch 70/500\n",
            "8/8 [==============================] - 0s 25ms/step - loss: 1.1561 - mae: 0.7748 - val_loss: 3.1061 - val_mae: 1.4808 - lr: 0.0010\n",
            "Epoch 71/500\n",
            "8/8 [==============================] - 0s 25ms/step - loss: 1.1362 - mae: 0.7618 - val_loss: 3.1086 - val_mae: 1.4785 - lr: 0.0010\n",
            "Epoch 72/500\n",
            "8/8 [==============================] - 0s 24ms/step - loss: 1.1171 - mae: 0.7492 - val_loss: 3.1112 - val_mae: 1.4763 - lr: 0.0010\n",
            "Epoch 73/500\n",
            "8/8 [==============================] - 0s 24ms/step - loss: 1.0989 - mae: 0.7370 - val_loss: 3.1139 - val_mae: 1.4743 - lr: 0.0010\n",
            "Epoch 74/500\n",
            "8/8 [==============================] - 0s 26ms/step - loss: 1.0815 - mae: 0.7251 - val_loss: 3.1166 - val_mae: 1.4723 - lr: 0.0010\n",
            "Epoch 75/500\n",
            "8/8 [==============================] - 0s 25ms/step - loss: 1.0648 - mae: 0.7136 - val_loss: 3.1194 - val_mae: 1.4703 - lr: 0.0010\n",
            "Epoch 76/500\n",
            "8/8 [==============================] - 0s 25ms/step - loss: 1.0488 - mae: 0.7025 - val_loss: 3.1223 - val_mae: 1.4684 - lr: 0.0010\n",
            "Epoch 77/500\n",
            "8/8 [==============================] - 0s 25ms/step - loss: 1.0335 - mae: 0.6917 - val_loss: 3.1252 - val_mae: 1.4666 - lr: 0.0010\n",
            "Epoch 78/500\n",
            "8/8 [==============================] - 0s 27ms/step - loss: 1.0188 - mae: 0.6812 - val_loss: 3.1281 - val_mae: 1.4649 - lr: 0.0010\n",
            "Epoch 79/500\n",
            "8/8 [==============================] - 0s 25ms/step - loss: 1.0047 - mae: 0.6710 - val_loss: 3.1310 - val_mae: 1.4632 - lr: 0.0010\n",
            "Epoch 80/500\n",
            "8/8 [==============================] - 0s 26ms/step - loss: 0.9912 - mae: 0.6612 - val_loss: 3.1339 - val_mae: 1.4616 - lr: 0.0010\n",
            "Epoch 81/500\n",
            "8/8 [==============================] - 0s 25ms/step - loss: 0.9783 - mae: 0.6516 - val_loss: 3.1367 - val_mae: 1.4600 - lr: 0.0010\n",
            "Epoch 82/500\n",
            "8/8 [==============================] - 0s 25ms/step - loss: 0.9659 - mae: 0.6423 - val_loss: 3.1396 - val_mae: 1.4585 - lr: 0.0010\n",
            "Epoch 83/500\n",
            "8/8 [==============================] - 0s 25ms/step - loss: 0.9539 - mae: 0.6334 - val_loss: 3.1425 - val_mae: 1.4570 - lr: 0.0010\n",
            "Epoch 84/500\n",
            "8/8 [==============================] - 0s 25ms/step - loss: 0.9425 - mae: 0.6246 - val_loss: 3.1453 - val_mae: 1.4555 - lr: 0.0010\n",
            "Epoch 85/500\n",
            "8/8 [==============================] - 0s 26ms/step - loss: 0.9315 - mae: 0.6161 - val_loss: 3.1480 - val_mae: 1.4541 - lr: 0.0010\n",
            "Epoch 86/500\n",
            "8/8 [==============================] - 0s 26ms/step - loss: 0.9210 - mae: 0.6079 - val_loss: 3.1507 - val_mae: 1.4528 - lr: 0.0010\n",
            "Epoch 87/500\n",
            "8/8 [==============================] - 0s 24ms/step - loss: 0.9108 - mae: 0.5999 - val_loss: 3.1534 - val_mae: 1.4514 - lr: 0.0010\n",
            "Epoch 88/500\n",
            "8/8 [==============================] - 0s 25ms/step - loss: 0.9011 - mae: 0.5922 - val_loss: 3.1560 - val_mae: 1.4501 - lr: 0.0010\n",
            "Epoch 89/500\n",
            "8/8 [==============================] - 0s 25ms/step - loss: 0.8917 - mae: 0.5847 - val_loss: 3.1585 - val_mae: 1.4489 - lr: 0.0010\n",
            "Epoch 90/500\n",
            "8/8 [==============================] - 0s 25ms/step - loss: 0.8826 - mae: 0.5774 - val_loss: 3.1610 - val_mae: 1.4476 - lr: 0.0010\n",
            "Epoch 91/500\n",
            "8/8 [==============================] - 0s 26ms/step - loss: 0.8740 - mae: 0.5703 - val_loss: 3.1635 - val_mae: 1.4464 - lr: 0.0010\n",
            "Epoch 92/500\n",
            "8/8 [==============================] - 0s 25ms/step - loss: 0.8656 - mae: 0.5634 - val_loss: 3.1658 - val_mae: 1.4453 - lr: 0.0010\n",
            "Epoch 93/500\n",
            "8/8 [==============================] - 0s 24ms/step - loss: 0.8575 - mae: 0.5567 - val_loss: 3.1681 - val_mae: 1.4441 - lr: 0.0010\n",
            "Epoch 94/500\n",
            "8/8 [==============================] - 0s 25ms/step - loss: 0.8497 - mae: 0.5502 - val_loss: 3.1703 - val_mae: 1.4430 - lr: 0.0010\n",
            "Epoch 95/500\n",
            "8/8 [==============================] - 0s 25ms/step - loss: 0.8422 - mae: 0.5439 - val_loss: 3.1725 - val_mae: 1.4419 - lr: 0.0010\n",
            "Epoch 96/500\n",
            "8/8 [==============================] - 0s 24ms/step - loss: 0.8350 - mae: 0.5378 - val_loss: 3.1745 - val_mae: 1.4409 - lr: 0.0010\n",
            "Epoch 97/500\n",
            "8/8 [==============================] - 0s 25ms/step - loss: 0.8280 - mae: 0.5318 - val_loss: 3.1765 - val_mae: 1.4398 - lr: 0.0010\n",
            "Epoch 98/500\n",
            "8/8 [==============================] - 0s 24ms/step - loss: 0.8213 - mae: 0.5260 - val_loss: 3.1784 - val_mae: 1.4388 - lr: 0.0010\n",
            "Epoch 99/500\n",
            "8/8 [==============================] - 0s 26ms/step - loss: 0.8148 - mae: 0.5204 - val_loss: 3.1802 - val_mae: 1.4378 - lr: 0.0010\n",
            "Epoch 100/500\n",
            "8/8 [==============================] - 0s 24ms/step - loss: 0.8085 - mae: 0.5150 - val_loss: 3.1819 - val_mae: 1.4368 - lr: 0.0010\n",
            "Epoch 101/500\n",
            "8/8 [==============================] - 0s 24ms/step - loss: 0.8024 - mae: 0.5096 - val_loss: 3.1836 - val_mae: 1.4358 - lr: 0.0010\n",
            "Epoch 102/500\n",
            "8/8 [==============================] - 0s 24ms/step - loss: 0.7965 - mae: 0.5045 - val_loss: 3.1851 - val_mae: 1.4349 - lr: 0.0010\n",
            "Epoch 103/500\n",
            "8/8 [==============================] - 0s 24ms/step - loss: 0.7908 - mae: 0.4995 - val_loss: 3.1866 - val_mae: 1.4339 - lr: 0.0010\n",
            "Epoch 104/500\n",
            "8/8 [==============================] - 0s 24ms/step - loss: 0.7853 - mae: 0.4946 - val_loss: 3.1880 - val_mae: 1.4330 - lr: 0.0010\n",
            "Epoch 105/500\n",
            "8/8 [==============================] - 0s 24ms/step - loss: 0.7800 - mae: 0.4898 - val_loss: 3.1893 - val_mae: 1.4321 - lr: 0.0010\n",
            "Epoch 106/500\n",
            "8/8 [==============================] - 0s 23ms/step - loss: 0.7748 - mae: 0.4852 - val_loss: 3.1906 - val_mae: 1.4312 - lr: 0.0010\n",
            "Epoch 107/500\n",
            "8/8 [==============================] - 0s 24ms/step - loss: 0.7698 - mae: 0.4807 - val_loss: 3.1917 - val_mae: 1.4303 - lr: 0.0010\n",
            "Epoch 108/500\n",
            "8/8 [==============================] - 0s 25ms/step - loss: 0.7649 - mae: 0.4763 - val_loss: 3.1928 - val_mae: 1.4294 - lr: 0.0010\n",
            "Epoch 109/500\n",
            "8/8 [==============================] - 0s 25ms/step - loss: 0.7602 - mae: 0.4721 - val_loss: 3.1938 - val_mae: 1.4285 - lr: 0.0010\n",
            "Epoch 110/500\n",
            "8/8 [==============================] - 0s 25ms/step - loss: 0.7556 - mae: 0.4679 - val_loss: 3.1948 - val_mae: 1.4277 - lr: 0.0010\n",
            "CPU times: user 1min 15s, sys: 2.9 s, total: 1min 18s\n",
            "Wall time: 27.4 s\n"
          ]
        },
        {
          "output_type": "execute_result",
          "data": {
            "text/plain": [
              "<keras.src.callbacks.History at 0x7857d51bb7f0>"
            ]
          },
          "metadata": {},
          "execution_count": 10
        }
      ],
      "source": [
        "%%time\n",
        "# Entrenar el modelo con el conjunto de entrenamiento\n",
        "model.fit([user_ids_train, item_ids_train], ratings_train, validation_data=([user_ids_val, item_ids_val], ratings_val), epochs=500,\n",
        "          batch_size=400000, verbose=1, callbacks=[early_stop, reduce_lr])"
      ]
    },
    {
      "cell_type": "code",
      "execution_count": 11,
      "metadata": {
        "colab": {
          "base_uri": "https://localhost:8080/"
        },
        "id": "RnBHBOT1oel0",
        "outputId": "e9d365a8-2da6-4116-e647-15ba0e495047"
      },
      "outputs": [
        {
          "output_type": "stream",
          "name": "stdout",
          "text": [
            "30004/30004 [==============================] - 41s 1ms/step\n"
          ]
        }
      ],
      "source": [
        "y_true = ratings_test\n",
        "predictions = model.predict([user_ids_test, item_ids_test])"
      ]
    },
    {
      "cell_type": "code",
      "execution_count": 12,
      "metadata": {
        "colab": {
          "base_uri": "https://localhost:8080/"
        },
        "id": "SMJd_nt7g5h4",
        "outputId": "87d7eecd-1d45-4799-d2d5-dfac05a41fab"
      },
      "outputs": [
        {
          "output_type": "stream",
          "name": "stdout",
          "text": [
            "30004/30004 [==============================] - 79s 3ms/step - loss: 3.1913 - mae: 1.4264\n",
            "Test Loss: 3.1913\n",
            "Test MAE: 1.4264\n"
          ]
        }
      ],
      "source": [
        "# Evaluar el modelo con el conjunto de prueba\n",
        "loss, mae = model.evaluate([user_ids_test, item_ids_test], ratings_test)\n",
        "print(f'Test Loss: {loss:.4f}')\n",
        "print(f'Test MAE: {mae:.4f}')"
      ]
    },
    {
      "cell_type": "code",
      "execution_count": 13,
      "metadata": {
        "colab": {
          "base_uri": "https://localhost:8080/"
        },
        "id": "USnKRkm0KCdW",
        "outputId": "de2ea7b3-ddb4-4566-e464-82e2215c8d9d"
      },
      "outputs": [
        {
          "output_type": "stream",
          "name": "stdout",
          "text": [
            "MSE: 2.7699\n",
            "RMSE: 1.6643\n",
            "MAE: 1.4264\n",
            "MAPE: 39.78%\n"
          ]
        }
      ],
      "source": [
        "# MSE\n",
        "mse = mean_squared_error(y_true, predictions)\n",
        "print(f\"MSE: {mse:.4f}\")\n",
        "\n",
        "# RMSE\n",
        "rmse = np.sqrt(mse)\n",
        "print(f\"RMSE: {rmse:.4f}\")\n",
        "\n",
        "# MAE\n",
        "mae = mean_absolute_error(y_true, predictions)\n",
        "print(f\"MAE: {mae:.4f}\")\n",
        "\n",
        "# MAPE (Mean Absolute Percentage Error)\n",
        "mape = np.mean(np.abs((y_true - predictions.flatten()) / y_true)) * 100\n",
        "print(f\"MAPE: {mape:.2f}%\")"
      ]
    },
    {
      "cell_type": "markdown",
      "source": [
        "# Recomedanción"
      ],
      "metadata": {
        "id": "W1hoVgKNyGKF"
      }
    },
    {
      "cell_type": "code",
      "source": [
        "# Seleccionar un usuario al azar del conjunto de prueba\n",
        "usuario_id_test_encoded = random.choice(user_ids_test)\n",
        "\n",
        "# Decodificar el ID del usuario para obtener el ID original\n",
        "usuario_id_test = reviewerID_encoder.inverse_transform([usuario_id_test_encoded])[0]\n",
        "\n",
        "# Identificar los ítems que el usuario ha calificado en el conjunto de prueba\n",
        "indices_usuario = np.where(user_ids_test == usuario_id_test_encoded)[0]\n",
        "items_calificados_test_encoded = item_ids_test[indices_usuario]\n",
        "calificaciones_reales_test = ratings_test[indices_usuario]\n",
        "\n",
        "# Predecir las calificaciones para estos ítems\n",
        "calificaciones_predichas = model.predict([np.array([usuario_id_test_encoded] * len(items_calificados_test_encoded)), items_calificados_test_encoded])\n",
        "\n",
        "# Decodificar los ítems para obtener los ID originales\n",
        "items_calificados_test = asin_encoder.inverse_transform(items_calificados_test_encoded)\n",
        "\n",
        "# Comparar las calificaciones predichas con las reales\n",
        "comparacion = list(zip(items_calificados_test, calificaciones_reales_test, calificaciones_predichas.flatten()))\n",
        "\n",
        "# Suponiendo que 'items_calificados_test' contiene los IDs originales de los ítems\n",
        "recomendaciones_df = pd.DataFrame({\n",
        "    'asin': items_calificados_test,\n",
        "    'Calificación Real': calificaciones_reales_test,\n",
        "    'Calificación Predicha': calificaciones_predichas.flatten()\n",
        "})\n",
        "\n",
        "recomendaciones_df = recomendaciones_df.merge(sentimiento[['asin', 'cluster']], on='asin', how='left')\n",
        "recomendaciones_df.rename(columns={'cluster': 'Sentimiento'}, inplace=True)\n",
        "\n",
        "# Mostrar las recomendaciones\n",
        "print(f\"Recomendaciones para el usuario {usuario_id_test}:\")\n",
        "for index, row in recomendaciones_df.iterrows():\n",
        "    print(f\"Ítem: {row['asin']}, Calificación Real: {row['Calificación Real']}, Calificación Predicha: {row['Calificación Predicha']}, Sentimiento: {row['Sentimiento']}\")"
      ],
      "metadata": {
        "colab": {
          "base_uri": "https://localhost:8080/"
        },
        "id": "pD6RZOLAyDpw",
        "outputId": "ef1080d4-18a0-4b32-8077-742676d7767b"
      },
      "execution_count": 17,
      "outputs": [
        {
          "output_type": "stream",
          "name": "stdout",
          "text": [
            "1/1 [==============================] - 0s 29ms/step\n",
            "Recomendaciones para el usuario A1W2AMOWWC3Z8B:\n",
            "Ítem: B00OQ06Y6E, Calificación Real: 4.0, Calificación Predicha: 3.1231608390808105, Sentimiento: Neutro\n"
          ]
        }
      ]
    },
    {
      "cell_type": "code",
      "source": [
        "# Seleccionar un usuario al azar del conjunto de prueba\n",
        "usuario_id_test_encoded = random.choice(user_ids_test)\n",
        "\n",
        "# Decodificar el ID del usuario para obtener el ID original\n",
        "usuario_id = reviewerID_encoder.inverse_transform([usuario_id_test_encoded])[0]\n",
        "\n",
        "# Lista de todos los ítems únicos en el dataset\n",
        "items_unicos = np.unique(data['asin'].values)\n",
        "\n",
        "# Ítems que el usuario ya ha calificado\n",
        "items_calificados = data[data['reviewerID_encoded'] == usuario_id_test_encoded]['asin'].tolist()\n",
        "\n",
        "# Ítems para predecir\n",
        "items_a_predecir = [item for item in items_unicos if item not in items_calificados]\n",
        "\n",
        "# Convierte los ítems a su representación codificada\n",
        "items_a_predecir_encoded = asin_encoder.transform(items_a_predecir)\n",
        "\n",
        "# Predecir la calificación para cada ítem no calificado\n",
        "predicciones = model.predict([np.array([usuario_id_test_encoded] * len(items_a_predecir_encoded)), items_a_predecir_encoded])\n",
        "\n",
        "# Emparejar cada ítem con su predicción\n",
        "items_predicciones = list(zip(items_a_predecir, predicciones.flatten()))\n",
        "\n",
        "# Ordenar por la calificación predicha más alta\n",
        "items_recomendados = sorted(items_predicciones, key=lambda x: x[1], reverse=True)\n",
        "\n",
        "# Tomar los top N recomendaciones\n",
        "top_n = 5\n",
        "top_recomendaciones = items_recomendados[:top_n]\n",
        "\n",
        "# Crear un DataFrame a partir de las recomendaciones\n",
        "recomendaciones_df = pd.DataFrame(top_recomendaciones, columns=['asin', 'Calificación Predicha'])\n",
        "\n",
        "# Unir con el DataFrame 'sentimiento' para obtener el sentimiento asociado a cada ítem\n",
        "recomendaciones_df = recomendaciones_df.merge(sentimiento[['asin', 'cluster']], on='asin', how='left')\n",
        "\n",
        "# Renombrar la columna 'cluster' a 'Sentimiento' para claridad\n",
        "recomendaciones_df.rename(columns={'cluster': 'Sentimiento'}, inplace=True)\n",
        "\n",
        "# Mostrar las recomendaciones con el sentimiento\n",
        "print(f\"Recomendaciones para el usuario {usuario_id}:\")\n",
        "for index, row in recomendaciones_df.iterrows():\n",
        "    print(f\"Ítem: {row['asin']}, Calificación Predicha: {row['Calificación Predicha']}, Sentimiento: {row['Sentimiento']}\")"
      ],
      "metadata": {
        "colab": {
          "base_uri": "https://localhost:8080/"
        },
        "id": "zwXhZlKlz-9I",
        "outputId": "33e962c3-1668-4827-8459-3aa55b01d657"
      },
      "execution_count": 18,
      "outputs": [
        {
          "output_type": "stream",
          "name": "stdout",
          "text": [
            "4814/4814 [==============================] - 7s 1ms/step\n",
            "Recomendaciones para el usuario A3J26SOBB0Q1YD:\n",
            "Ítem: B0082C62BO, Calificación Predicha: 3.115880250930786, Sentimiento: Neutro\n",
            "Ítem: B004XTX0VA, Calificación Predicha: 3.115879535675049, Sentimiento: Neutro\n",
            "Ítem: B00UQHC5G4, Calificación Predicha: 3.1158792972564697, Sentimiento: Positivo\n",
            "Ítem: B001T0HHDS, Calificación Predicha: 3.1158783435821533, Sentimiento: Neutro\n",
            "Ítem: B00CNE2GOO, Calificación Predicha: 3.1158783435821533, Sentimiento: Neutro\n"
          ]
        }
      ]
    },
    {
      "cell_type": "markdown",
      "metadata": {
        "id": "odgbIWArkJ2y"
      },
      "source": [
        "# Modelo de Filtrado Colaborativo usando Red Neuronal Multicapa con Keras:"
      ]
    },
    {
      "cell_type": "markdown",
      "metadata": {
        "id": "vBK_zPK7lvti"
      },
      "source": [
        "Funcionamiento:\n",
        "\n",
        "Estos sistemas toman características de los ítems y/o usuarios y las pasan a través de una o varias capas de neuronas para obtener una predicción.\n",
        "Las redes neuronales son capaces de capturar interacciones no lineales entre características, lo que las hace poderosas para tareas de modelado complejas.\n",
        "\n",
        "Ventajas:\n",
        "\n",
        "Capacidad de modelar relaciones no lineales.\n",
        "\n",
        "Flexibilidad para incorporar múltiples fuentes de datos o características.\n",
        "\n",
        "Puede manejar arranques en frío al incorporar características de nuevos ítems o usuarios.\n",
        "\n",
        "Desventajas:\n",
        "\n",
        "Mayor costo computacional en comparación con los sistemas basados únicamente en embeddings.\n",
        "\n",
        "Riesgo de sobreajuste si no se tiene un conjunto de datos lo suficientemente grande."
      ]
    },
    {
      "cell_type": "markdown",
      "metadata": {
        "id": "YMnns-ENh_KJ"
      },
      "source": [
        "Ahora el código incluye regularización en los embeddings, early stopping para detener el entrenamiento si el modelo deja de mejorar en el conjunto de validación, y reducción de la tasa de aprendizaje si el error en el conjunto de validación no mejora después de algunas épocas. Estas adiciones deberían ayudar a mejorar la capacidad de generalización del modelo."
      ]
    },
    {
      "cell_type": "code",
      "execution_count": 19,
      "metadata": {
        "id": "ZFgVZSeTkKGy"
      },
      "outputs": [],
      "source": [
        "df['user_id'] = df['reviewerID'].astype('category').cat.codes.values\n",
        "df['item_id'] = df['asin'].astype('category').cat.codes.values\n",
        "\n",
        "# Número de usuarios e ítems\n",
        "n_users = df['user_id'].nunique()\n",
        "n_items = df['item_id'].nunique()\n",
        "\n",
        "# Hiperparámetros\n",
        "hidden_units = [128, 64, 32]\n",
        "dropout_rate = 0.2\n",
        "l2_reg = 1e-6\n",
        "\n",
        "# Arquitectura del modelo\n",
        "user_input = Input(shape=[1], name='user_input')\n",
        "item_input = Input(shape=[1], name='item_input')\n",
        "concat = Concatenate()([user_input, item_input])\n",
        "dense = concat\n",
        "for units in hidden_units:\n",
        "    dense = Dense(units, activation='relu', kernel_regularizer=l2(l2_reg))(dense)\n",
        "    dense = Dropout(dropout_rate)(dense)\n",
        "\n",
        "# Agregar una capa de activación sigmoid y escalar a [0, 5]\n",
        "output = Dense(1, activation='sigmoid', kernel_regularizer=l2(l2_reg))(dense)  # Función de activación sigmoid\n",
        "output = Lambda(lambda x: x * 5)(output)  # Escalar las predicciones al rango [0, 5]\n",
        "\n",
        "model = Model(inputs=[user_input, item_input], outputs=output)\n",
        "model.compile(optimizer=Adam(0.001), loss='mean_squared_error')"
      ]
    },
    {
      "cell_type": "code",
      "execution_count": 20,
      "metadata": {
        "id": "N7uvl8VEhqdD"
      },
      "outputs": [],
      "source": [
        "# Callbacks\n",
        "early_stop = EarlyStopping(monitor='val_loss', patience=50)\n",
        "reduce_lr = ReduceLROnPlateau(monitor='val_loss', factor=0.2, patience=50, min_lr=1e-5)"
      ]
    },
    {
      "cell_type": "code",
      "execution_count": 21,
      "metadata": {
        "id": "blU4Q9akkVBc"
      },
      "outputs": [],
      "source": [
        "# Datos para entrenamiento\n",
        "user_data = df['user_id'].values\n",
        "item_data = df['item_id'].values\n",
        "rating_data = df['overall'].values\n",
        "\n",
        "# División en entrenamiento y prueba\n",
        "(user_ids_temp, user_ids_test, item_ids_temp, item_ids_test, ratings_temp, ratings_test) = train_test_split(\n",
        "    user_ids, item_ids, ratings, test_size=0.2, random_state=42)\n",
        "\n",
        "# División del conjunto de entrenamiento en entrenamiento y validación\n",
        "(user_ids_train, user_ids_val, item_ids_train, item_ids_val, ratings_train, ratings_val) = train_test_split(\n",
        "    user_ids_temp, item_ids_temp, ratings_temp, test_size=0.25, random_state=42)  # 0.25 x 0.8 = 0.2"
      ]
    },
    {
      "cell_type": "code",
      "execution_count": 22,
      "metadata": {
        "colab": {
          "base_uri": "https://localhost:8080/"
        },
        "id": "kGxLwUhzf32z",
        "outputId": "0889c6ea-5aa0-4a63-ea22-f9e1bc7b9531"
      },
      "outputs": [
        {
          "output_type": "stream",
          "name": "stdout",
          "text": [
            "Epoch 1/500\n",
            "8/8 [==============================] - 3s 77ms/step - loss: 3.9260 - val_loss: 1.8981 - lr: 0.0010\n",
            "Epoch 2/500\n",
            "8/8 [==============================] - 0s 50ms/step - loss: 1.9272 - val_loss: 1.8981 - lr: 0.0010\n",
            "Epoch 3/500\n",
            "8/8 [==============================] - 0s 52ms/step - loss: 1.9110 - val_loss: 1.8981 - lr: 0.0010\n",
            "Epoch 4/500\n",
            "8/8 [==============================] - 0s 52ms/step - loss: 1.9098 - val_loss: 1.8981 - lr: 0.0010\n",
            "Epoch 5/500\n",
            "8/8 [==============================] - 0s 51ms/step - loss: 1.9095 - val_loss: 1.8981 - lr: 0.0010\n",
            "Epoch 6/500\n",
            "8/8 [==============================] - 0s 51ms/step - loss: 1.9094 - val_loss: 1.8981 - lr: 0.0010\n",
            "Epoch 7/500\n",
            "8/8 [==============================] - 0s 51ms/step - loss: 1.9094 - val_loss: 1.8981 - lr: 0.0010\n",
            "Epoch 8/500\n",
            "8/8 [==============================] - 0s 51ms/step - loss: 1.9093 - val_loss: 1.8981 - lr: 0.0010\n",
            "Epoch 9/500\n",
            "8/8 [==============================] - 0s 51ms/step - loss: 1.9094 - val_loss: 1.8981 - lr: 0.0010\n",
            "Epoch 10/500\n",
            "8/8 [==============================] - 0s 51ms/step - loss: 1.9093 - val_loss: 1.8981 - lr: 0.0010\n",
            "Epoch 11/500\n",
            "8/8 [==============================] - 0s 52ms/step - loss: 1.9093 - val_loss: 1.8981 - lr: 0.0010\n",
            "Epoch 12/500\n",
            "8/8 [==============================] - 0s 52ms/step - loss: 1.9094 - val_loss: 1.8981 - lr: 0.0010\n",
            "Epoch 13/500\n",
            "8/8 [==============================] - 0s 51ms/step - loss: 1.9093 - val_loss: 1.8981 - lr: 0.0010\n",
            "Epoch 14/500\n",
            "8/8 [==============================] - 0s 51ms/step - loss: 1.9093 - val_loss: 1.8981 - lr: 0.0010\n",
            "Epoch 15/500\n",
            "8/8 [==============================] - 0s 51ms/step - loss: 1.9094 - val_loss: 1.8981 - lr: 0.0010\n",
            "Epoch 16/500\n",
            "8/8 [==============================] - 0s 52ms/step - loss: 1.9093 - val_loss: 1.8981 - lr: 0.0010\n",
            "Epoch 17/500\n",
            "8/8 [==============================] - 0s 51ms/step - loss: 1.9094 - val_loss: 1.8981 - lr: 0.0010\n",
            "Epoch 18/500\n",
            "8/8 [==============================] - 0s 51ms/step - loss: 1.9093 - val_loss: 1.8981 - lr: 0.0010\n",
            "Epoch 19/500\n",
            "8/8 [==============================] - 0s 52ms/step - loss: 1.9094 - val_loss: 1.8981 - lr: 0.0010\n",
            "Epoch 20/500\n",
            "8/8 [==============================] - 0s 51ms/step - loss: 1.9093 - val_loss: 1.8981 - lr: 0.0010\n",
            "Epoch 21/500\n",
            "8/8 [==============================] - 0s 52ms/step - loss: 1.9093 - val_loss: 1.8981 - lr: 0.0010\n",
            "Epoch 22/500\n",
            "8/8 [==============================] - 0s 52ms/step - loss: 1.9093 - val_loss: 1.8981 - lr: 0.0010\n",
            "Epoch 23/500\n",
            "8/8 [==============================] - 0s 51ms/step - loss: 1.9093 - val_loss: 1.8981 - lr: 0.0010\n",
            "Epoch 24/500\n",
            "8/8 [==============================] - 0s 51ms/step - loss: 1.9094 - val_loss: 1.8981 - lr: 0.0010\n",
            "Epoch 25/500\n",
            "8/8 [==============================] - 0s 51ms/step - loss: 1.9094 - val_loss: 1.8981 - lr: 0.0010\n",
            "Epoch 26/500\n",
            "8/8 [==============================] - 0s 51ms/step - loss: 1.9094 - val_loss: 1.8981 - lr: 0.0010\n",
            "Epoch 27/500\n",
            "8/8 [==============================] - 0s 51ms/step - loss: 1.9094 - val_loss: 1.8981 - lr: 0.0010\n",
            "Epoch 28/500\n",
            "8/8 [==============================] - 0s 51ms/step - loss: 1.9093 - val_loss: 1.8981 - lr: 0.0010\n",
            "Epoch 29/500\n",
            "8/8 [==============================] - 0s 51ms/step - loss: 1.9094 - val_loss: 1.8981 - lr: 0.0010\n",
            "Epoch 30/500\n",
            "8/8 [==============================] - 0s 51ms/step - loss: 1.9094 - val_loss: 1.8981 - lr: 0.0010\n",
            "Epoch 31/500\n",
            "8/8 [==============================] - 0s 51ms/step - loss: 1.9093 - val_loss: 1.8981 - lr: 0.0010\n",
            "Epoch 32/500\n",
            "8/8 [==============================] - 0s 51ms/step - loss: 1.9093 - val_loss: 1.8981 - lr: 0.0010\n",
            "Epoch 33/500\n",
            "8/8 [==============================] - 0s 51ms/step - loss: 1.9094 - val_loss: 1.8981 - lr: 0.0010\n",
            "Epoch 34/500\n",
            "8/8 [==============================] - 0s 51ms/step - loss: 1.9093 - val_loss: 1.8981 - lr: 0.0010\n",
            "Epoch 35/500\n",
            "8/8 [==============================] - 0s 51ms/step - loss: 1.9093 - val_loss: 1.8981 - lr: 0.0010\n",
            "Epoch 36/500\n",
            "8/8 [==============================] - 0s 51ms/step - loss: 1.9093 - val_loss: 1.8981 - lr: 0.0010\n",
            "Epoch 37/500\n",
            "8/8 [==============================] - 0s 51ms/step - loss: 1.9093 - val_loss: 1.8981 - lr: 0.0010\n",
            "Epoch 38/500\n",
            "8/8 [==============================] - 0s 51ms/step - loss: 1.9093 - val_loss: 1.8981 - lr: 0.0010\n",
            "Epoch 39/500\n",
            "8/8 [==============================] - 0s 51ms/step - loss: 1.9093 - val_loss: 1.8981 - lr: 0.0010\n",
            "Epoch 40/500\n",
            "8/8 [==============================] - 0s 51ms/step - loss: 1.9093 - val_loss: 1.8981 - lr: 0.0010\n",
            "Epoch 41/500\n",
            "8/8 [==============================] - 0s 52ms/step - loss: 1.9094 - val_loss: 1.8981 - lr: 0.0010\n",
            "Epoch 42/500\n",
            "8/8 [==============================] - 0s 51ms/step - loss: 1.9094 - val_loss: 1.8981 - lr: 0.0010\n",
            "Epoch 43/500\n",
            "8/8 [==============================] - 0s 52ms/step - loss: 1.9093 - val_loss: 1.8981 - lr: 0.0010\n",
            "Epoch 44/500\n",
            "8/8 [==============================] - 0s 52ms/step - loss: 1.9093 - val_loss: 1.8981 - lr: 0.0010\n",
            "Epoch 45/500\n",
            "8/8 [==============================] - 0s 51ms/step - loss: 1.9094 - val_loss: 1.8981 - lr: 0.0010\n",
            "Epoch 46/500\n",
            "8/8 [==============================] - 0s 51ms/step - loss: 1.9093 - val_loss: 1.8981 - lr: 0.0010\n",
            "Epoch 47/500\n",
            "8/8 [==============================] - 0s 52ms/step - loss: 1.9093 - val_loss: 1.8981 - lr: 0.0010\n",
            "Epoch 48/500\n",
            "8/8 [==============================] - 0s 52ms/step - loss: 1.9093 - val_loss: 1.8981 - lr: 0.0010\n",
            "Epoch 49/500\n",
            "8/8 [==============================] - 0s 51ms/step - loss: 1.9093 - val_loss: 1.8981 - lr: 0.0010\n",
            "Epoch 50/500\n",
            "8/8 [==============================] - 0s 53ms/step - loss: 1.9092 - val_loss: 1.8981 - lr: 0.0010\n",
            "Epoch 51/500\n",
            "8/8 [==============================] - 0s 52ms/step - loss: 1.9093 - val_loss: 1.8981 - lr: 0.0010\n",
            "Epoch 52/500\n",
            "8/8 [==============================] - 0s 51ms/step - loss: 1.9093 - val_loss: 1.8981 - lr: 2.0000e-04\n",
            "Epoch 53/500\n",
            "8/8 [==============================] - 0s 51ms/step - loss: 1.9094 - val_loss: 1.8981 - lr: 2.0000e-04\n",
            "Epoch 54/500\n",
            "8/8 [==============================] - 0s 52ms/step - loss: 1.9093 - val_loss: 1.8981 - lr: 2.0000e-04\n",
            "Epoch 55/500\n",
            "8/8 [==============================] - 0s 52ms/step - loss: 1.9093 - val_loss: 1.8981 - lr: 2.0000e-04\n",
            "Epoch 56/500\n",
            "8/8 [==============================] - 0s 51ms/step - loss: 1.9093 - val_loss: 1.8981 - lr: 2.0000e-04\n",
            "Epoch 57/500\n",
            "8/8 [==============================] - 0s 52ms/step - loss: 1.9094 - val_loss: 1.8981 - lr: 2.0000e-04\n",
            "Epoch 58/500\n",
            "8/8 [==============================] - 0s 51ms/step - loss: 1.9093 - val_loss: 1.8981 - lr: 2.0000e-04\n",
            "Epoch 59/500\n",
            "8/8 [==============================] - 0s 51ms/step - loss: 1.9093 - val_loss: 1.8981 - lr: 2.0000e-04\n",
            "Epoch 60/500\n",
            "8/8 [==============================] - 0s 51ms/step - loss: 1.9094 - val_loss: 1.8981 - lr: 2.0000e-04\n",
            "Epoch 61/500\n",
            "8/8 [==============================] - 0s 51ms/step - loss: 1.9093 - val_loss: 1.8981 - lr: 2.0000e-04\n",
            "Epoch 62/500\n",
            "8/8 [==============================] - 0s 51ms/step - loss: 1.9093 - val_loss: 1.8981 - lr: 2.0000e-04\n",
            "Epoch 63/500\n",
            "8/8 [==============================] - 0s 51ms/step - loss: 1.9093 - val_loss: 1.8981 - lr: 2.0000e-04\n",
            "Epoch 64/500\n",
            "8/8 [==============================] - 0s 52ms/step - loss: 1.9093 - val_loss: 1.8981 - lr: 2.0000e-04\n",
            "Epoch 65/500\n",
            "8/8 [==============================] - 0s 51ms/step - loss: 1.9093 - val_loss: 1.8981 - lr: 2.0000e-04\n",
            "Epoch 66/500\n",
            "8/8 [==============================] - 0s 51ms/step - loss: 1.9092 - val_loss: 1.8981 - lr: 2.0000e-04\n",
            "Epoch 67/500\n",
            "8/8 [==============================] - 0s 52ms/step - loss: 1.9093 - val_loss: 1.8981 - lr: 2.0000e-04\n",
            "Epoch 68/500\n",
            "8/8 [==============================] - 0s 51ms/step - loss: 1.9093 - val_loss: 1.8981 - lr: 2.0000e-04\n",
            "Epoch 69/500\n",
            "8/8 [==============================] - 0s 51ms/step - loss: 1.9093 - val_loss: 1.8981 - lr: 2.0000e-04\n",
            "Epoch 70/500\n",
            "8/8 [==============================] - 0s 51ms/step - loss: 1.9093 - val_loss: 1.8981 - lr: 2.0000e-04\n",
            "Epoch 71/500\n",
            "8/8 [==============================] - 0s 51ms/step - loss: 1.9093 - val_loss: 1.8981 - lr: 2.0000e-04\n",
            "Epoch 72/500\n",
            "8/8 [==============================] - 0s 52ms/step - loss: 1.9093 - val_loss: 1.8981 - lr: 2.0000e-04\n",
            "Epoch 73/500\n",
            "8/8 [==============================] - 0s 51ms/step - loss: 1.9093 - val_loss: 1.8981 - lr: 2.0000e-04\n",
            "Epoch 74/500\n",
            "8/8 [==============================] - 0s 51ms/step - loss: 1.9093 - val_loss: 1.8981 - lr: 2.0000e-04\n",
            "Epoch 75/500\n",
            "8/8 [==============================] - 0s 51ms/step - loss: 1.9093 - val_loss: 1.8981 - lr: 2.0000e-04\n",
            "Epoch 76/500\n",
            "8/8 [==============================] - 0s 51ms/step - loss: 1.9093 - val_loss: 1.8981 - lr: 2.0000e-04\n",
            "Epoch 77/500\n",
            "8/8 [==============================] - 0s 52ms/step - loss: 1.9093 - val_loss: 1.8981 - lr: 2.0000e-04\n",
            "Epoch 78/500\n",
            "8/8 [==============================] - 0s 51ms/step - loss: 1.9093 - val_loss: 1.8981 - lr: 2.0000e-04\n",
            "Epoch 79/500\n",
            "8/8 [==============================] - 0s 51ms/step - loss: 1.9093 - val_loss: 1.8981 - lr: 2.0000e-04\n",
            "Epoch 80/500\n",
            "8/8 [==============================] - 0s 51ms/step - loss: 1.9093 - val_loss: 1.8981 - lr: 2.0000e-04\n",
            "Epoch 81/500\n",
            "8/8 [==============================] - 0s 51ms/step - loss: 1.9092 - val_loss: 1.8981 - lr: 2.0000e-04\n",
            "Epoch 82/500\n",
            "8/8 [==============================] - 0s 53ms/step - loss: 1.9092 - val_loss: 1.8981 - lr: 2.0000e-04\n",
            "Epoch 83/500\n",
            "8/8 [==============================] - 0s 51ms/step - loss: 1.9093 - val_loss: 1.8981 - lr: 2.0000e-04\n",
            "Epoch 84/500\n",
            "8/8 [==============================] - 0s 51ms/step - loss: 1.9092 - val_loss: 1.8981 - lr: 2.0000e-04\n",
            "Epoch 85/500\n",
            "8/8 [==============================] - 0s 52ms/step - loss: 1.9093 - val_loss: 1.8981 - lr: 2.0000e-04\n",
            "Epoch 86/500\n",
            "8/8 [==============================] - 0s 51ms/step - loss: 1.9092 - val_loss: 1.8981 - lr: 2.0000e-04\n",
            "Epoch 87/500\n",
            "8/8 [==============================] - 0s 52ms/step - loss: 1.9093 - val_loss: 1.8981 - lr: 2.0000e-04\n",
            "Epoch 88/500\n",
            "8/8 [==============================] - 0s 51ms/step - loss: 1.9092 - val_loss: 1.8981 - lr: 2.0000e-04\n",
            "Epoch 89/500\n",
            "8/8 [==============================] - 0s 52ms/step - loss: 1.9092 - val_loss: 1.8981 - lr: 2.0000e-04\n",
            "Epoch 90/500\n",
            "8/8 [==============================] - 0s 51ms/step - loss: 1.9092 - val_loss: 1.8981 - lr: 2.0000e-04\n",
            "Epoch 91/500\n",
            "8/8 [==============================] - 0s 50ms/step - loss: 1.9092 - val_loss: 1.8981 - lr: 2.0000e-04\n",
            "Epoch 92/500\n",
            "8/8 [==============================] - 0s 51ms/step - loss: 1.9092 - val_loss: 1.8981 - lr: 2.0000e-04\n",
            "Epoch 93/500\n",
            "8/8 [==============================] - 0s 51ms/step - loss: 1.9093 - val_loss: 1.8981 - lr: 2.0000e-04\n",
            "Epoch 94/500\n",
            "8/8 [==============================] - 0s 51ms/step - loss: 1.9092 - val_loss: 1.8981 - lr: 2.0000e-04\n",
            "Epoch 95/500\n",
            "8/8 [==============================] - 0s 51ms/step - loss: 1.9092 - val_loss: 1.8981 - lr: 2.0000e-04\n",
            "Epoch 96/500\n",
            "8/8 [==============================] - 0s 51ms/step - loss: 1.9093 - val_loss: 1.8981 - lr: 2.0000e-04\n",
            "Epoch 97/500\n",
            "8/8 [==============================] - 0s 52ms/step - loss: 1.9093 - val_loss: 1.8981 - lr: 2.0000e-04\n",
            "Epoch 98/500\n",
            "8/8 [==============================] - 0s 52ms/step - loss: 1.9092 - val_loss: 1.8981 - lr: 2.0000e-04\n",
            "Epoch 99/500\n",
            "8/8 [==============================] - 0s 52ms/step - loss: 1.9092 - val_loss: 1.8981 - lr: 2.0000e-04\n",
            "Epoch 100/500\n",
            "8/8 [==============================] - 0s 51ms/step - loss: 1.9092 - val_loss: 1.8981 - lr: 2.0000e-04\n",
            "Epoch 101/500\n",
            "8/8 [==============================] - 0s 52ms/step - loss: 1.9092 - val_loss: 1.8981 - lr: 2.0000e-04\n",
            "Epoch 102/500\n",
            "8/8 [==============================] - 0s 51ms/step - loss: 1.9092 - val_loss: 1.8981 - lr: 4.0000e-05\n",
            "Epoch 103/500\n",
            "8/8 [==============================] - 0s 51ms/step - loss: 1.9093 - val_loss: 1.8981 - lr: 4.0000e-05\n",
            "Epoch 104/500\n",
            "8/8 [==============================] - 0s 51ms/step - loss: 1.9092 - val_loss: 1.8981 - lr: 4.0000e-05\n",
            "Epoch 105/500\n",
            "8/8 [==============================] - 0s 52ms/step - loss: 1.9092 - val_loss: 1.8981 - lr: 4.0000e-05\n",
            "Epoch 106/500\n",
            "8/8 [==============================] - 0s 51ms/step - loss: 1.9092 - val_loss: 1.8981 - lr: 4.0000e-05\n",
            "Epoch 107/500\n",
            "8/8 [==============================] - 0s 52ms/step - loss: 1.9092 - val_loss: 1.8981 - lr: 4.0000e-05\n",
            "Epoch 108/500\n",
            "8/8 [==============================] - 0s 51ms/step - loss: 1.9092 - val_loss: 1.8981 - lr: 4.0000e-05\n",
            "Epoch 109/500\n",
            "8/8 [==============================] - 0s 51ms/step - loss: 1.9091 - val_loss: 1.8981 - lr: 4.0000e-05\n",
            "Epoch 110/500\n",
            "8/8 [==============================] - 0s 51ms/step - loss: 1.9093 - val_loss: 1.8981 - lr: 4.0000e-05\n",
            "Epoch 111/500\n",
            "8/8 [==============================] - 0s 51ms/step - loss: 1.9092 - val_loss: 1.8981 - lr: 4.0000e-05\n",
            "Epoch 112/500\n",
            "8/8 [==============================] - 0s 51ms/step - loss: 1.9092 - val_loss: 1.8981 - lr: 4.0000e-05\n",
            "Epoch 113/500\n",
            "8/8 [==============================] - 0s 52ms/step - loss: 1.9092 - val_loss: 1.8981 - lr: 4.0000e-05\n",
            "Epoch 114/500\n",
            "8/8 [==============================] - 0s 51ms/step - loss: 1.9091 - val_loss: 1.8981 - lr: 4.0000e-05\n",
            "Epoch 115/500\n",
            "8/8 [==============================] - 0s 51ms/step - loss: 1.9093 - val_loss: 1.8981 - lr: 4.0000e-05\n",
            "Epoch 116/500\n",
            "8/8 [==============================] - 0s 52ms/step - loss: 1.9092 - val_loss: 1.8981 - lr: 4.0000e-05\n",
            "Epoch 117/500\n",
            "8/8 [==============================] - 0s 51ms/step - loss: 1.9092 - val_loss: 1.8981 - lr: 4.0000e-05\n",
            "Epoch 118/500\n",
            "8/8 [==============================] - 0s 52ms/step - loss: 1.9093 - val_loss: 1.8981 - lr: 4.0000e-05\n",
            "Epoch 119/500\n",
            "8/8 [==============================] - 0s 52ms/step - loss: 1.9093 - val_loss: 1.8981 - lr: 4.0000e-05\n",
            "Epoch 120/500\n",
            "8/8 [==============================] - 0s 51ms/step - loss: 1.9092 - val_loss: 1.8981 - lr: 4.0000e-05\n",
            "Epoch 121/500\n",
            "8/8 [==============================] - 0s 51ms/step - loss: 1.9092 - val_loss: 1.8981 - lr: 4.0000e-05\n",
            "Epoch 122/500\n",
            "8/8 [==============================] - 0s 51ms/step - loss: 1.9092 - val_loss: 1.8981 - lr: 4.0000e-05\n",
            "Epoch 123/500\n",
            "8/8 [==============================] - 0s 53ms/step - loss: 1.9092 - val_loss: 1.8981 - lr: 4.0000e-05\n",
            "Epoch 124/500\n",
            "8/8 [==============================] - 0s 52ms/step - loss: 1.9092 - val_loss: 1.8981 - lr: 4.0000e-05\n",
            "Epoch 125/500\n",
            "8/8 [==============================] - 0s 51ms/step - loss: 1.9093 - val_loss: 1.8981 - lr: 4.0000e-05\n",
            "Epoch 126/500\n",
            "8/8 [==============================] - 0s 51ms/step - loss: 1.9092 - val_loss: 1.8981 - lr: 4.0000e-05\n",
            "Epoch 127/500\n",
            "8/8 [==============================] - 0s 51ms/step - loss: 1.9092 - val_loss: 1.8981 - lr: 4.0000e-05\n",
            "Epoch 128/500\n",
            "8/8 [==============================] - 0s 50ms/step - loss: 1.9092 - val_loss: 1.8981 - lr: 4.0000e-05\n",
            "Epoch 129/500\n",
            "8/8 [==============================] - 0s 51ms/step - loss: 1.9092 - val_loss: 1.8981 - lr: 4.0000e-05\n",
            "Epoch 130/500\n",
            "8/8 [==============================] - 0s 51ms/step - loss: 1.9092 - val_loss: 1.8981 - lr: 4.0000e-05\n",
            "Epoch 131/500\n",
            "8/8 [==============================] - 0s 51ms/step - loss: 1.9093 - val_loss: 1.8981 - lr: 4.0000e-05\n",
            "Epoch 132/500\n",
            "8/8 [==============================] - 0s 51ms/step - loss: 1.9092 - val_loss: 1.8981 - lr: 4.0000e-05\n",
            "Epoch 133/500\n",
            "8/8 [==============================] - 0s 52ms/step - loss: 1.9093 - val_loss: 1.8981 - lr: 4.0000e-05\n",
            "Epoch 134/500\n",
            "8/8 [==============================] - 0s 51ms/step - loss: 1.9092 - val_loss: 1.8981 - lr: 4.0000e-05\n",
            "Epoch 135/500\n",
            "8/8 [==============================] - 0s 51ms/step - loss: 1.9092 - val_loss: 1.8981 - lr: 4.0000e-05\n",
            "Epoch 136/500\n",
            "8/8 [==============================] - 0s 51ms/step - loss: 1.9092 - val_loss: 1.8981 - lr: 4.0000e-05\n",
            "Epoch 137/500\n",
            "8/8 [==============================] - 0s 51ms/step - loss: 1.9092 - val_loss: 1.8981 - lr: 4.0000e-05\n",
            "Epoch 138/500\n",
            "8/8 [==============================] - 0s 51ms/step - loss: 1.9092 - val_loss: 1.8981 - lr: 4.0000e-05\n",
            "Epoch 139/500\n",
            "8/8 [==============================] - 0s 52ms/step - loss: 1.9093 - val_loss: 1.8981 - lr: 4.0000e-05\n",
            "Epoch 140/500\n",
            "8/8 [==============================] - 0s 51ms/step - loss: 1.9092 - val_loss: 1.8981 - lr: 4.0000e-05\n",
            "Epoch 141/500\n",
            "8/8 [==============================] - 0s 51ms/step - loss: 1.9093 - val_loss: 1.8981 - lr: 4.0000e-05\n",
            "Epoch 142/500\n",
            "8/8 [==============================] - 0s 51ms/step - loss: 1.9093 - val_loss: 1.8981 - lr: 4.0000e-05\n",
            "Epoch 143/500\n",
            "8/8 [==============================] - 0s 52ms/step - loss: 1.9092 - val_loss: 1.8981 - lr: 4.0000e-05\n",
            "Epoch 144/500\n",
            "8/8 [==============================] - 0s 51ms/step - loss: 1.9093 - val_loss: 1.8981 - lr: 4.0000e-05\n",
            "Epoch 145/500\n",
            "8/8 [==============================] - 0s 51ms/step - loss: 1.9092 - val_loss: 1.8981 - lr: 4.0000e-05\n",
            "Epoch 146/500\n",
            "8/8 [==============================] - 0s 51ms/step - loss: 1.9093 - val_loss: 1.8981 - lr: 4.0000e-05\n",
            "Epoch 147/500\n",
            "8/8 [==============================] - 0s 51ms/step - loss: 1.9092 - val_loss: 1.8981 - lr: 4.0000e-05\n",
            "Epoch 148/500\n",
            "8/8 [==============================] - 0s 51ms/step - loss: 1.9093 - val_loss: 1.8981 - lr: 4.0000e-05\n",
            "Epoch 149/500\n",
            "8/8 [==============================] - 0s 52ms/step - loss: 1.9092 - val_loss: 1.8981 - lr: 4.0000e-05\n",
            "Epoch 150/500\n",
            "8/8 [==============================] - 0s 52ms/step - loss: 1.9093 - val_loss: 1.8981 - lr: 4.0000e-05\n",
            "Epoch 151/500\n",
            "8/8 [==============================] - 0s 52ms/step - loss: 1.9092 - val_loss: 1.8981 - lr: 4.0000e-05\n",
            "Epoch 152/500\n",
            "8/8 [==============================] - 0s 51ms/step - loss: 1.9092 - val_loss: 1.8981 - lr: 1.0000e-05\n",
            "Epoch 153/500\n",
            "8/8 [==============================] - 0s 52ms/step - loss: 1.9092 - val_loss: 1.8981 - lr: 1.0000e-05\n",
            "Epoch 154/500\n",
            "8/8 [==============================] - 0s 51ms/step - loss: 1.9093 - val_loss: 1.8981 - lr: 1.0000e-05\n",
            "Epoch 155/500\n",
            "8/8 [==============================] - 0s 52ms/step - loss: 1.9093 - val_loss: 1.8981 - lr: 1.0000e-05\n",
            "Epoch 156/500\n",
            "8/8 [==============================] - 0s 51ms/step - loss: 1.9093 - val_loss: 1.8981 - lr: 1.0000e-05\n",
            "Epoch 157/500\n",
            "8/8 [==============================] - 0s 52ms/step - loss: 1.9093 - val_loss: 1.8981 - lr: 1.0000e-05\n",
            "Epoch 158/500\n",
            "8/8 [==============================] - 0s 52ms/step - loss: 1.9092 - val_loss: 1.8981 - lr: 1.0000e-05\n",
            "Epoch 159/500\n",
            "8/8 [==============================] - 0s 51ms/step - loss: 1.9093 - val_loss: 1.8981 - lr: 1.0000e-05\n",
            "Epoch 160/500\n",
            "8/8 [==============================] - 0s 51ms/step - loss: 1.9093 - val_loss: 1.8981 - lr: 1.0000e-05\n",
            "Epoch 161/500\n",
            "8/8 [==============================] - 0s 51ms/step - loss: 1.9092 - val_loss: 1.8981 - lr: 1.0000e-05\n",
            "Epoch 162/500\n",
            "8/8 [==============================] - 0s 51ms/step - loss: 1.9092 - val_loss: 1.8981 - lr: 1.0000e-05\n",
            "Epoch 163/500\n",
            "8/8 [==============================] - 0s 51ms/step - loss: 1.9092 - val_loss: 1.8981 - lr: 1.0000e-05\n",
            "Epoch 164/500\n",
            "8/8 [==============================] - 0s 51ms/step - loss: 1.9093 - val_loss: 1.8981 - lr: 1.0000e-05\n",
            "Epoch 165/500\n",
            "8/8 [==============================] - 0s 51ms/step - loss: 1.9093 - val_loss: 1.8981 - lr: 1.0000e-05\n",
            "Epoch 166/500\n",
            "8/8 [==============================] - 0s 51ms/step - loss: 1.9092 - val_loss: 1.8981 - lr: 1.0000e-05\n",
            "Epoch 167/500\n",
            "8/8 [==============================] - 0s 51ms/step - loss: 1.9093 - val_loss: 1.8981 - lr: 1.0000e-05\n",
            "Epoch 168/500\n",
            "8/8 [==============================] - 0s 52ms/step - loss: 1.9092 - val_loss: 1.8981 - lr: 1.0000e-05\n",
            "Epoch 169/500\n",
            "8/8 [==============================] - 0s 51ms/step - loss: 1.9092 - val_loss: 1.8981 - lr: 1.0000e-05\n",
            "Epoch 170/500\n",
            "8/8 [==============================] - 0s 51ms/step - loss: 1.9092 - val_loss: 1.8981 - lr: 1.0000e-05\n",
            "CPU times: user 2min 4s, sys: 4.48 s, total: 2min 8s\n",
            "Wall time: 1min 11s\n"
          ]
        }
      ],
      "source": [
        "%%time\n",
        "# Entrenamiento del modelo\n",
        "history = model.fit([user_ids_train, item_ids_train], ratings_train,\n",
        "    epochs=500,validation_data=([user_ids_val, item_ids_val], ratings_val),\n",
        "    batch_size=400000,verbose=1,callbacks=[early_stop, reduce_lr])"
      ]
    },
    {
      "cell_type": "code",
      "execution_count": 23,
      "metadata": {
        "colab": {
          "base_uri": "https://localhost:8080/"
        },
        "id": "Rhuwylfbf26k",
        "outputId": "60a38795-b2c6-4aee-8eed-b3b7de272fe8"
      },
      "outputs": [
        {
          "output_type": "stream",
          "name": "stdout",
          "text": [
            "30004/30004 [==============================] - 45s 1ms/step\n"
          ]
        }
      ],
      "source": [
        "# Evaluar el modelo\n",
        "y_true = ratings_test\n",
        "predictions = model.predict([user_ids_test, item_ids_test])"
      ]
    },
    {
      "cell_type": "code",
      "execution_count": 24,
      "metadata": {
        "id": "CmYiE_PhkU66",
        "colab": {
          "base_uri": "https://localhost:8080/"
        },
        "outputId": "d1152569-fb20-4ecf-acf5-00e0db2f3772"
      },
      "outputs": [
        {
          "output_type": "stream",
          "name": "stdout",
          "text": [
            "MSE: 1.91015555428256\n",
            "RMSE: 1.3820837725270345\n",
            "MAE: 0.7401227977898481\n",
            "MAPE: 40.77108911682409%\n"
          ]
        }
      ],
      "source": [
        "# MSE y RMSE\n",
        "mse = mean_squared_error(y_true, predictions)\n",
        "rmse = np.sqrt(mse)\n",
        "\n",
        "# MAE\n",
        "mae = mean_absolute_error(y_true, predictions)\n",
        "\n",
        "# Funciones MAPE\n",
        "def mean_absolute_percentage_error(y_true, y_pred):\n",
        "    y_true, y_pred = np.array(y_true), np.array(y_pred)\n",
        "    non_zero_idx = y_true != 0  # Para evitar divisiones por cero\n",
        "    return np.mean(np.abs((y_true[non_zero_idx] - y_pred[non_zero_idx]) / y_true[non_zero_idx])) * 100\n",
        "\n",
        "def compute_mape_by_batch(y_true, predictions, batch_size=50000):\n",
        "    mape_sum = 0\n",
        "    num_batches = int(np.ceil(len(y_true) / batch_size))\n",
        "\n",
        "    for i in range(num_batches):\n",
        "        start_idx = i * batch_size\n",
        "        end_idx = start_idx + batch_size\n",
        "\n",
        "        batch_y_true = y_true[start_idx:end_idx]\n",
        "        batch_predictions = predictions[start_idx:end_idx]\n",
        "\n",
        "        mape_sum += mean_absolute_percentage_error(batch_y_true, batch_predictions)\n",
        "\n",
        "    return mape_sum / num_batches\n",
        "\n",
        "# Luego llamas a la función\n",
        "mape = compute_mape_by_batch(y_true, predictions)\n",
        "\n",
        "print(f'MSE: {mse}')\n",
        "print(f'RMSE: {rmse}')\n",
        "print(f'MAE: {mae}')\n",
        "print(f'MAPE: {mape}%')"
      ]
    },
    {
      "cell_type": "markdown",
      "source": [
        "# Recomendación"
      ],
      "metadata": {
        "id": "3cpno7_qiX_J"
      }
    },
    {
      "cell_type": "code",
      "source": [
        "# Seleccionar un usuario al azar del conjunto de prueba\n",
        "usuario_id_test_encoded = random.choice(user_ids_test)\n",
        "\n",
        "# Decodificar el ID del usuario para obtener el ID original\n",
        "usuario_id_test = reviewerID_encoder.inverse_transform([usuario_id_test_encoded])[0]\n",
        "\n",
        "# Identificar los ítems que el usuario ha calificado en el conjunto de prueba\n",
        "indices_usuario = np.where(user_ids_test == usuario_id_test_encoded)[0]\n",
        "items_calificados_test_encoded = item_ids_test[indices_usuario]\n",
        "calificaciones_reales_test = ratings_test[indices_usuario]\n",
        "\n",
        "# Predecir las calificaciones para estos ítems\n",
        "calificaciones_predichas = model.predict([np.array([usuario_id_test_encoded] * len(items_calificados_test_encoded)), items_calificados_test_encoded])\n",
        "\n",
        "# Decodificar los ítems para obtener los ID originales\n",
        "items_calificados_test = asin_encoder.inverse_transform(items_calificados_test_encoded)\n",
        "\n",
        "# Comparar las calificaciones predichas con las reales\n",
        "comparacion = list(zip(items_calificados_test, calificaciones_reales_test, calificaciones_predichas.flatten()))\n",
        "\n",
        "# Suponiendo que 'items_calificados_test' contiene los IDs originales de los ítems\n",
        "recomendaciones_df = pd.DataFrame({\n",
        "    'asin': items_calificados_test,\n",
        "    'Calificación Real': calificaciones_reales_test,\n",
        "    'Calificación Predicha': calificaciones_predichas.flatten()\n",
        "})\n",
        "\n",
        "recomendaciones_df = recomendaciones_df.merge(sentimiento[['asin', 'cluster']], on='asin', how='left')\n",
        "recomendaciones_df.rename(columns={'cluster': 'Sentimiento'}, inplace=True)\n",
        "\n",
        "# Mostrar las recomendaciones\n",
        "print(f\"Recomendaciones para el usuario {usuario_id_test}:\")\n",
        "for index, row in recomendaciones_df.iterrows():\n",
        "    print(f\"Ítem: {row['asin']}, Calificación Real: {row['Calificación Real']}, Calificación Predicha: {row['Calificación Predicha']}, Sentimiento: {row['Sentimiento']}\")\n"
      ],
      "metadata": {
        "id": "DVbVdWePiZu2",
        "colab": {
          "base_uri": "https://localhost:8080/"
        },
        "outputId": "e12a6746-8f72-433f-d48c-6c997dd0c0d3"
      },
      "execution_count": 25,
      "outputs": [
        {
          "output_type": "stream",
          "name": "stdout",
          "text": [
            "1/1 [==============================] - 0s 26ms/step\n",
            "Recomendaciones para el usuario A5Q4WL546P0NB:\n",
            "Ítem: B01GI8RYDS, Calificación Real: 4.0, Calificación Predicha: 5.0, Sentimiento: Neutro\n",
            "Ítem: B00O2A1KGW, Calificación Real: 5.0, Calificación Predicha: 5.0, Sentimiento: Neutro\n"
          ]
        }
      ]
    },
    {
      "cell_type": "code",
      "source": [
        "# Seleccionar un usuario al azar del conjunto de prueba\n",
        "usuario_id_test_encoded = random.choice(user_ids_test)\n",
        "\n",
        "# Decodificar el ID del usuario para obtener el ID original\n",
        "usuario_id = reviewerID_encoder.inverse_transform([usuario_id_test_encoded])[0]\n",
        "\n",
        "# Lista de todos los ítems únicos en el dataset\n",
        "items_unicos = np.unique(data['asin'].values)\n",
        "\n",
        "# Ítems que el usuario ya ha calificado\n",
        "items_calificados = data[data['reviewerID_encoded'] == usuario_id_test_encoded]['asin'].tolist()\n",
        "\n",
        "# Ítems para predecir\n",
        "items_a_predecir = [item for item in items_unicos if item not in items_calificados]\n",
        "\n",
        "# Convierte los ítems a su representación codificada\n",
        "items_a_predecir_encoded = asin_encoder.transform(items_a_predecir)\n",
        "\n",
        "# Predecir la calificación para cada ítem no calificado\n",
        "predicciones = model.predict([np.array([usuario_id_test_encoded] * len(items_a_predecir_encoded)), items_a_predecir_encoded])\n",
        "\n",
        "# Emparejar cada ítem con su predicción\n",
        "items_predicciones = list(zip(items_a_predecir, predicciones.flatten()))\n",
        "\n",
        "# Ordenar por la calificación predicha más alta\n",
        "items_recomendados = sorted(items_predicciones, key=lambda x: x[1], reverse=True)\n",
        "\n",
        "# Tomar los top N recomendaciones\n",
        "top_n = 5\n",
        "top_recomendaciones = items_recomendados[:top_n]\n",
        "\n",
        "# Crear un DataFrame a partir de las recomendaciones\n",
        "recomendaciones_df = pd.DataFrame(top_recomendaciones, columns=['asin', 'Calificación Predicha'])\n",
        "\n",
        "# Unir con el DataFrame 'sentimiento' para obtener el sentimiento asociado a cada ítem\n",
        "recomendaciones_df = recomendaciones_df.merge(sentimiento[['asin', 'cluster']], on='asin', how='left')\n",
        "\n",
        "# Renombrar la columna 'cluster' a 'Sentimiento' para claridad\n",
        "recomendaciones_df.rename(columns={'cluster': 'Sentimiento'}, inplace=True)\n",
        "\n",
        "# Mostrar las recomendaciones con el sentimiento\n",
        "print(f\"Recomendaciones para el usuario {usuario_id}:\")\n",
        "for index, row in recomendaciones_df.iterrows():\n",
        "    print(f\"Ítem: {row['asin']}, Calificación Predicha: {row['Calificación Predicha']}, Sentimiento: {row['Sentimiento']}\")"
      ],
      "metadata": {
        "id": "yuFHwPuoiZ_7",
        "colab": {
          "base_uri": "https://localhost:8080/"
        },
        "outputId": "80e7ccf4-8ec4-42eb-faf4-59882abe1c8b"
      },
      "execution_count": 26,
      "outputs": [
        {
          "output_type": "stream",
          "name": "stdout",
          "text": [
            "4814/4814 [==============================] - 7s 2ms/step\n",
            "Recomendaciones para el usuario A2YO3WME7TFXG1:\n",
            "Ítem: 0871167042, Calificación Predicha: 5.0, Sentimiento: Positivo\n",
            "Ítem: 1519588135, Calificación Predicha: 5.0, Sentimiento: Neutro\n",
            "Ítem: 1579652956, Calificación Predicha: 5.0, Sentimiento: Positivo\n",
            "Ítem: 1936023857, Calificación Predicha: 5.0, Sentimiento: Positivo\n",
            "Ítem: 5120053017, Calificación Predicha: 5.0, Sentimiento: Neutro\n"
          ]
        }
      ]
    },
    {
      "cell_type": "markdown",
      "metadata": {
        "id": "WTOAZeGrujrU"
      },
      "source": [
        "# Modelo de Filtrado Colaborativo usando Red Neuronal Multicapa y Embedding con Keras:\n",
        "\n",
        "Otra enfoque popular para filtrado colaborativo es utilizar redes neuronales multicapa, que esencialmente aprenden características no lineales de los datos. Vamos a construir un modelo que fusiona los embeddings de usuarios y artículos (por ejemplo, películas) en una red neuronal densa.\n",
        "\n",
        "Este enfoque, que combina embeddings y redes neuronales multicapa, puede capturar interacciones más complejas y no lineales entre usuarios y artículos. Sin embargo, es crucial prestar atención al sobreajuste y asegurarse de que el modelo no esté simplemente memorizando los datos. Por lo tanto, es recomendable emplear técnicas de regularización, ajustar hiperparámetros y validar el rendimiento con un conjunto de datos de validación."
      ]
    },
    {
      "cell_type": "markdown",
      "metadata": {
        "id": "i3Rzzhtfl7nK"
      },
      "source": [
        "Funcionamiento:\n",
        "\n",
        "Combina lo mejor de ambos mundos. Primero, se utilizan embeddings para convertir ítems y usuarios en representaciones vectoriales densas. Luego, estas representaciones se pasan a través de una red neuronal para hacer la predicción.\n",
        "\n",
        "El proceso generalmente comienza con capas de embedding que convierten identificadores de usuarios e ítems en vectores. Estos vectores luego se pasan a través de capas densas para obtener la predicción final.\n",
        "\n",
        "Ventajas:\n",
        "\n",
        "Capacidad de capturar patrones subyacentes en los datos mediante embeddings y modelar interacciones no lineales mediante la red neuronal.\n",
        "\n",
        "Flexibilidad para incorporar características adicionales.\n",
        "\n",
        "Potencialmente más preciso que cualquiera de los otros dos métodos por separado.\n",
        "\n",
        "Desventajas:\n",
        "\n",
        "Mayor complejidad en el modelado y entrenamiento.\n",
        "\n",
        "Mayor costo computacional.\n",
        "\n",
        "Requiere un ajuste más cuidadoso y riesgo de sobreajuste si no se gestiona adecuadamente."
      ]
    },
    {
      "cell_type": "markdown",
      "metadata": {
        "id": "uY_n_5u4ymE8"
      },
      "source": [
        "Regularización L2: Agregar una regularización L2 a las capas de embedding y densas para prevenir el sobreajuste.\n",
        "\n",
        "Early Stopping: Añadir una callback de early stopping para detener el entrenamiento cuando no haya mejora en el conjunto de validación durante un cierto número de épocas.\n",
        "\n",
        "Ajuste de la tasa de aprendizaje: Utilizar la callback ReduceLROnPlateau para reducir la tasa de aprendizaje cuando no haya mejora en el conjunto de validación.\n",
        "\n",
        "Métricas adicionales: Puedes monitorizar otras métricas como el error absoluto medio (MAE) durante el entrenamiento."
      ]
    },
    {
      "cell_type": "code",
      "execution_count": 27,
      "metadata": {
        "id": "zVRB5utBuqzB"
      },
      "outputs": [],
      "source": [
        "# Convertir reviewerID y asin a índices numéricos secuenciales\n",
        "df['user_id'] = df['reviewerID'].astype('category').cat.codes.values\n",
        "df['item_id'] = df['asin'].astype('category').cat.codes.values\n",
        "\n",
        "# Número de usuarios e ítems\n",
        "n_users = df['user_id'].nunique()\n",
        "n_items = df['item_id'].nunique()\n",
        "\n",
        "# Hiperparámetros\n",
        "n_latent_factors = 50\n",
        "hidden_units = [128, 64]\n",
        "dropout_rate = 0.2\n",
        "l2_reg = 1e-4\n",
        "\n",
        "# Entradas\n",
        "user_input = Input(shape=[1], name='user_input')\n",
        "item_input = Input(shape=[1], name='item_input')\n",
        "\n",
        "# Embeddings con regularización L2\n",
        "user_embedding = Embedding(n_users, n_latent_factors, embeddings_regularizer=l2(l2_reg), name='user_embedding')(user_input)\n",
        "item_embedding = Embedding(n_items, n_latent_factors, embeddings_regularizer=l2(l2_reg), name='item_embedding')(item_input)\n",
        "\n",
        "user_vec = Flatten(name='flatten_users')(user_embedding)\n",
        "item_vec = Flatten(name='flatten_items')(item_embedding)\n",
        "concat = Concatenate()([user_vec, item_vec])\n",
        "\n",
        "# Capas densas\n",
        "dense = concat\n",
        "for units in hidden_units:\n",
        "    dense = Dense(units, activation='relu', kernel_regularizer=l2(l2_reg))(dense)\n",
        "    dense = Dropout(dropout_rate)(dense)\n",
        "\n",
        "# Agregar una capa de activación sigmoid y escalar a [0, 5]\n",
        "output = Dense(1, activation='sigmoid', kernel_regularizer=l2(l2_reg))(dense)  # Función de activación sigmoid\n",
        "output = Lambda(lambda x: x * 5)(output)  # Escalar las predicciones al rango [0, 5]\n",
        "\n",
        "# Modelo\n",
        "model = Model(inputs=[user_input, item_input], outputs=output)\n",
        "model.compile(optimizer=Adam(0.001), loss='mean_squared_error', metrics=['mae'])"
      ]
    },
    {
      "cell_type": "code",
      "execution_count": 28,
      "metadata": {
        "id": "3I7zFMJBjTZ7"
      },
      "outputs": [],
      "source": [
        "# Callbacks\n",
        "early_stop = EarlyStopping(monitor='val_loss', patience=50, restore_best_weights=True)\n",
        "reduce_lr = ReduceLROnPlateau(monitor='val_loss', factor=0.2, patience=50, min_lr=1e-5)"
      ]
    },
    {
      "cell_type": "code",
      "execution_count": 29,
      "metadata": {
        "id": "XJfWiirYxHwk"
      },
      "outputs": [],
      "source": [
        "# Entrenamiento\n",
        "user_data = df['user_id'].values\n",
        "item_data = df['item_id'].values\n",
        "rating_data = df['overall'].values\n",
        "\n",
        "# División en entrenamiento y prueba\n",
        "(user_ids_temp, user_ids_test, item_ids_temp, item_ids_test, ratings_temp, ratings_test) = train_test_split(\n",
        "    user_ids, item_ids, ratings, test_size=0.2, random_state=42)\n",
        "\n",
        "# División del conjunto de entrenamiento en entrenamiento y validación\n",
        "(user_ids_train, user_ids_val, item_ids_train, item_ids_val, ratings_train, ratings_val) = train_test_split(\n",
        "    user_ids_temp, item_ids_temp, ratings_temp, test_size=0.25, random_state=42)  # 0.25 x 0.8 = 0.2"
      ]
    },
    {
      "cell_type": "code",
      "execution_count": 30,
      "metadata": {
        "id": "oXQNam6Bf-dT",
        "colab": {
          "base_uri": "https://localhost:8080/"
        },
        "outputId": "f8a3db3f-d591-4ac3-f75e-96dc850ee809"
      },
      "outputs": [
        {
          "output_type": "stream",
          "name": "stdout",
          "text": [
            "Epoch 1/500\n",
            "8/8 [==============================] - 3s 209ms/step - loss: 10.0671 - mae: 1.9144 - val_loss: 8.3330 - val_mae: 1.8173 - lr: 0.0010\n",
            "Epoch 2/500\n",
            "8/8 [==============================] - 1s 134ms/step - loss: 7.3051 - mae: 1.7376 - val_loss: 5.7804 - val_mae: 1.5973 - lr: 0.0010\n",
            "Epoch 3/500\n",
            "8/8 [==============================] - 1s 136ms/step - loss: 4.8907 - mae: 1.4856 - val_loss: 3.6224 - val_mae: 1.2930 - lr: 0.0010\n",
            "Epoch 4/500\n",
            "8/8 [==============================] - 1s 137ms/step - loss: 3.0105 - mae: 1.1429 - val_loss: 2.3382 - val_mae: 0.9683 - lr: 0.0010\n",
            "Epoch 5/500\n",
            "8/8 [==============================] - 1s 134ms/step - loss: 2.0978 - mae: 0.8953 - val_loss: 1.8962 - val_mae: 0.8518 - lr: 0.0010\n",
            "Epoch 6/500\n",
            "8/8 [==============================] - 1s 133ms/step - loss: 1.7222 - mae: 0.8137 - val_loss: 1.6385 - val_mae: 0.8328 - lr: 0.0010\n",
            "Epoch 7/500\n",
            "8/8 [==============================] - 1s 136ms/step - loss: 1.4466 - mae: 0.7953 - val_loss: 1.4746 - val_mae: 0.8525 - lr: 0.0010\n",
            "Epoch 8/500\n",
            "8/8 [==============================] - 1s 135ms/step - loss: 1.2609 - mae: 0.7964 - val_loss: 1.4171 - val_mae: 0.8733 - lr: 0.0010\n",
            "Epoch 9/500\n",
            "8/8 [==============================] - 1s 134ms/step - loss: 1.1434 - mae: 0.7756 - val_loss: 1.3958 - val_mae: 0.8585 - lr: 0.0010\n",
            "Epoch 10/500\n",
            "8/8 [==============================] - 1s 135ms/step - loss: 1.0447 - mae: 0.7198 - val_loss: 1.3952 - val_mae: 0.8312 - lr: 0.0010\n",
            "Epoch 11/500\n",
            "8/8 [==============================] - 1s 89ms/step - loss: 0.9740 - mae: 0.6686 - val_loss: 1.4007 - val_mae: 0.8177 - lr: 0.0010\n",
            "Epoch 12/500\n",
            "8/8 [==============================] - 1s 89ms/step - loss: 0.9211 - mae: 0.6371 - val_loss: 1.3981 - val_mae: 0.8134 - lr: 0.0010\n",
            "Epoch 13/500\n",
            "8/8 [==============================] - 1s 132ms/step - loss: 0.8812 - mae: 0.6182 - val_loss: 1.3895 - val_mae: 0.8063 - lr: 0.0010\n",
            "Epoch 14/500\n",
            "8/8 [==============================] - 1s 136ms/step - loss: 0.8517 - mae: 0.6038 - val_loss: 1.3858 - val_mae: 0.8008 - lr: 0.0010\n",
            "Epoch 15/500\n",
            "8/8 [==============================] - 1s 90ms/step - loss: 0.8284 - mae: 0.5914 - val_loss: 1.3885 - val_mae: 0.7973 - lr: 0.0010\n",
            "Epoch 16/500\n",
            "8/8 [==============================] - 1s 89ms/step - loss: 0.8113 - mae: 0.5800 - val_loss: 1.3946 - val_mae: 0.7933 - lr: 0.0010\n",
            "Epoch 17/500\n",
            "8/8 [==============================] - 1s 89ms/step - loss: 0.7985 - mae: 0.5693 - val_loss: 1.4011 - val_mae: 0.7908 - lr: 0.0010\n",
            "Epoch 18/500\n",
            "8/8 [==============================] - 1s 89ms/step - loss: 0.7885 - mae: 0.5610 - val_loss: 1.4086 - val_mae: 0.7890 - lr: 0.0010\n",
            "Epoch 19/500\n",
            "8/8 [==============================] - 1s 89ms/step - loss: 0.7809 - mae: 0.5542 - val_loss: 1.4162 - val_mae: 0.7879 - lr: 0.0010\n",
            "Epoch 20/500\n",
            "8/8 [==============================] - 1s 89ms/step - loss: 0.7746 - mae: 0.5484 - val_loss: 1.4249 - val_mae: 0.7872 - lr: 0.0010\n",
            "Epoch 21/500\n",
            "8/8 [==============================] - 1s 89ms/step - loss: 0.7701 - mae: 0.5433 - val_loss: 1.4329 - val_mae: 0.7867 - lr: 0.0010\n",
            "Epoch 22/500\n",
            "8/8 [==============================] - 1s 89ms/step - loss: 0.7661 - mae: 0.5391 - val_loss: 1.4412 - val_mae: 0.7866 - lr: 0.0010\n",
            "Epoch 23/500\n",
            "8/8 [==============================] - 1s 89ms/step - loss: 0.7631 - mae: 0.5355 - val_loss: 1.4499 - val_mae: 0.7868 - lr: 0.0010\n",
            "Epoch 24/500\n",
            "8/8 [==============================] - 1s 89ms/step - loss: 0.7609 - mae: 0.5320 - val_loss: 1.4586 - val_mae: 0.7870 - lr: 0.0010\n",
            "Epoch 25/500\n",
            "8/8 [==============================] - 1s 89ms/step - loss: 0.7589 - mae: 0.5291 - val_loss: 1.4673 - val_mae: 0.7879 - lr: 0.0010\n",
            "Epoch 26/500\n",
            "8/8 [==============================] - 1s 89ms/step - loss: 0.7575 - mae: 0.5268 - val_loss: 1.4752 - val_mae: 0.7877 - lr: 0.0010\n",
            "Epoch 27/500\n",
            "8/8 [==============================] - 1s 89ms/step - loss: 0.7565 - mae: 0.5243 - val_loss: 1.4823 - val_mae: 0.7885 - lr: 0.0010\n",
            "Epoch 28/500\n",
            "8/8 [==============================] - 1s 89ms/step - loss: 0.7552 - mae: 0.5224 - val_loss: 1.4897 - val_mae: 0.7888 - lr: 0.0010\n",
            "Epoch 29/500\n",
            "8/8 [==============================] - 1s 89ms/step - loss: 0.7547 - mae: 0.5203 - val_loss: 1.4968 - val_mae: 0.7894 - lr: 0.0010\n",
            "Epoch 30/500\n",
            "8/8 [==============================] - 1s 89ms/step - loss: 0.7537 - mae: 0.5188 - val_loss: 1.5036 - val_mae: 0.7898 - lr: 0.0010\n",
            "Epoch 31/500\n",
            "8/8 [==============================] - 1s 88ms/step - loss: 0.7530 - mae: 0.5169 - val_loss: 1.5099 - val_mae: 0.7907 - lr: 0.0010\n",
            "Epoch 32/500\n",
            "8/8 [==============================] - 1s 88ms/step - loss: 0.7515 - mae: 0.5155 - val_loss: 1.5154 - val_mae: 0.7908 - lr: 0.0010\n",
            "Epoch 33/500\n",
            "8/8 [==============================] - 1s 88ms/step - loss: 0.7505 - mae: 0.5137 - val_loss: 1.5200 - val_mae: 0.7912 - lr: 0.0010\n",
            "Epoch 34/500\n",
            "8/8 [==============================] - 1s 89ms/step - loss: 0.7497 - mae: 0.5124 - val_loss: 1.5243 - val_mae: 0.7912 - lr: 0.0010\n",
            "Epoch 35/500\n",
            "8/8 [==============================] - 1s 89ms/step - loss: 0.7489 - mae: 0.5110 - val_loss: 1.5289 - val_mae: 0.7917 - lr: 0.0010\n",
            "Epoch 36/500\n",
            "8/8 [==============================] - 1s 89ms/step - loss: 0.7481 - mae: 0.5098 - val_loss: 1.5332 - val_mae: 0.7916 - lr: 0.0010\n",
            "Epoch 37/500\n",
            "8/8 [==============================] - 1s 89ms/step - loss: 0.7467 - mae: 0.5084 - val_loss: 1.5377 - val_mae: 0.7921 - lr: 0.0010\n",
            "Epoch 38/500\n",
            "8/8 [==============================] - 1s 89ms/step - loss: 0.7457 - mae: 0.5069 - val_loss: 1.5421 - val_mae: 0.7923 - lr: 0.0010\n",
            "Epoch 39/500\n",
            "8/8 [==============================] - 1s 89ms/step - loss: 0.7447 - mae: 0.5059 - val_loss: 1.5456 - val_mae: 0.7928 - lr: 0.0010\n",
            "Epoch 40/500\n",
            "8/8 [==============================] - 1s 88ms/step - loss: 0.7438 - mae: 0.5045 - val_loss: 1.5491 - val_mae: 0.7931 - lr: 0.0010\n",
            "Epoch 41/500\n",
            "8/8 [==============================] - 1s 89ms/step - loss: 0.7429 - mae: 0.5036 - val_loss: 1.5521 - val_mae: 0.7933 - lr: 0.0010\n",
            "Epoch 42/500\n",
            "8/8 [==============================] - 1s 89ms/step - loss: 0.7421 - mae: 0.5028 - val_loss: 1.5552 - val_mae: 0.7935 - lr: 0.0010\n",
            "Epoch 43/500\n",
            "8/8 [==============================] - 1s 88ms/step - loss: 0.7415 - mae: 0.5019 - val_loss: 1.5587 - val_mae: 0.7936 - lr: 0.0010\n",
            "Epoch 44/500\n",
            "8/8 [==============================] - 1s 89ms/step - loss: 0.7408 - mae: 0.5007 - val_loss: 1.5621 - val_mae: 0.7939 - lr: 0.0010\n",
            "Epoch 45/500\n",
            "8/8 [==============================] - 1s 89ms/step - loss: 0.7398 - mae: 0.4997 - val_loss: 1.5652 - val_mae: 0.7943 - lr: 0.0010\n",
            "Epoch 46/500\n",
            "8/8 [==============================] - 1s 89ms/step - loss: 0.7391 - mae: 0.4990 - val_loss: 1.5676 - val_mae: 0.7945 - lr: 0.0010\n",
            "Epoch 47/500\n",
            "8/8 [==============================] - 1s 89ms/step - loss: 0.7380 - mae: 0.4980 - val_loss: 1.5689 - val_mae: 0.7945 - lr: 0.0010\n",
            "Epoch 48/500\n",
            "8/8 [==============================] - 1s 89ms/step - loss: 0.7374 - mae: 0.4974 - val_loss: 1.5706 - val_mae: 0.7944 - lr: 0.0010\n",
            "Epoch 49/500\n",
            "8/8 [==============================] - 1s 89ms/step - loss: 0.7366 - mae: 0.4965 - val_loss: 1.5721 - val_mae: 0.7942 - lr: 0.0010\n",
            "Epoch 50/500\n",
            "8/8 [==============================] - 1s 89ms/step - loss: 0.7354 - mae: 0.4953 - val_loss: 1.5739 - val_mae: 0.7944 - lr: 0.0010\n",
            "Epoch 51/500\n",
            "8/8 [==============================] - 1s 88ms/step - loss: 0.7346 - mae: 0.4947 - val_loss: 1.5754 - val_mae: 0.7942 - lr: 0.0010\n",
            "Epoch 52/500\n",
            "8/8 [==============================] - 1s 89ms/step - loss: 0.7344 - mae: 0.4943 - val_loss: 1.5772 - val_mae: 0.7949 - lr: 0.0010\n",
            "Epoch 53/500\n",
            "8/8 [==============================] - 1s 88ms/step - loss: 0.7338 - mae: 0.4935 - val_loss: 1.5789 - val_mae: 0.7945 - lr: 0.0010\n",
            "Epoch 54/500\n",
            "8/8 [==============================] - 1s 88ms/step - loss: 0.7329 - mae: 0.4929 - val_loss: 1.5788 - val_mae: 0.7944 - lr: 0.0010\n",
            "Epoch 55/500\n",
            "8/8 [==============================] - 1s 89ms/step - loss: 0.7316 - mae: 0.4922 - val_loss: 1.5799 - val_mae: 0.7947 - lr: 0.0010\n",
            "Epoch 56/500\n",
            "8/8 [==============================] - 1s 89ms/step - loss: 0.7304 - mae: 0.4913 - val_loss: 1.5802 - val_mae: 0.7944 - lr: 0.0010\n",
            "Epoch 57/500\n",
            "8/8 [==============================] - 1s 89ms/step - loss: 0.7299 - mae: 0.4907 - val_loss: 1.5818 - val_mae: 0.7944 - lr: 0.0010\n",
            "Epoch 58/500\n",
            "8/8 [==============================] - 1s 89ms/step - loss: 0.7288 - mae: 0.4899 - val_loss: 1.5815 - val_mae: 0.7948 - lr: 0.0010\n",
            "Epoch 59/500\n",
            "8/8 [==============================] - 1s 90ms/step - loss: 0.7277 - mae: 0.4898 - val_loss: 1.5821 - val_mae: 0.7941 - lr: 0.0010\n",
            "Epoch 60/500\n",
            "8/8 [==============================] - 1s 89ms/step - loss: 0.7272 - mae: 0.4890 - val_loss: 1.5830 - val_mae: 0.7943 - lr: 0.0010\n",
            "Epoch 61/500\n",
            "8/8 [==============================] - 1s 89ms/step - loss: 0.7265 - mae: 0.4886 - val_loss: 1.5829 - val_mae: 0.7939 - lr: 0.0010\n",
            "Epoch 62/500\n",
            "8/8 [==============================] - 1s 89ms/step - loss: 0.7250 - mae: 0.4878 - val_loss: 1.5849 - val_mae: 0.7948 - lr: 0.0010\n",
            "Epoch 63/500\n",
            "8/8 [==============================] - 1s 89ms/step - loss: 0.7235 - mae: 0.4869 - val_loss: 1.5847 - val_mae: 0.7946 - lr: 0.0010\n",
            "Epoch 64/500\n",
            "8/8 [==============================] - 1s 141ms/step - loss: 0.7225 - mae: 0.4864 - val_loss: 1.5831 - val_mae: 0.7933 - lr: 0.0010\n",
            "CPU times: user 1min 2s, sys: 4.55 s, total: 1min 7s\n",
            "Wall time: 51.6 s\n"
          ]
        }
      ],
      "source": [
        "%%time\n",
        "history = model.fit([user_ids_train, item_ids_train], ratings_train,\n",
        "                    epochs=500,validation_data=([user_ids_val, item_ids_val], ratings_val),\n",
        "                    batch_size=400000,verbose=1,callbacks=[early_stop, reduce_lr])"
      ]
    },
    {
      "cell_type": "code",
      "execution_count": 31,
      "metadata": {
        "id": "2Off5YI9f-_T",
        "colab": {
          "base_uri": "https://localhost:8080/"
        },
        "outputId": "959509f3-265c-4476-c734-f1bba95726a4"
      },
      "outputs": [
        {
          "output_type": "stream",
          "name": "stdout",
          "text": [
            "30004/30004 [==============================] - 45s 2ms/step\n"
          ]
        }
      ],
      "source": [
        "# Predicciones\n",
        "y_true = ratings_test\n",
        "predictions = model.predict([user_ids_test, item_ids_test])"
      ]
    },
    {
      "cell_type": "code",
      "execution_count": 32,
      "metadata": {
        "id": "w1BY-Sd0xJtc",
        "colab": {
          "base_uri": "https://localhost:8080/"
        },
        "outputId": "dc2338f9-9927-47ed-94a7-3161ee6364b4"
      },
      "outputs": [
        {
          "output_type": "stream",
          "name": "stdout",
          "text": [
            "MSE: 1.2182475315425145\n",
            "RMSE: 1.103742511432134\n",
            "MAE: 0.8017920547399492\n",
            "MAPE: 39.76886196804207%\n"
          ]
        }
      ],
      "source": [
        "# MSE y RMSE\n",
        "mse = mean_squared_error(y_true, predictions)\n",
        "rmse = np.sqrt(mse)\n",
        "\n",
        "# MAE\n",
        "mae = mean_absolute_error(y_true, predictions)\n",
        "\n",
        "# MAPE\n",
        "def mean_absolute_percentage_error(y_true, y_pred):\n",
        "    y_true, y_pred = np.array(y_true), np.array(y_pred)\n",
        "    non_zero_idx = y_true != 0  # Para evitar divisiones por cero\n",
        "    return np.mean(np.abs((y_true[non_zero_idx] - y_pred[non_zero_idx]) / y_true[non_zero_idx])) * 100\n",
        "\n",
        "def compute_mape_by_batch(y_true, predictions, batch_size=50000):\n",
        "    mape_sum = 0\n",
        "    num_batches = int(np.ceil(len(y_true) / batch_size))\n",
        "\n",
        "    for i in range(num_batches):\n",
        "        start_idx = i * batch_size\n",
        "        end_idx = start_idx + batch_size\n",
        "\n",
        "        batch_y_true = y_true[start_idx:end_idx]\n",
        "        batch_predictions = predictions[start_idx:end_idx]\n",
        "\n",
        "        mape_sum += mean_absolute_percentage_error(batch_y_true, batch_predictions)\n",
        "\n",
        "    return mape_sum / num_batches\n",
        "\n",
        "# Luego llamas a la función\n",
        "mape = compute_mape_by_batch(y_true, predictions)\n",
        "\n",
        "print(f'MSE: {mse}')\n",
        "print(f'RMSE: {rmse}')\n",
        "print(f'MAE: {mae}')\n",
        "print(f'MAPE: {mape}%')"
      ]
    },
    {
      "cell_type": "markdown",
      "source": [
        "# Recomendación"
      ],
      "metadata": {
        "id": "UzpnhZ4Lixf6"
      }
    },
    {
      "cell_type": "code",
      "source": [
        "# Seleccionar un usuario al azar del conjunto de prueba\n",
        "usuario_id_test_encoded = random.choice(user_ids_test)\n",
        "\n",
        "# Decodificar el ID del usuario para obtener el ID original\n",
        "usuario_id_test = reviewerID_encoder.inverse_transform([usuario_id_test_encoded])[0]\n",
        "\n",
        "# Identificar los ítems que el usuario ha calificado en el conjunto de prueba\n",
        "indices_usuario = np.where(user_ids_test == usuario_id_test_encoded)[0]\n",
        "items_calificados_test_encoded = item_ids_test[indices_usuario]\n",
        "calificaciones_reales_test = ratings_test[indices_usuario]\n",
        "\n",
        "# Predecir las calificaciones para estos ítems\n",
        "calificaciones_predichas = model.predict([np.array([usuario_id_test_encoded] * len(items_calificados_test_encoded)), items_calificados_test_encoded])\n",
        "\n",
        "# Decodificar los ítems para obtener los ID originales\n",
        "items_calificados_test = asin_encoder.inverse_transform(items_calificados_test_encoded)\n",
        "\n",
        "# Comparar las calificaciones predichas con las reales\n",
        "comparacion = list(zip(items_calificados_test, calificaciones_reales_test, calificaciones_predichas.flatten()))\n",
        "\n",
        "# Suponiendo que 'items_calificados_test' contiene los IDs originales de los ítems\n",
        "recomendaciones_df = pd.DataFrame({\n",
        "    'asin': items_calificados_test,\n",
        "    'Calificación Real': calificaciones_reales_test,\n",
        "    'Calificación Predicha': calificaciones_predichas.flatten()\n",
        "})\n",
        "\n",
        "recomendaciones_df = recomendaciones_df.merge(sentimiento[['asin', 'cluster']], on='asin', how='left')\n",
        "recomendaciones_df.rename(columns={'cluster': 'Sentimiento'}, inplace=True)\n",
        "\n",
        "# Mostrar las recomendaciones\n",
        "print(f\"Recomendaciones para el usuario {usuario_id_test}:\")\n",
        "for index, row in recomendaciones_df.iterrows():\n",
        "    print(f\"Ítem: {row['asin']}, Calificación Real: {row['Calificación Real']}, Calificación Predicha: {row['Calificación Predicha']}, Sentimiento: {row['Sentimiento']}\")\n"
      ],
      "metadata": {
        "id": "GC-UEYfli0Qe",
        "colab": {
          "base_uri": "https://localhost:8080/"
        },
        "outputId": "e91191ef-57cc-48f9-8971-6841efd0d12b"
      },
      "execution_count": 33,
      "outputs": [
        {
          "output_type": "stream",
          "name": "stdout",
          "text": [
            "1/1 [==============================] - 0s 19ms/step\n",
            "Recomendaciones para el usuario APUR6JU39ZT3Z:\n",
            "Ítem: B001ARZDNQ, Calificación Real: 5.0, Calificación Predicha: 4.839064598083496, Sentimiento: Positivo\n"
          ]
        }
      ]
    },
    {
      "cell_type": "code",
      "source": [
        "# Seleccionar un usuario al azar del conjunto de prueba\n",
        "usuario_id_test_encoded = random.choice(user_ids_test)\n",
        "\n",
        "# Decodificar el ID del usuario para obtener el ID original\n",
        "usuario_id = reviewerID_encoder.inverse_transform([usuario_id_test_encoded])[0]\n",
        "\n",
        "# Lista de todos los ítems únicos en el dataset\n",
        "items_unicos = np.unique(data['asin'].values)\n",
        "\n",
        "# Ítems que el usuario ya ha calificado\n",
        "items_calificados = data[data['reviewerID_encoded'] == usuario_id_test_encoded]['asin'].tolist()\n",
        "\n",
        "# Ítems para predecir\n",
        "items_a_predecir = [item for item in items_unicos if item not in items_calificados]\n",
        "\n",
        "# Convierte los ítems a su representación codificada\n",
        "items_a_predecir_encoded = asin_encoder.transform(items_a_predecir)\n",
        "\n",
        "# Predecir la calificación para cada ítem no calificado\n",
        "predicciones = model.predict([np.array([usuario_id_test_encoded] * len(items_a_predecir_encoded)), items_a_predecir_encoded])\n",
        "\n",
        "# Emparejar cada ítem con su predicción\n",
        "items_predicciones = list(zip(items_a_predecir, predicciones.flatten()))\n",
        "\n",
        "# Ordenar por la calificación predicha más alta\n",
        "items_recomendados = sorted(items_predicciones, key=lambda x: x[1], reverse=True)\n",
        "\n",
        "# Tomar los top N recomendaciones\n",
        "top_n = 5\n",
        "top_recomendaciones = items_recomendados[:top_n]\n",
        "\n",
        "# Crear un DataFrame a partir de las recomendaciones\n",
        "recomendaciones_df = pd.DataFrame(top_recomendaciones, columns=['asin', 'Calificación Predicha'])\n",
        "\n",
        "# Unir con el DataFrame 'sentimiento' para obtener el sentimiento asociado a cada ítem\n",
        "recomendaciones_df = recomendaciones_df.merge(sentimiento[['asin', 'cluster']], on='asin', how='left')\n",
        "\n",
        "# Renombrar la columna 'cluster' a 'Sentimiento' para claridad\n",
        "recomendaciones_df.rename(columns={'cluster': 'Sentimiento'}, inplace=True)\n",
        "\n",
        "# Mostrar las recomendaciones con el sentimiento\n",
        "print(f\"Recomendaciones para el usuario {usuario_id}:\")\n",
        "for index, row in recomendaciones_df.iterrows():\n",
        "    print(f\"Ítem: {row['asin']}, Calificación Predicha: {row['Calificación Predicha']}, Sentimiento: {row['Sentimiento']}\")"
      ],
      "metadata": {
        "id": "tVKVZhgKi0JG",
        "colab": {
          "base_uri": "https://localhost:8080/"
        },
        "outputId": "8d2b2406-fa3e-4f67-b106-451aeb76837b"
      },
      "execution_count": 34,
      "outputs": [
        {
          "output_type": "stream",
          "name": "stdout",
          "text": [
            "4814/4814 [==============================] - 8s 2ms/step\n",
            "Recomendaciones para el usuario A202Q5BJA5Y6SE:\n",
            "Ítem: B00RLSCLJM, Calificación Predicha: 4.954440593719482, Sentimiento: Positivo\n",
            "Ítem: B00KKXCJQU, Calificación Predicha: 4.9536237716674805, Sentimiento: Positivo\n",
            "Ítem: B00H9RZDRM, Calificación Predicha: 4.925777435302734, Sentimiento: Neutro\n",
            "Ítem: B01E4SQNLS, Calificación Predicha: 4.923788070678711, Sentimiento: Positivo\n",
            "Ítem: B00V5RV0ME, Calificación Predicha: 4.9140520095825195, Sentimiento: Positivo\n"
          ]
        }
      ]
    },
    {
      "cell_type": "markdown",
      "metadata": {
        "id": "YopA3D2Sw8AO"
      },
      "source": [
        "Estas métricas te ayudarán a tener una mejor idea del desempeño de tu modelo. Por ejemplo:\n",
        "\n",
        "MSE y RMSE son útiles cuando quieres penalizar grandes errores.\n",
        "\n",
        "MAE te da una idea del error medio sin considerar la dirección del error.\n",
        "\n",
        "MAPE es útil cuando quieres representar el error en términos porcentuales.\n",
        "\n",
        "Para una evaluación completa, es recomendable utilizar un conjunto de validación aparte (es decir, no solo depender del validation_split). Esto asegura que estás evaluando el desempeño en datos que el modelo nunca ha visto durante el entrenamiento."
      ]
    },
    {
      "cell_type": "markdown",
      "metadata": {
        "id": "_dgWsjHFlB67"
      },
      "source": [
        "En resumen, la elección del tipo de sistema de recomendación dependerá de la naturaleza del conjunto de datos, las características disponibles, las capacidades computacionales y el tipo de relaciones o interacciones que se desean capturar. A menudo, un enfoque híbrido (como el sistema que combina embeddings y redes neuronales) ofrece un buen equilibrio entre precisión y eficiencia."
      ]
    }
  ],
  "metadata": {
    "accelerator": "GPU",
    "colab": {
      "machine_shape": "hm",
      "provenance": []
    },
    "kernelspec": {
      "display_name": "Python 3 (ipykernel)",
      "language": "python",
      "name": "python3"
    },
    "language_info": {
      "codemirror_mode": {
        "name": "ipython",
        "version": 3
      },
      "file_extension": ".py",
      "mimetype": "text/x-python",
      "name": "python",
      "nbconvert_exporter": "python",
      "pygments_lexer": "ipython3",
      "version": "3.10.9"
    }
  },
  "nbformat": 4,
  "nbformat_minor": 0
}