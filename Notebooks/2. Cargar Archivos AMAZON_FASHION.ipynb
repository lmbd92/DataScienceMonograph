{
 "cells": [
  {
   "cell_type": "markdown",
   "metadata": {
    "id": "Fgpm6z5oMB0_"
   },
   "source": [
    "reviewerID - ID of the reviewer, e.g. A2SUAM1J3GNN3B\n",
    "\n",
    "asin - ID of the product, e.g. 0000013714\n",
    "\n",
    "reviewerName - name of the reviewer\n",
    "\n",
    "vote - helpful votes of the review\n",
    "\n",
    "style - a disctionary of the product metadata, e.g., \"Format\" is \"Hardcover\"\n",
    "\n",
    "reviewText - text of the review\n",
    "\n",
    "overall - rating of the product\n",
    "\n",
    "summary - summary of the review\n",
    "\n",
    "unixReviewTime - time of the review (unix time)\n",
    "\n",
    "reviewTime - time of the review (raw)\n",
    "\n",
    "image - images that users post after they have received the product"
   ]
  },
  {
   "cell_type": "code",
   "execution_count": 1,
   "metadata": {
    "id": "ZGwBeCRHBGW0"
   },
   "outputs": [],
   "source": [
    "import pandas as pd\n",
    "import io\n",
    "import json\n",
    "import gzip\n",
    "import numpy as np\n",
    "import matplotlib.pyplot as plt\n",
    "import seaborn as sns\n",
    "# Configurar pandas para mostrar todas las columnas\n",
    "pd.set_option('display.max_columns', None)\n"
   ]
  },
  {
   "cell_type": "code",
   "execution_count": 2,
   "metadata": {
    "colab": {
     "base_uri": "https://localhost:8080/"
    },
    "id": "WDwAdn2OQkBl",
    "outputId": "896fe33e-4a03-4f9d-b14f-89e8e8a2dda7"
   },
   "outputs": [
    {
     "name": "stdout",
     "output_type": "stream",
     "text": [
      "Requirement already satisfied: pandas in c:\\users\\usuario\\anaconda3\\lib\\site-packages (1.5.3)\n",
      "Requirement already satisfied: openpyxl in c:\\users\\usuario\\anaconda3\\lib\\site-packages (3.0.10)\n",
      "Requirement already satisfied: python-dateutil>=2.8.1 in c:\\users\\usuario\\anaconda3\\lib\\site-packages (from pandas) (2.8.2)\n",
      "Requirement already satisfied: pytz>=2020.1 in c:\\users\\usuario\\anaconda3\\lib\\site-packages (from pandas) (2022.7)\n",
      "Requirement already satisfied: numpy>=1.21.0 in c:\\users\\usuario\\anaconda3\\lib\\site-packages (from pandas) (1.23.5)\n",
      "Requirement already satisfied: et_xmlfile in c:\\users\\usuario\\anaconda3\\lib\\site-packages (from openpyxl) (1.1.0)\n",
      "Requirement already satisfied: six>=1.5 in c:\\users\\usuario\\anaconda3\\lib\\site-packages (from python-dateutil>=2.8.1->pandas) (1.16.0)\n",
      "Note: you may need to restart the kernel to use updated packages.\n"
     ]
    }
   ],
   "source": [
    "pip install pandas openpyxl"
   ]
  },
  {
   "cell_type": "code",
   "execution_count": 3,
   "metadata": {
    "colab": {
     "base_uri": "https://localhost:8080/"
    },
    "id": "MmIo3t7kEq7e",
    "outputId": "94c7fce6-550c-4df9-bd6b-27b40c80dc44"
   },
   "outputs": [
    {
     "name": "stdout",
     "output_type": "stream",
     "text": [
      "883636\n",
      "{'overall': 5.0, 'verified': True, 'reviewTime': '10 20, 2014', 'reviewerID': 'A1D4G1SNUZWQOT', 'asin': '7106116521', 'reviewerName': 'Tracy', 'reviewText': 'Exactly what I needed.', 'summary': 'perfect replacements!!', 'unixReviewTime': 1413763200}\n"
     ]
    }
   ],
   "source": [
    "### Carga la data de reviews\n",
    "\n",
    "data = []\n",
    "with gzip.open('AMAZON_FASHION.json.gz') as f:\n",
    "    for l in f:\n",
    "        data.append(json.loads(l.strip()))\n",
    "\n",
    "# Longitud total de la lista, este numero equivale al numero total de productos\n",
    "print(len(data))\n",
    "\n",
    "# Primera fila de la lista\n",
    "print(data[0])"
   ]
  },
  {
   "cell_type": "code",
   "execution_count": 4,
   "metadata": {
    "colab": {
     "base_uri": "https://localhost:8080/"
    },
    "id": "PJ57-DzrEFJW",
    "outputId": "7a4d3be4-2a10-449c-e218-559701f5f990"
   },
   "outputs": [
    {
     "name": "stdout",
     "output_type": "stream",
     "text": [
      "883636\n"
     ]
    }
   ],
   "source": [
    "# Convierte la lista en un dataframe de pandas\n",
    "\n",
    "df1 = pd.DataFrame.from_dict(data)\n",
    "\n",
    "print(len(df1))"
   ]
  },
  {
   "cell_type": "code",
   "execution_count": 5,
   "metadata": {
    "colab": {
     "base_uri": "https://localhost:8080/",
     "height": 241
    },
    "id": "BCA_wKkVBQSd",
    "outputId": "c07d31d7-805d-4ff0-bd52-a7550282dd11"
   },
   "outputs": [
    {
     "data": {
      "text/html": [
       "<div>\n",
       "<style scoped>\n",
       "    .dataframe tbody tr th:only-of-type {\n",
       "        vertical-align: middle;\n",
       "    }\n",
       "\n",
       "    .dataframe tbody tr th {\n",
       "        vertical-align: top;\n",
       "    }\n",
       "\n",
       "    .dataframe thead th {\n",
       "        text-align: right;\n",
       "    }\n",
       "</style>\n",
       "<table border=\"1\" class=\"dataframe\">\n",
       "  <thead>\n",
       "    <tr style=\"text-align: right;\">\n",
       "      <th></th>\n",
       "      <th>overall</th>\n",
       "      <th>verified</th>\n",
       "      <th>reviewTime</th>\n",
       "      <th>reviewerID</th>\n",
       "      <th>asin</th>\n",
       "      <th>reviewerName</th>\n",
       "      <th>reviewText</th>\n",
       "      <th>summary</th>\n",
       "      <th>unixReviewTime</th>\n",
       "      <th>vote</th>\n",
       "      <th>style</th>\n",
       "      <th>image</th>\n",
       "    </tr>\n",
       "  </thead>\n",
       "  <tbody>\n",
       "    <tr>\n",
       "      <th>0</th>\n",
       "      <td>5.0</td>\n",
       "      <td>True</td>\n",
       "      <td>10 20, 2014</td>\n",
       "      <td>A1D4G1SNUZWQOT</td>\n",
       "      <td>7106116521</td>\n",
       "      <td>Tracy</td>\n",
       "      <td>Exactly what I needed.</td>\n",
       "      <td>perfect replacements!!</td>\n",
       "      <td>1413763200</td>\n",
       "      <td>NaN</td>\n",
       "      <td>NaN</td>\n",
       "      <td>NaN</td>\n",
       "    </tr>\n",
       "    <tr>\n",
       "      <th>1</th>\n",
       "      <td>2.0</td>\n",
       "      <td>True</td>\n",
       "      <td>09 28, 2014</td>\n",
       "      <td>A3DDWDH9PX2YX2</td>\n",
       "      <td>7106116521</td>\n",
       "      <td>Sonja Lau</td>\n",
       "      <td>I agree with the other review, the opening is ...</td>\n",
       "      <td>I agree with the other review, the opening is ...</td>\n",
       "      <td>1411862400</td>\n",
       "      <td>3</td>\n",
       "      <td>NaN</td>\n",
       "      <td>NaN</td>\n",
       "    </tr>\n",
       "    <tr>\n",
       "      <th>2</th>\n",
       "      <td>4.0</td>\n",
       "      <td>False</td>\n",
       "      <td>08 25, 2014</td>\n",
       "      <td>A2MWC41EW7XL15</td>\n",
       "      <td>7106116521</td>\n",
       "      <td>Kathleen</td>\n",
       "      <td>Love these... I am going to order another pack...</td>\n",
       "      <td>My New 'Friends' !!</td>\n",
       "      <td>1408924800</td>\n",
       "      <td>NaN</td>\n",
       "      <td>NaN</td>\n",
       "      <td>NaN</td>\n",
       "    </tr>\n",
       "    <tr>\n",
       "      <th>3</th>\n",
       "      <td>2.0</td>\n",
       "      <td>True</td>\n",
       "      <td>08 24, 2014</td>\n",
       "      <td>A2UH2QQ275NV45</td>\n",
       "      <td>7106116521</td>\n",
       "      <td>Jodi Stoner</td>\n",
       "      <td>too tiny an opening</td>\n",
       "      <td>Two Stars</td>\n",
       "      <td>1408838400</td>\n",
       "      <td>NaN</td>\n",
       "      <td>NaN</td>\n",
       "      <td>NaN</td>\n",
       "    </tr>\n",
       "    <tr>\n",
       "      <th>4</th>\n",
       "      <td>3.0</td>\n",
       "      <td>False</td>\n",
       "      <td>07 27, 2014</td>\n",
       "      <td>A89F3LQADZBS5</td>\n",
       "      <td>7106116521</td>\n",
       "      <td>Alexander D.</td>\n",
       "      <td>Okay</td>\n",
       "      <td>Three Stars</td>\n",
       "      <td>1406419200</td>\n",
       "      <td>NaN</td>\n",
       "      <td>NaN</td>\n",
       "      <td>NaN</td>\n",
       "    </tr>\n",
       "  </tbody>\n",
       "</table>\n",
       "</div>"
      ],
      "text/plain": [
       "   overall  verified   reviewTime      reviewerID        asin  reviewerName  \\\n",
       "0      5.0      True  10 20, 2014  A1D4G1SNUZWQOT  7106116521         Tracy   \n",
       "1      2.0      True  09 28, 2014  A3DDWDH9PX2YX2  7106116521     Sonja Lau   \n",
       "2      4.0     False  08 25, 2014  A2MWC41EW7XL15  7106116521      Kathleen   \n",
       "3      2.0      True  08 24, 2014  A2UH2QQ275NV45  7106116521   Jodi Stoner   \n",
       "4      3.0     False  07 27, 2014   A89F3LQADZBS5  7106116521  Alexander D.   \n",
       "\n",
       "                                          reviewText  \\\n",
       "0                             Exactly what I needed.   \n",
       "1  I agree with the other review, the opening is ...   \n",
       "2  Love these... I am going to order another pack...   \n",
       "3                                too tiny an opening   \n",
       "4                                               Okay   \n",
       "\n",
       "                                             summary  unixReviewTime vote  \\\n",
       "0                             perfect replacements!!      1413763200  NaN   \n",
       "1  I agree with the other review, the opening is ...      1411862400    3   \n",
       "2                                My New 'Friends' !!      1408924800  NaN   \n",
       "3                                          Two Stars      1408838400  NaN   \n",
       "4                                        Three Stars      1406419200  NaN   \n",
       "\n",
       "  style image  \n",
       "0   NaN   NaN  \n",
       "1   NaN   NaN  \n",
       "2   NaN   NaN  \n",
       "3   NaN   NaN  \n",
       "4   NaN   NaN  "
      ]
     },
     "execution_count": 5,
     "metadata": {},
     "output_type": "execute_result"
    }
   ],
   "source": [
    "df1.head(5)"
   ]
  },
  {
   "cell_type": "code",
   "execution_count": 6,
   "metadata": {
    "colab": {
     "base_uri": "https://localhost:8080/"
    },
    "id": "iCUg32wVBQVX",
    "outputId": "06bca6f8-8d87-4df9-c078-50d361f744de"
   },
   "outputs": [
    {
     "name": "stdout",
     "output_type": "stream",
     "text": [
      "186637\n",
      "{'title': 'Slime Time Fall Fest [With CDROM and Collector Cards and Neutron Balls, Incredi-Ball and Glow Stick Necklace, Paper Fram', 'brand': 'Group Publishing (CO)', 'feature': ['Product Dimensions:\\n                    \\n8.7 x 3.6 x 11.4 inches', 'Shipping Weight:\\n                    \\n2.4 pounds'], 'rank': '13,052,976inClothing,Shoesamp;Jewelry(', 'date': '8.70 inches', 'asin': '0764443682', 'imageURL': ['https://images-na.ssl-images-amazon.com/images/I/51bSrINiWpL._US40_.jpg'], 'imageURLHighRes': ['https://images-na.ssl-images-amazon.com/images/I/51bSrINiWpL.jpg']}\n"
     ]
    }
   ],
   "source": [
    "### Carga la meta data de reviews\n",
    "\n",
    "data = []\n",
    "with gzip.open('meta_AMAZON_FASHION.json.gz') as f:\n",
    "    for l in f:\n",
    "        data.append(json.loads(l.strip()))\n",
    "\n",
    "# Longitud total de la lista, este numero equivale al numero total de productos\n",
    "print(len(data))\n",
    "\n",
    "# Primera fila de la lista\n",
    "print(data[0])"
   ]
  },
  {
   "cell_type": "code",
   "execution_count": 7,
   "metadata": {
    "colab": {
     "base_uri": "https://localhost:8080/"
    },
    "id": "g6xwtrXjBQXt",
    "outputId": "146b5d30-bf5d-45b9-ea6b-730046e19f1f"
   },
   "outputs": [
    {
     "name": "stdout",
     "output_type": "stream",
     "text": [
      "186637\n"
     ]
    }
   ],
   "source": [
    "# Convierte la lista en un dataframe de pandas\n",
    "\n",
    "df2 = pd.DataFrame.from_dict(data)\n",
    "\n",
    "print(len(df2))"
   ]
  },
  {
   "cell_type": "code",
   "execution_count": 8,
   "metadata": {
    "colab": {
     "base_uri": "https://localhost:8080/"
    },
    "id": "3fQqKpL4Qws9",
    "outputId": "b7b62f49-3100-484b-ebc8-5e85a3de1aa7"
   },
   "outputs": [
    {
     "name": "stdout",
     "output_type": "stream",
     "text": [
      "Archivo convertido y guardado con éxito.\n"
     ]
    }
   ],
   "source": [
    "# Guardar el DataFrame en formato Excel\n",
    "#df2.to_excel('nombre_del_archivo_salida.xlsx', index=False, engine='openpyxl')\n",
    "\n",
    "print(\"Archivo convertido y guardado con éxito.\")"
   ]
  },
  {
   "cell_type": "code",
   "execution_count": 9,
   "metadata": {
    "id": "APy258qhFdVw"
   },
   "outputs": [],
   "source": [
    "result = pd.merge(df1,df2, on = \"asin\")"
   ]
  },
  {
   "cell_type": "code",
   "execution_count": 10,
   "metadata": {
    "colab": {
     "base_uri": "https://localhost:8080/",
     "height": 236
    },
    "id": "bXQS4mFsIINP",
    "outputId": "b674853a-0140-4ce0-a32d-9d90457f9995"
   },
   "outputs": [
    {
     "data": {
      "text/html": [
       "<div>\n",
       "<style scoped>\n",
       "    .dataframe tbody tr th:only-of-type {\n",
       "        vertical-align: middle;\n",
       "    }\n",
       "\n",
       "    .dataframe tbody tr th {\n",
       "        vertical-align: top;\n",
       "    }\n",
       "\n",
       "    .dataframe thead th {\n",
       "        text-align: right;\n",
       "    }\n",
       "</style>\n",
       "<table border=\"1\" class=\"dataframe\">\n",
       "  <thead>\n",
       "    <tr style=\"text-align: right;\">\n",
       "      <th></th>\n",
       "      <th>overall</th>\n",
       "      <th>verified</th>\n",
       "      <th>reviewTime</th>\n",
       "      <th>reviewerID</th>\n",
       "      <th>asin</th>\n",
       "      <th>reviewerName</th>\n",
       "      <th>reviewText</th>\n",
       "      <th>summary</th>\n",
       "      <th>unixReviewTime</th>\n",
       "      <th>vote</th>\n",
       "      <th>style</th>\n",
       "      <th>image</th>\n",
       "      <th>title</th>\n",
       "      <th>brand</th>\n",
       "      <th>feature</th>\n",
       "      <th>rank</th>\n",
       "      <th>date</th>\n",
       "      <th>imageURL</th>\n",
       "      <th>imageURLHighRes</th>\n",
       "      <th>description</th>\n",
       "      <th>price</th>\n",
       "      <th>also_view</th>\n",
       "      <th>also_buy</th>\n",
       "      <th>fit</th>\n",
       "      <th>details</th>\n",
       "      <th>similar_item</th>\n",
       "      <th>tech1</th>\n",
       "    </tr>\n",
       "  </thead>\n",
       "  <tbody>\n",
       "    <tr>\n",
       "      <th>0</th>\n",
       "      <td>5.0</td>\n",
       "      <td>True</td>\n",
       "      <td>10 20, 2014</td>\n",
       "      <td>A1D4G1SNUZWQOT</td>\n",
       "      <td>7106116521</td>\n",
       "      <td>Tracy</td>\n",
       "      <td>Exactly what I needed.</td>\n",
       "      <td>perfect replacements!!</td>\n",
       "      <td>1413763200</td>\n",
       "      <td>NaN</td>\n",
       "      <td>NaN</td>\n",
       "      <td>NaN</td>\n",
       "      <td>Milliongadgets(TM) Earring Safety Backs For Fi...</td>\n",
       "      <td>NaN</td>\n",
       "      <td>NaN</td>\n",
       "      <td>2,081,098inClothing,ShoesJewelry(</td>\n",
       "      <td>fishhook</td>\n",
       "      <td>[https://images-na.ssl-images-amazon.com/image...</td>\n",
       "      <td>[https://images-na.ssl-images-amazon.com/image...</td>\n",
       "      <td>NaN</td>\n",
       "      <td>NaN</td>\n",
       "      <td>NaN</td>\n",
       "      <td>NaN</td>\n",
       "      <td>NaN</td>\n",
       "      <td>NaN</td>\n",
       "      <td>NaN</td>\n",
       "      <td>NaN</td>\n",
       "    </tr>\n",
       "    <tr>\n",
       "      <th>1</th>\n",
       "      <td>2.0</td>\n",
       "      <td>True</td>\n",
       "      <td>09 28, 2014</td>\n",
       "      <td>A3DDWDH9PX2YX2</td>\n",
       "      <td>7106116521</td>\n",
       "      <td>Sonja Lau</td>\n",
       "      <td>I agree with the other review, the opening is ...</td>\n",
       "      <td>I agree with the other review, the opening is ...</td>\n",
       "      <td>1411862400</td>\n",
       "      <td>3</td>\n",
       "      <td>NaN</td>\n",
       "      <td>NaN</td>\n",
       "      <td>Milliongadgets(TM) Earring Safety Backs For Fi...</td>\n",
       "      <td>NaN</td>\n",
       "      <td>NaN</td>\n",
       "      <td>2,081,098inClothing,ShoesJewelry(</td>\n",
       "      <td>fishhook</td>\n",
       "      <td>[https://images-na.ssl-images-amazon.com/image...</td>\n",
       "      <td>[https://images-na.ssl-images-amazon.com/image...</td>\n",
       "      <td>NaN</td>\n",
       "      <td>NaN</td>\n",
       "      <td>NaN</td>\n",
       "      <td>NaN</td>\n",
       "      <td>NaN</td>\n",
       "      <td>NaN</td>\n",
       "      <td>NaN</td>\n",
       "      <td>NaN</td>\n",
       "    </tr>\n",
       "  </tbody>\n",
       "</table>\n",
       "</div>"
      ],
      "text/plain": [
       "   overall  verified   reviewTime      reviewerID        asin reviewerName  \\\n",
       "0      5.0      True  10 20, 2014  A1D4G1SNUZWQOT  7106116521        Tracy   \n",
       "1      2.0      True  09 28, 2014  A3DDWDH9PX2YX2  7106116521    Sonja Lau   \n",
       "\n",
       "                                          reviewText  \\\n",
       "0                             Exactly what I needed.   \n",
       "1  I agree with the other review, the opening is ...   \n",
       "\n",
       "                                             summary  unixReviewTime vote  \\\n",
       "0                             perfect replacements!!      1413763200  NaN   \n",
       "1  I agree with the other review, the opening is ...      1411862400    3   \n",
       "\n",
       "  style image                                              title brand  \\\n",
       "0   NaN   NaN  Milliongadgets(TM) Earring Safety Backs For Fi...   NaN   \n",
       "1   NaN   NaN  Milliongadgets(TM) Earring Safety Backs For Fi...   NaN   \n",
       "\n",
       "  feature                               rank      date  \\\n",
       "0     NaN  2,081,098inClothing,ShoesJewelry(  fishhook   \n",
       "1     NaN  2,081,098inClothing,ShoesJewelry(  fishhook   \n",
       "\n",
       "                                            imageURL  \\\n",
       "0  [https://images-na.ssl-images-amazon.com/image...   \n",
       "1  [https://images-na.ssl-images-amazon.com/image...   \n",
       "\n",
       "                                     imageURLHighRes description price  \\\n",
       "0  [https://images-na.ssl-images-amazon.com/image...         NaN   NaN   \n",
       "1  [https://images-na.ssl-images-amazon.com/image...         NaN   NaN   \n",
       "\n",
       "  also_view also_buy  fit details similar_item tech1  \n",
       "0       NaN      NaN  NaN     NaN          NaN   NaN  \n",
       "1       NaN      NaN  NaN     NaN          NaN   NaN  "
      ]
     },
     "execution_count": 10,
     "metadata": {},
     "output_type": "execute_result"
    }
   ],
   "source": [
    "result.head(2)"
   ]
  },
  {
   "cell_type": "code",
   "execution_count": 11,
   "metadata": {
    "colab": {
     "base_uri": "https://localhost:8080/"
    },
    "id": "3mu_pitKFdYv",
    "outputId": "5a5faa77-93c3-48ff-e9c7-916e13dec495"
   },
   "outputs": [
    {
     "name": "stdout",
     "output_type": "stream",
     "text": [
      "<class 'pandas.core.frame.DataFrame'>\n",
      "Int64Index: 884806 entries, 0 to 884805\n",
      "Data columns (total 27 columns):\n",
      " #   Column           Non-Null Count   Dtype  \n",
      "---  ------           --------------   -----  \n",
      " 0   overall          884806 non-null  float64\n",
      " 1   verified         884806 non-null  bool   \n",
      " 2   reviewTime       884806 non-null  object \n",
      " 3   reviewerID       884806 non-null  object \n",
      " 4   asin             884806 non-null  object \n",
      " 5   reviewerName     884714 non-null  object \n",
      " 6   reviewText       883573 non-null  object \n",
      " 7   summary          884273 non-null  object \n",
      " 8   unixReviewTime   884806 non-null  int64  \n",
      " 9   vote             80179 non-null   object \n",
      " 10  style            304985 non-null  object \n",
      " 11  image            28813 non-null   object \n",
      " 12  title            884776 non-null  object \n",
      " 13  brand            649964 non-null  object \n",
      " 14  feature          734441 non-null  object \n",
      " 15  rank             851349 non-null  object \n",
      " 16  date             867630 non-null  object \n",
      " 17  imageURL         717533 non-null  object \n",
      " 18  imageURLHighRes  717533 non-null  object \n",
      " 19  description      198124 non-null  object \n",
      " 20  price            297772 non-null  object \n",
      " 21  also_view        307744 non-null  object \n",
      " 22  also_buy         383876 non-null  object \n",
      " 23  fit              160321 non-null  object \n",
      " 24  details          8883 non-null    object \n",
      " 25  similar_item     3659 non-null    object \n",
      " 26  tech1            4054 non-null    object \n",
      "dtypes: bool(1), float64(1), int64(1), object(24)\n",
      "memory usage: 183.1+ MB\n"
     ]
    }
   ],
   "source": [
    "result.info()"
   ]
  },
  {
   "cell_type": "code",
   "execution_count": 12,
   "metadata": {
    "id": "gWjGlj8gKb9g"
   },
   "outputs": [],
   "source": [
    "data = result"
   ]
  },
  {
   "cell_type": "code",
   "execution_count": 13,
   "metadata": {
    "id": "ZITNajaeNA7x"
   },
   "outputs": [],
   "source": [
    "# Lista de columnas a eliminar\n",
    "columns_to_drop = ['feature','vote','style', 'reviewerName', 'image','title','date','imageURL','imageURLHighRes','also_view','also_buy','fit','details','similar_item','tech1','description']\n",
    "\n",
    "# Eliminar columnas\n",
    "data = data.drop(columns=columns_to_drop, errors='ignore')"
   ]
  },
  {
   "cell_type": "code",
   "execution_count": 14,
   "metadata": {
    "id": "43qXPpwqVnxs"
   },
   "outputs": [],
   "source": [
    "data.dropna(inplace=True)"
   ]
  },
  {
   "cell_type": "code",
   "execution_count": 15,
   "metadata": {
    "id": "IUWpdCaVXUuc"
   },
   "outputs": [],
   "source": [
    "# Extraer todos los números y comas del principio de la cadena\n",
    "extracted_series = data['rank'].str.extract(r'([\\d,]+)')[0]\n",
    "\n",
    "# Convertir \"nan\" (cadena) a np.nan\n",
    "extracted_series.replace(\"nan\", np.nan, inplace=True)\n",
    "\n",
    "\n",
    "# Eliminar comas y convertir a int\n",
    "data['extracted_rank'] = extracted_series.str.replace(',', '').fillna('0').astype(int)\n",
    "\n",
    "\n",
    "# Rellenar valores NaN con 0, eliminar comas y convertir a entero\n",
    "data['extracted_rank'] = extracted_series.fillna(0).astype(str).str.replace(',', '').astype(int)"
   ]
  },
  {
   "cell_type": "code",
   "execution_count": 16,
   "metadata": {
    "id": "wcmV245GXlRa"
   },
   "outputs": [],
   "source": [
    "# Extraer el primer valor cuando hay un rango de precios\n",
    "data['price'] = data['price'].str.extract(r'(\\d+.\\d+)')[0]\n",
    "\n",
    "# Eliminar el símbolo $ y las comas, luego convertir a float\n",
    "data['price'] = data['price'].str.replace('$', '', regex=True).str.replace(',', '').astype(float)"
   ]
  },
  {
   "cell_type": "code",
   "execution_count": 17,
   "metadata": {
    "id": "c3Aah6TOYVEi"
   },
   "outputs": [],
   "source": [
    "# Convertir la columna unixReviewTime a un formato de fecha\n",
    "data['reviewDate'] = pd.to_datetime(data['unixReviewTime'], unit='s').dt.date"
   ]
  },
  {
   "cell_type": "code",
   "execution_count": 18,
   "metadata": {
    "id": "ZzkqIgyZj4or"
   },
   "outputs": [],
   "source": [
    "data = data[data['verified'] == True]"
   ]
  },
  {
   "cell_type": "code",
   "execution_count": 19,
   "metadata": {
    "colab": {
     "base_uri": "https://localhost:8080/"
    },
    "id": "R8hjLathVqGr",
    "outputId": "deea2ef6-337f-47c5-8087-e34563df27ab"
   },
   "outputs": [
    {
     "name": "stdout",
     "output_type": "stream",
     "text": [
      "<class 'pandas.core.frame.DataFrame'>\n",
      "Int64Index: 196517 entries, 17 to 884727\n",
      "Data columns (total 13 columns):\n",
      " #   Column          Non-Null Count   Dtype  \n",
      "---  ------          --------------   -----  \n",
      " 0   overall         196517 non-null  float64\n",
      " 1   verified        196517 non-null  bool   \n",
      " 2   reviewTime      196517 non-null  object \n",
      " 3   reviewerID      196517 non-null  object \n",
      " 4   asin            196517 non-null  object \n",
      " 5   reviewText      196517 non-null  object \n",
      " 6   summary         196517 non-null  object \n",
      " 7   unixReviewTime  196517 non-null  int64  \n",
      " 8   brand           196517 non-null  object \n",
      " 9   rank            196517 non-null  object \n",
      " 10  price           196517 non-null  float64\n",
      " 11  extracted_rank  196517 non-null  int32  \n",
      " 12  reviewDate      196517 non-null  object \n",
      "dtypes: bool(1), float64(2), int32(1), int64(1), object(8)\n",
      "memory usage: 18.9+ MB\n"
     ]
    }
   ],
   "source": [
    "data.info()"
   ]
  },
  {
   "cell_type": "code",
   "execution_count": 20,
   "metadata": {
    "colab": {
     "base_uri": "https://localhost:8080/",
     "height": 112
    },
    "id": "pRQaXclfVDkv",
    "outputId": "5c38ea94-cc8d-416c-9c98-7d6b16464801"
   },
   "outputs": [
    {
     "data": {
      "text/html": [
       "<div>\n",
       "<style scoped>\n",
       "    .dataframe tbody tr th:only-of-type {\n",
       "        vertical-align: middle;\n",
       "    }\n",
       "\n",
       "    .dataframe tbody tr th {\n",
       "        vertical-align: top;\n",
       "    }\n",
       "\n",
       "    .dataframe thead th {\n",
       "        text-align: right;\n",
       "    }\n",
       "</style>\n",
       "<table border=\"1\" class=\"dataframe\">\n",
       "  <thead>\n",
       "    <tr style=\"text-align: right;\">\n",
       "      <th></th>\n",
       "      <th>overall</th>\n",
       "      <th>verified</th>\n",
       "      <th>reviewTime</th>\n",
       "      <th>reviewerID</th>\n",
       "      <th>asin</th>\n",
       "      <th>reviewText</th>\n",
       "      <th>summary</th>\n",
       "      <th>unixReviewTime</th>\n",
       "      <th>brand</th>\n",
       "      <th>rank</th>\n",
       "      <th>price</th>\n",
       "      <th>extracted_rank</th>\n",
       "      <th>reviewDate</th>\n",
       "    </tr>\n",
       "  </thead>\n",
       "  <tbody>\n",
       "    <tr>\n",
       "      <th>17</th>\n",
       "      <td>3.0</td>\n",
       "      <td>True</td>\n",
       "      <td>09 22, 2013</td>\n",
       "      <td>A1BB77SEBQT8VX</td>\n",
       "      <td>B00007GDFV</td>\n",
       "      <td>mother - in - law wanted it as a present for h...</td>\n",
       "      <td>bought as a present</td>\n",
       "      <td>1379808000</td>\n",
       "      <td>Buxton</td>\n",
       "      <td>43,930inClothing,Shoesamp;Jewelry(</td>\n",
       "      <td>16.95</td>\n",
       "      <td>43930</td>\n",
       "      <td>2013-09-22</td>\n",
       "    </tr>\n",
       "    <tr>\n",
       "      <th>18</th>\n",
       "      <td>3.0</td>\n",
       "      <td>True</td>\n",
       "      <td>09 22, 2013</td>\n",
       "      <td>A1BB77SEBQT8VX</td>\n",
       "      <td>B00007GDFV</td>\n",
       "      <td>mother - in - law wanted it as a present for h...</td>\n",
       "      <td>bought as a present</td>\n",
       "      <td>1379808000</td>\n",
       "      <td>Buxton</td>\n",
       "      <td>43,930inClothing,Shoesamp;Jewelry(</td>\n",
       "      <td>16.95</td>\n",
       "      <td>43930</td>\n",
       "      <td>2013-09-22</td>\n",
       "    </tr>\n",
       "  </tbody>\n",
       "</table>\n",
       "</div>"
      ],
      "text/plain": [
       "    overall  verified   reviewTime      reviewerID        asin  \\\n",
       "17      3.0      True  09 22, 2013  A1BB77SEBQT8VX  B00007GDFV   \n",
       "18      3.0      True  09 22, 2013  A1BB77SEBQT8VX  B00007GDFV   \n",
       "\n",
       "                                           reviewText              summary  \\\n",
       "17  mother - in - law wanted it as a present for h...  bought as a present   \n",
       "18  mother - in - law wanted it as a present for h...  bought as a present   \n",
       "\n",
       "    unixReviewTime   brand                                rank  price  \\\n",
       "17      1379808000  Buxton  43,930inClothing,Shoesamp;Jewelry(  16.95   \n",
       "18      1379808000  Buxton  43,930inClothing,Shoesamp;Jewelry(  16.95   \n",
       "\n",
       "    extracted_rank  reviewDate  \n",
       "17           43930  2013-09-22  \n",
       "18           43930  2013-09-22  "
      ]
     },
     "execution_count": 20,
     "metadata": {},
     "output_type": "execute_result"
    }
   ],
   "source": [
    "data.head(2)"
   ]
  },
  {
   "cell_type": "code",
   "execution_count": 21,
   "metadata": {
    "id": "uJyAKOILYeCx"
   },
   "outputs": [],
   "source": [
    "# Lista de columnas a eliminar\n",
    "columns_to_drop = ['reviewTime','unixReviewTime','rank','verified']\n",
    "\n",
    "# Eliminar columnas\n",
    "data = data.drop(columns=columns_to_drop, errors='ignore')"
   ]
  },
  {
   "cell_type": "code",
   "execution_count": 22,
   "metadata": {
    "id": "lbMvyOeinCMI"
   },
   "outputs": [],
   "source": [
    "# Convertir reviewDate a tipo de dato datetime (si aún no lo has hecho)\n",
    "data['reviewDate'] = pd.to_datetime(data['reviewDate'])"
   ]
  },
  {
   "cell_type": "code",
   "execution_count": 23,
   "metadata": {
    "colab": {
     "base_uri": "https://localhost:8080/",
     "height": 112
    },
    "id": "CefArerEYkof",
    "outputId": "dbe8a94c-1408-4c00-d19e-22220c23f187"
   },
   "outputs": [
    {
     "data": {
      "text/html": [
       "<div>\n",
       "<style scoped>\n",
       "    .dataframe tbody tr th:only-of-type {\n",
       "        vertical-align: middle;\n",
       "    }\n",
       "\n",
       "    .dataframe tbody tr th {\n",
       "        vertical-align: top;\n",
       "    }\n",
       "\n",
       "    .dataframe thead th {\n",
       "        text-align: right;\n",
       "    }\n",
       "</style>\n",
       "<table border=\"1\" class=\"dataframe\">\n",
       "  <thead>\n",
       "    <tr style=\"text-align: right;\">\n",
       "      <th></th>\n",
       "      <th>overall</th>\n",
       "      <th>reviewerID</th>\n",
       "      <th>asin</th>\n",
       "      <th>reviewText</th>\n",
       "      <th>summary</th>\n",
       "      <th>brand</th>\n",
       "      <th>price</th>\n",
       "      <th>extracted_rank</th>\n",
       "      <th>reviewDate</th>\n",
       "    </tr>\n",
       "  </thead>\n",
       "  <tbody>\n",
       "    <tr>\n",
       "      <th>17</th>\n",
       "      <td>3.0</td>\n",
       "      <td>A1BB77SEBQT8VX</td>\n",
       "      <td>B00007GDFV</td>\n",
       "      <td>mother - in - law wanted it as a present for h...</td>\n",
       "      <td>bought as a present</td>\n",
       "      <td>Buxton</td>\n",
       "      <td>16.95</td>\n",
       "      <td>43930</td>\n",
       "      <td>2013-09-22</td>\n",
       "    </tr>\n",
       "    <tr>\n",
       "      <th>18</th>\n",
       "      <td>3.0</td>\n",
       "      <td>A1BB77SEBQT8VX</td>\n",
       "      <td>B00007GDFV</td>\n",
       "      <td>mother - in - law wanted it as a present for h...</td>\n",
       "      <td>bought as a present</td>\n",
       "      <td>Buxton</td>\n",
       "      <td>16.95</td>\n",
       "      <td>43930</td>\n",
       "      <td>2013-09-22</td>\n",
       "    </tr>\n",
       "  </tbody>\n",
       "</table>\n",
       "</div>"
      ],
      "text/plain": [
       "    overall      reviewerID        asin  \\\n",
       "17      3.0  A1BB77SEBQT8VX  B00007GDFV   \n",
       "18      3.0  A1BB77SEBQT8VX  B00007GDFV   \n",
       "\n",
       "                                           reviewText              summary  \\\n",
       "17  mother - in - law wanted it as a present for h...  bought as a present   \n",
       "18  mother - in - law wanted it as a present for h...  bought as a present   \n",
       "\n",
       "     brand  price  extracted_rank reviewDate  \n",
       "17  Buxton  16.95           43930 2013-09-22  \n",
       "18  Buxton  16.95           43930 2013-09-22  "
      ]
     },
     "execution_count": 23,
     "metadata": {},
     "output_type": "execute_result"
    }
   ],
   "source": [
    "data.head(2)"
   ]
  },
  {
   "cell_type": "code",
   "execution_count": 24,
   "metadata": {
    "colab": {
     "base_uri": "https://localhost:8080/"
    },
    "id": "J3XBlRlhkbQt",
    "outputId": "caf5fccf-fe88-4beb-eef4-dc7b7d446dbf"
   },
   "outputs": [
    {
     "name": "stdout",
     "output_type": "stream",
     "text": [
      "<class 'pandas.core.frame.DataFrame'>\n",
      "Int64Index: 196517 entries, 17 to 884727\n",
      "Data columns (total 9 columns):\n",
      " #   Column          Non-Null Count   Dtype         \n",
      "---  ------          --------------   -----         \n",
      " 0   overall         196517 non-null  float64       \n",
      " 1   reviewerID      196517 non-null  object        \n",
      " 2   asin            196517 non-null  object        \n",
      " 3   reviewText      196517 non-null  object        \n",
      " 4   summary         196517 non-null  object        \n",
      " 5   brand           196517 non-null  object        \n",
      " 6   price           196517 non-null  float64       \n",
      " 7   extracted_rank  196517 non-null  int32         \n",
      " 8   reviewDate      196517 non-null  datetime64[ns]\n",
      "dtypes: datetime64[ns](1), float64(2), int32(1), object(5)\n",
      "memory usage: 14.2+ MB\n"
     ]
    }
   ],
   "source": [
    "data.info()"
   ]
  },
  {
   "cell_type": "code",
   "execution_count": 25,
   "metadata": {
    "colab": {
     "base_uri": "https://localhost:8080/"
    },
    "id": "AU0ZKLT_KWuz",
    "outputId": "93b6607f-a49c-49d1-999c-128b757e46bf"
   },
   "outputs": [
    {
     "name": "stdout",
     "output_type": "stream",
     "text": [
      "(196517, 9)\n"
     ]
    }
   ],
   "source": [
    "# 1. Entendimiento Básico\n",
    "print(data.shape)\n",
    "#print(data.info())\n",
    "#print(data.head())\n",
    "#print(data.tail())"
   ]
  },
  {
   "cell_type": "code",
   "execution_count": 26,
   "metadata": {
    "id": "PXtqY115gxB8"
   },
   "outputs": [],
   "source": [
    "#unique_values_freq = data['verified'].value_counts()\n",
    "#print(unique_values_freq)"
   ]
  },
  {
   "cell_type": "code",
   "execution_count": 27,
   "metadata": {
    "colab": {
     "base_uri": "https://localhost:8080/"
    },
    "id": "SBBqKGS-KW45",
    "outputId": "4d0a9b4a-6fab-40c6-e7fe-274a148458ec"
   },
   "outputs": [
    {
     "name": "stdout",
     "output_type": "stream",
     "text": [
      "             overall          price  extracted_rank\n",
      "count  196517.000000  196517.000000    1.965170e+05\n",
      "mean        4.118514      20.262975    8.572890e+05\n",
      "std         1.306185      32.625215    1.929104e+06\n",
      "min         1.000000       0.010000    0.000000e+00\n",
      "25%         4.000000       8.990000    4.756900e+04\n",
      "50%         5.000000      12.900000    2.404050e+05\n",
      "75%         5.000000      19.990000    8.369710e+05\n",
      "max         5.000000    3000.000000    2.707478e+07\n"
     ]
    },
    {
     "name": "stderr",
     "output_type": "stream",
     "text": [
      "C:\\Users\\Usuario\\AppData\\Local\\Temp\\ipykernel_16544\\1164496408.py:3: DeprecationWarning: `np.object` is a deprecated alias for the builtin `object`. To silence this warning, use `object` by itself. Doing this will not modify any behavior and is safe. \n",
      "Deprecated in NumPy 1.20; for more details and guidance: https://numpy.org/devdocs/release/1.20.0-notes.html#deprecations\n",
      "  print(data.describe(include=[np.object]))\n"
     ]
    },
    {
     "name": "stdout",
     "output_type": "stream",
     "text": [
      "            reviewerID        asin reviewText     summary    brand\n",
      "count           196517      196517     196517      196517   196517\n",
      "unique          184940       13557     175690       94277     4409\n",
      "top     A2GP4EJIAA2OE0  B00RLSCLJM    Love it  Five Stars  i play.\n",
      "freq                 7        3571        539       44327     5350\n"
     ]
    }
   ],
   "source": [
    "# 2. Estadísticas Descriptivas\n",
    "print(data.describe())\n",
    "print(data.describe(include=[np.object]))"
   ]
  },
  {
   "cell_type": "code",
   "execution_count": 28,
   "metadata": {
    "colab": {
     "base_uri": "https://localhost:8080/"
    },
    "id": "el-gc40KKW75",
    "outputId": "b8e4c6c9-d88a-4a50-8639-47c25fc5742d"
   },
   "outputs": [
    {
     "name": "stdout",
     "output_type": "stream",
     "text": [
      "overall           0\n",
      "reviewerID        0\n",
      "asin              0\n",
      "reviewText        0\n",
      "summary           0\n",
      "brand             0\n",
      "price             0\n",
      "extracted_rank    0\n",
      "reviewDate        0\n",
      "dtype: int64\n"
     ]
    }
   ],
   "source": [
    "# 3. Manejo de Valores Faltantes\n",
    "missing_values = data.isnull().sum()\n",
    "print(missing_values)"
   ]
  },
  {
   "cell_type": "code",
   "execution_count": 34,
   "metadata": {},
   "outputs": [
    {
     "name": "stdout",
     "output_type": "stream",
     "text": [
      "i play.              5350\n",
      "MJ Metals Jewelry    5039\n",
      "Pierced Owl          3939\n",
      "LaSuiveur            1937\n",
      "Boomer Eyeware       1888\n",
      "                     ... \n",
      "Swan                    1\n",
      "MyButterflyBasket       1\n",
      "WEIDE                   1\n",
      "3M                      1\n",
      "IK COLOURING            1\n",
      "Name: brand, Length: 4409, dtype: int64\n"
     ]
    }
   ],
   "source": [
    "unique_values_freq = data['brand'].value_counts()\n",
    "print(unique_values_freq)"
   ]
  },
  {
   "cell_type": "code",
   "execution_count": 31,
   "metadata": {},
   "outputs": [],
   "source": [
    "# Guardar el DataFrame en un archivo CSV\n",
    "data.to_csv('AMAZON_FASHION.csv', index=False)  # 'index=False' para no guardar el índice del DataFrame"
   ]
  },
  {
   "cell_type": "code",
   "execution_count": 33,
   "metadata": {},
   "outputs": [],
   "source": [
    "# Guardar el DataFrame en un archivo Excel\n",
    "data.to_excel('AMAZON_FASHION.xlsx', index=False, engine='openpyxl')"
   ]
  }
 ],
 "metadata": {
  "colab": {
   "provenance": []
  },
  "kernelspec": {
   "display_name": "Python 3 (ipykernel)",
   "language": "python",
   "name": "python3"
  },
  "language_info": {
   "codemirror_mode": {
    "name": "ipython",
    "version": 3
   },
   "file_extension": ".py",
   "mimetype": "text/x-python",
   "name": "python",
   "nbconvert_exporter": "python",
   "pygments_lexer": "ipython3",
   "version": "3.10.9"
  }
 },
 "nbformat": 4,
 "nbformat_minor": 1
}
