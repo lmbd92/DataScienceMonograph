{
  "cells": [
    {
      "cell_type": "markdown",
      "metadata": {
        "id": "V-SSaV-bRZZl"
      },
      "source": [
        "# Paso 1: Importar Librerías de Python\n"
      ]
    },
    {
      "cell_type": "code",
      "execution_count": 1,
      "metadata": {
        "colab": {
          "base_uri": "https://localhost:8080/"
        },
        "id": "K4mFYevMKu6y",
        "outputId": "5409f163-15e1-4c2d-b4e0-b038c6c14d55"
      },
      "outputs": [
        {
          "output_type": "stream",
          "name": "stdout",
          "text": [
            "Collecting scikit-surprise\n",
            "  Downloading scikit-surprise-1.1.3.tar.gz (771 kB)\n",
            "\u001b[?25l     \u001b[90m━━━━━━━━━━━━━━━━━━━━━━━━━━━━━━━━━━━━━━━━\u001b[0m \u001b[32m0.0/772.0 kB\u001b[0m \u001b[31m?\u001b[0m eta \u001b[36m-:--:--\u001b[0m\r\u001b[2K     \u001b[91m━━━━\u001b[0m\u001b[91m╸\u001b[0m\u001b[90m━━━━━━━━━━━━━━━━━━━━━━━━━━━━━━━━━━━\u001b[0m \u001b[32m92.2/772.0 kB\u001b[0m \u001b[31m3.3 MB/s\u001b[0m eta \u001b[36m0:00:01\u001b[0m\r\u001b[2K     \u001b[90m━━━━━━━━━━━━━━━━━━━━━━━━━━━━━━━━━━━━━━━━\u001b[0m \u001b[32m772.0/772.0 kB\u001b[0m \u001b[31m12.7 MB/s\u001b[0m eta \u001b[36m0:00:00\u001b[0m\n",
            "\u001b[?25h  Preparing metadata (setup.py) ... \u001b[?25l\u001b[?25hdone\n",
            "Requirement already satisfied: joblib>=1.0.0 in /usr/local/lib/python3.10/dist-packages (from scikit-surprise) (1.3.2)\n",
            "Requirement already satisfied: numpy>=1.17.3 in /usr/local/lib/python3.10/dist-packages (from scikit-surprise) (1.23.5)\n",
            "Requirement already satisfied: scipy>=1.3.2 in /usr/local/lib/python3.10/dist-packages (from scikit-surprise) (1.11.3)\n",
            "Building wheels for collected packages: scikit-surprise\n",
            "  Building wheel for scikit-surprise (setup.py) ... \u001b[?25l\u001b[?25hdone\n",
            "  Created wheel for scikit-surprise: filename=scikit_surprise-1.1.3-cp310-cp310-linux_x86_64.whl size=3163486 sha256=2074e7462c917ef69600d9c0abf9ebe4d188801147f33a11f349ea347de7e452\n",
            "  Stored in directory: /root/.cache/pip/wheels/a5/ca/a8/4e28def53797fdc4363ca4af740db15a9c2f1595ebc51fb445\n",
            "Successfully built scikit-surprise\n",
            "Installing collected packages: scikit-surprise\n",
            "Successfully installed scikit-surprise-1.1.3\n"
          ]
        }
      ],
      "source": [
        "#pip install scikit-surprise"
      ]
    },
    {
      "cell_type": "code",
      "execution_count": 2,
      "metadata": {
        "id": "47ItRxlORZ9i"
      },
      "outputs": [],
      "source": [
        "# Análisis de datos y manipulación\n",
        "import pandas as pd\n",
        "import numpy as np\n",
        "import random\n",
        "\n",
        "\n",
        "# Visualización de datos\n",
        "import matplotlib.pyplot as plt\n",
        "import seaborn as sns\n",
        "\n",
        "# Utilidades de fechas\n",
        "from datetime import datetime\n",
        "\n",
        "# Integración con Google Colab\n",
        "from google.colab import drive\n",
        "\n",
        "# Machine Learning: Preprocesamiento y división de datos\n",
        "from sklearn.model_selection import train_test_split\n",
        "from sklearn.preprocessing import LabelEncoder\n",
        "\n",
        "# Machine Learning: Métricas\n",
        "from sklearn.metrics import mean_squared_error, mean_absolute_error\n",
        "from sklearn.metrics.pairwise import cosine_similarity\n",
        "\n",
        "# Machine Learning: Modelado y validación\n",
        "from surprise import SVD, Reader, Dataset, accuracy\n",
        "from surprise.model_selection import train_test_split, GridSearchCV\n",
        "\n",
        "# Deep Learning: Construcción de modelos y capas\n",
        "from keras.models import Model\n",
        "from keras.layers import Input, Embedding, Flatten, Concatenate, Dense, Dropout, Dot,Lambda\n",
        "\n",
        "# Deep Learning: Optimización y regularización\n",
        "from keras.optimizers import Adam\n",
        "from keras.regularizers import l2\n",
        "\n",
        "# Deep Learning: Callbacks\n",
        "from keras.callbacks import EarlyStopping, ReduceLROnPlateau"
      ]
    },
    {
      "cell_type": "code",
      "execution_count": 3,
      "metadata": {
        "colab": {
          "base_uri": "https://localhost:8080/"
        },
        "id": "8bHcBRlQYY4h",
        "outputId": "2b376aa8-96bf-485d-b120-b1f127b16bcb"
      },
      "outputs": [
        {
          "output_type": "stream",
          "name": "stdout",
          "text": [
            "Mounted at /content/drive\n"
          ]
        }
      ],
      "source": [
        "drive.mount('/content/drive')"
      ]
    },
    {
      "cell_type": "markdown",
      "metadata": {
        "id": "209f_YHQRaCi"
      },
      "source": [
        "# Paso 2: Lectura del Dataset"
      ]
    },
    {
      "cell_type": "code",
      "execution_count": 4,
      "metadata": {
        "colab": {
          "base_uri": "https://localhost:8080/"
        },
        "id": "9vIFqmMIRaIc",
        "outputId": "e0c612d3-2023-4b5b-cd31-39db7a3345bd"
      },
      "outputs": [
        {
          "output_type": "stream",
          "name": "stderr",
          "text": [
            "<ipython-input-4-0042e1a2d348>:1: DtypeWarning: Columns (5) have mixed types. Specify dtype option on import or set low_memory=False.\n",
            "  df = pd.read_csv('/content/drive/MyDrive/EspecializacionA&DS/Monografia/2doSemestre/DataFinal_Amazon.csv')\n"
          ]
        }
      ],
      "source": [
        "df = pd.read_csv('/content/drive/MyDrive/EspecializacionA&DS/Monografia/2doSemestre/DataFinal_Amazon.csv')"
      ]
    },
    {
      "cell_type": "code",
      "execution_count": 5,
      "metadata": {
        "colab": {
          "base_uri": "https://localhost:8080/"
        },
        "id": "LwnA5HnLr8r6",
        "outputId": "0a6b11f9-7cd1-41d9-d43d-7177984f1d00"
      },
      "outputs": [
        {
          "output_type": "execute_result",
          "data": {
            "text/plain": [
              "(4800571, 10)"
            ]
          },
          "metadata": {},
          "execution_count": 5
        }
      ],
      "source": [
        "df.shape"
      ]
    },
    {
      "cell_type": "code",
      "source": [
        "sentimiento = pd.read_csv('/content/drive/MyDrive/EspecializacionA&DS/Monografia/2doSemestre/sentimientos_productos.csv')"
      ],
      "metadata": {
        "id": "ie_sBz5jIl9b"
      },
      "execution_count": 6,
      "outputs": []
    },
    {
      "cell_type": "code",
      "source": [
        "sentimiento.shape"
      ],
      "metadata": {
        "colab": {
          "base_uri": "https://localhost:8080/"
        },
        "id": "QjO3jVBrIrlA",
        "outputId": "6d63b844-4461-4f24-ceb2-96678abaf71c"
      },
      "execution_count": 7,
      "outputs": [
        {
          "output_type": "execute_result",
          "data": {
            "text/plain": [
              "(154026, 4)"
            ]
          },
          "metadata": {},
          "execution_count": 7
        }
      ]
    },
    {
      "cell_type": "markdown",
      "source": [
        "# Modelo de Filtrado Colaborativo usando SVD"
      ],
      "metadata": {
        "id": "e2OAl7WYZdis"
      }
    },
    {
      "cell_type": "code",
      "source": [
        "%%time\n",
        "import pandas as pd\n",
        "import numpy as np\n",
        "import random\n",
        "from surprise import SVD, Dataset, Reader, accuracy\n",
        "from surprise.model_selection import train_test_split, GridSearchCV\n",
        "from sklearn.metrics import mean_squared_error, mean_absolute_error\n",
        "from sklearn.preprocessing import LabelEncoder\n",
        "from surprise import Prediction\n",
        "\n",
        "# Suponiendo que df es tu DataFrame y tiene las columnas 'reviewerID', 'asin', y 'overall'\n",
        "\n",
        "# Crear y ajustar LabelEncoders\n",
        "reviewerID_encoder = LabelEncoder()\n",
        "asin_encoder = LabelEncoder()\n",
        "\n",
        "df['reviewerID_encoded'] = reviewerID_encoder.fit_transform(df['reviewerID'])\n",
        "df['asin_encoded'] = asin_encoder.fit_transform(df['asin'])\n",
        "\n",
        "# Leer y procesar datos para Surprise\n",
        "reader = Reader(rating_scale=(0, 5))\n",
        "data = Dataset.load_from_df(df[['reviewerID_encoded', 'asin_encoded', 'overall']], reader)\n",
        "\n",
        "# Dividir el dataset\n",
        "trainset, testset = train_test_split(data, test_size=0.3, random_state=10)\n",
        "\n",
        "# Optimización de hiperparámetros usando GridSearchCV\n",
        "param_grid = {\n",
        "    'n_epochs': [5, 10, 15,20,25],\n",
        "    'lr_all': [0.001, 0.005, 0.01, 0.1],\n",
        "    'reg_all': [0.01, 0.1, 0.5]\n",
        "}\n",
        "gs = GridSearchCV(SVD, param_grid, measures=['rmse', 'mae'], cv=3)\n",
        "gs.fit(data)\n",
        "\n",
        "# Mejores hiperparámetros y sus correspondientes RMSE y MAE\n",
        "print(gs.best_params['rmse'])\n",
        "print(gs.best_score['rmse'])\n",
        "\n",
        "# Entrenar el modelo SVD con los mejores hiperparámetros\n",
        "svd = gs.best_estimator['rmse']\n",
        "svd.fit(trainset)\n",
        "predictions_svd = svd.test(testset)\n",
        "\n",
        "# Ajustar las predicciones para que estén en el rango de 0 a 5\n",
        "adjusted_predictions = []\n",
        "for pred in predictions_svd:\n",
        "    adjusted_est = min(5, max(0, pred.est))\n",
        "    adjusted_pred = Prediction(pred.uid, pred.iid, pred.r_ui, adjusted_est, pred.details)\n",
        "    adjusted_predictions.append(adjusted_pred)\n",
        "\n",
        "# Función para calcular el Mean Absolute Percentage Error (MAPE)\n",
        "def mape(y_true, y_pred):\n",
        "    y_true, y_pred = np.array(y_true), np.array(y_pred)\n",
        "    return np.mean(np.abs((y_true - y_pred) / y_true)) * 100\n",
        "\n",
        "# Evaluar el modelo con las predicciones ajustadas\n",
        "rmse_svd = accuracy.rmse(adjusted_predictions, verbose=True)\n",
        "mse_svd = mean_squared_error([pred.r_ui for pred in adjusted_predictions], [pred.est for pred in adjusted_predictions])\n",
        "mae_svd = mean_absolute_error([pred.r_ui for pred in adjusted_predictions], [pred.est for pred in adjusted_predictions])\n",
        "mape_svd = mape([pred.r_ui for pred in adjusted_predictions], [pred.est for pred in adjusted_predictions])\n",
        "\n",
        "print(f\"SVD - RMSE: {rmse_svd}, MSE: {mse_svd}, MAE: {mae_svd}, MAPE: {mape_svd}\")"
      ],
      "metadata": {
        "colab": {
          "base_uri": "https://localhost:8080/"
        },
        "id": "1xVG5CMuZd1o",
        "outputId": "0639c952-324b-429f-8b1b-83389e75f103"
      },
      "execution_count": 34,
      "outputs": [
        {
          "output_type": "stream",
          "name": "stdout",
          "text": [
            "{'n_epochs': 25, 'lr_all': 0.1, 'reg_all': 0.01}\n",
            "1.0540894633716795\n",
            "RMSE: 1.0508\n",
            "SVD - RMSE: 1.0508020021896767, MSE: 1.1041848478058334, MAE: 0.7438489799445671, MAPE: 30.675946484388746\n",
            "CPU times: user 3h 30min 50s, sys: 3min 9s, total: 3h 33min 59s\n",
            "Wall time: 3h 32min 14s\n"
          ]
        }
      ]
    },
    {
      "cell_type": "markdown",
      "source": [
        "# Recomendación"
      ],
      "metadata": {
        "id": "mht4XVoYZ6WY"
      }
    },
    {
      "cell_type": "code",
      "source": [
        "# Convertir el conjunto de prueba a un DataFrame para facilitar el manejo\n",
        "test_df = pd.DataFrame(testset, columns=['reviewerID_encoded', 'asin_encoded', 'overall'])\n",
        "\n",
        "# Seleccionar un usuario al azar del conjunto de prueba\n",
        "usuario_id_test_encoded = random.choice(test_df['reviewerID_encoded'].unique())\n",
        "\n",
        "# Decodificar el ID del usuario para obtener el ID original\n",
        "usuario_id_test = reviewerID_encoder.inverse_transform([usuario_id_test_encoded])[0]\n",
        "\n",
        "# Identificar los ítems que el usuario ha calificado en el conjunto de prueba\n",
        "indices_usuario = test_df[test_df['reviewerID_encoded'] == usuario_id_test_encoded].index\n",
        "items_calificados_test_encoded = test_df.loc[indices_usuario, 'asin_encoded']\n",
        "calificaciones_reales_test = test_df.loc[indices_usuario, 'overall']\n",
        "\n",
        "# Predecir las calificaciones para estos ítems y ajustarlas al rango [0, 5]\n",
        "calificaciones_predichas = []\n",
        "for item in items_calificados_test_encoded:\n",
        "    pred_est = svd.predict(usuario_id_test_encoded, item).est\n",
        "    pred_est = min(5, max(0, pred_est))\n",
        "    calificaciones_predichas.append(pred_est)\n",
        "\n",
        "# Decodificar los ítems para obtener los ID originales\n",
        "items_calificados_test = asin_encoder.inverse_transform(items_calificados_test_encoded)\n",
        "\n",
        "# Comparar las calificaciones predichas con las reales\n",
        "comparacion = list(zip(items_calificados_test, calificaciones_reales_test, calificaciones_predichas))\n",
        "\n",
        "# Suponiendo que 'items_calificados_test' contiene los IDs originales de los ítems\n",
        "recomendaciones_df = pd.DataFrame({\n",
        "    'asin': items_calificados_test,\n",
        "    'Calificación Real': calificaciones_reales_test,\n",
        "    'Calificación Predicha': calificaciones_predichas\n",
        "})\n",
        "\n",
        "recomendaciones_df = recomendaciones_df.merge(sentimiento[['asin', 'cluster']], on='asin', how='left')\n",
        "recomendaciones_df.rename(columns={'cluster': 'Sentimiento'}, inplace=True)\n",
        "\n",
        "# Mostrar las recomendaciones\n",
        "print(f\"Recomendaciones para el usuario {usuario_id_test}:\")\n",
        "for index, row in recomendaciones_df.iterrows():\n",
        "    print(f\"Ítem: {row['asin']}, Calificación Real: {row['Calificación Real']}, Calificación Predicha: {row['Calificación Predicha']}, Sentimiento: {row['Sentimiento']}\")"
      ],
      "metadata": {
        "colab": {
          "base_uri": "https://localhost:8080/"
        },
        "id": "DVfybGlyZ8yh",
        "outputId": "d84db99e-d99f-42ac-92a1-65d8aadd1f77"
      },
      "execution_count": 38,
      "outputs": [
        {
          "output_type": "stream",
          "name": "stdout",
          "text": [
            "Recomendaciones para el usuario A3BO1LHV0Q41IM:\n",
            "Ítem: B011SB35BA, Calificación Real: 5.0, Calificación Predicha: 4.62938249801637, Sentimiento: Positivo\n",
            "Ítem: B01FNIYI6K, Calificación Real: 4.0, Calificación Predicha: 3.953887320758432, Sentimiento: Positivo\n",
            "Ítem: B000XUN9T6, Calificación Real: 2.0, Calificación Predicha: 2.02470515792248, Sentimiento: Neutro\n"
          ]
        }
      ]
    },
    {
      "cell_type": "code",
      "source": [
        "# Convertir el conjunto de prueba a un DataFrame para facilitar el manejo\n",
        "test_df = pd.DataFrame(testset, columns=['reviewerID_encoded', 'asin_encoded', 'overall'])\n",
        "\n",
        "# Seleccionar un usuario al azar del conjunto de prueba\n",
        "usuario_id_test_encoded = random.choice(test_df['reviewerID_encoded'].unique())\n",
        "\n",
        "# Decodificar el ID del usuario para obtener el ID original\n",
        "usuario_id = reviewerID_encoder.inverse_transform([usuario_id_test_encoded])[0]\n",
        "\n",
        "# Lista de todos los ítems únicos en el dataset\n",
        "items_unicos = np.unique(df['asin_encoded'].values)\n",
        "\n",
        "# Ítems que el usuario ya ha calificado\n",
        "items_calificados = test_df[test_df['reviewerID_encoded'] == usuario_id_test_encoded]['asin_encoded'].tolist()\n",
        "\n",
        "# Ítems para predecir\n",
        "items_a_predecir = [item for item in items_unicos if item not in items_calificados]\n",
        "\n",
        "# Predecir la calificación para cada ítem no calificado y ajustarlas al rango [0, 5]\n",
        "predicciones = []\n",
        "for item in items_a_predecir:\n",
        "    pred_est = svd.predict(usuario_id_test_encoded, item).est\n",
        "    pred_est = min(5, max(0, pred_est))\n",
        "    predicciones.append(pred_est)\n",
        "\n",
        "# Emparejar cada ítem con su predicción y decodificar los ítems\n",
        "items_predicciones = list(zip(asin_encoder.inverse_transform(items_a_predecir), predicciones))\n",
        "\n",
        "# Ordenar por la calificación predicha más alta\n",
        "items_recomendados = sorted(items_predicciones, key=lambda x: x[1], reverse=True)\n",
        "\n",
        "# Tomar los top N recomendaciones\n",
        "top_n = 5\n",
        "top_recomendaciones = items_recomendados[:top_n]\n",
        "\n",
        "# Crear un DataFrame a partir de las recomendaciones\n",
        "recomendaciones_df = pd.DataFrame(top_recomendaciones, columns=['asin', 'Calificación Predicha'])\n",
        "\n",
        "# Unir con el DataFrame 'sentimiento' para obtener el sentimiento asociado a cada ítem\n",
        "recomendaciones_df = recomendaciones_df.merge(sentimiento[['asin', 'cluster']], on='asin', how='left')\n",
        "\n",
        "# Renombrar la columna 'cluster' a 'Sentimiento' para claridad\n",
        "recomendaciones_df.rename(columns={'cluster': 'Sentimiento'}, inplace=True)\n",
        "\n",
        "# Mostrar las recomendaciones con el sentimiento\n",
        "print(f\"Recomendaciones para el usuario {usuario_id}:\")\n",
        "for index, row in recomendaciones_df.iterrows():\n",
        "    print(f\"Ítem: {row['asin']}, Calificación Predicha: {row['Calificación Predicha']}, Sentimiento: {row['Sentimiento']}\")"
      ],
      "metadata": {
        "colab": {
          "base_uri": "https://localhost:8080/"
        },
        "id": "KZDGtmhxZ8dI",
        "outputId": "7371df05-4216-4aaa-8528-623787c260ba"
      },
      "execution_count": 40,
      "outputs": [
        {
          "output_type": "stream",
          "name": "stdout",
          "text": [
            "Recomendaciones para el usuario A25RDKEYH6LWSU:\n",
            "Ítem: B00IQ79VZO, Calificación Predicha: 4.944941445245366, Sentimiento: Positivo\n",
            "Ítem: B00FOB42YA, Calificación Predicha: 4.836031793910231, Sentimiento: Positivo\n",
            "Ítem: B0042D7Q6C, Calificación Predicha: 4.8166373460026675, Sentimiento: Positivo\n",
            "Ítem: B000ZMX5KU, Calificación Predicha: 4.809041223443779, Sentimiento: Positivo\n",
            "Ítem: B00V6GSLW6, Calificación Predicha: 4.779950341792654, Sentimiento: Positivo\n"
          ]
        }
      ]
    },
    {
      "cell_type": "markdown",
      "metadata": {
        "id": "5lMsQcyyS2NS"
      },
      "source": [
        "# Modelo de Filtrado Colaborativo usando Embedding con Keras:"
      ]
    },
    {
      "cell_type": "markdown",
      "metadata": {
        "id": "yQ49x7CvmOfM"
      },
      "source": [
        "Funcionamiento:\n",
        "\n",
        "Los embeddings son representaciones vectoriales densas y de baja dimensión de ítems y/o usuarios. Estas representaciones capturan relaciones semánticas entre ítems o entre usuarios.\n",
        "\n",
        "Un método popular para generar embeddings es la factorización de matrices, como la descomposición en valores singulares (SVD). En el contexto de sistemas de recomendación, se busca factorizar la matriz de interacciones usuario-ítem en dos matrices más pequeñas (una para los usuarios y otra para los ítems) cuyo producto aproximado reproduce la matriz original lo mejor posible.\n",
        "\n",
        "Una vez que se han obtenido los embeddings, la predicción de una calificación o interacción entre un usuario e ítem se realiza tomando el producto escalar entre sus embeddings respectivos.\n",
        "\n",
        "Ventajas:\n",
        "\n",
        "Simplicidad y eficiencia en términos computacionales.\n",
        "\n",
        "Puede manejar grandes conjuntos de datos debido a su naturaleza de baja dimensión.\n",
        "\n",
        "Es efectivo para capturar patrones subyacentes en los datos.\n",
        "\n",
        "Desventajas:\n",
        "\n",
        "No tiene en cuenta características adicionales de usuarios o ítems.\n",
        "\n",
        "Dificultades para manejar nuevos ítems o usuarios (problema de arranque en frío)."
      ]
    },
    {
      "cell_type": "markdown",
      "metadata": {
        "id": "sJ482XODiA8T"
      },
      "source": [
        "El código ahora incluye regularización en los embeddings, un callback para detener el entrenamiento si no hay mejoras (early stopping) y otro para reducir la tasa de aprendizaje si el error de validación no mejora (reduce learning rate on plateau)."
      ]
    },
    {
      "cell_type": "code",
      "execution_count": 8,
      "metadata": {
        "id": "3oQAn6BZT8ZB"
      },
      "outputs": [],
      "source": [
        "data = df"
      ]
    },
    {
      "cell_type": "code",
      "execution_count": 9,
      "metadata": {
        "id": "22AEmdhqU9vC"
      },
      "outputs": [],
      "source": [
        "# Crear un LabelEncoder para cada columna\n",
        "reviewerID_encoder = LabelEncoder()\n",
        "asin_encoder = LabelEncoder()\n",
        "\n",
        "# Ajustar y transformar las columnas\n",
        "data['reviewerID_encoded'] = reviewerID_encoder.fit_transform(data['reviewerID'])\n",
        "data['asin_encoded'] = asin_encoder.fit_transform(data['asin'])\n",
        "\n",
        "# Número de usuarios únicos y número de ítems únicos\n",
        "n_users = len(np.unique(data['reviewerID_encoded']))\n",
        "n_items = len(np.unique(data['asin_encoded']))\n",
        "\n",
        "# Dimensiones del embedding\n",
        "embedding_dim = 10\n",
        "\n",
        "# Entradas\n",
        "user_input = Input(shape=(1,))\n",
        "item_input = Input(shape=(1,))\n",
        "\n",
        "# Embeddings con regularización\n",
        "user_embedding = Embedding(n_users, embedding_dim, embeddings_regularizer=l2(1e-6))(user_input)\n",
        "item_embedding = Embedding(n_items, embedding_dim, embeddings_regularizer=l2(1e-6))(item_input)\n",
        "\n",
        "# Producto punto para predecir la valoración/rating\n",
        "merged = Dot(axes=2)([user_embedding, item_embedding])\n",
        "merged = Flatten()(merged)\n",
        "\n",
        "# Agregar una capa de activación sigmoid y escalar a [0, 5]\n",
        "output = Dense(1, activation='sigmoid')(merged)  # Función de activación sigmoid\n",
        "output = Lambda(lambda x: x * 5)(output)  # Escalar las predicciones al rango [0, 5]\n",
        "\n",
        "# Modelo\n",
        "model = Model(inputs=[user_input, item_input], outputs=output)\n",
        "model.compile(optimizer='adam', loss='mse', metrics=['mae'])"
      ]
    },
    {
      "cell_type": "markdown",
      "metadata": {
        "id": "ZN3t1PGSYEzR"
      },
      "source": [
        "verbose=0: No muestra ninguna barra de progreso ni métricas.\n",
        "\n",
        "verbose=1: Muestra una barra de progreso y actualiza las métricas después de cada lote.\n",
        "\n",
        "verbose=2: Muestra las métricas después de cada época, pero no muestra la barra de progreso."
      ]
    },
    {
      "cell_type": "code",
      "execution_count": 10,
      "metadata": {
        "id": "J3n02-vPg5wh"
      },
      "outputs": [],
      "source": [
        "from sklearn.model_selection import train_test_split\n",
        "\n",
        "# Crear los arrays con los datos\n",
        "user_ids = data['reviewerID_encoded'].values\n",
        "item_ids = data['asin_encoded'].values\n",
        "ratings = data['overall'].values\n",
        "\n",
        "# División en entrenamiento y prueba\n",
        "(user_ids_temp, user_ids_test, item_ids_temp, item_ids_test, ratings_temp, ratings_test) = train_test_split(\n",
        "    user_ids, item_ids, ratings, test_size=0.2, random_state=42)\n",
        "\n",
        "# División del conjunto de entrenamiento en entrenamiento y validación\n",
        "(user_ids_train, user_ids_val, item_ids_train, item_ids_val, ratings_train, ratings_val) = train_test_split(\n",
        "    user_ids_temp, item_ids_temp, ratings_temp, test_size=0.25, random_state=42)  # 0.25 x 0.8 = 0.2"
      ]
    },
    {
      "cell_type": "code",
      "execution_count": 11,
      "metadata": {
        "id": "NYbYJfevgXpj"
      },
      "outputs": [],
      "source": [
        "# Callbacks\n",
        "early_stop = EarlyStopping(monitor='val_loss', patience=50)\n",
        "reduce_lr = ReduceLROnPlateau(monitor='val_loss', factor=0.2, patience=50, min_lr=1e-5)"
      ]
    },
    {
      "cell_type": "code",
      "execution_count": 12,
      "metadata": {
        "colab": {
          "base_uri": "https://localhost:8080/"
        },
        "id": "jOiSfVMfg5tw",
        "outputId": "94a5383d-8d62-4ad9-f471-e252915a8270"
      },
      "outputs": [
        {
          "output_type": "stream",
          "name": "stdout",
          "text": [
            "Epoch 1/500\n",
            "721/721 [==============================] - 12s 9ms/step - loss: 3.2433 - mae: 1.6685 - val_loss: 2.3400 - val_mae: 1.4205 - lr: 0.0010\n",
            "Epoch 2/500\n",
            "721/721 [==============================] - 6s 9ms/step - loss: 1.8515 - mae: 1.2359 - val_loss: 1.6049 - val_mae: 1.1211 - lr: 0.0010\n",
            "Epoch 3/500\n",
            "721/721 [==============================] - 6s 8ms/step - loss: 1.2408 - mae: 0.9287 - val_loss: 1.4392 - val_mae: 0.9882 - lr: 0.0010\n",
            "Epoch 4/500\n",
            "721/721 [==============================] - 6s 9ms/step - loss: 0.8603 - mae: 0.6987 - val_loss: 1.4749 - val_mae: 0.9601 - lr: 0.0010\n",
            "Epoch 5/500\n",
            "721/721 [==============================] - 6s 9ms/step - loss: 0.6020 - mae: 0.5324 - val_loss: 1.5543 - val_mae: 0.9608 - lr: 0.0010\n",
            "Epoch 6/500\n",
            "721/721 [==============================] - 6s 8ms/step - loss: 0.4410 - mae: 0.4165 - val_loss: 1.6245 - val_mae: 0.9640 - lr: 0.0010\n",
            "Epoch 7/500\n",
            "721/721 [==============================] - 6s 8ms/step - loss: 0.3462 - mae: 0.3387 - val_loss: 1.6633 - val_mae: 0.9609 - lr: 0.0010\n",
            "Epoch 8/500\n",
            "721/721 [==============================] - 6s 9ms/step - loss: 0.2923 - mae: 0.2918 - val_loss: 1.6834 - val_mae: 0.9563 - lr: 0.0010\n",
            "Epoch 9/500\n",
            "721/721 [==============================] - 6s 9ms/step - loss: 0.2606 - mae: 0.2624 - val_loss: 1.6817 - val_mae: 0.9463 - lr: 0.0010\n",
            "Epoch 10/500\n",
            "721/721 [==============================] - 6s 9ms/step - loss: 0.2416 - mae: 0.2464 - val_loss: 1.6728 - val_mae: 0.9369 - lr: 0.0010\n",
            "Epoch 11/500\n",
            "721/721 [==============================] - 6s 9ms/step - loss: 0.2284 - mae: 0.2354 - val_loss: 1.6569 - val_mae: 0.9252 - lr: 0.0010\n",
            "Epoch 12/500\n",
            "721/721 [==============================] - 6s 8ms/step - loss: 0.2188 - mae: 0.2293 - val_loss: 1.6404 - val_mae: 0.9158 - lr: 0.0010\n",
            "Epoch 13/500\n",
            "721/721 [==============================] - 6s 8ms/step - loss: 0.2099 - mae: 0.2234 - val_loss: 1.6244 - val_mae: 0.9062 - lr: 0.0010\n",
            "Epoch 14/500\n",
            "721/721 [==============================] - 6s 9ms/step - loss: 0.2027 - mae: 0.2203 - val_loss: 1.6087 - val_mae: 0.8982 - lr: 0.0010\n",
            "Epoch 15/500\n",
            "721/721 [==============================] - 6s 8ms/step - loss: 0.1958 - mae: 0.2167 - val_loss: 1.5951 - val_mae: 0.8899 - lr: 0.0010\n",
            "Epoch 16/500\n",
            "721/721 [==============================] - 6s 9ms/step - loss: 0.1901 - mae: 0.2149 - val_loss: 1.5825 - val_mae: 0.8834 - lr: 0.0010\n",
            "Epoch 17/500\n",
            "721/721 [==============================] - 6s 8ms/step - loss: 0.1844 - mae: 0.2123 - val_loss: 1.5733 - val_mae: 0.8778 - lr: 0.0010\n",
            "Epoch 18/500\n",
            "721/721 [==============================] - 6s 9ms/step - loss: 0.1796 - mae: 0.2109 - val_loss: 1.5635 - val_mae: 0.8729 - lr: 0.0010\n",
            "Epoch 19/500\n",
            "721/721 [==============================] - 6s 8ms/step - loss: 0.1749 - mae: 0.2090 - val_loss: 1.5555 - val_mae: 0.8680 - lr: 0.0010\n",
            "Epoch 20/500\n",
            "721/721 [==============================] - 6s 9ms/step - loss: 0.1709 - mae: 0.2079 - val_loss: 1.5469 - val_mae: 0.8631 - lr: 0.0010\n",
            "Epoch 21/500\n",
            "721/721 [==============================] - 6s 8ms/step - loss: 0.1670 - mae: 0.2064 - val_loss: 1.5405 - val_mae: 0.8595 - lr: 0.0010\n",
            "Epoch 22/500\n",
            "721/721 [==============================] - 6s 8ms/step - loss: 0.1637 - mae: 0.2058 - val_loss: 1.5343 - val_mae: 0.8563 - lr: 0.0010\n",
            "Epoch 23/500\n",
            "721/721 [==============================] - 6s 9ms/step - loss: 0.1603 - mae: 0.2045 - val_loss: 1.5280 - val_mae: 0.8525 - lr: 0.0010\n",
            "Epoch 24/500\n",
            "721/721 [==============================] - 6s 8ms/step - loss: 0.1575 - mae: 0.2040 - val_loss: 1.5233 - val_mae: 0.8503 - lr: 0.0010\n",
            "Epoch 25/500\n",
            "721/721 [==============================] - 6s 8ms/step - loss: 0.1547 - mae: 0.2031 - val_loss: 1.5196 - val_mae: 0.8486 - lr: 0.0010\n",
            "Epoch 26/500\n",
            "721/721 [==============================] - 6s 8ms/step - loss: 0.1524 - mae: 0.2028 - val_loss: 1.5147 - val_mae: 0.8463 - lr: 0.0010\n",
            "Epoch 27/500\n",
            "721/721 [==============================] - 6s 9ms/step - loss: 0.1498 - mae: 0.2019 - val_loss: 1.5103 - val_mae: 0.8439 - lr: 0.0010\n",
            "Epoch 28/500\n",
            "721/721 [==============================] - 6s 9ms/step - loss: 0.1476 - mae: 0.2015 - val_loss: 1.5069 - val_mae: 0.8424 - lr: 0.0010\n",
            "Epoch 29/500\n",
            "721/721 [==============================] - 6s 9ms/step - loss: 0.1457 - mae: 0.2010 - val_loss: 1.5031 - val_mae: 0.8402 - lr: 0.0010\n",
            "Epoch 30/500\n",
            "721/721 [==============================] - 6s 8ms/step - loss: 0.1438 - mae: 0.2007 - val_loss: 1.4997 - val_mae: 0.8388 - lr: 0.0010\n",
            "Epoch 31/500\n",
            "721/721 [==============================] - 6s 9ms/step - loss: 0.1419 - mae: 0.2001 - val_loss: 1.4973 - val_mae: 0.8380 - lr: 0.0010\n",
            "Epoch 32/500\n",
            "721/721 [==============================] - 6s 9ms/step - loss: 0.1403 - mae: 0.1999 - val_loss: 1.4944 - val_mae: 0.8371 - lr: 0.0010\n",
            "Epoch 33/500\n",
            "721/721 [==============================] - 6s 8ms/step - loss: 0.1387 - mae: 0.1995 - val_loss: 1.4915 - val_mae: 0.8356 - lr: 0.0010\n",
            "Epoch 34/500\n",
            "721/721 [==============================] - 6s 9ms/step - loss: 0.1372 - mae: 0.1992 - val_loss: 1.4896 - val_mae: 0.8349 - lr: 0.0010\n",
            "Epoch 35/500\n",
            "721/721 [==============================] - 6s 8ms/step - loss: 0.1357 - mae: 0.1987 - val_loss: 1.4869 - val_mae: 0.8339 - lr: 0.0010\n",
            "Epoch 36/500\n",
            "721/721 [==============================] - 6s 9ms/step - loss: 0.1344 - mae: 0.1985 - val_loss: 1.4851 - val_mae: 0.8333 - lr: 0.0010\n",
            "Epoch 37/500\n",
            "721/721 [==============================] - 6s 9ms/step - loss: 0.1332 - mae: 0.1983 - val_loss: 1.4834 - val_mae: 0.8328 - lr: 0.0010\n",
            "Epoch 38/500\n",
            "721/721 [==============================] - 6s 9ms/step - loss: 0.1320 - mae: 0.1981 - val_loss: 1.4813 - val_mae: 0.8320 - lr: 0.0010\n",
            "Epoch 39/500\n",
            "721/721 [==============================] - 6s 8ms/step - loss: 0.1307 - mae: 0.1976 - val_loss: 1.4801 - val_mae: 0.8316 - lr: 0.0010\n",
            "Epoch 40/500\n",
            "721/721 [==============================] - 6s 8ms/step - loss: 0.1297 - mae: 0.1974 - val_loss: 1.4773 - val_mae: 0.8305 - lr: 0.0010\n",
            "Epoch 41/500\n",
            "721/721 [==============================] - 6s 9ms/step - loss: 0.1286 - mae: 0.1971 - val_loss: 1.4763 - val_mae: 0.8302 - lr: 0.0010\n",
            "Epoch 42/500\n",
            "721/721 [==============================] - 6s 8ms/step - loss: 0.1277 - mae: 0.1969 - val_loss: 1.4752 - val_mae: 0.8299 - lr: 0.0010\n",
            "Epoch 43/500\n",
            "721/721 [==============================] - 6s 9ms/step - loss: 0.1267 - mae: 0.1967 - val_loss: 1.4739 - val_mae: 0.8294 - lr: 0.0010\n",
            "Epoch 44/500\n",
            "721/721 [==============================] - 6s 8ms/step - loss: 0.1259 - mae: 0.1965 - val_loss: 1.4725 - val_mae: 0.8289 - lr: 0.0010\n",
            "Epoch 45/500\n",
            "721/721 [==============================] - 6s 9ms/step - loss: 0.1250 - mae: 0.1962 - val_loss: 1.4711 - val_mae: 0.8280 - lr: 0.0010\n",
            "Epoch 46/500\n",
            "721/721 [==============================] - 6s 8ms/step - loss: 0.1241 - mae: 0.1959 - val_loss: 1.4706 - val_mae: 0.8283 - lr: 0.0010\n",
            "Epoch 47/500\n",
            "721/721 [==============================] - 6s 9ms/step - loss: 0.1233 - mae: 0.1956 - val_loss: 1.4688 - val_mae: 0.8278 - lr: 0.0010\n",
            "Epoch 48/500\n",
            "721/721 [==============================] - 6s 9ms/step - loss: 0.1225 - mae: 0.1955 - val_loss: 1.4687 - val_mae: 0.8274 - lr: 0.0010\n",
            "Epoch 49/500\n",
            "721/721 [==============================] - 6s 8ms/step - loss: 0.1217 - mae: 0.1952 - val_loss: 1.4679 - val_mae: 0.8274 - lr: 0.0010\n",
            "Epoch 50/500\n",
            "721/721 [==============================] - 6s 9ms/step - loss: 0.1210 - mae: 0.1949 - val_loss: 1.4677 - val_mae: 0.8276 - lr: 0.0010\n",
            "Epoch 51/500\n",
            "721/721 [==============================] - 6s 8ms/step - loss: 0.1204 - mae: 0.1947 - val_loss: 1.4661 - val_mae: 0.8268 - lr: 0.0010\n",
            "Epoch 52/500\n",
            "721/721 [==============================] - 6s 8ms/step - loss: 0.1198 - mae: 0.1946 - val_loss: 1.4659 - val_mae: 0.8269 - lr: 0.0010\n",
            "Epoch 53/500\n",
            "721/721 [==============================] - 6s 8ms/step - loss: 0.1190 - mae: 0.1942 - val_loss: 1.4652 - val_mae: 0.8267 - lr: 0.0010\n",
            "CPU times: user 6min 5s, sys: 27.3 s, total: 6min 32s\n",
            "Wall time: 5min 31s\n"
          ]
        },
        {
          "output_type": "execute_result",
          "data": {
            "text/plain": [
              "<keras.src.callbacks.History at 0x78517a153c70>"
            ]
          },
          "metadata": {},
          "execution_count": 12
        }
      ],
      "source": [
        "%%time\n",
        "# Entrenar el modelo con el conjunto de entrenamiento\n",
        "model.fit([user_ids_train, item_ids_train], ratings_train, validation_data=([user_ids_val, item_ids_val], ratings_val), epochs=500,\n",
        "          batch_size=4000, verbose=1, callbacks=[early_stop, reduce_lr])"
      ]
    },
    {
      "cell_type": "code",
      "execution_count": 13,
      "metadata": {
        "colab": {
          "base_uri": "https://localhost:8080/"
        },
        "id": "RnBHBOT1oel0",
        "outputId": "a6c6d463-b0fa-4883-fd10-d7a5926c25fd"
      },
      "outputs": [
        {
          "output_type": "stream",
          "name": "stdout",
          "text": [
            "30004/30004 [==============================] - 40s 1ms/step\n"
          ]
        }
      ],
      "source": [
        "y_true = ratings_test\n",
        "predictions = model.predict([user_ids_test, item_ids_test])"
      ]
    },
    {
      "cell_type": "code",
      "execution_count": 14,
      "metadata": {
        "colab": {
          "base_uri": "https://localhost:8080/"
        },
        "id": "SMJd_nt7g5h4",
        "outputId": "9ae18130-0812-4c15-e7ee-4c69ab1dce34"
      },
      "outputs": [
        {
          "output_type": "stream",
          "name": "stdout",
          "text": [
            "30004/30004 [==============================] - 77s 3ms/step - loss: 1.4710 - mae: 0.8286\n",
            "Test Loss: 1.4710\n",
            "Test MAE: 0.8286\n"
          ]
        }
      ],
      "source": [
        "# Evaluar el modelo con el conjunto de prueba\n",
        "loss, mae = model.evaluate([user_ids_test, item_ids_test], ratings_test)\n",
        "print(f'Test Loss: {loss:.4f}')\n",
        "print(f'Test MAE: {mae:.4f}')"
      ]
    },
    {
      "cell_type": "code",
      "execution_count": 15,
      "metadata": {
        "colab": {
          "base_uri": "https://localhost:8080/"
        },
        "id": "USnKRkm0KCdW",
        "outputId": "3597d308-841d-4dd3-c64c-e54f6d14170f"
      },
      "outputs": [
        {
          "output_type": "stream",
          "name": "stdout",
          "text": [
            "MSE: 1.4153\n",
            "RMSE: 1.1897\n",
            "MAE: 0.8286\n",
            "MAPE: 35.35%\n"
          ]
        }
      ],
      "source": [
        "# MSE\n",
        "mse = mean_squared_error(y_true, predictions)\n",
        "print(f\"MSE: {mse:.4f}\")\n",
        "\n",
        "# RMSE\n",
        "rmse = np.sqrt(mse)\n",
        "print(f\"RMSE: {rmse:.4f}\")\n",
        "\n",
        "# MAE\n",
        "mae = mean_absolute_error(y_true, predictions)\n",
        "print(f\"MAE: {mae:.4f}\")\n",
        "\n",
        "# MAPE (Mean Absolute Percentage Error)\n",
        "mape = np.mean(np.abs((y_true - predictions.flatten()) / y_true)) * 100\n",
        "print(f\"MAPE: {mape:.2f}%\")"
      ]
    },
    {
      "cell_type": "markdown",
      "source": [
        "# Recomedanción"
      ],
      "metadata": {
        "id": "W1hoVgKNyGKF"
      }
    },
    {
      "cell_type": "code",
      "source": [
        "# Seleccionar un usuario al azar del conjunto de prueba\n",
        "usuario_id_test_encoded = random.choice(user_ids_test)\n",
        "\n",
        "# Decodificar el ID del usuario para obtener el ID original\n",
        "usuario_id_test = reviewerID_encoder.inverse_transform([usuario_id_test_encoded])[0]\n",
        "\n",
        "# Identificar los ítems que el usuario ha calificado en el conjunto de prueba\n",
        "indices_usuario = np.where(user_ids_test == usuario_id_test_encoded)[0]\n",
        "items_calificados_test_encoded = item_ids_test[indices_usuario]\n",
        "calificaciones_reales_test = ratings_test[indices_usuario]\n",
        "\n",
        "# Predecir las calificaciones para estos ítems\n",
        "calificaciones_predichas = model.predict([np.array([usuario_id_test_encoded] * len(items_calificados_test_encoded)), items_calificados_test_encoded])\n",
        "\n",
        "# Decodificar los ítems para obtener los ID originales\n",
        "items_calificados_test = asin_encoder.inverse_transform(items_calificados_test_encoded)\n",
        "\n",
        "# Comparar las calificaciones predichas con las reales\n",
        "comparacion = list(zip(items_calificados_test, calificaciones_reales_test, calificaciones_predichas.flatten()))\n",
        "\n",
        "# Suponiendo que 'items_calificados_test' contiene los IDs originales de los ítems\n",
        "recomendaciones_df = pd.DataFrame({\n",
        "    'asin': items_calificados_test,\n",
        "    'Calificación Real': calificaciones_reales_test,\n",
        "    'Calificación Predicha': calificaciones_predichas.flatten()\n",
        "})\n",
        "\n",
        "recomendaciones_df = recomendaciones_df.merge(sentimiento[['asin', 'cluster']], on='asin', how='left')\n",
        "recomendaciones_df.rename(columns={'cluster': 'Sentimiento'}, inplace=True)\n",
        "\n",
        "# Mostrar las recomendaciones\n",
        "print(f\"Recomendaciones para el usuario {usuario_id_test}:\")\n",
        "for index, row in recomendaciones_df.iterrows():\n",
        "    print(f\"Ítem: {row['asin']}, Calificación Real: {row['Calificación Real']}, Calificación Predicha: {row['Calificación Predicha']}, Sentimiento: {row['Sentimiento']}\")"
      ],
      "metadata": {
        "colab": {
          "base_uri": "https://localhost:8080/"
        },
        "id": "pD6RZOLAyDpw",
        "outputId": "199b0bcd-c61f-4bbe-9fc7-4d0e22103eb0"
      },
      "execution_count": 16,
      "outputs": [
        {
          "output_type": "stream",
          "name": "stdout",
          "text": [
            "1/1 [==============================] - 0s 39ms/step\n",
            "Recomendaciones para el usuario A3P53YTE9SME28:\n",
            "Ítem: B0012VAXEO, Calificación Real: 5.0, Calificación Predicha: 4.888664245605469, Sentimiento: Positivo\n"
          ]
        }
      ]
    },
    {
      "cell_type": "code",
      "source": [
        "# Seleccionar un usuario al azar del conjunto de prueba\n",
        "usuario_id_test_encoded = random.choice(user_ids_test)\n",
        "\n",
        "# Decodificar el ID del usuario para obtener el ID original\n",
        "usuario_id = reviewerID_encoder.inverse_transform([usuario_id_test_encoded])[0]\n",
        "\n",
        "# Lista de todos los ítems únicos en el dataset\n",
        "items_unicos = np.unique(data['asin'].values)\n",
        "\n",
        "# Ítems que el usuario ya ha calificado\n",
        "items_calificados = data[data['reviewerID_encoded'] == usuario_id_test_encoded]['asin'].tolist()\n",
        "\n",
        "# Ítems para predecir\n",
        "items_a_predecir = [item for item in items_unicos if item not in items_calificados]\n",
        "\n",
        "# Convierte los ítems a su representación codificada\n",
        "items_a_predecir_encoded = asin_encoder.transform(items_a_predecir)\n",
        "\n",
        "# Predecir la calificación para cada ítem no calificado\n",
        "predicciones = model.predict([np.array([usuario_id_test_encoded] * len(items_a_predecir_encoded)), items_a_predecir_encoded])\n",
        "\n",
        "# Emparejar cada ítem con su predicción\n",
        "items_predicciones = list(zip(items_a_predecir, predicciones.flatten()))\n",
        "\n",
        "# Ordenar por la calificación predicha más alta\n",
        "items_recomendados = sorted(items_predicciones, key=lambda x: x[1], reverse=True)\n",
        "\n",
        "# Tomar los top N recomendaciones\n",
        "top_n = 5\n",
        "top_recomendaciones = items_recomendados[:top_n]\n",
        "\n",
        "# Crear un DataFrame a partir de las recomendaciones\n",
        "recomendaciones_df = pd.DataFrame(top_recomendaciones, columns=['asin', 'Calificación Predicha'])\n",
        "\n",
        "# Unir con el DataFrame 'sentimiento' para obtener el sentimiento asociado a cada ítem\n",
        "recomendaciones_df = recomendaciones_df.merge(sentimiento[['asin', 'cluster']], on='asin', how='left')\n",
        "\n",
        "# Renombrar la columna 'cluster' a 'Sentimiento' para claridad\n",
        "recomendaciones_df.rename(columns={'cluster': 'Sentimiento'}, inplace=True)\n",
        "\n",
        "# Mostrar las recomendaciones con el sentimiento\n",
        "print(f\"Recomendaciones para el usuario {usuario_id}:\")\n",
        "for index, row in recomendaciones_df.iterrows():\n",
        "    print(f\"Ítem: {row['asin']}, Calificación Predicha: {row['Calificación Predicha']}, Sentimiento: {row['Sentimiento']}\")"
      ],
      "metadata": {
        "colab": {
          "base_uri": "https://localhost:8080/"
        },
        "id": "zwXhZlKlz-9I",
        "outputId": "165234c1-909a-4e09-8100-b95e89a0b04d"
      },
      "execution_count": 17,
      "outputs": [
        {
          "output_type": "stream",
          "name": "stdout",
          "text": [
            "4814/4814 [==============================] - 7s 1ms/step\n",
            "Recomendaciones para el usuario A3U7GI0KIJUDWV:\n",
            "Ítem: B00HX27AM4, Calificación Predicha: 4.992417812347412, Sentimiento: Neutro\n",
            "Ítem: B0007M11XQ, Calificación Predicha: 4.9902729988098145, Sentimiento: Positivo\n",
            "Ítem: B000ASDGK8, Calificación Predicha: 4.989617347717285, Sentimiento: Neutro\n",
            "Ítem: B00NER3KLM, Calificación Predicha: 4.988611698150635, Sentimiento: Neutro\n",
            "Ítem: B000GB1RBY, Calificación Predicha: 4.987630367279053, Sentimiento: Neutro\n"
          ]
        }
      ]
    },
    {
      "cell_type": "markdown",
      "metadata": {
        "id": "odgbIWArkJ2y"
      },
      "source": [
        "# Modelo de Filtrado Colaborativo usando Red Neuronal Multicapa con Keras:"
      ]
    },
    {
      "cell_type": "markdown",
      "metadata": {
        "id": "vBK_zPK7lvti"
      },
      "source": [
        "Funcionamiento:\n",
        "\n",
        "Estos sistemas toman características de los ítems y/o usuarios y las pasan a través de una o varias capas de neuronas para obtener una predicción.\n",
        "Las redes neuronales son capaces de capturar interacciones no lineales entre características, lo que las hace poderosas para tareas de modelado complejas.\n",
        "\n",
        "Ventajas:\n",
        "\n",
        "Capacidad de modelar relaciones no lineales.\n",
        "\n",
        "Flexibilidad para incorporar múltiples fuentes de datos o características.\n",
        "\n",
        "Puede manejar arranques en frío al incorporar características de nuevos ítems o usuarios.\n",
        "\n",
        "Desventajas:\n",
        "\n",
        "Mayor costo computacional en comparación con los sistemas basados únicamente en embeddings.\n",
        "\n",
        "Riesgo de sobreajuste si no se tiene un conjunto de datos lo suficientemente grande."
      ]
    },
    {
      "cell_type": "markdown",
      "metadata": {
        "id": "YMnns-ENh_KJ"
      },
      "source": [
        "Ahora el código incluye regularización en los embeddings, early stopping para detener el entrenamiento si el modelo deja de mejorar en el conjunto de validación, y reducción de la tasa de aprendizaje si el error en el conjunto de validación no mejora después de algunas épocas. Estas adiciones deberían ayudar a mejorar la capacidad de generalización del modelo."
      ]
    },
    {
      "cell_type": "code",
      "execution_count": 18,
      "metadata": {
        "id": "ZFgVZSeTkKGy"
      },
      "outputs": [],
      "source": [
        "df['user_id'] = df['reviewerID'].astype('category').cat.codes.values\n",
        "df['item_id'] = df['asin'].astype('category').cat.codes.values\n",
        "\n",
        "# Número de usuarios e ítems\n",
        "n_users = df['user_id'].nunique()\n",
        "n_items = df['item_id'].nunique()\n",
        "\n",
        "# Hiperparámetros\n",
        "hidden_units = [128, 64, 32]\n",
        "dropout_rate = 0.2\n",
        "l2_reg = 1e-6\n",
        "\n",
        "# Arquitectura del modelo\n",
        "user_input = Input(shape=[1], name='user_input')\n",
        "item_input = Input(shape=[1], name='item_input')\n",
        "concat = Concatenate()([user_input, item_input])\n",
        "dense = concat\n",
        "for units in hidden_units:\n",
        "    dense = Dense(units, activation='relu', kernel_regularizer=l2(l2_reg))(dense)\n",
        "    dense = Dropout(dropout_rate)(dense)\n",
        "\n",
        "# Agregar una capa de activación sigmoid y escalar a [0, 5]\n",
        "output = Dense(1, activation='sigmoid', kernel_regularizer=l2(l2_reg))(dense)  # Función de activación sigmoid\n",
        "output = Lambda(lambda x: x * 5)(output)  # Escalar las predicciones al rango [0, 5]\n",
        "\n",
        "model = Model(inputs=[user_input, item_input], outputs=output)\n",
        "model.compile(optimizer=Adam(0.001), loss='mean_squared_error')"
      ]
    },
    {
      "cell_type": "code",
      "execution_count": 19,
      "metadata": {
        "id": "N7uvl8VEhqdD"
      },
      "outputs": [],
      "source": [
        "# Callbacks\n",
        "early_stop = EarlyStopping(monitor='val_loss', patience=50)\n",
        "reduce_lr = ReduceLROnPlateau(monitor='val_loss', factor=0.2, patience=50, min_lr=1e-5)"
      ]
    },
    {
      "cell_type": "code",
      "execution_count": 20,
      "metadata": {
        "id": "blU4Q9akkVBc"
      },
      "outputs": [],
      "source": [
        "# Datos para entrenamiento\n",
        "user_data = df['user_id'].values\n",
        "item_data = df['item_id'].values\n",
        "rating_data = df['overall'].values\n",
        "\n",
        "# División en entrenamiento y prueba\n",
        "(user_ids_temp, user_ids_test, item_ids_temp, item_ids_test, ratings_temp, ratings_test) = train_test_split(\n",
        "    user_ids, item_ids, ratings, test_size=0.2, random_state=42)\n",
        "\n",
        "# División del conjunto de entrenamiento en entrenamiento y validación\n",
        "(user_ids_train, user_ids_val, item_ids_train, item_ids_val, ratings_train, ratings_val) = train_test_split(\n",
        "    user_ids_temp, item_ids_temp, ratings_temp, test_size=0.25, random_state=42)  # 0.25 x 0.8 = 0.2"
      ]
    },
    {
      "cell_type": "code",
      "execution_count": 21,
      "metadata": {
        "colab": {
          "base_uri": "https://localhost:8080/"
        },
        "id": "kGxLwUhzf32z",
        "outputId": "4ea66784-84d0-46ad-a2a0-213f0a8eb194"
      },
      "outputs": [
        {
          "output_type": "stream",
          "name": "stdout",
          "text": [
            "Epoch 1/500\n",
            "721/721 [==============================] - 5s 4ms/step - loss: 2.0534 - val_loss: 1.8981 - lr: 0.0010\n",
            "Epoch 2/500\n",
            "721/721 [==============================] - 3s 4ms/step - loss: 1.9139 - val_loss: 1.8981 - lr: 0.0010\n",
            "Epoch 3/500\n",
            "721/721 [==============================] - 3s 4ms/step - loss: 1.9113 - val_loss: 1.8981 - lr: 0.0010\n",
            "Epoch 4/500\n",
            "721/721 [==============================] - 3s 4ms/step - loss: 1.9099 - val_loss: 1.8981 - lr: 0.0010\n",
            "Epoch 5/500\n",
            "721/721 [==============================] - 3s 4ms/step - loss: 1.9101 - val_loss: 1.8981 - lr: 0.0010\n",
            "Epoch 6/500\n",
            "721/721 [==============================] - 3s 4ms/step - loss: 1.9100 - val_loss: 1.8981 - lr: 0.0010\n",
            "Epoch 7/500\n",
            "721/721 [==============================] - 3s 4ms/step - loss: 1.9099 - val_loss: 1.8981 - lr: 0.0010\n",
            "Epoch 8/500\n",
            "721/721 [==============================] - 3s 4ms/step - loss: 1.9101 - val_loss: 1.8981 - lr: 0.0010\n",
            "Epoch 9/500\n",
            "721/721 [==============================] - 3s 4ms/step - loss: 1.9095 - val_loss: 1.8981 - lr: 0.0010\n",
            "Epoch 10/500\n",
            "721/721 [==============================] - 3s 4ms/step - loss: 1.9090 - val_loss: 1.8981 - lr: 0.0010\n",
            "Epoch 11/500\n",
            "721/721 [==============================] - 3s 4ms/step - loss: 1.9090 - val_loss: 1.8981 - lr: 0.0010\n",
            "Epoch 12/500\n",
            "721/721 [==============================] - 3s 4ms/step - loss: 1.9090 - val_loss: 1.8981 - lr: 0.0010\n",
            "Epoch 13/500\n",
            "721/721 [==============================] - 3s 4ms/step - loss: 1.9090 - val_loss: 1.8981 - lr: 0.0010\n",
            "Epoch 14/500\n",
            "721/721 [==============================] - 3s 4ms/step - loss: 1.9090 - val_loss: 1.8981 - lr: 0.0010\n",
            "Epoch 15/500\n",
            "721/721 [==============================] - 3s 4ms/step - loss: 1.9090 - val_loss: 1.8981 - lr: 0.0010\n",
            "Epoch 16/500\n",
            "721/721 [==============================] - 3s 4ms/step - loss: 1.9090 - val_loss: 1.8981 - lr: 0.0010\n",
            "Epoch 17/500\n",
            "721/721 [==============================] - 3s 4ms/step - loss: 1.9090 - val_loss: 1.8981 - lr: 0.0010\n",
            "Epoch 18/500\n",
            "721/721 [==============================] - 3s 4ms/step - loss: 1.9090 - val_loss: 1.8981 - lr: 0.0010\n",
            "Epoch 19/500\n",
            "721/721 [==============================] - 3s 4ms/step - loss: 1.9090 - val_loss: 1.8981 - lr: 0.0010\n",
            "Epoch 20/500\n",
            "721/721 [==============================] - 3s 4ms/step - loss: 1.9090 - val_loss: 1.8981 - lr: 0.0010\n",
            "Epoch 21/500\n",
            "721/721 [==============================] - 3s 4ms/step - loss: 1.9090 - val_loss: 1.8981 - lr: 0.0010\n",
            "Epoch 22/500\n",
            "721/721 [==============================] - 3s 4ms/step - loss: 1.9090 - val_loss: 1.8980 - lr: 0.0010\n",
            "Epoch 23/500\n",
            "721/721 [==============================] - 3s 4ms/step - loss: 1.9090 - val_loss: 1.8980 - lr: 0.0010\n",
            "Epoch 24/500\n",
            "721/721 [==============================] - 3s 4ms/step - loss: 1.9090 - val_loss: 1.8980 - lr: 0.0010\n",
            "Epoch 25/500\n",
            "721/721 [==============================] - 3s 4ms/step - loss: 1.9090 - val_loss: 1.8980 - lr: 0.0010\n",
            "Epoch 26/500\n",
            "721/721 [==============================] - 3s 4ms/step - loss: 1.9090 - val_loss: 1.8980 - lr: 0.0010\n",
            "Epoch 27/500\n",
            "721/721 [==============================] - 3s 4ms/step - loss: 1.9090 - val_loss: 1.8980 - lr: 0.0010\n",
            "Epoch 28/500\n",
            "721/721 [==============================] - 3s 4ms/step - loss: 1.9219 - val_loss: 1.8980 - lr: 0.0010\n",
            "Epoch 29/500\n",
            "721/721 [==============================] - 3s 4ms/step - loss: 1.9135 - val_loss: 1.8980 - lr: 0.0010\n",
            "Epoch 30/500\n",
            "721/721 [==============================] - 3s 4ms/step - loss: 1.9109 - val_loss: 1.8980 - lr: 0.0010\n",
            "Epoch 31/500\n",
            "721/721 [==============================] - 3s 4ms/step - loss: 1.9091 - val_loss: 1.8980 - lr: 0.0010\n",
            "Epoch 32/500\n",
            "721/721 [==============================] - 3s 4ms/step - loss: 1.9090 - val_loss: 1.8980 - lr: 0.0010\n",
            "Epoch 33/500\n",
            "721/721 [==============================] - 3s 4ms/step - loss: 1.9091 - val_loss: 1.8980 - lr: 0.0010\n",
            "Epoch 34/500\n",
            "721/721 [==============================] - 3s 4ms/step - loss: 1.9092 - val_loss: 1.8980 - lr: 0.0010\n",
            "Epoch 35/500\n",
            "721/721 [==============================] - 3s 4ms/step - loss: 1.9090 - val_loss: 1.8980 - lr: 0.0010\n",
            "Epoch 36/500\n",
            "721/721 [==============================] - 3s 4ms/step - loss: 1.9091 - val_loss: 1.8980 - lr: 0.0010\n",
            "Epoch 37/500\n",
            "721/721 [==============================] - 3s 4ms/step - loss: 1.9092 - val_loss: 1.8980 - lr: 0.0010\n",
            "Epoch 38/500\n",
            "721/721 [==============================] - 3s 4ms/step - loss: 1.9263 - val_loss: 1.8980 - lr: 0.0010\n",
            "Epoch 39/500\n",
            "721/721 [==============================] - 3s 4ms/step - loss: 1.9172 - val_loss: 1.8980 - lr: 0.0010\n",
            "Epoch 40/500\n",
            "721/721 [==============================] - 3s 4ms/step - loss: 1.9100 - val_loss: 1.8980 - lr: 0.0010\n",
            "Epoch 41/500\n",
            "721/721 [==============================] - 3s 4ms/step - loss: 1.9092 - val_loss: 1.8980 - lr: 0.0010\n",
            "Epoch 42/500\n",
            "721/721 [==============================] - 3s 4ms/step - loss: 1.9093 - val_loss: 1.8980 - lr: 0.0010\n",
            "Epoch 43/500\n",
            "721/721 [==============================] - 3s 4ms/step - loss: 1.9093 - val_loss: 1.8980 - lr: 0.0010\n",
            "Epoch 44/500\n",
            "721/721 [==============================] - 3s 4ms/step - loss: 1.9094 - val_loss: 1.8980 - lr: 0.0010\n",
            "Epoch 45/500\n",
            "721/721 [==============================] - 3s 4ms/step - loss: 1.9097 - val_loss: 1.8980 - lr: 0.0010\n",
            "Epoch 46/500\n",
            "721/721 [==============================] - 3s 4ms/step - loss: 1.9103 - val_loss: 1.8980 - lr: 0.0010\n",
            "Epoch 47/500\n",
            "721/721 [==============================] - 3s 4ms/step - loss: 1.9099 - val_loss: 1.8980 - lr: 0.0010\n",
            "Epoch 48/500\n",
            "721/721 [==============================] - 3s 4ms/step - loss: 1.9105 - val_loss: 1.8980 - lr: 0.0010\n",
            "Epoch 49/500\n",
            "721/721 [==============================] - 3s 4ms/step - loss: 1.9107 - val_loss: 1.8980 - lr: 0.0010\n",
            "Epoch 50/500\n",
            "721/721 [==============================] - 3s 4ms/step - loss: 1.9092 - val_loss: 1.8980 - lr: 0.0010\n",
            "Epoch 51/500\n",
            "721/721 [==============================] - 3s 4ms/step - loss: 1.9091 - val_loss: 1.8980 - lr: 0.0010\n",
            "Epoch 52/500\n",
            "721/721 [==============================] - 3s 4ms/step - loss: 1.9091 - val_loss: 1.8980 - lr: 2.0000e-04\n",
            "Epoch 53/500\n",
            "721/721 [==============================] - 3s 4ms/step - loss: 1.9092 - val_loss: 1.8980 - lr: 2.0000e-04\n",
            "Epoch 54/500\n",
            "721/721 [==============================] - 3s 4ms/step - loss: 1.9091 - val_loss: 1.8980 - lr: 2.0000e-04\n",
            "Epoch 55/500\n",
            "721/721 [==============================] - 3s 4ms/step - loss: 1.9091 - val_loss: 1.8980 - lr: 2.0000e-04\n",
            "Epoch 56/500\n",
            "721/721 [==============================] - 3s 4ms/step - loss: 1.9093 - val_loss: 1.8980 - lr: 2.0000e-04\n",
            "Epoch 57/500\n",
            "721/721 [==============================] - 3s 4ms/step - loss: 1.9091 - val_loss: 1.8980 - lr: 2.0000e-04\n",
            "Epoch 58/500\n",
            "721/721 [==============================] - 3s 4ms/step - loss: 1.9092 - val_loss: 1.8980 - lr: 2.0000e-04\n",
            "Epoch 59/500\n",
            "721/721 [==============================] - 3s 4ms/step - loss: 1.9091 - val_loss: 1.8980 - lr: 2.0000e-04\n",
            "Epoch 60/500\n",
            "721/721 [==============================] - 3s 4ms/step - loss: 1.9092 - val_loss: 1.8980 - lr: 2.0000e-04\n",
            "Epoch 61/500\n",
            "721/721 [==============================] - 3s 4ms/step - loss: 1.9091 - val_loss: 1.8980 - lr: 2.0000e-04\n",
            "Epoch 62/500\n",
            "721/721 [==============================] - 3s 4ms/step - loss: 1.9090 - val_loss: 1.8980 - lr: 2.0000e-04\n",
            "Epoch 63/500\n",
            "721/721 [==============================] - 3s 4ms/step - loss: 1.9091 - val_loss: 1.8980 - lr: 2.0000e-04\n",
            "Epoch 64/500\n",
            "721/721 [==============================] - 3s 4ms/step - loss: 1.9090 - val_loss: 1.8980 - lr: 2.0000e-04\n",
            "Epoch 65/500\n",
            "721/721 [==============================] - 3s 4ms/step - loss: 1.9091 - val_loss: 1.8980 - lr: 2.0000e-04\n",
            "Epoch 66/500\n",
            "721/721 [==============================] - 3s 4ms/step - loss: 1.9090 - val_loss: 1.8980 - lr: 2.0000e-04\n",
            "Epoch 67/500\n",
            "721/721 [==============================] - 3s 4ms/step - loss: 1.9090 - val_loss: 1.8980 - lr: 2.0000e-04\n",
            "Epoch 68/500\n",
            "721/721 [==============================] - 3s 4ms/step - loss: 1.9090 - val_loss: 1.8980 - lr: 2.0000e-04\n",
            "Epoch 69/500\n",
            "721/721 [==============================] - 3s 4ms/step - loss: 1.9091 - val_loss: 1.8980 - lr: 2.0000e-04\n",
            "Epoch 70/500\n",
            "721/721 [==============================] - 3s 4ms/step - loss: 1.9094 - val_loss: 1.8980 - lr: 2.0000e-04\n",
            "Epoch 71/500\n",
            "721/721 [==============================] - 3s 4ms/step - loss: 1.9096 - val_loss: 1.8980 - lr: 2.0000e-04\n",
            "Epoch 72/500\n",
            "721/721 [==============================] - 3s 4ms/step - loss: 1.9093 - val_loss: 1.8980 - lr: 2.0000e-04\n",
            "Epoch 73/500\n",
            "721/721 [==============================] - 3s 4ms/step - loss: 1.9090 - val_loss: 1.8980 - lr: 2.0000e-04\n",
            "Epoch 74/500\n",
            "721/721 [==============================] - 3s 4ms/step - loss: 1.9090 - val_loss: 1.8980 - lr: 2.0000e-04\n",
            "Epoch 75/500\n",
            "721/721 [==============================] - 3s 4ms/step - loss: 1.9089 - val_loss: 1.8980 - lr: 2.0000e-04\n",
            "Epoch 76/500\n",
            "721/721 [==============================] - 3s 4ms/step - loss: 1.9089 - val_loss: 1.8980 - lr: 2.0000e-04\n",
            "Epoch 77/500\n",
            "721/721 [==============================] - 3s 4ms/step - loss: 1.9089 - val_loss: 1.8980 - lr: 2.0000e-04\n",
            "Epoch 78/500\n",
            "721/721 [==============================] - 3s 4ms/step - loss: 1.9089 - val_loss: 1.8980 - lr: 2.0000e-04\n",
            "Epoch 79/500\n",
            "721/721 [==============================] - 3s 4ms/step - loss: 1.9090 - val_loss: 1.8980 - lr: 2.0000e-04\n",
            "Epoch 80/500\n",
            "721/721 [==============================] - 3s 4ms/step - loss: 1.9090 - val_loss: 1.8980 - lr: 2.0000e-04\n",
            "Epoch 81/500\n",
            "721/721 [==============================] - 3s 4ms/step - loss: 1.9090 - val_loss: 1.8980 - lr: 2.0000e-04\n",
            "Epoch 82/500\n",
            "721/721 [==============================] - 3s 4ms/step - loss: 1.9089 - val_loss: 1.8980 - lr: 2.0000e-04\n",
            "Epoch 83/500\n",
            "721/721 [==============================] - 3s 4ms/step - loss: 1.9089 - val_loss: 1.8980 - lr: 2.0000e-04\n",
            "Epoch 84/500\n",
            "721/721 [==============================] - 3s 4ms/step - loss: 1.9089 - val_loss: 1.8980 - lr: 2.0000e-04\n",
            "Epoch 85/500\n",
            "721/721 [==============================] - 3s 4ms/step - loss: 1.9090 - val_loss: 1.8980 - lr: 2.0000e-04\n",
            "Epoch 86/500\n",
            "721/721 [==============================] - 3s 4ms/step - loss: 1.9090 - val_loss: 1.8980 - lr: 2.0000e-04\n",
            "Epoch 87/500\n",
            "721/721 [==============================] - 3s 4ms/step - loss: 1.9090 - val_loss: 1.8980 - lr: 2.0000e-04\n",
            "Epoch 88/500\n",
            "721/721 [==============================] - 3s 4ms/step - loss: 1.9090 - val_loss: 1.8980 - lr: 2.0000e-04\n",
            "Epoch 89/500\n",
            "721/721 [==============================] - 3s 4ms/step - loss: 1.9090 - val_loss: 1.8980 - lr: 2.0000e-04\n",
            "Epoch 90/500\n",
            "721/721 [==============================] - 3s 4ms/step - loss: 1.9092 - val_loss: 1.8980 - lr: 2.0000e-04\n",
            "Epoch 91/500\n",
            "721/721 [==============================] - 3s 4ms/step - loss: 1.9091 - val_loss: 1.8980 - lr: 2.0000e-04\n",
            "Epoch 92/500\n",
            "721/721 [==============================] - 3s 4ms/step - loss: 1.9091 - val_loss: 1.8980 - lr: 2.0000e-04\n",
            "Epoch 93/500\n",
            "721/721 [==============================] - 3s 4ms/step - loss: 1.9090 - val_loss: 1.8980 - lr: 2.0000e-04\n",
            "Epoch 94/500\n",
            "721/721 [==============================] - 3s 4ms/step - loss: 1.9089 - val_loss: 1.8980 - lr: 2.0000e-04\n",
            "Epoch 95/500\n",
            "721/721 [==============================] - 3s 4ms/step - loss: 1.9089 - val_loss: 1.8980 - lr: 2.0000e-04\n",
            "Epoch 96/500\n",
            "721/721 [==============================] - 3s 4ms/step - loss: 1.9089 - val_loss: 1.8980 - lr: 2.0000e-04\n",
            "Epoch 97/500\n",
            "721/721 [==============================] - 3s 4ms/step - loss: 1.9089 - val_loss: 1.8980 - lr: 2.0000e-04\n",
            "Epoch 98/500\n",
            "721/721 [==============================] - 3s 4ms/step - loss: 1.9089 - val_loss: 1.8980 - lr: 2.0000e-04\n",
            "Epoch 99/500\n",
            "721/721 [==============================] - 3s 4ms/step - loss: 1.9089 - val_loss: 1.8980 - lr: 2.0000e-04\n",
            "Epoch 100/500\n",
            "721/721 [==============================] - 3s 4ms/step - loss: 1.9089 - val_loss: 1.8980 - lr: 2.0000e-04\n",
            "Epoch 101/500\n",
            "721/721 [==============================] - 3s 4ms/step - loss: 1.9089 - val_loss: 1.8980 - lr: 2.0000e-04\n",
            "Epoch 102/500\n",
            "721/721 [==============================] - 3s 4ms/step - loss: 1.9089 - val_loss: 1.8980 - lr: 4.0000e-05\n",
            "Epoch 103/500\n",
            "721/721 [==============================] - 3s 4ms/step - loss: 1.9089 - val_loss: 1.8980 - lr: 4.0000e-05\n",
            "Epoch 104/500\n",
            "721/721 [==============================] - 3s 4ms/step - loss: 1.9089 - val_loss: 1.8980 - lr: 4.0000e-05\n",
            "Epoch 105/500\n",
            "721/721 [==============================] - 3s 4ms/step - loss: 1.9089 - val_loss: 1.8980 - lr: 4.0000e-05\n",
            "Epoch 106/500\n",
            "721/721 [==============================] - 3s 4ms/step - loss: 1.9089 - val_loss: 1.8980 - lr: 4.0000e-05\n",
            "Epoch 107/500\n",
            "721/721 [==============================] - 3s 4ms/step - loss: 1.9089 - val_loss: 1.8980 - lr: 4.0000e-05\n",
            "Epoch 108/500\n",
            "721/721 [==============================] - 3s 4ms/step - loss: 1.9089 - val_loss: 1.8980 - lr: 4.0000e-05\n",
            "Epoch 109/500\n",
            "721/721 [==============================] - 3s 4ms/step - loss: 1.9089 - val_loss: 1.8980 - lr: 4.0000e-05\n",
            "Epoch 110/500\n",
            "721/721 [==============================] - 3s 4ms/step - loss: 1.9089 - val_loss: 1.8980 - lr: 4.0000e-05\n",
            "Epoch 111/500\n",
            "721/721 [==============================] - 3s 4ms/step - loss: 1.9089 - val_loss: 1.8980 - lr: 4.0000e-05\n",
            "Epoch 112/500\n",
            "721/721 [==============================] - 3s 4ms/step - loss: 1.9089 - val_loss: 1.8980 - lr: 4.0000e-05\n",
            "Epoch 113/500\n",
            "721/721 [==============================] - 3s 4ms/step - loss: 1.9089 - val_loss: 1.8980 - lr: 4.0000e-05\n",
            "Epoch 114/500\n",
            "721/721 [==============================] - 3s 4ms/step - loss: 1.9089 - val_loss: 1.8980 - lr: 4.0000e-05\n",
            "Epoch 115/500\n",
            "721/721 [==============================] - 3s 4ms/step - loss: 1.9089 - val_loss: 1.8980 - lr: 4.0000e-05\n",
            "Epoch 116/500\n",
            "721/721 [==============================] - 3s 4ms/step - loss: 1.9089 - val_loss: 1.8980 - lr: 4.0000e-05\n",
            "Epoch 117/500\n",
            "721/721 [==============================] - 3s 4ms/step - loss: 1.9089 - val_loss: 1.8980 - lr: 4.0000e-05\n",
            "Epoch 118/500\n",
            "721/721 [==============================] - 3s 4ms/step - loss: 1.9089 - val_loss: 1.8980 - lr: 4.0000e-05\n",
            "Epoch 119/500\n",
            "721/721 [==============================] - 3s 4ms/step - loss: 1.9089 - val_loss: 1.8980 - lr: 4.0000e-05\n",
            "Epoch 120/500\n",
            "721/721 [==============================] - 3s 4ms/step - loss: 1.9089 - val_loss: 1.8980 - lr: 4.0000e-05\n",
            "Epoch 121/500\n",
            "721/721 [==============================] - 3s 4ms/step - loss: 1.9089 - val_loss: 1.8980 - lr: 4.0000e-05\n",
            "Epoch 122/500\n",
            "721/721 [==============================] - 3s 4ms/step - loss: 1.9089 - val_loss: 1.8980 - lr: 4.0000e-05\n",
            "Epoch 123/500\n",
            "721/721 [==============================] - 3s 4ms/step - loss: 1.9089 - val_loss: 1.8980 - lr: 4.0000e-05\n",
            "Epoch 124/500\n",
            "721/721 [==============================] - 3s 4ms/step - loss: 1.9089 - val_loss: 1.8980 - lr: 4.0000e-05\n",
            "Epoch 125/500\n",
            "721/721 [==============================] - 3s 4ms/step - loss: 1.9089 - val_loss: 1.8980 - lr: 4.0000e-05\n",
            "Epoch 126/500\n",
            "721/721 [==============================] - 3s 4ms/step - loss: 1.9090 - val_loss: 1.8980 - lr: 4.0000e-05\n",
            "Epoch 127/500\n",
            "721/721 [==============================] - 3s 4ms/step - loss: 1.9090 - val_loss: 1.8980 - lr: 4.0000e-05\n",
            "Epoch 128/500\n",
            "721/721 [==============================] - 3s 4ms/step - loss: 1.9090 - val_loss: 1.8980 - lr: 4.0000e-05\n",
            "Epoch 129/500\n",
            "721/721 [==============================] - 3s 4ms/step - loss: 1.9089 - val_loss: 1.8980 - lr: 4.0000e-05\n",
            "Epoch 130/500\n",
            "721/721 [==============================] - 3s 4ms/step - loss: 1.9089 - val_loss: 1.8980 - lr: 4.0000e-05\n",
            "Epoch 131/500\n",
            "721/721 [==============================] - 3s 4ms/step - loss: 1.9090 - val_loss: 1.8980 - lr: 4.0000e-05\n",
            "Epoch 132/500\n",
            "721/721 [==============================] - 3s 4ms/step - loss: 1.9090 - val_loss: 1.8980 - lr: 4.0000e-05\n",
            "Epoch 133/500\n",
            "721/721 [==============================] - 3s 4ms/step - loss: 1.9089 - val_loss: 1.8980 - lr: 4.0000e-05\n",
            "Epoch 134/500\n",
            "721/721 [==============================] - 3s 4ms/step - loss: 1.9090 - val_loss: 1.8980 - lr: 4.0000e-05\n",
            "Epoch 135/500\n",
            "721/721 [==============================] - 3s 4ms/step - loss: 1.9090 - val_loss: 1.8980 - lr: 4.0000e-05\n",
            "Epoch 136/500\n",
            "721/721 [==============================] - 3s 4ms/step - loss: 1.9090 - val_loss: 1.8980 - lr: 4.0000e-05\n",
            "Epoch 137/500\n",
            "721/721 [==============================] - 3s 4ms/step - loss: 1.9090 - val_loss: 1.8980 - lr: 4.0000e-05\n",
            "Epoch 138/500\n",
            "721/721 [==============================] - 3s 4ms/step - loss: 1.9090 - val_loss: 1.8980 - lr: 4.0000e-05\n",
            "Epoch 139/500\n",
            "721/721 [==============================] - 3s 4ms/step - loss: 1.9089 - val_loss: 1.8980 - lr: 4.0000e-05\n",
            "Epoch 140/500\n",
            "721/721 [==============================] - 3s 4ms/step - loss: 1.9089 - val_loss: 1.8980 - lr: 4.0000e-05\n",
            "Epoch 141/500\n",
            "721/721 [==============================] - 3s 4ms/step - loss: 1.9089 - val_loss: 1.8980 - lr: 4.0000e-05\n",
            "Epoch 142/500\n",
            "721/721 [==============================] - 3s 4ms/step - loss: 1.9090 - val_loss: 1.8980 - lr: 4.0000e-05\n",
            "Epoch 143/500\n",
            "721/721 [==============================] - 3s 4ms/step - loss: 1.9089 - val_loss: 1.8980 - lr: 4.0000e-05\n",
            "Epoch 144/500\n",
            "721/721 [==============================] - 3s 4ms/step - loss: 1.9089 - val_loss: 1.8980 - lr: 4.0000e-05\n",
            "Epoch 145/500\n",
            "721/721 [==============================] - 3s 4ms/step - loss: 1.9089 - val_loss: 1.8980 - lr: 4.0000e-05\n",
            "Epoch 146/500\n",
            "721/721 [==============================] - 3s 4ms/step - loss: 1.9089 - val_loss: 1.8980 - lr: 4.0000e-05\n",
            "Epoch 147/500\n",
            "721/721 [==============================] - 3s 4ms/step - loss: 1.9089 - val_loss: 1.8980 - lr: 4.0000e-05\n",
            "Epoch 148/500\n",
            "721/721 [==============================] - 3s 4ms/step - loss: 1.9089 - val_loss: 1.8980 - lr: 4.0000e-05\n",
            "Epoch 149/500\n",
            "721/721 [==============================] - 3s 4ms/step - loss: 1.9089 - val_loss: 1.8980 - lr: 4.0000e-05\n",
            "Epoch 150/500\n",
            "721/721 [==============================] - 3s 4ms/step - loss: 1.9089 - val_loss: 1.8980 - lr: 4.0000e-05\n",
            "Epoch 151/500\n",
            "721/721 [==============================] - 3s 4ms/step - loss: 1.9089 - val_loss: 1.8980 - lr: 4.0000e-05\n",
            "Epoch 152/500\n",
            "721/721 [==============================] - 3s 4ms/step - loss: 1.9089 - val_loss: 1.8980 - lr: 1.0000e-05\n",
            "Epoch 153/500\n",
            "721/721 [==============================] - 3s 4ms/step - loss: 1.9089 - val_loss: 1.8980 - lr: 1.0000e-05\n",
            "Epoch 154/500\n",
            "721/721 [==============================] - 3s 4ms/step - loss: 1.9089 - val_loss: 1.8980 - lr: 1.0000e-05\n",
            "Epoch 155/500\n",
            "721/721 [==============================] - 3s 4ms/step - loss: 1.9089 - val_loss: 1.8980 - lr: 1.0000e-05\n",
            "Epoch 156/500\n",
            "721/721 [==============================] - 3s 4ms/step - loss: 1.9089 - val_loss: 1.8980 - lr: 1.0000e-05\n",
            "Epoch 157/500\n",
            "721/721 [==============================] - 3s 4ms/step - loss: 1.9089 - val_loss: 1.8980 - lr: 1.0000e-05\n",
            "Epoch 158/500\n",
            "721/721 [==============================] - 3s 4ms/step - loss: 1.9090 - val_loss: 1.8980 - lr: 1.0000e-05\n",
            "Epoch 159/500\n",
            "721/721 [==============================] - 3s 4ms/step - loss: 1.9090 - val_loss: 1.8980 - lr: 1.0000e-05\n",
            "Epoch 160/500\n",
            "721/721 [==============================] - 3s 4ms/step - loss: 1.9089 - val_loss: 1.8980 - lr: 1.0000e-05\n",
            "Epoch 161/500\n",
            "721/721 [==============================] - 3s 4ms/step - loss: 1.9090 - val_loss: 1.8980 - lr: 1.0000e-05\n",
            "Epoch 162/500\n",
            "721/721 [==============================] - 3s 4ms/step - loss: 1.9090 - val_loss: 1.8979 - lr: 1.0000e-05\n",
            "Epoch 163/500\n",
            "721/721 [==============================] - 3s 4ms/step - loss: 1.9090 - val_loss: 1.8979 - lr: 1.0000e-05\n",
            "Epoch 164/500\n",
            "721/721 [==============================] - 3s 4ms/step - loss: 1.9090 - val_loss: 1.8979 - lr: 1.0000e-05\n",
            "Epoch 165/500\n",
            "721/721 [==============================] - 3s 4ms/step - loss: 1.9089 - val_loss: 1.8979 - lr: 1.0000e-05\n",
            "Epoch 166/500\n",
            "721/721 [==============================] - 3s 4ms/step - loss: 1.9090 - val_loss: 1.8979 - lr: 1.0000e-05\n",
            "Epoch 167/500\n",
            "721/721 [==============================] - 3s 4ms/step - loss: 1.9090 - val_loss: 1.8979 - lr: 1.0000e-05\n",
            "Epoch 168/500\n",
            "721/721 [==============================] - 3s 4ms/step - loss: 1.9090 - val_loss: 1.8979 - lr: 1.0000e-05\n",
            "Epoch 169/500\n",
            "721/721 [==============================] - 3s 4ms/step - loss: 1.9089 - val_loss: 1.8979 - lr: 1.0000e-05\n",
            "Epoch 170/500\n",
            "721/721 [==============================] - 3s 4ms/step - loss: 1.9089 - val_loss: 1.8979 - lr: 1.0000e-05\n",
            "Epoch 171/500\n",
            "721/721 [==============================] - 3s 4ms/step - loss: 1.9088 - val_loss: 1.8978 - lr: 1.0000e-05\n",
            "Epoch 172/500\n",
            "721/721 [==============================] - 3s 4ms/step - loss: 1.9087 - val_loss: 1.8978 - lr: 1.0000e-05\n",
            "Epoch 173/500\n",
            "721/721 [==============================] - 3s 4ms/step - loss: 1.9087 - val_loss: 1.8975 - lr: 1.0000e-05\n",
            "Epoch 174/500\n",
            "721/721 [==============================] - 3s 4ms/step - loss: 1.9086 - val_loss: 1.8971 - lr: 1.0000e-05\n",
            "Epoch 175/500\n",
            "721/721 [==============================] - 3s 4ms/step - loss: 1.9072 - val_loss: 1.8919 - lr: 1.0000e-05\n",
            "Epoch 176/500\n",
            "721/721 [==============================] - 3s 4ms/step - loss: 1.9025 - val_loss: 1.8736 - lr: 1.0000e-05\n",
            "Epoch 177/500\n",
            "721/721 [==============================] - 3s 4ms/step - loss: 1.8931 - val_loss: 1.8289 - lr: 1.0000e-05\n",
            "Epoch 178/500\n",
            "721/721 [==============================] - 3s 4ms/step - loss: 1.8564 - val_loss: 1.6046 - lr: 1.0000e-05\n",
            "Epoch 179/500\n",
            "721/721 [==============================] - 3s 4ms/step - loss: 1.7599 - val_loss: 1.5969 - lr: 1.0000e-05\n",
            "Epoch 180/500\n",
            "721/721 [==============================] - 3s 4ms/step - loss: 1.7208 - val_loss: 1.5810 - lr: 1.0000e-05\n",
            "Epoch 181/500\n",
            "721/721 [==============================] - 3s 4ms/step - loss: 1.6994 - val_loss: 1.5703 - lr: 1.0000e-05\n",
            "Epoch 182/500\n",
            "721/721 [==============================] - 3s 4ms/step - loss: 1.6777 - val_loss: 1.5623 - lr: 1.0000e-05\n",
            "Epoch 183/500\n",
            "721/721 [==============================] - 3s 4ms/step - loss: 1.6505 - val_loss: 1.5516 - lr: 1.0000e-05\n",
            "Epoch 184/500\n",
            "721/721 [==============================] - 3s 4ms/step - loss: 1.6360 - val_loss: 1.5466 - lr: 1.0000e-05\n",
            "Epoch 185/500\n",
            "721/721 [==============================] - 3s 4ms/step - loss: 1.6272 - val_loss: 1.5426 - lr: 1.0000e-05\n",
            "Epoch 186/500\n",
            "721/721 [==============================] - 3s 4ms/step - loss: 1.6193 - val_loss: 1.5446 - lr: 1.0000e-05\n",
            "Epoch 187/500\n",
            "721/721 [==============================] - 3s 4ms/step - loss: 1.6114 - val_loss: 1.5376 - lr: 1.0000e-05\n",
            "Epoch 188/500\n",
            "721/721 [==============================] - 3s 4ms/step - loss: 1.6045 - val_loss: 1.5311 - lr: 1.0000e-05\n",
            "Epoch 189/500\n",
            "721/721 [==============================] - 3s 4ms/step - loss: 1.5963 - val_loss: 1.5391 - lr: 1.0000e-05\n",
            "Epoch 190/500\n",
            "721/721 [==============================] - 3s 4ms/step - loss: 1.5883 - val_loss: 1.5406 - lr: 1.0000e-05\n",
            "Epoch 191/500\n",
            "721/721 [==============================] - 3s 4ms/step - loss: 1.5814 - val_loss: 1.5327 - lr: 1.0000e-05\n",
            "Epoch 192/500\n",
            "721/721 [==============================] - 3s 4ms/step - loss: 1.5776 - val_loss: 1.5291 - lr: 1.0000e-05\n",
            "Epoch 193/500\n",
            "721/721 [==============================] - 3s 4ms/step - loss: 1.5713 - val_loss: 1.5320 - lr: 1.0000e-05\n",
            "Epoch 194/500\n",
            "721/721 [==============================] - 3s 4ms/step - loss: 1.5673 - val_loss: 1.5223 - lr: 1.0000e-05\n",
            "Epoch 195/500\n",
            "721/721 [==============================] - 3s 4ms/step - loss: 1.5617 - val_loss: 1.5162 - lr: 1.0000e-05\n",
            "Epoch 196/500\n",
            "721/721 [==============================] - 3s 4ms/step - loss: 1.5551 - val_loss: 1.5162 - lr: 1.0000e-05\n",
            "Epoch 197/500\n",
            "721/721 [==============================] - 3s 4ms/step - loss: 1.5511 - val_loss: 1.5103 - lr: 1.0000e-05\n",
            "Epoch 198/500\n",
            "721/721 [==============================] - 3s 4ms/step - loss: 1.5479 - val_loss: 1.5066 - lr: 1.0000e-05\n",
            "Epoch 199/500\n",
            "721/721 [==============================] - 3s 4ms/step - loss: 1.5454 - val_loss: 1.5057 - lr: 1.0000e-05\n",
            "Epoch 200/500\n",
            "721/721 [==============================] - 3s 4ms/step - loss: 1.5423 - val_loss: 1.4953 - lr: 1.0000e-05\n",
            "Epoch 201/500\n",
            "721/721 [==============================] - 3s 4ms/step - loss: 1.5391 - val_loss: 1.4979 - lr: 1.0000e-05\n",
            "Epoch 202/500\n",
            "721/721 [==============================] - 3s 4ms/step - loss: 1.5359 - val_loss: 1.4895 - lr: 1.0000e-05\n",
            "Epoch 203/500\n",
            "721/721 [==============================] - 3s 4ms/step - loss: 1.5334 - val_loss: 1.4965 - lr: 1.0000e-05\n",
            "Epoch 204/500\n",
            "721/721 [==============================] - 3s 4ms/step - loss: 1.5311 - val_loss: 1.4913 - lr: 1.0000e-05\n",
            "Epoch 205/500\n",
            "721/721 [==============================] - 3s 4ms/step - loss: 1.5288 - val_loss: 1.4936 - lr: 1.0000e-05\n",
            "Epoch 206/500\n",
            "721/721 [==============================] - 3s 4ms/step - loss: 1.5239 - val_loss: 1.4917 - lr: 1.0000e-05\n",
            "Epoch 207/500\n",
            "721/721 [==============================] - 3s 4ms/step - loss: 1.5194 - val_loss: 1.4828 - lr: 1.0000e-05\n",
            "Epoch 208/500\n",
            "721/721 [==============================] - 3s 4ms/step - loss: 1.5160 - val_loss: 1.4795 - lr: 1.0000e-05\n",
            "Epoch 209/500\n",
            "721/721 [==============================] - 3s 4ms/step - loss: 1.5141 - val_loss: 1.4791 - lr: 1.0000e-05\n",
            "Epoch 210/500\n",
            "721/721 [==============================] - 3s 4ms/step - loss: 1.5118 - val_loss: 1.4824 - lr: 1.0000e-05\n",
            "Epoch 211/500\n",
            "721/721 [==============================] - 3s 4ms/step - loss: 1.5093 - val_loss: 1.4868 - lr: 1.0000e-05\n",
            "Epoch 212/500\n",
            "721/721 [==============================] - 3s 4ms/step - loss: 1.5069 - val_loss: 1.4831 - lr: 1.0000e-05\n",
            "Epoch 213/500\n",
            "721/721 [==============================] - 3s 4ms/step - loss: 1.5046 - val_loss: 1.4739 - lr: 1.0000e-05\n",
            "Epoch 214/500\n",
            "721/721 [==============================] - 3s 4ms/step - loss: 1.5025 - val_loss: 1.4750 - lr: 1.0000e-05\n",
            "Epoch 215/500\n",
            "721/721 [==============================] - 3s 4ms/step - loss: 1.5002 - val_loss: 1.4749 - lr: 1.0000e-05\n",
            "Epoch 216/500\n",
            "721/721 [==============================] - 3s 4ms/step - loss: 1.4979 - val_loss: 1.4647 - lr: 1.0000e-05\n",
            "Epoch 217/500\n",
            "721/721 [==============================] - 3s 4ms/step - loss: 1.4925 - val_loss: 1.4750 - lr: 1.0000e-05\n",
            "Epoch 218/500\n",
            "721/721 [==============================] - 3s 4ms/step - loss: 1.4905 - val_loss: 1.4693 - lr: 1.0000e-05\n",
            "Epoch 219/500\n",
            "721/721 [==============================] - 3s 4ms/step - loss: 1.4885 - val_loss: 1.4650 - lr: 1.0000e-05\n",
            "Epoch 220/500\n",
            "721/721 [==============================] - 3s 4ms/step - loss: 1.4860 - val_loss: 1.4660 - lr: 1.0000e-05\n",
            "Epoch 221/500\n",
            "721/721 [==============================] - 3s 4ms/step - loss: 1.4835 - val_loss: 1.4652 - lr: 1.0000e-05\n",
            "Epoch 222/500\n",
            "721/721 [==============================] - 3s 4ms/step - loss: 1.4817 - val_loss: 1.4645 - lr: 1.0000e-05\n",
            "Epoch 223/500\n",
            "721/721 [==============================] - 3s 4ms/step - loss: 1.4799 - val_loss: 1.4614 - lr: 1.0000e-05\n",
            "Epoch 224/500\n",
            "721/721 [==============================] - 3s 4ms/step - loss: 1.4774 - val_loss: 1.4655 - lr: 1.0000e-05\n",
            "Epoch 225/500\n",
            "721/721 [==============================] - 3s 4ms/step - loss: 1.4750 - val_loss: 1.4538 - lr: 1.0000e-05\n",
            "Epoch 226/500\n",
            "721/721 [==============================] - 3s 4ms/step - loss: 1.4719 - val_loss: 1.4535 - lr: 1.0000e-05\n",
            "Epoch 227/500\n",
            "721/721 [==============================] - 3s 4ms/step - loss: 1.4687 - val_loss: 1.4452 - lr: 1.0000e-05\n",
            "Epoch 228/500\n",
            "721/721 [==============================] - 3s 4ms/step - loss: 1.4657 - val_loss: 1.4546 - lr: 1.0000e-05\n",
            "Epoch 229/500\n",
            "721/721 [==============================] - 3s 4ms/step - loss: 1.4633 - val_loss: 1.4508 - lr: 1.0000e-05\n",
            "Epoch 230/500\n",
            "721/721 [==============================] - 3s 4ms/step - loss: 1.4612 - val_loss: 1.4432 - lr: 1.0000e-05\n",
            "Epoch 231/500\n",
            "721/721 [==============================] - 3s 4ms/step - loss: 1.4587 - val_loss: 1.4442 - lr: 1.0000e-05\n",
            "Epoch 232/500\n",
            "721/721 [==============================] - 3s 4ms/step - loss: 1.4566 - val_loss: 1.4352 - lr: 1.0000e-05\n",
            "Epoch 233/500\n",
            "721/721 [==============================] - 3s 4ms/step - loss: 1.4523 - val_loss: 1.4500 - lr: 1.0000e-05\n",
            "Epoch 234/500\n",
            "721/721 [==============================] - 3s 4ms/step - loss: 1.4457 - val_loss: 1.4400 - lr: 1.0000e-05\n",
            "Epoch 235/500\n",
            "721/721 [==============================] - 3s 4ms/step - loss: 1.4411 - val_loss: 1.4270 - lr: 1.0000e-05\n",
            "Epoch 236/500\n",
            "721/721 [==============================] - 3s 4ms/step - loss: 1.4388 - val_loss: 1.4232 - lr: 1.0000e-05\n",
            "Epoch 237/500\n",
            "721/721 [==============================] - 3s 4ms/step - loss: 1.4357 - val_loss: 1.4231 - lr: 1.0000e-05\n",
            "Epoch 238/500\n",
            "721/721 [==============================] - 3s 4ms/step - loss: 1.4326 - val_loss: 1.4278 - lr: 1.0000e-05\n",
            "Epoch 239/500\n",
            "721/721 [==============================] - 3s 4ms/step - loss: 1.4304 - val_loss: 1.4137 - lr: 1.0000e-05\n",
            "Epoch 240/500\n",
            "721/721 [==============================] - 3s 4ms/step - loss: 1.4277 - val_loss: 1.4153 - lr: 1.0000e-05\n",
            "Epoch 241/500\n",
            "721/721 [==============================] - 3s 4ms/step - loss: 1.4251 - val_loss: 1.4353 - lr: 1.0000e-05\n",
            "Epoch 242/500\n",
            "721/721 [==============================] - 3s 4ms/step - loss: 1.4224 - val_loss: 1.4037 - lr: 1.0000e-05\n",
            "Epoch 243/500\n",
            "721/721 [==============================] - 3s 4ms/step - loss: 1.4193 - val_loss: 1.4069 - lr: 1.0000e-05\n",
            "Epoch 244/500\n",
            "721/721 [==============================] - 3s 4ms/step - loss: 1.4159 - val_loss: 1.4012 - lr: 1.0000e-05\n",
            "Epoch 245/500\n",
            "721/721 [==============================] - 3s 4ms/step - loss: 1.4130 - val_loss: 1.4003 - lr: 1.0000e-05\n",
            "Epoch 246/500\n",
            "721/721 [==============================] - 3s 4ms/step - loss: 1.4102 - val_loss: 1.3982 - lr: 1.0000e-05\n",
            "Epoch 247/500\n",
            "721/721 [==============================] - 3s 4ms/step - loss: 1.4077 - val_loss: 1.3955 - lr: 1.0000e-05\n",
            "Epoch 248/500\n",
            "721/721 [==============================] - 3s 4ms/step - loss: 1.4050 - val_loss: 1.3859 - lr: 1.0000e-05\n",
            "Epoch 249/500\n",
            "721/721 [==============================] - 3s 4ms/step - loss: 1.4024 - val_loss: 1.3844 - lr: 1.0000e-05\n",
            "Epoch 250/500\n",
            "721/721 [==============================] - 3s 4ms/step - loss: 1.4000 - val_loss: 1.3831 - lr: 1.0000e-05\n",
            "Epoch 251/500\n",
            "721/721 [==============================] - 3s 4ms/step - loss: 1.3969 - val_loss: 1.3903 - lr: 1.0000e-05\n",
            "Epoch 252/500\n",
            "721/721 [==============================] - 3s 4ms/step - loss: 1.3944 - val_loss: 1.3782 - lr: 1.0000e-05\n",
            "Epoch 253/500\n",
            "721/721 [==============================] - 3s 4ms/step - loss: 1.3917 - val_loss: 1.3770 - lr: 1.0000e-05\n",
            "Epoch 254/500\n",
            "721/721 [==============================] - 3s 4ms/step - loss: 1.3894 - val_loss: 1.3757 - lr: 1.0000e-05\n",
            "Epoch 255/500\n",
            "721/721 [==============================] - 3s 4ms/step - loss: 1.3875 - val_loss: 1.3706 - lr: 1.0000e-05\n",
            "Epoch 256/500\n",
            "721/721 [==============================] - 3s 4ms/step - loss: 1.3854 - val_loss: 1.3708 - lr: 1.0000e-05\n",
            "Epoch 257/500\n",
            "721/721 [==============================] - 3s 4ms/step - loss: 1.3829 - val_loss: 1.3673 - lr: 1.0000e-05\n",
            "Epoch 258/500\n",
            "721/721 [==============================] - 3s 4ms/step - loss: 1.3804 - val_loss: 1.3646 - lr: 1.0000e-05\n",
            "Epoch 259/500\n",
            "721/721 [==============================] - 3s 4ms/step - loss: 1.3772 - val_loss: 1.3617 - lr: 1.0000e-05\n",
            "Epoch 260/500\n",
            "721/721 [==============================] - 3s 4ms/step - loss: 1.3753 - val_loss: 1.3605 - lr: 1.0000e-05\n",
            "Epoch 261/500\n",
            "721/721 [==============================] - 3s 4ms/step - loss: 1.3738 - val_loss: 1.3624 - lr: 1.0000e-05\n",
            "Epoch 262/500\n",
            "721/721 [==============================] - 3s 4ms/step - loss: 1.3727 - val_loss: 1.3588 - lr: 1.0000e-05\n",
            "Epoch 263/500\n",
            "721/721 [==============================] - 3s 4ms/step - loss: 1.3715 - val_loss: 1.3584 - lr: 1.0000e-05\n",
            "Epoch 264/500\n",
            "721/721 [==============================] - 3s 4ms/step - loss: 1.3708 - val_loss: 1.3577 - lr: 1.0000e-05\n",
            "Epoch 265/500\n",
            "721/721 [==============================] - 3s 4ms/step - loss: 1.3701 - val_loss: 1.3570 - lr: 1.0000e-05\n",
            "Epoch 266/500\n",
            "721/721 [==============================] - 3s 4ms/step - loss: 1.3695 - val_loss: 1.3564 - lr: 1.0000e-05\n",
            "Epoch 267/500\n",
            "721/721 [==============================] - 3s 4ms/step - loss: 1.3688 - val_loss: 1.3570 - lr: 1.0000e-05\n",
            "Epoch 268/500\n",
            "721/721 [==============================] - 3s 4ms/step - loss: 1.3687 - val_loss: 1.3558 - lr: 1.0000e-05\n",
            "Epoch 269/500\n",
            "721/721 [==============================] - 3s 4ms/step - loss: 1.3681 - val_loss: 1.3556 - lr: 1.0000e-05\n",
            "Epoch 270/500\n",
            "721/721 [==============================] - 3s 4ms/step - loss: 1.3679 - val_loss: 1.3549 - lr: 1.0000e-05\n",
            "Epoch 271/500\n",
            "721/721 [==============================] - 3s 4ms/step - loss: 1.3677 - val_loss: 1.3549 - lr: 1.0000e-05\n",
            "Epoch 272/500\n",
            "721/721 [==============================] - 3s 4ms/step - loss: 1.3674 - val_loss: 1.3547 - lr: 1.0000e-05\n",
            "Epoch 273/500\n",
            "721/721 [==============================] - 3s 4ms/step - loss: 1.3672 - val_loss: 1.3548 - lr: 1.0000e-05\n",
            "Epoch 274/500\n",
            "721/721 [==============================] - 3s 4ms/step - loss: 1.3673 - val_loss: 1.3547 - lr: 1.0000e-05\n",
            "Epoch 275/500\n",
            "721/721 [==============================] - 3s 4ms/step - loss: 1.3669 - val_loss: 1.3548 - lr: 1.0000e-05\n",
            "Epoch 276/500\n",
            "721/721 [==============================] - 3s 4ms/step - loss: 1.3668 - val_loss: 1.3548 - lr: 1.0000e-05\n",
            "Epoch 277/500\n",
            "721/721 [==============================] - 3s 4ms/step - loss: 1.3666 - val_loss: 1.3546 - lr: 1.0000e-05\n",
            "Epoch 278/500\n",
            "721/721 [==============================] - 3s 4ms/step - loss: 1.3664 - val_loss: 1.3544 - lr: 1.0000e-05\n",
            "Epoch 279/500\n",
            "721/721 [==============================] - 3s 4ms/step - loss: 1.3662 - val_loss: 1.3547 - lr: 1.0000e-05\n",
            "Epoch 280/500\n",
            "721/721 [==============================] - 3s 4ms/step - loss: 1.3658 - val_loss: 1.3544 - lr: 1.0000e-05\n",
            "Epoch 281/500\n",
            "721/721 [==============================] - 3s 4ms/step - loss: 1.3658 - val_loss: 1.3548 - lr: 1.0000e-05\n",
            "Epoch 282/500\n",
            "721/721 [==============================] - 3s 4ms/step - loss: 1.3659 - val_loss: 1.3544 - lr: 1.0000e-05\n",
            "Epoch 283/500\n",
            "721/721 [==============================] - 3s 4ms/step - loss: 1.3656 - val_loss: 1.3544 - lr: 1.0000e-05\n",
            "Epoch 284/500\n",
            "721/721 [==============================] - 3s 4ms/step - loss: 1.3652 - val_loss: 1.3545 - lr: 1.0000e-05\n",
            "Epoch 285/500\n",
            "721/721 [==============================] - 3s 4ms/step - loss: 1.3652 - val_loss: 1.3544 - lr: 1.0000e-05\n",
            "Epoch 286/500\n",
            "721/721 [==============================] - 3s 4ms/step - loss: 1.3651 - val_loss: 1.3549 - lr: 1.0000e-05\n",
            "Epoch 287/500\n",
            "721/721 [==============================] - 3s 4ms/step - loss: 1.3648 - val_loss: 1.3550 - lr: 1.0000e-05\n",
            "Epoch 288/500\n",
            "721/721 [==============================] - 3s 4ms/step - loss: 1.3647 - val_loss: 1.3543 - lr: 1.0000e-05\n",
            "Epoch 289/500\n",
            "721/721 [==============================] - 3s 4ms/step - loss: 1.3646 - val_loss: 1.3549 - lr: 1.0000e-05\n",
            "Epoch 290/500\n",
            "721/721 [==============================] - 3s 4ms/step - loss: 1.3646 - val_loss: 1.3547 - lr: 1.0000e-05\n",
            "Epoch 291/500\n",
            "721/721 [==============================] - 3s 4ms/step - loss: 1.3645 - val_loss: 1.3545 - lr: 1.0000e-05\n",
            "Epoch 292/500\n",
            "721/721 [==============================] - 3s 4ms/step - loss: 1.3644 - val_loss: 1.3545 - lr: 1.0000e-05\n",
            "Epoch 293/500\n",
            "721/721 [==============================] - 3s 4ms/step - loss: 1.3644 - val_loss: 1.3544 - lr: 1.0000e-05\n",
            "Epoch 294/500\n",
            "721/721 [==============================] - 3s 4ms/step - loss: 1.3643 - val_loss: 1.3543 - lr: 1.0000e-05\n",
            "Epoch 295/500\n",
            "721/721 [==============================] - 3s 4ms/step - loss: 1.3642 - val_loss: 1.3543 - lr: 1.0000e-05\n",
            "Epoch 296/500\n",
            "721/721 [==============================] - 3s 4ms/step - loss: 1.3642 - val_loss: 1.3544 - lr: 1.0000e-05\n",
            "Epoch 297/500\n",
            "721/721 [==============================] - 3s 4ms/step - loss: 1.3642 - val_loss: 1.3545 - lr: 1.0000e-05\n",
            "Epoch 298/500\n",
            "721/721 [==============================] - 3s 4ms/step - loss: 1.3642 - val_loss: 1.3543 - lr: 1.0000e-05\n",
            "Epoch 299/500\n",
            "721/721 [==============================] - 3s 4ms/step - loss: 1.3641 - val_loss: 1.3544 - lr: 1.0000e-05\n",
            "Epoch 300/500\n",
            "721/721 [==============================] - 3s 4ms/step - loss: 1.3640 - val_loss: 1.3544 - lr: 1.0000e-05\n",
            "Epoch 301/500\n",
            "721/721 [==============================] - 3s 4ms/step - loss: 1.3639 - val_loss: 1.3544 - lr: 1.0000e-05\n",
            "Epoch 302/500\n",
            "721/721 [==============================] - 3s 4ms/step - loss: 1.3638 - val_loss: 1.3543 - lr: 1.0000e-05\n",
            "Epoch 303/500\n",
            "721/721 [==============================] - 3s 4ms/step - loss: 1.3639 - val_loss: 1.3543 - lr: 1.0000e-05\n",
            "Epoch 304/500\n",
            "721/721 [==============================] - 3s 4ms/step - loss: 1.3638 - val_loss: 1.3544 - lr: 1.0000e-05\n",
            "Epoch 305/500\n",
            "721/721 [==============================] - 3s 4ms/step - loss: 1.3637 - val_loss: 1.3544 - lr: 1.0000e-05\n",
            "Epoch 306/500\n",
            "721/721 [==============================] - 3s 4ms/step - loss: 1.3639 - val_loss: 1.3544 - lr: 1.0000e-05\n",
            "Epoch 307/500\n",
            "721/721 [==============================] - 3s 4ms/step - loss: 1.3636 - val_loss: 1.3550 - lr: 1.0000e-05\n",
            "Epoch 308/500\n",
            "721/721 [==============================] - 3s 4ms/step - loss: 1.3637 - val_loss: 1.3544 - lr: 1.0000e-05\n",
            "Epoch 309/500\n",
            "721/721 [==============================] - 3s 4ms/step - loss: 1.3637 - val_loss: 1.3543 - lr: 1.0000e-05\n",
            "Epoch 310/500\n",
            "721/721 [==============================] - 3s 4ms/step - loss: 1.3637 - val_loss: 1.3545 - lr: 1.0000e-05\n",
            "Epoch 311/500\n",
            "721/721 [==============================] - 3s 4ms/step - loss: 1.3635 - val_loss: 1.3543 - lr: 1.0000e-05\n",
            "Epoch 312/500\n",
            "721/721 [==============================] - 3s 4ms/step - loss: 1.3636 - val_loss: 1.3544 - lr: 1.0000e-05\n",
            "Epoch 313/500\n",
            "721/721 [==============================] - 3s 4ms/step - loss: 1.3635 - val_loss: 1.3543 - lr: 1.0000e-05\n",
            "Epoch 314/500\n",
            "721/721 [==============================] - 3s 4ms/step - loss: 1.3636 - val_loss: 1.3544 - lr: 1.0000e-05\n",
            "Epoch 315/500\n",
            "721/721 [==============================] - 3s 4ms/step - loss: 1.3636 - val_loss: 1.3544 - lr: 1.0000e-05\n",
            "Epoch 316/500\n",
            "721/721 [==============================] - 3s 4ms/step - loss: 1.3634 - val_loss: 1.3543 - lr: 1.0000e-05\n",
            "Epoch 317/500\n",
            "721/721 [==============================] - 3s 4ms/step - loss: 1.3632 - val_loss: 1.3546 - lr: 1.0000e-05\n",
            "Epoch 318/500\n",
            "721/721 [==============================] - 3s 4ms/step - loss: 1.3632 - val_loss: 1.3544 - lr: 1.0000e-05\n",
            "Epoch 319/500\n",
            "721/721 [==============================] - 3s 4ms/step - loss: 1.3633 - val_loss: 1.3543 - lr: 1.0000e-05\n",
            "Epoch 320/500\n",
            "721/721 [==============================] - 3s 4ms/step - loss: 1.3633 - val_loss: 1.3544 - lr: 1.0000e-05\n",
            "Epoch 321/500\n",
            "721/721 [==============================] - 3s 4ms/step - loss: 1.3633 - val_loss: 1.3546 - lr: 1.0000e-05\n",
            "Epoch 322/500\n",
            "721/721 [==============================] - 3s 4ms/step - loss: 1.3632 - val_loss: 1.3543 - lr: 1.0000e-05\n",
            "Epoch 323/500\n",
            "721/721 [==============================] - 3s 4ms/step - loss: 1.3632 - val_loss: 1.3544 - lr: 1.0000e-05\n",
            "Epoch 324/500\n",
            "721/721 [==============================] - 3s 4ms/step - loss: 1.3631 - val_loss: 1.3543 - lr: 1.0000e-05\n",
            "Epoch 325/500\n",
            "721/721 [==============================] - 3s 4ms/step - loss: 1.3634 - val_loss: 1.3543 - lr: 1.0000e-05\n",
            "Epoch 326/500\n",
            "721/721 [==============================] - 3s 4ms/step - loss: 1.3631 - val_loss: 1.3547 - lr: 1.0000e-05\n",
            "Epoch 327/500\n",
            "721/721 [==============================] - 3s 4ms/step - loss: 1.3631 - val_loss: 1.3544 - lr: 1.0000e-05\n",
            "Epoch 328/500\n",
            "721/721 [==============================] - 3s 4ms/step - loss: 1.3628 - val_loss: 1.3544 - lr: 1.0000e-05\n",
            "Epoch 329/500\n",
            "721/721 [==============================] - 3s 4ms/step - loss: 1.3630 - val_loss: 1.3545 - lr: 1.0000e-05\n",
            "Epoch 330/500\n",
            "721/721 [==============================] - 3s 4ms/step - loss: 1.3630 - val_loss: 1.3545 - lr: 1.0000e-05\n",
            "Epoch 331/500\n",
            "721/721 [==============================] - 3s 4ms/step - loss: 1.3629 - val_loss: 1.3543 - lr: 1.0000e-05\n",
            "Epoch 332/500\n",
            "721/721 [==============================] - 3s 4ms/step - loss: 1.3628 - val_loss: 1.3543 - lr: 1.0000e-05\n",
            "Epoch 333/500\n",
            "721/721 [==============================] - 3s 4ms/step - loss: 1.3629 - val_loss: 1.3544 - lr: 1.0000e-05\n",
            "Epoch 334/500\n",
            "721/721 [==============================] - 3s 4ms/step - loss: 1.3628 - val_loss: 1.3543 - lr: 1.0000e-05\n",
            "Epoch 335/500\n",
            "721/721 [==============================] - 3s 4ms/step - loss: 1.3628 - val_loss: 1.3544 - lr: 1.0000e-05\n",
            "Epoch 336/500\n",
            "721/721 [==============================] - 3s 4ms/step - loss: 1.3627 - val_loss: 1.3544 - lr: 1.0000e-05\n",
            "Epoch 337/500\n",
            "721/721 [==============================] - 3s 4ms/step - loss: 1.3627 - val_loss: 1.3544 - lr: 1.0000e-05\n",
            "Epoch 338/500\n",
            "721/721 [==============================] - 3s 4ms/step - loss: 1.3627 - val_loss: 1.3544 - lr: 1.0000e-05\n",
            "Epoch 339/500\n",
            "721/721 [==============================] - 3s 4ms/step - loss: 1.3627 - val_loss: 1.3543 - lr: 1.0000e-05\n",
            "Epoch 340/500\n",
            "721/721 [==============================] - 3s 4ms/step - loss: 1.3628 - val_loss: 1.3544 - lr: 1.0000e-05\n",
            "Epoch 341/500\n",
            "721/721 [==============================] - 3s 4ms/step - loss: 1.3627 - val_loss: 1.3544 - lr: 1.0000e-05\n",
            "Epoch 342/500\n",
            "721/721 [==============================] - 3s 4ms/step - loss: 1.3624 - val_loss: 1.3543 - lr: 1.0000e-05\n",
            "Epoch 343/500\n",
            "721/721 [==============================] - 3s 4ms/step - loss: 1.3626 - val_loss: 1.3545 - lr: 1.0000e-05\n",
            "Epoch 344/500\n",
            "721/721 [==============================] - 3s 4ms/step - loss: 1.3625 - val_loss: 1.3544 - lr: 1.0000e-05\n",
            "Epoch 345/500\n",
            "721/721 [==============================] - 3s 4ms/step - loss: 1.3625 - val_loss: 1.3544 - lr: 1.0000e-05\n",
            "Epoch 346/500\n",
            "721/721 [==============================] - 3s 4ms/step - loss: 1.3626 - val_loss: 1.3544 - lr: 1.0000e-05\n",
            "Epoch 347/500\n",
            "721/721 [==============================] - 3s 4ms/step - loss: 1.3625 - val_loss: 1.3544 - lr: 1.0000e-05\n",
            "Epoch 348/500\n",
            "721/721 [==============================] - 3s 4ms/step - loss: 1.3624 - val_loss: 1.3544 - lr: 1.0000e-05\n",
            "Epoch 349/500\n",
            "721/721 [==============================] - 3s 4ms/step - loss: 1.3625 - val_loss: 1.3543 - lr: 1.0000e-05\n",
            "Epoch 350/500\n",
            "721/721 [==============================] - 3s 4ms/step - loss: 1.3623 - val_loss: 1.3546 - lr: 1.0000e-05\n",
            "Epoch 351/500\n",
            "721/721 [==============================] - 3s 4ms/step - loss: 1.3624 - val_loss: 1.3543 - lr: 1.0000e-05\n",
            "Epoch 352/500\n",
            "721/721 [==============================] - 3s 4ms/step - loss: 1.3623 - val_loss: 1.3543 - lr: 1.0000e-05\n",
            "Epoch 353/500\n",
            "721/721 [==============================] - 3s 4ms/step - loss: 1.3624 - val_loss: 1.3544 - lr: 1.0000e-05\n",
            "Epoch 354/500\n",
            "721/721 [==============================] - 3s 4ms/step - loss: 1.3624 - val_loss: 1.3543 - lr: 1.0000e-05\n",
            "Epoch 355/500\n",
            "721/721 [==============================] - 3s 4ms/step - loss: 1.3624 - val_loss: 1.3544 - lr: 1.0000e-05\n",
            "Epoch 356/500\n",
            "721/721 [==============================] - 3s 4ms/step - loss: 1.3625 - val_loss: 1.3544 - lr: 1.0000e-05\n",
            "Epoch 357/500\n",
            "721/721 [==============================] - 3s 4ms/step - loss: 1.3624 - val_loss: 1.3543 - lr: 1.0000e-05\n",
            "Epoch 358/500\n",
            "721/721 [==============================] - 3s 4ms/step - loss: 1.3624 - val_loss: 1.3544 - lr: 1.0000e-05\n",
            "Epoch 359/500\n",
            "721/721 [==============================] - 3s 4ms/step - loss: 1.3623 - val_loss: 1.3543 - lr: 1.0000e-05\n",
            "Epoch 360/500\n",
            "721/721 [==============================] - 3s 4ms/step - loss: 1.3622 - val_loss: 1.3544 - lr: 1.0000e-05\n",
            "Epoch 361/500\n",
            "721/721 [==============================] - 3s 4ms/step - loss: 1.3622 - val_loss: 1.3544 - lr: 1.0000e-05\n",
            "CPU times: user 24min 10s, sys: 2min 37s, total: 26min 48s\n",
            "Wall time: 16min 23s\n"
          ]
        }
      ],
      "source": [
        "%%time\n",
        "# Entrenamiento del modelo\n",
        "history = model.fit([user_ids_train, item_ids_train], ratings_train,\n",
        "    epochs=500,validation_data=([user_ids_val, item_ids_val], ratings_val),\n",
        "    batch_size=4000,verbose=1,callbacks=[early_stop, reduce_lr])"
      ]
    },
    {
      "cell_type": "code",
      "execution_count": 22,
      "metadata": {
        "colab": {
          "base_uri": "https://localhost:8080/"
        },
        "id": "Rhuwylfbf26k",
        "outputId": "6b332785-bde7-40be-a0f2-1d53672c4d1f"
      },
      "outputs": [
        {
          "output_type": "stream",
          "name": "stdout",
          "text": [
            "30004/30004 [==============================] - 43s 1ms/step\n"
          ]
        }
      ],
      "source": [
        "# Evaluar el modelo\n",
        "y_true = ratings_test\n",
        "predictions = model.predict([user_ids_test, item_ids_test])"
      ]
    },
    {
      "cell_type": "code",
      "execution_count": 23,
      "metadata": {
        "id": "CmYiE_PhkU66",
        "colab": {
          "base_uri": "https://localhost:8080/"
        },
        "outputId": "21e8e482-3f20-4966-9ed5-60c5753cbcf9"
      },
      "outputs": [
        {
          "output_type": "stream",
          "name": "stdout",
          "text": [
            "MSE: 1.361400549734855\n",
            "RMSE: 1.166790705197318\n",
            "MAE: 0.9265545071366721\n",
            "MAPE: 38.409837146028394%\n"
          ]
        }
      ],
      "source": [
        "# MSE y RMSE\n",
        "mse = mean_squared_error(y_true, predictions)\n",
        "rmse = np.sqrt(mse)\n",
        "\n",
        "# MAE\n",
        "mae = mean_absolute_error(y_true, predictions)\n",
        "\n",
        "# Funciones MAPE\n",
        "def mean_absolute_percentage_error(y_true, y_pred):\n",
        "    y_true, y_pred = np.array(y_true), np.array(y_pred)\n",
        "    non_zero_idx = y_true != 0  # Para evitar divisiones por cero\n",
        "    return np.mean(np.abs((y_true[non_zero_idx] - y_pred[non_zero_idx]) / y_true[non_zero_idx])) * 100\n",
        "\n",
        "def compute_mape_by_batch(y_true, predictions, batch_size=50000):\n",
        "    mape_sum = 0\n",
        "    num_batches = int(np.ceil(len(y_true) / batch_size))\n",
        "\n",
        "    for i in range(num_batches):\n",
        "        start_idx = i * batch_size\n",
        "        end_idx = start_idx + batch_size\n",
        "\n",
        "        batch_y_true = y_true[start_idx:end_idx]\n",
        "        batch_predictions = predictions[start_idx:end_idx]\n",
        "\n",
        "        mape_sum += mean_absolute_percentage_error(batch_y_true, batch_predictions)\n",
        "\n",
        "    return mape_sum / num_batches\n",
        "\n",
        "# Luego llamas a la función\n",
        "mape = compute_mape_by_batch(y_true, predictions)\n",
        "\n",
        "print(f'MSE: {mse}')\n",
        "print(f'RMSE: {rmse}')\n",
        "print(f'MAE: {mae}')\n",
        "print(f'MAPE: {mape}%')"
      ]
    },
    {
      "cell_type": "markdown",
      "source": [
        "# Recomendación"
      ],
      "metadata": {
        "id": "3cpno7_qiX_J"
      }
    },
    {
      "cell_type": "code",
      "source": [
        "# Seleccionar un usuario al azar del conjunto de prueba\n",
        "usuario_id_test_encoded = random.choice(user_ids_test)\n",
        "\n",
        "# Decodificar el ID del usuario para obtener el ID original\n",
        "usuario_id_test = reviewerID_encoder.inverse_transform([usuario_id_test_encoded])[0]\n",
        "\n",
        "# Identificar los ítems que el usuario ha calificado en el conjunto de prueba\n",
        "indices_usuario = np.where(user_ids_test == usuario_id_test_encoded)[0]\n",
        "items_calificados_test_encoded = item_ids_test[indices_usuario]\n",
        "calificaciones_reales_test = ratings_test[indices_usuario]\n",
        "\n",
        "# Predecir las calificaciones para estos ítems\n",
        "calificaciones_predichas = model.predict([np.array([usuario_id_test_encoded] * len(items_calificados_test_encoded)), items_calificados_test_encoded])\n",
        "\n",
        "# Decodificar los ítems para obtener los ID originales\n",
        "items_calificados_test = asin_encoder.inverse_transform(items_calificados_test_encoded)\n",
        "\n",
        "# Comparar las calificaciones predichas con las reales\n",
        "comparacion = list(zip(items_calificados_test, calificaciones_reales_test, calificaciones_predichas.flatten()))\n",
        "\n",
        "# Suponiendo que 'items_calificados_test' contiene los IDs originales de los ítems\n",
        "recomendaciones_df = pd.DataFrame({\n",
        "    'asin': items_calificados_test,\n",
        "    'Calificación Real': calificaciones_reales_test,\n",
        "    'Calificación Predicha': calificaciones_predichas.flatten()\n",
        "})\n",
        "\n",
        "recomendaciones_df = recomendaciones_df.merge(sentimiento[['asin', 'cluster']], on='asin', how='left')\n",
        "recomendaciones_df.rename(columns={'cluster': 'Sentimiento'}, inplace=True)\n",
        "\n",
        "# Mostrar las recomendaciones\n",
        "print(f\"Recomendaciones para el usuario {usuario_id_test}:\")\n",
        "for index, row in recomendaciones_df.iterrows():\n",
        "    print(f\"Ítem: {row['asin']}, Calificación Real: {row['Calificación Real']}, Calificación Predicha: {row['Calificación Predicha']}, Sentimiento: {row['Sentimiento']}\")"
      ],
      "metadata": {
        "id": "DVbVdWePiZu2",
        "colab": {
          "base_uri": "https://localhost:8080/"
        },
        "outputId": "fa12e19c-9bf8-4552-8967-99fff4c3f2ce"
      },
      "execution_count": 24,
      "outputs": [
        {
          "output_type": "stream",
          "name": "stdout",
          "text": [
            "1/1 [==============================] - 0s 21ms/step\n",
            "Recomendaciones para el usuario A3EIHUF61H4SAY:\n",
            "Ítem: B00559Q20S, Calificación Real: 5.0, Calificación Predicha: 4.290541648864746, Sentimiento: Neutro\n",
            "Ítem: B00528CJPY, Calificación Real: 4.0, Calificación Predicha: 4.290517807006836, Sentimiento: Neutro\n"
          ]
        }
      ]
    },
    {
      "cell_type": "code",
      "source": [
        "# Seleccionar un usuario al azar del conjunto de prueba\n",
        "usuario_id_test_encoded = random.choice(user_ids_test)\n",
        "\n",
        "# Decodificar el ID del usuario para obtener el ID original\n",
        "usuario_id = reviewerID_encoder.inverse_transform([usuario_id_test_encoded])[0]\n",
        "\n",
        "# Lista de todos los ítems únicos en el dataset\n",
        "items_unicos = np.unique(data['asin'].values)\n",
        "\n",
        "# Ítems que el usuario ya ha calificado\n",
        "items_calificados = data[data['reviewerID_encoded'] == usuario_id_test_encoded]['asin'].tolist()\n",
        "\n",
        "# Ítems para predecir\n",
        "items_a_predecir = [item for item in items_unicos if item not in items_calificados]\n",
        "\n",
        "# Convierte los ítems a su representación codificada\n",
        "items_a_predecir_encoded = asin_encoder.transform(items_a_predecir)\n",
        "\n",
        "# Predecir la calificación para cada ítem no calificado\n",
        "predicciones = model.predict([np.array([usuario_id_test_encoded] * len(items_a_predecir_encoded)), items_a_predecir_encoded])\n",
        "\n",
        "# Emparejar cada ítem con su predicción\n",
        "items_predicciones = list(zip(items_a_predecir, predicciones.flatten()))\n",
        "\n",
        "# Ordenar por la calificación predicha más alta\n",
        "items_recomendados = sorted(items_predicciones, key=lambda x: x[1], reverse=True)\n",
        "\n",
        "# Tomar los top N recomendaciones\n",
        "top_n = 5\n",
        "top_recomendaciones = items_recomendados[:top_n]\n",
        "\n",
        "# Crear un DataFrame a partir de las recomendaciones\n",
        "recomendaciones_df = pd.DataFrame(top_recomendaciones, columns=['asin', 'Calificación Predicha'])\n",
        "\n",
        "# Unir con el DataFrame 'sentimiento' para obtener el sentimiento asociado a cada ítem\n",
        "recomendaciones_df = recomendaciones_df.merge(sentimiento[['asin', 'cluster']], on='asin', how='left')\n",
        "\n",
        "# Renombrar la columna 'cluster' a 'Sentimiento' para claridad\n",
        "recomendaciones_df.rename(columns={'cluster': 'Sentimiento'}, inplace=True)\n",
        "\n",
        "# Mostrar las recomendaciones con el sentimiento\n",
        "print(f\"Recomendaciones para el usuario {usuario_id}:\")\n",
        "for index, row in recomendaciones_df.iterrows():\n",
        "    print(f\"Ítem: {row['asin']}, Calificación Predicha: {row['Calificación Predicha']}, Sentimiento: {row['Sentimiento']}\")"
      ],
      "metadata": {
        "id": "yuFHwPuoiZ_7",
        "colab": {
          "base_uri": "https://localhost:8080/"
        },
        "outputId": "8114d892-08ba-4fbc-e259-fc3966b3f1b4"
      },
      "execution_count": 25,
      "outputs": [
        {
          "output_type": "stream",
          "name": "stdout",
          "text": [
            "4814/4814 [==============================] - 7s 1ms/step\n",
            "Recomendaciones para el usuario A6JLMO6Z2H6Q:\n",
            "Ítem: B006OJMMGQ, Calificación Predicha: 4.289818286895752, Sentimiento: Positivo\n",
            "Ítem: B006ON4UGC, Calificación Predicha: 4.289818286895752, Sentimiento: Negativo\n",
            "Ítem: B006ONCZ9G, Calificación Predicha: 4.289818286895752, Sentimiento: Neutro\n",
            "Ítem: B006ONDA18, Calificación Predicha: 4.289818286895752, Sentimiento: Neutro\n",
            "Ítem: B006OPC3N2, Calificación Predicha: 4.289818286895752, Sentimiento: Neutro\n"
          ]
        }
      ]
    },
    {
      "cell_type": "markdown",
      "metadata": {
        "id": "WTOAZeGrujrU"
      },
      "source": [
        "# Modelo de Filtrado Colaborativo usando Red Neuronal Multicapa y Embedding con Keras:\n",
        "\n",
        "Otra enfoque popular para filtrado colaborativo es utilizar redes neuronales multicapa, que esencialmente aprenden características no lineales de los datos. Vamos a construir un modelo que fusiona los embeddings de usuarios y artículos (por ejemplo, películas) en una red neuronal densa.\n",
        "\n",
        "Este enfoque, que combina embeddings y redes neuronales multicapa, puede capturar interacciones más complejas y no lineales entre usuarios y artículos. Sin embargo, es crucial prestar atención al sobreajuste y asegurarse de que el modelo no esté simplemente memorizando los datos. Por lo tanto, es recomendable emplear técnicas de regularización, ajustar hiperparámetros y validar el rendimiento con un conjunto de datos de validación."
      ]
    },
    {
      "cell_type": "markdown",
      "metadata": {
        "id": "i3Rzzhtfl7nK"
      },
      "source": [
        "Funcionamiento:\n",
        "\n",
        "Combina lo mejor de ambos mundos. Primero, se utilizan embeddings para convertir ítems y usuarios en representaciones vectoriales densas. Luego, estas representaciones se pasan a través de una red neuronal para hacer la predicción.\n",
        "\n",
        "El proceso generalmente comienza con capas de embedding que convierten identificadores de usuarios e ítems en vectores. Estos vectores luego se pasan a través de capas densas para obtener la predicción final.\n",
        "\n",
        "Ventajas:\n",
        "\n",
        "Capacidad de capturar patrones subyacentes en los datos mediante embeddings y modelar interacciones no lineales mediante la red neuronal.\n",
        "\n",
        "Flexibilidad para incorporar características adicionales.\n",
        "\n",
        "Potencialmente más preciso que cualquiera de los otros dos métodos por separado.\n",
        "\n",
        "Desventajas:\n",
        "\n",
        "Mayor complejidad en el modelado y entrenamiento.\n",
        "\n",
        "Mayor costo computacional.\n",
        "\n",
        "Requiere un ajuste más cuidadoso y riesgo de sobreajuste si no se gestiona adecuadamente."
      ]
    },
    {
      "cell_type": "markdown",
      "metadata": {
        "id": "uY_n_5u4ymE8"
      },
      "source": [
        "Regularización L2: Agregar una regularización L2 a las capas de embedding y densas para prevenir el sobreajuste.\n",
        "\n",
        "Early Stopping: Añadir una callback de early stopping para detener el entrenamiento cuando no haya mejora en el conjunto de validación durante un cierto número de épocas.\n",
        "\n",
        "Ajuste de la tasa de aprendizaje: Utilizar la callback ReduceLROnPlateau para reducir la tasa de aprendizaje cuando no haya mejora en el conjunto de validación.\n",
        "\n",
        "Métricas adicionales: Puedes monitorizar otras métricas como el error absoluto medio (MAE) durante el entrenamiento."
      ]
    },
    {
      "cell_type": "code",
      "execution_count": 26,
      "metadata": {
        "id": "zVRB5utBuqzB"
      },
      "outputs": [],
      "source": [
        "# Convertir reviewerID y asin a índices numéricos secuenciales\n",
        "df['user_id'] = df['reviewerID'].astype('category').cat.codes.values\n",
        "df['item_id'] = df['asin'].astype('category').cat.codes.values\n",
        "\n",
        "# Número de usuarios e ítems\n",
        "n_users = df['user_id'].nunique()\n",
        "n_items = df['item_id'].nunique()\n",
        "\n",
        "# Hiperparámetros\n",
        "n_latent_factors = 50\n",
        "hidden_units = [128, 64]\n",
        "dropout_rate = 0.2\n",
        "l2_reg = 1e-4\n",
        "\n",
        "# Entradas\n",
        "user_input = Input(shape=[1], name='user_input')\n",
        "item_input = Input(shape=[1], name='item_input')\n",
        "\n",
        "# Embeddings con regularización L2\n",
        "user_embedding = Embedding(n_users, n_latent_factors, embeddings_regularizer=l2(l2_reg), name='user_embedding')(user_input)\n",
        "item_embedding = Embedding(n_items, n_latent_factors, embeddings_regularizer=l2(l2_reg), name='item_embedding')(item_input)\n",
        "\n",
        "user_vec = Flatten(name='flatten_users')(user_embedding)\n",
        "item_vec = Flatten(name='flatten_items')(item_embedding)\n",
        "concat = Concatenate()([user_vec, item_vec])\n",
        "\n",
        "# Capas densas\n",
        "dense = concat\n",
        "for units in hidden_units:\n",
        "    dense = Dense(units, activation='relu', kernel_regularizer=l2(l2_reg))(dense)\n",
        "    dense = Dropout(dropout_rate)(dense)\n",
        "\n",
        "# Agregar una capa de activación sigmoid y escalar a [0, 5]\n",
        "output = Dense(1, activation='sigmoid', kernel_regularizer=l2(l2_reg))(dense)  # Función de activación sigmoid\n",
        "output = Lambda(lambda x: x * 5)(output)  # Escalar las predicciones al rango [0, 5]\n",
        "\n",
        "# Modelo\n",
        "model = Model(inputs=[user_input, item_input], outputs=output)\n",
        "model.compile(optimizer=Adam(0.001), loss='mean_squared_error', metrics=['mae'])"
      ]
    },
    {
      "cell_type": "code",
      "execution_count": 27,
      "metadata": {
        "id": "3I7zFMJBjTZ7"
      },
      "outputs": [],
      "source": [
        "# Callbacks\n",
        "early_stop = EarlyStopping(monitor='val_loss', patience=50, restore_best_weights=True)\n",
        "reduce_lr = ReduceLROnPlateau(monitor='val_loss', factor=0.2, patience=50, min_lr=1e-5)"
      ]
    },
    {
      "cell_type": "code",
      "execution_count": 28,
      "metadata": {
        "id": "XJfWiirYxHwk"
      },
      "outputs": [],
      "source": [
        "# Entrenamiento\n",
        "user_data = df['user_id'].values\n",
        "item_data = df['item_id'].values\n",
        "rating_data = df['overall'].values\n",
        "\n",
        "# División en entrenamiento y prueba\n",
        "(user_ids_temp, user_ids_test, item_ids_temp, item_ids_test, ratings_temp, ratings_test) = train_test_split(\n",
        "    user_ids, item_ids, ratings, test_size=0.2, random_state=42)\n",
        "\n",
        "# División del conjunto de entrenamiento en entrenamiento y validación\n",
        "(user_ids_train, user_ids_val, item_ids_train, item_ids_val, ratings_train, ratings_val) = train_test_split(\n",
        "    user_ids_temp, item_ids_temp, ratings_temp, test_size=0.25, random_state=42)  # 0.25 x 0.8 = 0.2"
      ]
    },
    {
      "cell_type": "code",
      "execution_count": 29,
      "metadata": {
        "id": "oXQNam6Bf-dT",
        "colab": {
          "base_uri": "https://localhost:8080/"
        },
        "outputId": "c91ea3d7-f0c8-42a9-b0d4-2e3155d8ab07"
      },
      "outputs": [
        {
          "output_type": "stream",
          "name": "stdout",
          "text": [
            "Epoch 1/500\n",
            "721/721 [==============================] - 26s 34ms/step - loss: 1.7401 - mae: 0.9081 - val_loss: 1.4894 - val_mae: 0.8419 - lr: 0.0010\n",
            "Epoch 2/500\n",
            "721/721 [==============================] - 24s 33ms/step - loss: 1.4865 - mae: 0.7870 - val_loss: 1.5347 - val_mae: 0.8109 - lr: 0.0010\n",
            "Epoch 3/500\n",
            "721/721 [==============================] - 24s 33ms/step - loss: 1.3194 - mae: 0.6785 - val_loss: 1.6665 - val_mae: 0.7966 - lr: 0.0010\n",
            "Epoch 4/500\n",
            "721/721 [==============================] - 24s 33ms/step - loss: 1.2101 - mae: 0.6253 - val_loss: 1.6844 - val_mae: 0.7952 - lr: 0.0010\n",
            "Epoch 5/500\n",
            "721/721 [==============================] - 23s 33ms/step - loss: 1.1264 - mae: 0.5889 - val_loss: 1.6869 - val_mae: 0.7805 - lr: 0.0010\n",
            "Epoch 6/500\n",
            "721/721 [==============================] - 23s 32ms/step - loss: 1.0615 - mae: 0.5630 - val_loss: 1.6970 - val_mae: 0.7755 - lr: 0.0010\n",
            "Epoch 7/500\n",
            "721/721 [==============================] - 23s 33ms/step - loss: 1.0148 - mae: 0.5438 - val_loss: 1.6884 - val_mae: 0.7684 - lr: 0.0010\n",
            "Epoch 8/500\n",
            "721/721 [==============================] - 23s 32ms/step - loss: 0.9878 - mae: 0.5296 - val_loss: 1.7187 - val_mae: 0.7755 - lr: 0.0010\n",
            "Epoch 9/500\n",
            "721/721 [==============================] - 23s 32ms/step - loss: 0.9713 - mae: 0.5154 - val_loss: 1.7260 - val_mae: 0.7698 - lr: 0.0010\n",
            "Epoch 10/500\n",
            "721/721 [==============================] - 24s 33ms/step - loss: 0.9406 - mae: 0.5015 - val_loss: 1.7353 - val_mae: 0.7617 - lr: 0.0010\n",
            "Epoch 11/500\n",
            "721/721 [==============================] - 23s 33ms/step - loss: 0.9045 - mae: 0.4868 - val_loss: 1.7394 - val_mae: 0.7667 - lr: 0.0010\n",
            "Epoch 12/500\n",
            "721/721 [==============================] - 23s 32ms/step - loss: 0.8758 - mae: 0.4737 - val_loss: 1.7603 - val_mae: 0.7742 - lr: 0.0010\n",
            "Epoch 13/500\n",
            "721/721 [==============================] - 24s 33ms/step - loss: 0.8551 - mae: 0.4636 - val_loss: 1.7669 - val_mae: 0.7762 - lr: 0.0010\n",
            "Epoch 14/500\n",
            "721/721 [==============================] - 23s 32ms/step - loss: 0.8364 - mae: 0.4557 - val_loss: 1.7872 - val_mae: 0.7767 - lr: 0.0010\n",
            "Epoch 15/500\n",
            "721/721 [==============================] - 23s 32ms/step - loss: 0.8287 - mae: 0.4480 - val_loss: 1.7986 - val_mae: 0.7799 - lr: 0.0010\n",
            "Epoch 16/500\n",
            "721/721 [==============================] - 23s 33ms/step - loss: 0.8251 - mae: 0.4426 - val_loss: 1.7960 - val_mae: 0.7630 - lr: 0.0010\n",
            "Epoch 17/500\n",
            "721/721 [==============================] - 24s 33ms/step - loss: 0.8179 - mae: 0.4366 - val_loss: 1.8136 - val_mae: 0.7643 - lr: 0.0010\n",
            "Epoch 18/500\n",
            "721/721 [==============================] - 24s 33ms/step - loss: 0.8113 - mae: 0.4308 - val_loss: 1.8289 - val_mae: 0.7732 - lr: 0.0010\n",
            "Epoch 19/500\n",
            "721/721 [==============================] - 23s 33ms/step - loss: 0.8045 - mae: 0.4261 - val_loss: 1.8356 - val_mae: 0.7730 - lr: 0.0010\n",
            "Epoch 20/500\n",
            "721/721 [==============================] - 23s 32ms/step - loss: 0.7973 - mae: 0.4216 - val_loss: 1.8338 - val_mae: 0.7672 - lr: 0.0010\n",
            "Epoch 21/500\n",
            "721/721 [==============================] - 24s 33ms/step - loss: 0.7898 - mae: 0.4174 - val_loss: 1.8452 - val_mae: 0.7690 - lr: 0.0010\n",
            "Epoch 22/500\n",
            "721/721 [==============================] - 23s 33ms/step - loss: 0.7874 - mae: 0.4138 - val_loss: 1.8448 - val_mae: 0.7739 - lr: 0.0010\n",
            "Epoch 23/500\n",
            "721/721 [==============================] - 23s 32ms/step - loss: 0.7802 - mae: 0.4096 - val_loss: 1.8417 - val_mae: 0.7751 - lr: 0.0010\n",
            "Epoch 24/500\n",
            "721/721 [==============================] - 23s 32ms/step - loss: 0.7772 - mae: 0.4069 - val_loss: 1.8578 - val_mae: 0.7818 - lr: 0.0010\n",
            "Epoch 25/500\n",
            "721/721 [==============================] - 24s 33ms/step - loss: 0.7777 - mae: 0.4041 - val_loss: 1.8557 - val_mae: 0.7753 - lr: 0.0010\n",
            "Epoch 26/500\n",
            "721/721 [==============================] - 24s 33ms/step - loss: 0.7713 - mae: 0.4010 - val_loss: 1.8547 - val_mae: 0.7790 - lr: 0.0010\n",
            "Epoch 27/500\n",
            "721/721 [==============================] - 23s 32ms/step - loss: 0.7702 - mae: 0.3988 - val_loss: 1.8579 - val_mae: 0.7753 - lr: 0.0010\n",
            "Epoch 28/500\n",
            "721/721 [==============================] - 23s 32ms/step - loss: 0.7705 - mae: 0.3969 - val_loss: 1.8700 - val_mae: 0.7676 - lr: 0.0010\n",
            "Epoch 29/500\n",
            "721/721 [==============================] - 23s 32ms/step - loss: 0.7685 - mae: 0.3943 - val_loss: 1.8638 - val_mae: 0.7707 - lr: 0.0010\n",
            "Epoch 30/500\n",
            "721/721 [==============================] - 23s 32ms/step - loss: 0.7712 - mae: 0.3934 - val_loss: 1.8664 - val_mae: 0.7722 - lr: 0.0010\n",
            "Epoch 31/500\n",
            "721/721 [==============================] - 23s 32ms/step - loss: 0.7689 - mae: 0.3916 - val_loss: 1.8688 - val_mae: 0.7698 - lr: 0.0010\n",
            "Epoch 32/500\n",
            "721/721 [==============================] - 23s 32ms/step - loss: 0.7638 - mae: 0.3908 - val_loss: 1.8743 - val_mae: 0.7659 - lr: 0.0010\n",
            "Epoch 33/500\n",
            "721/721 [==============================] - 23s 32ms/step - loss: 0.7665 - mae: 0.3895 - val_loss: 1.8650 - val_mae: 0.7769 - lr: 0.0010\n",
            "Epoch 34/500\n",
            "721/721 [==============================] - 24s 33ms/step - loss: 0.7627 - mae: 0.3876 - val_loss: 1.8759 - val_mae: 0.7701 - lr: 0.0010\n",
            "Epoch 35/500\n",
            "721/721 [==============================] - 24s 33ms/step - loss: 0.7625 - mae: 0.3869 - val_loss: 1.8853 - val_mae: 0.7631 - lr: 0.0010\n",
            "Epoch 36/500\n",
            "721/721 [==============================] - 24s 33ms/step - loss: 0.7614 - mae: 0.3852 - val_loss: 1.8874 - val_mae: 0.7788 - lr: 0.0010\n",
            "Epoch 37/500\n",
            "721/721 [==============================] - 23s 32ms/step - loss: 0.7615 - mae: 0.3846 - val_loss: 1.8827 - val_mae: 0.7694 - lr: 0.0010\n",
            "Epoch 38/500\n",
            "721/721 [==============================] - 24s 33ms/step - loss: 0.7562 - mae: 0.3826 - val_loss: 1.8795 - val_mae: 0.7675 - lr: 0.0010\n",
            "Epoch 39/500\n",
            "721/721 [==============================] - 24s 33ms/step - loss: 0.7548 - mae: 0.3821 - val_loss: 1.8904 - val_mae: 0.7776 - lr: 0.0010\n",
            "Epoch 40/500\n",
            "721/721 [==============================] - 24s 33ms/step - loss: 0.7526 - mae: 0.3812 - val_loss: 1.8896 - val_mae: 0.7799 - lr: 0.0010\n",
            "Epoch 41/500\n",
            "721/721 [==============================] - 23s 32ms/step - loss: 0.7535 - mae: 0.3810 - val_loss: 1.8887 - val_mae: 0.7720 - lr: 0.0010\n",
            "Epoch 42/500\n",
            "721/721 [==============================] - 24s 33ms/step - loss: 0.7516 - mae: 0.3802 - val_loss: 1.8885 - val_mae: 0.7758 - lr: 0.0010\n",
            "Epoch 43/500\n",
            "721/721 [==============================] - 23s 33ms/step - loss: 0.7484 - mae: 0.3797 - val_loss: 1.8637 - val_mae: 0.7702 - lr: 0.0010\n",
            "Epoch 44/500\n",
            "721/721 [==============================] - 23s 32ms/step - loss: 0.7510 - mae: 0.3797 - val_loss: 1.9009 - val_mae: 0.7857 - lr: 0.0010\n",
            "Epoch 45/500\n",
            "721/721 [==============================] - 23s 32ms/step - loss: 0.7492 - mae: 0.3797 - val_loss: 1.8948 - val_mae: 0.7706 - lr: 0.0010\n",
            "Epoch 46/500\n",
            "721/721 [==============================] - 24s 33ms/step - loss: 0.7480 - mae: 0.3793 - val_loss: 1.8832 - val_mae: 0.7717 - lr: 0.0010\n",
            "Epoch 47/500\n",
            "721/721 [==============================] - 23s 33ms/step - loss: 0.7468 - mae: 0.3792 - val_loss: 1.8806 - val_mae: 0.7710 - lr: 0.0010\n",
            "Epoch 48/500\n",
            "721/721 [==============================] - 23s 32ms/step - loss: 0.7471 - mae: 0.3789 - val_loss: 1.8896 - val_mae: 0.7672 - lr: 0.0010\n",
            "Epoch 49/500\n",
            "721/721 [==============================] - 24s 33ms/step - loss: 0.7483 - mae: 0.3788 - val_loss: 1.8953 - val_mae: 0.7778 - lr: 0.0010\n",
            "Epoch 50/500\n",
            "721/721 [==============================] - 24s 33ms/step - loss: 0.7461 - mae: 0.3787 - val_loss: 1.8881 - val_mae: 0.7714 - lr: 0.0010\n",
            "Epoch 51/500\n",
            "721/721 [==============================] - 24s 33ms/step - loss: 0.7486 - mae: 0.3784 - val_loss: 1.8979 - val_mae: 0.7715 - lr: 0.0010\n",
            "CPU times: user 17min 2s, sys: 39.8 s, total: 17min 42s\n",
            "Wall time: 20min 1s\n"
          ]
        }
      ],
      "source": [
        "%%time\n",
        "history = model.fit([user_ids_train, item_ids_train], ratings_train,\n",
        "                    epochs=500,validation_data=([user_ids_val, item_ids_val], ratings_val),\n",
        "                    batch_size=4000,verbose=1,callbacks=[early_stop, reduce_lr])"
      ]
    },
    {
      "cell_type": "code",
      "execution_count": 30,
      "metadata": {
        "id": "2Off5YI9f-_T",
        "colab": {
          "base_uri": "https://localhost:8080/"
        },
        "outputId": "1238fa3a-3fe7-495e-a0d8-f6171d40c115"
      },
      "outputs": [
        {
          "output_type": "stream",
          "name": "stdout",
          "text": [
            "30004/30004 [==============================] - 43s 1ms/step\n"
          ]
        }
      ],
      "source": [
        "# Predicciones\n",
        "y_true = ratings_test\n",
        "predictions = model.predict([user_ids_test, item_ids_test])"
      ]
    },
    {
      "cell_type": "code",
      "execution_count": 31,
      "metadata": {
        "id": "w1BY-Sd0xJtc",
        "colab": {
          "base_uri": "https://localhost:8080/"
        },
        "outputId": "29d3cb45-120e-4fc5-e409-54be6378ab3e"
      },
      "outputs": [
        {
          "output_type": "stream",
          "name": "stdout",
          "text": [
            "MSE: 1.224470713885724\n",
            "RMSE: 1.10655804813201\n",
            "MAE: 0.8431054715010209\n",
            "MAPE: 39.0375708275144%\n"
          ]
        }
      ],
      "source": [
        "# MSE y RMSE\n",
        "mse = mean_squared_error(y_true, predictions)\n",
        "rmse = np.sqrt(mse)\n",
        "\n",
        "# MAE\n",
        "mae = mean_absolute_error(y_true, predictions)\n",
        "\n",
        "# MAPE\n",
        "def mean_absolute_percentage_error(y_true, y_pred):\n",
        "    y_true, y_pred = np.array(y_true), np.array(y_pred)\n",
        "    non_zero_idx = y_true != 0  # Para evitar divisiones por cero\n",
        "    return np.mean(np.abs((y_true[non_zero_idx] - y_pred[non_zero_idx]) / y_true[non_zero_idx])) * 100\n",
        "\n",
        "def compute_mape_by_batch(y_true, predictions, batch_size=50000):\n",
        "    mape_sum = 0\n",
        "    num_batches = int(np.ceil(len(y_true) / batch_size))\n",
        "\n",
        "    for i in range(num_batches):\n",
        "        start_idx = i * batch_size\n",
        "        end_idx = start_idx + batch_size\n",
        "\n",
        "        batch_y_true = y_true[start_idx:end_idx]\n",
        "        batch_predictions = predictions[start_idx:end_idx]\n",
        "\n",
        "        mape_sum += mean_absolute_percentage_error(batch_y_true, batch_predictions)\n",
        "\n",
        "    return mape_sum / num_batches\n",
        "\n",
        "# Luego llamas a la función\n",
        "mape = compute_mape_by_batch(y_true, predictions)\n",
        "\n",
        "print(f'MSE: {mse}')\n",
        "print(f'RMSE: {rmse}')\n",
        "print(f'MAE: {mae}')\n",
        "print(f'MAPE: {mape}%')"
      ]
    },
    {
      "cell_type": "markdown",
      "source": [
        "# Recomendación"
      ],
      "metadata": {
        "id": "UzpnhZ4Lixf6"
      }
    },
    {
      "cell_type": "code",
      "source": [
        "# Seleccionar un usuario al azar del conjunto de prueba\n",
        "usuario_id_test_encoded = random.choice(user_ids_test)\n",
        "\n",
        "# Decodificar el ID del usuario para obtener el ID original\n",
        "usuario_id_test = reviewerID_encoder.inverse_transform([usuario_id_test_encoded])[0]\n",
        "\n",
        "# Identificar los ítems que el usuario ha calificado en el conjunto de prueba\n",
        "indices_usuario = np.where(user_ids_test == usuario_id_test_encoded)[0]\n",
        "items_calificados_test_encoded = item_ids_test[indices_usuario]\n",
        "calificaciones_reales_test = ratings_test[indices_usuario]\n",
        "\n",
        "# Predecir las calificaciones para estos ítems\n",
        "calificaciones_predichas = model.predict([np.array([usuario_id_test_encoded] * len(items_calificados_test_encoded)), items_calificados_test_encoded])\n",
        "\n",
        "# Decodificar los ítems para obtener los ID originales\n",
        "items_calificados_test = asin_encoder.inverse_transform(items_calificados_test_encoded)\n",
        "\n",
        "# Comparar las calificaciones predichas con las reales\n",
        "comparacion = list(zip(items_calificados_test, calificaciones_reales_test, calificaciones_predichas.flatten()))\n",
        "\n",
        "# Suponiendo que 'items_calificados_test' contiene los IDs originales de los ítems\n",
        "recomendaciones_df = pd.DataFrame({\n",
        "    'asin': items_calificados_test,\n",
        "    'Calificación Real': calificaciones_reales_test,\n",
        "    'Calificación Predicha': calificaciones_predichas.flatten()\n",
        "})\n",
        "\n",
        "recomendaciones_df = recomendaciones_df.merge(sentimiento[['asin', 'cluster']], on='asin', how='left')\n",
        "recomendaciones_df.rename(columns={'cluster': 'Sentimiento'}, inplace=True)\n",
        "\n",
        "# Mostrar las recomendaciones\n",
        "print(f\"Recomendaciones para el usuario {usuario_id_test}:\")\n",
        "for index, row in recomendaciones_df.iterrows():\n",
        "    print(f\"Ítem: {row['asin']}, Calificación Real: {row['Calificación Real']}, Calificación Predicha: {row['Calificación Predicha']}, Sentimiento: {row['Sentimiento']}\")\n"
      ],
      "metadata": {
        "id": "GC-UEYfli0Qe",
        "colab": {
          "base_uri": "https://localhost:8080/"
        },
        "outputId": "fcf44fd2-2921-485c-e5a8-95c64ffd4b3a"
      },
      "execution_count": 32,
      "outputs": [
        {
          "output_type": "stream",
          "name": "stdout",
          "text": [
            "1/1 [==============================] - 0s 19ms/step\n",
            "Recomendaciones para el usuario A13JUC5HPICRBV:\n",
            "Ítem: B004JKDLVW, Calificación Real: 5.0, Calificación Predicha: 4.44713020324707, Sentimiento: Positivo\n",
            "Ítem: B00UB7G4IY, Calificación Real: 5.0, Calificación Predicha: 4.521793365478516, Sentimiento: Positivo\n",
            "Ítem: B0146KNUPQ, Calificación Real: 4.0, Calificación Predicha: 4.430670261383057, Sentimiento: Positivo\n"
          ]
        }
      ]
    },
    {
      "cell_type": "code",
      "source": [
        "# Seleccionar un usuario al azar del conjunto de prueba\n",
        "usuario_id_test_encoded = random.choice(user_ids_test)\n",
        "\n",
        "# Decodificar el ID del usuario para obtener el ID original\n",
        "usuario_id = reviewerID_encoder.inverse_transform([usuario_id_test_encoded])[0]\n",
        "\n",
        "# Lista de todos los ítems únicos en el dataset\n",
        "items_unicos = np.unique(data['asin'].values)\n",
        "\n",
        "# Ítems que el usuario ya ha calificado\n",
        "items_calificados = data[data['reviewerID_encoded'] == usuario_id_test_encoded]['asin'].tolist()\n",
        "\n",
        "# Ítems para predecir\n",
        "items_a_predecir = [item for item in items_unicos if item not in items_calificados]\n",
        "\n",
        "# Convierte los ítems a su representación codificada\n",
        "items_a_predecir_encoded = asin_encoder.transform(items_a_predecir)\n",
        "\n",
        "# Predecir la calificación para cada ítem no calificado\n",
        "predicciones = model.predict([np.array([usuario_id_test_encoded] * len(items_a_predecir_encoded)), items_a_predecir_encoded])\n",
        "\n",
        "# Emparejar cada ítem con su predicción\n",
        "items_predicciones = list(zip(items_a_predecir, predicciones.flatten()))\n",
        "\n",
        "# Ordenar por la calificación predicha más alta\n",
        "items_recomendados = sorted(items_predicciones, key=lambda x: x[1], reverse=True)\n",
        "\n",
        "# Tomar los top N recomendaciones\n",
        "top_n = 5\n",
        "top_recomendaciones = items_recomendados[:top_n]\n",
        "\n",
        "# Crear un DataFrame a partir de las recomendaciones\n",
        "recomendaciones_df = pd.DataFrame(top_recomendaciones, columns=['asin', 'Calificación Predicha'])\n",
        "\n",
        "# Unir con el DataFrame 'sentimiento' para obtener el sentimiento asociado a cada ítem\n",
        "recomendaciones_df = recomendaciones_df.merge(sentimiento[['asin', 'cluster']], on='asin', how='left')\n",
        "\n",
        "# Renombrar la columna 'cluster' a 'Sentimiento' para claridad\n",
        "recomendaciones_df.rename(columns={'cluster': 'Sentimiento'}, inplace=True)\n",
        "\n",
        "# Mostrar las recomendaciones con el sentimiento\n",
        "print(f\"Recomendaciones para el usuario {usuario_id}:\")\n",
        "for index, row in recomendaciones_df.iterrows():\n",
        "    print(f\"Ítem: {row['asin']}, Calificación Predicha: {row['Calificación Predicha']}, Sentimiento: {row['Sentimiento']}\")"
      ],
      "metadata": {
        "id": "tVKVZhgKi0JG",
        "colab": {
          "base_uri": "https://localhost:8080/"
        },
        "outputId": "21788c6f-05a7-4cb6-eb4e-46e9e2810026"
      },
      "execution_count": 33,
      "outputs": [
        {
          "output_type": "stream",
          "name": "stdout",
          "text": [
            "4814/4814 [==============================] - 7s 1ms/step\n",
            "Recomendaciones para el usuario A454600WHPIJ8:\n",
            "Ítem: B00RLSCLJM, Calificación Predicha: 4.913275718688965, Sentimiento: Positivo\n",
            "Ítem: B01B5BWTNS, Calificación Predicha: 4.892731666564941, Sentimiento: Positivo\n",
            "Ítem: B00GKDFOJS, Calificación Predicha: 4.884555816650391, Sentimiento: Positivo\n",
            "Ítem: B01E4SQNLS, Calificación Predicha: 4.882277965545654, Sentimiento: Positivo\n",
            "Ítem: B000JFBHGW, Calificación Predicha: 4.880230903625488, Sentimiento: Positivo\n"
          ]
        }
      ]
    },
    {
      "cell_type": "markdown",
      "metadata": {
        "id": "YopA3D2Sw8AO"
      },
      "source": [
        "Estas métricas te ayudarán a tener una mejor idea del desempeño de tu modelo. Por ejemplo:\n",
        "\n",
        "MSE y RMSE son útiles cuando quieres penalizar grandes errores.\n",
        "\n",
        "MAE te da una idea del error medio sin considerar la dirección del error.\n",
        "\n",
        "MAPE es útil cuando quieres representar el error en términos porcentuales.\n",
        "\n",
        "Para una evaluación completa, es recomendable utilizar un conjunto de validación aparte (es decir, no solo depender del validation_split). Esto asegura que estás evaluando el desempeño en datos que el modelo nunca ha visto durante el entrenamiento."
      ]
    },
    {
      "cell_type": "markdown",
      "metadata": {
        "id": "_dgWsjHFlB67"
      },
      "source": [
        "En resumen, la elección del tipo de sistema de recomendación dependerá de la naturaleza del conjunto de datos, las características disponibles, las capacidades computacionales y el tipo de relaciones o interacciones que se desean capturar. A menudo, un enfoque híbrido (como el sistema que combina embeddings y redes neuronales) ofrece un buen equilibrio entre precisión y eficiencia."
      ]
    }
  ],
  "metadata": {
    "accelerator": "GPU",
    "colab": {
      "machine_shape": "hm",
      "provenance": []
    },
    "kernelspec": {
      "display_name": "Python 3 (ipykernel)",
      "language": "python",
      "name": "python3"
    },
    "language_info": {
      "codemirror_mode": {
        "name": "ipython",
        "version": 3
      },
      "file_extension": ".py",
      "mimetype": "text/x-python",
      "name": "python",
      "nbconvert_exporter": "python",
      "pygments_lexer": "ipython3",
      "version": "3.10.9"
    }
  },
  "nbformat": 4,
  "nbformat_minor": 0
}