{
  "nbformat": 4,
  "nbformat_minor": 0,
  "metadata": {
    "colab": {
      "provenance": [],
      "toc_visible": true,
      "authorship_tag": "ABX9TyM8jD0/04CT7QOVaOoU4uiT",
      "include_colab_link": true
    },
    "kernelspec": {
      "name": "python3",
      "display_name": "Python 3"
    },
    "language_info": {
      "name": "python"
    }
  },
  "cells": [
    {
      "cell_type": "markdown",
      "metadata": {
        "id": "view-in-github",
        "colab_type": "text"
      },
      "source": [
        "<a href=\"https://colab.research.google.com/github/lmbd92/DataScienceMonograph/blob/main/Notebooks/EDA_AMAZON_Lina.ipynb\" target=\"_parent\"><img src=\"https://colab.research.google.com/assets/colab-badge.svg\" alt=\"Open In Colab\"/></a>"
      ]
    },
    {
      "cell_type": "markdown",
      "source": [
        "# EDA for Development and Evaluation of Recommendation Systems with Sentiment Analysis for Sales Optimization in the Online Market: A Data Analytical Approach"
      ],
      "metadata": {
        "id": "LgXCRZPxjkcM"
      }
    },
    {
      "cell_type": "markdown",
      "source": [
        "## Step 1: Import Python Libraries"
      ],
      "metadata": {
        "id": "JgaMpWORkOOT"
      }
    },
    {
      "cell_type": "code",
      "execution_count": null,
      "metadata": {
        "id": "QeLAWhVYhN1D"
      },
      "outputs": [],
      "source": []
    },
    {
      "cell_type": "markdown",
      "source": [
        "## Step 2: Reading Dataset"
      ],
      "metadata": {
        "id": "SWE-3LidkSZX"
      }
    },
    {
      "cell_type": "code",
      "source": [],
      "metadata": {
        "id": "YuwPJhmFkhjl"
      },
      "execution_count": null,
      "outputs": []
    },
    {
      "cell_type": "markdown",
      "source": [
        "## Step 3: Data Reduction"
      ],
      "metadata": {
        "id": "4vB78YYmkWtU"
      }
    },
    {
      "cell_type": "code",
      "source": [],
      "metadata": {
        "id": "_Q3TqRtMkgJd"
      },
      "execution_count": null,
      "outputs": []
    },
    {
      "cell_type": "markdown",
      "source": [
        "## Step 4: Feature Engineering"
      ],
      "metadata": {
        "id": "JUZDAJBfkiRn"
      }
    },
    {
      "cell_type": "code",
      "source": [],
      "metadata": {
        "id": "Fs8f6bOVkmO3"
      },
      "execution_count": null,
      "outputs": []
    },
    {
      "cell_type": "markdown",
      "source": [
        "## Step 5: Creating Features"
      ],
      "metadata": {
        "id": "51bKO7Ftkmkx"
      }
    },
    {
      "cell_type": "code",
      "source": [],
      "metadata": {
        "id": "xaCPCJXckpik"
      },
      "execution_count": null,
      "outputs": []
    },
    {
      "cell_type": "markdown",
      "source": [
        "## Step 6: Data Cleaning/Wrangling"
      ],
      "metadata": {
        "id": "Jaqn__78kp51"
      }
    },
    {
      "cell_type": "code",
      "source": [],
      "metadata": {
        "id": "1He6II0Mkvn0"
      },
      "execution_count": null,
      "outputs": []
    },
    {
      "cell_type": "markdown",
      "source": [
        "## Step 7: EDA Exploratory Data Analysis"
      ],
      "metadata": {
        "id": "AYZovNPOkv-n"
      }
    },
    {
      "cell_type": "code",
      "source": [],
      "metadata": {
        "id": "cJqkVfgNk4G8"
      },
      "execution_count": null,
      "outputs": []
    },
    {
      "cell_type": "markdown",
      "source": [
        "## Step 8: Statistics Summary"
      ],
      "metadata": {
        "id": "rzm3yzmUk4a-"
      }
    },
    {
      "cell_type": "code",
      "source": [],
      "metadata": {
        "id": "cV0xodPik6EJ"
      },
      "execution_count": null,
      "outputs": []
    },
    {
      "cell_type": "markdown",
      "source": [
        "## Step 9: EDA Univariate Analysis"
      ],
      "metadata": {
        "id": "ZA-i2aF_k6hi"
      }
    },
    {
      "cell_type": "code",
      "source": [],
      "metadata": {
        "id": "ogIOjGKqk91x"
      },
      "execution_count": null,
      "outputs": []
    },
    {
      "cell_type": "markdown",
      "source": [
        "## Step 10: Data Transformation"
      ],
      "metadata": {
        "id": "P1OGMRLhk-Qf"
      }
    },
    {
      "cell_type": "code",
      "source": [],
      "metadata": {
        "id": "VYjNnJPclBwN"
      },
      "execution_count": null,
      "outputs": []
    },
    {
      "cell_type": "markdown",
      "source": [
        "## Step 12: EDA Bivariate Analysis"
      ],
      "metadata": {
        "id": "-YzGMMY0lCCx"
      }
    },
    {
      "cell_type": "code",
      "source": [],
      "metadata": {
        "id": "6ePadoGwlFfO"
      },
      "execution_count": null,
      "outputs": []
    },
    {
      "cell_type": "markdown",
      "source": [
        "## Step 13: EDA Multivariate Analysis"
      ],
      "metadata": {
        "id": "qXl3L1aolF4X"
      }
    },
    {
      "cell_type": "code",
      "source": [],
      "metadata": {
        "id": "YsYdklf1lJOq"
      },
      "execution_count": null,
      "outputs": []
    },
    {
      "cell_type": "markdown",
      "source": [
        "## Step 14: Impute Missing values"
      ],
      "metadata": {
        "id": "YIigQkjblJja"
      }
    },
    {
      "cell_type": "code",
      "source": [],
      "metadata": {
        "id": "ggwicKw0lMuD"
      },
      "execution_count": null,
      "outputs": []
    }
  ]
}