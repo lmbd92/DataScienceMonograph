{
  "cells": [
    {
      "cell_type": "markdown",
      "metadata": {
        "id": "V-SSaV-bRZZl"
      },
      "source": [
        "# Paso 1: Importar Librerías de Python\n"
      ]
    },
    {
      "cell_type": "code",
      "execution_count": null,
      "metadata": {
        "colab": {
          "base_uri": "https://localhost:8080/"
        },
        "id": "K4mFYevMKu6y",
        "outputId": "d4067e3f-e470-4dae-9235-280a1aca067b"
      },
      "outputs": [
        {
          "output_type": "stream",
          "name": "stdout",
          "text": [
            "Collecting scikit-surprise\n",
            "  Downloading scikit-surprise-1.1.3.tar.gz (771 kB)\n",
            "\u001b[2K     \u001b[90m━━━━━━━━━━━━━━━━━━━━━━━━━━━━━━━━━━━━━━━━\u001b[0m \u001b[32m772.0/772.0 kB\u001b[0m \u001b[31m9.7 MB/s\u001b[0m eta \u001b[36m0:00:00\u001b[0m\n",
            "\u001b[?25h  Preparing metadata (setup.py) ... \u001b[?25l\u001b[?25hdone\n",
            "Requirement already satisfied: joblib>=1.0.0 in /usr/local/lib/python3.10/dist-packages (from scikit-surprise) (1.3.2)\n",
            "Requirement already satisfied: numpy>=1.17.3 in /usr/local/lib/python3.10/dist-packages (from scikit-surprise) (1.23.5)\n",
            "Requirement already satisfied: scipy>=1.3.2 in /usr/local/lib/python3.10/dist-packages (from scikit-surprise) (1.11.3)\n",
            "Building wheels for collected packages: scikit-surprise\n",
            "  Building wheel for scikit-surprise (setup.py) ... \u001b[?25l\u001b[?25hdone\n",
            "  Created wheel for scikit-surprise: filename=scikit_surprise-1.1.3-cp310-cp310-linux_x86_64.whl size=3163497 sha256=93f35d2e0ded532156d283c7a878bfe3caf2321866a1ce597bd7de742d10eabe\n",
            "  Stored in directory: /root/.cache/pip/wheels/a5/ca/a8/4e28def53797fdc4363ca4af740db15a9c2f1595ebc51fb445\n",
            "Successfully built scikit-surprise\n",
            "Installing collected packages: scikit-surprise\n",
            "Successfully installed scikit-surprise-1.1.3\n"
          ]
        }
      ],
      "source": [
        "#pip install scikit-surprise"
      ]
    },
    {
      "cell_type": "code",
      "execution_count": null,
      "metadata": {
        "id": "47ItRxlORZ9i"
      },
      "outputs": [],
      "source": [
        "# Análisis de datos y manipulación\n",
        "import pandas as pd\n",
        "import numpy as np\n",
        "import random\n",
        "\n",
        "# Visualización de datos\n",
        "import matplotlib.pyplot as plt\n",
        "import seaborn as sns\n",
        "\n",
        "# Utilidades de fechas\n",
        "from datetime import datetime\n",
        "\n",
        "# Integración con Google Colab\n",
        "from google.colab import drive\n",
        "\n",
        "# Machine Learning: Preprocesamiento y división de datos\n",
        "from sklearn.model_selection import train_test_split\n",
        "from sklearn.preprocessing import LabelEncoder\n",
        "\n",
        "# Machine Learning: Métricas\n",
        "from sklearn.metrics import mean_squared_error, mean_absolute_error\n",
        "from sklearn.metrics.pairwise import cosine_similarity\n",
        "\n",
        "# Machine Learning: Modelado y validación\n",
        "from surprise import SVD, Reader, Dataset, accuracy\n",
        "from surprise.model_selection import train_test_split, GridSearchCV\n",
        "\n",
        "# Deep Learning: Construcción de modelos y capas\n",
        "from keras.models import Model\n",
        "from keras.layers import Input, Embedding, Flatten, Concatenate, Dense, Dropout, Dot\n",
        "\n",
        "# Deep Learning: Optimización y regularización\n",
        "from keras.optimizers import Adam\n",
        "from keras.regularizers import l2\n",
        "\n",
        "# Deep Learning: Callbacks\n",
        "from keras.callbacks import EarlyStopping, ReduceLROnPlateau"
      ]
    },
    {
      "cell_type": "code",
      "execution_count": null,
      "metadata": {
        "colab": {
          "base_uri": "https://localhost:8080/"
        },
        "id": "8bHcBRlQYY4h",
        "outputId": "7c8bf85c-6a9b-40d5-f892-4e46b0fb5a09"
      },
      "outputs": [
        {
          "output_type": "stream",
          "name": "stdout",
          "text": [
            "Mounted at /content/drive\n"
          ]
        }
      ],
      "source": [
        "drive.mount('/content/drive')"
      ]
    },
    {
      "cell_type": "markdown",
      "metadata": {
        "id": "209f_YHQRaCi"
      },
      "source": [
        "# Paso 2: Lectura del Dataset"
      ]
    },
    {
      "cell_type": "code",
      "execution_count": null,
      "metadata": {
        "colab": {
          "base_uri": "https://localhost:8080/"
        },
        "id": "9vIFqmMIRaIc",
        "outputId": "31a8802f-a5b8-4f1a-d6f6-aa233847f75f"
      },
      "outputs": [
        {
          "output_type": "stream",
          "name": "stderr",
          "text": [
            "<ipython-input-4-1f8e3361d82a>:2: DtypeWarning: Columns (5) have mixed types. Specify dtype option on import or set low_memory=False.\n",
            "  df = pd.read_csv('/content/drive/MyDrive/EspecializacionA&DS/Monografia/2doSemestre/DataFinal_Amazon.csv')  # Descomenta y proporciona la ruta si estás cargando un archivo CSV\n"
          ]
        }
      ],
      "source": [
        "# Suponiendo que tu DataFrame se llama df\n",
        "df = pd.read_csv('/content/drive/MyDrive/EspecializacionA&DS/Monografia/2doSemestre/DataFinal_Amazon.csv')  # Descomenta y proporciona la ruta si estás cargando un archivo CSV"
      ]
    },
    {
      "cell_type": "code",
      "execution_count": null,
      "metadata": {
        "colab": {
          "base_uri": "https://localhost:8080/"
        },
        "id": "LwnA5HnLr8r6",
        "outputId": "039e8ed9-9323-490a-dcd1-4931a04b7efa"
      },
      "outputs": [
        {
          "output_type": "execute_result",
          "data": {
            "text/plain": [
              "(4800571, 10)"
            ]
          },
          "metadata": {},
          "execution_count": 5
        }
      ],
      "source": [
        "df.shape"
      ]
    },
    {
      "cell_type": "markdown",
      "metadata": {
        "id": "5lMsQcyyS2NS"
      },
      "source": [
        "# Modelo de Filtrado Colaborativo usando Embedding con Keras:"
      ]
    },
    {
      "cell_type": "markdown",
      "metadata": {
        "id": "yQ49x7CvmOfM"
      },
      "source": [
        "Funcionamiento:\n",
        "\n",
        "Los embeddings son representaciones vectoriales densas y de baja dimensión de ítems y/o usuarios. Estas representaciones capturan relaciones semánticas entre ítems o entre usuarios.\n",
        "\n",
        "Un método popular para generar embeddings es la factorización de matrices, como la descomposición en valores singulares (SVD). En el contexto de sistemas de recomendación, se busca factorizar la matriz de interacciones usuario-ítem en dos matrices más pequeñas (una para los usuarios y otra para los ítems) cuyo producto aproximado reproduce la matriz original lo mejor posible.\n",
        "\n",
        "Una vez que se han obtenido los embeddings, la predicción de una calificación o interacción entre un usuario e ítem se realiza tomando el producto escalar entre sus embeddings respectivos.\n",
        "\n",
        "Ventajas:\n",
        "\n",
        "Simplicidad y eficiencia en términos computacionales.\n",
        "\n",
        "Puede manejar grandes conjuntos de datos debido a su naturaleza de baja dimensión.\n",
        "\n",
        "Es efectivo para capturar patrones subyacentes en los datos.\n",
        "\n",
        "Desventajas:\n",
        "\n",
        "No tiene en cuenta características adicionales de usuarios o ítems.\n",
        "\n",
        "Dificultades para manejar nuevos ítems o usuarios (problema de arranque en frío)."
      ]
    },
    {
      "cell_type": "markdown",
      "metadata": {
        "id": "sJ482XODiA8T"
      },
      "source": [
        "El código ahora incluye regularización en los embeddings, un callback para detener el entrenamiento si no hay mejoras (early stopping) y otro para reducir la tasa de aprendizaje si el error de validación no mejora (reduce learning rate on plateau)."
      ]
    },
    {
      "cell_type": "code",
      "execution_count": null,
      "metadata": {
        "id": "3oQAn6BZT8ZB"
      },
      "outputs": [],
      "source": [
        "data = df"
      ]
    },
    {
      "cell_type": "code",
      "execution_count": null,
      "metadata": {
        "id": "22AEmdhqU9vC"
      },
      "outputs": [],
      "source": [
        "# Crear un LabelEncoder para cada columna\n",
        "reviewerID_encoder = LabelEncoder()\n",
        "asin_encoder = LabelEncoder()\n",
        "\n",
        "# Ajustar y transformar las columnas\n",
        "data['reviewerID_encoded'] = reviewerID_encoder.fit_transform(data['reviewerID'])\n",
        "data['asin_encoded'] = asin_encoder.fit_transform(data['asin'])\n",
        "\n",
        "# Número de usuarios únicos y número de ítems únicos\n",
        "n_users = len(np.unique(data['reviewerID_encoded']))\n",
        "n_items = len(np.unique(data['asin_encoded']))\n",
        "\n",
        "# Dimensiones del embedding\n",
        "embedding_dim = 10\n",
        "\n",
        "# Entradas\n",
        "user_input = Input(shape=(1,))\n",
        "item_input = Input(shape=(1,))\n",
        "\n",
        "# Embeddings con regularización\n",
        "user_embedding = Embedding(n_users, embedding_dim, embeddings_regularizer=l2(1e-6))(user_input)\n",
        "item_embedding = Embedding(n_items, embedding_dim, embeddings_regularizer=l2(1e-6))(item_input)\n",
        "\n",
        "# Producto punto para predecir la valoración/rating\n",
        "merged = Dot(axes=2)([user_embedding, item_embedding])\n",
        "merged = Flatten()(merged)\n",
        "\n",
        "# Modelo\n",
        "model = Model(inputs=[user_input, item_input], outputs=merged)\n",
        "model.compile(optimizer='adam', loss='mse', metrics=['mae'])"
      ]
    },
    {
      "cell_type": "markdown",
      "metadata": {
        "id": "ZN3t1PGSYEzR"
      },
      "source": [
        "verbose=0: No muestra ninguna barra de progreso ni métricas.\n",
        "\n",
        "verbose=1: Muestra una barra de progreso y actualiza las métricas después de cada lote.\n",
        "\n",
        "verbose=2: Muestra las métricas después de cada época, pero no muestra la barra de progreso."
      ]
    },
    {
      "cell_type": "code",
      "execution_count": null,
      "metadata": {
        "id": "J3n02-vPg5wh"
      },
      "outputs": [],
      "source": [
        "from sklearn.model_selection import train_test_split\n",
        "\n",
        "# Crear los arrays con los datos\n",
        "user_ids = data['reviewerID_encoded'].values\n",
        "item_ids = data['asin_encoded'].values\n",
        "ratings = data['overall'].values\n",
        "\n",
        "# División en entrenamiento y prueba\n",
        "(user_ids_temp, user_ids_test, item_ids_temp, item_ids_test, ratings_temp, ratings_test) = train_test_split(\n",
        "    user_ids, item_ids, ratings, test_size=0.2, random_state=42)\n",
        "\n",
        "# División del conjunto de entrenamiento en entrenamiento y validación\n",
        "(user_ids_train, user_ids_val, item_ids_train, item_ids_val, ratings_train, ratings_val) = train_test_split(\n",
        "    user_ids_temp, item_ids_temp, ratings_temp, test_size=0.25, random_state=42)  # 0.25 x 0.8 = 0.2"
      ]
    },
    {
      "cell_type": "code",
      "execution_count": null,
      "metadata": {
        "id": "NYbYJfevgXpj"
      },
      "outputs": [],
      "source": [
        "# Callbacks\n",
        "early_stop = EarlyStopping(monitor='val_loss', patience=50)\n",
        "reduce_lr = ReduceLROnPlateau(monitor='val_loss', factor=0.2, patience=50, min_lr=1e-5)"
      ]
    },
    {
      "cell_type": "code",
      "execution_count": null,
      "metadata": {
        "colab": {
          "base_uri": "https://localhost:8080/"
        },
        "id": "jOiSfVMfg5tw",
        "outputId": "844dff0e-3431-4e35-fa23-dca0963de858"
      },
      "outputs": [
        {
          "output_type": "stream",
          "name": "stdout",
          "text": [
            "Epoch 1/500\n",
            "37/37 [==============================] - 6s 19ms/step - loss: 19.5196 - mae: 4.2598 - val_loss: 19.5433 - val_mae: 4.2633 - lr: 0.0010\n",
            "Epoch 2/500\n",
            "37/37 [==============================] - 0s 12ms/step - loss: 19.5106 - mae: 4.2590 - val_loss: 19.5404 - val_mae: 4.2632 - lr: 0.0010\n",
            "Epoch 3/500\n",
            "37/37 [==============================] - 0s 12ms/step - loss: 19.4979 - mae: 4.2576 - val_loss: 19.5351 - val_mae: 4.2626 - lr: 0.0010\n",
            "Epoch 4/500\n",
            "37/37 [==============================] - 0s 13ms/step - loss: 19.4755 - mae: 4.2551 - val_loss: 19.5244 - val_mae: 4.2613 - lr: 0.0010\n",
            "Epoch 5/500\n",
            "37/37 [==============================] - 0s 11ms/step - loss: 19.4362 - mae: 4.2505 - val_loss: 19.5064 - val_mae: 4.2589 - lr: 0.0010\n",
            "Epoch 6/500\n",
            "37/37 [==============================] - 0s 12ms/step - loss: 19.3731 - mae: 4.2430 - val_loss: 19.4799 - val_mae: 4.2553 - lr: 0.0010\n",
            "Epoch 7/500\n",
            "37/37 [==============================] - 0s 12ms/step - loss: 19.2806 - mae: 4.2317 - val_loss: 19.4452 - val_mae: 4.2504 - lr: 0.0010\n",
            "Epoch 8/500\n",
            "37/37 [==============================] - 0s 11ms/step - loss: 19.1554 - mae: 4.2163 - val_loss: 19.4026 - val_mae: 4.2442 - lr: 0.0010\n",
            "Epoch 9/500\n",
            "37/37 [==============================] - 0s 12ms/step - loss: 18.9957 - mae: 4.1964 - val_loss: 19.3533 - val_mae: 4.2366 - lr: 0.0010\n",
            "Epoch 10/500\n",
            "37/37 [==============================] - 0s 11ms/step - loss: 18.8020 - mae: 4.1718 - val_loss: 19.2987 - val_mae: 4.2278 - lr: 0.0010\n",
            "Epoch 11/500\n",
            "37/37 [==============================] - 0s 11ms/step - loss: 18.5758 - mae: 4.1426 - val_loss: 19.2401 - val_mae: 4.2179 - lr: 0.0010\n",
            "Epoch 12/500\n",
            "37/37 [==============================] - 0s 11ms/step - loss: 18.3202 - mae: 4.1091 - val_loss: 19.1794 - val_mae: 4.2070 - lr: 0.0010\n",
            "Epoch 13/500\n",
            "37/37 [==============================] - 0s 11ms/step - loss: 18.0387 - mae: 4.0714 - val_loss: 19.1178 - val_mae: 4.1953 - lr: 0.0010\n",
            "Epoch 14/500\n",
            "37/37 [==============================] - 0s 11ms/step - loss: 17.7345 - mae: 4.0299 - val_loss: 19.0565 - val_mae: 4.1829 - lr: 0.0010\n",
            "Epoch 15/500\n",
            "37/37 [==============================] - 0s 11ms/step - loss: 17.4113 - mae: 3.9848 - val_loss: 18.9972 - val_mae: 4.1699 - lr: 0.0010\n",
            "Epoch 16/500\n",
            "37/37 [==============================] - 0s 11ms/step - loss: 17.0726 - mae: 3.9365 - val_loss: 18.9404 - val_mae: 4.1564 - lr: 0.0010\n",
            "Epoch 17/500\n",
            "37/37 [==============================] - 0s 12ms/step - loss: 16.7217 - mae: 3.8853 - val_loss: 18.8871 - val_mae: 4.1426 - lr: 0.0010\n",
            "Epoch 18/500\n",
            "37/37 [==============================] - 0s 11ms/step - loss: 16.3619 - mae: 3.8316 - val_loss: 18.8381 - val_mae: 4.1286 - lr: 0.0010\n",
            "Epoch 19/500\n",
            "37/37 [==============================] - 0s 11ms/step - loss: 15.9960 - mae: 3.7756 - val_loss: 18.7937 - val_mae: 4.1146 - lr: 0.0010\n",
            "Epoch 20/500\n",
            "37/37 [==============================] - 0s 11ms/step - loss: 15.6265 - mae: 3.7178 - val_loss: 18.7540 - val_mae: 4.1004 - lr: 0.0010\n",
            "Epoch 21/500\n",
            "37/37 [==============================] - 0s 11ms/step - loss: 15.2558 - mae: 3.6584 - val_loss: 18.7198 - val_mae: 4.0864 - lr: 0.0010\n",
            "Epoch 22/500\n",
            "37/37 [==============================] - 0s 11ms/step - loss: 14.8860 - mae: 3.5977 - val_loss: 18.6907 - val_mae: 4.0726 - lr: 0.0010\n",
            "Epoch 23/500\n",
            "37/37 [==============================] - 0s 11ms/step - loss: 14.5189 - mae: 3.5360 - val_loss: 18.6669 - val_mae: 4.0590 - lr: 0.0010\n",
            "Epoch 24/500\n",
            "37/37 [==============================] - 0s 11ms/step - loss: 14.1563 - mae: 3.4736 - val_loss: 18.6486 - val_mae: 4.0457 - lr: 0.0010\n",
            "Epoch 25/500\n",
            "37/37 [==============================] - 0s 11ms/step - loss: 13.7991 - mae: 3.4107 - val_loss: 18.6353 - val_mae: 4.0327 - lr: 0.0010\n",
            "Epoch 26/500\n",
            "37/37 [==============================] - 0s 12ms/step - loss: 13.4487 - mae: 3.3475 - val_loss: 18.6268 - val_mae: 4.0201 - lr: 0.0010\n",
            "Epoch 27/500\n",
            "37/37 [==============================] - 0s 11ms/step - loss: 13.1057 - mae: 3.2842 - val_loss: 18.6232 - val_mae: 4.0079 - lr: 0.0010\n",
            "Epoch 28/500\n",
            "37/37 [==============================] - 0s 11ms/step - loss: 12.7712 - mae: 3.2210 - val_loss: 18.6238 - val_mae: 3.9960 - lr: 0.0010\n",
            "Epoch 29/500\n",
            "37/37 [==============================] - 0s 12ms/step - loss: 12.4454 - mae: 3.1581 - val_loss: 18.6287 - val_mae: 3.9846 - lr: 0.0010\n",
            "Epoch 30/500\n",
            "37/37 [==============================] - 0s 12ms/step - loss: 12.1292 - mae: 3.0955 - val_loss: 18.6378 - val_mae: 3.9736 - lr: 0.0010\n",
            "Epoch 31/500\n",
            "37/37 [==============================] - 0s 12ms/step - loss: 11.8226 - mae: 3.0335 - val_loss: 18.6504 - val_mae: 3.9629 - lr: 0.0010\n",
            "Epoch 32/500\n",
            "37/37 [==============================] - 0s 12ms/step - loss: 11.5260 - mae: 2.9721 - val_loss: 18.6664 - val_mae: 3.9527 - lr: 0.0010\n",
            "Epoch 33/500\n",
            "37/37 [==============================] - 0s 12ms/step - loss: 11.2394 - mae: 2.9114 - val_loss: 18.6856 - val_mae: 3.9429 - lr: 0.0010\n",
            "Epoch 34/500\n",
            "37/37 [==============================] - 0s 12ms/step - loss: 10.9630 - mae: 2.8516 - val_loss: 18.7075 - val_mae: 3.9334 - lr: 0.0010\n",
            "Epoch 35/500\n",
            "37/37 [==============================] - 0s 12ms/step - loss: 10.6967 - mae: 2.7927 - val_loss: 18.7321 - val_mae: 3.9243 - lr: 0.0010\n",
            "Epoch 36/500\n",
            "37/37 [==============================] - 0s 12ms/step - loss: 10.4406 - mae: 2.7349 - val_loss: 18.7590 - val_mae: 3.9155 - lr: 0.0010\n",
            "Epoch 37/500\n",
            "37/37 [==============================] - 0s 11ms/step - loss: 10.1943 - mae: 2.6781 - val_loss: 18.7879 - val_mae: 3.9071 - lr: 0.0010\n",
            "Epoch 38/500\n",
            "37/37 [==============================] - 0s 11ms/step - loss: 9.9578 - mae: 2.6225 - val_loss: 18.8187 - val_mae: 3.8990 - lr: 0.0010\n",
            "Epoch 39/500\n",
            "37/37 [==============================] - 0s 11ms/step - loss: 9.7307 - mae: 2.5681 - val_loss: 18.8512 - val_mae: 3.8912 - lr: 0.0010\n",
            "Epoch 40/500\n",
            "37/37 [==============================] - 0s 11ms/step - loss: 9.5128 - mae: 2.5150 - val_loss: 18.8850 - val_mae: 3.8837 - lr: 0.0010\n",
            "Epoch 41/500\n",
            "37/37 [==============================] - 0s 11ms/step - loss: 9.3039 - mae: 2.4631 - val_loss: 18.9199 - val_mae: 3.8765 - lr: 0.0010\n",
            "Epoch 42/500\n",
            "37/37 [==============================] - 0s 11ms/step - loss: 9.1035 - mae: 2.4125 - val_loss: 18.9559 - val_mae: 3.8695 - lr: 0.0010\n",
            "Epoch 43/500\n",
            "37/37 [==============================] - 0s 11ms/step - loss: 8.9115 - mae: 2.3632 - val_loss: 18.9926 - val_mae: 3.8629 - lr: 0.0010\n",
            "Epoch 44/500\n",
            "37/37 [==============================] - 0s 11ms/step - loss: 8.7273 - mae: 2.3152 - val_loss: 19.0300 - val_mae: 3.8564 - lr: 0.0010\n",
            "Epoch 45/500\n",
            "37/37 [==============================] - 0s 12ms/step - loss: 8.5507 - mae: 2.2685 - val_loss: 19.0677 - val_mae: 3.8502 - lr: 0.0010\n",
            "Epoch 46/500\n",
            "37/37 [==============================] - 0s 11ms/step - loss: 8.3815 - mae: 2.2231 - val_loss: 19.1060 - val_mae: 3.8442 - lr: 0.0010\n",
            "Epoch 47/500\n",
            "37/37 [==============================] - 0s 12ms/step - loss: 8.2192 - mae: 2.1790 - val_loss: 19.1443 - val_mae: 3.8385 - lr: 0.0010\n",
            "Epoch 48/500\n",
            "37/37 [==============================] - 0s 11ms/step - loss: 8.0637 - mae: 2.1361 - val_loss: 19.1827 - val_mae: 3.8329 - lr: 0.0010\n",
            "Epoch 49/500\n",
            "37/37 [==============================] - 0s 11ms/step - loss: 7.9145 - mae: 2.0945 - val_loss: 19.2213 - val_mae: 3.8276 - lr: 0.0010\n",
            "Epoch 50/500\n",
            "37/37 [==============================] - 0s 11ms/step - loss: 7.7714 - mae: 2.0541 - val_loss: 19.2595 - val_mae: 3.8224 - lr: 0.0010\n",
            "Epoch 51/500\n",
            "37/37 [==============================] - 0s 11ms/step - loss: 7.6340 - mae: 2.0149 - val_loss: 19.2977 - val_mae: 3.8174 - lr: 0.0010\n",
            "Epoch 52/500\n",
            "37/37 [==============================] - 0s 11ms/step - loss: 7.5023 - mae: 1.9768 - val_loss: 19.3356 - val_mae: 3.8126 - lr: 0.0010\n",
            "Epoch 53/500\n",
            "37/37 [==============================] - 0s 11ms/step - loss: 7.3757 - mae: 1.9399 - val_loss: 19.3730 - val_mae: 3.8078 - lr: 0.0010\n",
            "Epoch 54/500\n",
            "37/37 [==============================] - 0s 11ms/step - loss: 7.2543 - mae: 1.9041 - val_loss: 19.4100 - val_mae: 3.8033 - lr: 0.0010\n",
            "Epoch 55/500\n",
            "37/37 [==============================] - 0s 11ms/step - loss: 7.1376 - mae: 1.8694 - val_loss: 19.4465 - val_mae: 3.7989 - lr: 0.0010\n",
            "Epoch 56/500\n",
            "37/37 [==============================] - 0s 11ms/step - loss: 7.0255 - mae: 1.8357 - val_loss: 19.4827 - val_mae: 3.7946 - lr: 0.0010\n",
            "Epoch 57/500\n",
            "37/37 [==============================] - 0s 11ms/step - loss: 6.9177 - mae: 1.8030 - val_loss: 19.5182 - val_mae: 3.7905 - lr: 0.0010\n",
            "Epoch 58/500\n",
            "37/37 [==============================] - 0s 12ms/step - loss: 6.8141 - mae: 1.7712 - val_loss: 19.5533 - val_mae: 3.7865 - lr: 0.0010\n",
            "Epoch 59/500\n",
            "37/37 [==============================] - 0s 12ms/step - loss: 6.7145 - mae: 1.7404 - val_loss: 19.5877 - val_mae: 3.7825 - lr: 0.0010\n",
            "Epoch 60/500\n",
            "37/37 [==============================] - 0s 11ms/step - loss: 6.6187 - mae: 1.7106 - val_loss: 19.6215 - val_mae: 3.7788 - lr: 0.0010\n",
            "Epoch 61/500\n",
            "37/37 [==============================] - 0s 12ms/step - loss: 6.5265 - mae: 1.6815 - val_loss: 19.6546 - val_mae: 3.7751 - lr: 0.0010\n",
            "Epoch 62/500\n",
            "37/37 [==============================] - 0s 12ms/step - loss: 6.4377 - mae: 1.6534 - val_loss: 19.6870 - val_mae: 3.7715 - lr: 0.0010\n",
            "Epoch 63/500\n",
            "37/37 [==============================] - 0s 12ms/step - loss: 6.3523 - mae: 1.6260 - val_loss: 19.7189 - val_mae: 3.7680 - lr: 0.0010\n",
            "Epoch 64/500\n",
            "37/37 [==============================] - 0s 11ms/step - loss: 6.2700 - mae: 1.5994 - val_loss: 19.7500 - val_mae: 3.7645 - lr: 0.0010\n",
            "Epoch 65/500\n",
            "37/37 [==============================] - 0s 12ms/step - loss: 6.1907 - mae: 1.5736 - val_loss: 19.7804 - val_mae: 3.7612 - lr: 0.0010\n",
            "Epoch 66/500\n",
            "37/37 [==============================] - 0s 11ms/step - loss: 6.1143 - mae: 1.5485 - val_loss: 19.8103 - val_mae: 3.7579 - lr: 0.0010\n",
            "Epoch 67/500\n",
            "37/37 [==============================] - 0s 12ms/step - loss: 6.0407 - mae: 1.5241 - val_loss: 19.8392 - val_mae: 3.7547 - lr: 0.0010\n",
            "Epoch 68/500\n",
            "37/37 [==============================] - 0s 12ms/step - loss: 5.9697 - mae: 1.5003 - val_loss: 19.8676 - val_mae: 3.7516 - lr: 0.0010\n",
            "Epoch 69/500\n",
            "37/37 [==============================] - 0s 12ms/step - loss: 5.9013 - mae: 1.4773 - val_loss: 19.8953 - val_mae: 3.7486 - lr: 0.0010\n",
            "Epoch 70/500\n",
            "37/37 [==============================] - 0s 11ms/step - loss: 5.8353 - mae: 1.4549 - val_loss: 19.9224 - val_mae: 3.7456 - lr: 0.0010\n",
            "Epoch 71/500\n",
            "37/37 [==============================] - 0s 11ms/step - loss: 5.7716 - mae: 1.4330 - val_loss: 19.9488 - val_mae: 3.7427 - lr: 0.0010\n",
            "Epoch 72/500\n",
            "37/37 [==============================] - 0s 11ms/step - loss: 5.7102 - mae: 1.4118 - val_loss: 19.9744 - val_mae: 3.7398 - lr: 0.0010\n",
            "Epoch 73/500\n",
            "37/37 [==============================] - 0s 12ms/step - loss: 5.6508 - mae: 1.3911 - val_loss: 19.9993 - val_mae: 3.7370 - lr: 0.0010\n",
            "Epoch 74/500\n",
            "37/37 [==============================] - 0s 11ms/step - loss: 5.5936 - mae: 1.3710 - val_loss: 20.0237 - val_mae: 3.7343 - lr: 0.0010\n",
            "Epoch 75/500\n",
            "37/37 [==============================] - 0s 12ms/step - loss: 5.5383 - mae: 1.3514 - val_loss: 20.0473 - val_mae: 3.7316 - lr: 0.0010\n",
            "Epoch 76/500\n",
            "37/37 [==============================] - 0s 12ms/step - loss: 5.4849 - mae: 1.3324 - val_loss: 20.0703 - val_mae: 3.7290 - lr: 0.0010\n",
            "Epoch 77/500\n",
            "37/37 [==============================] - 0s 11ms/step - loss: 5.4334 - mae: 1.3138 - val_loss: 20.0926 - val_mae: 3.7264 - lr: 0.0010\n",
            "CPU times: user 1min 14s, sys: 3.65 s, total: 1min 18s\n",
            "Wall time: 38.8 s\n"
          ]
        },
        {
          "output_type": "execute_result",
          "data": {
            "text/plain": [
              "<keras.src.callbacks.History at 0x7e85e8bf3130>"
            ]
          },
          "metadata": {},
          "execution_count": 10
        }
      ],
      "source": [
        "%%time\n",
        "# Entrenar el modelo con el conjunto de entrenamiento\n",
        "model.fit([user_ids_train, item_ids_train], ratings_train, validation_data=([user_ids_val, item_ids_val], ratings_val),\n",
        "          epochs=500, batch_size=80000, verbose=1, callbacks=[early_stop, reduce_lr])"
      ]
    },
    {
      "cell_type": "code",
      "execution_count": null,
      "metadata": {
        "colab": {
          "base_uri": "https://localhost:8080/"
        },
        "id": "RnBHBOT1oel0",
        "outputId": "2574793f-aab8-47dd-b09c-1a9e4eac44b6"
      },
      "outputs": [
        {
          "output_type": "stream",
          "name": "stdout",
          "text": [
            "30004/30004 [==============================] - 40s 1ms/step\n"
          ]
        }
      ],
      "source": [
        "y_true = ratings_test\n",
        "predictions = model.predict([user_ids_test, item_ids_test])"
      ]
    },
    {
      "cell_type": "code",
      "execution_count": null,
      "metadata": {
        "colab": {
          "base_uri": "https://localhost:8080/"
        },
        "id": "SMJd_nt7g5h4",
        "outputId": "0ac9b20a-dd71-418a-9e46-9f09734b2a61"
      },
      "outputs": [
        {
          "output_type": "stream",
          "name": "stdout",
          "text": [
            "30004/30004 [==============================] - 78s 3ms/step - loss: 20.0977 - mae: 3.7258\n",
            "Test Loss: 20.0977\n",
            "Test MAE: 3.7258\n"
          ]
        }
      ],
      "source": [
        "# Evaluar el modelo con el conjunto de prueba\n",
        "loss, mae = model.evaluate([user_ids_test, item_ids_test], ratings_test)\n",
        "print(f'Test Loss: {loss:.4f}')\n",
        "print(f'Test MAE: {mae:.4f}')"
      ]
    },
    {
      "cell_type": "code",
      "execution_count": null,
      "metadata": {
        "colab": {
          "base_uri": "https://localhost:8080/"
        },
        "id": "USnKRkm0KCdW",
        "outputId": "7e69d032-805f-484d-af95-d84dce0346fb"
      },
      "outputs": [
        {
          "output_type": "stream",
          "name": "stdout",
          "text": [
            "MSE: 17.7636\n",
            "RMSE: 4.2147\n",
            "MAE: 3.7257\n",
            "MAPE: 88.54%\n"
          ]
        }
      ],
      "source": [
        "# MSE\n",
        "mse = mean_squared_error(y_true, predictions)\n",
        "print(f\"MSE: {mse:.4f}\")\n",
        "\n",
        "# RMSE\n",
        "rmse = np.sqrt(mse)\n",
        "print(f\"RMSE: {rmse:.4f}\")\n",
        "\n",
        "# MAE\n",
        "mae = mean_absolute_error(y_true, predictions)\n",
        "print(f\"MAE: {mae:.4f}\")\n",
        "\n",
        "# MAPE (Mean Absolute Percentage Error)\n",
        "mape = np.mean(np.abs((y_true - predictions.flatten()) / y_true)) * 100\n",
        "print(f\"MAPE: {mape:.2f}%\")"
      ]
    },
    {
      "cell_type": "markdown",
      "source": [
        "# Recomedanción"
      ],
      "metadata": {
        "id": "W1hoVgKNyGKF"
      }
    },
    {
      "cell_type": "code",
      "source": [
        "# Seleccionar un usuario al azar del conjunto de prueba\n",
        "usuario_id_test_encoded = random.choice(user_ids_test)\n",
        "\n",
        "# Decodificar el ID del usuario para obtener el ID original\n",
        "usuario_id_test = reviewerID_encoder.inverse_transform([usuario_id_test_encoded])[0]\n",
        "\n",
        "# Identificar los ítems que el usuario ha calificado en el conjunto de prueba\n",
        "indices_usuario = np.where(user_ids_test == usuario_id_test_encoded)[0]\n",
        "items_calificados_test_encoded = item_ids_test[indices_usuario]\n",
        "calificaciones_reales_test = ratings_test[indices_usuario]\n",
        "\n",
        "# Predecir las calificaciones para estos ítems\n",
        "calificaciones_predichas = model.predict([np.array([usuario_id_test_encoded] * len(items_calificados_test_encoded)), items_calificados_test_encoded])\n",
        "\n",
        "# Decodificar los ítems para obtener los ID originales\n",
        "items_calificados_test = asin_encoder.inverse_transform(items_calificados_test_encoded)\n",
        "\n",
        "# Comparar las calificaciones predichas con las reales\n",
        "comparacion = list(zip(items_calificados_test, calificaciones_reales_test, calificaciones_predichas.flatten()))\n",
        "\n",
        "# Mostrar las comparaciones\n",
        "print(f\"Recomendaciones para el usuario {usuario_id_test}:\")\n",
        "for item, real, predicha in comparacion:\n",
        "    print(f\"Ítem: {item}, Calificación Real: {real}, Calificación Predicha: {predicha}\")"
      ],
      "metadata": {
        "colab": {
          "base_uri": "https://localhost:8080/"
        },
        "id": "pD6RZOLAyDpw",
        "outputId": "d99f1ee9-baef-466f-eec2-065b713d6c04"
      },
      "execution_count": null,
      "outputs": [
        {
          "output_type": "stream",
          "name": "stdout",
          "text": [
            "1/1 [==============================] - 0s 28ms/step\n",
            "Recomendaciones para el usuario A1J7RPYGVGH5O3:\n",
            "Ítem: B00CKLIJWI, Calificación Real: 5.0, Calificación Predicha: -0.9508680701255798\n",
            "Ítem: B01EOHG5FS, Calificación Real: 5.0, Calificación Predicha: -3.2248916625976562\n",
            "Ítem: B00VIGAPY6, Calificación Real: 4.0, Calificación Predicha: 2.080498218536377\n",
            "Ítem: B00W4252Y6, Calificación Real: 5.0, Calificación Predicha: 5.333003044128418\n",
            "Ítem: B00CEL192G, Calificación Real: 3.0, Calificación Predicha: 1.5948044061660767\n",
            "Ítem: B00B5T2PDA, Calificación Real: 3.0, Calificación Predicha: 0.7403024435043335\n",
            "Ítem: B011LPF5D4, Calificación Real: 5.0, Calificación Predicha: 2.6771559715270996\n",
            "Ítem: B00YMKU9BO, Calificación Real: 1.0, Calificación Predicha: -0.40104973316192627\n",
            "Ítem: B00W1U7ZZ0, Calificación Real: 5.0, Calificación Predicha: 3.2548186779022217\n",
            "Ítem: B01AYV1WCO, Calificación Real: 5.0, Calificación Predicha: 2.518038272857666\n",
            "Ítem: B00NWGRB4W, Calificación Real: 5.0, Calificación Predicha: 0.838336706161499\n",
            "Ítem: B01EB8Y67Y, Calificación Real: 5.0, Calificación Predicha: 5.74371337890625\n",
            "Ítem: B00WHW40TQ, Calificación Real: 5.0, Calificación Predicha: -1.1649049520492554\n",
            "Ítem: B01CLQQ0QI, Calificación Real: 5.0, Calificación Predicha: 2.9139676094055176\n",
            "Ítem: B01E0IDG76, Calificación Real: 5.0, Calificación Predicha: 0.8735666275024414\n",
            "Ítem: B00NI29I96, Calificación Real: 5.0, Calificación Predicha: 2.9769339561462402\n",
            "Ítem: B013U19NZ8, Calificación Real: 2.0, Calificación Predicha: 4.880343437194824\n",
            "Ítem: B008Y3UVQS, Calificación Real: 5.0, Calificación Predicha: -0.4655773639678955\n",
            "Ítem: B00XZD3EBQ, Calificación Real: 3.0, Calificación Predicha: 2.296196699142456\n",
            "Ítem: B00M1X12GK, Calificación Real: 5.0, Calificación Predicha: 1.3547451496124268\n",
            "Ítem: B00OIMYYKI, Calificación Real: 3.0, Calificación Predicha: -3.1539838314056396\n",
            "Ítem: B00UZBPNA6, Calificación Real: 2.0, Calificación Predicha: 0.01267552375793457\n",
            "Ítem: B00WZYZR16, Calificación Real: 5.0, Calificación Predicha: 1.1857901811599731\n",
            "Ítem: B01BX1PRRK, Calificación Real: 5.0, Calificación Predicha: 0.9313199520111084\n"
          ]
        }
      ]
    },
    {
      "cell_type": "code",
      "source": [
        "# Seleccionar un usuario al azar del conjunto de prueba\n",
        "usuario_id_test_encoded = random.choice(user_ids_test)\n",
        "\n",
        "# Decodificar el ID del usuario para obtener el ID original\n",
        "usuario_id = reviewerID_encoder.inverse_transform([usuario_id_test_encoded])[0]\n",
        "\n",
        "# Lista de todos los ítems únicos en el dataset\n",
        "items_unicos = np.unique(data['asin'].values)\n",
        "\n",
        "# Ítems que el usuario ya ha calificado\n",
        "items_calificados = data[data['reviewerID_encoded'] == usuario_id_test_encoded]['asin'].tolist()\n",
        "\n",
        "# Ítems para predecir\n",
        "items_a_predecir = [item for item in items_unicos if item not in items_calificados]\n",
        "\n",
        "# Convierte los ítems a su representación codificada\n",
        "items_a_predecir_encoded = asin_encoder.transform(items_a_predecir)\n",
        "\n",
        "# Predecir la calificación para cada ítem no calificado\n",
        "predicciones = model.predict([np.array([usuario_id_test_encoded] * len(items_a_predecir_encoded)), items_a_predecir_encoded])\n",
        "\n",
        "# Emparejar cada ítem con su predicción\n",
        "items_predicciones = list(zip(items_a_predecir, predicciones.flatten()))\n",
        "\n",
        "# Ordenar por la calificación predicha más alta\n",
        "items_recomendados = sorted(items_predicciones, key=lambda x: x[1], reverse=True)\n",
        "\n",
        "# Tomar los top N recomendaciones\n",
        "top_n = 5\n",
        "top_recomendaciones = items_recomendados[:top_n]\n",
        "\n",
        "# Imprimir las recomendaciones\n",
        "print(f\"Recomendaciones para el usuario {usuario_id}:\")\n",
        "for item, calificacion in top_recomendaciones:\n",
        "    print(f\"Ítem: {item}, Calificación Predicha: {calificacion}\")"
      ],
      "metadata": {
        "colab": {
          "base_uri": "https://localhost:8080/"
        },
        "id": "zwXhZlKlz-9I",
        "outputId": "7343421c-b2f2-4da5-cb80-8cb7de2cbb28"
      },
      "execution_count": null,
      "outputs": [
        {
          "output_type": "stream",
          "name": "stdout",
          "text": [
            "4813/4813 [==============================] - 6s 1ms/step\n",
            "Recomendaciones para el usuario A1NFL8WCCBFGHT:\n",
            "Ítem: B001EJNMQ0, Calificación Predicha: 4.396382808685303\n",
            "Ítem: B001JHEY14, Calificación Predicha: 4.158614635467529\n",
            "Ítem: B00SIFOKF0, Calificación Predicha: 4.131438255310059\n",
            "Ítem: B0002RI2PG, Calificación Predicha: 4.1207075119018555\n",
            "Ítem: B017HMYQTE, Calificación Predicha: 3.955294370651245\n"
          ]
        }
      ]
    },
    {
      "cell_type": "markdown",
      "metadata": {
        "id": "odgbIWArkJ2y"
      },
      "source": [
        "# Modelo de Filtrado Colaborativo usando Red Neuronal Multicapa con Keras:"
      ]
    },
    {
      "cell_type": "markdown",
      "metadata": {
        "id": "vBK_zPK7lvti"
      },
      "source": [
        "Funcionamiento:\n",
        "\n",
        "Estos sistemas toman características de los ítems y/o usuarios y las pasan a través de una o varias capas de neuronas para obtener una predicción.\n",
        "Las redes neuronales son capaces de capturar interacciones no lineales entre características, lo que las hace poderosas para tareas de modelado complejas.\n",
        "\n",
        "Ventajas:\n",
        "\n",
        "Capacidad de modelar relaciones no lineales.\n",
        "\n",
        "Flexibilidad para incorporar múltiples fuentes de datos o características.\n",
        "\n",
        "Puede manejar arranques en frío al incorporar características de nuevos ítems o usuarios.\n",
        "\n",
        "Desventajas:\n",
        "\n",
        "Mayor costo computacional en comparación con los sistemas basados únicamente en embeddings.\n",
        "\n",
        "Riesgo de sobreajuste si no se tiene un conjunto de datos lo suficientemente grande."
      ]
    },
    {
      "cell_type": "markdown",
      "metadata": {
        "id": "YMnns-ENh_KJ"
      },
      "source": [
        "Ahora el código incluye regularización en los embeddings, early stopping para detener el entrenamiento si el modelo deja de mejorar en el conjunto de validación, y reducción de la tasa de aprendizaje si el error en el conjunto de validación no mejora después de algunas épocas. Estas adiciones deberían ayudar a mejorar la capacidad de generalización del modelo."
      ]
    },
    {
      "cell_type": "code",
      "execution_count": null,
      "metadata": {
        "id": "ZFgVZSeTkKGy"
      },
      "outputs": [],
      "source": [
        "df['user_id'] = df['reviewerID'].astype('category').cat.codes.values\n",
        "df['item_id'] = df['asin'].astype('category').cat.codes.values\n",
        "\n",
        "# Número de usuarios e ítems\n",
        "n_users = df['user_id'].nunique()\n",
        "n_items = df['item_id'].nunique()\n",
        "\n",
        "# Hiperparámetros\n",
        "hidden_units = [128, 64, 32]\n",
        "dropout_rate = 0.2\n",
        "l2_reg = 1e-6\n",
        "\n",
        "# Arquitectura del modelo\n",
        "user_input = Input(shape=[1], name='user_input')\n",
        "item_input = Input(shape=[1], name='item_input')\n",
        "concat = Concatenate()([user_input, item_input])\n",
        "dense = concat\n",
        "for units in hidden_units:\n",
        "    dense = Dense(units, activation='relu', kernel_regularizer=l2(l2_reg))(dense)\n",
        "    dense = Dropout(dropout_rate)(dense)\n",
        "output = Dense(1, kernel_regularizer=l2(l2_reg))(dense)  # También puedes aplicar regularización L2 aquí\n",
        "model = Model(inputs=[user_input, item_input], outputs=output)\n",
        "model.compile(optimizer=Adam(0.001), loss='mean_squared_error')"
      ]
    },
    {
      "cell_type": "code",
      "execution_count": null,
      "metadata": {
        "id": "N7uvl8VEhqdD"
      },
      "outputs": [],
      "source": [
        "# Callbacks\n",
        "early_stop = EarlyStopping(monitor='val_loss', patience=50)\n",
        "reduce_lr = ReduceLROnPlateau(monitor='val_loss', factor=0.2, patience=50, min_lr=1e-5)"
      ]
    },
    {
      "cell_type": "code",
      "execution_count": null,
      "metadata": {
        "id": "blU4Q9akkVBc"
      },
      "outputs": [],
      "source": [
        "# Datos para entrenamiento\n",
        "user_data = df['user_id'].values\n",
        "item_data = df['item_id'].values\n",
        "rating_data = df['overall'].values\n",
        "\n",
        "# División en entrenamiento y prueba\n",
        "(user_ids_temp, user_ids_test, item_ids_temp, item_ids_test, ratings_temp, ratings_test) = train_test_split(\n",
        "    user_ids, item_ids, ratings, test_size=0.2, random_state=42)\n",
        "\n",
        "# División del conjunto de entrenamiento en entrenamiento y validación\n",
        "(user_ids_train, user_ids_val, item_ids_train, item_ids_val, ratings_train, ratings_val) = train_test_split(\n",
        "    user_ids_temp, item_ids_temp, ratings_temp, test_size=0.25, random_state=42)  # 0.25 x 0.8 = 0.2"
      ]
    },
    {
      "cell_type": "code",
      "execution_count": null,
      "metadata": {
        "colab": {
          "base_uri": "https://localhost:8080/"
        },
        "id": "kGxLwUhzf32z",
        "outputId": "2a1e77c9-db5b-4f10-ae43-761c0fe8c7a1"
      },
      "outputs": [
        {
          "output_type": "stream",
          "name": "stdout",
          "text": [
            "Epoch 1/500\n",
            "37/37 [==============================] - 3s 19ms/step - loss: 934782272.0000 - val_loss: 170529.0781 - lr: 0.0010\n",
            "Epoch 2/500\n",
            "37/37 [==============================] - 0s 13ms/step - loss: 37242644.0000 - val_loss: 91.7350 - lr: 0.0010\n",
            "Epoch 3/500\n",
            "37/37 [==============================] - 0s 13ms/step - loss: 8027433.0000 - val_loss: 2839.9902 - lr: 0.0010\n",
            "Epoch 4/500\n",
            "37/37 [==============================] - 0s 13ms/step - loss: 1812915.5000 - val_loss: 720.2854 - lr: 0.0010\n",
            "Epoch 5/500\n",
            "37/37 [==============================] - 0s 13ms/step - loss: 839055.8750 - val_loss: 66.0808 - lr: 0.0010\n",
            "Epoch 6/500\n",
            "37/37 [==============================] - 0s 13ms/step - loss: 551012.8750 - val_loss: 13.6143 - lr: 0.0010\n",
            "Epoch 7/500\n",
            "37/37 [==============================] - 0s 13ms/step - loss: 421364.2500 - val_loss: 7.1802 - lr: 0.0010\n",
            "Epoch 8/500\n",
            "37/37 [==============================] - 0s 13ms/step - loss: 355141.9062 - val_loss: 13.6921 - lr: 0.0010\n",
            "Epoch 9/500\n",
            "37/37 [==============================] - 0s 13ms/step - loss: 300277.4062 - val_loss: 6.1774 - lr: 0.0010\n",
            "Epoch 10/500\n",
            "37/37 [==============================] - 0s 13ms/step - loss: 253760.1250 - val_loss: 7.0520 - lr: 0.0010\n",
            "Epoch 11/500\n",
            "37/37 [==============================] - 0s 13ms/step - loss: 191039.7656 - val_loss: 6.7990 - lr: 0.0010\n",
            "Epoch 12/500\n",
            "37/37 [==============================] - 0s 13ms/step - loss: 89524.7500 - val_loss: 6.8950 - lr: 0.0010\n",
            "Epoch 13/500\n",
            "37/37 [==============================] - 0s 13ms/step - loss: 51908.4336 - val_loss: 9.1582 - lr: 0.0010\n",
            "Epoch 14/500\n",
            "37/37 [==============================] - 0s 13ms/step - loss: 48251.5938 - val_loss: 7.3399 - lr: 0.0010\n",
            "Epoch 15/500\n",
            "37/37 [==============================] - 0s 13ms/step - loss: 40924.9805 - val_loss: 11.0420 - lr: 0.0010\n",
            "Epoch 16/500\n",
            "37/37 [==============================] - 0s 13ms/step - loss: 44120.6836 - val_loss: 6.2291 - lr: 0.0010\n",
            "Epoch 17/500\n",
            "37/37 [==============================] - 0s 13ms/step - loss: 42591.0312 - val_loss: 8.4742 - lr: 0.0010\n",
            "Epoch 18/500\n",
            "37/37 [==============================] - 0s 13ms/step - loss: 39940.7461 - val_loss: 7.2991 - lr: 0.0010\n",
            "Epoch 19/500\n",
            "37/37 [==============================] - 0s 13ms/step - loss: 38786.0469 - val_loss: 9.4185 - lr: 0.0010\n",
            "Epoch 20/500\n",
            "37/37 [==============================] - 0s 13ms/step - loss: 35141.9062 - val_loss: 9.0636 - lr: 0.0010\n",
            "Epoch 21/500\n",
            "37/37 [==============================] - 0s 13ms/step - loss: 37432.8594 - val_loss: 8.7154 - lr: 0.0010\n",
            "Epoch 22/500\n",
            "37/37 [==============================] - 0s 13ms/step - loss: 34351.5000 - val_loss: 8.9784 - lr: 0.0010\n",
            "Epoch 23/500\n",
            "37/37 [==============================] - 0s 13ms/step - loss: 33624.8477 - val_loss: 8.3210 - lr: 0.0010\n",
            "Epoch 24/500\n",
            "37/37 [==============================] - 0s 13ms/step - loss: 32633.1602 - val_loss: 8.1160 - lr: 0.0010\n",
            "Epoch 25/500\n",
            "37/37 [==============================] - 0s 13ms/step - loss: 29494.0156 - val_loss: 8.2234 - lr: 0.0010\n",
            "Epoch 26/500\n",
            "37/37 [==============================] - 0s 13ms/step - loss: 32855.0820 - val_loss: 8.2719 - lr: 0.0010\n",
            "Epoch 27/500\n",
            "37/37 [==============================] - 0s 13ms/step - loss: 30323.8574 - val_loss: 8.3338 - lr: 0.0010\n",
            "Epoch 28/500\n",
            "37/37 [==============================] - 0s 13ms/step - loss: 30719.9414 - val_loss: 9.0897 - lr: 0.0010\n",
            "Epoch 29/500\n",
            "37/37 [==============================] - 0s 13ms/step - loss: 32804.4023 - val_loss: 8.0636 - lr: 0.0010\n",
            "Epoch 30/500\n",
            "37/37 [==============================] - 0s 13ms/step - loss: 28700.6406 - val_loss: 8.3013 - lr: 0.0010\n",
            "Epoch 31/500\n",
            "37/37 [==============================] - 0s 13ms/step - loss: 27216.8574 - val_loss: 7.5083 - lr: 0.0010\n",
            "Epoch 32/500\n",
            "37/37 [==============================] - 0s 13ms/step - loss: 25345.5469 - val_loss: 8.5907 - lr: 0.0010\n",
            "Epoch 33/500\n",
            "37/37 [==============================] - 0s 13ms/step - loss: 26478.5801 - val_loss: 9.3229 - lr: 0.0010\n",
            "Epoch 34/500\n",
            "37/37 [==============================] - 0s 14ms/step - loss: 24133.5137 - val_loss: 9.3243 - lr: 0.0010\n",
            "Epoch 35/500\n",
            "37/37 [==============================] - 0s 13ms/step - loss: 26526.1777 - val_loss: 9.4136 - lr: 0.0010\n",
            "Epoch 36/500\n",
            "37/37 [==============================] - 1s 14ms/step - loss: 24739.8516 - val_loss: 8.3472 - lr: 0.0010\n",
            "Epoch 37/500\n",
            "37/37 [==============================] - 0s 13ms/step - loss: 24720.7676 - val_loss: 8.3123 - lr: 0.0010\n",
            "Epoch 38/500\n",
            "37/37 [==============================] - 0s 13ms/step - loss: 21207.0488 - val_loss: 7.4180 - lr: 0.0010\n",
            "Epoch 39/500\n",
            "37/37 [==============================] - 0s 13ms/step - loss: 22286.8848 - val_loss: 7.9368 - lr: 0.0010\n",
            "Epoch 40/500\n",
            "37/37 [==============================] - 0s 13ms/step - loss: 20785.8320 - val_loss: 7.7103 - lr: 0.0010\n",
            "Epoch 41/500\n",
            "37/37 [==============================] - 0s 13ms/step - loss: 19361.6504 - val_loss: 8.3284 - lr: 0.0010\n",
            "Epoch 42/500\n",
            "37/37 [==============================] - 0s 13ms/step - loss: 21519.0410 - val_loss: 7.8011 - lr: 0.0010\n",
            "Epoch 43/500\n",
            "37/37 [==============================] - 0s 13ms/step - loss: 19599.9531 - val_loss: 7.4252 - lr: 0.0010\n",
            "Epoch 44/500\n",
            "37/37 [==============================] - 0s 13ms/step - loss: 20793.9727 - val_loss: 7.9179 - lr: 0.0010\n",
            "Epoch 45/500\n",
            "37/37 [==============================] - 0s 13ms/step - loss: 19080.6602 - val_loss: 6.0924 - lr: 0.0010\n",
            "Epoch 46/500\n",
            "37/37 [==============================] - 0s 13ms/step - loss: 20309.4570 - val_loss: 7.1580 - lr: 0.0010\n",
            "Epoch 47/500\n",
            "37/37 [==============================] - 0s 13ms/step - loss: 15384.0166 - val_loss: 8.9077 - lr: 0.0010\n",
            "Epoch 48/500\n",
            "37/37 [==============================] - 0s 13ms/step - loss: 16940.6484 - val_loss: 7.4834 - lr: 0.0010\n",
            "Epoch 49/500\n",
            "37/37 [==============================] - 0s 13ms/step - loss: 18576.6602 - val_loss: 8.0248 - lr: 0.0010\n",
            "Epoch 50/500\n",
            "37/37 [==============================] - 0s 13ms/step - loss: 17310.7441 - val_loss: 8.7145 - lr: 0.0010\n",
            "Epoch 51/500\n",
            "37/37 [==============================] - 0s 13ms/step - loss: 13916.1982 - val_loss: 8.3342 - lr: 0.0010\n",
            "Epoch 52/500\n",
            "37/37 [==============================] - 0s 13ms/step - loss: 18984.0820 - val_loss: 8.2019 - lr: 0.0010\n",
            "Epoch 53/500\n",
            "37/37 [==============================] - 0s 13ms/step - loss: 15026.0254 - val_loss: 8.3202 - lr: 0.0010\n",
            "Epoch 54/500\n",
            "37/37 [==============================] - 0s 13ms/step - loss: 13378.9961 - val_loss: 8.5642 - lr: 0.0010\n",
            "Epoch 55/500\n",
            "37/37 [==============================] - 0s 13ms/step - loss: 15433.2461 - val_loss: 8.5638 - lr: 0.0010\n",
            "Epoch 56/500\n",
            "37/37 [==============================] - 0s 13ms/step - loss: 14204.5400 - val_loss: 7.9222 - lr: 0.0010\n",
            "Epoch 57/500\n",
            "37/37 [==============================] - 0s 13ms/step - loss: 13068.5029 - val_loss: 8.0940 - lr: 0.0010\n",
            "Epoch 58/500\n",
            "37/37 [==============================] - 0s 13ms/step - loss: 14353.7100 - val_loss: 8.5549 - lr: 0.0010\n",
            "Epoch 59/500\n",
            "37/37 [==============================] - 0s 13ms/step - loss: 11530.6504 - val_loss: 8.2114 - lr: 0.0010\n",
            "Epoch 60/500\n",
            "37/37 [==============================] - 0s 13ms/step - loss: 12146.5723 - val_loss: 8.6241 - lr: 0.0010\n",
            "Epoch 61/500\n",
            "37/37 [==============================] - 0s 13ms/step - loss: 12884.2012 - val_loss: 7.9907 - lr: 0.0010\n",
            "Epoch 62/500\n",
            "37/37 [==============================] - 0s 13ms/step - loss: 11347.2373 - val_loss: 8.2686 - lr: 0.0010\n",
            "Epoch 63/500\n",
            "37/37 [==============================] - 1s 14ms/step - loss: 10661.1748 - val_loss: 8.3108 - lr: 0.0010\n",
            "Epoch 64/500\n",
            "37/37 [==============================] - 0s 13ms/step - loss: 10306.1475 - val_loss: 8.4363 - lr: 0.0010\n",
            "Epoch 65/500\n",
            "37/37 [==============================] - 0s 13ms/step - loss: 11510.9453 - val_loss: 8.2336 - lr: 0.0010\n",
            "Epoch 66/500\n",
            "37/37 [==============================] - 0s 13ms/step - loss: 11242.3447 - val_loss: 7.4123 - lr: 0.0010\n",
            "Epoch 67/500\n",
            "37/37 [==============================] - 0s 13ms/step - loss: 9202.4795 - val_loss: 8.2460 - lr: 0.0010\n",
            "Epoch 68/500\n",
            "37/37 [==============================] - 0s 13ms/step - loss: 8740.6328 - val_loss: 8.0359 - lr: 0.0010\n",
            "Epoch 69/500\n",
            "37/37 [==============================] - 0s 13ms/step - loss: 10676.7822 - val_loss: 7.8006 - lr: 0.0010\n",
            "Epoch 70/500\n",
            "37/37 [==============================] - 0s 13ms/step - loss: 9587.5928 - val_loss: 8.1241 - lr: 0.0010\n",
            "Epoch 71/500\n",
            "37/37 [==============================] - 0s 13ms/step - loss: 9437.7246 - val_loss: 7.7807 - lr: 0.0010\n",
            "Epoch 72/500\n",
            "37/37 [==============================] - 0s 13ms/step - loss: 9701.1260 - val_loss: 7.6427 - lr: 0.0010\n",
            "Epoch 73/500\n",
            "37/37 [==============================] - 0s 13ms/step - loss: 9876.2949 - val_loss: 7.7751 - lr: 0.0010\n",
            "Epoch 74/500\n",
            "37/37 [==============================] - 0s 13ms/step - loss: 8274.6855 - val_loss: 7.9310 - lr: 0.0010\n",
            "Epoch 75/500\n",
            "37/37 [==============================] - 0s 13ms/step - loss: 8907.5400 - val_loss: 7.9323 - lr: 0.0010\n",
            "Epoch 76/500\n",
            "37/37 [==============================] - 0s 13ms/step - loss: 8298.0928 - val_loss: 7.9988 - lr: 0.0010\n",
            "Epoch 77/500\n",
            "37/37 [==============================] - 0s 13ms/step - loss: 7561.0884 - val_loss: 8.0379 - lr: 0.0010\n",
            "Epoch 78/500\n",
            "37/37 [==============================] - 0s 13ms/step - loss: 8076.1177 - val_loss: 7.3809 - lr: 0.0010\n",
            "Epoch 79/500\n",
            "37/37 [==============================] - 0s 13ms/step - loss: 8249.7822 - val_loss: 7.7473 - lr: 0.0010\n",
            "Epoch 80/500\n",
            "37/37 [==============================] - 0s 13ms/step - loss: 7334.4971 - val_loss: 8.8051 - lr: 0.0010\n",
            "Epoch 81/500\n",
            "37/37 [==============================] - 0s 13ms/step - loss: 6780.8735 - val_loss: 7.9396 - lr: 0.0010\n",
            "Epoch 82/500\n",
            "37/37 [==============================] - 0s 13ms/step - loss: 7750.9067 - val_loss: 7.3523 - lr: 0.0010\n",
            "Epoch 83/500\n",
            "37/37 [==============================] - 0s 13ms/step - loss: 6624.3667 - val_loss: 7.3766 - lr: 0.0010\n",
            "Epoch 84/500\n",
            "37/37 [==============================] - 0s 13ms/step - loss: 7260.5537 - val_loss: 7.3885 - lr: 0.0010\n",
            "Epoch 85/500\n",
            "37/37 [==============================] - 0s 13ms/step - loss: 7656.7583 - val_loss: 7.6081 - lr: 0.0010\n",
            "Epoch 86/500\n",
            "37/37 [==============================] - 0s 13ms/step - loss: 6209.0063 - val_loss: 7.8373 - lr: 0.0010\n",
            "Epoch 87/500\n",
            "37/37 [==============================] - 0s 13ms/step - loss: 6366.2002 - val_loss: 7.8475 - lr: 0.0010\n",
            "Epoch 88/500\n",
            "37/37 [==============================] - 0s 13ms/step - loss: 5491.3735 - val_loss: 8.0818 - lr: 0.0010\n",
            "Epoch 89/500\n",
            "37/37 [==============================] - 0s 13ms/step - loss: 5398.7075 - val_loss: 7.6868 - lr: 0.0010\n",
            "Epoch 90/500\n",
            "37/37 [==============================] - 0s 13ms/step - loss: 5700.9619 - val_loss: 7.6144 - lr: 0.0010\n",
            "Epoch 91/500\n",
            "37/37 [==============================] - 0s 13ms/step - loss: 5973.7417 - val_loss: 7.3518 - lr: 0.0010\n",
            "Epoch 92/500\n",
            "37/37 [==============================] - 0s 13ms/step - loss: 7614.5488 - val_loss: 7.5079 - lr: 0.0010\n",
            "Epoch 93/500\n",
            "37/37 [==============================] - 0s 13ms/step - loss: 5366.1831 - val_loss: 7.0146 - lr: 0.0010\n",
            "Epoch 94/500\n",
            "37/37 [==============================] - 0s 13ms/step - loss: 5322.7148 - val_loss: 7.3450 - lr: 0.0010\n",
            "Epoch 95/500\n",
            "37/37 [==============================] - 0s 13ms/step - loss: 5031.9526 - val_loss: 6.1402 - lr: 0.0010\n",
            "CPU times: user 1min 27s, sys: 3.71 s, total: 1min 31s\n",
            "Wall time: 49.4 s\n"
          ]
        }
      ],
      "source": [
        "%%time\n",
        "# Entrenamiento del modelo\n",
        "history = model.fit([user_ids_train, item_ids_train], ratings_train,\n",
        "    epochs=500,validation_data=([user_ids_val, item_ids_val], ratings_val),\n",
        "    batch_size=80000,verbose=1,callbacks=[early_stop, reduce_lr])"
      ]
    },
    {
      "cell_type": "code",
      "execution_count": null,
      "metadata": {
        "colab": {
          "base_uri": "https://localhost:8080/"
        },
        "id": "Rhuwylfbf26k",
        "outputId": "7743226f-1536-40fa-e730-696753eb24ec"
      },
      "outputs": [
        {
          "output_type": "stream",
          "name": "stdout",
          "text": [
            "30004/30004 [==============================] - 44s 1ms/step\n"
          ]
        }
      ],
      "source": [
        "# Evaluar el modelo\n",
        "y_true = ratings_test\n",
        "predictions = model.predict([user_ids_test, item_ids_test])"
      ]
    },
    {
      "cell_type": "code",
      "execution_count": null,
      "metadata": {
        "id": "CmYiE_PhkU66",
        "colab": {
          "base_uri": "https://localhost:8080/"
        },
        "outputId": "03da995e-0f97-4e05-d2be-8b89225bd93c"
      },
      "outputs": [
        {
          "output_type": "stream",
          "name": "stdout",
          "text": [
            "MSE: 6.132688302386176\n",
            "RMSE: 2.476426518672859\n",
            "MAE: 2.085221426289354\n",
            "MAPE: 54.12101254439334%\n"
          ]
        }
      ],
      "source": [
        "# MSE y RMSE\n",
        "mse = mean_squared_error(y_true, predictions)\n",
        "rmse = np.sqrt(mse)\n",
        "\n",
        "# MAE\n",
        "mae = mean_absolute_error(y_true, predictions)\n",
        "\n",
        "# Funciones MAPE\n",
        "def mean_absolute_percentage_error(y_true, y_pred):\n",
        "    y_true, y_pred = np.array(y_true), np.array(y_pred)\n",
        "    non_zero_idx = y_true != 0  # Para evitar divisiones por cero\n",
        "    return np.mean(np.abs((y_true[non_zero_idx] - y_pred[non_zero_idx]) / y_true[non_zero_idx])) * 100\n",
        "\n",
        "def compute_mape_by_batch(y_true, predictions, batch_size=50000):\n",
        "    mape_sum = 0\n",
        "    num_batches = int(np.ceil(len(y_true) / batch_size))\n",
        "\n",
        "    for i in range(num_batches):\n",
        "        start_idx = i * batch_size\n",
        "        end_idx = start_idx + batch_size\n",
        "\n",
        "        batch_y_true = y_true[start_idx:end_idx]\n",
        "        batch_predictions = predictions[start_idx:end_idx]\n",
        "\n",
        "        mape_sum += mean_absolute_percentage_error(batch_y_true, batch_predictions)\n",
        "\n",
        "    return mape_sum / num_batches\n",
        "\n",
        "# Luego llamas a la función\n",
        "mape = compute_mape_by_batch(y_true, predictions)\n",
        "\n",
        "print(f'MSE: {mse}')\n",
        "print(f'RMSE: {rmse}')\n",
        "print(f'MAE: {mae}')\n",
        "print(f'MAPE: {mape}%')"
      ]
    },
    {
      "cell_type": "markdown",
      "source": [
        "# Recomendación"
      ],
      "metadata": {
        "id": "3cpno7_qiX_J"
      }
    },
    {
      "cell_type": "code",
      "source": [
        "# Seleccionar un usuario al azar del conjunto de prueba\n",
        "usuario_id_test_encoded = random.choice(user_ids_test)\n",
        "\n",
        "# Decodificar el ID del usuario para obtener el ID original\n",
        "usuario_id_test = reviewerID_encoder.inverse_transform([usuario_id_test_encoded])[0]\n",
        "\n",
        "# Identificar los ítems que el usuario ha calificado en el conjunto de prueba\n",
        "indices_usuario = np.where(user_ids_test == usuario_id_test_encoded)[0]\n",
        "items_calificados_test_encoded = item_ids_test[indices_usuario]\n",
        "calificaciones_reales_test = ratings_test[indices_usuario]\n",
        "\n",
        "# Predecir las calificaciones para estos ítems\n",
        "calificaciones_predichas = model.predict([np.array([usuario_id_test_encoded] * len(items_calificados_test_encoded)), items_calificados_test_encoded])\n",
        "\n",
        "# Decodificar los ítems para obtener los ID originales\n",
        "items_calificados_test = asin_encoder.inverse_transform(items_calificados_test_encoded)\n",
        "\n",
        "# Comparar las calificaciones predichas con las reales\n",
        "comparacion = list(zip(items_calificados_test, calificaciones_reales_test, calificaciones_predichas.flatten()))\n",
        "\n",
        "# Mostrar las comparaciones\n",
        "print(f\"Recomendaciones para el usuario {usuario_id_test}:\")\n",
        "for item, real, predicha in comparacion:\n",
        "    print(f\"Ítem: {item}, Calificación Real: {real}, Calificación Predicha: {predicha}\")"
      ],
      "metadata": {
        "id": "DVbVdWePiZu2",
        "colab": {
          "base_uri": "https://localhost:8080/"
        },
        "outputId": "81461b4a-9848-48ea-9c2b-ca0b8589a896"
      },
      "execution_count": null,
      "outputs": [
        {
          "output_type": "stream",
          "name": "stdout",
          "text": [
            "1/1 [==============================] - 0s 23ms/step\n",
            "Recomendaciones para el usuario A31012XGG8N19J:\n",
            "Ítem: B00BYAVMS4, Calificación Real: 4.0, Calificación Predicha: 2.729769468307495\n"
          ]
        }
      ]
    },
    {
      "cell_type": "code",
      "source": [
        "# Seleccionar un usuario al azar del conjunto de prueba\n",
        "usuario_id_test_encoded = random.choice(user_ids_test)\n",
        "\n",
        "# Decodificar el ID del usuario para obtener el ID original\n",
        "usuario_id = reviewerID_encoder.inverse_transform([usuario_id_test_encoded])[0]\n",
        "\n",
        "# Lista de todos los ítems únicos en el dataset\n",
        "items_unicos = np.unique(data['asin'].values)\n",
        "\n",
        "# Ítems que el usuario ya ha calificado\n",
        "items_calificados = data[data['reviewerID_encoded'] == usuario_id_test_encoded]['asin'].tolist()\n",
        "\n",
        "# Ítems para predecir\n",
        "items_a_predecir = [item for item in items_unicos if item not in items_calificados]\n",
        "\n",
        "# Convierte los ítems a su representación codificada\n",
        "items_a_predecir_encoded = asin_encoder.transform(items_a_predecir)\n",
        "\n",
        "# Predecir la calificación para cada ítem no calificado\n",
        "predicciones = model.predict([np.array([usuario_id_test_encoded] * len(items_a_predecir_encoded)), items_a_predecir_encoded])\n",
        "\n",
        "# Emparejar cada ítem con su predicción\n",
        "items_predicciones = list(zip(items_a_predecir, predicciones.flatten()))\n",
        "\n",
        "# Ordenar por la calificación predicha más alta\n",
        "items_recomendados = sorted(items_predicciones, key=lambda x: x[1], reverse=True)\n",
        "\n",
        "# Tomar los top N recomendaciones\n",
        "top_n = 5\n",
        "top_recomendaciones = items_recomendados[:top_n]\n",
        "\n",
        "# Imprimir las recomendaciones\n",
        "print(f\"Recomendaciones para el usuario {usuario_id}:\")\n",
        "for item, calificacion in top_recomendaciones:\n",
        "    print(f\"Ítem: {item}, Calificación Predicha: {calificacion}\")"
      ],
      "metadata": {
        "id": "yuFHwPuoiZ_7",
        "colab": {
          "base_uri": "https://localhost:8080/"
        },
        "outputId": "c01cc21e-3ede-4be1-bd0d-654e21abfb85"
      },
      "execution_count": null,
      "outputs": [
        {
          "output_type": "stream",
          "name": "stdout",
          "text": [
            "4814/4814 [==============================] - 7s 1ms/step\n",
            "Recomendaciones para el usuario A34PB0STDMNX7V:\n",
            "Ítem: 0871167042, Calificación Predicha: 2.882150888442993\n",
            "Ítem: 1519588135, Calificación Predicha: 2.882150411605835\n",
            "Ítem: 1579652956, Calificación Predicha: 2.8821496963500977\n",
            "Ítem: 1936023857, Calificación Predicha: 2.8821492195129395\n",
            "Ítem: 5120053017, Calificación Predicha: 2.882148265838623\n"
          ]
        }
      ]
    },
    {
      "cell_type": "markdown",
      "metadata": {
        "id": "WTOAZeGrujrU"
      },
      "source": [
        "# Modelo de Filtrado Colaborativo usando Red Neuronal Multicapa y Embedding con Keras:\n",
        "\n",
        "Otra enfoque popular para filtrado colaborativo es utilizar redes neuronales multicapa, que esencialmente aprenden características no lineales de los datos. Vamos a construir un modelo que fusiona los embeddings de usuarios y artículos (por ejemplo, películas) en una red neuronal densa.\n",
        "\n",
        "Este enfoque, que combina embeddings y redes neuronales multicapa, puede capturar interacciones más complejas y no lineales entre usuarios y artículos. Sin embargo, es crucial prestar atención al sobreajuste y asegurarse de que el modelo no esté simplemente memorizando los datos. Por lo tanto, es recomendable emplear técnicas de regularización, ajustar hiperparámetros y validar el rendimiento con un conjunto de datos de validación."
      ]
    },
    {
      "cell_type": "markdown",
      "metadata": {
        "id": "i3Rzzhtfl7nK"
      },
      "source": [
        "Funcionamiento:\n",
        "\n",
        "Combina lo mejor de ambos mundos. Primero, se utilizan embeddings para convertir ítems y usuarios en representaciones vectoriales densas. Luego, estas representaciones se pasan a través de una red neuronal para hacer la predicción.\n",
        "\n",
        "El proceso generalmente comienza con capas de embedding que convierten identificadores de usuarios e ítems en vectores. Estos vectores luego se pasan a través de capas densas para obtener la predicción final.\n",
        "\n",
        "Ventajas:\n",
        "\n",
        "Capacidad de capturar patrones subyacentes en los datos mediante embeddings y modelar interacciones no lineales mediante la red neuronal.\n",
        "\n",
        "Flexibilidad para incorporar características adicionales.\n",
        "\n",
        "Potencialmente más preciso que cualquiera de los otros dos métodos por separado.\n",
        "\n",
        "Desventajas:\n",
        "\n",
        "Mayor complejidad en el modelado y entrenamiento.\n",
        "\n",
        "Mayor costo computacional.\n",
        "\n",
        "Requiere un ajuste más cuidadoso y riesgo de sobreajuste si no se gestiona adecuadamente."
      ]
    },
    {
      "cell_type": "markdown",
      "metadata": {
        "id": "uY_n_5u4ymE8"
      },
      "source": [
        "Regularización L2: Agregar una regularización L2 a las capas de embedding y densas para prevenir el sobreajuste.\n",
        "\n",
        "Early Stopping: Añadir una callback de early stopping para detener el entrenamiento cuando no haya mejora en el conjunto de validación durante un cierto número de épocas.\n",
        "\n",
        "Ajuste de la tasa de aprendizaje: Utilizar la callback ReduceLROnPlateau para reducir la tasa de aprendizaje cuando no haya mejora en el conjunto de validación.\n",
        "\n",
        "Métricas adicionales: Puedes monitorizar otras métricas como el error absoluto medio (MAE) durante el entrenamiento."
      ]
    },
    {
      "cell_type": "code",
      "execution_count": null,
      "metadata": {
        "id": "zVRB5utBuqzB"
      },
      "outputs": [],
      "source": [
        "# Convertir reviewerID y asin a índices numéricos secuenciales\n",
        "df['user_id'] = df['reviewerID'].astype('category').cat.codes.values\n",
        "df['item_id'] = df['asin'].astype('category').cat.codes.values\n",
        "\n",
        "# Número de usuarios e ítems\n",
        "n_users = df['user_id'].nunique()\n",
        "n_items = df['item_id'].nunique()\n",
        "\n",
        "# Hiperparámetros\n",
        "n_latent_factors = 50\n",
        "hidden_units = [128, 64]\n",
        "dropout_rate = 0.2\n",
        "l2_reg = 1e-4\n",
        "\n",
        "# Arquitectura del modelo con regularización L2\n",
        "user_embedding = Embedding(n_users, n_latent_factors, embeddings_regularizer=l2(l2_reg), name='user_embedding')(user_input)\n",
        "item_embedding = Embedding(n_items, n_latent_factors, embeddings_regularizer=l2(l2_reg), name='item_embedding')(item_input)\n",
        "\n",
        "user_vec = Flatten(name='flatten_users')(user_embedding)\n",
        "item_vec = Flatten(name='flatten_items')(item_embedding)\n",
        "concat = Concatenate()([user_vec, item_vec])\n",
        "dense = concat\n",
        "for units in hidden_units:\n",
        "    dense = Dense(units, activation='relu', kernel_regularizer=l2(l2_reg))(dense)\n",
        "    dense = Dropout(dropout_rate)(dense)\n",
        "output = Dense(1, kernel_regularizer=l2(l2_reg))(dense)\n",
        "model = Model(inputs=[user_input, item_input], outputs=output)\n",
        "\n",
        "model.compile(optimizer=Adam(0.001), loss='mean_squared_error', metrics=['mae'])"
      ]
    },
    {
      "cell_type": "code",
      "execution_count": null,
      "metadata": {
        "id": "3I7zFMJBjTZ7"
      },
      "outputs": [],
      "source": [
        "# Callbacks\n",
        "early_stop = EarlyStopping(monitor='val_loss', patience=50, restore_best_weights=True)\n",
        "reduce_lr = ReduceLROnPlateau(monitor='val_loss', factor=0.2, patience=50, min_lr=1e-5)"
      ]
    },
    {
      "cell_type": "code",
      "execution_count": null,
      "metadata": {
        "id": "XJfWiirYxHwk"
      },
      "outputs": [],
      "source": [
        "# Entrenamiento\n",
        "user_data = df['user_id'].values\n",
        "item_data = df['item_id'].values\n",
        "rating_data = df['overall'].values\n",
        "\n",
        "# División en entrenamiento y prueba\n",
        "(user_ids_temp, user_ids_test, item_ids_temp, item_ids_test, ratings_temp, ratings_test) = train_test_split(\n",
        "    user_ids, item_ids, ratings, test_size=0.2, random_state=42)\n",
        "\n",
        "# División del conjunto de entrenamiento en entrenamiento y validación\n",
        "(user_ids_train, user_ids_val, item_ids_train, item_ids_val, ratings_train, ratings_val) = train_test_split(\n",
        "    user_ids_temp, item_ids_temp, ratings_temp, test_size=0.25, random_state=42)  # 0.25 x 0.8 = 0.2"
      ]
    },
    {
      "cell_type": "code",
      "execution_count": null,
      "metadata": {
        "id": "oXQNam6Bf-dT",
        "colab": {
          "base_uri": "https://localhost:8080/"
        },
        "outputId": "2f1675f3-153f-4e45-9386-e11498ca358c"
      },
      "outputs": [
        {
          "output_type": "stream",
          "name": "stdout",
          "text": [
            "Epoch 1/500\n",
            "37/37 [==============================] - 4s 68ms/step - loss: 17.0289 - mae: 3.4740 - val_loss: 3.9407 - val_mae: 1.4895 - lr: 0.0010\n",
            "Epoch 2/500\n",
            "37/37 [==============================] - 2s 53ms/step - loss: 2.6716 - mae: 1.1048 - val_loss: 1.9001 - val_mae: 0.9009 - lr: 0.0010\n",
            "Epoch 3/500\n",
            "37/37 [==============================] - 2s 53ms/step - loss: 1.6994 - mae: 0.8407 - val_loss: 1.7714 - val_mae: 0.8650 - lr: 0.0010\n",
            "Epoch 4/500\n",
            "37/37 [==============================] - 2s 53ms/step - loss: 1.5077 - mae: 0.8039 - val_loss: 1.7259 - val_mae: 0.8695 - lr: 0.0010\n",
            "Epoch 5/500\n",
            "37/37 [==============================] - 2s 53ms/step - loss: 1.4136 - mae: 0.7921 - val_loss: 1.6788 - val_mae: 0.8676 - lr: 0.0010\n",
            "Epoch 6/500\n",
            "37/37 [==============================] - 2s 53ms/step - loss: 1.3435 - mae: 0.7817 - val_loss: 1.6380 - val_mae: 0.8622 - lr: 0.0010\n",
            "Epoch 7/500\n",
            "37/37 [==============================] - 2s 53ms/step - loss: 1.2928 - mae: 0.7736 - val_loss: 1.6055 - val_mae: 0.8600 - lr: 0.0010\n",
            "Epoch 8/500\n",
            "37/37 [==============================] - 2s 53ms/step - loss: 1.2475 - mae: 0.7647 - val_loss: 1.5888 - val_mae: 0.8590 - lr: 0.0010\n",
            "Epoch 9/500\n",
            "37/37 [==============================] - 2s 53ms/step - loss: 1.2108 - mae: 0.7562 - val_loss: 1.5644 - val_mae: 0.8543 - lr: 0.0010\n",
            "Epoch 10/500\n",
            "37/37 [==============================] - 2s 53ms/step - loss: 1.1834 - mae: 0.7496 - val_loss: 1.5435 - val_mae: 0.8494 - lr: 0.0010\n",
            "Epoch 11/500\n",
            "37/37 [==============================] - 2s 53ms/step - loss: 1.1658 - mae: 0.7453 - val_loss: 1.5373 - val_mae: 0.8471 - lr: 0.0010\n",
            "Epoch 12/500\n",
            "37/37 [==============================] - 2s 53ms/step - loss: 1.1377 - mae: 0.7363 - val_loss: 1.5355 - val_mae: 0.8484 - lr: 0.0010\n",
            "Epoch 13/500\n",
            "37/37 [==============================] - 2s 53ms/step - loss: 1.1142 - mae: 0.7291 - val_loss: 1.5171 - val_mae: 0.8436 - lr: 0.0010\n",
            "Epoch 14/500\n",
            "37/37 [==============================] - 2s 53ms/step - loss: 1.0966 - mae: 0.7244 - val_loss: 1.5092 - val_mae: 0.8402 - lr: 0.0010\n",
            "Epoch 15/500\n",
            "37/37 [==============================] - 2s 53ms/step - loss: 1.0837 - mae: 0.7188 - val_loss: 1.5065 - val_mae: 0.8359 - lr: 0.0010\n",
            "Epoch 16/500\n",
            "37/37 [==============================] - 2s 44ms/step - loss: 1.0652 - mae: 0.7121 - val_loss: 1.5078 - val_mae: 0.8402 - lr: 0.0010\n",
            "Epoch 17/500\n",
            "37/37 [==============================] - 2s 53ms/step - loss: 1.0403 - mae: 0.7030 - val_loss: 1.4983 - val_mae: 0.8357 - lr: 0.0010\n",
            "Epoch 18/500\n",
            "37/37 [==============================] - 2s 53ms/step - loss: 1.0245 - mae: 0.6972 - val_loss: 1.4907 - val_mae: 0.8340 - lr: 0.0010\n",
            "Epoch 19/500\n",
            "37/37 [==============================] - 2s 53ms/step - loss: 1.0134 - mae: 0.6922 - val_loss: 1.4887 - val_mae: 0.8292 - lr: 0.0010\n",
            "Epoch 20/500\n",
            "37/37 [==============================] - 2s 44ms/step - loss: 1.0008 - mae: 0.6870 - val_loss: 1.4947 - val_mae: 0.8296 - lr: 0.0010\n",
            "Epoch 21/500\n",
            "37/37 [==============================] - 2s 44ms/step - loss: 0.9800 - mae: 0.6787 - val_loss: 1.4918 - val_mae: 0.8294 - lr: 0.0010\n",
            "Epoch 22/500\n",
            "37/37 [==============================] - 2s 53ms/step - loss: 0.9747 - mae: 0.6761 - val_loss: 1.4866 - val_mae: 0.8279 - lr: 0.0010\n",
            "Epoch 23/500\n",
            "37/37 [==============================] - 2s 44ms/step - loss: 0.9738 - mae: 0.6737 - val_loss: 1.4952 - val_mae: 0.8248 - lr: 0.0010\n",
            "Epoch 24/500\n",
            "37/37 [==============================] - 2s 44ms/step - loss: 0.9597 - mae: 0.6671 - val_loss: 1.5030 - val_mae: 0.8339 - lr: 0.0010\n",
            "Epoch 25/500\n",
            "37/37 [==============================] - 2s 44ms/step - loss: 0.9422 - mae: 0.6613 - val_loss: 1.5006 - val_mae: 0.8304 - lr: 0.0010\n",
            "Epoch 26/500\n",
            "37/37 [==============================] - 2s 44ms/step - loss: 0.9336 - mae: 0.6581 - val_loss: 1.4995 - val_mae: 0.8253 - lr: 0.0010\n",
            "Epoch 27/500\n",
            "37/37 [==============================] - 2s 44ms/step - loss: 0.9245 - mae: 0.6537 - val_loss: 1.5060 - val_mae: 0.8303 - lr: 0.0010\n",
            "Epoch 28/500\n",
            "37/37 [==============================] - 2s 44ms/step - loss: 0.9141 - mae: 0.6493 - val_loss: 1.5069 - val_mae: 0.8321 - lr: 0.0010\n",
            "Epoch 29/500\n",
            "37/37 [==============================] - 2s 44ms/step - loss: 0.9108 - mae: 0.6482 - val_loss: 1.5072 - val_mae: 0.8247 - lr: 0.0010\n",
            "Epoch 30/500\n",
            "37/37 [==============================] - 2s 44ms/step - loss: 0.9063 - mae: 0.6456 - val_loss: 1.5096 - val_mae: 0.8276 - lr: 0.0010\n",
            "Epoch 31/500\n",
            "37/37 [==============================] - 2s 44ms/step - loss: 0.9004 - mae: 0.6427 - val_loss: 1.5120 - val_mae: 0.8277 - lr: 0.0010\n",
            "Epoch 32/500\n",
            "37/37 [==============================] - 2s 44ms/step - loss: 0.8945 - mae: 0.6400 - val_loss: 1.5118 - val_mae: 0.8285 - lr: 0.0010\n",
            "Epoch 33/500\n",
            "37/37 [==============================] - 2s 44ms/step - loss: 0.8877 - mae: 0.6375 - val_loss: 1.5130 - val_mae: 0.8281 - lr: 0.0010\n",
            "Epoch 34/500\n",
            "37/37 [==============================] - 2s 44ms/step - loss: 0.8831 - mae: 0.6356 - val_loss: 1.5092 - val_mae: 0.8248 - lr: 0.0010\n",
            "Epoch 35/500\n",
            "37/37 [==============================] - 2s 44ms/step - loss: 0.8801 - mae: 0.6347 - val_loss: 1.5107 - val_mae: 0.8294 - lr: 0.0010\n",
            "Epoch 36/500\n",
            "37/37 [==============================] - 2s 44ms/step - loss: 0.8751 - mae: 0.6330 - val_loss: 1.5160 - val_mae: 0.8264 - lr: 0.0010\n",
            "Epoch 37/500\n",
            "37/37 [==============================] - 2s 44ms/step - loss: 0.8696 - mae: 0.6309 - val_loss: 1.5124 - val_mae: 0.8264 - lr: 0.0010\n",
            "Epoch 38/500\n",
            "37/37 [==============================] - 2s 44ms/step - loss: 0.8653 - mae: 0.6296 - val_loss: 1.5101 - val_mae: 0.8255 - lr: 0.0010\n",
            "Epoch 39/500\n",
            "37/37 [==============================] - 2s 44ms/step - loss: 0.8622 - mae: 0.6284 - val_loss: 1.5108 - val_mae: 0.8278 - lr: 0.0010\n",
            "Epoch 40/500\n",
            "37/37 [==============================] - 2s 44ms/step - loss: 0.8587 - mae: 0.6272 - val_loss: 1.5123 - val_mae: 0.8235 - lr: 0.0010\n",
            "Epoch 41/500\n",
            "37/37 [==============================] - 2s 44ms/step - loss: 0.8542 - mae: 0.6254 - val_loss: 1.5112 - val_mae: 0.8275 - lr: 0.0010\n",
            "Epoch 42/500\n",
            "37/37 [==============================] - 2s 44ms/step - loss: 0.8504 - mae: 0.6242 - val_loss: 1.5081 - val_mae: 0.8298 - lr: 0.0010\n",
            "Epoch 43/500\n",
            "37/37 [==============================] - 2s 44ms/step - loss: 0.8483 - mae: 0.6234 - val_loss: 1.5077 - val_mae: 0.8294 - lr: 0.0010\n",
            "Epoch 44/500\n",
            "37/37 [==============================] - 2s 44ms/step - loss: 0.8458 - mae: 0.6221 - val_loss: 1.5088 - val_mae: 0.8250 - lr: 0.0010\n",
            "Epoch 45/500\n",
            "37/37 [==============================] - 2s 44ms/step - loss: 0.8418 - mae: 0.6204 - val_loss: 1.5074 - val_mae: 0.8258 - lr: 0.0010\n",
            "Epoch 46/500\n",
            "37/37 [==============================] - 2s 44ms/step - loss: 0.8375 - mae: 0.6186 - val_loss: 1.5055 - val_mae: 0.8274 - lr: 0.0010\n",
            "Epoch 47/500\n",
            "37/37 [==============================] - 2s 44ms/step - loss: 0.8359 - mae: 0.6177 - val_loss: 1.5079 - val_mae: 0.8228 - lr: 0.0010\n",
            "Epoch 48/500\n",
            "37/37 [==============================] - 2s 44ms/step - loss: 0.8328 - mae: 0.6158 - val_loss: 1.5079 - val_mae: 0.8253 - lr: 0.0010\n",
            "Epoch 49/500\n",
            "37/37 [==============================] - 2s 44ms/step - loss: 0.8289 - mae: 0.6142 - val_loss: 1.5096 - val_mae: 0.8185 - lr: 0.0010\n",
            "Epoch 50/500\n",
            "37/37 [==============================] - 2s 44ms/step - loss: 0.8256 - mae: 0.6123 - val_loss: 1.5044 - val_mae: 0.8223 - lr: 0.0010\n",
            "Epoch 51/500\n",
            "37/37 [==============================] - 2s 44ms/step - loss: 0.8203 - mae: 0.6101 - val_loss: 1.5084 - val_mae: 0.8191 - lr: 0.0010\n",
            "Epoch 52/500\n",
            "37/37 [==============================] - 2s 44ms/step - loss: 0.8153 - mae: 0.6073 - val_loss: 1.5043 - val_mae: 0.8221 - lr: 0.0010\n",
            "Epoch 53/500\n",
            "37/37 [==============================] - 2s 44ms/step - loss: 0.8124 - mae: 0.6062 - val_loss: 1.5071 - val_mae: 0.8163 - lr: 0.0010\n",
            "Epoch 54/500\n",
            "37/37 [==============================] - 2s 44ms/step - loss: 0.8098 - mae: 0.6044 - val_loss: 1.5054 - val_mae: 0.8178 - lr: 0.0010\n",
            "Epoch 55/500\n",
            "37/37 [==============================] - 2s 44ms/step - loss: 0.8054 - mae: 0.6026 - val_loss: 1.5030 - val_mae: 0.8123 - lr: 0.0010\n",
            "Epoch 56/500\n",
            "37/37 [==============================] - 2s 44ms/step - loss: 0.7999 - mae: 0.5995 - val_loss: 1.5020 - val_mae: 0.8120 - lr: 0.0010\n",
            "Epoch 57/500\n",
            "37/37 [==============================] - 2s 44ms/step - loss: 0.7960 - mae: 0.5974 - val_loss: 1.5040 - val_mae: 0.8069 - lr: 0.0010\n",
            "Epoch 58/500\n",
            "37/37 [==============================] - 2s 44ms/step - loss: 0.7922 - mae: 0.5947 - val_loss: 1.4948 - val_mae: 0.8106 - lr: 0.0010\n",
            "Epoch 59/500\n",
            "37/37 [==============================] - 2s 44ms/step - loss: 0.7905 - mae: 0.5931 - val_loss: 1.4989 - val_mae: 0.8123 - lr: 0.0010\n",
            "Epoch 60/500\n",
            "37/37 [==============================] - 2s 44ms/step - loss: 0.7879 - mae: 0.5913 - val_loss: 1.5026 - val_mae: 0.8064 - lr: 0.0010\n",
            "Epoch 61/500\n",
            "37/37 [==============================] - 2s 44ms/step - loss: 0.7821 - mae: 0.5878 - val_loss: 1.5078 - val_mae: 0.7994 - lr: 0.0010\n",
            "Epoch 62/500\n",
            "37/37 [==============================] - 2s 44ms/step - loss: 0.7760 - mae: 0.5846 - val_loss: 1.5036 - val_mae: 0.8035 - lr: 0.0010\n",
            "Epoch 63/500\n",
            "37/37 [==============================] - 2s 44ms/step - loss: 0.7698 - mae: 0.5816 - val_loss: 1.5076 - val_mae: 0.8024 - lr: 0.0010\n",
            "Epoch 64/500\n",
            "37/37 [==============================] - 2s 44ms/step - loss: 0.7643 - mae: 0.5783 - val_loss: 1.5082 - val_mae: 0.7987 - lr: 0.0010\n",
            "Epoch 65/500\n",
            "37/37 [==============================] - 2s 44ms/step - loss: 0.7616 - mae: 0.5755 - val_loss: 1.5181 - val_mae: 0.7917 - lr: 0.0010\n",
            "Epoch 66/500\n",
            "37/37 [==============================] - 2s 44ms/step - loss: 0.7600 - mae: 0.5727 - val_loss: 1.5182 - val_mae: 0.7957 - lr: 0.0010\n",
            "Epoch 67/500\n",
            "37/37 [==============================] - 2s 44ms/step - loss: 0.7592 - mae: 0.5700 - val_loss: 1.5239 - val_mae: 0.7948 - lr: 0.0010\n",
            "Epoch 68/500\n",
            "37/37 [==============================] - 2s 44ms/step - loss: 0.7548 - mae: 0.5659 - val_loss: 1.5359 - val_mae: 0.7921 - lr: 0.0010\n",
            "Epoch 69/500\n",
            "37/37 [==============================] - 2s 44ms/step - loss: 0.7538 - mae: 0.5630 - val_loss: 1.5388 - val_mae: 0.7878 - lr: 0.0010\n",
            "Epoch 70/500\n",
            "37/37 [==============================] - 2s 44ms/step - loss: 0.7509 - mae: 0.5599 - val_loss: 1.5519 - val_mae: 0.7934 - lr: 0.0010\n",
            "Epoch 71/500\n",
            "37/37 [==============================] - 2s 44ms/step - loss: 0.7463 - mae: 0.5559 - val_loss: 1.5646 - val_mae: 0.7864 - lr: 0.0010\n",
            "Epoch 72/500\n",
            "37/37 [==============================] - 2s 55ms/step - loss: 0.7427 - mae: 0.5529 - val_loss: 1.5643 - val_mae: 0.7916 - lr: 0.0010\n",
            "CPU times: user 2min 11s, sys: 8.14 s, total: 2min 19s\n",
            "Wall time: 2min 5s\n"
          ]
        }
      ],
      "source": [
        "%%time\n",
        "history = model.fit([user_ids_train, item_ids_train], ratings_train,\n",
        "                    epochs=500,validation_data=([user_ids_val, item_ids_val], ratings_val),\n",
        "                    batch_size=80000,verbose=1,callbacks=[early_stop, reduce_lr])"
      ]
    },
    {
      "cell_type": "code",
      "execution_count": null,
      "metadata": {
        "id": "2Off5YI9f-_T",
        "colab": {
          "base_uri": "https://localhost:8080/"
        },
        "outputId": "74351e99-7df1-4fac-ed59-0a9b8ab84d63"
      },
      "outputs": [
        {
          "output_type": "stream",
          "name": "stdout",
          "text": [
            "30004/30004 [==============================] - 44s 1ms/step\n"
          ]
        }
      ],
      "source": [
        "# Predicciones\n",
        "y_true = ratings_test\n",
        "predictions = model.predict([user_ids_test, item_ids_test])"
      ]
    },
    {
      "cell_type": "code",
      "execution_count": null,
      "metadata": {
        "id": "w1BY-Sd0xJtc",
        "colab": {
          "base_uri": "https://localhost:8080/"
        },
        "outputId": "460c0a07-a4d2-4d16-c83c-80c424b9122c"
      },
      "outputs": [
        {
          "output_type": "stream",
          "name": "stdout",
          "text": [
            "MSE: 1.3112889991888645\n",
            "RMSE: 1.1451152776855544\n",
            "MAE: 0.8290398755014502\n",
            "MAPE: 40.870565809235735%\n"
          ]
        }
      ],
      "source": [
        "# MSE y RMSE\n",
        "mse = mean_squared_error(y_true, predictions)\n",
        "rmse = np.sqrt(mse)\n",
        "\n",
        "# MAE\n",
        "mae = mean_absolute_error(y_true, predictions)\n",
        "\n",
        "# MAPE\n",
        "def mean_absolute_percentage_error(y_true, y_pred):\n",
        "    y_true, y_pred = np.array(y_true), np.array(y_pred)\n",
        "    non_zero_idx = y_true != 0  # Para evitar divisiones por cero\n",
        "    return np.mean(np.abs((y_true[non_zero_idx] - y_pred[non_zero_idx]) / y_true[non_zero_idx])) * 100\n",
        "\n",
        "def compute_mape_by_batch(y_true, predictions, batch_size=50000):\n",
        "    mape_sum = 0\n",
        "    num_batches = int(np.ceil(len(y_true) / batch_size))\n",
        "\n",
        "    for i in range(num_batches):\n",
        "        start_idx = i * batch_size\n",
        "        end_idx = start_idx + batch_size\n",
        "\n",
        "        batch_y_true = y_true[start_idx:end_idx]\n",
        "        batch_predictions = predictions[start_idx:end_idx]\n",
        "\n",
        "        mape_sum += mean_absolute_percentage_error(batch_y_true, batch_predictions)\n",
        "\n",
        "    return mape_sum / num_batches\n",
        "\n",
        "# Luego llamas a la función\n",
        "mape = compute_mape_by_batch(y_true, predictions)\n",
        "\n",
        "print(f'MSE: {mse}')\n",
        "print(f'RMSE: {rmse}')\n",
        "print(f'MAE: {mae}')\n",
        "print(f'MAPE: {mape}%')"
      ]
    },
    {
      "cell_type": "markdown",
      "source": [
        "# Recomendación"
      ],
      "metadata": {
        "id": "UzpnhZ4Lixf6"
      }
    },
    {
      "cell_type": "code",
      "source": [
        "# Seleccionar un usuario al azar del conjunto de prueba\n",
        "usuario_id_test_encoded = random.choice(user_ids_test)\n",
        "\n",
        "# Decodificar el ID del usuario para obtener el ID original\n",
        "usuario_id_test = reviewerID_encoder.inverse_transform([usuario_id_test_encoded])[0]\n",
        "\n",
        "# Identificar los ítems que el usuario ha calificado en el conjunto de prueba\n",
        "indices_usuario = np.where(user_ids_test == usuario_id_test_encoded)[0]\n",
        "items_calificados_test_encoded = item_ids_test[indices_usuario]\n",
        "calificaciones_reales_test = ratings_test[indices_usuario]\n",
        "\n",
        "# Predecir las calificaciones para estos ítems\n",
        "calificaciones_predichas = model.predict([np.array([usuario_id_test_encoded] * len(items_calificados_test_encoded)), items_calificados_test_encoded])\n",
        "\n",
        "# Decodificar los ítems para obtener los ID originales\n",
        "items_calificados_test = asin_encoder.inverse_transform(items_calificados_test_encoded)\n",
        "\n",
        "# Comparar las calificaciones predichas con las reales\n",
        "comparacion = list(zip(items_calificados_test, calificaciones_reales_test, calificaciones_predichas.flatten()))\n",
        "\n",
        "# Mostrar las comparaciones\n",
        "print(f\"Recomendaciones para el usuario {usuario_id_test}:\")\n",
        "for item, real, predicha in comparacion:\n",
        "    print(f\"Ítem: {item}, Calificación Real: {real}, Calificación Predicha: {predicha}\")"
      ],
      "metadata": {
        "id": "GC-UEYfli0Qe",
        "colab": {
          "base_uri": "https://localhost:8080/"
        },
        "outputId": "e7d20fda-e90e-47a5-d78a-8a22238c459c"
      },
      "execution_count": null,
      "outputs": [
        {
          "output_type": "stream",
          "name": "stdout",
          "text": [
            "1/1 [==============================] - 0s 19ms/step\n",
            "Recomendaciones para el usuario A1NGY5ZER5K7QM:\n",
            "Ítem: B00VT1QSYQ, Calificación Real: 3.0, Calificación Predicha: 4.537169933319092\n",
            "Ítem: B00I0W9FUG, Calificación Real: 5.0, Calificación Predicha: 4.96874475479126\n"
          ]
        }
      ]
    },
    {
      "cell_type": "code",
      "source": [
        "# Seleccionar un usuario al azar del conjunto de prueba\n",
        "usuario_id_test_encoded = random.choice(user_ids_test)\n",
        "\n",
        "# Decodificar el ID del usuario para obtener el ID original\n",
        "usuario_id = reviewerID_encoder.inverse_transform([usuario_id_test_encoded])[0]\n",
        "\n",
        "# Lista de todos los ítems únicos en el dataset\n",
        "items_unicos = np.unique(data['asin'].values)\n",
        "\n",
        "# Ítems que el usuario ya ha calificado\n",
        "items_calificados = data[data['reviewerID_encoded'] == usuario_id_test_encoded]['asin'].tolist()\n",
        "\n",
        "# Ítems para predecir\n",
        "items_a_predecir = [item for item in items_unicos if item not in items_calificados]\n",
        "\n",
        "# Convierte los ítems a su representación codificada\n",
        "items_a_predecir_encoded = asin_encoder.transform(items_a_predecir)\n",
        "\n",
        "# Predecir la calificación para cada ítem no calificado\n",
        "predicciones = model.predict([np.array([usuario_id_test_encoded] * len(items_a_predecir_encoded)), items_a_predecir_encoded])\n",
        "\n",
        "# Emparejar cada ítem con su predicción\n",
        "items_predicciones = list(zip(items_a_predecir, predicciones.flatten()))\n",
        "\n",
        "# Ordenar por la calificación predicha más alta\n",
        "items_recomendados = sorted(items_predicciones, key=lambda x: x[1], reverse=True)\n",
        "\n",
        "# Tomar los top N recomendaciones\n",
        "top_n = 5\n",
        "top_recomendaciones = items_recomendados[:top_n]\n",
        "\n",
        "# Imprimir las recomendaciones\n",
        "print(f\"Recomendaciones para el usuario {usuario_id}:\")\n",
        "for item, calificacion in top_recomendaciones:\n",
        "    print(f\"Ítem: {item}, Calificación Predicha: {calificacion}\")"
      ],
      "metadata": {
        "id": "tVKVZhgKi0JG",
        "colab": {
          "base_uri": "https://localhost:8080/"
        },
        "outputId": "26eae7fb-7866-4a63-a85d-1fdbba5ca252"
      },
      "execution_count": null,
      "outputs": [
        {
          "output_type": "stream",
          "name": "stdout",
          "text": [
            "4814/4814 [==============================] - 7s 1ms/step\n",
            "Recomendaciones para el usuario A1P18S7RY47Y26:\n",
            "Ítem: B01DQ83AJ0, Calificación Predicha: 6.025521278381348\n",
            "Ítem: B00EN0B0YI, Calificación Predicha: 6.010218143463135\n",
            "Ítem: B00CAS52NA, Calificación Predicha: 5.965157985687256\n",
            "Ítem: B000UPR5IA, Calificación Predicha: 5.9297404289245605\n",
            "Ítem: B00HD5R1D4, Calificación Predicha: 5.929575443267822\n"
          ]
        }
      ]
    },
    {
      "cell_type": "markdown",
      "metadata": {
        "id": "YopA3D2Sw8AO"
      },
      "source": [
        "Estas métricas te ayudarán a tener una mejor idea del desempeño de tu modelo. Por ejemplo:\n",
        "\n",
        "MSE y RMSE son útiles cuando quieres penalizar grandes errores.\n",
        "\n",
        "MAE te da una idea del error medio sin considerar la dirección del error.\n",
        "\n",
        "MAPE es útil cuando quieres representar el error en términos porcentuales.\n",
        "\n",
        "Para una evaluación completa, es recomendable utilizar un conjunto de validación aparte (es decir, no solo depender del validation_split). Esto asegura que estás evaluando el desempeño en datos que el modelo nunca ha visto durante el entrenamiento."
      ]
    },
    {
      "cell_type": "markdown",
      "metadata": {
        "id": "_dgWsjHFlB67"
      },
      "source": [
        "En resumen, la elección del tipo de sistema de recomendación dependerá de la naturaleza del conjunto de datos, las características disponibles, las capacidades computacionales y el tipo de relaciones o interacciones que se desean capturar. A menudo, un enfoque híbrido (como el sistema que combina embeddings y redes neuronales) ofrece un buen equilibrio entre precisión y eficiencia."
      ]
    }
  ],
  "metadata": {
    "accelerator": "GPU",
    "colab": {
      "machine_shape": "hm",
      "provenance": []
    },
    "kernelspec": {
      "display_name": "Python 3 (ipykernel)",
      "language": "python",
      "name": "python3"
    },
    "language_info": {
      "codemirror_mode": {
        "name": "ipython",
        "version": 3
      },
      "file_extension": ".py",
      "mimetype": "text/x-python",
      "name": "python",
      "nbconvert_exporter": "python",
      "pygments_lexer": "ipython3",
      "version": "3.10.9"
    }
  },
  "nbformat": 4,
  "nbformat_minor": 0
}