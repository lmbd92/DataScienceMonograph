{
  "cells": [
    {
      "cell_type": "markdown",
      "metadata": {
        "id": "V-SSaV-bRZZl"
      },
      "source": [
        "# Paso 1: Importar Librerías de Python\n"
      ]
    },
    {
      "cell_type": "code",
      "execution_count": null,
      "metadata": {
        "colab": {
          "base_uri": "https://localhost:8080/"
        },
        "id": "K4mFYevMKu6y",
        "outputId": "bfb6afac-34a3-43a3-8746-e22e7dde20fe"
      },
      "outputs": [
        {
          "output_type": "stream",
          "name": "stdout",
          "text": [
            "Collecting scikit-surprise\n",
            "  Downloading scikit-surprise-1.1.3.tar.gz (771 kB)\n",
            "\u001b[?25l     \u001b[90m━━━━━━━━━━━━━━━━━━━━━━━━━━━━━━━━━━━━━━━━\u001b[0m \u001b[32m0.0/772.0 kB\u001b[0m \u001b[31m?\u001b[0m eta \u001b[36m-:--:--\u001b[0m\r\u001b[2K     \u001b[91m━━━━━━━━━━\u001b[0m\u001b[91m╸\u001b[0m\u001b[90m━━━━━━━━━━━━━━━━━━━━━━━━━━━━━\u001b[0m \u001b[32m204.8/772.0 kB\u001b[0m \u001b[31m6.0 MB/s\u001b[0m eta \u001b[36m0:00:01\u001b[0m\r\u001b[2K     \u001b[90m━━━━━━━━━━━━━━━━━━━━━━━━━━━━━━━━━━━━━━━━\u001b[0m \u001b[32m772.0/772.0 kB\u001b[0m \u001b[31m14.4 MB/s\u001b[0m eta \u001b[36m0:00:00\u001b[0m\n",
            "\u001b[?25h  Preparing metadata (setup.py) ... \u001b[?25l\u001b[?25hdone\n",
            "Requirement already satisfied: joblib>=1.0.0 in /usr/local/lib/python3.10/dist-packages (from scikit-surprise) (1.3.2)\n",
            "Requirement already satisfied: numpy>=1.17.3 in /usr/local/lib/python3.10/dist-packages (from scikit-surprise) (1.23.5)\n",
            "Requirement already satisfied: scipy>=1.3.2 in /usr/local/lib/python3.10/dist-packages (from scikit-surprise) (1.11.3)\n",
            "Building wheels for collected packages: scikit-surprise\n",
            "  Building wheel for scikit-surprise (setup.py) ... \u001b[?25l\u001b[?25hdone\n",
            "  Created wheel for scikit-surprise: filename=scikit_surprise-1.1.3-cp310-cp310-linux_x86_64.whl size=3163497 sha256=4a26caadc1699a896a8ca37048fc6e7ffa96889f10d8796625b7b4ceec96457b\n",
            "  Stored in directory: /root/.cache/pip/wheels/a5/ca/a8/4e28def53797fdc4363ca4af740db15a9c2f1595ebc51fb445\n",
            "Successfully built scikit-surprise\n",
            "Installing collected packages: scikit-surprise\n",
            "Successfully installed scikit-surprise-1.1.3\n"
          ]
        }
      ],
      "source": [
        "#pip install scikit-surprise"
      ]
    },
    {
      "cell_type": "code",
      "execution_count": null,
      "metadata": {
        "id": "47ItRxlORZ9i"
      },
      "outputs": [],
      "source": [
        "# Análisis de datos y manipulación\n",
        "import pandas as pd\n",
        "import numpy as np\n",
        "import random\n",
        "\n",
        "# Visualización de datos\n",
        "import matplotlib.pyplot as plt\n",
        "import seaborn as sns\n",
        "\n",
        "# Utilidades de fechas\n",
        "from datetime import datetime\n",
        "\n",
        "# Integración con Google Colab\n",
        "from google.colab import drive\n",
        "\n",
        "# Machine Learning: Preprocesamiento y división de datos\n",
        "from sklearn.model_selection import train_test_split\n",
        "from sklearn.preprocessing import LabelEncoder\n",
        "\n",
        "# Machine Learning: Métricas\n",
        "from sklearn.metrics import mean_squared_error, mean_absolute_error\n",
        "from sklearn.metrics.pairwise import cosine_similarity\n",
        "\n",
        "# Machine Learning: Modelado y validación\n",
        "from surprise import SVD, Reader, Dataset, accuracy\n",
        "from surprise.model_selection import train_test_split, GridSearchCV\n",
        "\n",
        "# Deep Learning: Construcción de modelos y capas\n",
        "from keras.models import Model\n",
        "from keras.layers import Input, Embedding, Flatten, Concatenate, Dense, Dropout, Dot\n",
        "\n",
        "# Deep Learning: Optimización y regularización\n",
        "from keras.optimizers import Adam\n",
        "from keras.regularizers import l2\n",
        "\n",
        "# Deep Learning: Callbacks\n",
        "from keras.callbacks import EarlyStopping, ReduceLROnPlateau"
      ]
    },
    {
      "cell_type": "code",
      "execution_count": null,
      "metadata": {
        "colab": {
          "base_uri": "https://localhost:8080/"
        },
        "id": "8bHcBRlQYY4h",
        "outputId": "a77e7727-91a6-4933-82e8-a7937a3854e5"
      },
      "outputs": [
        {
          "output_type": "stream",
          "name": "stdout",
          "text": [
            "Mounted at /content/drive\n"
          ]
        }
      ],
      "source": [
        "drive.mount('/content/drive')"
      ]
    },
    {
      "cell_type": "markdown",
      "metadata": {
        "id": "209f_YHQRaCi"
      },
      "source": [
        "# Paso 2: Lectura del Dataset"
      ]
    },
    {
      "cell_type": "code",
      "execution_count": null,
      "metadata": {
        "colab": {
          "base_uri": "https://localhost:8080/"
        },
        "id": "9vIFqmMIRaIc",
        "outputId": "b17ebe77-419b-4047-80e7-a1e863313dfd"
      },
      "outputs": [
        {
          "output_type": "stream",
          "name": "stderr",
          "text": [
            "<ipython-input-4-1f8e3361d82a>:2: DtypeWarning: Columns (5) have mixed types. Specify dtype option on import or set low_memory=False.\n",
            "  df = pd.read_csv('/content/drive/MyDrive/EspecializacionA&DS/Monografia/2doSemestre/DataFinal_Amazon.csv')  # Descomenta y proporciona la ruta si estás cargando un archivo CSV\n"
          ]
        }
      ],
      "source": [
        "# Suponiendo que tu DataFrame se llama df\n",
        "df = pd.read_csv('/content/drive/MyDrive/EspecializacionA&DS/Monografia/2doSemestre/DataFinal_Amazon.csv')  # Descomenta y proporciona la ruta si estás cargando un archivo CSV"
      ]
    },
    {
      "cell_type": "code",
      "execution_count": null,
      "metadata": {
        "colab": {
          "base_uri": "https://localhost:8080/"
        },
        "id": "LwnA5HnLr8r6",
        "outputId": "3182efa3-038f-4037-e30d-70866e2e11d5"
      },
      "outputs": [
        {
          "output_type": "execute_result",
          "data": {
            "text/plain": [
              "(4800571, 10)"
            ]
          },
          "metadata": {},
          "execution_count": 5
        }
      ],
      "source": [
        "df.shape"
      ]
    },
    {
      "cell_type": "markdown",
      "metadata": {
        "id": "5lMsQcyyS2NS"
      },
      "source": [
        "# Modelo de Filtrado Colaborativo usando Embedding con Keras:"
      ]
    },
    {
      "cell_type": "markdown",
      "metadata": {
        "id": "yQ49x7CvmOfM"
      },
      "source": [
        "Funcionamiento:\n",
        "\n",
        "Los embeddings son representaciones vectoriales densas y de baja dimensión de ítems y/o usuarios. Estas representaciones capturan relaciones semánticas entre ítems o entre usuarios.\n",
        "\n",
        "Un método popular para generar embeddings es la factorización de matrices, como la descomposición en valores singulares (SVD). En el contexto de sistemas de recomendación, se busca factorizar la matriz de interacciones usuario-ítem en dos matrices más pequeñas (una para los usuarios y otra para los ítems) cuyo producto aproximado reproduce la matriz original lo mejor posible.\n",
        "\n",
        "Una vez que se han obtenido los embeddings, la predicción de una calificación o interacción entre un usuario e ítem se realiza tomando el producto escalar entre sus embeddings respectivos.\n",
        "\n",
        "Ventajas:\n",
        "\n",
        "Simplicidad y eficiencia en términos computacionales.\n",
        "\n",
        "Puede manejar grandes conjuntos de datos debido a su naturaleza de baja dimensión.\n",
        "\n",
        "Es efectivo para capturar patrones subyacentes en los datos.\n",
        "\n",
        "Desventajas:\n",
        "\n",
        "No tiene en cuenta características adicionales de usuarios o ítems.\n",
        "\n",
        "Dificultades para manejar nuevos ítems o usuarios (problema de arranque en frío)."
      ]
    },
    {
      "cell_type": "markdown",
      "metadata": {
        "id": "sJ482XODiA8T"
      },
      "source": [
        "El código ahora incluye regularización en los embeddings, un callback para detener el entrenamiento si no hay mejoras (early stopping) y otro para reducir la tasa de aprendizaje si el error de validación no mejora (reduce learning rate on plateau)."
      ]
    },
    {
      "cell_type": "code",
      "execution_count": null,
      "metadata": {
        "id": "3oQAn6BZT8ZB"
      },
      "outputs": [],
      "source": [
        "data = df"
      ]
    },
    {
      "cell_type": "code",
      "execution_count": null,
      "metadata": {
        "id": "22AEmdhqU9vC"
      },
      "outputs": [],
      "source": [
        "# Crear un LabelEncoder para cada columna\n",
        "reviewerID_encoder = LabelEncoder()\n",
        "asin_encoder = LabelEncoder()\n",
        "\n",
        "# Ajustar y transformar las columnas\n",
        "data['reviewerID_encoded'] = reviewerID_encoder.fit_transform(data['reviewerID'])\n",
        "data['asin_encoded'] = asin_encoder.fit_transform(data['asin'])\n",
        "\n",
        "# Número de usuarios únicos y número de ítems únicos\n",
        "n_users = len(np.unique(data['reviewerID_encoded']))\n",
        "n_items = len(np.unique(data['asin_encoded']))\n",
        "\n",
        "# Dimensiones del embedding\n",
        "embedding_dim = 10\n",
        "\n",
        "# Entradas\n",
        "user_input = Input(shape=(1,))\n",
        "item_input = Input(shape=(1,))\n",
        "\n",
        "# Embeddings con regularización\n",
        "user_embedding = Embedding(n_users, embedding_dim, embeddings_regularizer=l2(1e-6))(user_input)\n",
        "item_embedding = Embedding(n_items, embedding_dim, embeddings_regularizer=l2(1e-6))(item_input)\n",
        "\n",
        "# Producto punto para predecir la valoración/rating\n",
        "merged = Dot(axes=2)([user_embedding, item_embedding])\n",
        "merged = Flatten()(merged)\n",
        "\n",
        "# Modelo\n",
        "model = Model(inputs=[user_input, item_input], outputs=merged)\n",
        "model.compile(optimizer='adam', loss='mse', metrics=['mae'])"
      ]
    },
    {
      "cell_type": "markdown",
      "metadata": {
        "id": "ZN3t1PGSYEzR"
      },
      "source": [
        "verbose=0: No muestra ninguna barra de progreso ni métricas.\n",
        "\n",
        "verbose=1: Muestra una barra de progreso y actualiza las métricas después de cada lote.\n",
        "\n",
        "verbose=2: Muestra las métricas después de cada época, pero no muestra la barra de progreso."
      ]
    },
    {
      "cell_type": "code",
      "execution_count": null,
      "metadata": {
        "id": "J3n02-vPg5wh"
      },
      "outputs": [],
      "source": [
        "from sklearn.model_selection import train_test_split\n",
        "\n",
        "# Crear los arrays con los datos\n",
        "user_ids = data['reviewerID_encoded'].values\n",
        "item_ids = data['asin_encoded'].values\n",
        "ratings = data['overall'].values\n",
        "\n",
        "# División en entrenamiento y prueba\n",
        "(user_ids_temp, user_ids_test, item_ids_temp, item_ids_test, ratings_temp, ratings_test) = train_test_split(\n",
        "    user_ids, item_ids, ratings, test_size=0.2, random_state=42)\n",
        "\n",
        "# División del conjunto de entrenamiento en entrenamiento y validación\n",
        "(user_ids_train, user_ids_val, item_ids_train, item_ids_val, ratings_train, ratings_val) = train_test_split(\n",
        "    user_ids_temp, item_ids_temp, ratings_temp, test_size=0.25, random_state=42)  # 0.25 x 0.8 = 0.2"
      ]
    },
    {
      "cell_type": "code",
      "execution_count": null,
      "metadata": {
        "id": "NYbYJfevgXpj"
      },
      "outputs": [],
      "source": [
        "# Callbacks\n",
        "early_stop = EarlyStopping(monitor='val_loss', patience=50)\n",
        "reduce_lr = ReduceLROnPlateau(monitor='val_loss', factor=0.2, patience=50, min_lr=1e-5)"
      ]
    },
    {
      "cell_type": "code",
      "execution_count": null,
      "metadata": {
        "colab": {
          "base_uri": "https://localhost:8080/"
        },
        "id": "jOiSfVMfg5tw",
        "outputId": "61abc9f5-06c7-405d-92c0-4825ba8eda5d"
      },
      "outputs": [
        {
          "output_type": "stream",
          "name": "stdout",
          "text": [
            "Epoch 1/500\n",
            "73/73 [==============================] - 6s 12ms/step - loss: 19.5185 - mae: 4.2598 - val_loss: 19.5409 - val_mae: 4.2632 - lr: 0.0010\n",
            "Epoch 2/500\n",
            "73/73 [==============================] - 1s 9ms/step - loss: 19.5013 - mae: 4.2581 - val_loss: 19.5300 - val_mae: 4.2621 - lr: 0.0010\n",
            "Epoch 3/500\n",
            "73/73 [==============================] - 1s 9ms/step - loss: 19.4620 - mae: 4.2536 - val_loss: 19.5012 - val_mae: 4.2586 - lr: 0.0010\n",
            "Epoch 4/500\n",
            "73/73 [==============================] - 1s 9ms/step - loss: 19.3757 - mae: 4.2432 - val_loss: 19.4495 - val_mae: 4.2517 - lr: 0.0010\n",
            "Epoch 5/500\n",
            "73/73 [==============================] - 1s 9ms/step - loss: 19.2225 - mae: 4.2244 - val_loss: 19.3753 - val_mae: 4.2413 - lr: 0.0010\n",
            "Epoch 6/500\n",
            "73/73 [==============================] - 1s 9ms/step - loss: 18.9911 - mae: 4.1952 - val_loss: 19.2830 - val_mae: 4.2275 - lr: 0.0010\n",
            "Epoch 7/500\n",
            "73/73 [==============================] - 1s 9ms/step - loss: 18.6809 - mae: 4.1551 - val_loss: 19.1789 - val_mae: 4.2107 - lr: 0.0010\n",
            "Epoch 8/500\n",
            "73/73 [==============================] - 1s 9ms/step - loss: 18.2997 - mae: 4.1044 - val_loss: 19.0691 - val_mae: 4.1914 - lr: 0.0010\n",
            "Epoch 9/500\n",
            "73/73 [==============================] - 1s 9ms/step - loss: 17.8591 - mae: 4.0439 - val_loss: 18.9593 - val_mae: 4.1704 - lr: 0.0010\n",
            "Epoch 10/500\n",
            "73/73 [==============================] - 1s 9ms/step - loss: 17.3725 - mae: 3.9749 - val_loss: 18.8545 - val_mae: 4.1481 - lr: 0.0010\n",
            "Epoch 11/500\n",
            "73/73 [==============================] - 1s 9ms/step - loss: 16.8533 - mae: 3.8989 - val_loss: 18.7577 - val_mae: 4.1250 - lr: 0.0010\n",
            "Epoch 12/500\n",
            "73/73 [==============================] - 1s 9ms/step - loss: 16.3133 - mae: 3.8169 - val_loss: 18.6714 - val_mae: 4.1018 - lr: 0.0010\n",
            "Epoch 13/500\n",
            "73/73 [==============================] - 1s 9ms/step - loss: 15.7624 - mae: 3.7304 - val_loss: 18.5963 - val_mae: 4.0786 - lr: 0.0010\n",
            "Epoch 14/500\n",
            "73/73 [==============================] - 1s 9ms/step - loss: 15.2088 - mae: 3.6404 - val_loss: 18.5335 - val_mae: 4.0559 - lr: 0.0010\n",
            "Epoch 15/500\n",
            "73/73 [==============================] - 1s 9ms/step - loss: 14.6591 - mae: 3.5480 - val_loss: 18.4824 - val_mae: 4.0338 - lr: 0.0010\n",
            "Epoch 16/500\n",
            "73/73 [==============================] - 1s 9ms/step - loss: 14.1190 - mae: 3.4542 - val_loss: 18.4427 - val_mae: 4.0126 - lr: 0.0010\n",
            "Epoch 17/500\n",
            "73/73 [==============================] - 1s 9ms/step - loss: 13.5927 - mae: 3.3596 - val_loss: 18.4136 - val_mae: 3.9922 - lr: 0.0010\n",
            "Epoch 18/500\n",
            "73/73 [==============================] - 1s 9ms/step - loss: 13.0835 - mae: 3.2650 - val_loss: 18.3946 - val_mae: 3.9728 - lr: 0.0010\n",
            "Epoch 19/500\n",
            "73/73 [==============================] - 1s 9ms/step - loss: 12.5936 - mae: 3.1709 - val_loss: 18.3845 - val_mae: 3.9543 - lr: 0.0010\n",
            "Epoch 20/500\n",
            "73/73 [==============================] - 1s 9ms/step - loss: 12.1249 - mae: 3.0779 - val_loss: 18.3823 - val_mae: 3.9366 - lr: 0.0010\n",
            "Epoch 21/500\n",
            "73/73 [==============================] - 1s 9ms/step - loss: 11.6782 - mae: 2.9864 - val_loss: 18.3876 - val_mae: 3.9198 - lr: 0.0010\n",
            "Epoch 22/500\n",
            "73/73 [==============================] - 1s 9ms/step - loss: 11.2538 - mae: 2.8967 - val_loss: 18.3990 - val_mae: 3.9039 - lr: 0.0010\n",
            "Epoch 23/500\n",
            "73/73 [==============================] - 1s 9ms/step - loss: 10.8518 - mae: 2.8092 - val_loss: 18.4156 - val_mae: 3.8887 - lr: 0.0010\n",
            "Epoch 24/500\n",
            "73/73 [==============================] - 1s 9ms/step - loss: 10.4715 - mae: 2.7240 - val_loss: 18.4370 - val_mae: 3.8743 - lr: 0.0010\n",
            "Epoch 25/500\n",
            "73/73 [==============================] - 1s 9ms/step - loss: 10.1124 - mae: 2.6415 - val_loss: 18.4618 - val_mae: 3.8605 - lr: 0.0010\n",
            "Epoch 26/500\n",
            "73/73 [==============================] - 1s 9ms/step - loss: 9.7737 - mae: 2.5617 - val_loss: 18.4897 - val_mae: 3.8473 - lr: 0.0010\n",
            "Epoch 27/500\n",
            "73/73 [==============================] - 1s 9ms/step - loss: 9.4546 - mae: 2.4847 - val_loss: 18.5200 - val_mae: 3.8348 - lr: 0.0010\n",
            "Epoch 28/500\n",
            "73/73 [==============================] - 1s 9ms/step - loss: 9.1539 - mae: 2.4106 - val_loss: 18.5519 - val_mae: 3.8227 - lr: 0.0010\n",
            "Epoch 29/500\n",
            "73/73 [==============================] - 1s 9ms/step - loss: 8.8704 - mae: 2.3393 - val_loss: 18.5852 - val_mae: 3.8112 - lr: 0.0010\n",
            "Epoch 30/500\n",
            "73/73 [==============================] - 1s 9ms/step - loss: 8.6032 - mae: 2.2707 - val_loss: 18.6193 - val_mae: 3.8002 - lr: 0.0010\n",
            "Epoch 31/500\n",
            "73/73 [==============================] - 1s 9ms/step - loss: 8.3513 - mae: 2.2050 - val_loss: 18.6537 - val_mae: 3.7896 - lr: 0.0010\n",
            "Epoch 32/500\n",
            "73/73 [==============================] - 1s 9ms/step - loss: 8.1137 - mae: 2.1419 - val_loss: 18.6884 - val_mae: 3.7794 - lr: 0.0010\n",
            "Epoch 33/500\n",
            "73/73 [==============================] - 1s 9ms/step - loss: 7.8895 - mae: 2.0814 - val_loss: 18.7228 - val_mae: 3.7695 - lr: 0.0010\n",
            "Epoch 34/500\n",
            "73/73 [==============================] - 1s 9ms/step - loss: 7.6779 - mae: 2.0235 - val_loss: 18.7568 - val_mae: 3.7600 - lr: 0.0010\n",
            "Epoch 35/500\n",
            "73/73 [==============================] - 1s 9ms/step - loss: 7.4779 - mae: 1.9679 - val_loss: 18.7904 - val_mae: 3.7509 - lr: 0.0010\n",
            "Epoch 36/500\n",
            "73/73 [==============================] - 1s 9ms/step - loss: 7.2889 - mae: 1.9147 - val_loss: 18.8231 - val_mae: 3.7420 - lr: 0.0010\n",
            "Epoch 37/500\n",
            "73/73 [==============================] - 1s 9ms/step - loss: 7.1101 - mae: 1.8636 - val_loss: 18.8551 - val_mae: 3.7334 - lr: 0.0010\n",
            "Epoch 38/500\n",
            "73/73 [==============================] - 1s 9ms/step - loss: 6.9409 - mae: 1.8146 - val_loss: 18.8860 - val_mae: 3.7251 - lr: 0.0010\n",
            "Epoch 39/500\n",
            "73/73 [==============================] - 1s 9ms/step - loss: 6.7807 - mae: 1.7676 - val_loss: 18.9158 - val_mae: 3.7170 - lr: 0.0010\n",
            "Epoch 40/500\n",
            "73/73 [==============================] - 1s 9ms/step - loss: 6.6290 - mae: 1.7224 - val_loss: 18.9448 - val_mae: 3.7092 - lr: 0.0010\n",
            "Epoch 41/500\n",
            "73/73 [==============================] - 1s 9ms/step - loss: 6.4853 - mae: 1.6791 - val_loss: 18.9725 - val_mae: 3.7015 - lr: 0.0010\n",
            "Epoch 42/500\n",
            "73/73 [==============================] - 1s 9ms/step - loss: 6.3489 - mae: 1.6374 - val_loss: 18.9994 - val_mae: 3.6941 - lr: 0.0010\n",
            "Epoch 43/500\n",
            "73/73 [==============================] - 1s 9ms/step - loss: 6.2197 - mae: 1.5974 - val_loss: 19.0248 - val_mae: 3.6868 - lr: 0.0010\n",
            "Epoch 44/500\n",
            "73/73 [==============================] - 1s 9ms/step - loss: 6.0970 - mae: 1.5590 - val_loss: 19.0492 - val_mae: 3.6798 - lr: 0.0010\n",
            "Epoch 45/500\n",
            "73/73 [==============================] - 1s 9ms/step - loss: 5.9805 - mae: 1.5220 - val_loss: 19.0723 - val_mae: 3.6729 - lr: 0.0010\n",
            "Epoch 46/500\n",
            "73/73 [==============================] - 1s 9ms/step - loss: 5.8699 - mae: 1.4864 - val_loss: 19.0943 - val_mae: 3.6661 - lr: 0.0010\n",
            "Epoch 47/500\n",
            "73/73 [==============================] - 1s 9ms/step - loss: 5.7649 - mae: 1.4521 - val_loss: 19.1150 - val_mae: 3.6595 - lr: 0.0010\n",
            "Epoch 48/500\n",
            "73/73 [==============================] - 1s 9ms/step - loss: 5.6651 - mae: 1.4191 - val_loss: 19.1346 - val_mae: 3.6530 - lr: 0.0010\n",
            "Epoch 49/500\n",
            "73/73 [==============================] - 1s 9ms/step - loss: 5.5702 - mae: 1.3872 - val_loss: 19.1531 - val_mae: 3.6467 - lr: 0.0010\n",
            "Epoch 50/500\n",
            "73/73 [==============================] - 1s 9ms/step - loss: 5.4800 - mae: 1.3566 - val_loss: 19.1702 - val_mae: 3.6405 - lr: 0.0010\n",
            "Epoch 51/500\n",
            "73/73 [==============================] - 1s 9ms/step - loss: 5.3942 - mae: 1.3271 - val_loss: 19.1865 - val_mae: 3.6345 - lr: 0.0010\n",
            "Epoch 52/500\n",
            "73/73 [==============================] - 1s 9ms/step - loss: 5.3126 - mae: 1.2986 - val_loss: 19.2015 - val_mae: 3.6285 - lr: 0.0010\n",
            "Epoch 53/500\n",
            "73/73 [==============================] - 1s 9ms/step - loss: 5.2351 - mae: 1.2711 - val_loss: 19.2153 - val_mae: 3.6227 - lr: 0.0010\n",
            "Epoch 54/500\n",
            "73/73 [==============================] - 1s 9ms/step - loss: 5.1612 - mae: 1.2446 - val_loss: 19.2280 - val_mae: 3.6169 - lr: 0.0010\n",
            "Epoch 55/500\n",
            "73/73 [==============================] - 1s 9ms/step - loss: 5.0909 - mae: 1.2191 - val_loss: 19.2397 - val_mae: 3.6113 - lr: 0.0010\n",
            "Epoch 56/500\n",
            "73/73 [==============================] - 1s 9ms/step - loss: 5.0240 - mae: 1.1944 - val_loss: 19.2505 - val_mae: 3.6057 - lr: 0.0010\n",
            "Epoch 57/500\n",
            "73/73 [==============================] - 1s 9ms/step - loss: 4.9602 - mae: 1.1706 - val_loss: 19.2600 - val_mae: 3.6002 - lr: 0.0010\n",
            "Epoch 58/500\n",
            "73/73 [==============================] - 1s 9ms/step - loss: 4.8995 - mae: 1.1476 - val_loss: 19.2686 - val_mae: 3.5948 - lr: 0.0010\n",
            "Epoch 59/500\n",
            "73/73 [==============================] - 1s 9ms/step - loss: 4.8416 - mae: 1.1254 - val_loss: 19.2760 - val_mae: 3.5895 - lr: 0.0010\n",
            "Epoch 60/500\n",
            "73/73 [==============================] - 1s 9ms/step - loss: 4.7865 - mae: 1.1040 - val_loss: 19.2826 - val_mae: 3.5843 - lr: 0.0010\n",
            "Epoch 61/500\n",
            "73/73 [==============================] - 1s 9ms/step - loss: 4.7339 - mae: 1.0833 - val_loss: 19.2881 - val_mae: 3.5791 - lr: 0.0010\n",
            "Epoch 62/500\n",
            "73/73 [==============================] - 1s 9ms/step - loss: 4.6838 - mae: 1.0633 - val_loss: 19.2927 - val_mae: 3.5740 - lr: 0.0010\n",
            "Epoch 63/500\n",
            "73/73 [==============================] - 1s 9ms/step - loss: 4.6360 - mae: 1.0440 - val_loss: 19.2963 - val_mae: 3.5690 - lr: 0.0010\n",
            "Epoch 64/500\n",
            "73/73 [==============================] - 1s 9ms/step - loss: 4.5904 - mae: 1.0253 - val_loss: 19.2988 - val_mae: 3.5640 - lr: 0.0010\n",
            "Epoch 65/500\n",
            "73/73 [==============================] - 1s 9ms/step - loss: 4.5469 - mae: 1.0073 - val_loss: 19.3006 - val_mae: 3.5591 - lr: 0.0010\n",
            "Epoch 66/500\n",
            "73/73 [==============================] - 1s 9ms/step - loss: 4.5054 - mae: 0.9899 - val_loss: 19.3013 - val_mae: 3.5542 - lr: 0.0010\n",
            "Epoch 67/500\n",
            "73/73 [==============================] - 1s 9ms/step - loss: 4.4658 - mae: 0.9731 - val_loss: 19.3010 - val_mae: 3.5494 - lr: 0.0010\n",
            "Epoch 68/500\n",
            "73/73 [==============================] - 1s 9ms/step - loss: 4.4279 - mae: 0.9568 - val_loss: 19.2999 - val_mae: 3.5446 - lr: 0.0010\n",
            "Epoch 69/500\n",
            "73/73 [==============================] - 1s 9ms/step - loss: 4.3918 - mae: 0.9411 - val_loss: 19.2979 - val_mae: 3.5398 - lr: 0.0010\n",
            "Epoch 70/500\n",
            "73/73 [==============================] - 1s 9ms/step - loss: 4.3572 - mae: 0.9259 - val_loss: 19.2951 - val_mae: 3.5352 - lr: 0.0010\n",
            "CPU times: user 1min 23s, sys: 4.42 s, total: 1min 27s\n",
            "Wall time: 52.6 s\n"
          ]
        },
        {
          "output_type": "execute_result",
          "data": {
            "text/plain": [
              "<keras.src.callbacks.History at 0x799ddd369660>"
            ]
          },
          "metadata": {},
          "execution_count": 10
        }
      ],
      "source": [
        "%%time\n",
        "# Entrenar el modelo con el conjunto de entrenamiento\n",
        "model.fit([user_ids_train, item_ids_train], ratings_train, validation_data=([user_ids_val, item_ids_val], ratings_val),\n",
        "          epochs=500, batch_size=40000, verbose=1, callbacks=[early_stop, reduce_lr])"
      ]
    },
    {
      "cell_type": "code",
      "execution_count": null,
      "metadata": {
        "colab": {
          "base_uri": "https://localhost:8080/"
        },
        "id": "RnBHBOT1oel0",
        "outputId": "87752876-2511-4e28-8005-f17ea19a193d"
      },
      "outputs": [
        {
          "output_type": "stream",
          "name": "stdout",
          "text": [
            "30004/30004 [==============================] - 37s 1ms/step\n"
          ]
        }
      ],
      "source": [
        "y_true = ratings_test\n",
        "predictions = model.predict([user_ids_test, item_ids_test])"
      ]
    },
    {
      "cell_type": "code",
      "execution_count": null,
      "metadata": {
        "colab": {
          "base_uri": "https://localhost:8080/"
        },
        "id": "SMJd_nt7g5h4",
        "outputId": "aee254fa-e204-44f4-c195-0ee0cd240c8e"
      },
      "outputs": [
        {
          "output_type": "stream",
          "name": "stdout",
          "text": [
            "30004/30004 [==============================] - 73s 2ms/step - loss: 19.3061 - mae: 3.5342\n",
            "Test Loss: 19.3061\n",
            "Test MAE: 3.5342\n"
          ]
        }
      ],
      "source": [
        "# Evaluar el modelo con el conjunto de prueba\n",
        "loss, mae = model.evaluate([user_ids_test, item_ids_test], ratings_test)\n",
        "print(f'Test Loss: {loss:.4f}')\n",
        "print(f'Test MAE: {mae:.4f}')"
      ]
    },
    {
      "cell_type": "code",
      "execution_count": null,
      "metadata": {
        "colab": {
          "base_uri": "https://localhost:8080/"
        },
        "id": "USnKRkm0KCdW",
        "outputId": "c02c1a21-e580-4984-8ef1-153c4b20a5a0"
      },
      "outputs": [
        {
          "output_type": "stream",
          "name": "stdout",
          "text": [
            "MSE: 16.6879\n",
            "RMSE: 4.0851\n",
            "MAE: 3.5341\n",
            "MAPE: 84.17%\n"
          ]
        }
      ],
      "source": [
        "# MSE\n",
        "mse = mean_squared_error(y_true, predictions)\n",
        "print(f\"MSE: {mse:.4f}\")\n",
        "\n",
        "# RMSE\n",
        "rmse = np.sqrt(mse)\n",
        "print(f\"RMSE: {rmse:.4f}\")\n",
        "\n",
        "# MAE\n",
        "mae = mean_absolute_error(y_true, predictions)\n",
        "print(f\"MAE: {mae:.4f}\")\n",
        "\n",
        "# MAPE (Mean Absolute Percentage Error)\n",
        "mape = np.mean(np.abs((y_true - predictions.flatten()) / y_true)) * 100\n",
        "print(f\"MAPE: {mape:.2f}%\")"
      ]
    },
    {
      "cell_type": "markdown",
      "source": [
        "# Recomedanción"
      ],
      "metadata": {
        "id": "W1hoVgKNyGKF"
      }
    },
    {
      "cell_type": "code",
      "source": [
        "# Seleccionar un usuario al azar del conjunto de prueba\n",
        "usuario_id_test_encoded = random.choice(user_ids_test)\n",
        "\n",
        "# Decodificar el ID del usuario para obtener el ID original\n",
        "usuario_id_test = reviewerID_encoder.inverse_transform([usuario_id_test_encoded])[0]\n",
        "\n",
        "# Identificar los ítems que el usuario ha calificado en el conjunto de prueba\n",
        "indices_usuario = np.where(user_ids_test == usuario_id_test_encoded)[0]\n",
        "items_calificados_test_encoded = item_ids_test[indices_usuario]\n",
        "calificaciones_reales_test = ratings_test[indices_usuario]\n",
        "\n",
        "# Predecir las calificaciones para estos ítems\n",
        "calificaciones_predichas = model.predict([np.array([usuario_id_test_encoded] * len(items_calificados_test_encoded)), items_calificados_test_encoded])\n",
        "\n",
        "# Decodificar los ítems para obtener los ID originales\n",
        "items_calificados_test = asin_encoder.inverse_transform(items_calificados_test_encoded)\n",
        "\n",
        "# Comparar las calificaciones predichas con las reales\n",
        "comparacion = list(zip(items_calificados_test, calificaciones_reales_test, calificaciones_predichas.flatten()))\n",
        "\n",
        "# Mostrar las comparaciones\n",
        "print(f\"Recomendaciones para el usuario {usuario_id_test}:\")\n",
        "for item, real, predicha in comparacion:\n",
        "    print(f\"Ítem: {item}, Calificación Real: {real}, Calificación Predicha: {predicha}\")"
      ],
      "metadata": {
        "colab": {
          "base_uri": "https://localhost:8080/"
        },
        "id": "pD6RZOLAyDpw",
        "outputId": "65362ba5-6755-4f66-9b2a-2c034cd41ddc"
      },
      "execution_count": null,
      "outputs": [
        {
          "output_type": "stream",
          "name": "stdout",
          "text": [
            "1/1 [==============================] - 0s 30ms/step\n",
            "Recomendaciones para el usuario A38O4N6GU8STQU:\n",
            "Ítem: B00144Q230, Calificación Real: 3.0, Calificación Predicha: 2.9792025089263916\n"
          ]
        }
      ]
    },
    {
      "cell_type": "code",
      "source": [
        "# Seleccionar un usuario al azar del conjunto de prueba\n",
        "usuario_id_test_encoded = random.choice(user_ids_test)\n",
        "\n",
        "# Decodificar el ID del usuario para obtener el ID original\n",
        "usuario_id = reviewerID_encoder.inverse_transform([usuario_id_test_encoded])[0]\n",
        "\n",
        "# Lista de todos los ítems únicos en el dataset\n",
        "items_unicos = np.unique(data['asin'].values)\n",
        "\n",
        "# Ítems que el usuario ya ha calificado\n",
        "items_calificados = data[data['reviewerID_encoded'] == usuario_id_test_encoded]['asin'].tolist()\n",
        "\n",
        "# Ítems para predecir\n",
        "items_a_predecir = [item for item in items_unicos if item not in items_calificados]\n",
        "\n",
        "# Convierte los ítems a su representación codificada\n",
        "items_a_predecir_encoded = asin_encoder.transform(items_a_predecir)\n",
        "\n",
        "# Predecir la calificación para cada ítem no calificado\n",
        "predicciones = model.predict([np.array([usuario_id_test_encoded] * len(items_a_predecir_encoded)), items_a_predecir_encoded])\n",
        "\n",
        "# Emparejar cada ítem con su predicción\n",
        "items_predicciones = list(zip(items_a_predecir, predicciones.flatten()))\n",
        "\n",
        "# Ordenar por la calificación predicha más alta\n",
        "items_recomendados = sorted(items_predicciones, key=lambda x: x[1], reverse=True)\n",
        "\n",
        "# Tomar los top N recomendaciones\n",
        "top_n = 5\n",
        "top_recomendaciones = items_recomendados[:top_n]\n",
        "\n",
        "# Imprimir las recomendaciones\n",
        "print(f\"Recomendaciones para el usuario {usuario_id}:\")\n",
        "for item, calificacion in top_recomendaciones:\n",
        "    print(f\"Ítem: {item}, Calificación Predicha: {calificacion}\")"
      ],
      "metadata": {
        "colab": {
          "base_uri": "https://localhost:8080/"
        },
        "id": "zwXhZlKlz-9I",
        "outputId": "ebb21e75-14b8-4029-b9f4-be7f05b2f7ae"
      },
      "execution_count": null,
      "outputs": [
        {
          "output_type": "stream",
          "name": "stdout",
          "text": [
            "4814/4814 [==============================] - 6s 1ms/step\n",
            "Recomendaciones para el usuario A1ZFGSMBM337AA:\n",
            "Ítem: B00EXW53GC, Calificación Predicha: 7.174187183380127\n",
            "Ítem: B00GR4OJQ4, Calificación Predicha: 6.240444183349609\n",
            "Ítem: B00E4VHGG2, Calificación Predicha: 6.146116256713867\n",
            "Ítem: B000GDJDPE, Calificación Predicha: 6.137779235839844\n",
            "Ítem: B00014GT8W, Calificación Predicha: 6.099377155303955\n"
          ]
        }
      ]
    },
    {
      "cell_type": "markdown",
      "metadata": {
        "id": "odgbIWArkJ2y"
      },
      "source": [
        "# Modelo de Filtrado Colaborativo usando Red Neuronal Multicapa con Keras:"
      ]
    },
    {
      "cell_type": "markdown",
      "metadata": {
        "id": "vBK_zPK7lvti"
      },
      "source": [
        "Funcionamiento:\n",
        "\n",
        "Estos sistemas toman características de los ítems y/o usuarios y las pasan a través de una o varias capas de neuronas para obtener una predicción.\n",
        "Las redes neuronales son capaces de capturar interacciones no lineales entre características, lo que las hace poderosas para tareas de modelado complejas.\n",
        "\n",
        "Ventajas:\n",
        "\n",
        "Capacidad de modelar relaciones no lineales.\n",
        "\n",
        "Flexibilidad para incorporar múltiples fuentes de datos o características.\n",
        "\n",
        "Puede manejar arranques en frío al incorporar características de nuevos ítems o usuarios.\n",
        "\n",
        "Desventajas:\n",
        "\n",
        "Mayor costo computacional en comparación con los sistemas basados únicamente en embeddings.\n",
        "\n",
        "Riesgo de sobreajuste si no se tiene un conjunto de datos lo suficientemente grande."
      ]
    },
    {
      "cell_type": "markdown",
      "metadata": {
        "id": "YMnns-ENh_KJ"
      },
      "source": [
        "Ahora el código incluye regularización en los embeddings, early stopping para detener el entrenamiento si el modelo deja de mejorar en el conjunto de validación, y reducción de la tasa de aprendizaje si el error en el conjunto de validación no mejora después de algunas épocas. Estas adiciones deberían ayudar a mejorar la capacidad de generalización del modelo."
      ]
    },
    {
      "cell_type": "code",
      "execution_count": null,
      "metadata": {
        "id": "ZFgVZSeTkKGy"
      },
      "outputs": [],
      "source": [
        "df['user_id'] = df['reviewerID'].astype('category').cat.codes.values\n",
        "df['item_id'] = df['asin'].astype('category').cat.codes.values\n",
        "\n",
        "# Número de usuarios e ítems\n",
        "n_users = df['user_id'].nunique()\n",
        "n_items = df['item_id'].nunique()\n",
        "\n",
        "# Hiperparámetros\n",
        "hidden_units = [128, 64, 32]\n",
        "dropout_rate = 0.2\n",
        "l2_reg = 1e-6\n",
        "\n",
        "# Arquitectura del modelo\n",
        "user_input = Input(shape=[1], name='user_input')\n",
        "item_input = Input(shape=[1], name='item_input')\n",
        "concat = Concatenate()([user_input, item_input])\n",
        "dense = concat\n",
        "for units in hidden_units:\n",
        "    dense = Dense(units, activation='relu', kernel_regularizer=l2(l2_reg))(dense)\n",
        "    dense = Dropout(dropout_rate)(dense)\n",
        "output = Dense(1, kernel_regularizer=l2(l2_reg))(dense)  # También puedes aplicar regularización L2 aquí\n",
        "model = Model(inputs=[user_input, item_input], outputs=output)\n",
        "model.compile(optimizer=Adam(0.001), loss='mean_squared_error')"
      ]
    },
    {
      "cell_type": "code",
      "execution_count": null,
      "metadata": {
        "id": "N7uvl8VEhqdD"
      },
      "outputs": [],
      "source": [
        "# Callbacks\n",
        "early_stop = EarlyStopping(monitor='val_loss', patience=50)\n",
        "reduce_lr = ReduceLROnPlateau(monitor='val_loss', factor=0.2, patience=50, min_lr=1e-5)"
      ]
    },
    {
      "cell_type": "code",
      "execution_count": null,
      "metadata": {
        "id": "blU4Q9akkVBc"
      },
      "outputs": [],
      "source": [
        "# Datos para entrenamiento\n",
        "user_data = df['user_id'].values\n",
        "item_data = df['item_id'].values\n",
        "rating_data = df['overall'].values\n",
        "\n",
        "# División en entrenamiento y prueba\n",
        "(user_ids_temp, user_ids_test, item_ids_temp, item_ids_test, ratings_temp, ratings_test) = train_test_split(\n",
        "    user_ids, item_ids, ratings, test_size=0.2, random_state=42)\n",
        "\n",
        "# División del conjunto de entrenamiento en entrenamiento y validación\n",
        "(user_ids_train, user_ids_val, item_ids_train, item_ids_val, ratings_train, ratings_val) = train_test_split(\n",
        "    user_ids_temp, item_ids_temp, ratings_temp, test_size=0.25, random_state=42)  # 0.25 x 0.8 = 0.2"
      ]
    },
    {
      "cell_type": "code",
      "execution_count": null,
      "metadata": {
        "colab": {
          "base_uri": "https://localhost:8080/"
        },
        "id": "kGxLwUhzf32z",
        "outputId": "8036e13f-a9e4-41ae-987a-ed0300c8cade"
      },
      "outputs": [
        {
          "output_type": "stream",
          "name": "stdout",
          "text": [
            "Epoch 1/500\n",
            "73/73 [==============================] - 3s 10ms/step - loss: 277853216.0000 - val_loss: 156887.4375 - lr: 0.0010\n",
            "Epoch 2/500\n",
            "73/73 [==============================] - 1s 8ms/step - loss: 4966928.0000 - val_loss: 8080.3521 - lr: 0.0010\n",
            "Epoch 3/500\n",
            "73/73 [==============================] - 1s 8ms/step - loss: 1345436.0000 - val_loss: 4404.3252 - lr: 0.0010\n",
            "Epoch 4/500\n",
            "73/73 [==============================] - 1s 8ms/step - loss: 657468.4375 - val_loss: 962.2989 - lr: 0.0010\n",
            "Epoch 5/500\n",
            "73/73 [==============================] - 1s 8ms/step - loss: 354434.2812 - val_loss: 283.0843 - lr: 0.0010\n",
            "Epoch 6/500\n",
            "73/73 [==============================] - 1s 8ms/step - loss: 217726.4219 - val_loss: 137.2382 - lr: 0.0010\n",
            "Epoch 7/500\n",
            "73/73 [==============================] - 1s 7ms/step - loss: 167356.1875 - val_loss: 57.6336 - lr: 0.0010\n",
            "Epoch 8/500\n",
            "73/73 [==============================] - 1s 7ms/step - loss: 133686.0000 - val_loss: 33.9599 - lr: 0.0010\n",
            "Epoch 9/500\n",
            "73/73 [==============================] - 1s 7ms/step - loss: 112450.2422 - val_loss: 30.4685 - lr: 0.0010\n",
            "Epoch 10/500\n",
            "73/73 [==============================] - 1s 7ms/step - loss: 94489.9062 - val_loss: 21.0372 - lr: 0.0010\n",
            "Epoch 11/500\n",
            "73/73 [==============================] - 1s 7ms/step - loss: 83012.4766 - val_loss: 19.7375 - lr: 0.0010\n",
            "Epoch 12/500\n",
            "73/73 [==============================] - 1s 8ms/step - loss: 77779.0391 - val_loss: 15.8870 - lr: 0.0010\n",
            "Epoch 13/500\n",
            "73/73 [==============================] - 1s 8ms/step - loss: 70516.6875 - val_loss: 10.8267 - lr: 0.0010\n",
            "Epoch 14/500\n",
            "73/73 [==============================] - 1s 7ms/step - loss: 65380.7695 - val_loss: 11.3773 - lr: 0.0010\n",
            "Epoch 15/500\n",
            "73/73 [==============================] - 1s 7ms/step - loss: 60023.1523 - val_loss: 12.1519 - lr: 0.0010\n",
            "Epoch 16/500\n",
            "73/73 [==============================] - 1s 8ms/step - loss: 56451.4688 - val_loss: 10.3113 - lr: 0.0010\n",
            "Epoch 17/500\n",
            "73/73 [==============================] - 1s 7ms/step - loss: 51210.9414 - val_loss: 12.0227 - lr: 0.0010\n",
            "Epoch 18/500\n",
            "73/73 [==============================] - 1s 8ms/step - loss: 48813.8945 - val_loss: 10.3557 - lr: 0.0010\n",
            "Epoch 19/500\n",
            "73/73 [==============================] - 1s 7ms/step - loss: 45067.2500 - val_loss: 9.0162 - lr: 0.0010\n",
            "Epoch 20/500\n",
            "73/73 [==============================] - 1s 8ms/step - loss: 40021.0000 - val_loss: 9.9925 - lr: 0.0010\n",
            "Epoch 21/500\n",
            "73/73 [==============================] - 1s 7ms/step - loss: 35275.8867 - val_loss: 10.1329 - lr: 0.0010\n",
            "Epoch 22/500\n",
            "73/73 [==============================] - 1s 8ms/step - loss: 38150.8008 - val_loss: 10.1730 - lr: 0.0010\n",
            "Epoch 23/500\n",
            "73/73 [==============================] - 1s 7ms/step - loss: 31687.3418 - val_loss: 9.0010 - lr: 0.0010\n",
            "Epoch 24/500\n",
            "73/73 [==============================] - 1s 8ms/step - loss: 27450.3652 - val_loss: 8.7651 - lr: 0.0010\n",
            "Epoch 25/500\n",
            "73/73 [==============================] - 1s 8ms/step - loss: 24884.1562 - val_loss: 7.6673 - lr: 0.0010\n",
            "Epoch 26/500\n",
            "73/73 [==============================] - 1s 8ms/step - loss: 18347.2402 - val_loss: 7.7247 - lr: 0.0010\n",
            "Epoch 27/500\n",
            "73/73 [==============================] - 1s 8ms/step - loss: 11687.6260 - val_loss: 7.0851 - lr: 0.0010\n",
            "Epoch 28/500\n",
            "73/73 [==============================] - 1s 8ms/step - loss: 10658.7324 - val_loss: 7.9569 - lr: 0.0010\n",
            "Epoch 29/500\n",
            "73/73 [==============================] - 1s 8ms/step - loss: 8026.6328 - val_loss: 7.7493 - lr: 0.0010\n",
            "Epoch 30/500\n",
            "73/73 [==============================] - 1s 8ms/step - loss: 9106.2812 - val_loss: 7.8924 - lr: 0.0010\n",
            "Epoch 31/500\n",
            "73/73 [==============================] - 1s 7ms/step - loss: 8276.1709 - val_loss: 7.4171 - lr: 0.0010\n",
            "Epoch 32/500\n",
            "73/73 [==============================] - 1s 7ms/step - loss: 8272.4053 - val_loss: 7.5020 - lr: 0.0010\n",
            "Epoch 33/500\n",
            "73/73 [==============================] - 1s 7ms/step - loss: 6630.3486 - val_loss: 8.4290 - lr: 0.0010\n",
            "Epoch 34/500\n",
            "73/73 [==============================] - 1s 7ms/step - loss: 7356.0410 - val_loss: 7.4813 - lr: 0.0010\n",
            "Epoch 35/500\n",
            "73/73 [==============================] - 1s 7ms/step - loss: 6716.5293 - val_loss: 7.1664 - lr: 0.0010\n",
            "Epoch 36/500\n",
            "73/73 [==============================] - 1s 8ms/step - loss: 6564.8057 - val_loss: 7.7106 - lr: 0.0010\n",
            "Epoch 37/500\n",
            "73/73 [==============================] - 1s 7ms/step - loss: 6091.3882 - val_loss: 8.2540 - lr: 0.0010\n",
            "Epoch 38/500\n",
            "73/73 [==============================] - 1s 7ms/step - loss: 6468.9653 - val_loss: 7.7754 - lr: 0.0010\n",
            "Epoch 39/500\n",
            "73/73 [==============================] - 1s 7ms/step - loss: 5560.2686 - val_loss: 8.1803 - lr: 0.0010\n",
            "Epoch 40/500\n",
            "73/73 [==============================] - 1s 7ms/step - loss: 5784.5068 - val_loss: 8.4813 - lr: 0.0010\n",
            "Epoch 41/500\n",
            "73/73 [==============================] - 1s 7ms/step - loss: 6051.7388 - val_loss: 8.1113 - lr: 0.0010\n",
            "Epoch 42/500\n",
            "73/73 [==============================] - 1s 7ms/step - loss: 6312.5049 - val_loss: 7.2903 - lr: 0.0010\n",
            "Epoch 43/500\n",
            "73/73 [==============================] - 1s 8ms/step - loss: 6280.7192 - val_loss: 7.8177 - lr: 0.0010\n",
            "Epoch 44/500\n",
            "73/73 [==============================] - 1s 8ms/step - loss: 6385.7300 - val_loss: 7.6298 - lr: 0.0010\n",
            "Epoch 45/500\n",
            "73/73 [==============================] - 1s 8ms/step - loss: 5335.3066 - val_loss: 8.2129 - lr: 0.0010\n",
            "Epoch 46/500\n",
            "73/73 [==============================] - 1s 8ms/step - loss: 4855.8569 - val_loss: 9.6451 - lr: 0.0010\n",
            "Epoch 47/500\n",
            "73/73 [==============================] - 1s 8ms/step - loss: 4368.5518 - val_loss: 8.3641 - lr: 0.0010\n",
            "Epoch 48/500\n",
            "73/73 [==============================] - 1s 8ms/step - loss: 5118.3257 - val_loss: 8.4776 - lr: 0.0010\n",
            "Epoch 49/500\n",
            "73/73 [==============================] - 1s 8ms/step - loss: 5534.6089 - val_loss: 9.0614 - lr: 0.0010\n",
            "Epoch 50/500\n",
            "73/73 [==============================] - 1s 8ms/step - loss: 5537.7808 - val_loss: 7.1642 - lr: 0.0010\n",
            "Epoch 51/500\n",
            "73/73 [==============================] - 1s 8ms/step - loss: 5013.8862 - val_loss: 8.2722 - lr: 0.0010\n",
            "Epoch 52/500\n",
            "73/73 [==============================] - 1s 8ms/step - loss: 4755.5601 - val_loss: 7.8229 - lr: 0.0010\n",
            "Epoch 53/500\n",
            "73/73 [==============================] - 1s 8ms/step - loss: 4365.1753 - val_loss: 7.6064 - lr: 0.0010\n",
            "Epoch 54/500\n",
            "73/73 [==============================] - 1s 8ms/step - loss: 4786.9912 - val_loss: 7.7461 - lr: 0.0010\n",
            "Epoch 55/500\n",
            "73/73 [==============================] - 1s 8ms/step - loss: 4635.8823 - val_loss: 7.8457 - lr: 0.0010\n",
            "Epoch 56/500\n",
            "73/73 [==============================] - 1s 7ms/step - loss: 4014.2031 - val_loss: 8.5541 - lr: 0.0010\n",
            "Epoch 57/500\n",
            "73/73 [==============================] - 1s 8ms/step - loss: 4528.3115 - val_loss: 8.1624 - lr: 0.0010\n",
            "Epoch 58/500\n",
            "73/73 [==============================] - 1s 8ms/step - loss: 3927.5566 - val_loss: 6.6692 - lr: 0.0010\n",
            "Epoch 59/500\n",
            "73/73 [==============================] - 1s 7ms/step - loss: 3436.1899 - val_loss: 6.5407 - lr: 0.0010\n",
            "Epoch 60/500\n",
            "73/73 [==============================] - 1s 7ms/step - loss: 3709.4468 - val_loss: 6.6465 - lr: 0.0010\n",
            "Epoch 61/500\n",
            "73/73 [==============================] - 1s 8ms/step - loss: 3910.3467 - val_loss: 9.0812 - lr: 0.0010\n",
            "Epoch 62/500\n",
            "73/73 [==============================] - 1s 7ms/step - loss: 3836.5532 - val_loss: 7.0018 - lr: 0.0010\n",
            "Epoch 63/500\n",
            "73/73 [==============================] - 1s 8ms/step - loss: 3610.6755 - val_loss: 6.8427 - lr: 0.0010\n",
            "Epoch 64/500\n",
            "73/73 [==============================] - 1s 7ms/step - loss: 3591.7861 - val_loss: 6.9791 - lr: 0.0010\n",
            "Epoch 65/500\n",
            "73/73 [==============================] - 1s 8ms/step - loss: 3851.7876 - val_loss: 6.1587 - lr: 0.0010\n",
            "Epoch 66/500\n",
            "73/73 [==============================] - 1s 7ms/step - loss: 3868.3262 - val_loss: 7.8295 - lr: 0.0010\n",
            "Epoch 67/500\n",
            "73/73 [==============================] - 1s 7ms/step - loss: 3700.4036 - val_loss: 8.0458 - lr: 0.0010\n",
            "Epoch 68/500\n",
            "73/73 [==============================] - 1s 8ms/step - loss: 3481.7849 - val_loss: 8.5356 - lr: 0.0010\n",
            "Epoch 69/500\n",
            "73/73 [==============================] - 1s 8ms/step - loss: 2733.4446 - val_loss: 7.0443 - lr: 0.0010\n",
            "Epoch 70/500\n",
            "73/73 [==============================] - 1s 8ms/step - loss: 2972.9214 - val_loss: 8.3698 - lr: 0.0010\n",
            "Epoch 71/500\n",
            "73/73 [==============================] - 1s 8ms/step - loss: 2882.6895 - val_loss: 7.0078 - lr: 0.0010\n",
            "Epoch 72/500\n",
            "73/73 [==============================] - 1s 7ms/step - loss: 2833.1257 - val_loss: 9.5666 - lr: 0.0010\n",
            "Epoch 73/500\n",
            "73/73 [==============================] - 1s 8ms/step - loss: 3585.9243 - val_loss: 6.1995 - lr: 0.0010\n",
            "Epoch 74/500\n",
            "73/73 [==============================] - 1s 8ms/step - loss: 3129.1655 - val_loss: 7.9622 - lr: 0.0010\n",
            "Epoch 75/500\n",
            "73/73 [==============================] - 1s 8ms/step - loss: 2850.1277 - val_loss: 5.5108 - lr: 0.0010\n",
            "Epoch 76/500\n",
            "73/73 [==============================] - 1s 8ms/step - loss: 2791.4722 - val_loss: 5.9745 - lr: 0.0010\n",
            "Epoch 77/500\n",
            "73/73 [==============================] - 1s 8ms/step - loss: 2994.8594 - val_loss: 5.4708 - lr: 0.0010\n",
            "Epoch 78/500\n",
            "73/73 [==============================] - 1s 8ms/step - loss: 2809.7119 - val_loss: 45.9538 - lr: 0.0010\n",
            "Epoch 79/500\n",
            "73/73 [==============================] - 1s 8ms/step - loss: 3118.7429 - val_loss: 6.7805 - lr: 0.0010\n",
            "Epoch 80/500\n",
            "73/73 [==============================] - 1s 8ms/step - loss: 2535.9380 - val_loss: 13.2957 - lr: 0.0010\n",
            "Epoch 81/500\n",
            "73/73 [==============================] - 1s 8ms/step - loss: 2770.6394 - val_loss: 7.0412 - lr: 0.0010\n",
            "Epoch 82/500\n",
            "73/73 [==============================] - 1s 8ms/step - loss: 2876.7080 - val_loss: 9.1840 - lr: 0.0010\n",
            "Epoch 83/500\n",
            "73/73 [==============================] - 1s 8ms/step - loss: 1930.1592 - val_loss: 7.7158 - lr: 0.0010\n",
            "Epoch 84/500\n",
            "73/73 [==============================] - 1s 8ms/step - loss: 2571.9656 - val_loss: 7.5199 - lr: 0.0010\n",
            "Epoch 85/500\n",
            "73/73 [==============================] - 1s 8ms/step - loss: 3368.7488 - val_loss: 5.8677 - lr: 0.0010\n",
            "Epoch 86/500\n",
            "73/73 [==============================] - 1s 8ms/step - loss: 2134.5354 - val_loss: 6.2217 - lr: 0.0010\n",
            "Epoch 87/500\n",
            "73/73 [==============================] - 1s 8ms/step - loss: 2279.0120 - val_loss: 7.0835 - lr: 0.0010\n",
            "Epoch 88/500\n",
            "73/73 [==============================] - 1s 8ms/step - loss: 2386.4138 - val_loss: 9.1755 - lr: 0.0010\n",
            "Epoch 89/500\n",
            "73/73 [==============================] - 1s 8ms/step - loss: 2718.7529 - val_loss: 10.4068 - lr: 0.0010\n",
            "Epoch 90/500\n",
            "73/73 [==============================] - 1s 8ms/step - loss: 2185.4778 - val_loss: 8.2252 - lr: 0.0010\n",
            "Epoch 91/500\n",
            "73/73 [==============================] - 1s 7ms/step - loss: 1996.3676 - val_loss: 14.6050 - lr: 0.0010\n",
            "Epoch 92/500\n",
            "73/73 [==============================] - 1s 8ms/step - loss: 2402.3740 - val_loss: 9.0760 - lr: 0.0010\n",
            "Epoch 93/500\n",
            "73/73 [==============================] - 1s 8ms/step - loss: 1452.9226 - val_loss: 8.2613 - lr: 0.0010\n",
            "Epoch 94/500\n",
            "73/73 [==============================] - 1s 8ms/step - loss: 1576.1200 - val_loss: 10.4839 - lr: 0.0010\n",
            "Epoch 95/500\n",
            "73/73 [==============================] - 1s 8ms/step - loss: 1674.6696 - val_loss: 8.5777 - lr: 0.0010\n",
            "Epoch 96/500\n",
            "73/73 [==============================] - 1s 8ms/step - loss: 1767.8684 - val_loss: 11.1485 - lr: 0.0010\n",
            "Epoch 97/500\n",
            "73/73 [==============================] - 1s 8ms/step - loss: 1648.8997 - val_loss: 8.1582 - lr: 0.0010\n",
            "Epoch 98/500\n",
            "73/73 [==============================] - 1s 8ms/step - loss: 1728.7906 - val_loss: 9.3598 - lr: 0.0010\n",
            "Epoch 99/500\n",
            "73/73 [==============================] - 1s 8ms/step - loss: 1810.4294 - val_loss: 10.0707 - lr: 0.0010\n",
            "Epoch 100/500\n",
            "73/73 [==============================] - 1s 8ms/step - loss: 1386.7898 - val_loss: 10.2663 - lr: 0.0010\n",
            "Epoch 101/500\n",
            "73/73 [==============================] - 1s 8ms/step - loss: 1467.5858 - val_loss: 6.2466 - lr: 0.0010\n",
            "Epoch 102/500\n",
            "73/73 [==============================] - 1s 8ms/step - loss: 1418.1851 - val_loss: 16.3333 - lr: 0.0010\n",
            "Epoch 103/500\n",
            "73/73 [==============================] - 1s 8ms/step - loss: 1422.9067 - val_loss: 5.4559 - lr: 0.0010\n",
            "Epoch 104/500\n",
            "73/73 [==============================] - 1s 8ms/step - loss: 1062.1584 - val_loss: 11.2533 - lr: 0.0010\n",
            "Epoch 105/500\n",
            "73/73 [==============================] - 1s 8ms/step - loss: 1308.0341 - val_loss: 7.0691 - lr: 0.0010\n",
            "Epoch 106/500\n",
            "73/73 [==============================] - 1s 8ms/step - loss: 1205.1296 - val_loss: 25.9503 - lr: 0.0010\n",
            "Epoch 107/500\n",
            "73/73 [==============================] - 1s 8ms/step - loss: 1131.6680 - val_loss: 9.1058 - lr: 0.0010\n",
            "Epoch 108/500\n",
            "73/73 [==============================] - 1s 8ms/step - loss: 1118.3864 - val_loss: 14.2195 - lr: 0.0010\n",
            "Epoch 109/500\n",
            "73/73 [==============================] - 1s 8ms/step - loss: 1305.9119 - val_loss: 7.0757 - lr: 0.0010\n",
            "Epoch 110/500\n",
            "73/73 [==============================] - 1s 8ms/step - loss: 1080.9485 - val_loss: 6.8342 - lr: 0.0010\n",
            "Epoch 111/500\n",
            "73/73 [==============================] - 1s 8ms/step - loss: 1490.6782 - val_loss: 12.9120 - lr: 0.0010\n",
            "Epoch 112/500\n",
            "73/73 [==============================] - 1s 8ms/step - loss: 1071.4651 - val_loss: 12.2011 - lr: 0.0010\n",
            "Epoch 113/500\n",
            "73/73 [==============================] - 1s 8ms/step - loss: 1294.2251 - val_loss: 7.8972 - lr: 0.0010\n",
            "Epoch 114/500\n",
            "73/73 [==============================] - 1s 8ms/step - loss: 1004.1072 - val_loss: 5.7268 - lr: 0.0010\n",
            "Epoch 115/500\n",
            "73/73 [==============================] - 1s 8ms/step - loss: 1075.8040 - val_loss: 7.8779 - lr: 0.0010\n",
            "Epoch 116/500\n",
            "73/73 [==============================] - 1s 8ms/step - loss: 1025.7064 - val_loss: 8.7654 - lr: 0.0010\n",
            "Epoch 117/500\n",
            "73/73 [==============================] - 1s 8ms/step - loss: 926.0936 - val_loss: 7.7251 - lr: 0.0010\n",
            "Epoch 118/500\n",
            "73/73 [==============================] - 1s 8ms/step - loss: 660.3323 - val_loss: 195.2073 - lr: 0.0010\n",
            "Epoch 119/500\n",
            "73/73 [==============================] - 1s 8ms/step - loss: 1098.3617 - val_loss: 14.9202 - lr: 0.0010\n",
            "Epoch 120/500\n",
            "73/73 [==============================] - 1s 8ms/step - loss: 689.8120 - val_loss: 13.9485 - lr: 0.0010\n",
            "Epoch 121/500\n",
            "73/73 [==============================] - 1s 8ms/step - loss: 852.9562 - val_loss: 13.5225 - lr: 0.0010\n",
            "Epoch 122/500\n",
            "73/73 [==============================] - 1s 8ms/step - loss: 953.8514 - val_loss: 14.3092 - lr: 0.0010\n",
            "Epoch 123/500\n",
            "73/73 [==============================] - 1s 8ms/step - loss: 729.8228 - val_loss: 12.1918 - lr: 0.0010\n",
            "Epoch 124/500\n",
            "73/73 [==============================] - 1s 8ms/step - loss: 812.8680 - val_loss: 11.7400 - lr: 0.0010\n",
            "Epoch 125/500\n",
            "73/73 [==============================] - 1s 8ms/step - loss: 875.7201 - val_loss: 9.7618 - lr: 0.0010\n",
            "Epoch 126/500\n",
            "73/73 [==============================] - 1s 8ms/step - loss: 881.3986 - val_loss: 9.7674 - lr: 0.0010\n",
            "Epoch 127/500\n",
            "73/73 [==============================] - 1s 8ms/step - loss: 554.5189 - val_loss: 8.3968 - lr: 0.0010\n",
            "Epoch 128/500\n",
            "73/73 [==============================] - 1s 8ms/step - loss: 576.2529 - val_loss: 8.0547 - lr: 0.0010\n",
            "Epoch 129/500\n",
            "73/73 [==============================] - 1s 8ms/step - loss: 522.4214 - val_loss: 7.0950 - lr: 0.0010\n",
            "Epoch 130/500\n",
            "73/73 [==============================] - 1s 8ms/step - loss: 574.9365 - val_loss: 7.9249 - lr: 0.0010\n",
            "Epoch 131/500\n",
            "73/73 [==============================] - 1s 8ms/step - loss: 1089.1248 - val_loss: 9.0413 - lr: 0.0010\n",
            "Epoch 132/500\n",
            "73/73 [==============================] - 1s 8ms/step - loss: 727.4194 - val_loss: 43.7900 - lr: 0.0010\n",
            "Epoch 133/500\n",
            "73/73 [==============================] - 1s 8ms/step - loss: 615.9083 - val_loss: 9.6917 - lr: 0.0010\n",
            "Epoch 134/500\n",
            "73/73 [==============================] - 1s 8ms/step - loss: 868.6263 - val_loss: 10.7233 - lr: 0.0010\n",
            "Epoch 135/500\n",
            "73/73 [==============================] - 1s 8ms/step - loss: 733.6486 - val_loss: 8.9179 - lr: 0.0010\n",
            "Epoch 136/500\n",
            "73/73 [==============================] - 1s 8ms/step - loss: 668.5209 - val_loss: 6.5032 - lr: 0.0010\n",
            "Epoch 137/500\n",
            "73/73 [==============================] - 1s 8ms/step - loss: 453.3428 - val_loss: 10.0950 - lr: 0.0010\n",
            "Epoch 138/500\n",
            "73/73 [==============================] - 1s 8ms/step - loss: 408.7522 - val_loss: 8.9522 - lr: 0.0010\n",
            "Epoch 139/500\n",
            "73/73 [==============================] - 1s 8ms/step - loss: 815.9568 - val_loss: 10.0179 - lr: 0.0010\n",
            "Epoch 140/500\n",
            "73/73 [==============================] - 1s 8ms/step - loss: 297.8842 - val_loss: 34.9162 - lr: 0.0010\n",
            "Epoch 141/500\n",
            "73/73 [==============================] - 1s 8ms/step - loss: 420.6282 - val_loss: 8.3225 - lr: 0.0010\n",
            "Epoch 142/500\n",
            "73/73 [==============================] - 1s 8ms/step - loss: 339.7194 - val_loss: 16.8805 - lr: 0.0010\n",
            "Epoch 143/500\n",
            "73/73 [==============================] - 1s 8ms/step - loss: 604.4489 - val_loss: 8.6912 - lr: 0.0010\n",
            "Epoch 144/500\n",
            "73/73 [==============================] - 1s 8ms/step - loss: 250.3136 - val_loss: 7.0906 - lr: 0.0010\n",
            "Epoch 145/500\n",
            "73/73 [==============================] - 1s 8ms/step - loss: 213.1617 - val_loss: 10.6432 - lr: 0.0010\n",
            "Epoch 146/500\n",
            "73/73 [==============================] - 1s 8ms/step - loss: 309.1479 - val_loss: 10.1906 - lr: 0.0010\n",
            "Epoch 147/500\n",
            "73/73 [==============================] - 1s 8ms/step - loss: 288.1230 - val_loss: 9.8469 - lr: 0.0010\n",
            "Epoch 148/500\n",
            "73/73 [==============================] - 1s 8ms/step - loss: 385.9151 - val_loss: 8.5282 - lr: 0.0010\n",
            "Epoch 149/500\n",
            "73/73 [==============================] - 1s 8ms/step - loss: 208.5206 - val_loss: 6.7084 - lr: 0.0010\n",
            "Epoch 150/500\n",
            "73/73 [==============================] - 1s 8ms/step - loss: 442.5050 - val_loss: 10.3622 - lr: 0.0010\n",
            "Epoch 151/500\n",
            "73/73 [==============================] - 1s 8ms/step - loss: 318.3425 - val_loss: 9.3066 - lr: 0.0010\n",
            "Epoch 152/500\n",
            "73/73 [==============================] - 1s 8ms/step - loss: 239.5469 - val_loss: 7.9678 - lr: 0.0010\n",
            "Epoch 153/500\n",
            "73/73 [==============================] - 1s 8ms/step - loss: 273.1868 - val_loss: 8.5339 - lr: 0.0010\n",
            "CPU times: user 2min 33s, sys: 8.72 s, total: 2min 42s\n",
            "Wall time: 1min 29s\n"
          ]
        }
      ],
      "source": [
        "%%time\n",
        "# Entrenamiento del modelo\n",
        "history = model.fit([user_ids_train, item_ids_train], ratings_train,\n",
        "    epochs=500,validation_data=([user_ids_val, item_ids_val], ratings_val),\n",
        "    batch_size=40000,verbose=1,callbacks=[early_stop, reduce_lr])"
      ]
    },
    {
      "cell_type": "code",
      "execution_count": null,
      "metadata": {
        "colab": {
          "base_uri": "https://localhost:8080/"
        },
        "id": "Rhuwylfbf26k",
        "outputId": "ddb7a896-dbf3-4693-c579-f0c994a764bb"
      },
      "outputs": [
        {
          "output_type": "stream",
          "name": "stdout",
          "text": [
            "30004/30004 [==============================] - 46s 2ms/step\n"
          ]
        }
      ],
      "source": [
        "# Evaluar el modelo\n",
        "y_true = ratings_test\n",
        "predictions = model.predict([user_ids_test, item_ids_test])"
      ]
    },
    {
      "cell_type": "code",
      "execution_count": null,
      "metadata": {
        "id": "CmYiE_PhkU66",
        "colab": {
          "base_uri": "https://localhost:8080/"
        },
        "outputId": "ecd5b435-dd9f-47b4-af81-a71d8d5fb86f"
      },
      "outputs": [
        {
          "output_type": "stream",
          "name": "stdout",
          "text": [
            "MSE: 8.52146346001084\n",
            "RMSE: 2.9191545796704292\n",
            "MAE: 2.7319196915172466\n",
            "MAPE: 61.77127659352059%\n"
          ]
        }
      ],
      "source": [
        "# MSE y RMSE\n",
        "mse = mean_squared_error(y_true, predictions)\n",
        "rmse = np.sqrt(mse)\n",
        "\n",
        "# MAE\n",
        "mae = mean_absolute_error(y_true, predictions)\n",
        "\n",
        "# Funciones MAPE\n",
        "def mean_absolute_percentage_error(y_true, y_pred):\n",
        "    y_true, y_pred = np.array(y_true), np.array(y_pred)\n",
        "    non_zero_idx = y_true != 0  # Para evitar divisiones por cero\n",
        "    return np.mean(np.abs((y_true[non_zero_idx] - y_pred[non_zero_idx]) / y_true[non_zero_idx])) * 100\n",
        "\n",
        "def compute_mape_by_batch(y_true, predictions, batch_size=50000):\n",
        "    mape_sum = 0\n",
        "    num_batches = int(np.ceil(len(y_true) / batch_size))\n",
        "\n",
        "    for i in range(num_batches):\n",
        "        start_idx = i * batch_size\n",
        "        end_idx = start_idx + batch_size\n",
        "\n",
        "        batch_y_true = y_true[start_idx:end_idx]\n",
        "        batch_predictions = predictions[start_idx:end_idx]\n",
        "\n",
        "        mape_sum += mean_absolute_percentage_error(batch_y_true, batch_predictions)\n",
        "\n",
        "    return mape_sum / num_batches\n",
        "\n",
        "# Luego llamas a la función\n",
        "mape = compute_mape_by_batch(y_true, predictions)\n",
        "\n",
        "print(f'MSE: {mse}')\n",
        "print(f'RMSE: {rmse}')\n",
        "print(f'MAE: {mae}')\n",
        "print(f'MAPE: {mape}%')"
      ]
    },
    {
      "cell_type": "markdown",
      "source": [
        "# Recomendación"
      ],
      "metadata": {
        "id": "3cpno7_qiX_J"
      }
    },
    {
      "cell_type": "code",
      "source": [
        "# Seleccionar un usuario al azar del conjunto de prueba\n",
        "usuario_id_test_encoded = random.choice(user_ids_test)\n",
        "\n",
        "# Decodificar el ID del usuario para obtener el ID original\n",
        "usuario_id_test = reviewerID_encoder.inverse_transform([usuario_id_test_encoded])[0]\n",
        "\n",
        "# Identificar los ítems que el usuario ha calificado en el conjunto de prueba\n",
        "indices_usuario = np.where(user_ids_test == usuario_id_test_encoded)[0]\n",
        "items_calificados_test_encoded = item_ids_test[indices_usuario]\n",
        "calificaciones_reales_test = ratings_test[indices_usuario]\n",
        "\n",
        "# Predecir las calificaciones para estos ítems\n",
        "calificaciones_predichas = model.predict([np.array([usuario_id_test_encoded] * len(items_calificados_test_encoded)), items_calificados_test_encoded])\n",
        "\n",
        "# Decodificar los ítems para obtener los ID originales\n",
        "items_calificados_test = asin_encoder.inverse_transform(items_calificados_test_encoded)\n",
        "\n",
        "# Comparar las calificaciones predichas con las reales\n",
        "comparacion = list(zip(items_calificados_test, calificaciones_reales_test, calificaciones_predichas.flatten()))\n",
        "\n",
        "# Mostrar las comparaciones\n",
        "print(f\"Recomendaciones para el usuario {usuario_id_test}:\")\n",
        "for item, real, predicha in comparacion:\n",
        "    print(f\"Ítem: {item}, Calificación Real: {real}, Calificación Predicha: {predicha}\")\n"
      ],
      "metadata": {
        "id": "DVbVdWePiZu2",
        "colab": {
          "base_uri": "https://localhost:8080/"
        },
        "outputId": "a094864b-87fb-405b-b9dc-c997f58334f1"
      },
      "execution_count": null,
      "outputs": [
        {
          "output_type": "stream",
          "name": "stdout",
          "text": [
            "1/1 [==============================] - 0s 21ms/step\n",
            "Recomendaciones para el usuario AO7TC1RNHYZF5:\n",
            "Ítem: B006SRSZR4, Calificación Real: 5.0, Calificación Predicha: 1.8734742403030396\n"
          ]
        }
      ]
    },
    {
      "cell_type": "code",
      "source": [
        "# Seleccionar un usuario al azar del conjunto de prueba\n",
        "usuario_id_test_encoded = random.choice(user_ids_test)\n",
        "\n",
        "# Decodificar el ID del usuario para obtener el ID original\n",
        "usuario_id = reviewerID_encoder.inverse_transform([usuario_id_test_encoded])[0]\n",
        "\n",
        "# Lista de todos los ítems únicos en el dataset\n",
        "items_unicos = np.unique(data['asin'].values)\n",
        "\n",
        "# Ítems que el usuario ya ha calificado\n",
        "items_calificados = data[data['reviewerID_encoded'] == usuario_id_test_encoded]['asin'].tolist()\n",
        "\n",
        "# Ítems para predecir\n",
        "items_a_predecir = [item for item in items_unicos if item not in items_calificados]\n",
        "\n",
        "# Convierte los ítems a su representación codificada\n",
        "items_a_predecir_encoded = asin_encoder.transform(items_a_predecir)\n",
        "\n",
        "# Predecir la calificación para cada ítem no calificado\n",
        "predicciones = model.predict([np.array([usuario_id_test_encoded] * len(items_a_predecir_encoded)), items_a_predecir_encoded])\n",
        "\n",
        "# Emparejar cada ítem con su predicción\n",
        "items_predicciones = list(zip(items_a_predecir, predicciones.flatten()))\n",
        "\n",
        "# Ordenar por la calificación predicha más alta\n",
        "items_recomendados = sorted(items_predicciones, key=lambda x: x[1], reverse=True)\n",
        "\n",
        "# Tomar los top N recomendaciones\n",
        "top_n = 5\n",
        "top_recomendaciones = items_recomendados[:top_n]\n",
        "\n",
        "# Imprimir las recomendaciones\n",
        "print(f\"Recomendaciones para el usuario {usuario_id}:\")\n",
        "for item, calificacion in top_recomendaciones:\n",
        "    print(f\"Ítem: {item}, Calificación Predicha: {calificacion}\")"
      ],
      "metadata": {
        "id": "yuFHwPuoiZ_7",
        "colab": {
          "base_uri": "https://localhost:8080/"
        },
        "outputId": "14c9e84d-6d50-4161-b68f-08c8dbc69e1b"
      },
      "execution_count": null,
      "outputs": [
        {
          "output_type": "stream",
          "name": "stdout",
          "text": [
            "4814/4814 [==============================] - 7s 1ms/step\n",
            "Recomendaciones para el usuario A3EOSH5CVWQH2G:\n",
            "Ítem: B01HJHR8A6, Calificación Predicha: 1.7978637218475342\n",
            "Ítem: B01HJGJ9LS, Calificación Predicha: 1.7978627681732178\n",
            "Ítem: B01HJDZM30, Calificación Predicha: 1.7978618144989014\n",
            "Ítem: B01HJD4BBE, Calificación Predicha: 1.7978606224060059\n",
            "Ítem: B01HJCSCLK, Calificación Predicha: 1.7978599071502686\n"
          ]
        }
      ]
    },
    {
      "cell_type": "markdown",
      "metadata": {
        "id": "WTOAZeGrujrU"
      },
      "source": [
        "# Modelo de Filtrado Colaborativo usando Red Neuronal Multicapa y Embedding con Keras:\n",
        "\n",
        "Otra enfoque popular para filtrado colaborativo es utilizar redes neuronales multicapa, que esencialmente aprenden características no lineales de los datos. Vamos a construir un modelo que fusiona los embeddings de usuarios y artículos (por ejemplo, películas) en una red neuronal densa.\n",
        "\n",
        "Este enfoque, que combina embeddings y redes neuronales multicapa, puede capturar interacciones más complejas y no lineales entre usuarios y artículos. Sin embargo, es crucial prestar atención al sobreajuste y asegurarse de que el modelo no esté simplemente memorizando los datos. Por lo tanto, es recomendable emplear técnicas de regularización, ajustar hiperparámetros y validar el rendimiento con un conjunto de datos de validación."
      ]
    },
    {
      "cell_type": "markdown",
      "metadata": {
        "id": "i3Rzzhtfl7nK"
      },
      "source": [
        "Funcionamiento:\n",
        "\n",
        "Combina lo mejor de ambos mundos. Primero, se utilizan embeddings para convertir ítems y usuarios en representaciones vectoriales densas. Luego, estas representaciones se pasan a través de una red neuronal para hacer la predicción.\n",
        "\n",
        "El proceso generalmente comienza con capas de embedding que convierten identificadores de usuarios e ítems en vectores. Estos vectores luego se pasan a través de capas densas para obtener la predicción final.\n",
        "\n",
        "Ventajas:\n",
        "\n",
        "Capacidad de capturar patrones subyacentes en los datos mediante embeddings y modelar interacciones no lineales mediante la red neuronal.\n",
        "\n",
        "Flexibilidad para incorporar características adicionales.\n",
        "\n",
        "Potencialmente más preciso que cualquiera de los otros dos métodos por separado.\n",
        "\n",
        "Desventajas:\n",
        "\n",
        "Mayor complejidad en el modelado y entrenamiento.\n",
        "\n",
        "Mayor costo computacional.\n",
        "\n",
        "Requiere un ajuste más cuidadoso y riesgo de sobreajuste si no se gestiona adecuadamente."
      ]
    },
    {
      "cell_type": "markdown",
      "metadata": {
        "id": "uY_n_5u4ymE8"
      },
      "source": [
        "Regularización L2: Agregar una regularización L2 a las capas de embedding y densas para prevenir el sobreajuste.\n",
        "\n",
        "Early Stopping: Añadir una callback de early stopping para detener el entrenamiento cuando no haya mejora en el conjunto de validación durante un cierto número de épocas.\n",
        "\n",
        "Ajuste de la tasa de aprendizaje: Utilizar la callback ReduceLROnPlateau para reducir la tasa de aprendizaje cuando no haya mejora en el conjunto de validación.\n",
        "\n",
        "Métricas adicionales: Puedes monitorizar otras métricas como el error absoluto medio (MAE) durante el entrenamiento."
      ]
    },
    {
      "cell_type": "code",
      "execution_count": null,
      "metadata": {
        "id": "zVRB5utBuqzB"
      },
      "outputs": [],
      "source": [
        "# Convertir reviewerID y asin a índices numéricos secuenciales\n",
        "df['user_id'] = df['reviewerID'].astype('category').cat.codes.values\n",
        "df['item_id'] = df['asin'].astype('category').cat.codes.values\n",
        "\n",
        "# Número de usuarios e ítems\n",
        "n_users = df['user_id'].nunique()\n",
        "n_items = df['item_id'].nunique()\n",
        "\n",
        "# Hiperparámetros\n",
        "n_latent_factors = 50\n",
        "hidden_units = [128, 64]\n",
        "dropout_rate = 0.2\n",
        "l2_reg = 1e-4\n",
        "\n",
        "# Arquitectura del modelo con regularización L2\n",
        "user_embedding = Embedding(n_users, n_latent_factors, embeddings_regularizer=l2(l2_reg), name='user_embedding')(user_input)\n",
        "item_embedding = Embedding(n_items, n_latent_factors, embeddings_regularizer=l2(l2_reg), name='item_embedding')(item_input)\n",
        "\n",
        "user_vec = Flatten(name='flatten_users')(user_embedding)\n",
        "item_vec = Flatten(name='flatten_items')(item_embedding)\n",
        "concat = Concatenate()([user_vec, item_vec])\n",
        "dense = concat\n",
        "for units in hidden_units:\n",
        "    dense = Dense(units, activation='relu', kernel_regularizer=l2(l2_reg))(dense)\n",
        "    dense = Dropout(dropout_rate)(dense)\n",
        "output = Dense(1, kernel_regularizer=l2(l2_reg))(dense)\n",
        "model = Model(inputs=[user_input, item_input], outputs=output)\n",
        "\n",
        "model.compile(optimizer=Adam(0.001), loss='mean_squared_error', metrics=['mae'])"
      ]
    },
    {
      "cell_type": "code",
      "execution_count": null,
      "metadata": {
        "id": "3I7zFMJBjTZ7"
      },
      "outputs": [],
      "source": [
        "# Callbacks\n",
        "early_stop = EarlyStopping(monitor='val_loss', patience=50, restore_best_weights=True)\n",
        "reduce_lr = ReduceLROnPlateau(monitor='val_loss', factor=0.2, patience=50, min_lr=1e-5)"
      ]
    },
    {
      "cell_type": "code",
      "execution_count": null,
      "metadata": {
        "id": "XJfWiirYxHwk"
      },
      "outputs": [],
      "source": [
        "# Entrenamiento\n",
        "user_data = df['user_id'].values\n",
        "item_data = df['item_id'].values\n",
        "rating_data = df['overall'].values\n",
        "\n",
        "# División en entrenamiento y prueba\n",
        "(user_ids_temp, user_ids_test, item_ids_temp, item_ids_test, ratings_temp, ratings_test) = train_test_split(\n",
        "    user_ids, item_ids, ratings, test_size=0.2, random_state=42)\n",
        "\n",
        "# División del conjunto de entrenamiento en entrenamiento y validación\n",
        "(user_ids_train, user_ids_val, item_ids_train, item_ids_val, ratings_train, ratings_val) = train_test_split(\n",
        "    user_ids_temp, item_ids_temp, ratings_temp, test_size=0.25, random_state=42)  # 0.25 x 0.8 = 0.2"
      ]
    },
    {
      "cell_type": "code",
      "execution_count": null,
      "metadata": {
        "id": "oXQNam6Bf-dT",
        "colab": {
          "base_uri": "https://localhost:8080/"
        },
        "outputId": "27d3c5f1-c975-46a6-bd27-b5d237523d48"
      },
      "outputs": [
        {
          "output_type": "stream",
          "name": "stdout",
          "text": [
            "Epoch 1/500\n",
            "73/73 [==============================] - 5s 50ms/step - loss: 11.1667 - mae: 2.5591 - val_loss: 2.1702 - val_mae: 1.0483 - lr: 0.0010\n",
            "Epoch 2/500\n",
            "73/73 [==============================] - 3s 42ms/step - loss: 1.9137 - mae: 0.9205 - val_loss: 1.7507 - val_mae: 0.8687 - lr: 0.0010\n",
            "Epoch 3/500\n",
            "73/73 [==============================] - 3s 42ms/step - loss: 1.6049 - mae: 0.8454 - val_loss: 1.6785 - val_mae: 0.8599 - lr: 0.0010\n",
            "Epoch 4/500\n",
            "73/73 [==============================] - 3s 42ms/step - loss: 1.4807 - mae: 0.8225 - val_loss: 1.6238 - val_mae: 0.8539 - lr: 0.0010\n",
            "Epoch 5/500\n",
            "73/73 [==============================] - 3s 42ms/step - loss: 1.3939 - mae: 0.8040 - val_loss: 1.5987 - val_mae: 0.8522 - lr: 0.0010\n",
            "Epoch 6/500\n",
            "73/73 [==============================] - 3s 42ms/step - loss: 1.3364 - mae: 0.7908 - val_loss: 1.5660 - val_mae: 0.8434 - lr: 0.0010\n",
            "Epoch 7/500\n",
            "73/73 [==============================] - 3s 43ms/step - loss: 1.2834 - mae: 0.7783 - val_loss: 1.5365 - val_mae: 0.8438 - lr: 0.0010\n",
            "Epoch 8/500\n",
            "73/73 [==============================] - 3s 38ms/step - loss: 1.2415 - mae: 0.7685 - val_loss: 1.5388 - val_mae: 0.8433 - lr: 0.0010\n",
            "Epoch 9/500\n",
            "73/73 [==============================] - 3s 38ms/step - loss: 1.2119 - mae: 0.7600 - val_loss: 1.5588 - val_mae: 0.8518 - lr: 0.0010\n",
            "Epoch 10/500\n",
            "73/73 [==============================] - 3s 38ms/step - loss: 1.1914 - mae: 0.7529 - val_loss: 1.5733 - val_mae: 0.8552 - lr: 0.0010\n",
            "Epoch 11/500\n",
            "73/73 [==============================] - 3s 38ms/step - loss: 1.1664 - mae: 0.7441 - val_loss: 1.5569 - val_mae: 0.8534 - lr: 0.0010\n",
            "Epoch 12/500\n",
            "73/73 [==============================] - 3s 42ms/step - loss: 1.1365 - mae: 0.7364 - val_loss: 1.5342 - val_mae: 0.8490 - lr: 0.0010\n",
            "Epoch 13/500\n",
            "73/73 [==============================] - 3s 43ms/step - loss: 1.1109 - mae: 0.7297 - val_loss: 1.5284 - val_mae: 0.8450 - lr: 0.0010\n",
            "Epoch 14/500\n",
            "73/73 [==============================] - 3s 38ms/step - loss: 1.0962 - mae: 0.7243 - val_loss: 1.5340 - val_mae: 0.8442 - lr: 0.0010\n",
            "Epoch 15/500\n",
            "73/73 [==============================] - 3s 38ms/step - loss: 1.0900 - mae: 0.7203 - val_loss: 1.5401 - val_mae: 0.8516 - lr: 0.0010\n",
            "Epoch 16/500\n",
            "73/73 [==============================] - 3s 38ms/step - loss: 1.0834 - mae: 0.7166 - val_loss: 1.5455 - val_mae: 0.8504 - lr: 0.0010\n",
            "Epoch 17/500\n",
            "73/73 [==============================] - 3s 38ms/step - loss: 1.0728 - mae: 0.7126 - val_loss: 1.5386 - val_mae: 0.8475 - lr: 0.0010\n",
            "Epoch 18/500\n",
            "73/73 [==============================] - 3s 38ms/step - loss: 1.0620 - mae: 0.7094 - val_loss: 1.5532 - val_mae: 0.8546 - lr: 0.0010\n",
            "Epoch 19/500\n",
            "73/73 [==============================] - 3s 38ms/step - loss: 1.0524 - mae: 0.7065 - val_loss: 1.5401 - val_mae: 0.8521 - lr: 0.0010\n",
            "Epoch 20/500\n",
            "73/73 [==============================] - 3s 42ms/step - loss: 1.0332 - mae: 0.7022 - val_loss: 1.5271 - val_mae: 0.8476 - lr: 0.0010\n",
            "Epoch 21/500\n",
            "73/73 [==============================] - 3s 42ms/step - loss: 1.0157 - mae: 0.6974 - val_loss: 1.5168 - val_mae: 0.8471 - lr: 0.0010\n",
            "Epoch 22/500\n",
            "73/73 [==============================] - 3s 43ms/step - loss: 1.0019 - mae: 0.6927 - val_loss: 1.5147 - val_mae: 0.8405 - lr: 0.0010\n",
            "Epoch 23/500\n",
            "73/73 [==============================] - 3s 43ms/step - loss: 0.9869 - mae: 0.6859 - val_loss: 1.5024 - val_mae: 0.8377 - lr: 0.0010\n",
            "Epoch 24/500\n",
            "73/73 [==============================] - 3s 42ms/step - loss: 0.9695 - mae: 0.6786 - val_loss: 1.4964 - val_mae: 0.8274 - lr: 0.0010\n",
            "Epoch 25/500\n",
            "73/73 [==============================] - 3s 38ms/step - loss: 0.9551 - mae: 0.6712 - val_loss: 1.4969 - val_mae: 0.8166 - lr: 0.0010\n",
            "Epoch 26/500\n",
            "73/73 [==============================] - 3s 38ms/step - loss: 0.9422 - mae: 0.6647 - val_loss: 1.4977 - val_mae: 0.8096 - lr: 0.0010\n",
            "Epoch 27/500\n",
            "73/73 [==============================] - 3s 42ms/step - loss: 0.9360 - mae: 0.6604 - val_loss: 1.4941 - val_mae: 0.8144 - lr: 0.0010\n",
            "Epoch 28/500\n",
            "73/73 [==============================] - 3s 42ms/step - loss: 0.9299 - mae: 0.6568 - val_loss: 1.4840 - val_mae: 0.8111 - lr: 0.0010\n",
            "Epoch 29/500\n",
            "73/73 [==============================] - 3s 38ms/step - loss: 0.9195 - mae: 0.6532 - val_loss: 1.4883 - val_mae: 0.8013 - lr: 0.0010\n",
            "Epoch 30/500\n",
            "73/73 [==============================] - 3s 42ms/step - loss: 0.9114 - mae: 0.6502 - val_loss: 1.4795 - val_mae: 0.8166 - lr: 0.0010\n",
            "Epoch 31/500\n",
            "73/73 [==============================] - 3s 38ms/step - loss: 0.9113 - mae: 0.6493 - val_loss: 1.5041 - val_mae: 0.7999 - lr: 0.0010\n",
            "Epoch 32/500\n",
            "73/73 [==============================] - 3s 38ms/step - loss: 0.9096 - mae: 0.6466 - val_loss: 1.5028 - val_mae: 0.7991 - lr: 0.0010\n",
            "Epoch 33/500\n",
            "73/73 [==============================] - 3s 38ms/step - loss: 0.9048 - mae: 0.6450 - val_loss: 1.5075 - val_mae: 0.7977 - lr: 0.0010\n",
            "Epoch 34/500\n",
            "73/73 [==============================] - 3s 38ms/step - loss: 0.8992 - mae: 0.6425 - val_loss: 1.5072 - val_mae: 0.8060 - lr: 0.0010\n",
            "Epoch 35/500\n",
            "73/73 [==============================] - 3s 38ms/step - loss: 0.8986 - mae: 0.6413 - val_loss: 1.5053 - val_mae: 0.8106 - lr: 0.0010\n",
            "Epoch 36/500\n",
            "73/73 [==============================] - 3s 38ms/step - loss: 0.8961 - mae: 0.6403 - val_loss: 1.5090 - val_mae: 0.8005 - lr: 0.0010\n",
            "Epoch 37/500\n",
            "73/73 [==============================] - 3s 38ms/step - loss: 0.8915 - mae: 0.6380 - val_loss: 1.5171 - val_mae: 0.8141 - lr: 0.0010\n",
            "Epoch 38/500\n",
            "73/73 [==============================] - 3s 38ms/step - loss: 0.8897 - mae: 0.6369 - val_loss: 1.5191 - val_mae: 0.8065 - lr: 0.0010\n",
            "Epoch 39/500\n",
            "73/73 [==============================] - 3s 38ms/step - loss: 0.8847 - mae: 0.6353 - val_loss: 1.5103 - val_mae: 0.8081 - lr: 0.0010\n",
            "Epoch 40/500\n",
            "73/73 [==============================] - 3s 38ms/step - loss: 0.8761 - mae: 0.6331 - val_loss: 1.5081 - val_mae: 0.8160 - lr: 0.0010\n",
            "Epoch 41/500\n",
            "73/73 [==============================] - 3s 38ms/step - loss: 0.8740 - mae: 0.6319 - val_loss: 1.5081 - val_mae: 0.8199 - lr: 0.0010\n",
            "Epoch 42/500\n",
            "73/73 [==============================] - 3s 38ms/step - loss: 0.8727 - mae: 0.6308 - val_loss: 1.5212 - val_mae: 0.8124 - lr: 0.0010\n",
            "Epoch 43/500\n",
            "73/73 [==============================] - 3s 38ms/step - loss: 0.8705 - mae: 0.6295 - val_loss: 1.5230 - val_mae: 0.8013 - lr: 0.0010\n",
            "Epoch 44/500\n",
            "73/73 [==============================] - 3s 38ms/step - loss: 0.8614 - mae: 0.6270 - val_loss: 1.5144 - val_mae: 0.8049 - lr: 0.0010\n",
            "Epoch 45/500\n",
            "73/73 [==============================] - 3s 38ms/step - loss: 0.8559 - mae: 0.6253 - val_loss: 1.5173 - val_mae: 0.7987 - lr: 0.0010\n",
            "Epoch 46/500\n",
            "73/73 [==============================] - 3s 39ms/step - loss: 0.8569 - mae: 0.6248 - val_loss: 1.5224 - val_mae: 0.8053 - lr: 0.0010\n",
            "Epoch 47/500\n",
            "73/73 [==============================] - 3s 38ms/step - loss: 0.8543 - mae: 0.6233 - val_loss: 1.5179 - val_mae: 0.7962 - lr: 0.0010\n",
            "Epoch 48/500\n",
            "73/73 [==============================] - 3s 38ms/step - loss: 0.8463 - mae: 0.6209 - val_loss: 1.5187 - val_mae: 0.8057 - lr: 0.0010\n",
            "Epoch 49/500\n",
            "73/73 [==============================] - 3s 38ms/step - loss: 0.8455 - mae: 0.6198 - val_loss: 1.5314 - val_mae: 0.7977 - lr: 0.0010\n",
            "Epoch 50/500\n",
            "73/73 [==============================] - 3s 38ms/step - loss: 0.8434 - mae: 0.6184 - val_loss: 1.5216 - val_mae: 0.8098 - lr: 0.0010\n",
            "Epoch 51/500\n",
            "73/73 [==============================] - 3s 38ms/step - loss: 0.8391 - mae: 0.6168 - val_loss: 1.5232 - val_mae: 0.8118 - lr: 0.0010\n",
            "Epoch 52/500\n",
            "73/73 [==============================] - 3s 38ms/step - loss: 0.8370 - mae: 0.6156 - val_loss: 1.5251 - val_mae: 0.8095 - lr: 0.0010\n",
            "Epoch 53/500\n",
            "73/73 [==============================] - 3s 38ms/step - loss: 0.8349 - mae: 0.6141 - val_loss: 1.5208 - val_mae: 0.8148 - lr: 0.0010\n",
            "Epoch 54/500\n",
            "73/73 [==============================] - 3s 38ms/step - loss: 0.8361 - mae: 0.6135 - val_loss: 1.5216 - val_mae: 0.8117 - lr: 0.0010\n",
            "Epoch 55/500\n",
            "73/73 [==============================] - 3s 38ms/step - loss: 0.8291 - mae: 0.6113 - val_loss: 1.5321 - val_mae: 0.8073 - lr: 0.0010\n",
            "Epoch 56/500\n",
            "73/73 [==============================] - 3s 38ms/step - loss: 0.8262 - mae: 0.6098 - val_loss: 1.5459 - val_mae: 0.7952 - lr: 0.0010\n",
            "Epoch 57/500\n",
            "73/73 [==============================] - 3s 38ms/step - loss: 0.8259 - mae: 0.6090 - val_loss: 1.5261 - val_mae: 0.8070 - lr: 0.0010\n",
            "Epoch 58/500\n",
            "73/73 [==============================] - 3s 38ms/step - loss: 0.8183 - mae: 0.6068 - val_loss: 1.5306 - val_mae: 0.8058 - lr: 0.0010\n",
            "Epoch 59/500\n",
            "73/73 [==============================] - 3s 38ms/step - loss: 0.8167 - mae: 0.6056 - val_loss: 1.5413 - val_mae: 0.7947 - lr: 0.0010\n",
            "Epoch 60/500\n",
            "73/73 [==============================] - 3s 38ms/step - loss: 0.8194 - mae: 0.6045 - val_loss: 1.5367 - val_mae: 0.8199 - lr: 0.0010\n",
            "Epoch 61/500\n",
            "73/73 [==============================] - 3s 38ms/step - loss: 0.8199 - mae: 0.6039 - val_loss: 1.5574 - val_mae: 0.8020 - lr: 0.0010\n",
            "Epoch 62/500\n",
            "73/73 [==============================] - 3s 38ms/step - loss: 0.8152 - mae: 0.6023 - val_loss: 1.5365 - val_mae: 0.7968 - lr: 0.0010\n",
            "Epoch 63/500\n",
            "73/73 [==============================] - 3s 38ms/step - loss: 0.8068 - mae: 0.6004 - val_loss: 1.5258 - val_mae: 0.8092 - lr: 0.0010\n",
            "Epoch 64/500\n",
            "73/73 [==============================] - 3s 38ms/step - loss: 0.8079 - mae: 0.5997 - val_loss: 1.5429 - val_mae: 0.7969 - lr: 0.0010\n",
            "Epoch 65/500\n",
            "73/73 [==============================] - 3s 38ms/step - loss: 0.8023 - mae: 0.5977 - val_loss: 1.5205 - val_mae: 0.8219 - lr: 0.0010\n",
            "Epoch 66/500\n",
            "73/73 [==============================] - 3s 38ms/step - loss: 0.7949 - mae: 0.5959 - val_loss: 1.5352 - val_mae: 0.7997 - lr: 0.0010\n",
            "Epoch 67/500\n",
            "73/73 [==============================] - 3s 38ms/step - loss: 0.7972 - mae: 0.5953 - val_loss: 1.5362 - val_mae: 0.8220 - lr: 0.0010\n",
            "Epoch 68/500\n",
            "73/73 [==============================] - 3s 38ms/step - loss: 0.7986 - mae: 0.5945 - val_loss: 1.5408 - val_mae: 0.8132 - lr: 0.0010\n",
            "Epoch 69/500\n",
            "73/73 [==============================] - 3s 38ms/step - loss: 0.7982 - mae: 0.5932 - val_loss: 1.5493 - val_mae: 0.8220 - lr: 0.0010\n",
            "Epoch 70/500\n",
            "73/73 [==============================] - 3s 38ms/step - loss: 0.7988 - mae: 0.5923 - val_loss: 1.5385 - val_mae: 0.8017 - lr: 0.0010\n",
            "Epoch 71/500\n",
            "73/73 [==============================] - 3s 38ms/step - loss: 0.7962 - mae: 0.5910 - val_loss: 1.5536 - val_mae: 0.7949 - lr: 0.0010\n",
            "Epoch 72/500\n",
            "73/73 [==============================] - 3s 38ms/step - loss: 0.7926 - mae: 0.5894 - val_loss: 1.5423 - val_mae: 0.8209 - lr: 0.0010\n",
            "Epoch 73/500\n",
            "73/73 [==============================] - 3s 38ms/step - loss: 0.7884 - mae: 0.5880 - val_loss: 1.5326 - val_mae: 0.7947 - lr: 0.0010\n",
            "Epoch 74/500\n",
            "73/73 [==============================] - 3s 38ms/step - loss: 0.7850 - mae: 0.5865 - val_loss: 1.5402 - val_mae: 0.8169 - lr: 0.0010\n",
            "Epoch 75/500\n",
            "73/73 [==============================] - 3s 38ms/step - loss: 0.7866 - mae: 0.5859 - val_loss: 1.5555 - val_mae: 0.8132 - lr: 0.0010\n",
            "Epoch 76/500\n",
            "73/73 [==============================] - 3s 38ms/step - loss: 0.7834 - mae: 0.5841 - val_loss: 1.5464 - val_mae: 0.7966 - lr: 0.0010\n",
            "Epoch 77/500\n",
            "73/73 [==============================] - 3s 38ms/step - loss: 0.7806 - mae: 0.5827 - val_loss: 1.5375 - val_mae: 0.8299 - lr: 0.0010\n",
            "Epoch 78/500\n",
            "73/73 [==============================] - 3s 38ms/step - loss: 0.7810 - mae: 0.5819 - val_loss: 1.5333 - val_mae: 0.8093 - lr: 0.0010\n",
            "Epoch 79/500\n",
            "73/73 [==============================] - 3s 38ms/step - loss: 0.7756 - mae: 0.5794 - val_loss: 1.5512 - val_mae: 0.8071 - lr: 0.0010\n",
            "Epoch 80/500\n",
            "73/73 [==============================] - 3s 43ms/step - loss: 0.7735 - mae: 0.5782 - val_loss: 1.5344 - val_mae: 0.8287 - lr: 0.0010\n",
            "CPU times: user 3min 43s, sys: 11.4 s, total: 3min 54s\n",
            "Wall time: 3min 49s\n"
          ]
        }
      ],
      "source": [
        "%%time\n",
        "history = model.fit([user_ids_train, item_ids_train], ratings_train,\n",
        "                    epochs=500,validation_data=([user_ids_val, item_ids_val], ratings_val),\n",
        "                    batch_size=40000,verbose=1,callbacks=[early_stop, reduce_lr])"
      ]
    },
    {
      "cell_type": "code",
      "execution_count": null,
      "metadata": {
        "id": "2Off5YI9f-_T",
        "colab": {
          "base_uri": "https://localhost:8080/"
        },
        "outputId": "e385a5fb-59ab-4e94-85c6-8dc795d0eeda"
      },
      "outputs": [
        {
          "output_type": "stream",
          "name": "stdout",
          "text": [
            "30004/30004 [==============================] - 44s 1ms/step\n"
          ]
        }
      ],
      "source": [
        "# Predicciones\n",
        "y_true = ratings_test\n",
        "predictions = model.predict([user_ids_test, item_ids_test])"
      ]
    },
    {
      "cell_type": "code",
      "execution_count": null,
      "metadata": {
        "id": "w1BY-Sd0xJtc",
        "colab": {
          "base_uri": "https://localhost:8080/"
        },
        "outputId": "de6b7163-22b3-437e-d110-ef3d853fe49f"
      },
      "outputs": [
        {
          "output_type": "stream",
          "name": "stdout",
          "text": [
            "MSE: 1.329255684867118\n",
            "RMSE: 1.152933512769543\n",
            "MAE: 0.817851403492564\n",
            "MAPE: 40.6221620958358%\n"
          ]
        }
      ],
      "source": [
        "# MSE y RMSE\n",
        "mse = mean_squared_error(y_true, predictions)\n",
        "rmse = np.sqrt(mse)\n",
        "\n",
        "# MAE\n",
        "mae = mean_absolute_error(y_true, predictions)\n",
        "\n",
        "# MAPE\n",
        "def mean_absolute_percentage_error(y_true, y_pred):\n",
        "    y_true, y_pred = np.array(y_true), np.array(y_pred)\n",
        "    non_zero_idx = y_true != 0  # Para evitar divisiones por cero\n",
        "    return np.mean(np.abs((y_true[non_zero_idx] - y_pred[non_zero_idx]) / y_true[non_zero_idx])) * 100\n",
        "\n",
        "def compute_mape_by_batch(y_true, predictions, batch_size=50000):\n",
        "    mape_sum = 0\n",
        "    num_batches = int(np.ceil(len(y_true) / batch_size))\n",
        "\n",
        "    for i in range(num_batches):\n",
        "        start_idx = i * batch_size\n",
        "        end_idx = start_idx + batch_size\n",
        "\n",
        "        batch_y_true = y_true[start_idx:end_idx]\n",
        "        batch_predictions = predictions[start_idx:end_idx]\n",
        "\n",
        "        mape_sum += mean_absolute_percentage_error(batch_y_true, batch_predictions)\n",
        "\n",
        "    return mape_sum / num_batches\n",
        "\n",
        "# Luego llamas a la función\n",
        "mape = compute_mape_by_batch(y_true, predictions)\n",
        "\n",
        "print(f'MSE: {mse}')\n",
        "print(f'RMSE: {rmse}')\n",
        "print(f'MAE: {mae}')\n",
        "print(f'MAPE: {mape}%')"
      ]
    },
    {
      "cell_type": "markdown",
      "source": [
        "# Recomendación"
      ],
      "metadata": {
        "id": "UzpnhZ4Lixf6"
      }
    },
    {
      "cell_type": "code",
      "source": [
        "# Seleccionar un usuario al azar del conjunto de prueba\n",
        "usuario_id_test_encoded = random.choice(user_ids_test)\n",
        "\n",
        "# Decodificar el ID del usuario para obtener el ID original\n",
        "usuario_id_test = reviewerID_encoder.inverse_transform([usuario_id_test_encoded])[0]\n",
        "\n",
        "# Identificar los ítems que el usuario ha calificado en el conjunto de prueba\n",
        "indices_usuario = np.where(user_ids_test == usuario_id_test_encoded)[0]\n",
        "items_calificados_test_encoded = item_ids_test[indices_usuario]\n",
        "calificaciones_reales_test = ratings_test[indices_usuario]\n",
        "\n",
        "# Predecir las calificaciones para estos ítems\n",
        "calificaciones_predichas = model.predict([np.array([usuario_id_test_encoded] * len(items_calificados_test_encoded)), items_calificados_test_encoded])\n",
        "\n",
        "# Decodificar los ítems para obtener los ID originales\n",
        "items_calificados_test = asin_encoder.inverse_transform(items_calificados_test_encoded)\n",
        "\n",
        "# Comparar las calificaciones predichas con las reales\n",
        "comparacion = list(zip(items_calificados_test, calificaciones_reales_test, calificaciones_predichas.flatten()))\n",
        "\n",
        "# Mostrar las comparaciones\n",
        "print(f\"Recomendaciones para el usuario {usuario_id_test}:\")\n",
        "for item, real, predicha in comparacion:\n",
        "    print(f\"Ítem: {item}, Calificación Real: {real}, Calificación Predicha: {predicha}\")"
      ],
      "metadata": {
        "id": "GC-UEYfli0Qe",
        "colab": {
          "base_uri": "https://localhost:8080/"
        },
        "outputId": "6431a446-bead-4aa6-e039-c4f460d2116d"
      },
      "execution_count": null,
      "outputs": [
        {
          "output_type": "stream",
          "name": "stdout",
          "text": [
            "1/1 [==============================] - 0s 20ms/step\n",
            "Recomendaciones para el usuario AG1CUBQ9C8148:\n",
            "Ítem: B005APQXOM, Calificación Real: 5.0, Calificación Predicha: 4.0901780128479\n",
            "Ítem: B00KLFTV5Y, Calificación Real: 5.0, Calificación Predicha: 4.629362106323242\n"
          ]
        }
      ]
    },
    {
      "cell_type": "code",
      "source": [
        "# Seleccionar un usuario al azar del conjunto de prueba\n",
        "usuario_id_test_encoded = random.choice(user_ids_test)\n",
        "\n",
        "# Decodificar el ID del usuario para obtener el ID original\n",
        "usuario_id = reviewerID_encoder.inverse_transform([usuario_id_test_encoded])[0]\n",
        "\n",
        "# Lista de todos los ítems únicos en el dataset\n",
        "items_unicos = np.unique(data['asin'].values)\n",
        "\n",
        "# Ítems que el usuario ya ha calificado\n",
        "items_calificados = data[data['reviewerID_encoded'] == usuario_id_test_encoded]['asin'].tolist()\n",
        "\n",
        "# Ítems para predecir\n",
        "items_a_predecir = [item for item in items_unicos if item not in items_calificados]\n",
        "\n",
        "# Convierte los ítems a su representación codificada\n",
        "items_a_predecir_encoded = asin_encoder.transform(items_a_predecir)\n",
        "\n",
        "# Predecir la calificación para cada ítem no calificado\n",
        "predicciones = model.predict([np.array([usuario_id_test_encoded] * len(items_a_predecir_encoded)), items_a_predecir_encoded])\n",
        "\n",
        "# Emparejar cada ítem con su predicción\n",
        "items_predicciones = list(zip(items_a_predecir, predicciones.flatten()))\n",
        "\n",
        "# Ordenar por la calificación predicha más alta\n",
        "items_recomendados = sorted(items_predicciones, key=lambda x: x[1], reverse=True)\n",
        "\n",
        "# Tomar los top N recomendaciones\n",
        "top_n = 5\n",
        "top_recomendaciones = items_recomendados[:top_n]\n",
        "\n",
        "# Imprimir las recomendaciones\n",
        "print(f\"Recomendaciones para el usuario {usuario_id}:\")\n",
        "for item, calificacion in top_recomendaciones:\n",
        "    print(f\"Ítem: {item}, Calificación Predicha: {calificacion}\")"
      ],
      "metadata": {
        "id": "tVKVZhgKi0JG",
        "colab": {
          "base_uri": "https://localhost:8080/"
        },
        "outputId": "bdedf436-7a20-4d26-bf93-441f6f0fcbbc"
      },
      "execution_count": null,
      "outputs": [
        {
          "output_type": "stream",
          "name": "stdout",
          "text": [
            "4814/4814 [==============================] - 7s 1ms/step\n",
            "Recomendaciones para el usuario ASEA61QZ0EJ2:\n",
            "Ítem: B00CKXYWY0, Calificación Predicha: 5.060546875\n",
            "Ítem: B00PWYSGVO, Calificación Predicha: 5.051368236541748\n",
            "Ítem: B008KNKBTY, Calificación Predicha: 5.017468452453613\n",
            "Ítem: B00EBXHQNG, Calificación Predicha: 5.014233589172363\n",
            "Ítem: B017J1SCA2, Calificación Predicha: 5.013541221618652\n"
          ]
        }
      ]
    },
    {
      "cell_type": "markdown",
      "metadata": {
        "id": "YopA3D2Sw8AO"
      },
      "source": [
        "Estas métricas te ayudarán a tener una mejor idea del desempeño de tu modelo. Por ejemplo:\n",
        "\n",
        "MSE y RMSE son útiles cuando quieres penalizar grandes errores.\n",
        "\n",
        "MAE te da una idea del error medio sin considerar la dirección del error.\n",
        "\n",
        "MAPE es útil cuando quieres representar el error en términos porcentuales.\n",
        "\n",
        "Para una evaluación completa, es recomendable utilizar un conjunto de validación aparte (es decir, no solo depender del validation_split). Esto asegura que estás evaluando el desempeño en datos que el modelo nunca ha visto durante el entrenamiento."
      ]
    },
    {
      "cell_type": "markdown",
      "metadata": {
        "id": "_dgWsjHFlB67"
      },
      "source": [
        "En resumen, la elección del tipo de sistema de recomendación dependerá de la naturaleza del conjunto de datos, las características disponibles, las capacidades computacionales y el tipo de relaciones o interacciones que se desean capturar. A menudo, un enfoque híbrido (como el sistema que combina embeddings y redes neuronales) ofrece un buen equilibrio entre precisión y eficiencia."
      ]
    }
  ],
  "metadata": {
    "accelerator": "GPU",
    "colab": {
      "machine_shape": "hm",
      "provenance": []
    },
    "kernelspec": {
      "display_name": "Python 3 (ipykernel)",
      "language": "python",
      "name": "python3"
    },
    "language_info": {
      "codemirror_mode": {
        "name": "ipython",
        "version": 3
      },
      "file_extension": ".py",
      "mimetype": "text/x-python",
      "name": "python",
      "nbconvert_exporter": "python",
      "pygments_lexer": "ipython3",
      "version": "3.10.9"
    }
  },
  "nbformat": 4,
  "nbformat_minor": 0
}